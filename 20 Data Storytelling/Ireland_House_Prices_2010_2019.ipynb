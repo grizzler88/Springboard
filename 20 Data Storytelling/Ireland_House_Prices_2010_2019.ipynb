{
  "nbformat": 4,
  "nbformat_minor": 0,
  "metadata": {
    "colab": {
      "name": "Ireland_House_Prices_2010_2019.ipynb",
      "provenance": [],
      "collapsed_sections": [
        "h6U6jBxXMAdT",
        "cF1czh8pMDMg",
        "7DZ3QuYV5cPJ",
        "RjXeTERi6Bgb",
        "kjA7h_iv9WUx",
        "xHAPO0lUDR5L",
        "kJ-PyNG0N7Ip",
        "VV9Srmi4D3Pp",
        "P2VC-7LYgK6Y"
      ],
      "toc_visible": true,
      "authorship_tag": "ABX9TyN4k3v13beUKnyWmObEfDlb",
      "include_colab_link": true
    },
    "kernelspec": {
      "name": "python3",
      "display_name": "Python 3"
    }
  },
  "cells": [
    {
      "cell_type": "markdown",
      "metadata": {
        "id": "view-in-github",
        "colab_type": "text"
      },
      "source": [
        "<a href=\"https://colab.research.google.com/github/grizzler88/Springboard/blob/master/20%20Data%20Storytelling/Ireland_House_Prices_2010_2019.ipynb\" target=\"_parent\"><img src=\"https://colab.research.google.com/assets/colab-badge.svg\" alt=\"Open In Colab\"/></a>"
      ]
    },
    {
      "cell_type": "markdown",
      "metadata": {
        "id": "vwN-0yInqVmo"
      },
      "source": [
        "# Irish Housing Market (2010-2018)"
      ]
    },
    {
      "cell_type": "markdown",
      "metadata": {
        "id": "x45Y9p6I8T76"
      },
      "source": [
        "## Import Packages and Read File"
      ]
    },
    {
      "cell_type": "code",
      "metadata": {
        "id": "_fk3pn2b_tFv"
      },
      "source": [
        "import pandas as pd\r\n",
        "import matplotlib.pyplot as plt\r\n",
        "import seaborn as sns\r\n",
        "import numpy as np"
      ],
      "execution_count": 2,
      "outputs": []
    },
    {
      "cell_type": "code",
      "metadata": {
        "id": "iVPhW66EC6FM"
      },
      "source": [
        "df = pd.read_csv('Property_Price_Register_Ireland-05-04-2019.csv')"
      ],
      "execution_count": 3,
      "outputs": []
    },
    {
      "cell_type": "code",
      "metadata": {
        "colab": {
          "base_uri": "https://localhost:8080/",
          "height": 206
        },
        "id": "G8Bh5wlBDKM-",
        "outputId": "33ba9577-e6ce-4a9f-c3b2-1e7cdef74d6e"
      },
      "source": [
        "df.head()"
      ],
      "execution_count": 4,
      "outputs": [
        {
          "output_type": "execute_result",
          "data": {
            "text/html": [
              "<div>\n",
              "<style scoped>\n",
              "    .dataframe tbody tr th:only-of-type {\n",
              "        vertical-align: middle;\n",
              "    }\n",
              "\n",
              "    .dataframe tbody tr th {\n",
              "        vertical-align: top;\n",
              "    }\n",
              "\n",
              "    .dataframe thead th {\n",
              "        text-align: right;\n",
              "    }\n",
              "</style>\n",
              "<table border=\"1\" class=\"dataframe\">\n",
              "  <thead>\n",
              "    <tr style=\"text-align: right;\">\n",
              "      <th></th>\n",
              "      <th>Date of Sale (dd/mm/yyyy)</th>\n",
              "      <th>Address</th>\n",
              "      <th>Postal Code</th>\n",
              "      <th>County</th>\n",
              "      <th>Price (€)</th>\n",
              "      <th>Not Full Market Price</th>\n",
              "      <th>VAT Exclusive</th>\n",
              "      <th>Description of Property</th>\n",
              "    </tr>\n",
              "  </thead>\n",
              "  <tbody>\n",
              "    <tr>\n",
              "      <th>0</th>\n",
              "      <td>01/01/2010</td>\n",
              "      <td>5 Braemor Drive, Churchtown, Co.Dublin</td>\n",
              "      <td>NaN</td>\n",
              "      <td>Dublin</td>\n",
              "      <td>€343,000.00</td>\n",
              "      <td>No</td>\n",
              "      <td>No</td>\n",
              "      <td>Second-Hand Dwelling house /Apartment</td>\n",
              "    </tr>\n",
              "    <tr>\n",
              "      <th>1</th>\n",
              "      <td>03/01/2010</td>\n",
              "      <td>134 Ashewood Walk, Summerhill Lane, Portlaoise</td>\n",
              "      <td>NaN</td>\n",
              "      <td>Laois</td>\n",
              "      <td>€185,000.00</td>\n",
              "      <td>No</td>\n",
              "      <td>Yes</td>\n",
              "      <td>New Dwelling house /Apartment</td>\n",
              "    </tr>\n",
              "    <tr>\n",
              "      <th>2</th>\n",
              "      <td>04/01/2010</td>\n",
              "      <td>1 Meadow Avenue, Dundrum, Dublin 14</td>\n",
              "      <td>NaN</td>\n",
              "      <td>Dublin</td>\n",
              "      <td>€438,500.00</td>\n",
              "      <td>No</td>\n",
              "      <td>No</td>\n",
              "      <td>Second-Hand Dwelling house /Apartment</td>\n",
              "    </tr>\n",
              "    <tr>\n",
              "      <th>3</th>\n",
              "      <td>04/01/2010</td>\n",
              "      <td>1 The Haven, Mornington</td>\n",
              "      <td>NaN</td>\n",
              "      <td>Meath</td>\n",
              "      <td>€400,000.00</td>\n",
              "      <td>No</td>\n",
              "      <td>No</td>\n",
              "      <td>Second-Hand Dwelling house /Apartment</td>\n",
              "    </tr>\n",
              "    <tr>\n",
              "      <th>4</th>\n",
              "      <td>04/01/2010</td>\n",
              "      <td>11 Melville Heights, Kilkenny</td>\n",
              "      <td>NaN</td>\n",
              "      <td>Kilkenny</td>\n",
              "      <td>€160,000.00</td>\n",
              "      <td>No</td>\n",
              "      <td>No</td>\n",
              "      <td>Second-Hand Dwelling house /Apartment</td>\n",
              "    </tr>\n",
              "  </tbody>\n",
              "</table>\n",
              "</div>"
            ],
            "text/plain": [
              "  Date of Sale (dd/mm/yyyy)  ...                Description of Property\n",
              "0                01/01/2010  ...  Second-Hand Dwelling house /Apartment\n",
              "1                03/01/2010  ...          New Dwelling house /Apartment\n",
              "2                04/01/2010  ...  Second-Hand Dwelling house /Apartment\n",
              "3                04/01/2010  ...  Second-Hand Dwelling house /Apartment\n",
              "4                04/01/2010  ...  Second-Hand Dwelling house /Apartment\n",
              "\n",
              "[5 rows x 8 columns]"
            ]
          },
          "metadata": {
            "tags": []
          },
          "execution_count": 4
        }
      ]
    },
    {
      "cell_type": "code",
      "metadata": {
        "colab": {
          "base_uri": "https://localhost:8080/"
        },
        "id": "Lhx_8DsJDRdG",
        "outputId": "63349d24-b5ea-4029-c6f7-dd79ab04b8b2"
      },
      "source": [
        "df.dtypes"
      ],
      "execution_count": 5,
      "outputs": [
        {
          "output_type": "execute_result",
          "data": {
            "text/plain": [
              "Date of Sale (dd/mm/yyyy)    object\n",
              "Address                      object\n",
              "Postal Code                  object\n",
              "County                       object\n",
              "Price (€)                    object\n",
              "Not Full Market Price        object\n",
              "VAT Exclusive                object\n",
              "Description of Property      object\n",
              "dtype: object"
            ]
          },
          "metadata": {
            "tags": []
          },
          "execution_count": 5
        }
      ]
    },
    {
      "cell_type": "code",
      "metadata": {
        "colab": {
          "base_uri": "https://localhost:8080/"
        },
        "id": "Sb7xoFjhIv4x",
        "outputId": "6a026fae-00c4-4054-9c8d-ffd1581d9857"
      },
      "source": [
        "for col in df.columns:\r\n",
        "  print(col, df[col].nunique())"
      ],
      "execution_count": 6,
      "outputs": [
        {
          "output_type": "stream",
          "text": [
            "Date of Sale (dd/mm/yyyy) 3136\n",
            "Address 335973\n",
            "Postal Code 31\n",
            "County 26\n",
            "Price (€) 23110\n",
            "Not Full Market Price 2\n",
            "VAT Exclusive 2\n",
            "Description of Property 6\n"
          ],
          "name": "stdout"
        }
      ]
    },
    {
      "cell_type": "markdown",
      "metadata": {
        "id": "AF7MI27DokOw"
      },
      "source": [
        "## Tidy Data"
      ]
    },
    {
      "cell_type": "markdown",
      "metadata": {
        "id": "237HdAzc-M8m"
      },
      "source": [
        "### Price"
      ]
    },
    {
      "cell_type": "markdown",
      "metadata": {
        "id": "GqJliIue8gkT"
      },
      "source": [
        "Price data is an object so we need to transform it into float data type."
      ]
    },
    {
      "cell_type": "code",
      "metadata": {
        "id": "Ktc19y4VDTJb"
      },
      "source": [
        "df['Price (€)'] = df['Price (€)'].str.replace('€', '')\r\n",
        "df['Price (€)'] = df['Price (€)'].str.replace(',', '')\r\n",
        "df['Price (€)'] = df['Price (€)'].astype('float')"
      ],
      "execution_count": 7,
      "outputs": []
    },
    {
      "cell_type": "code",
      "metadata": {
        "colab": {
          "base_uri": "https://localhost:8080/"
        },
        "id": "ksjD7GmXIDJw",
        "outputId": "9c967a21-ab33-4ba1-d9a9-91e50243e2de"
      },
      "source": [
        "df.dtypes"
      ],
      "execution_count": 8,
      "outputs": [
        {
          "output_type": "execute_result",
          "data": {
            "text/plain": [
              "Date of Sale (dd/mm/yyyy)     object\n",
              "Address                       object\n",
              "Postal Code                   object\n",
              "County                        object\n",
              "Price (€)                    float64\n",
              "Not Full Market Price         object\n",
              "VAT Exclusive                 object\n",
              "Description of Property       object\n",
              "dtype: object"
            ]
          },
          "metadata": {
            "tags": []
          },
          "execution_count": 8
        }
      ]
    },
    {
      "cell_type": "code",
      "metadata": {
        "id": "jpn-HyvP8xVn"
      },
      "source": [
        "df.rename(columns={'Price (€)': 'Price'}, inplace=True)"
      ],
      "execution_count": 9,
      "outputs": []
    },
    {
      "cell_type": "markdown",
      "metadata": {
        "id": "plEb55kR9-hC"
      },
      "source": [
        "### Date of Sale"
      ]
    },
    {
      "cell_type": "markdown",
      "metadata": {
        "id": "5-dmAUpV8qQA"
      },
      "source": [
        "Date of Sale data is an object so we need to transform it into datetime data type."
      ]
    },
    {
      "cell_type": "code",
      "metadata": {
        "id": "hCwtcOw3Dflb"
      },
      "source": [
        "df['Date of Sale'] = pd.to_datetime(df['Date of Sale (dd/mm/yyyy)'], dayfirst=True)"
      ],
      "execution_count": 10,
      "outputs": []
    },
    {
      "cell_type": "code",
      "metadata": {
        "id": "UDyZfPjD3d4_"
      },
      "source": [
        "df['Year'] = df['Date of Sale'].dt.year\r\n",
        "df['Month'] = df['Date of Sale'].dt.month_name()"
      ],
      "execution_count": 11,
      "outputs": []
    },
    {
      "cell_type": "markdown",
      "metadata": {
        "id": "46hEu66R9Pp3"
      },
      "source": [
        "Review to make sure date format correctly applied."
      ]
    },
    {
      "cell_type": "code",
      "metadata": {
        "colab": {
          "base_uri": "https://localhost:8080/",
          "height": 363
        },
        "id": "l-6P_FXQ3Dt-",
        "outputId": "8c5fab28-07fd-4ce4-aed7-c9792159afad"
      },
      "source": [
        "df[['Date of Sale (dd/mm/yyyy)', 'Date of Sale', 'Month']].sample(10)"
      ],
      "execution_count": 12,
      "outputs": [
        {
          "output_type": "execute_result",
          "data": {
            "text/html": [
              "<div>\n",
              "<style scoped>\n",
              "    .dataframe tbody tr th:only-of-type {\n",
              "        vertical-align: middle;\n",
              "    }\n",
              "\n",
              "    .dataframe tbody tr th {\n",
              "        vertical-align: top;\n",
              "    }\n",
              "\n",
              "    .dataframe thead th {\n",
              "        text-align: right;\n",
              "    }\n",
              "</style>\n",
              "<table border=\"1\" class=\"dataframe\">\n",
              "  <thead>\n",
              "    <tr style=\"text-align: right;\">\n",
              "      <th></th>\n",
              "      <th>Date of Sale (dd/mm/yyyy)</th>\n",
              "      <th>Date of Sale</th>\n",
              "      <th>Month</th>\n",
              "    </tr>\n",
              "  </thead>\n",
              "  <tbody>\n",
              "    <tr>\n",
              "      <th>339502</th>\n",
              "      <td>16/11/2018</td>\n",
              "      <td>2018-11-16</td>\n",
              "      <td>November</td>\n",
              "    </tr>\n",
              "    <tr>\n",
              "      <th>148856</th>\n",
              "      <td>31/03/2015</td>\n",
              "      <td>2015-03-31</td>\n",
              "      <td>March</td>\n",
              "    </tr>\n",
              "    <tr>\n",
              "      <th>227377</th>\n",
              "      <td>08/11/2016</td>\n",
              "      <td>2016-11-08</td>\n",
              "      <td>November</td>\n",
              "    </tr>\n",
              "    <tr>\n",
              "      <th>350937</th>\n",
              "      <td>24/01/2019</td>\n",
              "      <td>2019-01-24</td>\n",
              "      <td>January</td>\n",
              "    </tr>\n",
              "    <tr>\n",
              "      <th>8876</th>\n",
              "      <td>23/06/2010</td>\n",
              "      <td>2010-06-23</td>\n",
              "      <td>June</td>\n",
              "    </tr>\n",
              "    <tr>\n",
              "      <th>163267</th>\n",
              "      <td>21/07/2015</td>\n",
              "      <td>2015-07-21</td>\n",
              "      <td>July</td>\n",
              "    </tr>\n",
              "    <tr>\n",
              "      <th>137225</th>\n",
              "      <td>22/12/2014</td>\n",
              "      <td>2014-12-22</td>\n",
              "      <td>December</td>\n",
              "    </tr>\n",
              "    <tr>\n",
              "      <th>50689</th>\n",
              "      <td>25/07/2012</td>\n",
              "      <td>2012-07-25</td>\n",
              "      <td>July</td>\n",
              "    </tr>\n",
              "    <tr>\n",
              "      <th>125813</th>\n",
              "      <td>23/10/2014</td>\n",
              "      <td>2014-10-23</td>\n",
              "      <td>October</td>\n",
              "    </tr>\n",
              "    <tr>\n",
              "      <th>28641</th>\n",
              "      <td>01/07/2011</td>\n",
              "      <td>2011-07-01</td>\n",
              "      <td>July</td>\n",
              "    </tr>\n",
              "  </tbody>\n",
              "</table>\n",
              "</div>"
            ],
            "text/plain": [
              "       Date of Sale (dd/mm/yyyy) Date of Sale     Month\n",
              "339502                16/11/2018   2018-11-16  November\n",
              "148856                31/03/2015   2015-03-31     March\n",
              "227377                08/11/2016   2016-11-08  November\n",
              "350937                24/01/2019   2019-01-24   January\n",
              "8876                  23/06/2010   2010-06-23      June\n",
              "163267                21/07/2015   2015-07-21      July\n",
              "137225                22/12/2014   2014-12-22  December\n",
              "50689                 25/07/2012   2012-07-25      July\n",
              "125813                23/10/2014   2014-10-23   October\n",
              "28641                 01/07/2011   2011-07-01      July"
            ]
          },
          "metadata": {
            "tags": []
          },
          "execution_count": 12
        }
      ]
    },
    {
      "cell_type": "markdown",
      "metadata": {
        "id": "Rq02DyDd9lGi"
      },
      "source": [
        "Dataset is should only be until 05/04/19. Next piece of code is to confirm this."
      ]
    },
    {
      "cell_type": "code",
      "metadata": {
        "id": "hiYnwgB54gik"
      },
      "source": [
        "rev_2019 = df[df['Year'] == 2019][['Date of Sale', 'Year', 'Month', 'Price']]"
      ],
      "execution_count": 13,
      "outputs": []
    },
    {
      "cell_type": "code",
      "metadata": {
        "colab": {
          "base_uri": "https://localhost:8080/",
          "height": 206
        },
        "id": "UracNXyg5vrb",
        "outputId": "18b18411-ca7b-4b31-addb-598d5a6a844b"
      },
      "source": [
        "rev_2019.head()"
      ],
      "execution_count": 14,
      "outputs": [
        {
          "output_type": "execute_result",
          "data": {
            "text/html": [
              "<div>\n",
              "<style scoped>\n",
              "    .dataframe tbody tr th:only-of-type {\n",
              "        vertical-align: middle;\n",
              "    }\n",
              "\n",
              "    .dataframe tbody tr th {\n",
              "        vertical-align: top;\n",
              "    }\n",
              "\n",
              "    .dataframe thead th {\n",
              "        text-align: right;\n",
              "    }\n",
              "</style>\n",
              "<table border=\"1\" class=\"dataframe\">\n",
              "  <thead>\n",
              "    <tr style=\"text-align: right;\">\n",
              "      <th></th>\n",
              "      <th>Date of Sale</th>\n",
              "      <th>Year</th>\n",
              "      <th>Month</th>\n",
              "      <th>Price</th>\n",
              "    </tr>\n",
              "  </thead>\n",
              "  <tbody>\n",
              "    <tr>\n",
              "      <th>348795</th>\n",
              "      <td>2019-01-01</td>\n",
              "      <td>2019</td>\n",
              "      <td>January</td>\n",
              "      <td>60671.0</td>\n",
              "    </tr>\n",
              "    <tr>\n",
              "      <th>348796</th>\n",
              "      <td>2019-01-01</td>\n",
              "      <td>2019</td>\n",
              "      <td>January</td>\n",
              "      <td>30000.0</td>\n",
              "    </tr>\n",
              "    <tr>\n",
              "      <th>348797</th>\n",
              "      <td>2019-01-01</td>\n",
              "      <td>2019</td>\n",
              "      <td>January</td>\n",
              "      <td>30000.0</td>\n",
              "    </tr>\n",
              "    <tr>\n",
              "      <th>348798</th>\n",
              "      <td>2019-01-01</td>\n",
              "      <td>2019</td>\n",
              "      <td>January</td>\n",
              "      <td>130000.0</td>\n",
              "    </tr>\n",
              "    <tr>\n",
              "      <th>348799</th>\n",
              "      <td>2019-01-01</td>\n",
              "      <td>2019</td>\n",
              "      <td>January</td>\n",
              "      <td>15000.0</td>\n",
              "    </tr>\n",
              "  </tbody>\n",
              "</table>\n",
              "</div>"
            ],
            "text/plain": [
              "       Date of Sale  Year    Month     Price\n",
              "348795   2019-01-01  2019  January   60671.0\n",
              "348796   2019-01-01  2019  January   30000.0\n",
              "348797   2019-01-01  2019  January   30000.0\n",
              "348798   2019-01-01  2019  January  130000.0\n",
              "348799   2019-01-01  2019  January   15000.0"
            ]
          },
          "metadata": {
            "tags": []
          },
          "execution_count": 14
        }
      ]
    },
    {
      "cell_type": "code",
      "metadata": {
        "colab": {
          "base_uri": "https://localhost:8080/",
          "height": 388
        },
        "id": "uz3qDWoE5OA8",
        "outputId": "a5685df7-0621-4a95-a079-0fa842950492"
      },
      "source": [
        "_ = plt.figure(figsize=(10,6))\r\n",
        "_ = sns.barplot(data=rev_2019, x='Month', y='Price', color='lightblue')\r\n",
        "\r\n",
        "plt.show()"
      ],
      "execution_count": 15,
      "outputs": [
        {
          "output_type": "display_data",
          "data": {
            "image/png": "[encoded data removed]",
            "text/plain": [
              "<Figure size 720x432 with 1 Axes>"
            ]
          },
          "metadata": {
            "tags": [],
            "needs_background": "light"
          }
        }
      ]
    },
    {
      "cell_type": "markdown",
      "metadata": {
        "id": "t_jSFPGZ9_Ih"
      },
      "source": [
        "I will remove 2019 data as this is not for full year. I will also remove the original 'Date of Sale (dd/mm/yyyy)' as this is no longer required with new date field."
      ]
    },
    {
      "cell_type": "code",
      "metadata": {
        "id": "e-s-9KAq-U_2"
      },
      "source": [
        "df = df[df['Year'] != 2019]"
      ],
      "execution_count": 16,
      "outputs": []
    },
    {
      "cell_type": "code",
      "metadata": {
        "id": "ioCzQMUf-d2H"
      },
      "source": [
        "df.drop(columns=['Date of Sale (dd/mm/yyyy)'], inplace=True)"
      ],
      "execution_count": 17,
      "outputs": []
    },
    {
      "cell_type": "markdown",
      "metadata": {
        "id": "kcuMlsGm-15l"
      },
      "source": [
        "Review dataset to make sure code correctly altered."
      ]
    },
    {
      "cell_type": "code",
      "metadata": {
        "colab": {
          "base_uri": "https://localhost:8080/"
        },
        "id": "lgOnXfssIjOe",
        "outputId": "5b4a06f9-f1ad-45c4-f5de-7fdae1daa5d6"
      },
      "source": [
        "df.dtypes"
      ],
      "execution_count": 18,
      "outputs": [
        {
          "output_type": "execute_result",
          "data": {
            "text/plain": [
              "Address                            object\n",
              "Postal Code                        object\n",
              "County                             object\n",
              "Price                             float64\n",
              "Not Full Market Price              object\n",
              "VAT Exclusive                      object\n",
              "Description of Property            object\n",
              "Date of Sale               datetime64[ns]\n",
              "Year                                int64\n",
              "Month                              object\n",
              "dtype: object"
            ]
          },
          "metadata": {
            "tags": []
          },
          "execution_count": 18
        }
      ]
    },
    {
      "cell_type": "code",
      "metadata": {
        "colab": {
          "base_uri": "https://localhost:8080/",
          "height": 206
        },
        "id": "pqDrr_bna6YX",
        "outputId": "85186c52-394a-44db-87be-9be59f8e0695"
      },
      "source": [
        "df.head()"
      ],
      "execution_count": 19,
      "outputs": [
        {
          "output_type": "execute_result",
          "data": {
            "text/html": [
              "<div>\n",
              "<style scoped>\n",
              "    .dataframe tbody tr th:only-of-type {\n",
              "        vertical-align: middle;\n",
              "    }\n",
              "\n",
              "    .dataframe tbody tr th {\n",
              "        vertical-align: top;\n",
              "    }\n",
              "\n",
              "    .dataframe thead th {\n",
              "        text-align: right;\n",
              "    }\n",
              "</style>\n",
              "<table border=\"1\" class=\"dataframe\">\n",
              "  <thead>\n",
              "    <tr style=\"text-align: right;\">\n",
              "      <th></th>\n",
              "      <th>Address</th>\n",
              "      <th>Postal Code</th>\n",
              "      <th>County</th>\n",
              "      <th>Price</th>\n",
              "      <th>Not Full Market Price</th>\n",
              "      <th>VAT Exclusive</th>\n",
              "      <th>Description of Property</th>\n",
              "      <th>Date of Sale</th>\n",
              "      <th>Year</th>\n",
              "      <th>Month</th>\n",
              "    </tr>\n",
              "  </thead>\n",
              "  <tbody>\n",
              "    <tr>\n",
              "      <th>0</th>\n",
              "      <td>5 Braemor Drive, Churchtown, Co.Dublin</td>\n",
              "      <td>NaN</td>\n",
              "      <td>Dublin</td>\n",
              "      <td>343000.0</td>\n",
              "      <td>No</td>\n",
              "      <td>No</td>\n",
              "      <td>Second-Hand Dwelling house /Apartment</td>\n",
              "      <td>2010-01-01</td>\n",
              "      <td>2010</td>\n",
              "      <td>January</td>\n",
              "    </tr>\n",
              "    <tr>\n",
              "      <th>1</th>\n",
              "      <td>134 Ashewood Walk, Summerhill Lane, Portlaoise</td>\n",
              "      <td>NaN</td>\n",
              "      <td>Laois</td>\n",
              "      <td>185000.0</td>\n",
              "      <td>No</td>\n",
              "      <td>Yes</td>\n",
              "      <td>New Dwelling house /Apartment</td>\n",
              "      <td>2010-01-03</td>\n",
              "      <td>2010</td>\n",
              "      <td>January</td>\n",
              "    </tr>\n",
              "    <tr>\n",
              "      <th>2</th>\n",
              "      <td>1 Meadow Avenue, Dundrum, Dublin 14</td>\n",
              "      <td>NaN</td>\n",
              "      <td>Dublin</td>\n",
              "      <td>438500.0</td>\n",
              "      <td>No</td>\n",
              "      <td>No</td>\n",
              "      <td>Second-Hand Dwelling house /Apartment</td>\n",
              "      <td>2010-01-04</td>\n",
              "      <td>2010</td>\n",
              "      <td>January</td>\n",
              "    </tr>\n",
              "    <tr>\n",
              "      <th>3</th>\n",
              "      <td>1 The Haven, Mornington</td>\n",
              "      <td>NaN</td>\n",
              "      <td>Meath</td>\n",
              "      <td>400000.0</td>\n",
              "      <td>No</td>\n",
              "      <td>No</td>\n",
              "      <td>Second-Hand Dwelling house /Apartment</td>\n",
              "      <td>2010-01-04</td>\n",
              "      <td>2010</td>\n",
              "      <td>January</td>\n",
              "    </tr>\n",
              "    <tr>\n",
              "      <th>4</th>\n",
              "      <td>11 Melville Heights, Kilkenny</td>\n",
              "      <td>NaN</td>\n",
              "      <td>Kilkenny</td>\n",
              "      <td>160000.0</td>\n",
              "      <td>No</td>\n",
              "      <td>No</td>\n",
              "      <td>Second-Hand Dwelling house /Apartment</td>\n",
              "      <td>2010-01-04</td>\n",
              "      <td>2010</td>\n",
              "      <td>January</td>\n",
              "    </tr>\n",
              "  </tbody>\n",
              "</table>\n",
              "</div>"
            ],
            "text/plain": [
              "                                          Address Postal Code  ...  Year    Month\n",
              "0          5 Braemor Drive, Churchtown, Co.Dublin         NaN  ...  2010  January\n",
              "1  134 Ashewood Walk, Summerhill Lane, Portlaoise         NaN  ...  2010  January\n",
              "2             1 Meadow Avenue, Dundrum, Dublin 14         NaN  ...  2010  January\n",
              "3                         1 The Haven, Mornington         NaN  ...  2010  January\n",
              "4                   11 Melville Heights, Kilkenny         NaN  ...  2010  January\n",
              "\n",
              "[5 rows x 10 columns]"
            ]
          },
          "metadata": {
            "tags": []
          },
          "execution_count": 19
        }
      ]
    },
    {
      "cell_type": "code",
      "metadata": {
        "colab": {
          "base_uri": "https://localhost:8080/"
        },
        "id": "J2Xqd9wKJHxY",
        "outputId": "a3153f0e-094d-4164-e096-b89652bb6db9"
      },
      "source": [
        "df.shape"
      ],
      "execution_count": 20,
      "outputs": [
        {
          "output_type": "execute_result",
          "data": {
            "text/plain": [
              "(348795, 10)"
            ]
          },
          "metadata": {
            "tags": []
          },
          "execution_count": 20
        }
      ]
    },
    {
      "cell_type": "markdown",
      "metadata": {
        "id": "h6U6jBxXMAdT"
      },
      "source": [
        "### Property Type"
      ]
    },
    {
      "cell_type": "markdown",
      "metadata": {
        "id": "ekzOUq77J3tH"
      },
      "source": [
        "Next, I will look at Property Types to see if this can be altered. \r\n",
        "\r\n",
        "Reviewing it shows that some unique values are in English and others as Gaelige. My Irish is not great but I do remember that 'teach' means house as Gaelige, and 'nua' means new. This gives me enough information to group the Irish and English unique values into two name - New or Existing."
      ]
    },
    {
      "cell_type": "code",
      "metadata": {
        "colab": {
          "base_uri": "https://localhost:8080/"
        },
        "id": "z6gtA49cJJLl",
        "outputId": "9116596d-d019-4dbc-c19f-864817801c2e"
      },
      "source": [
        "df['Description of Property'].value_counts()"
      ],
      "execution_count": 21,
      "outputs": [
        {
          "output_type": "execute_result",
          "data": {
            "text/plain": [
              "Second-Hand Dwelling house /Apartment    294812\n",
              "New Dwelling house /Apartment             53954\n",
              "Teach/Árasán Cónaithe Atháimhe               26\n",
              "Teach/Árasán Cónaithe Nua                     2\n",
              "Teach/?ras?n C?naithe Nua                     1\n",
              "Name: Description of Property, dtype: int64"
            ]
          },
          "metadata": {
            "tags": []
          },
          "execution_count": 21
        }
      ]
    },
    {
      "cell_type": "code",
      "metadata": {
        "id": "M-tc6r2YJ29e"
      },
      "source": [
        "df['Property Type'] = df['Description of Property'].str.replace('Second-Hand Dwelling house /Apartment', 'Existing').replace('New Dwelling house /Apartment', 'New').replace('Teach/Árasán Cónaithe Atháimhe', 'Existing').replace('Teach/Árasán Cónaithe Nua', 'New').replace('Teach/?ras?n C?naithe Nua', 'New').replace('Second-Hand', 'Exiting')"
      ],
      "execution_count": 22,
      "outputs": []
    },
    {
      "cell_type": "code",
      "metadata": {
        "colab": {
          "base_uri": "https://localhost:8080/"
        },
        "id": "_kKZhSEYL1ot",
        "outputId": "0b36aceb-7c32-4dfc-b6cd-2377a2e76f05"
      },
      "source": [
        "df['Property Type'].value_counts()"
      ],
      "execution_count": 23,
      "outputs": [
        {
          "output_type": "execute_result",
          "data": {
            "text/plain": [
              "Existing    294838\n",
              "New          53957\n",
              "Name: Property Type, dtype: int64"
            ]
          },
          "metadata": {
            "tags": []
          },
          "execution_count": 23
        }
      ]
    },
    {
      "cell_type": "code",
      "metadata": {
        "id": "0ruulLyg-SUR"
      },
      "source": [
        "df.drop(columns='Description of Property', inplace=True)"
      ],
      "execution_count": 24,
      "outputs": []
    },
    {
      "cell_type": "markdown",
      "metadata": {
        "id": "cF1czh8pMDMg"
      },
      "source": [
        "### VAT and Full Market Price"
      ]
    },
    {
      "cell_type": "markdown",
      "metadata": {
        "id": "CTNUlVaXBsme"
      },
      "source": [
        "Both these variables are 'Yes' or 'No' so will leave as is. I will update name to make easier to call in future."
      ]
    },
    {
      "cell_type": "code",
      "metadata": {
        "colab": {
          "base_uri": "https://localhost:8080/"
        },
        "id": "IP5RM4esMFTd",
        "outputId": "4f56fe7e-d87d-42cf-c423-d60ea2d8b4be"
      },
      "source": [
        "df['VAT Exclusive'].value_counts()"
      ],
      "execution_count": 25,
      "outputs": [
        {
          "output_type": "execute_result",
          "data": {
            "text/plain": [
              "No     296114\n",
              "Yes     52681\n",
              "Name: VAT Exclusive, dtype: int64"
            ]
          },
          "metadata": {
            "tags": []
          },
          "execution_count": 25
        }
      ]
    },
    {
      "cell_type": "code",
      "metadata": {
        "colab": {
          "base_uri": "https://localhost:8080/"
        },
        "id": "fyFquTWdMJl9",
        "outputId": "5a881a2d-9152-4711-c245-0c5d283531d1"
      },
      "source": [
        "df['Not Full Market Price'].value_counts()"
      ],
      "execution_count": 26,
      "outputs": [
        {
          "output_type": "execute_result",
          "data": {
            "text/plain": [
              "No     332750\n",
              "Yes     16045\n",
              "Name: Not Full Market Price, dtype: int64"
            ]
          },
          "metadata": {
            "tags": []
          },
          "execution_count": 26
        }
      ]
    },
    {
      "cell_type": "code",
      "metadata": {
        "id": "ahrVDxDbFMlV"
      },
      "source": [
        "df.rename(columns={'VAT Exclusive': 'VAT_exc', 'Not Full Market Price':'Not_Full_Price'}, inplace=True)"
      ],
      "execution_count": 27,
      "outputs": []
    },
    {
      "cell_type": "markdown",
      "metadata": {
        "id": "7DZ3QuYV5cPJ"
      },
      "source": [
        "### Postal Code"
      ]
    },
    {
      "cell_type": "markdown",
      "metadata": {
        "id": "pvHUAtmy5fWk"
      },
      "source": [
        "Postal Codes have number of categories in Irish and is also the only column to contain NaN values. "
      ]
    },
    {
      "cell_type": "code",
      "metadata": {
        "colab": {
          "base_uri": "https://localhost:8080/"
        },
        "id": "92GUkBFsMTOS",
        "outputId": "ce082775-7eb4-4bbc-85b5-32ba9272c24a"
      },
      "source": [
        "df['Postal Code'].value_counts()"
      ],
      "execution_count": 28,
      "outputs": [
        {
          "output_type": "execute_result",
          "data": {
            "text/plain": [
              "Dublin 15               7874\n",
              "Dublin 18               4618\n",
              "Dublin 24               4161\n",
              "Dublin 8                3902\n",
              "Dublin 4                3844\n",
              "Dublin 7                3603\n",
              "Dublin 9                3582\n",
              "Dublin 11               3361\n",
              "Dublin 13               3275\n",
              "Dublin 12               3120\n",
              "Dublin 14               3117\n",
              "Dublin 6                3016\n",
              "Dublin 16               2993\n",
              "Dublin 3                2855\n",
              "Dublin 5                2517\n",
              "Dublin 1                2290\n",
              "Dublin 22               1750\n",
              "Dublin 2                1350\n",
              "Dublin 10                867\n",
              "Dublin 20                826\n",
              "Dublin 17                792\n",
              "Dublin 6w                519\n",
              "Ní Bhaineann               4\n",
              "Baile Átha Cliath 3        2\n",
              "Baile Átha Cliath 18       2\n",
              "Baile Átha Cliath 9        1\n",
              "Baile Átha Cliath 15       1\n",
              "Baile ?tha Cliath 17       1\n",
              "Baile Átha Cliath 4        1\n",
              "Baile Átha Cliath 14       1\n",
              "Baile Átha Cliath 5        1\n",
              "Name: Postal Code, dtype: int64"
            ]
          },
          "metadata": {
            "tags": []
          },
          "execution_count": 28
        }
      ]
    },
    {
      "cell_type": "code",
      "metadata": {
        "id": "QSvzGAUD2auX"
      },
      "source": [
        "df['Postal Code'] = df['Postal Code'].str.replace('Baile Átha Cliath', 'Dublin').replace('Baile ?tha Cliath 17', 'Dublin 17').replace('Ní Bhaineann', 'n/a')"
      ],
      "execution_count": 29,
      "outputs": []
    },
    {
      "cell_type": "code",
      "metadata": {
        "colab": {
          "base_uri": "https://localhost:8080/"
        },
        "id": "319Gu0Nb2ndB",
        "outputId": "5f8cfde3-bc46-4e4e-bda5-ead977ba619e"
      },
      "source": [
        "df['Postal Code'].value_counts()"
      ],
      "execution_count": 30,
      "outputs": [
        {
          "output_type": "execute_result",
          "data": {
            "text/plain": [
              "Dublin 15    7875\n",
              "Dublin 18    4620\n",
              "Dublin 24    4161\n",
              "Dublin 8     3902\n",
              "Dublin 4     3845\n",
              "Dublin 7     3603\n",
              "Dublin 9     3583\n",
              "Dublin 11    3361\n",
              "Dublin 13    3275\n",
              "Dublin 12    3120\n",
              "Dublin 14    3118\n",
              "Dublin 6     3016\n",
              "Dublin 16    2993\n",
              "Dublin 3     2857\n",
              "Dublin 5     2518\n",
              "Dublin 1     2290\n",
              "Dublin 22    1750\n",
              "Dublin 2     1350\n",
              "Dublin 10     867\n",
              "Dublin 20     826\n",
              "Dublin 17     793\n",
              "Dublin 6w     519\n",
              "n/a             4\n",
              "Name: Postal Code, dtype: int64"
            ]
          },
          "metadata": {
            "tags": []
          },
          "execution_count": 30
        }
      ]
    },
    {
      "cell_type": "code",
      "metadata": {
        "colab": {
          "base_uri": "https://localhost:8080/"
        },
        "id": "p59PsmrSMko6",
        "outputId": "fca16343-a1b8-4baa-f5bd-a0ef5c54383f"
      },
      "source": [
        "df['Postal Code'].isnull().sum(axis = 0)"
      ],
      "execution_count": 31,
      "outputs": [
        {
          "output_type": "execute_result",
          "data": {
            "text/plain": [
              "284549"
            ]
          },
          "metadata": {
            "tags": []
          },
          "execution_count": 31
        }
      ]
    },
    {
      "cell_type": "markdown",
      "metadata": {
        "id": "RjXeTERi6Bgb"
      },
      "source": [
        "### NaN Values"
      ]
    },
    {
      "cell_type": "markdown",
      "metadata": {
        "id": "_8COCfoyPTYI"
      },
      "source": [
        "Postal Code is only column with null values to deal with. We will fill these values with 'n/a' for time-being."
      ]
    },
    {
      "cell_type": "code",
      "metadata": {
        "colab": {
          "base_uri": "https://localhost:8080/"
        },
        "id": "tENOsHpcPA8V",
        "outputId": "fda754b9-38fa-40ff-8fc2-680a7c97fac1"
      },
      "source": [
        "for x in df.columns:\r\n",
        "  print(x, ' number of Null Values: ', df[x].isnull().sum(axis = 0))"
      ],
      "execution_count": 32,
      "outputs": [
        {
          "output_type": "stream",
          "text": [
            "Address  number of Null Values:  0\n",
            "Postal Code  number of Null Values:  284549\n",
            "County  number of Null Values:  0\n",
            "Price  number of Null Values:  0\n",
            "Not_Full_Price  number of Null Values:  0\n",
            "VAT_exc  number of Null Values:  0\n",
            "Date of Sale  number of Null Values:  0\n",
            "Year  number of Null Values:  0\n",
            "Month  number of Null Values:  0\n",
            "Property Type  number of Null Values:  0\n"
          ],
          "name": "stdout"
        }
      ]
    },
    {
      "cell_type": "code",
      "metadata": {
        "id": "WtgypSQG36qW"
      },
      "source": [
        "df = df.fillna('n/a')"
      ],
      "execution_count": 33,
      "outputs": []
    },
    {
      "cell_type": "code",
      "metadata": {
        "colab": {
          "base_uri": "https://localhost:8080/"
        },
        "id": "NgdiUACt4CR4",
        "outputId": "f124220c-e7ce-4a16-c14a-14749f828225"
      },
      "source": [
        "df['Postal Code'].isnull().sum(axis = 0)"
      ],
      "execution_count": 34,
      "outputs": [
        {
          "output_type": "execute_result",
          "data": {
            "text/plain": [
              "0"
            ]
          },
          "metadata": {
            "tags": []
          },
          "execution_count": 34
        }
      ]
    },
    {
      "cell_type": "code",
      "metadata": {
        "colab": {
          "base_uri": "https://localhost:8080/"
        },
        "id": "r1Ji9CG_6OdQ",
        "outputId": "12553ad6-46f8-4ebe-bc40-69e4dbc962d2"
      },
      "source": [
        "df['Postal Code'].value_counts()"
      ],
      "execution_count": 35,
      "outputs": [
        {
          "output_type": "execute_result",
          "data": {
            "text/plain": [
              "n/a          284553\n",
              "Dublin 15      7875\n",
              "Dublin 18      4620\n",
              "Dublin 24      4161\n",
              "Dublin 8       3902\n",
              "Dublin 4       3845\n",
              "Dublin 7       3603\n",
              "Dublin 9       3583\n",
              "Dublin 11      3361\n",
              "Dublin 13      3275\n",
              "Dublin 12      3120\n",
              "Dublin 14      3118\n",
              "Dublin 6       3016\n",
              "Dublin 16      2993\n",
              "Dublin 3       2857\n",
              "Dublin 5       2518\n",
              "Dublin 1       2290\n",
              "Dublin 22      1750\n",
              "Dublin 2       1350\n",
              "Dublin 10       867\n",
              "Dublin 20       826\n",
              "Dublin 17       793\n",
              "Dublin 6w       519\n",
              "Name: Postal Code, dtype: int64"
            ]
          },
          "metadata": {
            "tags": []
          },
          "execution_count": 35
        }
      ]
    },
    {
      "cell_type": "markdown",
      "metadata": {
        "id": "kjA7h_iv9WUx"
      },
      "source": [
        "### County"
      ]
    },
    {
      "cell_type": "markdown",
      "metadata": {
        "id": "kdKWNamrGNUx"
      },
      "source": [
        "There are 26 counties in Ireland and all are represented in the data."
      ]
    },
    {
      "cell_type": "code",
      "metadata": {
        "colab": {
          "base_uri": "https://localhost:8080/"
        },
        "id": "T4cFg1BGGbe3",
        "outputId": "10b33bb8-2c4a-4da5-88ec-021f144b7afd"
      },
      "source": [
        "df['County'].nunique()"
      ],
      "execution_count": 36,
      "outputs": [
        {
          "output_type": "execute_result",
          "data": {
            "text/plain": [
              "26"
            ]
          },
          "metadata": {
            "tags": []
          },
          "execution_count": 36
        }
      ]
    },
    {
      "cell_type": "code",
      "metadata": {
        "colab": {
          "base_uri": "https://localhost:8080/"
        },
        "id": "gXVgm8Od6PJX",
        "outputId": "eb26f6aa-7a99-48a5-e8f5-ff4c0728bcd7"
      },
      "source": [
        "df['County'].value_counts()"
      ],
      "execution_count": 37,
      "outputs": [
        {
          "output_type": "execute_result",
          "data": {
            "text/plain": [
              "Dublin       113989\n",
              "Cork          38042\n",
              "Galway        17912\n",
              "Kildare       16659\n",
              "Meath         13229\n",
              "Limerick      13038\n",
              "Wexford       11758\n",
              "Wicklow       10542\n",
              "Kerry         10254\n",
              "Donegal        9614\n",
              "Tipperary      9157\n",
              "Waterford      9130\n",
              "Louth          9100\n",
              "Mayo           8259\n",
              "Clare          8101\n",
              "Westmeath      6681\n",
              "Cavan          5518\n",
              "Kilkenny       5455\n",
              "Laois          5243\n",
              "Sligo          5219\n",
              "Roscommon      4967\n",
              "Offaly         4119\n",
              "Carlow         3772\n",
              "Leitrim        3224\n",
              "Longford       3025\n",
              "Monaghan       2788\n",
              "Name: County, dtype: int64"
            ]
          },
          "metadata": {
            "tags": []
          },
          "execution_count": 37
        }
      ]
    },
    {
      "cell_type": "markdown",
      "metadata": {
        "id": "xHAPO0lUDR5L"
      },
      "source": [
        "### Address"
      ]
    },
    {
      "cell_type": "markdown",
      "metadata": {
        "id": "_um-jcGrDUz2"
      },
      "source": [
        "I looked at splitting the Address field. While this would be useful for analysis - due to how messy this field is and given the scope of this project - I will leave making this too precise for now."
      ]
    },
    {
      "cell_type": "code",
      "metadata": {
        "colab": {
          "base_uri": "https://localhost:8080/"
        },
        "id": "auslIPIq9iR4",
        "outputId": "cfe110bc-c8f6-472e-a8c7-daef442d7d3e"
      },
      "source": [
        "df.dtypes"
      ],
      "execution_count": 38,
      "outputs": [
        {
          "output_type": "execute_result",
          "data": {
            "text/plain": [
              "Address                   object\n",
              "Postal Code               object\n",
              "County                    object\n",
              "Price                    float64\n",
              "Not_Full_Price            object\n",
              "VAT_exc                   object\n",
              "Date of Sale      datetime64[ns]\n",
              "Year                       int64\n",
              "Month                     object\n",
              "Property Type             object\n",
              "dtype: object"
            ]
          },
          "metadata": {
            "tags": []
          },
          "execution_count": 38
        }
      ]
    },
    {
      "cell_type": "code",
      "metadata": {
        "id": "Qf2Ekr88Ailp"
      },
      "source": [
        "df[['Address 1', 'Address 2', 'Address 3']] = df['Address'].str.split(',', expand=True)"
      ],
      "execution_count": 39,
      "outputs": []
    },
    {
      "cell_type": "code",
      "metadata": {
        "colab": {
          "base_uri": "https://localhost:8080/"
        },
        "id": "8M9jvjyACEc6",
        "outputId": "1965f3e3-ad50-4e3f-efa7-b54be0e17692"
      },
      "source": [
        "for col in df.columns:\r\n",
        "  print(col, df[col].nunique())"
      ],
      "execution_count": 40,
      "outputs": [
        {
          "output_type": "stream",
          "text": [
            "Address 332641\n",
            "Postal Code 23\n",
            "County 26\n",
            "Price 22974\n",
            "Not_Full_Price 2\n",
            "VAT_exc 2\n",
            "Date of Sale 3102\n",
            "Year 9\n",
            "Month 12\n",
            "Property Type 2\n",
            "Address 1 288504\n",
            "Address 2 47081\n",
            "Address 3 13304\n"
          ],
          "name": "stdout"
        }
      ]
    },
    {
      "cell_type": "code",
      "metadata": {
        "colab": {
          "base_uri": "https://localhost:8080/"
        },
        "id": "Xvad6ihdCVCp",
        "outputId": "d96cf1f0-5525-4a66-a087-1e032237d55d"
      },
      "source": [
        "df['Address 3'].value_counts()"
      ],
      "execution_count": 41,
      "outputs": [
        {
          "output_type": "execute_result",
          "data": {
            "text/plain": [
              " DUBLIN                11310\n",
              " CORK                   9509\n",
              " GALWAY                 5984\n",
              " LIMERICK               5093\n",
              " KILDARE                4040\n",
              "                       ...  \n",
              " Ballyfoyle                1\n",
              " KYLEBRACK LOUGHREA        1\n",
              " Ridgewoods  Swords        1\n",
              " RUSBBROOK                 1\n",
              " Ballylarkin               1\n",
              "Name: Address 3, Length: 13304, dtype: int64"
            ]
          },
          "metadata": {
            "tags": []
          },
          "execution_count": 41
        }
      ]
    },
    {
      "cell_type": "markdown",
      "metadata": {
        "id": "V-xwnZn5Z57K"
      },
      "source": [
        "## EDA"
      ]
    },
    {
      "cell_type": "markdown",
      "metadata": {
        "id": "kJ-PyNG0N7Ip"
      },
      "source": [
        "### Outliers"
      ]
    },
    {
      "cell_type": "markdown",
      "metadata": {
        "id": "1zkLED03N9sO"
      },
      "source": [
        "Plots below show that there is a signficant number of outliers in the upper end of the data."
      ]
    },
    {
      "cell_type": "code",
      "metadata": {
        "colab": {
          "base_uri": "https://localhost:8080/",
          "height": 301
        },
        "id": "nwivX1kaI6fq",
        "outputId": "17bdd7cb-d81c-46ab-ad74-ff3916ad080c"
      },
      "source": [
        "df.describe()"
      ],
      "execution_count": 42,
      "outputs": [
        {
          "output_type": "execute_result",
          "data": {
            "text/html": [
              "<div>\n",
              "<style scoped>\n",
              "    .dataframe tbody tr th:only-of-type {\n",
              "        vertical-align: middle;\n",
              "    }\n",
              "\n",
              "    .dataframe tbody tr th {\n",
              "        vertical-align: top;\n",
              "    }\n",
              "\n",
              "    .dataframe thead th {\n",
              "        text-align: right;\n",
              "    }\n",
              "</style>\n",
              "<table border=\"1\" class=\"dataframe\">\n",
              "  <thead>\n",
              "    <tr style=\"text-align: right;\">\n",
              "      <th></th>\n",
              "      <th>Price</th>\n",
              "      <th>Year</th>\n",
              "    </tr>\n",
              "  </thead>\n",
              "  <tbody>\n",
              "    <tr>\n",
              "      <th>count</th>\n",
              "      <td>3.487950e+05</td>\n",
              "      <td>348795.000000</td>\n",
              "    </tr>\n",
              "    <tr>\n",
              "      <th>mean</th>\n",
              "      <td>2.403005e+05</td>\n",
              "      <td>2014.918984</td>\n",
              "    </tr>\n",
              "    <tr>\n",
              "      <th>std</th>\n",
              "      <td>6.355327e+05</td>\n",
              "      <td>2.388066</td>\n",
              "    </tr>\n",
              "    <tr>\n",
              "      <th>min</th>\n",
              "      <td>5.079000e+03</td>\n",
              "      <td>2010.000000</td>\n",
              "    </tr>\n",
              "    <tr>\n",
              "      <th>25%</th>\n",
              "      <td>1.040000e+05</td>\n",
              "      <td>2013.000000</td>\n",
              "    </tr>\n",
              "    <tr>\n",
              "      <th>50%</th>\n",
              "      <td>1.800000e+05</td>\n",
              "      <td>2015.000000</td>\n",
              "    </tr>\n",
              "    <tr>\n",
              "      <th>75%</th>\n",
              "      <td>2.850000e+05</td>\n",
              "      <td>2017.000000</td>\n",
              "    </tr>\n",
              "    <tr>\n",
              "      <th>max</th>\n",
              "      <td>1.391650e+08</td>\n",
              "      <td>2018.000000</td>\n",
              "    </tr>\n",
              "  </tbody>\n",
              "</table>\n",
              "</div>"
            ],
            "text/plain": [
              "              Price           Year\n",
              "count  3.487950e+05  348795.000000\n",
              "mean   2.403005e+05    2014.918984\n",
              "std    6.355327e+05       2.388066\n",
              "min    5.079000e+03    2010.000000\n",
              "25%    1.040000e+05    2013.000000\n",
              "50%    1.800000e+05    2015.000000\n",
              "75%    2.850000e+05    2017.000000\n",
              "max    1.391650e+08    2018.000000"
            ]
          },
          "metadata": {
            "tags": []
          },
          "execution_count": 42
        }
      ]
    },
    {
      "cell_type": "code",
      "metadata": {
        "id": "QWRd7Ol4JHBi"
      },
      "source": [
        "df['Price_thousands'] = df['Price'] / 1000"
      ],
      "execution_count": 43,
      "outputs": []
    },
    {
      "cell_type": "code",
      "metadata": {
        "id": "odiTG_xqKDi9"
      },
      "source": [
        "df['Year'] = df['Year'].astype('object')"
      ],
      "execution_count": 44,
      "outputs": []
    },
    {
      "cell_type": "code",
      "metadata": {
        "colab": {
          "base_uri": "https://localhost:8080/",
          "height": 301
        },
        "id": "fcEJZYWUJWBJ",
        "outputId": "4ab6cac6-a30c-42bd-de64-12c5aaaed23d"
      },
      "source": [
        "df.describe()"
      ],
      "execution_count": 45,
      "outputs": [
        {
          "output_type": "execute_result",
          "data": {
            "text/html": [
              "<div>\n",
              "<style scoped>\n",
              "    .dataframe tbody tr th:only-of-type {\n",
              "        vertical-align: middle;\n",
              "    }\n",
              "\n",
              "    .dataframe tbody tr th {\n",
              "        vertical-align: top;\n",
              "    }\n",
              "\n",
              "    .dataframe thead th {\n",
              "        text-align: right;\n",
              "    }\n",
              "</style>\n",
              "<table border=\"1\" class=\"dataframe\">\n",
              "  <thead>\n",
              "    <tr style=\"text-align: right;\">\n",
              "      <th></th>\n",
              "      <th>Price</th>\n",
              "      <th>Price_thousands</th>\n",
              "    </tr>\n",
              "  </thead>\n",
              "  <tbody>\n",
              "    <tr>\n",
              "      <th>count</th>\n",
              "      <td>3.487950e+05</td>\n",
              "      <td>348795.000000</td>\n",
              "    </tr>\n",
              "    <tr>\n",
              "      <th>mean</th>\n",
              "      <td>2.403005e+05</td>\n",
              "      <td>240.300536</td>\n",
              "    </tr>\n",
              "    <tr>\n",
              "      <th>std</th>\n",
              "      <td>6.355327e+05</td>\n",
              "      <td>635.532718</td>\n",
              "    </tr>\n",
              "    <tr>\n",
              "      <th>min</th>\n",
              "      <td>5.079000e+03</td>\n",
              "      <td>5.079000</td>\n",
              "    </tr>\n",
              "    <tr>\n",
              "      <th>25%</th>\n",
              "      <td>1.040000e+05</td>\n",
              "      <td>104.000000</td>\n",
              "    </tr>\n",
              "    <tr>\n",
              "      <th>50%</th>\n",
              "      <td>1.800000e+05</td>\n",
              "      <td>180.000000</td>\n",
              "    </tr>\n",
              "    <tr>\n",
              "      <th>75%</th>\n",
              "      <td>2.850000e+05</td>\n",
              "      <td>285.000000</td>\n",
              "    </tr>\n",
              "    <tr>\n",
              "      <th>max</th>\n",
              "      <td>1.391650e+08</td>\n",
              "      <td>139165.000000</td>\n",
              "    </tr>\n",
              "  </tbody>\n",
              "</table>\n",
              "</div>"
            ],
            "text/plain": [
              "              Price  Price_thousands\n",
              "count  3.487950e+05    348795.000000\n",
              "mean   2.403005e+05       240.300536\n",
              "std    6.355327e+05       635.532718\n",
              "min    5.079000e+03         5.079000\n",
              "25%    1.040000e+05       104.000000\n",
              "50%    1.800000e+05       180.000000\n",
              "75%    2.850000e+05       285.000000\n",
              "max    1.391650e+08    139165.000000"
            ]
          },
          "metadata": {
            "tags": []
          },
          "execution_count": 45
        }
      ]
    },
    {
      "cell_type": "code",
      "metadata": {
        "colab": {
          "base_uri": "https://localhost:8080/",
          "height": 615
        },
        "id": "CARw29WEJ1ex",
        "outputId": "ea41ec7c-e177-4bb8-98f0-b14ac3cd40de"
      },
      "source": [
        "_ = plt.figure(figsize=(14, 10))\r\n",
        "_ = sns.boxplot(data=df, x='Year', y='Price_thousands', palette='summer')\r\n",
        "_ = plt.ylabel('Price (€, thousands)', fontsize=20)\r\n",
        "_ = plt.xlabel('Year', fontsize=20)\r\n",
        "_ = sns.despine()\r\n",
        "\r\n",
        "plt.show()"
      ],
      "execution_count": 46,
      "outputs": [
        {
          "output_type": "display_data",
          "data": {
            "image/png": "[encoded data removed]",
            "text/plain": [
              "<Figure size 1008x720 with 1 Axes>"
            ]
          },
          "metadata": {
            "tags": [],
            "needs_background": "light"
          }
        }
      ]
    },
    {
      "cell_type": "code",
      "metadata": {
        "colab": {
          "base_uri": "https://localhost:8080/",
          "height": 280
        },
        "id": "nAxQ2gKXIiLs",
        "outputId": "f59b8bb9-753c-4ec2-f432-8dea7f3bcc86"
      },
      "source": [
        "_ = sns.histplot(data=df, x='Price_thousands')\r\n",
        "\r\n",
        "plt.show()"
      ],
      "execution_count": 47,
      "outputs": [
        {
          "output_type": "display_data",
          "data": {
            "image/png": "[encoded data removed]",
            "text/plain": [
              "<Figure size 432x288 with 1 Axes>"
            ]
          },
          "metadata": {
            "tags": [],
            "needs_background": "light"
          }
        }
      ]
    },
    {
      "cell_type": "code",
      "metadata": {
        "id": "YoT-l0nt3I-x"
      },
      "source": [
        "def ecdf(data):\r\n",
        "    \"\"\"Compute ECDF for a one-dimensional array of measurements.\"\"\"\r\n",
        "    # Number of data points: n\r\n",
        "    n = len(data)\r\n",
        "\r\n",
        "    # x-data for the ECDF: x\r\n",
        "    x = np.sort(data)\r\n",
        "\r\n",
        "    # y-data for the ECDF: y\r\n",
        "    y = np.arange(1, n+1) / n\r\n",
        "\r\n",
        "    return x, y"
      ],
      "execution_count": 48,
      "outputs": []
    },
    {
      "cell_type": "code",
      "metadata": {
        "colab": {
          "base_uri": "https://localhost:8080/",
          "height": 295
        },
        "id": "3Zg5RDbU26v3",
        "outputId": "b016a000-361e-4e2b-eaab-02fd7688da46"
      },
      "source": [
        "# Compute ECDF\r\n",
        "x_price, y_price = ecdf(df.Price)\r\n",
        "\r\n",
        "# Generate plot\r\n",
        "_ = plt.plot(x_price, y_price, marker='.', linestyle='none')\r\n",
        "\r\n",
        "# Label the axes\r\n",
        "_ = plt.xlabel('House Price')\r\n",
        "_ = plt.ylabel('ECDF')\r\n",
        "_ = plt.title('House Price ECDF')\r\n",
        "\r\n",
        "# Display the plot\r\n",
        "plt.show()"
      ],
      "execution_count": 49,
      "outputs": [
        {
          "output_type": "display_data",
          "data": {
            "image/png": "[encoded data removed]",
            "text/plain": [
              "<Figure size 432x288 with 1 Axes>"
            ]
          },
          "metadata": {
            "tags": [],
            "needs_background": "light"
          }
        }
      ]
    },
    {
      "cell_type": "code",
      "metadata": {
        "id": "ghIybiwo3nfJ"
      },
      "source": [
        "#from scipy import stats\r\n",
        "\r\n",
        "#df[(np.abs(stats.zscore(df)) < 3).all(axis=1)]"
      ],
      "execution_count": 50,
      "outputs": []
    },
    {
      "cell_type": "code",
      "metadata": {
        "id": "Z64Ou-EU4y4m"
      },
      "source": [
        "mean = df['Price'].mean()\r\n",
        "std = df['Price'].std()\r\n",
        "cut_off = std * 3\r\n",
        "\r\n",
        "lower, upper = mean - cut_off, mean + cut_off\r\n",
        "\r\n",
        "df_no_outliers = df[(df['Price'] < upper) & (df['Price'] > lower)]\r\n",
        "df_outliers = df[(df['Price'] > upper) | (df['Price'] < lower)]"
      ],
      "execution_count": 51,
      "outputs": []
    },
    {
      "cell_type": "code",
      "metadata": {
        "colab": {
          "base_uri": "https://localhost:8080/",
          "height": 280
        },
        "id": "KgcJsC6y7CWD",
        "outputId": "75607204-26b3-43d4-c18f-b9b1a52622f4"
      },
      "source": [
        "_ = sns.histplot(data=df_no_outliers, x='Price_thousands')\r\n",
        "\r\n",
        "plt.show()"
      ],
      "execution_count": 52,
      "outputs": [
        {
          "output_type": "display_data",
          "data": {
            "image/png": "[encoded data removed]",
            "text/plain": [
              "<Figure size 432x288 with 1 Axes>"
            ]
          },
          "metadata": {
            "tags": [],
            "needs_background": "light"
          }
        }
      ]
    },
    {
      "cell_type": "code",
      "metadata": {
        "colab": {
          "base_uri": "https://localhost:8080/",
          "height": 295
        },
        "id": "NIiv_JzQ9PtF",
        "outputId": "dc84e5ff-c1fd-4638-d2d6-2dd79a16aa78"
      },
      "source": [
        "# Compute ECDF\r\n",
        "x_price, y_price = ecdf(df_no_outliers.Price)\r\n",
        "\r\n",
        "# Generate plot\r\n",
        "_ = plt.plot(x_price, y_price, marker='.', linestyle='none')\r\n",
        "\r\n",
        "# Label the axes\r\n",
        "_ = plt.xlabel('House Price')\r\n",
        "_ = plt.ylabel('ECDF')\r\n",
        "_ = plt.title('House Price ECDF')\r\n",
        "\r\n",
        "# Display the plot\r\n",
        "plt.show()"
      ],
      "execution_count": 53,
      "outputs": [
        {
          "output_type": "display_data",
          "data": {
            "image/png": "[encoded data removed]",
            "text/plain": [
              "<Figure size 432x288 with 1 Axes>"
            ]
          },
          "metadata": {
            "tags": [],
            "needs_background": "light"
          }
        }
      ]
    },
    {
      "cell_type": "code",
      "metadata": {
        "colab": {
          "base_uri": "https://localhost:8080/"
        },
        "id": "7pjD2rF_732K",
        "outputId": "0a8782ba-539d-41ae-9699-1e99ecd18edf"
      },
      "source": [
        "print(df.shape)\r\n",
        "print(df_no_outliers.shape)\r\n",
        "print(df_outliers.shape)"
      ],
      "execution_count": 54,
      "outputs": [
        {
          "output_type": "stream",
          "text": [
            "(348795, 14)\n",
            "(347918, 14)\n",
            "(877, 14)\n"
          ],
          "name": "stdout"
        }
      ]
    },
    {
      "cell_type": "code",
      "metadata": {
        "colab": {
          "base_uri": "https://localhost:8080/",
          "height": 280
        },
        "id": "VyyaEzyC7t8q",
        "outputId": "998b14cb-2129-47f3-8930-80c2a0da88a7"
      },
      "source": [
        "_ = sns.histplot(data=df_outliers, x='Price_thousands')\r\n",
        "\r\n",
        "plt.show()"
      ],
      "execution_count": 55,
      "outputs": [
        {
          "output_type": "display_data",
          "data": {
            "image/png": "[encoded data removed]",
            "text/plain": [
              "<Figure size 432x288 with 1 Axes>"
            ]
          },
          "metadata": {
            "tags": [],
            "needs_background": "light"
          }
        }
      ]
    },
    {
      "cell_type": "markdown",
      "metadata": {
        "id": "VV9Srmi4D3Pp"
      },
      "source": [
        "### Price Bins"
      ]
    },
    {
      "cell_type": "markdown",
      "metadata": {
        "id": "EG8MqCEXopWL"
      },
      "source": [
        "Break out data into pricing bins to understand if growth is only at upper end of market. Review shows that growth is both sales below and over €2m in value."
      ]
    },
    {
      "cell_type": "code",
      "metadata": {
        "id": "aajTTUgZR15e"
      },
      "source": [
        "price_min = np.percentile(df.Price, 0)\r\n",
        "price_1percentile = np.percentile(df.Price, 1)\r\n",
        "price_5percentile = np.percentile(df.Price, 5)\r\n",
        "price_10percentile = np.percentile(df.Price, 10)\r\n",
        "price_20percentile = np.percentile(df.Price, 20)\r\n",
        "price_40percentile = np.percentile(df.Price, 40)\r\n",
        "price_50percentile = np.percentile(df.Price, 50)\r\n",
        "price_60percentile = np.percentile(df.Price, 60)\r\n",
        "price_80percentile = np.percentile(df.Price, 80)\r\n",
        "price_90percentile = np.percentile(df.Price, 90)\r\n",
        "price_95percentile = np.percentile(df.Price, 95)\r\n",
        "price_99percentile = np.percentile(df.Price, 99)\r\n",
        "price_max = np.percentile(df.Price, 100)"
      ],
      "execution_count": 56,
      "outputs": []
    },
    {
      "cell_type": "code",
      "metadata": {
        "id": "aVWaqcyZOyoH"
      },
      "source": [
        "bins = [0, 200000, 500000, 1000000, 2000000, price_max]\r\n",
        "bin_labels = ['€200k or less', '€200k to €500k', '€500k to €1m', '€1m to €2m', '€2m or more']\r\n",
        "\r\n",
        "df['Price_Bins'] = pd.cut(df['Price'], bins=bins, labels=bin_labels)"
      ],
      "execution_count": 57,
      "outputs": []
    },
    {
      "cell_type": "code",
      "metadata": {
        "colab": {
          "base_uri": "https://localhost:8080/",
          "height": 206
        },
        "id": "Z9gRU0IlPnQq",
        "outputId": "184ca103-aabd-4fe4-9aa3-dca7275b83d7"
      },
      "source": [
        "yearbins_df = df.groupby(['Price_Bins', 'Year'])['Price'].agg(['count', 'sum']).reset_index()\r\n",
        "yearbins_df['2mill'] = yearbins_df['Price_Bins'].apply(lambda x: '€2m or more' if x == '€2m or more' else 'Less than €2m')\r\n",
        "\r\n",
        "yearbins_df.head()"
      ],
      "execution_count": 58,
      "outputs": [
        {
          "output_type": "execute_result",
          "data": {
            "text/html": [
              "<div>\n",
              "<style scoped>\n",
              "    .dataframe tbody tr th:only-of-type {\n",
              "        vertical-align: middle;\n",
              "    }\n",
              "\n",
              "    .dataframe tbody tr th {\n",
              "        vertical-align: top;\n",
              "    }\n",
              "\n",
              "    .dataframe thead th {\n",
              "        text-align: right;\n",
              "    }\n",
              "</style>\n",
              "<table border=\"1\" class=\"dataframe\">\n",
              "  <thead>\n",
              "    <tr style=\"text-align: right;\">\n",
              "      <th></th>\n",
              "      <th>Price_Bins</th>\n",
              "      <th>Year</th>\n",
              "      <th>count</th>\n",
              "      <th>sum</th>\n",
              "      <th>2mill</th>\n",
              "    </tr>\n",
              "  </thead>\n",
              "  <tbody>\n",
              "    <tr>\n",
              "      <th>0</th>\n",
              "      <td>€200k or less</td>\n",
              "      <td>2010</td>\n",
              "      <td>10449</td>\n",
              "      <td>1.394591e+09</td>\n",
              "      <td>Less than €2m</td>\n",
              "    </tr>\n",
              "    <tr>\n",
              "      <th>1</th>\n",
              "      <td>€200k or less</td>\n",
              "      <td>2011</td>\n",
              "      <td>11343</td>\n",
              "      <td>1.365659e+09</td>\n",
              "      <td>Less than €2m</td>\n",
              "    </tr>\n",
              "    <tr>\n",
              "      <th>2</th>\n",
              "      <td>€200k or less</td>\n",
              "      <td>2012</td>\n",
              "      <td>17555</td>\n",
              "      <td>1.956385e+09</td>\n",
              "      <td>Less than €2m</td>\n",
              "    </tr>\n",
              "    <tr>\n",
              "      <th>3</th>\n",
              "      <td>€200k or less</td>\n",
              "      <td>2013</td>\n",
              "      <td>20785</td>\n",
              "      <td>2.141030e+09</td>\n",
              "      <td>Less than €2m</td>\n",
              "    </tr>\n",
              "    <tr>\n",
              "      <th>4</th>\n",
              "      <td>€200k or less</td>\n",
              "      <td>2014</td>\n",
              "      <td>28619</td>\n",
              "      <td>3.029771e+09</td>\n",
              "      <td>Less than €2m</td>\n",
              "    </tr>\n",
              "  </tbody>\n",
              "</table>\n",
              "</div>"
            ],
            "text/plain": [
              "      Price_Bins  Year  count           sum          2mill\n",
              "0  €200k or less  2010  10449  1.394591e+09  Less than €2m\n",
              "1  €200k or less  2011  11343  1.365659e+09  Less than €2m\n",
              "2  €200k or less  2012  17555  1.956385e+09  Less than €2m\n",
              "3  €200k or less  2013  20785  2.141030e+09  Less than €2m\n",
              "4  €200k or less  2014  28619  3.029771e+09  Less than €2m"
            ]
          },
          "metadata": {
            "tags": []
          },
          "execution_count": 58
        }
      ]
    },
    {
      "cell_type": "code",
      "metadata": {
        "id": "NFfkU3wpCnF2"
      },
      "source": [
        "yearbins_df.rename(columns={'count':'Quantity', 'sum':'Revenue'}, inplace=True)"
      ],
      "execution_count": 59,
      "outputs": []
    },
    {
      "cell_type": "code",
      "metadata": {
        "colab": {
          "base_uri": "https://localhost:8080/",
          "height": 399
        },
        "id": "9G04KFRgCbd8",
        "outputId": "65695b61-3221-4c7a-9cee-df0206f7c30c"
      },
      "source": [
        "_ = plt.figure(figsize=(14, 6))\r\n",
        "_ = sns.barplot(data=yearbins_df, x='Year', y='Revenue', hue='2mill', ci=None)\r\n",
        "\r\n",
        "plt.show()"
      ],
      "execution_count": 60,
      "outputs": [
        {
          "output_type": "display_data",
          "data": {
            "image/png": "[encoded data removed]",
            "text/plain": [
              "<Figure size 1008x432 with 1 Axes>"
            ]
          },
          "metadata": {
            "tags": [],
            "needs_background": "light"
          }
        }
      ]
    },
    {
      "cell_type": "code",
      "metadata": {
        "colab": {
          "base_uri": "https://localhost:8080/",
          "height": 388
        },
        "id": "27dgmrmhDamH",
        "outputId": "c0e24d4d-0b20-47e8-b810-44e7479abf93"
      },
      "source": [
        "_ = plt.figure(figsize=(14, 6))\r\n",
        "_ = sns.barplot(data=yearbins_df, x='Year', y='Quantity', hue='2mill', ci=None)\r\n",
        "\r\n",
        "plt.show()"
      ],
      "execution_count": 61,
      "outputs": [
        {
          "output_type": "display_data",
          "data": {
            "image/png": "[encoded data removed]",
            "text/plain": [
              "<Figure size 1008x432 with 1 Axes>"
            ]
          },
          "metadata": {
            "tags": [],
            "needs_background": "light"
          }
        }
      ]
    },
    {
      "cell_type": "code",
      "metadata": {
        "colab": {
          "base_uri": "https://localhost:8080/",
          "height": 332
        },
        "id": "gAs88xWwS-B7",
        "outputId": "2e739bc2-68ee-40e1-9a97-b6e37dd17f49"
      },
      "source": [
        "yearbins_df.loc[(yearbins_df['Price_Bins']=='€2m or more')]"
      ],
      "execution_count": 62,
      "outputs": [
        {
          "output_type": "execute_result",
          "data": {
            "text/html": [
              "<div>\n",
              "<style scoped>\n",
              "    .dataframe tbody tr th:only-of-type {\n",
              "        vertical-align: middle;\n",
              "    }\n",
              "\n",
              "    .dataframe tbody tr th {\n",
              "        vertical-align: top;\n",
              "    }\n",
              "\n",
              "    .dataframe thead th {\n",
              "        text-align: right;\n",
              "    }\n",
              "</style>\n",
              "<table border=\"1\" class=\"dataframe\">\n",
              "  <thead>\n",
              "    <tr style=\"text-align: right;\">\n",
              "      <th></th>\n",
              "      <th>Price_Bins</th>\n",
              "      <th>Year</th>\n",
              "      <th>Quantity</th>\n",
              "      <th>Revenue</th>\n",
              "      <th>2mill</th>\n",
              "    </tr>\n",
              "  </thead>\n",
              "  <tbody>\n",
              "    <tr>\n",
              "      <th>36</th>\n",
              "      <td>€2m or more</td>\n",
              "      <td>2010</td>\n",
              "      <td>40</td>\n",
              "      <td>1.447036e+08</td>\n",
              "      <td>€2m or more</td>\n",
              "    </tr>\n",
              "    <tr>\n",
              "      <th>37</th>\n",
              "      <td>€2m or more</td>\n",
              "      <td>2011</td>\n",
              "      <td>31</td>\n",
              "      <td>1.124054e+08</td>\n",
              "      <td>€2m or more</td>\n",
              "    </tr>\n",
              "    <tr>\n",
              "      <th>38</th>\n",
              "      <td>€2m or more</td>\n",
              "      <td>2012</td>\n",
              "      <td>56</td>\n",
              "      <td>2.127240e+08</td>\n",
              "      <td>€2m or more</td>\n",
              "    </tr>\n",
              "    <tr>\n",
              "      <th>39</th>\n",
              "      <td>€2m or more</td>\n",
              "      <td>2013</td>\n",
              "      <td>81</td>\n",
              "      <td>5.264904e+08</td>\n",
              "      <td>€2m or more</td>\n",
              "    </tr>\n",
              "    <tr>\n",
              "      <th>40</th>\n",
              "      <td>€2m or more</td>\n",
              "      <td>2014</td>\n",
              "      <td>122</td>\n",
              "      <td>7.083126e+08</td>\n",
              "      <td>€2m or more</td>\n",
              "    </tr>\n",
              "    <tr>\n",
              "      <th>41</th>\n",
              "      <td>€2m or more</td>\n",
              "      <td>2015</td>\n",
              "      <td>101</td>\n",
              "      <td>5.173922e+08</td>\n",
              "      <td>€2m or more</td>\n",
              "    </tr>\n",
              "    <tr>\n",
              "      <th>42</th>\n",
              "      <td>€2m or more</td>\n",
              "      <td>2016</td>\n",
              "      <td>144</td>\n",
              "      <td>8.136070e+08</td>\n",
              "      <td>€2m or more</td>\n",
              "    </tr>\n",
              "    <tr>\n",
              "      <th>43</th>\n",
              "      <td>€2m or more</td>\n",
              "      <td>2017</td>\n",
              "      <td>193</td>\n",
              "      <td>7.723968e+08</td>\n",
              "      <td>€2m or more</td>\n",
              "    </tr>\n",
              "    <tr>\n",
              "      <th>44</th>\n",
              "      <td>€2m or more</td>\n",
              "      <td>2018</td>\n",
              "      <td>225</td>\n",
              "      <td>1.666564e+09</td>\n",
              "      <td>€2m or more</td>\n",
              "    </tr>\n",
              "  </tbody>\n",
              "</table>\n",
              "</div>"
            ],
            "text/plain": [
              "     Price_Bins  Year  Quantity       Revenue        2mill\n",
              "36  €2m or more  2010        40  1.447036e+08  €2m or more\n",
              "37  €2m or more  2011        31  1.124054e+08  €2m or more\n",
              "38  €2m or more  2012        56  2.127240e+08  €2m or more\n",
              "39  €2m or more  2013        81  5.264904e+08  €2m or more\n",
              "40  €2m or more  2014       122  7.083126e+08  €2m or more\n",
              "41  €2m or more  2015       101  5.173922e+08  €2m or more\n",
              "42  €2m or more  2016       144  8.136070e+08  €2m or more\n",
              "43  €2m or more  2017       193  7.723968e+08  €2m or more\n",
              "44  €2m or more  2018       225  1.666564e+09  €2m or more"
            ]
          },
          "metadata": {
            "tags": []
          },
          "execution_count": 62
        }
      ]
    },
    {
      "cell_type": "code",
      "metadata": {
        "id": "aq64-caFQ4d8"
      },
      "source": [
        "#print(price_min)\r\n",
        "#print(price_20percentile)\r\n",
        "#print(price_40percentile)\r\n",
        "#print(price_60percentile)\r\n",
        "#print(price_80percentile)\r\n",
        "#print(price_max)"
      ],
      "execution_count": 63,
      "outputs": []
    },
    {
      "cell_type": "markdown",
      "metadata": {
        "id": "c8zYFg7vN-eg"
      },
      "source": [
        "### Yearly Revenue (Market Size)"
      ]
    },
    {
      "cell_type": "markdown",
      "metadata": {
        "id": "5PVi55tSpOgQ"
      },
      "source": [
        "Look at how the total value of housing sales increased year by year."
      ]
    },
    {
      "cell_type": "code",
      "metadata": {
        "id": "ftd7YjboclVu"
      },
      "source": [
        "year_revenue = df.groupby(['Year'])['Price'].sum().reset_index()"
      ],
      "execution_count": 91,
      "outputs": []
    },
    {
      "cell_type": "code",
      "metadata": {
        "id": "CWHnPNJxcRf4"
      },
      "source": [
        "year_revenue['Price'] = year_revenue['Price'] / 1000000000"
      ],
      "execution_count": 92,
      "outputs": []
    },
    {
      "cell_type": "code",
      "metadata": {
        "id": "6ObC2yCCdDxx"
      },
      "source": [
        "year_revenue.rename(columns={'Price':'Revenue (billions)'}, inplace=True)"
      ],
      "execution_count": 93,
      "outputs": []
    },
    {
      "cell_type": "code",
      "metadata": {
        "colab": {
          "base_uri": "https://localhost:8080/",
          "height": 683
        },
        "id": "PztUCKzhdWAi",
        "outputId": "f30e50ad-c9b7-4fae-a476-faad72209784"
      },
      "source": [
        "_ = plt.figure(figsize=(20,8))\r\n",
        "_ = sns.barplot(data=year_revenue, x='Year', y='Revenue (billions)', color='lightgreen')\r\n",
        "_ = sns.despine()\r\n",
        "#_ = plt.figure.spines['right'].set_visible(False)\r\n",
        "#_ = plt.figure.spines['top'].set_visible(False)\r\n",
        "\r\n",
        "plt.show()\r\n",
        "\r\n",
        "print(year_revenue)"
      ],
      "execution_count": 94,
      "outputs": [
        {
          "output_type": "display_data",
          "data": {
            "image/png": "[encoded data removed]",
            "text/plain": [
              "<Figure size 1440x576 with 1 Axes>"
            ]
          },
          "metadata": {
            "tags": [],
            "needs_background": "light"
          }
        },
        {
          "output_type": "stream",
          "text": [
            "   Year  Revenue (billions)\n",
            "0  2010            5.097562\n",
            "1  2011            3.958984\n",
            "2  2012            4.904575\n",
            "3  2013            6.158529\n",
            "4  2014            9.354276\n",
            "5  2015           10.809077\n",
            "6  2016           12.186156\n",
            "7  2017           14.578404\n",
            "8  2018           16.768061\n"
          ],
          "name": "stdout"
        }
      ]
    },
    {
      "cell_type": "code",
      "metadata": {
        "id": "Q1gTOfICLkXa"
      },
      "source": [
        "year_cagr = ( (float(year_revenue.loc[(year_revenue.Year == 2018)]['Revenue (billions)']) / float(year_revenue.loc[(year_revenue.Year == 2010)]['Revenue (billions)']))  ** (1 / len(year_revenue.Year)) ) - 1"
      ],
      "execution_count": 95,
      "outputs": []
    },
    {
      "cell_type": "code",
      "metadata": {
        "colab": {
          "base_uri": "https://localhost:8080/"
        },
        "id": "MiErkyTpNPeN",
        "outputId": "6b5cbbc3-e4e0-4c94-aacc-0699de155511"
      },
      "source": [
        "print(round(year_cagr * 100, 2))"
      ],
      "execution_count": 96,
      "outputs": [
        {
          "output_type": "stream",
          "text": [
            "14.15\n"
          ],
          "name": "stdout"
        }
      ]
    },
    {
      "cell_type": "markdown",
      "metadata": {
        "id": "LMxxTCKoOIxw"
      },
      "source": [
        "### Yearly Quantity and Avg Price"
      ]
    },
    {
      "cell_type": "markdown",
      "metadata": {
        "id": "iJ1gJqfLpYo1"
      },
      "source": [
        "Look at how the volume of sales and average price of houses have increased year by year."
      ]
    },
    {
      "cell_type": "code",
      "metadata": {
        "id": "uyIemnJfOHsF"
      },
      "source": [
        "year_price_quantity = df.groupby(['Year'])['Price'].agg(['count', 'mean']).reset_index()"
      ],
      "execution_count": 97,
      "outputs": []
    },
    {
      "cell_type": "code",
      "metadata": {
        "id": "LlSWmjIEPbak"
      },
      "source": [
        "year_price_quantity.rename(columns={'count':'Quantity', 'mean':'Avg_Price'}, inplace=True)"
      ],
      "execution_count": 98,
      "outputs": []
    },
    {
      "cell_type": "code",
      "metadata": {
        "id": "tbixP8RJPpN2"
      },
      "source": [
        "#year_price_quantity.head()"
      ],
      "execution_count": 99,
      "outputs": []
    },
    {
      "cell_type": "code",
      "metadata": {
        "colab": {
          "base_uri": "https://localhost:8080/",
          "height": 729
        },
        "id": "ZU4Y0gjATMDX",
        "outputId": "60e10eca-3d5a-44c1-8bfb-12fc2f6b0232"
      },
      "source": [
        "fig, ax = plt.subplots(figsize = (16, 10)) \r\n",
        "#plt.title('Volume and Average Price (2010-2018)', fontsize=40) \r\n",
        "  \r\n",
        "# using the twinx() for creating another \r\n",
        "# axes object for secondry y-Axis \r\n",
        "ax2 = ax.twinx() \r\n",
        "ax.bar(year_price_quantity.Year, year_price_quantity.Quantity, color = 'lightgreen') \r\n",
        "ax2.plot(year_price_quantity.Year, year_price_quantity.Avg_Price, color = 'gold', linewidth=8) \r\n",
        "\r\n",
        "# Remove top border\r\n",
        "ax.spines['top'].set_visible(False)\r\n",
        "ax2.spines['top'].set_visible(False)\r\n",
        "\r\n",
        "# giving labels to the axises \r\n",
        "ax.set_xlabel('Year', fontsize=20) \r\n",
        "ax.set_ylabel('Volume', color = 'g', fontsize=20) \r\n",
        "\r\n",
        "# set x-tick marks\r\n",
        "ax.set_xticks(year_price_quantity.Year)\r\n",
        "\r\n",
        "# set y-labels\r\n",
        "ax.set_ylim(0,80000)\r\n",
        "ax2.set_ylim(0,400000)\r\n",
        "\r\n",
        "# secondary y-axis label \r\n",
        "ax2.set_ylabel('Average Price', color = 'gold', fontsize=20) \r\n",
        "  \r\n",
        "# defining display layout  \r\n",
        "plt.tight_layout() \r\n",
        "  \r\n",
        "# show plot \r\n",
        "plt.show()"
      ],
      "execution_count": 100,
      "outputs": [
        {
          "output_type": "display_data",
          "data": {
            "image/png": "[encoded data removed]",
            "text/plain": [
              "<Figure size 1152x720 with 2 Axes>"
            ]
          },
          "metadata": {
            "tags": [],
            "needs_background": "light"
          }
        }
      ]
    },
    {
      "cell_type": "code",
      "metadata": {
        "colab": {
          "base_uri": "https://localhost:8080/"
        },
        "id": "jWHx0IZShJYb",
        "outputId": "aad7b09a-f501-4547-a8a5-8f74acc965cd"
      },
      "source": [
        "print(year_price_quantity)"
      ],
      "execution_count": 101,
      "outputs": [
        {
          "output_type": "stream",
          "text": [
            "   Year  Quantity      Avg_Price\n",
            "0  2010     20975  243030.360938\n",
            "1  2011     18411  215033.635123\n",
            "2  2012     25339  193558.360266\n",
            "3  2013     30034  205051.906372\n",
            "4  2014     43572  214685.493197\n",
            "5  2015     49071  220274.227218\n",
            "6  2016     49735  245021.742879\n",
            "7  2017     54791  266072.974385\n",
            "8  2018     56867  294864.533019\n"
          ],
          "name": "stdout"
        }
      ]
    },
    {
      "cell_type": "code",
      "metadata": {
        "id": "MNFOBSvEgNLl"
      },
      "source": [
        "year_quantity_cagr = ( (float(year_price_quantity.loc[(year_price_quantity.Year == 2018)]['Quantity']) / float(year_price_quantity.loc[(year_price_quantity.Year == 2010)]['Quantity']))  ** (1 / len(year_price_quantity.Year)) ) - 1\r\n",
        "\r\n",
        "year_avgprice_cagr = ( (float(year_price_quantity.loc[(year_price_quantity.Year == 2018)]['Avg_Price']) / float(year_price_quantity.loc[(year_price_quantity.Year == 2010)]['Avg_Price']))  ** (1 / len(year_price_quantity.Year)) ) - 1"
      ],
      "execution_count": 102,
      "outputs": []
    },
    {
      "cell_type": "code",
      "metadata": {
        "colab": {
          "base_uri": "https://localhost:8080/"
        },
        "id": "qp5q3BgZg4sM",
        "outputId": "02ca82c4-d0c0-4642-a70b-81a241ac8bc2"
      },
      "source": [
        "print(round(year_quantity_cagr * 100, 2))\r\n",
        "print(round(year_avgprice_cagr * 100, 2))"
      ],
      "execution_count": 103,
      "outputs": [
        {
          "output_type": "stream",
          "text": [
            "11.72\n",
            "2.17\n"
          ],
          "name": "stdout"
        }
      ]
    },
    {
      "cell_type": "markdown",
      "metadata": {
        "id": "dRiM5_rniat5"
      },
      "source": [
        "### County Analysis"
      ]
    },
    {
      "cell_type": "markdown",
      "metadata": {
        "id": "xL16IZuqphW7"
      },
      "source": [
        "Look at total sales, sale volumes, average / min  / max prices by county for full dataset (2010-2018)."
      ]
    },
    {
      "cell_type": "code",
      "metadata": {
        "id": "-Ikv8xNNgZVd"
      },
      "source": [
        "county_price = df.groupby(['County'])['Price'].agg(['sum', 'mean', 'count', 'max', 'min']).reset_index()"
      ],
      "execution_count": 65,
      "outputs": []
    },
    {
      "cell_type": "code",
      "metadata": {
        "id": "0HHeIu65hner"
      },
      "source": [
        "county_price.rename(columns={'count':'Quantity', 'sum':'Revenue', 'mean':'Avg Price', 'max':'Max Price', 'min':'Min Price'}, inplace=True)"
      ],
      "execution_count": 66,
      "outputs": []
    },
    {
      "cell_type": "code",
      "metadata": {
        "id": "WcFlIhMPiG3h"
      },
      "source": [
        "county_price['Revenue (billions)'] = county_price['Revenue'] / 1000000000"
      ],
      "execution_count": 67,
      "outputs": []
    },
    {
      "cell_type": "code",
      "metadata": {
        "colab": {
          "base_uri": "https://localhost:8080/",
          "height": 639
        },
        "id": "-sDaNadZh4Fr",
        "outputId": "eae67e0e-507b-46b4-c514-4a58b79f113d"
      },
      "source": [
        "county_price = county_price.sort_values(by='Revenue', ascending=True)\r\n",
        "\r\n",
        "_ = plt.figure(figsize=(25, 10))\r\n",
        "_ = sns.barplot(data=county_price, x='County', y='Revenue (billions)', color='skyblue', ci=None)\r\n",
        "_ = sns.despine()\r\n",
        "\r\n",
        "_ = plt.title('Housing Market by County', fontsize=24)\r\n",
        "_ = plt.xlabel('County', fontsize=18)\r\n",
        "_ = plt.xticks(fontsize=10)\r\n",
        "_ = plt.ylabel('Revenue (€, billions)', fontsize=18)\r\n",
        "\r\n",
        "plt.show()"
      ],
      "execution_count": 68,
      "outputs": [
        {
          "output_type": "display_data",
          "data": {
            "image/png": "[encoded data removed]",
            "text/plain": [
              "<Figure size 1800x720 with 1 Axes>"
            ]
          },
          "metadata": {
            "tags": [],
            "needs_background": "light"
          }
        }
      ]
    },
    {
      "cell_type": "code",
      "metadata": {
        "colab": {
          "base_uri": "https://localhost:8080/",
          "height": 639
        },
        "id": "NAFUecvYjS44",
        "outputId": "cf365583-bf16-4363-ee95-a14c66566062"
      },
      "source": [
        "county_price = county_price.sort_values(by='Quantity', ascending=True)\r\n",
        "\r\n",
        "_ = plt.figure(figsize=(25, 10))\r\n",
        "_ = sns.barplot(data=county_price, x='County', y='Quantity', color='skyblue', ci=None)\r\n",
        "_ = sns.despine()\r\n",
        "\r\n",
        "_ = plt.title('Housing Sales by County', fontsize=24)\r\n",
        "_ = plt.xlabel('County', fontsize=18)\r\n",
        "_ = plt.xticks(fontsize=10)\r\n",
        "_ = plt.ylabel('Sales', fontsize=18)\r\n",
        "\r\n",
        "plt.show()"
      ],
      "execution_count": 69,
      "outputs": [
        {
          "output_type": "display_data",
          "data": {
            "image/png": "[encoded data removed]",
            "text/plain": [
              "<Figure size 1800x720 with 1 Axes>"
            ]
          },
          "metadata": {
            "tags": [],
            "needs_background": "light"
          }
        }
      ]
    },
    {
      "cell_type": "code",
      "metadata": {
        "colab": {
          "base_uri": "https://localhost:8080/",
          "height": 639
        },
        "id": "UVZjvksojgj8",
        "outputId": "13561f1a-a9b4-4789-f0dc-c19885454c2e"
      },
      "source": [
        "county_price = county_price.sort_values(by='Avg Price', ascending=True)\r\n",
        "\r\n",
        "_ = plt.figure(figsize=(25, 10))\r\n",
        "_ = sns.barplot(data=county_price, x='County', y='Avg Price', color='skyblue', ci=None)\r\n",
        "_ = sns.despine()\r\n",
        "\r\n",
        "_ = plt.title('Avg House Price by County', fontsize=24)\r\n",
        "_ = plt.xlabel('County', fontsize=18)\r\n",
        "_ = plt.xticks(fontsize=10)\r\n",
        "_ = plt.ylabel('Avg Price', fontsize=18)\r\n",
        "\r\n",
        "plt.show()"
      ],
      "execution_count": 70,
      "outputs": [
        {
          "output_type": "display_data",
          "data": {
            "image/png": "[encoded data removed]",
            "text/plain": [
              "<Figure size 1800x720 with 1 Axes>"
            ]
          },
          "metadata": {
            "tags": [],
            "needs_background": "light"
          }
        }
      ]
    },
    {
      "cell_type": "code",
      "metadata": {
        "colab": {
          "base_uri": "https://localhost:8080/",
          "height": 639
        },
        "id": "ROFH01YnkPrZ",
        "outputId": "043f765e-09e2-4a25-a602-285e454b8075"
      },
      "source": [
        "county_price = county_price.sort_values(by='Min Price', ascending=True)\r\n",
        "\r\n",
        "_ = plt.figure(figsize=(25, 10))\r\n",
        "_ = sns.barplot(data=county_price, x='County', y='Min Price', color='skyblue', ci=None)\r\n",
        "_ = sns.despine()\r\n",
        "\r\n",
        "_ = plt.title('Lowest Sale by County', fontsize=24)\r\n",
        "_ = plt.xlabel('County', fontsize=18)\r\n",
        "_ = plt.xticks(fontsize=10)\r\n",
        "_ = plt.ylabel('Price (€)', fontsize=18)\r\n",
        "\r\n",
        "plt.show()"
      ],
      "execution_count": 71,
      "outputs": [
        {
          "output_type": "display_data",
          "data": {
            "image/png": "[encoded data removed]",
            "text/plain": [
              "<Figure size 1800x720 with 1 Axes>"
            ]
          },
          "metadata": {
            "tags": [],
            "needs_background": "light"
          }
        }
      ]
    },
    {
      "cell_type": "code",
      "metadata": {
        "colab": {
          "base_uri": "https://localhost:8080/",
          "height": 639
        },
        "id": "ib2kPykTkaic",
        "outputId": "57999568-2a1e-47aa-c4ad-d121a3ebbd9c"
      },
      "source": [
        "county_price['Max Price (millions'] = county_price['Max Price'] / 1000000\r\n",
        "county_price = county_price.sort_values(by='Max Price', ascending=True)\r\n",
        "\r\n",
        "_ = plt.figure(figsize=(25, 10))\r\n",
        "_ = sns.barplot(data=county_price, x='County', y='Max Price (millions', color='skyblue', ci=None)\r\n",
        "_ = sns.despine()\r\n",
        "\r\n",
        "_ = plt.title('Highest Sale by County', fontsize=24)\r\n",
        "_ = plt.xlabel('County', fontsize=18)\r\n",
        "_ = plt.xticks(fontsize=10)\r\n",
        "_ = plt.ylabel('Price (€, million)', fontsize=18)\r\n",
        "\r\n",
        "\r\n",
        "plt.show()"
      ],
      "execution_count": 72,
      "outputs": [
        {
          "output_type": "display_data",
          "data": {
            "image/png": "[encoded data removed]",
            "text/plain": [
              "<Figure size 1800x720 with 1 Axes>"
            ]
          },
          "metadata": {
            "tags": [],
            "needs_background": "light"
          }
        }
      ]
    },
    {
      "cell_type": "code",
      "metadata": {
        "id": "O11jfg9hlRYc"
      },
      "source": [
        ""
      ],
      "execution_count": 72,
      "outputs": []
    },
    {
      "cell_type": "markdown",
      "metadata": {
        "id": "W19Wp_o2lRxc"
      },
      "source": [
        "### County Growth"
      ]
    },
    {
      "cell_type": "markdown",
      "metadata": {
        "id": "KqHUiDo0pvec"
      },
      "source": [
        "Look at how total sales, volume and average price changes between 2010 and 2018 at a county level."
      ]
    },
    {
      "cell_type": "code",
      "metadata": {
        "id": "9_dxQD8GlXE3"
      },
      "source": [
        "county_year_price = df.groupby(['County', 'Year'])['Price'].agg(['sum', 'mean', 'count', 'max', 'min']).reset_index()"
      ],
      "execution_count": 73,
      "outputs": []
    },
    {
      "cell_type": "code",
      "metadata": {
        "id": "je9ZZi2Flsu2"
      },
      "source": [
        "county_year_price.rename(columns={'count':'Quantity', 'sum':'Revenue', 'mean':'Avg Price', 'max':'Max Price', 'min':'Min Price'}, inplace=True)"
      ],
      "execution_count": 74,
      "outputs": []
    },
    {
      "cell_type": "code",
      "metadata": {
        "id": "b8Rp36CNlwa8"
      },
      "source": [
        "county_year_price_pivot = pd.DataFrame(county_year_price.pivot(index='County', columns='Year', values='Revenue').reset_index())"
      ],
      "execution_count": 75,
      "outputs": []
    },
    {
      "cell_type": "code",
      "metadata": {
        "id": "zgUqd6deuLL2"
      },
      "source": [
        "#county_year_price_pivot.columns"
      ],
      "execution_count": 76,
      "outputs": []
    },
    {
      "cell_type": "code",
      "metadata": {
        "id": "06NA0wwjuYsJ"
      },
      "source": [
        "county_year_price_pivot.drop(columns=[2011, 2012, 2013, 2014, 2015, 2016, 2017], inplace=True)"
      ],
      "execution_count": 77,
      "outputs": []
    },
    {
      "cell_type": "code",
      "metadata": {
        "id": "Xyj_pen0vU5W"
      },
      "source": [
        "county_year_price_pivot['Change'] = county_year_price_pivot[2018] - county_year_price_pivot[2010]"
      ],
      "execution_count": 78,
      "outputs": []
    },
    {
      "cell_type": "code",
      "metadata": {
        "id": "eEpXBE9kvkkK"
      },
      "source": [
        "#county_year_price_pivot.head()"
      ],
      "execution_count": 79,
      "outputs": []
    },
    {
      "cell_type": "code",
      "metadata": {
        "colab": {
          "base_uri": "https://localhost:8080/",
          "height": 1000
        },
        "id": "uNnP-ftR0C0J",
        "outputId": "258156ec-a1be-4d6b-fb9e-67b5741d57f7"
      },
      "source": [
        "county_year_price_pivot['Change (billions)'] = county_year_price_pivot['Change'] / 1000000000\r\n",
        "county_year_price_pivot = county_year_price_pivot.sort_values(by='Change', ascending=True)\r\n",
        "\r\n",
        "_ = plt.figure(figsize=(25, 10))\r\n",
        "_ = sns.barplot(data=county_year_price_pivot, x='County', y='Change (billions)', color='skyblue', ci=None)\r\n",
        "_ = sns.despine()\r\n",
        "\r\n",
        "_ = plt.title('House Market Growth (2010-2018) by County', fontsize=24)\r\n",
        "_ = plt.xlabel('County', fontsize=18)\r\n",
        "_ = plt.xticks(fontsize=10)\r\n",
        "_ = plt.ylabel('Revenue (€, billion)', fontsize=18)\r\n",
        "\r\n",
        "plt.show()\r\n",
        "\r\n",
        "print(county_year_price_pivot)"
      ],
      "execution_count": 80,
      "outputs": [
        {
          "output_type": "display_data",
          "data": {
            "image/png": "[encoded data removed]",
            "text/plain": [
              "<Figure size 1800x720 with 1 Axes>"
            ]
          },
          "metadata": {
            "tags": [],
            "needs_background": "light"
          }
        },
        {
          "output_type": "stream",
          "text": [
            "Year     County          2010          2018        Change  Change (billions)\n",
            "17     Monaghan  3.373417e+07  6.260900e+07  2.887484e+07           0.028875\n",
            "13     Longford  1.978083e+07  4.876222e+07  2.898139e+07           0.028981\n",
            "11      Leitrim  1.831807e+07  5.457490e+07  3.625683e+07           0.036257\n",
            "18       Offaly  3.878949e+07  9.988759e+07  6.109810e+07           0.061098\n",
            "19    Roscommon  3.928738e+07  1.005920e+08  6.130461e+07           0.061305\n",
            "1         Cavan  4.302622e+07  1.117308e+08  6.870459e+07           0.068705\n",
            "0        Carlow  4.037197e+07  1.167291e+08  7.635717e+07           0.076357\n",
            "20        Sligo  5.222391e+07  1.310407e+08  7.881682e+07           0.078817\n",
            "4       Donegal  9.634704e+07  1.753597e+08  7.901263e+07           0.079013\n",
            "10        Laois  5.439346e+07  1.349616e+08  8.056818e+07           0.080568\n",
            "9      Kilkenny  7.199962e+07  1.694082e+08  9.740860e+07           0.097409\n",
            "15         Mayo  6.727628e+07  1.709046e+08  1.036283e+08           0.103628\n",
            "23    Westmeath  6.583762e+07  1.825584e+08  1.167208e+08           0.116721\n",
            "2         Clare  8.905559e+07  2.127405e+08  1.236849e+08           0.123685\n",
            "21    Tipperary  8.930290e+07  2.335889e+08  1.442860e+08           0.144286\n",
            "7         Kerry  1.179522e+08  2.736854e+08  1.557332e+08           0.155733\n",
            "24      Wexford  1.312615e+08  3.157125e+08  1.844509e+08           0.184451\n",
            "22    Waterford  8.296802e+07  2.724927e+08  1.895247e+08           0.189525\n",
            "14        Louth  1.022034e+08  3.250258e+08  2.228223e+08           0.222822\n",
            "12     Limerick  1.442304e+08  4.127872e+08  2.685568e+08           0.268557\n",
            "25      Wicklow  2.110657e+08  5.358895e+08  3.248239e+08           0.324824\n",
            "6        Galway  2.116937e+08  6.389449e+08  4.272512e+08           0.427251\n",
            "16        Meath  1.935092e+08  6.839065e+08  4.903974e+08           0.490397\n",
            "8       Kildare  2.510206e+08  8.776871e+08  6.266664e+08           0.626666\n",
            "3          Cork  5.223609e+08  1.701513e+09  1.179152e+09           1.179152\n",
            "5        Dublin  2.309552e+09  8.724969e+09  6.415417e+09           6.415417\n"
          ],
          "name": "stdout"
        }
      ]
    },
    {
      "cell_type": "code",
      "metadata": {
        "id": "HjmcyoMBJ4hA"
      },
      "source": [
        "county_year_count_pivot = pd.DataFrame(county_year_price.pivot(index='County', columns='Year', values='Quantity').reset_index())\r\n",
        "county_year_count_pivot.drop(columns=[2011, 2012, 2013, 2014, 2015, 2016, 2017], inplace=True)\r\n",
        "county_year_count_pivot['Change'] = county_year_count_pivot[2018] - county_year_count_pivot[2010]"
      ],
      "execution_count": 81,
      "outputs": []
    },
    {
      "cell_type": "code",
      "metadata": {
        "colab": {
          "base_uri": "https://localhost:8080/",
          "height": 639
        },
        "id": "CrafwdZFKhxV",
        "outputId": "5a7c3bbf-501a-4958-9f3e-a7735aa2ead7"
      },
      "source": [
        "county_year_count_pivot = county_year_count_pivot.sort_values(by='Change', ascending=True)\r\n",
        "\r\n",
        "_ = plt.figure(figsize=(25, 10))\r\n",
        "_ = sns.barplot(data=county_year_price_pivot, x='County', y='Change', color='skyblue', ci=None)\r\n",
        "_ = sns.despine()\r\n",
        "\r\n",
        "_ = plt.title('House Sale Volume Growth (2010-2018) by County', fontsize=24)\r\n",
        "_ = plt.xlabel('County', fontsize=18)\r\n",
        "_ = plt.xticks(fontsize=10)\r\n",
        "_ = plt.ylabel('Quantity', fontsize=18)\r\n",
        "\r\n",
        "plt.show()"
      ],
      "execution_count": 82,
      "outputs": [
        {
          "output_type": "display_data",
          "data": {
            "image/png": "[encoded data removed]",
            "text/plain": [
              "<Figure size 1800x720 with 1 Axes>"
            ]
          },
          "metadata": {
            "tags": [],
            "needs_background": "light"
          }
        }
      ]
    },
    {
      "cell_type": "code",
      "metadata": {
        "id": "mjFkdFNqK0J6"
      },
      "source": [
        "county_year_avgprice_pivot = pd.DataFrame(county_year_price.pivot(index='County', columns='Year', values='Avg Price').reset_index())\r\n",
        "county_year_avgprice_pivot.drop(columns=[2011, 2012, 2013, 2014, 2015, 2016, 2017], inplace=True)\r\n",
        "county_year_avgprice_pivot['Change'] = county_year_avgprice_pivot[2018] - county_year_avgprice_pivot[2010]"
      ],
      "execution_count": 83,
      "outputs": []
    },
    {
      "cell_type": "code",
      "metadata": {
        "colab": {
          "base_uri": "https://localhost:8080/",
          "height": 639
        },
        "id": "aBpAAjRiLIar",
        "outputId": "04a5f64e-0b91-482c-89e8-568e4b85555f"
      },
      "source": [
        "county_year_avgprice_pivot = county_year_avgprice_pivot.sort_values(by='Change', ascending=True)\r\n",
        "\r\n",
        "_ = plt.figure(figsize=(25, 10))\r\n",
        "_ = sns.barplot(data=county_year_avgprice_pivot, x='County', y='Change', color='skyblue', ci=None)\r\n",
        "_ = sns.despine()\r\n",
        "\r\n",
        "_ = plt.title('House Avg Price Growth (2010-2018) by County', fontsize=24)\r\n",
        "_ = plt.xlabel('County', fontsize=18)\r\n",
        "_ = plt.xticks(fontsize=10)\r\n",
        "_ = plt.ylabel('Price (€)', fontsize=18)\r\n",
        "\r\n",
        "plt.show()"
      ],
      "execution_count": 84,
      "outputs": [
        {
          "output_type": "display_data",
          "data": {
            "image/png": "[encoded data removed]",
            "text/plain": [
              "<Figure size 1800x720 with 1 Axes>"
            ]
          },
          "metadata": {
            "tags": [],
            "needs_background": "light"
          }
        }
      ]
    },
    {
      "cell_type": "code",
      "metadata": {
        "colab": {
          "base_uri": "https://localhost:8080/"
        },
        "id": "o1agnidBkxgs",
        "outputId": "2d66e611-75cb-4705-aaf4-4cd7326952c4"
      },
      "source": [
        "print(county_year_avgprice_pivot)"
      ],
      "execution_count": 85,
      "outputs": [
        {
          "output_type": "stream",
          "text": [
            "Year     County           2010           2018         Change\n",
            "4       Donegal  151966.947934  118486.268507  -33480.679427\n",
            "13     Longford  136419.506483  105317.960907  -31101.545576\n",
            "15         Mayo  158670.481179  134253.440353  -24417.040826\n",
            "20        Sligo  163199.733844  140300.574229  -22899.159615\n",
            "7         Kerry  188121.487576  166172.051639  -21949.435936\n",
            "19    Roscommon  137850.440140  116157.028268  -21693.411872\n",
            "11      Leitrim  128098.378252  112294.024033  -15804.354219\n",
            "21    Tipperary  161488.060542  147747.581373  -13740.479170\n",
            "1         Cavan  142470.942781  133330.329236   -9140.613545\n",
            "17     Monaghan  153337.119000  145941.735851   -7395.383149\n",
            "9      Kilkenny  209911.419155  202641.401699   -7270.017456\n",
            "18       Offaly  159627.536296  152500.136198   -7127.400098\n",
            "22    Waterford  181549.269322  175349.231924   -6200.037398\n",
            "2         Clare  175999.191917  171564.920984   -4434.270933\n",
            "24      Wexford  179564.317524  175395.813056   -4168.504468\n",
            "0        Carlow  174017.094655  170656.627105   -3360.467550\n",
            "10        Laois  164330.700393  161824.515048   -2506.185345\n",
            "12     Limerick  190026.823966  194619.121551    4592.297585\n",
            "14        Louth  189616.765510  205712.520025   16095.754515\n",
            "23    Westmeath  160579.573049  177413.447804   16833.874755\n",
            "6        Galway  223305.575316  241658.420530   18352.845213\n",
            "25      Wicklow  293963.323538  332644.036387   38680.712850\n",
            "16        Meath  226326.492117  265182.823967   38856.331850\n",
            "8       Kildare  240211.147416  285055.881124   44844.733707\n",
            "3          Cork  230114.947837  281660.809712   51545.861875\n",
            "5        Dublin  333028.360568  469513.458291  136485.097723\n"
          ],
          "name": "stdout"
        }
      ]
    },
    {
      "cell_type": "markdown",
      "metadata": {
        "id": "eFzsfI4xDoqM"
      },
      "source": [
        "### Bubble Charts"
      ]
    },
    {
      "cell_type": "markdown",
      "metadata": {
        "id": "eV93nNmLp799"
      },
      "source": [
        "Look to condense the information in last section to show how Dublin is growing a much faster rate than the rest of Ireland by using bubble charts."
      ]
    },
    {
      "cell_type": "code",
      "metadata": {
        "id": "4XQ3SFGvD10e"
      },
      "source": [
        "county_2010 = county_year_price.loc[(county_year_price['Year']==2010)].drop(columns=['Year', 'Max Price', 'Min Price'])"
      ],
      "execution_count": 86,
      "outputs": []
    },
    {
      "cell_type": "code",
      "metadata": {
        "colab": {
          "base_uri": "https://localhost:8080/",
          "height": 747
        },
        "id": "18k2i8a_EmIH",
        "outputId": "9b742509-ba4f-47b0-8a45-9f324d8cf588"
      },
      "source": [
        "_ = plt.figure(figsize=(24,12))\r\n",
        "_ = sns.scatterplot(data=county_2010, x='Quantity', y='Avg Price', size='Revenue', hue='Revenue', sizes=(10,5000), legend=False, palette='RdBu')\r\n",
        "_ = sns.despine()\r\n",
        "\r\n",
        "_ = plt.ylim(0,550000)\r\n",
        "_ = plt.xlim(0,20000)\r\n",
        "\r\n",
        "_ = plt.title('Housing Market by County (2010)', fontsize=24)\r\n",
        "_ = plt.xlabel('Quantity', fontsize=18)\r\n",
        "_ = plt.xticks(fontsize=10)\r\n",
        "_ = plt.ylabel('Price', fontsize=18)\r\n",
        "\r\n",
        "def label_point(x, y, val, ax):\r\n",
        "    a = pd.concat({'x': x, 'y': y, 'val': val}, axis=1)\r\n",
        "    for i, point in a.iterrows():\r\n",
        "        ax.text(point['x'] + point['x']/20, point['y'] + point['y']/20, str(point['val']))\r\n",
        "\r\n",
        "label_point(county_2010.Quantity, county_2010['Avg Price'], county_2010.County, plt.gca()) \r\n",
        "\r\n",
        "plt.show()"
      ],
      "execution_count": 87,
      "outputs": [
        {
          "output_type": "display_data",
          "data": {
            "image/png": "[encoded data removed]",
            "text/plain": [
              "<Figure size 1728x864 with 1 Axes>"
            ]
          },
          "metadata": {
            "tags": [],
            "needs_background": "light"
          }
        }
      ]
    },
    {
      "cell_type": "code",
      "metadata": {
        "id": "pQVXzfuUO5Qb"
      },
      "source": [
        "county_2018 = county_year_price.loc[(county_year_price['Year']==2018)].drop(columns=['Year', 'Max Price', 'Min Price'])"
      ],
      "execution_count": 88,
      "outputs": []
    },
    {
      "cell_type": "code",
      "metadata": {
        "colab": {
          "base_uri": "https://localhost:8080/",
          "height": 747
        },
        "id": "bHoqm2hpO83P",
        "outputId": "ee7c2b95-1d5c-4210-b3f4-509bf1153d78"
      },
      "source": [
        "_ = plt.figure(figsize=(24,12))\r\n",
        "_ = sns.scatterplot(data=county_2018, x='Quantity', y='Avg Price', size='Revenue', hue='Revenue', sizes=(10,5000), legend=False, palette='RdBu')\r\n",
        "_ = sns.despine()\r\n",
        "\r\n",
        "_ = plt.ylim(0,550000)\r\n",
        "_ = plt.xlim(0,20000)\r\n",
        "\r\n",
        "_ = plt.title('Housing Market by County (2018)', fontsize=24)\r\n",
        "_ = plt.xlabel('Quantity', fontsize=18)\r\n",
        "_ = plt.xticks(fontsize=10)\r\n",
        "_ = plt.ylabel('Price', fontsize=18)\r\n",
        "\r\n",
        "def label_point(x, y, val, ax):\r\n",
        "    a = pd.concat({'x': x, 'y': y, 'val': val}, axis=1)\r\n",
        "    for i, point in a.iterrows():\r\n",
        "        ax.text(point['x'] + point['x']/40, point['y'] + point['y']/40, str(point['val']))\r\n",
        "\r\n",
        "label_point(county_2018.Quantity, county_2018['Avg Price'], county_2018.County, plt.gca()) \r\n",
        "\r\n",
        "plt.show()"
      ],
      "execution_count": 89,
      "outputs": [
        {
          "output_type": "display_data",
          "data": {
            "image/png": "[encoded data removed]",
            "text/plain": [
              "<Figure size 1728x864 with 1 Axes>"
            ]
          },
          "metadata": {
            "tags": [],
            "needs_background": "light"
          }
        }
      ]
    },
    {
      "cell_type": "code",
      "metadata": {
        "id": "GzPE5yUxCabp"
      },
      "source": [
        "#_ = plt.figure(figsize=(12,6))\r\n",
        "#_ = sns.lineplot(x='Date of Sale', y='Price (€)', data=df)\r\n",
        "\r\n",
        "#plt.show()"
      ],
      "execution_count": 90,
      "outputs": []
    },
    {
      "cell_type": "markdown",
      "metadata": {
        "id": "2aDVhk2NlE3Z"
      },
      "source": [
        "### Share of New vs Second Hand"
      ]
    },
    {
      "cell_type": "markdown",
      "metadata": {
        "id": "IanHj7QBqICE"
      },
      "source": [
        "Look to see if increased growth may be due to more new and / or expensive housing becoming available."
      ]
    },
    {
      "cell_type": "code",
      "metadata": {
        "id": "0N-l3KZBlEGl"
      },
      "source": [
        "property_type_year = df.groupby(['Year', 'Property Type'])['Price'].agg(['count', 'mean']).reset_index()"
      ],
      "execution_count": 104,
      "outputs": []
    },
    {
      "cell_type": "code",
      "metadata": {
        "colab": {
          "base_uri": "https://localhost:8080/",
          "height": 206
        },
        "id": "W0npLFIMlkYX",
        "outputId": "f1fee33e-a30d-4dd8-bbc7-87865a92a3f4"
      },
      "source": [
        "property_type_year.head()"
      ],
      "execution_count": 105,
      "outputs": [
        {
          "output_type": "execute_result",
          "data": {
            "text/html": [
              "<div>\n",
              "<style scoped>\n",
              "    .dataframe tbody tr th:only-of-type {\n",
              "        vertical-align: middle;\n",
              "    }\n",
              "\n",
              "    .dataframe tbody tr th {\n",
              "        vertical-align: top;\n",
              "    }\n",
              "\n",
              "    .dataframe thead th {\n",
              "        text-align: right;\n",
              "    }\n",
              "</style>\n",
              "<table border=\"1\" class=\"dataframe\">\n",
              "  <thead>\n",
              "    <tr style=\"text-align: right;\">\n",
              "      <th></th>\n",
              "      <th>Year</th>\n",
              "      <th>Property Type</th>\n",
              "      <th>count</th>\n",
              "      <th>mean</th>\n",
              "    </tr>\n",
              "  </thead>\n",
              "  <tbody>\n",
              "    <tr>\n",
              "      <th>0</th>\n",
              "      <td>2010</td>\n",
              "      <td>Existing</td>\n",
              "      <td>15666</td>\n",
              "      <td>253264.331903</td>\n",
              "    </tr>\n",
              "    <tr>\n",
              "      <th>1</th>\n",
              "      <td>2010</td>\n",
              "      <td>New</td>\n",
              "      <td>5309</td>\n",
              "      <td>212831.568484</td>\n",
              "    </tr>\n",
              "    <tr>\n",
              "      <th>2</th>\n",
              "      <td>2011</td>\n",
              "      <td>Existing</td>\n",
              "      <td>15461</td>\n",
              "      <td>219202.034931</td>\n",
              "    </tr>\n",
              "    <tr>\n",
              "      <th>3</th>\n",
              "      <td>2011</td>\n",
              "      <td>New</td>\n",
              "      <td>2950</td>\n",
              "      <td>193186.981078</td>\n",
              "    </tr>\n",
              "    <tr>\n",
              "      <th>4</th>\n",
              "      <td>2012</td>\n",
              "      <td>Existing</td>\n",
              "      <td>22169</td>\n",
              "      <td>196011.233637</td>\n",
              "    </tr>\n",
              "  </tbody>\n",
              "</table>\n",
              "</div>"
            ],
            "text/plain": [
              "   Year Property Type  count           mean\n",
              "0  2010      Existing  15666  253264.331903\n",
              "1  2010           New   5309  212831.568484\n",
              "2  2011      Existing  15461  219202.034931\n",
              "3  2011           New   2950  193186.981078\n",
              "4  2012      Existing  22169  196011.233637"
            ]
          },
          "metadata": {
            "tags": []
          },
          "execution_count": 105
        }
      ]
    },
    {
      "cell_type": "code",
      "metadata": {
        "id": "c9Iol8B58Mzz"
      },
      "source": [
        "property_type_stack_count = property_type_year.pivot(index='Year', columns='Property Type', values='count').reset_index()\r\n",
        "property_type_stack_count['New (%)'] = property_type_stack_count['New'] / (property_type_stack_count['New'] + property_type_stack_count['Existing'])\r\n",
        "property_type_stack_count['Existing (%)'] = property_type_stack_count['Existing'] / (property_type_stack_count['New'] + property_type_stack_count['Existing'])\r\n",
        "property_type_stack_count = property_type_stack_count[['Year', 'Existing (%)', 'New (%)']]"
      ],
      "execution_count": 106,
      "outputs": []
    },
    {
      "cell_type": "code",
      "metadata": {
        "colab": {
          "base_uri": "https://localhost:8080/",
          "height": 506
        },
        "id": "OUuld6nB97QE",
        "outputId": "290e6eab-a67e-4ee2-b358-a1b148315a60"
      },
      "source": [
        "\r\n",
        "#_ = plt.bar(x=property_type_stack_count['Year'])\r\n",
        "stack = property_type_stack_count.plot.bar(x='Year', stacked=True, figsize=(20,8), color=['lightgreen', 'gold'])\r\n",
        "\r\n",
        "stack.spines['top'].set_visible(False)\r\n",
        "stack.legend(loc='upper right')\r\n",
        "plt.xticks(rotation=0)\r\n",
        "plt.ylim(0,1.2)\r\n",
        "plt.axhline(0.8, color='r', linestyle='--', linewidth=4)\r\n",
        "stack.set_yticks([0,0.2,0.4,0.6,0.8,1])\r\n",
        "stack.set_yticklabels(['0%', '20%', '40%', '60%', '80%', '100%'], fontsize=14)\r\n",
        "\r\n",
        "#plt.title('New or Existing Properties (% of purchases)', fontsize=20)\r\n",
        "plt.ylabel('% Share', fontsize=20)\r\n",
        "plt.xlabel('Year', fontsize=20)\r\n",
        "\r\n",
        "plt.show()"
      ],
      "execution_count": 107,
      "outputs": [
        {
          "output_type": "display_data",
          "data": {
            "image/png": "[encoded data removed]",
            "text/plain": [
              "<Figure size 1440x576 with 1 Axes>"
            ]
          },
          "metadata": {
            "tags": [],
            "needs_background": "light"
          }
        }
      ]
    },
    {
      "cell_type": "code",
      "metadata": {
        "colab": {
          "base_uri": "https://localhost:8080/"
        },
        "id": "Yx1xTBa0F6hQ",
        "outputId": "85b57561-835f-424d-ddee-5cd57311d848"
      },
      "source": [
        "print('Average New House Price: ', df.loc[(df['Property Type']=='New')]['Price'].mean())\r\n",
        "print('Average Existing House Price: ', df.loc[(df['Property Type']=='Existing')]['Price'].mean())"
      ],
      "execution_count": 108,
      "outputs": [
        {
          "output_type": "stream",
          "text": [
            "Average New House Price:  255302.1601438154\n",
            "Average Existing House Price:  237555.1547055692\n"
          ],
          "name": "stdout"
        }
      ]
    },
    {
      "cell_type": "code",
      "metadata": {
        "id": "oE4wV71YGagM"
      },
      "source": [
        "property_type_avgprice = df.groupby(['Property Type'])['Price'].mean().reset_index()"
      ],
      "execution_count": 109,
      "outputs": []
    },
    {
      "cell_type": "code",
      "metadata": {
        "colab": {
          "base_uri": "https://localhost:8080/",
          "height": 397
        },
        "id": "4gPLcbVjGyGo",
        "outputId": "6ced7e00-3a40-4162-d8fe-d23732c18f1f"
      },
      "source": [
        "_ = plt.figure(figsize=(14,6))\r\n",
        "#_ = sns.barplot(data=property_type_avgprice, x='Property Type', y='Price', color=['green', 'yellow'])\r\n",
        "_ = plt.bar(x='Property Type',height='Price',data=property_type_avgprice, width=0.8, color=['lightgreen','gold'])\r\n",
        "_ = sns.despine()\r\n",
        "_ = plt.ylabel('Price', fontsize=20)\r\n",
        "_ = plt.xlabel('Property Type', fontsize=20)\r\n",
        "#_ = plt.figure.spines['right'].set_visible(False)\r\n",
        "#_ = plt.figure.spines['top'].set_visible(False)\r\n",
        "\r\n",
        "plt.show()"
      ],
      "execution_count": 110,
      "outputs": [
        {
          "output_type": "display_data",
          "data": {
            "image/png": "[encoded data removed]",
            "text/plain": [
              "<Figure size 1008x432 with 1 Axes>"
            ]
          },
          "metadata": {
            "tags": [],
            "needs_background": "light"
          }
        }
      ]
    },
    {
      "cell_type": "markdown",
      "metadata": {
        "id": "MwWpQan_UHK5"
      },
      "source": [
        "### Share of VAT Exclusive"
      ]
    },
    {
      "cell_type": "markdown",
      "metadata": {
        "id": "P4smvmYPWynH"
      },
      "source": [
        "VAT exclusive graphs show to be the exact same as New vs Existing. This seems to indicate that prices for New properties excluded the VAT value where as old properties have this included.\r\n",
        "\r\n",
        "After a bit of research this makes sense as general rule is that 'the general rule is that you are required to charge VAT on the sale of a new completed property and not on the sale of an old property.'\r\n",
        "\r\n",
        "https://www2.deloitte.com/ie/en/pages/tax/articles/vat-property-sales.html"
      ]
    },
    {
      "cell_type": "code",
      "metadata": {
        "id": "3s-R9xgqUKzM"
      },
      "source": [
        "VAT_year = df.groupby(['Year', 'VAT_exc'])['Price'].agg(['count', 'mean']).reset_index()"
      ],
      "execution_count": 111,
      "outputs": []
    },
    {
      "cell_type": "code",
      "metadata": {
        "colab": {
          "base_uri": "https://localhost:8080/",
          "height": 0
        },
        "id": "i8yRowljVAU7",
        "outputId": "a3f4a16b-55fe-4a99-9407-ef9c509dfeb7"
      },
      "source": [
        "VAT_year.head()"
      ],
      "execution_count": 112,
      "outputs": [
        {
          "output_type": "execute_result",
          "data": {
            "text/html": [
              "<div>\n",
              "<style scoped>\n",
              "    .dataframe tbody tr th:only-of-type {\n",
              "        vertical-align: middle;\n",
              "    }\n",
              "\n",
              "    .dataframe tbody tr th {\n",
              "        vertical-align: top;\n",
              "    }\n",
              "\n",
              "    .dataframe thead th {\n",
              "        text-align: right;\n",
              "    }\n",
              "</style>\n",
              "<table border=\"1\" class=\"dataframe\">\n",
              "  <thead>\n",
              "    <tr style=\"text-align: right;\">\n",
              "      <th></th>\n",
              "      <th>Year</th>\n",
              "      <th>VAT_exc</th>\n",
              "      <th>count</th>\n",
              "      <th>mean</th>\n",
              "    </tr>\n",
              "  </thead>\n",
              "  <tbody>\n",
              "    <tr>\n",
              "      <th>0</th>\n",
              "      <td>2010</td>\n",
              "      <td>No</td>\n",
              "      <td>15779</td>\n",
              "      <td>252440.760619</td>\n",
              "    </tr>\n",
              "    <tr>\n",
              "      <th>1</th>\n",
              "      <td>2010</td>\n",
              "      <td>Yes</td>\n",
              "      <td>5196</td>\n",
              "      <td>214453.244584</td>\n",
              "    </tr>\n",
              "    <tr>\n",
              "      <th>2</th>\n",
              "      <td>2011</td>\n",
              "      <td>No</td>\n",
              "      <td>15573</td>\n",
              "      <td>218742.793302</td>\n",
              "    </tr>\n",
              "    <tr>\n",
              "      <th>3</th>\n",
              "      <td>2011</td>\n",
              "      <td>Yes</td>\n",
              "      <td>2838</td>\n",
              "      <td>194680.315772</td>\n",
              "    </tr>\n",
              "    <tr>\n",
              "      <th>4</th>\n",
              "      <td>2012</td>\n",
              "      <td>No</td>\n",
              "      <td>22312</td>\n",
              "      <td>195640.711089</td>\n",
              "    </tr>\n",
              "  </tbody>\n",
              "</table>\n",
              "</div>"
            ],
            "text/plain": [
              "   Year VAT_exc  count           mean\n",
              "0  2010      No  15779  252440.760619\n",
              "1  2010     Yes   5196  214453.244584\n",
              "2  2011      No  15573  218742.793302\n",
              "3  2011     Yes   2838  194680.315772\n",
              "4  2012      No  22312  195640.711089"
            ]
          },
          "metadata": {
            "tags": []
          },
          "execution_count": 112
        }
      ]
    },
    {
      "cell_type": "code",
      "metadata": {
        "id": "z4ht6k1pUqSq"
      },
      "source": [
        "VAT_stack_count = VAT_year.pivot(index='Year', columns='VAT_exc', values='count').reset_index()\r\n",
        "VAT_stack_count['No (%)'] = VAT_stack_count['No'] / (VAT_stack_count['No'] + VAT_stack_count['Yes'])\r\n",
        "VAT_stack_count['Yes (%)'] = VAT_stack_count['Yes'] / (VAT_stack_count['No'] + VAT_stack_count['Yes'])\r\n",
        "VAT_stack_count = VAT_stack_count[['Year', 'No (%)', 'Yes (%)']]"
      ],
      "execution_count": 113,
      "outputs": []
    },
    {
      "cell_type": "code",
      "metadata": {
        "colab": {
          "base_uri": "https://localhost:8080/",
          "height": 0
        },
        "id": "G9OadpoKVbqm",
        "outputId": "209fd19a-62b4-4b28-e1bd-734e717db228"
      },
      "source": [
        "stack = VAT_stack_count.plot.bar(x='Year', stacked=True, figsize=(20,8), color=['lightgreen', 'gold'])\r\n",
        "\r\n",
        "stack.spines['top'].set_visible(False)\r\n",
        "stack.legend(loc='upper right')\r\n",
        "plt.xticks(rotation=0)\r\n",
        "plt.ylim(0,1.2)\r\n",
        "plt.axhline(0.8, color='r', linestyle='--', linewidth=4)\r\n",
        "stack.set_yticks([0,0.2,0.4,0.6,0.8,1])\r\n",
        "stack.set_yticklabels(['0%', '20%', '40%', '60%', '80%', '100%'], fontsize=14)\r\n",
        "\r\n",
        "#plt.title('New or Existing Properties (% of purchases)', fontsize=20)\r\n",
        "plt.ylabel('% Share', fontsize=20)\r\n",
        "plt.xlabel('Year', fontsize=20)\r\n",
        "\r\n",
        "plt.show()"
      ],
      "execution_count": 114,
      "outputs": [
        {
          "output_type": "display_data",
          "data": {
            "image/png": "[encoded data removed]",
            "text/plain": [
              "<Figure size 1440x576 with 1 Axes>"
            ]
          },
          "metadata": {
            "tags": [],
            "needs_background": "light"
          }
        }
      ]
    },
    {
      "cell_type": "code",
      "metadata": {
        "colab": {
          "base_uri": "https://localhost:8080/"
        },
        "id": "AoOiAUEjWJJE",
        "outputId": "11e1fc0d-fbd5-47fc-9c60-5c55a80d8f94"
      },
      "source": [
        "print('Average VAT exclusive House Price: ', df.loc[(df['VAT_exc']=='Yes')]['Price'].mean())\r\n",
        "print('Average VAT inclusive House Price: ', df.loc[(df['VAT_exc']=='No')]['Price'].mean())"
      ],
      "execution_count": 115,
      "outputs": [
        {
          "output_type": "stream",
          "text": [
            "Average VAT exclusive House Price:  253811.59656688047\n",
            "Average VAT inclusive House Price:  237896.8121710575\n"
          ],
          "name": "stdout"
        }
      ]
    },
    {
      "cell_type": "code",
      "metadata": {
        "colab": {
          "base_uri": "https://localhost:8080/",
          "height": 0
        },
        "id": "ZbnoBElwWbUI",
        "outputId": "a4c6ed28-78ec-495a-853f-890f02faf48c"
      },
      "source": [
        "df.loc[(df['Property Type']=='Existing') & df['VAT_exc']=='Yes']"
      ],
      "execution_count": 116,
      "outputs": [
        {
          "output_type": "execute_result",
          "data": {
            "text/html": [
              "<div>\n",
              "<style scoped>\n",
              "    .dataframe tbody tr th:only-of-type {\n",
              "        vertical-align: middle;\n",
              "    }\n",
              "\n",
              "    .dataframe tbody tr th {\n",
              "        vertical-align: top;\n",
              "    }\n",
              "\n",
              "    .dataframe thead th {\n",
              "        text-align: right;\n",
              "    }\n",
              "</style>\n",
              "<table border=\"1\" class=\"dataframe\">\n",
              "  <thead>\n",
              "    <tr style=\"text-align: right;\">\n",
              "      <th></th>\n",
              "      <th>Address</th>\n",
              "      <th>Postal Code</th>\n",
              "      <th>County</th>\n",
              "      <th>Price</th>\n",
              "      <th>Not_Full_Price</th>\n",
              "      <th>VAT_exc</th>\n",
              "      <th>Date of Sale</th>\n",
              "      <th>Year</th>\n",
              "      <th>Month</th>\n",
              "      <th>Property Type</th>\n",
              "      <th>Address 1</th>\n",
              "      <th>Address 2</th>\n",
              "      <th>Address 3</th>\n",
              "      <th>Price_thousands</th>\n",
              "      <th>Price_Bins</th>\n",
              "    </tr>\n",
              "  </thead>\n",
              "  <tbody>\n",
              "  </tbody>\n",
              "</table>\n",
              "</div>"
            ],
            "text/plain": [
              "Empty DataFrame\n",
              "Columns: [Address, Postal Code, County, Price, Not_Full_Price, VAT_exc, Date of Sale, Year, Month, Property Type, Address 1, Address 2, Address 3, Price_thousands, Price_Bins]\n",
              "Index: []"
            ]
          },
          "metadata": {
            "tags": []
          },
          "execution_count": 116
        }
      ]
    },
    {
      "cell_type": "markdown",
      "metadata": {
        "id": "KynLjODTYcic"
      },
      "source": [
        "### Not Full Price"
      ]
    },
    {
      "cell_type": "markdown",
      "metadata": {
        "id": "GnPydnmwZYcI"
      },
      "source": [
        "The percentage not paying full market price seems to be steady over time."
      ]
    },
    {
      "cell_type": "code",
      "metadata": {
        "id": "uf4MaJw3Yfnx"
      },
      "source": [
        "fullprice_year = df.groupby(['Year', 'Not_Full_Price'])['Price'].agg(['count', 'mean']).reset_index()"
      ],
      "execution_count": 117,
      "outputs": []
    },
    {
      "cell_type": "code",
      "metadata": {
        "colab": {
          "base_uri": "https://localhost:8080/",
          "height": 206
        },
        "id": "QQxtEyEkYsOD",
        "outputId": "3914ee48-16e3-45d1-beac-a403d1af3d55"
      },
      "source": [
        "fullprice_year.head()"
      ],
      "execution_count": 118,
      "outputs": [
        {
          "output_type": "execute_result",
          "data": {
            "text/html": [
              "<div>\n",
              "<style scoped>\n",
              "    .dataframe tbody tr th:only-of-type {\n",
              "        vertical-align: middle;\n",
              "    }\n",
              "\n",
              "    .dataframe tbody tr th {\n",
              "        vertical-align: top;\n",
              "    }\n",
              "\n",
              "    .dataframe thead th {\n",
              "        text-align: right;\n",
              "    }\n",
              "</style>\n",
              "<table border=\"1\" class=\"dataframe\">\n",
              "  <thead>\n",
              "    <tr style=\"text-align: right;\">\n",
              "      <th></th>\n",
              "      <th>Year</th>\n",
              "      <th>Not_Full_Price</th>\n",
              "      <th>count</th>\n",
              "      <th>mean</th>\n",
              "    </tr>\n",
              "  </thead>\n",
              "  <tbody>\n",
              "    <tr>\n",
              "      <th>0</th>\n",
              "      <td>2010</td>\n",
              "      <td>No</td>\n",
              "      <td>19876</td>\n",
              "      <td>246894.868049</td>\n",
              "    </tr>\n",
              "    <tr>\n",
              "      <th>1</th>\n",
              "      <td>2010</td>\n",
              "      <td>Yes</td>\n",
              "      <td>1099</td>\n",
              "      <td>173138.692739</td>\n",
              "    </tr>\n",
              "    <tr>\n",
              "      <th>2</th>\n",
              "      <td>2011</td>\n",
              "      <td>No</td>\n",
              "      <td>17318</td>\n",
              "      <td>221596.224324</td>\n",
              "    </tr>\n",
              "    <tr>\n",
              "      <th>3</th>\n",
              "      <td>2011</td>\n",
              "      <td>Yes</td>\n",
              "      <td>1093</td>\n",
              "      <td>111052.921683</td>\n",
              "    </tr>\n",
              "    <tr>\n",
              "      <th>4</th>\n",
              "      <td>2012</td>\n",
              "      <td>No</td>\n",
              "      <td>23641</td>\n",
              "      <td>201322.237872</td>\n",
              "    </tr>\n",
              "  </tbody>\n",
              "</table>\n",
              "</div>"
            ],
            "text/plain": [
              "   Year Not_Full_Price  count           mean\n",
              "0  2010             No  19876  246894.868049\n",
              "1  2010            Yes   1099  173138.692739\n",
              "2  2011             No  17318  221596.224324\n",
              "3  2011            Yes   1093  111052.921683\n",
              "4  2012             No  23641  201322.237872"
            ]
          },
          "metadata": {
            "tags": []
          },
          "execution_count": 118
        }
      ]
    },
    {
      "cell_type": "code",
      "metadata": {
        "id": "T_0wWfc9YwlL"
      },
      "source": [
        "fullprice_stack_count = fullprice_year.pivot(index='Year', columns='Not_Full_Price', values='count').reset_index()\r\n",
        "fullprice_stack_count['No (%)'] = fullprice_stack_count['No'] / (fullprice_stack_count['No'] + fullprice_stack_count['Yes'])\r\n",
        "fullprice_stack_count['Yes (%)'] = fullprice_stack_count['Yes'] / (fullprice_stack_count['No'] + fullprice_stack_count['Yes'])\r\n",
        "fullprice_stack_count = fullprice_stack_count[['Year', 'No (%)', 'Yes (%)']]"
      ],
      "execution_count": 119,
      "outputs": []
    },
    {
      "cell_type": "code",
      "metadata": {
        "colab": {
          "base_uri": "https://localhost:8080/",
          "height": 506
        },
        "id": "A-U8DynoZSlq",
        "outputId": "3564e418-9e63-400a-b2a8-291bab9e8d84"
      },
      "source": [
        "stack = fullprice_stack_count.plot.bar(x='Year', stacked=True, figsize=(20,8), color=['lightgreen', 'gold'])\r\n",
        "\r\n",
        "stack.spines['top'].set_visible(False)\r\n",
        "stack.legend(loc='upper right')\r\n",
        "plt.xticks(rotation=0)\r\n",
        "plt.ylim(0,1.2)\r\n",
        "plt.axhline(0.8, color='r', linestyle='--', linewidth=4)\r\n",
        "stack.set_yticks([0,0.2,0.4,0.6,0.8,1])\r\n",
        "stack.set_yticklabels(['0%', '20%', '40%', '60%', '80%', '100%'], fontsize=14)\r\n",
        "\r\n",
        "#plt.title('New or Existing Properties (% of purchases)', fontsize=20)\r\n",
        "plt.ylabel('% Share', fontsize=20)\r\n",
        "plt.xlabel('Year', fontsize=20)\r\n",
        "\r\n",
        "plt.show()"
      ],
      "execution_count": 120,
      "outputs": [
        {
          "output_type": "display_data",
          "data": {
            "image/png": "[encoded data removed]",
            "text/plain": [
              "<Figure size 1440x576 with 1 Axes>"
            ]
          },
          "metadata": {
            "tags": [],
            "needs_background": "light"
          }
        }
      ]
    },
    {
      "cell_type": "markdown",
      "metadata": {
        "id": "CZa00bYC83we"
      },
      "source": [
        "## Future Ideas\r\n"
      ]
    },
    {
      "cell_type": "markdown",
      "metadata": {
        "id": "09MV6mYlqkIo"
      },
      "source": [
        "* Look to bring in other data sources like population or income by county or region"
      ]
    },
    {
      "cell_type": "code",
      "metadata": {
        "id": "8DSrZFNmqksz"
      },
      "source": [
        ""
      ],
      "execution_count": null,
      "outputs": []
    }
  ]
}