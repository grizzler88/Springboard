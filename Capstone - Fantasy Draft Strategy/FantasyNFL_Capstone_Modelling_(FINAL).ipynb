{
  "nbformat": 4,
  "nbformat_minor": 0,
  "metadata": {
    "colab": {
      "name": "FantasyNFL_Capstone_Modelling (FINAL).ipynb",
      "provenance": [],
      "collapsed_sections": [
        "S2k0Dhg1AhS6",
        "fonzLtn1EER3",
        "q0DlAfvi_mWg",
        "hQma4JMiA6yU",
        "kUuZnFHPSoFu",
        "ZrWboaPX4Mnd",
        "cs9t2QVdQ9FD",
        "6AnuodXz0WWz",
        "71IKjbAhhh4S",
        "MmeCnIwyQZ9w",
        "fG6drYvNK2sT",
        "KFKdA1Ju9V54",
        "x8MmnVpjj_Yk",
        "EnwrxBzTeXU0",
        "5v3HrJhw1_AP",
        "VP75BzeOoNkI",
        "foPzwiGpnwlq",
        "zhv9paVmIxSF",
        "XM8kD84BMcmA",
        "RbHcZneUTkhm",
        "l_UZzxMpQ6mX",
        "Ssq4MXqE5Wey",
        "npleMv0J_dpp",
        "dGOAAnNeB79O"
      ],
      "toc_visible": true,
      "authorship_tag": "ABX9TyN/S5QmSS1yhrkD0uJ5gZnz",
      "include_colab_link": true
    },
    "kernelspec": {
      "display_name": "Python 3",
      "name": "python3"
    }
  },
  "cells": [
    {
      "cell_type": "markdown",
      "metadata": {
        "id": "view-in-github",
        "colab_type": "text"
      },
      "source": [
        "<a href=\"https://colab.research.google.com/github/grizzler88/Springboard/blob/master/Capstone%20-%20Fantasy%20Draft%20Strategy/FantasyNFL_Capstone_Modelling_(FINAL).ipynb\" target=\"_parent\"><img src=\"https://colab.research.google.com/assets/colab-badge.svg\" alt=\"Open In Colab\"/></a>"
      ]
    },
    {
      "cell_type": "markdown",
      "metadata": {
        "id": "pUp_-swjt-v4"
      },
      "source": [
        "# Capstone 1: Fantasy NFL (Modelling)"
      ]
    },
    {
      "cell_type": "markdown",
      "metadata": {
        "id": "xCBp8qMAuSGs"
      },
      "source": [
        "The next step for my Capstone project is to take my data from the preprocessing stage and use it to test out a number of models to see which performs best."
      ]
    },
    {
      "cell_type": "markdown",
      "metadata": {
        "id": "tPqphUbWnh_h"
      },
      "source": [
        "## Getting Started"
      ]
    },
    {
      "cell_type": "markdown",
      "metadata": {
        "id": "HnyZlBaZAXJC"
      },
      "source": [
        "### Import packages & load data"
      ]
    },
    {
      "cell_type": "code",
      "metadata": {
        "id": "1Ypq-wMAxGSw"
      },
      "source": [
        "import numpy as np\r\n",
        "import pandas as pd\r\n",
        "import matplotlib.pyplot as plt\r\n",
        "import seaborn as sns"
      ],
      "execution_count": 1,
      "outputs": []
    },
    {
      "cell_type": "code",
      "metadata": {
        "id": "bsZghOnjwo2T"
      },
      "source": [
        "X_train = pd.read_csv('X_train.csv')\r\n",
        "X_test = pd.read_csv('X_test.csv')\r\n",
        "y_train = pd.read_csv('y_train.csv')\r\n",
        "y_test = pd.read_csv('y_test.csv')\r\n",
        "#X_train_df = pd.read_csv('X_train_df.csv')\r\n",
        "#df.head()"
      ],
      "execution_count": 2,
      "outputs": []
    },
    {
      "cell_type": "markdown",
      "metadata": {
        "id": "S2k0Dhg1AhS6"
      },
      "source": [
        "### Review & Transform Data"
      ]
    },
    {
      "cell_type": "markdown",
      "metadata": {
        "id": "WColdp5xdPlw"
      },
      "source": [
        "#### Drop Columns"
      ]
    },
    {
      "cell_type": "markdown",
      "metadata": {
        "id": "Vp18uLyYytTh"
      },
      "source": [
        "Data has unnamed column 'Unnamed: 0' from import that is not of value and should be removed. "
      ]
    },
    {
      "cell_type": "code",
      "metadata": {
        "id": "eGReKajnYPc5"
      },
      "source": [
        "#X_train.head()\r\n",
        "#X_test.head()\r\n",
        "#y_train.head()\r\n",
        "#y_test.head()\r\n",
        "#X_train_df.head()"
      ],
      "execution_count": 3,
      "outputs": []
    },
    {
      "cell_type": "code",
      "metadata": {
        "id": "SBlhCn-vx7uj"
      },
      "source": [
        "X_train = X_train.drop(columns='Unnamed: 0')\r\n",
        "X_test = X_test.drop(columns='Unnamed: 0')\r\n",
        "y_train = y_train.drop(columns='Unnamed: 0')\r\n",
        "y_test = y_test.drop(columns='Unnamed: 0')\r\n",
        "#X_train_df = X_train_df.drop(columns='Unnamed: 0')"
      ],
      "execution_count": 4,
      "outputs": []
    },
    {
      "cell_type": "code",
      "metadata": {
        "id": "Yuy9Q8rhZXUP"
      },
      "source": [
        "#X_train.head()\r\n",
        "#X_test.head()\r\n",
        "#y_train.head()\r\n",
        "#y_test.head()\r\n",
        "#X_train_df.head()"
      ],
      "execution_count": 5,
      "outputs": []
    },
    {
      "cell_type": "markdown",
      "metadata": {
        "id": "RCVaZ7g2b-pm"
      },
      "source": [
        "#### Turn Data into Arrays"
      ]
    },
    {
      "cell_type": "markdown",
      "metadata": {
        "id": "R44aWY3CdJyC"
      },
      "source": [
        "Transform datasets into numpy arrays to allow them be used in modelling."
      ]
    },
    {
      "cell_type": "code",
      "metadata": {
        "id": "9MsIYC7OaXj0"
      },
      "source": [
        "X_cols = list(X_train.columns)\r\n",
        "#X_cols "
      ],
      "execution_count": 6,
      "outputs": []
    },
    {
      "cell_type": "code",
      "metadata": {
        "id": "ZcEkOV7BZ3eA"
      },
      "source": [
        "#X_train = np.array(X_train)\r\n",
        "#X_test = np.array(X_test)\r\n",
        "y_train = np.array(y_train).reshape(-1)\r\n",
        "y_test = np.array(y_test).reshape(-1)"
      ],
      "execution_count": 7,
      "outputs": []
    },
    {
      "cell_type": "code",
      "metadata": {
        "colab": {
          "base_uri": "https://localhost:8080/"
        },
        "id": "G4uJrNQy_ULT",
        "outputId": "22c233be-32ef-43a4-9578-13383cc5e33e"
      },
      "source": [
        "print(X_train.shape)\r\n",
        "print(X_test.shape)\r\n",
        "print(y_train.shape)\r\n",
        "print(y_test.shape)"
      ],
      "execution_count": 8,
      "outputs": [
        {
          "output_type": "stream",
          "text": [
            "(16807, 19)\n",
            "(5603, 19)\n",
            "(16807,)\n",
            "(5603,)\n"
          ],
          "name": "stdout"
        }
      ]
    },
    {
      "cell_type": "markdown",
      "metadata": {
        "id": "fonzLtn1EER3"
      },
      "source": [
        "## The Models"
      ]
    },
    {
      "cell_type": "markdown",
      "metadata": {
        "id": "9nJ55WuU-CYg"
      },
      "source": [
        "'FAN_ACTUAL' is the target variable of this analysis and is a continuous variable - for this reason we will be focused on Regression models.\r\n",
        "\r\n",
        "With the above in mind, we have selected four regression models to use on our data:\r\n",
        "\r\n",
        "1.   Linear Regression\r\n",
        "2.   SGD Regressor\r\n",
        "3.   ElasticNet\r\n",
        "4.   Random Forest Regression\r\n",
        "\r\n",
        "In this section, we will introduce the models before looking to looking to fine tune them in the following sections.\r\n",
        "we will begin with simple regression models and look to expand on this once we get a sense of how the model is performing."
      ]
    },
    {
      "cell_type": "markdown",
      "metadata": {
        "id": "q0DlAfvi_mWg"
      },
      "source": [
        "### Linear Regression"
      ]
    },
    {
      "cell_type": "markdown",
      "metadata": {
        "id": "7lJsyoj6KKUS"
      },
      "source": [
        "We will begin with an Ordinary least squares (OLS) regression. OLS is a linear model that is fitted by minimizing the sum of the squares in the difference between the observed and predicted values of the dependent variable configured as a straight line.\r\n",
        "\r\n",
        "We will initially run this model using StatsModel package - as this provides a clearer summary of performance - and then run the final model on sklearn."
      ]
    },
    {
      "cell_type": "markdown",
      "metadata": {
        "id": "hQma4JMiA6yU"
      },
      "source": [
        "#### StatsModel OLS (Model 1)"
      ]
    },
    {
      "cell_type": "markdown",
      "metadata": {
        "id": "KuNpBgOuFA2B"
      },
      "source": [
        "For our initial model, we will use an OLS using StatsModel's OLS function. This provides us with some interesting results:\r\n",
        "\r\n",
        "* R-squared = 0.364 \r\n",
        "   * This suggest that the model currently explains 36.4% of the variance in our target variable 'FAN_ACTUAL'\r\n",
        "   * This drops slightly to 0.363 when we look R-squared adjusted which may suggest that some of the independent variable / features are not contributed to the model as hoped\r\n",
        "\r\n",
        "\r\n",
        "* F-statistic is significant \r\n",
        "  * This allows us to can reject the null that the coefficients in model are 0 and do not imporve the model's fit\r\n",
        "\r\n",
        "* Durbin-Watson of 2.047 \r\n",
        "  * Suggests the model does not suffer from Autocorrelation\r\n",
        "\r\n",
        "* Skew (1.12) and Kurtosis (5.82)\r\n",
        "  * This indicates that there is positive / right-hand skew to the data with outliers. This agrees with what we found out during our EDA.\r\n",
        "\r\n",
        "* Coefficients\r\n",
        "  * Large number of features are considered significant at 5% level including:   \r\n",
        "    * 'FAN_AVG', 'PASSCOMP_AVG', 'PASSYDS_300_AVG', 'RUSHATT_AVG', 'RUSHTD_AVG', 'FUMLST_AVG', 'TGTS_AVG', 'RECTD_AVG', 'RECTD_AVG', 'WIN/TIE_AVG', 'OPP_PTS_AGT_AVG', 'HOME', 'GRASS' (4.8%), 'POS_WR', 'MONTH_September'\r\n",
        "  * Some coefficients were not considered signicant including:\r\n",
        "    * 'DOME', 'SUNDAY', 'POS_TE', 'TIME_Night', 'TIME_Noon' \r\n",
        "\r\n",
        "* Mean Squared Error is 40.85\r\n",
        "\r\n"
      ]
    },
    {
      "cell_type": "code",
      "metadata": {
        "colab": {
          "base_uri": "https://localhost:8080/"
        },
        "id": "uGWp0R2-Cv9u",
        "outputId": "4b5417dd-d4d4-4617-fdd5-a6e61af544fa"
      },
      "source": [
        "import statsmodels.api as sm\r\n",
        "\r\n",
        "X_train_OLS = pd.DataFrame(X_train, columns=X_cols)\r\n",
        "X_train_OLS = sm.add_constant(X_train_OLS)\r\n",
        "\r\n",
        "OLS = sm.OLS(y_train, X_train_OLS)\r\n",
        "OLS = OLS.fit()\r\n",
        "\r\n",
        "print(OLS.summary())"
      ],
      "execution_count": 9,
      "outputs": [
        {
          "output_type": "stream",
          "text": [
            "/usr/local/lib/python3.7/dist-packages/statsmodels/tools/_testing.py:19: FutureWarning: pandas.util.testing is deprecated. Use the functions in the public API at pandas.testing instead.\n",
            "  import pandas.util.testing as tm\n"
          ],
          "name": "stderr"
        },
        {
          "output_type": "stream",
          "text": [
            "                            OLS Regression Results                            \n",
            "==============================================================================\n",
            "Dep. Variable:                      y   R-squared:                       0.364\n",
            "Model:                            OLS   Adj. R-squared:                  0.363\n",
            "Method:                 Least Squares   F-statistic:                     504.7\n",
            "Date:                Thu, 25 Feb 2021   Prob (F-statistic):               0.00\n",
            "Time:                        20:13:34   Log-Likelihood:                -55023.\n",
            "No. Observations:               16807   AIC:                         1.101e+05\n",
            "Df Residuals:                   16787   BIC:                         1.102e+05\n",
            "Df Model:                          19                                         \n",
            "Covariance Type:            nonrobust                                         \n",
            "===================================================================================\n",
            "                      coef    std err          t      P>|t|      [0.025      0.975]\n",
            "-----------------------------------------------------------------------------------\n",
            "const               7.0974      0.258     27.496      0.000       6.591       7.603\n",
            "FAN_AVG             2.5052      0.149     16.862      0.000       2.214       2.796\n",
            "PASSCOMP_AVG        2.8980      0.146     19.827      0.000       2.612       3.184\n",
            "PASSYDS_300_AVG    -0.3702      0.079     -4.709      0.000      -0.524      -0.216\n",
            "RUSHATT_AVG         1.3402      0.101     13.318      0.000       1.143       1.537\n",
            "RUSHTD_AVG         -0.3119      0.077     -4.043      0.000      -0.463      -0.161\n",
            "FUMLST_AVG          0.2417      0.055      4.375      0.000       0.133       0.350\n",
            "TGTS_AVG            1.3400      0.087     15.334      0.000       1.169       1.511\n",
            "RECTD_AVG          -0.5715      0.077     -7.469      0.000      -0.722      -0.422\n",
            "WIN/TIE_AVG         0.2707      0.051      5.274      0.000       0.170       0.371\n",
            "OPP_PTS_AGT_AVG     0.3223      0.050      6.493      0.000       0.225       0.420\n",
            "HOME                0.6460      0.099      6.541      0.000       0.452       0.840\n",
            "DOME                0.1580      0.132      1.197      0.231      -0.101       0.417\n",
            "GRASS              -0.2402      0.119     -2.024      0.043      -0.473      -0.008\n",
            "SUNDAY             -0.0847      0.191     -0.444      0.657      -0.458       0.289\n",
            "POS_TE              0.0954      0.191      0.499      0.618      -0.279       0.470\n",
            "POS_WR              0.5373      0.183      2.934      0.003       0.178       0.896\n",
            "MONTH_September     0.3166      0.125      2.525      0.012       0.071       0.562\n",
            "TIME_Night         -0.1138      0.189     -0.602      0.547      -0.484       0.257\n",
            "TIME_Noon           0.0074      0.123      0.060      0.952      -0.233       0.248\n",
            "==============================================================================\n",
            "Omnibus:                     3473.284   Durbin-Watson:                   2.047\n",
            "Prob(Omnibus):                  0.000   Jarque-Bera (JB):             9094.934\n",
            "Skew:                           1.121   Prob(JB):                         0.00\n",
            "Kurtosis:                       5.822   Cond. No.                         12.4\n",
            "==============================================================================\n",
            "\n",
            "Warnings:\n",
            "[1] Standard Errors assume that the covariance matrix of the errors is correctly specified.\n"
          ],
          "name": "stdout"
        }
      ]
    },
    {
      "cell_type": "code",
      "metadata": {
        "id": "zRVS2mGQO2Ci"
      },
      "source": [
        "y_pred = OLS.predict(X_train_OLS)"
      ],
      "execution_count": 10,
      "outputs": []
    },
    {
      "cell_type": "code",
      "metadata": {
        "colab": {
          "base_uri": "https://localhost:8080/"
        },
        "id": "N-hO3veDPgfM",
        "outputId": "0416b50b-1b21-4aa0-ea43-7c4cf85b67e2"
      },
      "source": [
        "from sklearn.metrics import r2_score\r\n",
        "from sklearn.metrics import mean_squared_error,mean_absolute_error\r\n",
        "\r\n",
        "OLS_rmse = np.sqrt(mean_squared_error(y_train, y_pred))\r\n",
        "OLS_mae = mean_absolute_error(y_train, y_pred)\r\n",
        "OLS_R2 = r2_score(y_train, y_pred)\r\n",
        "\r\n",
        "print('RMSE :', round(np.sqrt(mean_squared_error(y_train, y_pred),),2))\r\n",
        "print('MAE :', round(mean_absolute_error(y_train, y_pred), 2))\r\n",
        "print('R2 :', round(r2_score(y_train, y_pred), 3))"
      ],
      "execution_count": 11,
      "outputs": [
        {
          "output_type": "stream",
          "text": [
            "RMSE : 6.39\n",
            "MAE : 4.65\n",
            "R2 : 0.364\n"
          ],
          "name": "stdout"
        }
      ]
    },
    {
      "cell_type": "code",
      "metadata": {
        "colab": {
          "base_uri": "https://localhost:8080/",
          "height": 0
        },
        "id": "s19eoZvZPMO-",
        "outputId": "086e890a-1288-492c-c339-e116e4474bcc"
      },
      "source": [
        "_ = plt.scatter(x=y_train, y=y_pred)\r\n",
        "_ = plt.xlabel('Actual')\r\n",
        "_ = plt.ylabel('Predicted')\r\n",
        "\r\n",
        "plt.show()"
      ],
      "execution_count": 12,
      "outputs": [
        {
          "output_type": "display_data",
          "data": {
            "image/png": "[encoded data removed]",
            "text/plain": [
              "<Figure size 432x288 with 1 Axes>"
            ]
          },
          "metadata": {
            "tags": [],
            "needs_background": "light"
          }
        }
      ]
    },
    {
      "cell_type": "markdown",
      "metadata": {
        "id": "kUuZnFHPSoFu"
      },
      "source": [
        "#### StatsModel OLS (Model 2)"
      ]
    },
    {
      "cell_type": "markdown",
      "metadata": {
        "id": "1dvCFv1Z08z7"
      },
      "source": [
        "I repeated the OLS model but removed the non-significant features from the model to understand how this would impact on the model. This created the following result:\r\n",
        "\r\n",
        "* All coefficients are significant at 5% level\r\n",
        "\r\n",
        "* R-squared has dropped slightly to 0.363\r\n",
        "\r\n",
        "* Mean-squared error has increased to 40.85\r\n",
        "\r\n",
        "As both the R-squared and the MSE performed slightly worse in this model, we will not continue with this feature set going forward. "
      ]
    },
    {
      "cell_type": "code",
      "metadata": {
        "colab": {
          "base_uri": "https://localhost:8080/"
        },
        "id": "basf62mwRCli",
        "outputId": "c27f3c8f-7e01-4d61-e2b8-8391f49e613c"
      },
      "source": [
        "X_train_OLS = X_train_OLS.drop(columns=['DOME', 'SUNDAY', 'POS_TE', 'TIME_Night', 'TIME_Noon'])\r\n",
        "X_train_OLS = sm.add_constant(X_train_OLS)\r\n",
        "\r\n",
        "OLS = sm.OLS(y_train, X_train_OLS)\r\n",
        "OLS = OLS.fit()\r\n",
        "\r\n",
        "print(OLS.summary())"
      ],
      "execution_count": 13,
      "outputs": [
        {
          "output_type": "stream",
          "text": [
            "                            OLS Regression Results                            \n",
            "==============================================================================\n",
            "Dep. Variable:                      y   R-squared:                       0.363\n",
            "Model:                            OLS   Adj. R-squared:                  0.363\n",
            "Method:                 Least Squares   F-statistic:                     685.0\n",
            "Date:                Thu, 25 Feb 2021   Prob (F-statistic):               0.00\n",
            "Time:                        20:13:35   Log-Likelihood:                -55025.\n",
            "No. Observations:               16807   AIC:                         1.101e+05\n",
            "Df Residuals:                   16792   BIC:                         1.102e+05\n",
            "Df Model:                          14                                         \n",
            "Covariance Type:            nonrobust                                         \n",
            "===================================================================================\n",
            "                      coef    std err          t      P>|t|      [0.025      0.975]\n",
            "-----------------------------------------------------------------------------------\n",
            "const               7.1293      0.106     67.555      0.000       6.922       7.336\n",
            "FAN_AVG             2.5084      0.148     16.907      0.000       2.218       2.799\n",
            "PASSCOMP_AVG        2.8825      0.143     20.153      0.000       2.602       3.163\n",
            "PASSYDS_300_AVG    -0.3682      0.079     -4.688      0.000      -0.522      -0.214\n",
            "RUSHATT_AVG         1.3174      0.089     14.837      0.000       1.143       1.491\n",
            "RUSHTD_AVG         -0.3122      0.077     -4.047      0.000      -0.463      -0.161\n",
            "FUMLST_AVG          0.2409      0.055      4.361      0.000       0.133       0.349\n",
            "TGTS_AVG            1.3456      0.086     15.569      0.000       1.176       1.515\n",
            "RECTD_AVG          -0.5707      0.076     -7.463      0.000      -0.721      -0.421\n",
            "WIN/TIE_AVG         0.2686      0.051      5.282      0.000       0.169       0.368\n",
            "OPP_PTS_AGT_AVG     0.3240      0.049      6.553      0.000       0.227       0.421\n",
            "HOME                0.6467      0.099      6.550      0.000       0.453       0.840\n",
            "GRASS              -0.3123      0.099     -3.144      0.002      -0.507      -0.118\n",
            "POS_WR              0.4745      0.130      3.656      0.000       0.220       0.729\n",
            "MONTH_September     0.3169      0.125      2.529      0.011       0.071       0.563\n",
            "==============================================================================\n",
            "Omnibus:                     3472.367   Durbin-Watson:                   2.046\n",
            "Prob(Omnibus):                  0.000   Jarque-Bera (JB):             9093.754\n",
            "Skew:                           1.120   Prob(JB):                         0.00\n",
            "Kurtosis:                       5.822   Cond. No.                         7.66\n",
            "==============================================================================\n",
            "\n",
            "Warnings:\n",
            "[1] Standard Errors assume that the covariance matrix of the errors is correctly specified.\n"
          ],
          "name": "stdout"
        }
      ]
    },
    {
      "cell_type": "code",
      "metadata": {
        "id": "K8BVsYFtSVLR"
      },
      "source": [
        "y_pred = OLS.predict(X_train_OLS)"
      ],
      "execution_count": 14,
      "outputs": []
    },
    {
      "cell_type": "code",
      "metadata": {
        "colab": {
          "base_uri": "https://localhost:8080/"
        },
        "id": "w25Ltaw6SeSb",
        "outputId": "b5781c07-08c5-4c47-d1ac-8b59078051ad"
      },
      "source": [
        "OLS_rmse_2 = np.sqrt(mean_squared_error(y_train, y_pred))\r\n",
        "OLS_mae_2 = mean_absolute_error(y_train, y_pred)\r\n",
        "OLS_R2_2 = r2_score(y_train, y_pred)\r\n",
        "\r\n",
        "print('RMSE :', round(np.sqrt(mean_squared_error(y_train, y_pred),),2))\r\n",
        "print('MAE :', round(mean_absolute_error(y_train, y_pred), 2))\r\n",
        "print('R2 :', round(r2_score(y_train, y_pred), 3))"
      ],
      "execution_count": 15,
      "outputs": [
        {
          "output_type": "stream",
          "text": [
            "RMSE : 6.39\n",
            "MAE : 4.65\n",
            "R2 : 0.363\n"
          ],
          "name": "stdout"
        }
      ]
    },
    {
      "cell_type": "code",
      "metadata": {
        "colab": {
          "base_uri": "https://localhost:8080/",
          "height": 0
        },
        "id": "IahUB2XGSYzN",
        "outputId": "a932c2d7-55e6-4740-8e9d-7481d5c6223d"
      },
      "source": [
        "_ = plt.scatter(x=y_train, y=y_pred)\r\n",
        "_ = plt.xlabel('Actual')\r\n",
        "_ = plt.ylabel('Predicted')\r\n",
        "\r\n",
        "plt.show()"
      ],
      "execution_count": 16,
      "outputs": [
        {
          "output_type": "display_data",
          "data": {
            "image/png": "[encoded data removed]",
            "text/plain": [
              "<Figure size 432x288 with 1 Axes>"
            ]
          },
          "metadata": {
            "tags": [],
            "needs_background": "light"
          }
        }
      ]
    },
    {
      "cell_type": "markdown",
      "metadata": {
        "id": "ZrWboaPX4Mnd"
      },
      "source": [
        "#### Skearn Linear Regression"
      ]
    },
    {
      "cell_type": "markdown",
      "metadata": {
        "id": "-sE49n_65nCN"
      },
      "source": [
        "Finally, we will apply this linear regression using sklearn. This is the same OLS estimator as StatsModel but does not give as detail a summary table as available there.\r\n",
        "\r\n",
        "Running the model below shows the estimator gets the same R-squared and MSE as our intial model."
      ]
    },
    {
      "cell_type": "code",
      "metadata": {
        "colab": {
          "base_uri": "https://localhost:8080/"
        },
        "id": "VkNXAsyW4fhh",
        "outputId": "cfa2cbe1-75f4-4a53-da03-e3ebe129fee6"
      },
      "source": [
        "from sklearn.linear_model import LinearRegression\r\n",
        "\r\n",
        "lm_model = LinearRegression()\r\n",
        "lm_model.fit(X_train, y_train)\r\n",
        "\r\n",
        "#y_pred = lm_model.predict(X_train)\r\n",
        "\r\n",
        "#lm_mse = mean_squared_error(y_train, y_pred)\r\n",
        "#lm_r2 = r2_score(y_train, y_pred)\r\n",
        "\r\n",
        "#print('R-squared :', round(r2_score(y_train, y_pred), 2))\r\n",
        "#print('Mean Squared Error :', round(mean_squared_error(y_train, y_pred), 2))"
      ],
      "execution_count": 17,
      "outputs": [
        {
          "output_type": "execute_result",
          "data": {
            "text/plain": [
              "LinearRegression(copy_X=True, fit_intercept=True, n_jobs=None, normalize=False)"
            ]
          },
          "metadata": {
            "tags": []
          },
          "execution_count": 17
        }
      ]
    },
    {
      "cell_type": "code",
      "metadata": {
        "id": "4vylHd7JONDu"
      },
      "source": [
        "y_pred = lm_model.predict(X_train)"
      ],
      "execution_count": 18,
      "outputs": []
    },
    {
      "cell_type": "markdown",
      "metadata": {
        "id": "cs9t2QVdQ9FD"
      },
      "source": [
        "#### Results"
      ]
    },
    {
      "cell_type": "code",
      "metadata": {
        "colab": {
          "base_uri": "https://localhost:8080/"
        },
        "id": "8jSqrch4OPqT",
        "outputId": "e208c0b8-5c0b-4ae1-a0ba-94bbab1b8950"
      },
      "source": [
        "lm_rmse = np.sqrt(mean_squared_error(y_train, y_pred))\r\n",
        "lm_mae = mean_absolute_error(y_train, y_pred)\r\n",
        "lm_r2 = r2_score(y_train, y_pred)\r\n",
        "\r\n",
        "print('RMSE :', round(np.sqrt(mean_squared_error(y_train, y_pred),),2))\r\n",
        "print('MAE :', round(mean_absolute_error(y_train, y_pred), 2))\r\n",
        "print('R2 :', round(r2_score(y_train, y_pred), 3))"
      ],
      "execution_count": 19,
      "outputs": [
        {
          "output_type": "stream",
          "text": [
            "RMSE : 6.39\n",
            "MAE : 4.65\n",
            "R2 : 0.364\n"
          ],
          "name": "stdout"
        }
      ]
    },
    {
      "cell_type": "code",
      "metadata": {
        "colab": {
          "base_uri": "https://localhost:8080/"
        },
        "id": "DBq3MUxEbY8g",
        "outputId": "a3a07c00-3182-4ee7-806b-2661ffc6983f"
      },
      "source": [
        "from sklearn.model_selection import cross_val_score\r\n",
        "\r\n",
        "lm_cv_rmse = cross_val_score(lm_model, X_train ,y_train ,cv=5 ,scoring='neg_root_mean_squared_error')\r\n",
        "lm_cv_mae = cross_val_score(lm_model, X_train ,y_train ,cv=5 ,scoring='neg_mean_absolute_error')\r\n",
        "lm_cv_r2 = cross_val_score(lm_model, X_train ,y_train ,cv=5 ,scoring='r2')\r\n",
        "\r\n",
        "lm_cv_rmse_score = abs(lm_cv_rmse.mean())\r\n",
        "lm_cv_mae_score = abs(lm_cv_mae.mean())\r\n",
        "lm_cv_r2_score = abs(lm_cv_r2.mean())\r\n",
        "\r\n",
        "print('RMSE (CV mean) :', round(lm_cv_rmse_score, 2))\r\n",
        "print('MAE (CV mean) :', round(lm_cv_mae_score, 2))\r\n",
        "print('R2 (CV mean) :', round(lm_cv_r2_score, 3))"
      ],
      "execution_count": 20,
      "outputs": [
        {
          "output_type": "stream",
          "text": [
            "RMSE (CV mean) : 6.4\n",
            "MAE (CV mean) : 4.66\n",
            "R2 (CV mean) : 0.361\n"
          ],
          "name": "stdout"
        }
      ]
    },
    {
      "cell_type": "code",
      "metadata": {
        "colab": {
          "base_uri": "https://localhost:8080/",
          "height": 0
        },
        "id": "qF8-wBHLCX5W",
        "outputId": "6e304e8e-f7e4-4294-83bc-fcecdebcd46c"
      },
      "source": [
        "_ = plt.scatter(y_train, y_pred)\r\n",
        "_ = plt.xlabel('Actual')\r\n",
        "_ = plt.ylabel('Predicted')\r\n",
        "_ = plt.title('Actual vs Predicted')\r\n",
        "\r\n",
        "plt.show()"
      ],
      "execution_count": 21,
      "outputs": [
        {
          "output_type": "display_data",
          "data": {
            "image/png": "[encoded data removed]",
            "text/plain": [
              "<Figure size 432x288 with 1 Axes>"
            ]
          },
          "metadata": {
            "tags": [],
            "needs_background": "light"
          }
        }
      ]
    },
    {
      "cell_type": "markdown",
      "metadata": {
        "id": "6AnuodXz0WWz"
      },
      "source": [
        "### SGD Regressor"
      ]
    },
    {
      "cell_type": "markdown",
      "metadata": {
        "id": "TNHe84h8BaDG"
      },
      "source": [
        "Next I will look to apply a Stochastic Gradient Descent (SGD) Regressor model to the data. \r\n",
        "\r\n",
        "This is a linear model that is fitted by minimizing a regularized empirical loss with SGD - the gradient of the loss is estimated each sample at a time and the model is updated along the way with a decreasing strength schedule (aka learning rate)."
      ]
    },
    {
      "cell_type": "code",
      "metadata": {
        "colab": {
          "base_uri": "https://localhost:8080/"
        },
        "id": "at8XncM-0bYS",
        "outputId": "b7a1c32a-bbfc-4971-a30a-fb920bb76013"
      },
      "source": [
        "from sklearn.linear_model import SGDRegressor\r\n",
        "\r\n",
        "sgd_model = SGDRegressor(random_state=42)\r\n",
        "sgd_model.fit(X_train, y_train)"
      ],
      "execution_count": 22,
      "outputs": [
        {
          "output_type": "execute_result",
          "data": {
            "text/plain": [
              "SGDRegressor(alpha=0.0001, average=False, early_stopping=False, epsilon=0.1,\n",
              "             eta0=0.01, fit_intercept=True, l1_ratio=0.15,\n",
              "             learning_rate='invscaling', loss='squared_loss', max_iter=1000,\n",
              "             n_iter_no_change=5, penalty='l2', power_t=0.25, random_state=42,\n",
              "             shuffle=True, tol=0.001, validation_fraction=0.1, verbose=0,\n",
              "             warm_start=False)"
            ]
          },
          "metadata": {
            "tags": []
          },
          "execution_count": 22
        }
      ]
    },
    {
      "cell_type": "code",
      "metadata": {
        "id": "DdgJs1QcCNJi"
      },
      "source": [
        "y_pred = sgd_model.predict(X_train)"
      ],
      "execution_count": 23,
      "outputs": []
    },
    {
      "cell_type": "code",
      "metadata": {
        "colab": {
          "base_uri": "https://localhost:8080/"
        },
        "id": "ohkAV6T4Rbsg",
        "outputId": "8bbda1c0-80cc-47db-95a4-b54e40472b45"
      },
      "source": [
        "sgd_rmse = np.sqrt(mean_squared_error(y_train, y_pred))\r\n",
        "sgd_mae = mean_absolute_error(y_train, y_pred)\r\n",
        "sgd_r2 = r2_score(y_train, y_pred)\r\n",
        "\r\n",
        "print('RMSE :', round(np.sqrt(mean_squared_error(y_train, y_pred),),2))\r\n",
        "print('MAE :', round(mean_absolute_error(y_train, y_pred), 2))\r\n",
        "print('R2 :', round(r2_score(y_train, y_pred), 3))"
      ],
      "execution_count": 24,
      "outputs": [
        {
          "output_type": "stream",
          "text": [
            "RMSE : 6.39\n",
            "MAE : 4.64\n",
            "R2 : 0.363\n"
          ],
          "name": "stdout"
        }
      ]
    },
    {
      "cell_type": "code",
      "metadata": {
        "colab": {
          "base_uri": "https://localhost:8080/"
        },
        "id": "8W8X_VSYRmRY",
        "outputId": "f1bf6c61-8dd1-4d8e-b956-5e02b5abab51"
      },
      "source": [
        "sgd_cv_rmse = cross_val_score(sgd_model, X_train ,y_train ,cv=5 ,scoring='neg_root_mean_squared_error')\r\n",
        "sgd_cv_mae = cross_val_score(sgd_model, X_train ,y_train ,cv=5 ,scoring='neg_mean_absolute_error')\r\n",
        "sgd_cv_r2 = cross_val_score(sgd_model, X_train ,y_train ,cv=5 ,scoring='r2')\r\n",
        "\r\n",
        "sgd_cv_rmse_score = abs(sgd_cv_rmse.mean())\r\n",
        "sgd_cv_mae_score = abs(sgd_cv_mae.mean())\r\n",
        "sgd_cv_r2_score = abs(sgd_cv_r2.mean())\r\n",
        "\r\n",
        "print('RMSE (CV mean) :', round(sgd_cv_rmse_score, 2))\r\n",
        "print('MAE (CV mean) :', round(sgd_cv_mae_score, 2))\r\n",
        "print('R2 (CV mean) :', round(sgd_cv_r2_score, 3))"
      ],
      "execution_count": 25,
      "outputs": [
        {
          "output_type": "stream",
          "text": [
            "RMSE (CV mean) : 6.41\n",
            "MAE (CV mean) : 4.66\n",
            "R2 (CV mean) : 0.358\n"
          ],
          "name": "stdout"
        }
      ]
    },
    {
      "cell_type": "code",
      "metadata": {
        "colab": {
          "base_uri": "https://localhost:8080/",
          "height": 0
        },
        "id": "Pd-KxbES44nJ",
        "outputId": "57abe0dc-56f6-4e34-c353-37e8ebe5ac95"
      },
      "source": [
        "_ = plt.scatter(y_train, y_pred)\r\n",
        "_ = plt.xlabel('Actual')\r\n",
        "_ = plt.ylabel('Predicted')\r\n",
        "_ = plt.title('Actual vs Predicted')\r\n",
        "\r\n",
        "plt.show()"
      ],
      "execution_count": 26,
      "outputs": [
        {
          "output_type": "display_data",
          "data": {
            "image/png": "[encoded data removed]",
            "text/plain": [
              "<Figure size 432x288 with 1 Axes>"
            ]
          },
          "metadata": {
            "tags": [],
            "needs_background": "light"
          }
        }
      ]
    },
    {
      "cell_type": "markdown",
      "metadata": {
        "id": "71IKjbAhhh4S"
      },
      "source": [
        "### ElasticNet"
      ]
    },
    {
      "cell_type": "markdown",
      "metadata": {
        "id": "VAeRA4H2nz8o"
      },
      "source": [
        "ElasticNet is a linear regression model trained with both l1 and l2\r\n",
        "-norm regularization of the coefficients. This combination allows for learning a sparse model where few of the weights are non-zero like Lasso, while still maintaining the regularization properties of Ridge. We control the convex combination of l1 and l2 using the l1_ratio parameter.\r\n",
        "\r\n",
        "Elastic-net is useful when there are multiple features which are correlated with one another. Lasso is likely to pick one of these at random, while elastic-net is likely to pick both.\r\n",
        "\r\n",
        "We will start building this model using a simple ElasticNet model with no tuning of hyperparameters. This performs worse than our previous Linear and SGD models with a higher MSE and R-squared."
      ]
    },
    {
      "cell_type": "code",
      "metadata": {
        "colab": {
          "base_uri": "https://localhost:8080/"
        },
        "id": "AD5hFcxIcn1L",
        "outputId": "e6045298-e5ec-4582-9a7a-0db0b28c406e"
      },
      "source": [
        "from sklearn.linear_model import ElasticNet\r\n",
        "\r\n",
        "en_model = ElasticNet(random_state=42)\r\n",
        "en_model.fit(X_train, y_train)"
      ],
      "execution_count": 27,
      "outputs": [
        {
          "output_type": "execute_result",
          "data": {
            "text/plain": [
              "ElasticNet(alpha=1.0, copy_X=True, fit_intercept=True, l1_ratio=0.5,\n",
              "           max_iter=1000, normalize=False, positive=False, precompute=False,\n",
              "           random_state=42, selection='cyclic', tol=0.0001, warm_start=False)"
            ]
          },
          "metadata": {
            "tags": []
          },
          "execution_count": 27
        }
      ]
    },
    {
      "cell_type": "code",
      "metadata": {
        "id": "fkzt38iwdjqT"
      },
      "source": [
        "y_pred = en_model.predict(X_train)"
      ],
      "execution_count": 28,
      "outputs": []
    },
    {
      "cell_type": "code",
      "metadata": {
        "colab": {
          "base_uri": "https://localhost:8080/"
        },
        "id": "lM4WQ3lXUdA_",
        "outputId": "7070d5cc-ba31-4a8c-9483-77a6a670c45a"
      },
      "source": [
        "en_rmse = np.sqrt(mean_squared_error(y_train, y_pred))\r\n",
        "en_mae = mean_absolute_error(y_train, y_pred)\r\n",
        "en_r2 = r2_score(y_train, y_pred)\r\n",
        "\r\n",
        "print('RMSE :', round(np.sqrt(mean_squared_error(y_train, y_pred),),2))\r\n",
        "print('MAE :', round(mean_absolute_error(y_train, y_pred), 2))\r\n",
        "print('R2 :', round(r2_score(y_train, y_pred), 3))"
      ],
      "execution_count": 29,
      "outputs": [
        {
          "output_type": "stream",
          "text": [
            "RMSE : 6.68\n",
            "MAE : 5.03\n",
            "R2 : 0.305\n"
          ],
          "name": "stdout"
        }
      ]
    },
    {
      "cell_type": "code",
      "metadata": {
        "colab": {
          "base_uri": "https://localhost:8080/"
        },
        "id": "3OKaBe83Uifg",
        "outputId": "db99f203-9043-458b-e753-ddf6a9a2b0b7"
      },
      "source": [
        "en_cv_rmse = cross_val_score(en_model, X_train ,y_train ,cv=5 ,scoring='neg_root_mean_squared_error')\r\n",
        "en_cv_mae = cross_val_score(en_model, X_train ,y_train ,cv=5 ,scoring='neg_mean_absolute_error')\r\n",
        "en_cv_r2 = cross_val_score(en_model, X_train ,y_train ,cv=5 ,scoring='r2')\r\n",
        "\r\n",
        "en_cv_rmse_score = abs(en_cv_rmse.mean())\r\n",
        "en_cv_mae_score = abs(en_cv_mae.mean())\r\n",
        "en_cv_r2_score = abs(en_cv_r2.mean())\r\n",
        "\r\n",
        "print('RMSE (CV mean) :', round(en_cv_rmse_score, 2))\r\n",
        "print('MAE (CV mean) :', round(en_cv_mae_score, 2))\r\n",
        "print('R2 (CV mean) :', round(en_cv_r2_score, 3))"
      ],
      "execution_count": 30,
      "outputs": [
        {
          "output_type": "stream",
          "text": [
            "RMSE (CV mean) : 6.68\n",
            "MAE (CV mean) : 5.03\n",
            "R2 (CV mean) : 0.304\n"
          ],
          "name": "stdout"
        }
      ]
    },
    {
      "cell_type": "code",
      "metadata": {
        "colab": {
          "base_uri": "https://localhost:8080/",
          "height": 0
        },
        "id": "FihFf8HreOeR",
        "outputId": "70bd1630-403f-47e3-f3ce-fadcff7cbebf"
      },
      "source": [
        "_ = plt.scatter(y_train, y_pred)\r\n",
        "_ = plt.xlabel('Actual')\r\n",
        "_ = plt.ylabel('Predicted')\r\n",
        "_ = plt.title('Actual vs Predicted')\r\n",
        "\r\n",
        "plt.show()"
      ],
      "execution_count": 31,
      "outputs": [
        {
          "output_type": "display_data",
          "data": {
            "image/png": "[encoded data removed]",
            "text/plain": [
              "<Figure size 432x288 with 1 Axes>"
            ]
          },
          "metadata": {
            "tags": [],
            "needs_background": "light"
          }
        }
      ]
    },
    {
      "cell_type": "markdown",
      "metadata": {
        "id": "MmeCnIwyQZ9w"
      },
      "source": [
        "### Random Forest Regressor"
      ]
    },
    {
      "cell_type": "markdown",
      "metadata": {
        "id": "Y7xFT_wjpVaw"
      },
      "source": [
        "A random forest is a meta estimator that fits a number of classifying decision trees on various sub-samples of the dataset and uses averaging to improve the predictive accuracy and control over-fitting. \r\n",
        "\r\n",
        "We will begin with a simple Random Forest. This initially shows fantastic results with an MSE of 6.17 and R-squared of 90%, however this initial view is prone to overfitting of the data. When we apply cross-validation of the model for MSE, we see this 44.25 - showing this model still needs a bit of work to generalise better."
      ]
    },
    {
      "cell_type": "code",
      "metadata": {
        "colab": {
          "base_uri": "https://localhost:8080/"
        },
        "id": "Mo-1zpe8QiEY",
        "outputId": "8ab12844-dca1-46df-9336-c32cfe4b2018"
      },
      "source": [
        "from sklearn.ensemble import RandomForestRegressor\r\n",
        "\r\n",
        "rf_model = RandomForestRegressor(random_state=42)\r\n",
        "rf_model.fit(X_train, y_train)\r\n"
      ],
      "execution_count": 32,
      "outputs": [
        {
          "output_type": "execute_result",
          "data": {
            "text/plain": [
              "RandomForestRegressor(bootstrap=True, ccp_alpha=0.0, criterion='mse',\n",
              "                      max_depth=None, max_features='auto', max_leaf_nodes=None,\n",
              "                      max_samples=None, min_impurity_decrease=0.0,\n",
              "                      min_impurity_split=None, min_samples_leaf=1,\n",
              "                      min_samples_split=2, min_weight_fraction_leaf=0.0,\n",
              "                      n_estimators=100, n_jobs=None, oob_score=False,\n",
              "                      random_state=42, verbose=0, warm_start=False)"
            ]
          },
          "metadata": {
            "tags": []
          },
          "execution_count": 32
        }
      ]
    },
    {
      "cell_type": "code",
      "metadata": {
        "id": "SMm-m7ijv3gt"
      },
      "source": [
        "y_pred = rf_model.predict(X_train)"
      ],
      "execution_count": 33,
      "outputs": []
    },
    {
      "cell_type": "code",
      "metadata": {
        "colab": {
          "base_uri": "https://localhost:8080/"
        },
        "id": "_fgkmxanVVVI",
        "outputId": "1e3f22ed-65b9-432a-ff9d-876c0e203f7f"
      },
      "source": [
        "rf_rmse = np.sqrt(mean_squared_error(y_train, y_pred))\r\n",
        "rf_mae = mean_absolute_error(y_train, y_pred)\r\n",
        "rf_r2 = r2_score(y_train, y_pred)\r\n",
        "\r\n",
        "print('RMSE :', round(np.sqrt(mean_squared_error(y_train, y_pred),),2))\r\n",
        "print('MAE :', round(mean_absolute_error(y_train, y_pred), 2))\r\n",
        "print('R2 :', round(r2_score(y_train, y_pred), 3))"
      ],
      "execution_count": 34,
      "outputs": [
        {
          "output_type": "stream",
          "text": [
            "RMSE : 2.48\n",
            "MAE : 1.81\n",
            "R2 : 0.904\n"
          ],
          "name": "stdout"
        }
      ]
    },
    {
      "cell_type": "code",
      "metadata": {
        "colab": {
          "base_uri": "https://localhost:8080/"
        },
        "id": "Wr4nHIzcVbe7",
        "outputId": "5237e72b-99ee-4884-a922-127280f0fe29"
      },
      "source": [
        "rf_cv_rmse = cross_val_score(rf_model, X_train ,y_train ,cv=5 ,scoring='neg_root_mean_squared_error')\r\n",
        "rf_cv_mae = cross_val_score(rf_model, X_train ,y_train ,cv=5 ,scoring='neg_mean_absolute_error')\r\n",
        "rf_cv_r2 = cross_val_score(rf_model, X_train ,y_train ,cv=5 ,scoring='r2')\r\n",
        "\r\n",
        "rf_cv_rmse_score = abs(rf_cv_rmse.mean())\r\n",
        "rf_cv_mae_score = abs(rf_cv_mae.mean())\r\n",
        "rf_cv_r2_score = abs(rf_cv_r2.mean())\r\n",
        "\r\n",
        "print('RMSE (CV mean) :', round(rf_cv_rmse_score, 2))\r\n",
        "print('MAE (CV mean) :', round(rf_cv_mae_score, 2))\r\n",
        "print('R2 (CV mean) :', round(rf_cv_r2_score, 3))"
      ],
      "execution_count": 35,
      "outputs": [
        {
          "output_type": "stream",
          "text": [
            "RMSE (CV mean) : 6.65\n",
            "MAE (CV mean) : 4.9\n",
            "R2 (CV mean) : 0.31\n"
          ],
          "name": "stdout"
        }
      ]
    },
    {
      "cell_type": "code",
      "metadata": {
        "colab": {
          "base_uri": "https://localhost:8080/",
          "height": 0
        },
        "id": "J7OnsaNtzogz",
        "outputId": "c6639d06-2e37-4a55-aa78-2bc960badea4"
      },
      "source": [
        "_ = plt.scatter(y_train, y_pred)\r\n",
        "_ = plt.xlabel('Actual')\r\n",
        "_ = plt.ylabel('Predicted')\r\n",
        "_ = plt.title('Actual vs Predicted')\r\n",
        "\r\n",
        "plt.show()"
      ],
      "execution_count": 36,
      "outputs": [
        {
          "output_type": "display_data",
          "data": {
            "image/png": "[encoded data removed]",
            "text/plain": [
              "<Figure size 432x288 with 1 Axes>"
            ]
          },
          "metadata": {
            "tags": [],
            "needs_background": "light"
          }
        }
      ]
    },
    {
      "cell_type": "code",
      "metadata": {
        "colab": {
          "base_uri": "https://localhost:8080/",
          "height": 0
        },
        "id": "KYt9v2f3cxZ9",
        "outputId": "5b69ce8f-3e18-4de4-d0c7-2c3a0883a1bc"
      },
      "source": [
        "features = X_train.columns\r\n",
        "importances = rf_model.feature_importances_\r\n",
        "indices = np.argsort(importances)\r\n",
        "\r\n",
        "plt.figure(figsize=(10,5))\r\n",
        "plt.title('Feature Importances')\r\n",
        "plt.barh(range(len(indices)), importances[indices], color='b', align='center')\r\n",
        "plt.yticks(range(len(indices)), [features[i] for i in indices])\r\n",
        "plt.xlabel('Relative Importance')\r\n",
        "plt.show()\r\n",
        "\r\n",
        "imp_table = pd.DataFrame(list(zip(features,importances)),columns =['Features', 'Importance scores'])\r\n",
        "imp_table = imp_table.sort_values(by='Importance scores', ascending=False)\r\n",
        "print(imp_table)"
      ],
      "execution_count": 37,
      "outputs": [
        {
          "output_type": "display_data",
          "data": {
            "image/png": "[encoded data removed]",
            "text/plain": [
              "<Figure size 720x360 with 1 Axes>"
            ]
          },
          "metadata": {
            "tags": [],
            "needs_background": "light"
          }
        },
        {
          "output_type": "stream",
          "text": [
            "           Features  Importance scores\n",
            "0           FAN_AVG           0.305989\n",
            "1      PASSCOMP_AVG           0.198201\n",
            "9   OPP_PTS_AGT_AVG           0.124853\n",
            "3       RUSHATT_AVG           0.083164\n",
            "6          TGTS_AVG           0.077321\n",
            "8       WIN/TIE_AVG           0.042529\n",
            "5        FUMLST_AVG           0.020503\n",
            "7         RECTD_AVG           0.018214\n",
            "4        RUSHTD_AVG           0.017907\n",
            "10             HOME           0.016773\n",
            "16  MONTH_September           0.015244\n",
            "12            GRASS           0.014687\n",
            "18        TIME_Noon           0.014479\n",
            "11             DOME           0.013750\n",
            "13           SUNDAY           0.009670\n",
            "17       TIME_Night           0.009445\n",
            "2   PASSYDS_300_AVG           0.007963\n",
            "15           POS_WR           0.004894\n",
            "14           POS_TE           0.004412\n"
          ],
          "name": "stdout"
        }
      ]
    },
    {
      "cell_type": "markdown",
      "metadata": {
        "id": "fG6drYvNK2sT"
      },
      "source": [
        "### Review Performance"
      ]
    },
    {
      "cell_type": "markdown",
      "metadata": {
        "id": "T3D2tu9WrB2T"
      },
      "source": [
        "Finally we will review how each model performed. We do this using three evaluation metrics:\r\n",
        "* Root Mean Square Error - standard deviation of distance between prediction and observed value\r\n",
        "* Mean Absolute Error - the average absolute distance between prediction and observed value\r\n",
        "* R-squared - explains how well models explain variablity of dependent variable (fantasy points)\r\n",
        "\r\n",
        "For each of these metrics, we will see how the model performed on all training data and with cross-validation on training data.\r\n",
        "\r\n",
        "Overall, it shows that Random Forest is the best model on all training data (as it seems to have overfitted) but is 3rd best when we look at CV scores across all metrics. Linear regression model is best when we look at CV results."
      ]
    },
    {
      "cell_type": "code",
      "metadata": {
        "id": "OfmRt2D9TjcA"
      },
      "source": [
        "model_names = ['Linear', 'SGD', 'ElasticNet', 'Random Forest']\r\n",
        "model_rmse = [lm_rmse, sgd_rmse, en_rmse, rf_rmse]\r\n",
        "model_rmse_cv = [lm_cv_rmse_score, sgd_cv_rmse_score, en_cv_rmse_score, rf_cv_rmse_score]\r\n",
        "model_mae = [lm_mae, sgd_mae, en_mae, rf_mae]\r\n",
        "model_mae_cv = [lm_cv_mae_score, sgd_cv_mae_score, en_cv_mae_score, rf_cv_mae_score]\r\n",
        "model_r2 = [lm_r2, sgd_r2, en_r2, rf_r2]\r\n",
        "model_r2_cv = [lm_cv_r2_score, sgd_cv_r2_score, en_cv_r2_score, rf_cv_r2_score]"
      ],
      "execution_count": 38,
      "outputs": []
    },
    {
      "cell_type": "code",
      "metadata": {
        "id": "Qh8-rHGSVSY0"
      },
      "source": [
        "rmse_performance = pd.DataFrame(list(zip(model_names, model_rmse, model_rmse_cv)), columns=['Model', 'Score', 'CV Score'])"
      ],
      "execution_count": 39,
      "outputs": []
    },
    {
      "cell_type": "code",
      "metadata": {
        "id": "NYpAu226YBlp",
        "colab": {
          "base_uri": "https://localhost:8080/",
          "height": 0
        },
        "outputId": "73fe09c2-374f-45f0-e8da-abbdafd118aa"
      },
      "source": [
        "rmse_performance.sort_values(by='Score')"
      ],
      "execution_count": 40,
      "outputs": [
        {
          "output_type": "execute_result",
          "data": {
            "text/html": [
              "<div>\n",
              "<style scoped>\n",
              "    .dataframe tbody tr th:only-of-type {\n",
              "        vertical-align: middle;\n",
              "    }\n",
              "\n",
              "    .dataframe tbody tr th {\n",
              "        vertical-align: top;\n",
              "    }\n",
              "\n",
              "    .dataframe thead th {\n",
              "        text-align: right;\n",
              "    }\n",
              "</style>\n",
              "<table border=\"1\" class=\"dataframe\">\n",
              "  <thead>\n",
              "    <tr style=\"text-align: right;\">\n",
              "      <th></th>\n",
              "      <th>Model</th>\n",
              "      <th>Score</th>\n",
              "      <th>CV Score</th>\n",
              "    </tr>\n",
              "  </thead>\n",
              "  <tbody>\n",
              "    <tr>\n",
              "      <th>3</th>\n",
              "      <td>Random Forest</td>\n",
              "      <td>2.483549</td>\n",
              "      <td>6.651512</td>\n",
              "    </tr>\n",
              "    <tr>\n",
              "      <th>0</th>\n",
              "      <td>Linear</td>\n",
              "      <td>6.391073</td>\n",
              "      <td>6.402013</td>\n",
              "    </tr>\n",
              "    <tr>\n",
              "      <th>1</th>\n",
              "      <td>SGD</td>\n",
              "      <td>6.394132</td>\n",
              "      <td>6.413925</td>\n",
              "    </tr>\n",
              "    <tr>\n",
              "      <th>2</th>\n",
              "      <td>ElasticNet</td>\n",
              "      <td>6.680785</td>\n",
              "      <td>6.681879</td>\n",
              "    </tr>\n",
              "  </tbody>\n",
              "</table>\n",
              "</div>"
            ],
            "text/plain": [
              "           Model     Score  CV Score\n",
              "3  Random Forest  2.483549  6.651512\n",
              "0         Linear  6.391073  6.402013\n",
              "1            SGD  6.394132  6.413925\n",
              "2     ElasticNet  6.680785  6.681879"
            ]
          },
          "metadata": {
            "tags": []
          },
          "execution_count": 40
        }
      ]
    },
    {
      "cell_type": "code",
      "metadata": {
        "id": "Sf-iG-b_Wpi0",
        "colab": {
          "base_uri": "https://localhost:8080/",
          "height": 0
        },
        "outputId": "f24cc27f-66d9-4abe-8c16-4f8a755c79ec"
      },
      "source": [
        "rmse_performance = rmse_performance.sort_values(by='Score')\r\n",
        "\r\n",
        "#_ = plt.figure(figsize=(20,10))\r\n",
        "_ = rmse_performance.plot(x='Model', y=['Score', 'CV Score'], kind='bar', figsize=(12,6), color=['lightblue', 'steelblue'])\r\n",
        "_ = plt.legend(loc='upper left')\r\n",
        "_ = plt.ylabel('RMSE')\r\n",
        "_ = plt.title('RMSE Performance', fontsize=18)\r\n",
        "\r\n",
        "plt.show()"
      ],
      "execution_count": 41,
      "outputs": [
        {
          "output_type": "display_data",
          "data": {
            "image/png": "[encoded data removed]",
            "text/plain": [
              "<Figure size 864x432 with 1 Axes>"
            ]
          },
          "metadata": {
            "tags": [],
            "needs_background": "light"
          }
        }
      ]
    },
    {
      "cell_type": "code",
      "metadata": {
        "id": "HzNVtv_flbGH"
      },
      "source": [
        "mae_performance = pd.DataFrame(list(zip(model_names, model_mae, model_mae_cv)), columns=['Model', 'Score', 'CV Score'])"
      ],
      "execution_count": 42,
      "outputs": []
    },
    {
      "cell_type": "code",
      "metadata": {
        "colab": {
          "base_uri": "https://localhost:8080/",
          "height": 0
        },
        "id": "PCdYLBwpoj_j",
        "outputId": "0cf1471e-70f7-40b0-df15-1bf446282ccc"
      },
      "source": [
        "mae_performance.sort_values(by='Score')"
      ],
      "execution_count": 43,
      "outputs": [
        {
          "output_type": "execute_result",
          "data": {
            "text/html": [
              "<div>\n",
              "<style scoped>\n",
              "    .dataframe tbody tr th:only-of-type {\n",
              "        vertical-align: middle;\n",
              "    }\n",
              "\n",
              "    .dataframe tbody tr th {\n",
              "        vertical-align: top;\n",
              "    }\n",
              "\n",
              "    .dataframe thead th {\n",
              "        text-align: right;\n",
              "    }\n",
              "</style>\n",
              "<table border=\"1\" class=\"dataframe\">\n",
              "  <thead>\n",
              "    <tr style=\"text-align: right;\">\n",
              "      <th></th>\n",
              "      <th>Model</th>\n",
              "      <th>Score</th>\n",
              "      <th>CV Score</th>\n",
              "    </tr>\n",
              "  </thead>\n",
              "  <tbody>\n",
              "    <tr>\n",
              "      <th>3</th>\n",
              "      <td>Random Forest</td>\n",
              "      <td>1.813522</td>\n",
              "      <td>4.904773</td>\n",
              "    </tr>\n",
              "    <tr>\n",
              "      <th>1</th>\n",
              "      <td>SGD</td>\n",
              "      <td>4.644953</td>\n",
              "      <td>4.658239</td>\n",
              "    </tr>\n",
              "    <tr>\n",
              "      <th>0</th>\n",
              "      <td>Linear</td>\n",
              "      <td>4.650859</td>\n",
              "      <td>4.658545</td>\n",
              "    </tr>\n",
              "    <tr>\n",
              "      <th>2</th>\n",
              "      <td>ElasticNet</td>\n",
              "      <td>5.030318</td>\n",
              "      <td>5.031389</td>\n",
              "    </tr>\n",
              "  </tbody>\n",
              "</table>\n",
              "</div>"
            ],
            "text/plain": [
              "           Model     Score  CV Score\n",
              "3  Random Forest  1.813522  4.904773\n",
              "1            SGD  4.644953  4.658239\n",
              "0         Linear  4.650859  4.658545\n",
              "2     ElasticNet  5.030318  5.031389"
            ]
          },
          "metadata": {
            "tags": []
          },
          "execution_count": 43
        }
      ]
    },
    {
      "cell_type": "code",
      "metadata": {
        "colab": {
          "base_uri": "https://localhost:8080/",
          "height": 0
        },
        "id": "Xt7_jCjQpHu3",
        "outputId": "1a2bde57-b320-41b4-afab-0ec352ed5896"
      },
      "source": [
        "mae_performance = mae_performance.sort_values(by='Score')\r\n",
        "\r\n",
        "_ = mae_performance.plot(x='Model', y=['Score', 'CV Score'], kind='bar', figsize=(12,6), color=['lightblue', 'steelblue'])\r\n",
        "_ = plt.legend(loc='upper left')\r\n",
        "_ = plt.ylabel('MAE')\r\n",
        "_ = plt.title('MAE Performance', fontsize=18)\r\n",
        "\r\n",
        "plt.show()"
      ],
      "execution_count": 44,
      "outputs": [
        {
          "output_type": "display_data",
          "data": {
            "image/png": "[encoded data removed]",
            "text/plain": [
              "<Figure size 864x432 with 1 Axes>"
            ]
          },
          "metadata": {
            "tags": [],
            "needs_background": "light"
          }
        }
      ]
    },
    {
      "cell_type": "code",
      "metadata": {
        "id": "3D5cPTm1pWY-"
      },
      "source": [
        "r2_performance = pd.DataFrame(list(zip(model_names, model_r2, model_r2_cv)), columns=['Model', 'Score', 'CV Score'])"
      ],
      "execution_count": 45,
      "outputs": []
    },
    {
      "cell_type": "code",
      "metadata": {
        "colab": {
          "base_uri": "https://localhost:8080/",
          "height": 0
        },
        "id": "OzFKyenpphdI",
        "outputId": "322340ef-5749-4d49-9b6b-6ea45ebff322"
      },
      "source": [
        "r2_performance.sort_values(by='Score', ascending=False)"
      ],
      "execution_count": 46,
      "outputs": [
        {
          "output_type": "execute_result",
          "data": {
            "text/html": [
              "<div>\n",
              "<style scoped>\n",
              "    .dataframe tbody tr th:only-of-type {\n",
              "        vertical-align: middle;\n",
              "    }\n",
              "\n",
              "    .dataframe tbody tr th {\n",
              "        vertical-align: top;\n",
              "    }\n",
              "\n",
              "    .dataframe thead th {\n",
              "        text-align: right;\n",
              "    }\n",
              "</style>\n",
              "<table border=\"1\" class=\"dataframe\">\n",
              "  <thead>\n",
              "    <tr style=\"text-align: right;\">\n",
              "      <th></th>\n",
              "      <th>Model</th>\n",
              "      <th>Score</th>\n",
              "      <th>CV Score</th>\n",
              "    </tr>\n",
              "  </thead>\n",
              "  <tbody>\n",
              "    <tr>\n",
              "      <th>3</th>\n",
              "      <td>Random Forest</td>\n",
              "      <td>0.903896</td>\n",
              "      <td>0.309853</td>\n",
              "    </tr>\n",
              "    <tr>\n",
              "      <th>0</th>\n",
              "      <td>Linear</td>\n",
              "      <td>0.363580</td>\n",
              "      <td>0.360828</td>\n",
              "    </tr>\n",
              "    <tr>\n",
              "      <th>1</th>\n",
              "      <td>SGD</td>\n",
              "      <td>0.362970</td>\n",
              "      <td>0.358423</td>\n",
              "    </tr>\n",
              "    <tr>\n",
              "      <th>2</th>\n",
              "      <td>ElasticNet</td>\n",
              "      <td>0.304573</td>\n",
              "      <td>0.303839</td>\n",
              "    </tr>\n",
              "  </tbody>\n",
              "</table>\n",
              "</div>"
            ],
            "text/plain": [
              "           Model     Score  CV Score\n",
              "3  Random Forest  0.903896  0.309853\n",
              "0         Linear  0.363580  0.360828\n",
              "1            SGD  0.362970  0.358423\n",
              "2     ElasticNet  0.304573  0.303839"
            ]
          },
          "metadata": {
            "tags": []
          },
          "execution_count": 46
        }
      ]
    },
    {
      "cell_type": "code",
      "metadata": {
        "colab": {
          "base_uri": "https://localhost:8080/",
          "height": 0
        },
        "id": "QmsflrgppjPs",
        "outputId": "af9d5d97-7223-4c9a-9e59-dbb61294b801"
      },
      "source": [
        "r2_performance = r2_performance.sort_values(by='Score', ascending=False)\r\n",
        "\r\n",
        "_ = r2_performance.plot(x='Model', y=['Score', 'CV Score'], kind='bar', figsize=(12,6), color=['lightblue', 'steelblue'])\r\n",
        "_ = plt.legend(loc='upper right')\r\n",
        "_ = plt.ylabel('R2')\r\n",
        "_ = plt.title('R-squared Performance', fontsize=18)\r\n",
        "\r\n",
        "plt.show()"
      ],
      "execution_count": 47,
      "outputs": [
        {
          "output_type": "display_data",
          "data": {
            "image/png": "[encoded data removed]",
            "text/plain": [
              "<Figure size 864x432 with 1 Axes>"
            ]
          },
          "metadata": {
            "tags": [],
            "needs_background": "light"
          }
        }
      ]
    },
    {
      "cell_type": "markdown",
      "metadata": {
        "id": "diaELlYpdE5H"
      },
      "source": [
        "In the previous section, we developed our models to find the optimal for Linear, SGD Regrossor, ElasticNet and Random Forest Regressor. Following this, we found out the following:\r\n",
        "* Training Data (Without Cross-Validation): Random Forest is the best model by significant margin over the other models in regards MSE and R-squared\r\n",
        "* Training Data (With Cross-Validation): Random Forest is the worst performing model in relation to MSE, with the other three models performing roughly the same\r\n",
        "* Test Data: Random Forest flips and becomes the best performing model - performing at a similar level to that as with Training data (with cross-validation). The three other models did not generalise as well to the test data with slightly higher MSE.\r\n"
      ]
    },
    {
      "cell_type": "markdown",
      "metadata": {
        "id": "KFKdA1Ju9V54"
      },
      "source": [
        "## Tuning the Hyperparameters"
      ]
    },
    {
      "cell_type": "markdown",
      "metadata": {
        "id": "5Z9JWL46GQc7"
      },
      "source": [
        "Hyperparameters are the parameters for each model that are manually set ahead of fitting the model. \r\n",
        "\r\n",
        "In the previous section, we used the default hyperparameters for each model. However, this is not the ideal approach as the optimal hyperparmaters for each model will vary depending on the data set.\r\n",
        "\r\n",
        "In the coming sections, we will idenfify a number of important hyperparameters for each model that we will look to tune using RandomisedSearchCV and GridSearchCV from sklearn.model_selection."
      ]
    },
    {
      "cell_type": "markdown",
      "metadata": {
        "id": "x8MmnVpjj_Yk"
      },
      "source": [
        "### SGD Regressor"
      ]
    },
    {
      "cell_type": "markdown",
      "metadata": {
        "id": "xUewSQ6TjrBc"
      },
      "source": [
        "The last SGD model was fitted with default values used for the majority of the parameters. With the aim of improving the performance of this model, I will look to use cross-validation to test out the performance of the model across several parameters including:\r\n",
        "* Loss function\r\n",
        "* Regularisation penalty\r\n",
        "* Regularisation value (alpha)\r\n",
        "* Learning rate\r\n",
        "* Initial Learning Rate\r\n",
        "\r\n",
        "However, despite this hyperparameter tuning, there is little improvement in performance with MSE and R-squared remaining at similar levels.\r\n"
      ]
    },
    {
      "cell_type": "code",
      "metadata": {
        "id": "Zn6hTizuOEGl"
      },
      "source": [
        "loss = ['squared_loss', 'huber', 'epsilon_insensitive', 'squared_epsilon_insensitive']\r\n",
        "penalty = ['l1', 'l2', 'elasticnet']\r\n",
        "alpha = [0.0001, 0.001, 0.01, 0.1, 1, 10, 100, 1000]\r\n",
        "learning_rate = ['constant', 'optimal', 'invscaling', 'adaptive']\r\n",
        "eta0 = [0.01, 0.1, 1, 10, 100]\r\n",
        "\r\n",
        "param_distributions = dict(loss=loss,\r\n",
        "                           penalty=penalty,\r\n",
        "                           alpha=alpha,\r\n",
        "                           learning_rate=learning_rate,\r\n",
        "                           eta0=eta0)"
      ],
      "execution_count": 48,
      "outputs": []
    },
    {
      "cell_type": "code",
      "metadata": {
        "colab": {
          "base_uri": "https://localhost:8080/"
        },
        "id": "MqXsnhM2OGVv",
        "outputId": "507aa1ef-ef2f-4773-ddc2-f53c949067df"
      },
      "source": [
        "from sklearn.model_selection import RandomizedSearchCV\r\n",
        "\r\n",
        "sgdcv_model = RandomizedSearchCV(estimator=sgd_model,\r\n",
        "                            param_distributions=param_distributions,\r\n",
        "                            scoring='neg_mean_squared_error', cv=5, n_jobs=-1,\r\n",
        "                            n_iter=1000, random_state=42)\r\n",
        "sgdcv_model.fit(X_train, y_train)\r\n"
      ],
      "execution_count": 49,
      "outputs": [
        {
          "output_type": "execute_result",
          "data": {
            "text/plain": [
              "RandomizedSearchCV(cv=5, error_score=nan,\n",
              "                   estimator=SGDRegressor(alpha=0.0001, average=False,\n",
              "                                          early_stopping=False, epsilon=0.1,\n",
              "                                          eta0=0.01, fit_intercept=True,\n",
              "                                          l1_ratio=0.15,\n",
              "                                          learning_rate='invscaling',\n",
              "                                          loss='squared_loss', max_iter=1000,\n",
              "                                          n_iter_no_change=5, penalty='l2',\n",
              "                                          power_t=0.25, random_state=42,\n",
              "                                          shuffle=True, tol=0.001,\n",
              "                                          validation_fraction=0.1, verbose=0,\n",
              "                                          warm_...\n",
              "                   param_distributions={'alpha': [0.0001, 0.001, 0.01, 0.1, 1,\n",
              "                                                  10, 100, 1000],\n",
              "                                        'eta0': [0.01, 0.1, 1, 10, 100],\n",
              "                                        'learning_rate': ['constant', 'optimal',\n",
              "                                                          'invscaling',\n",
              "                                                          'adaptive'],\n",
              "                                        'loss': ['squared_loss', 'huber',\n",
              "                                                 'epsilon_insensitive',\n",
              "                                                 'squared_epsilon_insensitive'],\n",
              "                                        'penalty': ['l1', 'l2', 'elasticnet']},\n",
              "                   pre_dispatch='2*n_jobs', random_state=42, refit=True,\n",
              "                   return_train_score=False, scoring='neg_mean_squared_error',\n",
              "                   verbose=0)"
            ]
          },
          "metadata": {
            "tags": []
          },
          "execution_count": 49
        }
      ]
    },
    {
      "cell_type": "code",
      "metadata": {
        "colab": {
          "base_uri": "https://localhost:8080/"
        },
        "id": "x9oLIWh4ewLh",
        "outputId": "b15603c8-0c9f-4dc3-a35b-1be32cddd8b8"
      },
      "source": [
        "print('Best MSE Score: ', round(abs(sgdcv_model.best_score_), 2))\r\n",
        "print('Best Params: ', sgdcv_model.best_params_)"
      ],
      "execution_count": 50,
      "outputs": [
        {
          "output_type": "stream",
          "text": [
            "Best MSE Score:  40.99\n",
            "Best Params:  {'penalty': 'l1', 'loss': 'squared_loss', 'learning_rate': 'adaptive', 'eta0': 0.01, 'alpha': 0.01}\n"
          ],
          "name": "stdout"
        }
      ]
    },
    {
      "cell_type": "code",
      "metadata": {
        "colab": {
          "base_uri": "https://localhost:8080/"
        },
        "id": "WzbbZRT_kLSX",
        "outputId": "78c57407-a2d0-409f-8aeb-26a760534d12"
      },
      "source": [
        "y_pred = sgdcv_model.predict(X_train)\r\n",
        "\r\n",
        "sgdcv_mse = mean_squared_error(y_train, y_pred)\r\n",
        "sgdcv_r2 = r2_score(y_train, y_pred)\r\n",
        "\r\n",
        "print('R-squared :', round(r2_score(y_train, y_pred), 2))\r\n",
        "print('Mean Squared Error :', round(mean_squared_error(y_train, y_pred), 2))"
      ],
      "execution_count": 51,
      "outputs": [
        {
          "output_type": "stream",
          "text": [
            "R-squared : 0.36\n",
            "Mean Squared Error : 40.85\n"
          ],
          "name": "stdout"
        }
      ]
    },
    {
      "cell_type": "code",
      "metadata": {
        "colab": {
          "base_uri": "https://localhost:8080/",
          "height": 0
        },
        "id": "sDNHVMjDkXtW",
        "outputId": "c57a0c3d-516d-4d94-fcae-ba05ece207ae"
      },
      "source": [
        "_ = plt.scatter(y_train, y_pred)\r\n",
        "_ = plt.xlabel('Actual')\r\n",
        "_ = plt.ylabel('Predicted')\r\n",
        "_ = plt.title('Actual vs Predicted')\r\n",
        "\r\n",
        "plt.show()"
      ],
      "execution_count": 52,
      "outputs": [
        {
          "output_type": "display_data",
          "data": {
            "image/png": "[encoded data removed]",
            "text/plain": [
              "<Figure size 432x288 with 1 Axes>"
            ]
          },
          "metadata": {
            "tags": [],
            "needs_background": "light"
          }
        }
      ]
    },
    {
      "cell_type": "markdown",
      "metadata": {
        "id": "EnwrxBzTeXU0"
      },
      "source": [
        "### ElasticNet"
      ]
    },
    {
      "cell_type": "markdown",
      "metadata": {
        "id": "zTgRBIs0luYc"
      },
      "source": [
        "The last ElasticNet model was fitted with default values used for the majority of the parameters. With the aim of improving the performance of this model, I will look to use cross-validation to test out the performance of the model across several parameters including:\r\n",
        "* Regularisation penalty mixing value (l1_ratios)\r\n",
        "* Regularisation penalty constant value (alpha)\r\n",
        "\r\n",
        "\r\n",
        "This finds the optimal SGD model for this data and improves performance marginally - with the MSE score up to 40.85 (from 44.63) and R-squared to 36% (from 30%). \r\n",
        "\r\n",
        "These scores are nearly exactly the same as our SGD Regressor with CV."
      ]
    },
    {
      "cell_type": "code",
      "metadata": {
        "id": "yPPAVbAPhbCI"
      },
      "source": [
        "l1_ratios = [.1, .5, .7, .9, .95, .99, 1]\r\n",
        "alphas = [0.0001, 0.001, 0.01, 0.1, 0.3, 0.5, 0.7, 1]\r\n",
        "\r\n",
        "param_grid = dict(l1_ratios=l1_ratios, alphas=alphas)"
      ],
      "execution_count": 53,
      "outputs": []
    },
    {
      "cell_type": "code",
      "metadata": {
        "colab": {
          "base_uri": "https://localhost:8080/"
        },
        "id": "-8Iwse67hhQH",
        "outputId": "f498817b-41a5-4be5-bd95-99e190329f7a"
      },
      "source": [
        "from sklearn.linear_model import ElasticNetCV\r\n",
        "\r\n",
        "encv_model = ElasticNetCV(l1_ratio=l1_ratios, alphas=alphas, cv=5, max_iter=10000, random_state=42)\r\n",
        "encv_model.fit(X_train, y_train)"
      ],
      "execution_count": 54,
      "outputs": [
        {
          "output_type": "execute_result",
          "data": {
            "text/plain": [
              "ElasticNetCV(alphas=[0.0001, 0.001, 0.01, 0.1, 0.3, 0.5, 0.7, 1], copy_X=True,\n",
              "             cv=5, eps=0.001, fit_intercept=True,\n",
              "             l1_ratio=[0.1, 0.5, 0.7, 0.9, 0.95, 0.99, 1], max_iter=10000,\n",
              "             n_alphas=100, n_jobs=None, normalize=False, positive=False,\n",
              "             precompute='auto', random_state=42, selection='cyclic', tol=0.0001,\n",
              "             verbose=0)"
            ]
          },
          "metadata": {
            "tags": []
          },
          "execution_count": 54
        }
      ]
    },
    {
      "cell_type": "code",
      "metadata": {
        "colab": {
          "base_uri": "https://localhost:8080/"
        },
        "id": "tq-4_kSImyr3",
        "outputId": "85fbe490-9dec-43f4-cf44-6db9af0ac8ff"
      },
      "source": [
        "print('Best Alpha: ', encv_model.alpha_)\r\n",
        "print('Best L1 ratio: ', encv_model.l1_ratio_)\r\n",
        "#print(encv_model.intercept_)\r\n",
        "#print(encv_model.coef_)\r\n",
        "#print(encv_model.mse_path_)\r\n",
        "#print(encv_model.alphas_)"
      ],
      "execution_count": 55,
      "outputs": [
        {
          "output_type": "stream",
          "text": [
            "Best Alpha:  0.01\n",
            "Best L1 ratio:  1.0\n"
          ],
          "name": "stdout"
        }
      ]
    },
    {
      "cell_type": "code",
      "metadata": {
        "colab": {
          "base_uri": "https://localhost:8080/"
        },
        "id": "Kba18cFpef5N",
        "outputId": "28a0559a-64d1-4069-fb57-b90184cfba91"
      },
      "source": [
        "y_pred = encv_model.predict(X_train)\r\n",
        "\r\n",
        "encv_mse = mean_squared_error(y_train, y_pred)\r\n",
        "encv_r2 = r2_score(y_train, y_pred)\r\n",
        "\r\n",
        "print('R-squared :', round(r2_score(y_train, y_pred), 3))\r\n",
        "print('Mean Squared Error :', round(mean_squared_error(y_train, y_pred), 2))"
      ],
      "execution_count": 56,
      "outputs": [
        {
          "output_type": "stream",
          "text": [
            "R-squared : 0.363\n",
            "Mean Squared Error : 40.85\n"
          ],
          "name": "stdout"
        }
      ]
    },
    {
      "cell_type": "code",
      "metadata": {
        "colab": {
          "base_uri": "https://localhost:8080/"
        },
        "id": "xPeBbf0oqOfd",
        "outputId": "cfc61d14-4627-4022-edd1-b67f4217ac77"
      },
      "source": [
        "cv_scores_train= cross_val_score(encv_model, X_train ,y_train ,cv=5 ,scoring='neg_mean_squared_error')\r\n",
        "\r\n",
        "#print(cv_scores_train)\r\n",
        "print('Mean Squared Error (CV mean) :', round(abs(cv_scores_train.mean()), 2))\r\n",
        "print('Mean Squared Error (CV STD) :', round(cv_scores_train.std(), 2))\r\n",
        "\r\n",
        "encv_mse_cv = cv_scores_train.mean()"
      ],
      "execution_count": 57,
      "outputs": [
        {
          "output_type": "stream",
          "text": [
            "Mean Squared Error (CV mean) : 40.99\n",
            "Mean Squared Error (CV STD) : 1.35\n"
          ],
          "name": "stdout"
        }
      ]
    },
    {
      "cell_type": "code",
      "metadata": {
        "colab": {
          "base_uri": "https://localhost:8080/",
          "height": 0
        },
        "id": "QWzCiVmpjdpq",
        "outputId": "89dec646-3fee-4572-ab3c-025f004cd863"
      },
      "source": [
        "_ = plt.scatter(y_train, y_pred)\r\n",
        "_ = plt.xlabel('Actual')\r\n",
        "_ = plt.ylabel('Predicted')\r\n",
        "_ = plt.title('Actual vs Predicted')\r\n",
        "\r\n",
        "plt.show()"
      ],
      "execution_count": 58,
      "outputs": [
        {
          "output_type": "display_data",
          "data": {
            "image/png": "[encoded data removed]",
            "text/plain": [
              "<Figure size 432x288 with 1 Axes>"
            ]
          },
          "metadata": {
            "tags": [],
            "needs_background": "light"
          }
        }
      ]
    },
    {
      "cell_type": "markdown",
      "metadata": {
        "id": "5v3HrJhw1_AP"
      },
      "source": [
        "### Random Forest"
      ]
    },
    {
      "cell_type": "markdown",
      "metadata": {
        "id": "yqcQ7j7op7zy"
      },
      "source": [
        "To tune the model, we will look at three areas:\r\n",
        "* Number of estimators\r\n",
        "* Depth of decision trees\r\n",
        "* Number of features per decision tree\r\n",
        "\r\n",
        "Applying this show that the best results are found using 1,000 estimators at a max depth of 10 and using square root of the total number of features in dataset per decision tree.\r\n",
        "\r\n",
        "Doing this improved the performance to 32.05 MSE and R-squared of 50%. However, we still need to see if this generalises which we will test in next section."
      ]
    },
    {
      "cell_type": "code",
      "metadata": {
        "id": "t09hwbUJ3d-E"
      },
      "source": [
        "param_grid = {  'n_estimators': [100, 500, 1000],\r\n",
        "                'max_depth': [3, 5, 10],\r\n",
        "                'max_features': ['auto', 'sqrt'],\r\n",
        "                'criterion': ['mse']\r\n",
        "             }\r\n"
      ],
      "execution_count": 59,
      "outputs": []
    },
    {
      "cell_type": "code",
      "metadata": {
        "id": "LpVKQRRd2x27"
      },
      "source": [
        "from sklearn.model_selection import GridSearchCV\r\n",
        "\r\n",
        "rfcv_model = GridSearchCV(rf_model,\r\n",
        "                            param_grid, cv=5,\r\n",
        "                            scoring='neg_mean_squared_error', n_jobs=-1)\r\n",
        "rfcv_model = rfcv_model.fit(X_train, y_train)\r\n"
      ],
      "execution_count": 60,
      "outputs": []
    },
    {
      "cell_type": "code",
      "metadata": {
        "colab": {
          "base_uri": "https://localhost:8080/"
        },
        "id": "8gvoUpUz5AUW",
        "outputId": "c278937e-945f-43e2-acc7-c4e8be573a8a"
      },
      "source": [
        "print('Best Score: ', rfcv_model.best_score_)\r\n",
        "print('Best Params: ', rfcv_model.best_params_)\r\n",
        "print('Best Model: ', rfcv_model.best_estimator_)"
      ],
      "execution_count": 61,
      "outputs": [
        {
          "output_type": "stream",
          "text": [
            "Best Score:  -41.43974424992231\n",
            "Best Params:  {'criterion': 'mse', 'max_depth': 10, 'max_features': 'sqrt', 'n_estimators': 1000}\n",
            "Best Model:  RandomForestRegressor(bootstrap=True, ccp_alpha=0.0, criterion='mse',\n",
            "                      max_depth=10, max_features='sqrt', max_leaf_nodes=None,\n",
            "                      max_samples=None, min_impurity_decrease=0.0,\n",
            "                      min_impurity_split=None, min_samples_leaf=1,\n",
            "                      min_samples_split=2, min_weight_fraction_leaf=0.0,\n",
            "                      n_estimators=1000, n_jobs=None, oob_score=False,\n",
            "                      random_state=42, verbose=0, warm_start=False)\n"
          ],
          "name": "stdout"
        }
      ]
    },
    {
      "cell_type": "code",
      "metadata": {
        "colab": {
          "base_uri": "https://localhost:8080/"
        },
        "id": "nmbCfcAQMwF3",
        "outputId": "5507dcba-85f6-4e6b-dfa2-dcb685db7899"
      },
      "source": [
        "y_pred = rfcv_model.predict(X_train)\r\n",
        "\r\n",
        "rfcv_mse = mean_squared_error(y_train, y_pred)\r\n",
        "rfcv_r2 = r2_score(y_train, y_pred)\r\n",
        "\r\n",
        "print('R-squared :', round(r2_score(y_train, y_pred), 2))\r\n",
        "print('Mean Squared Error :', round(mean_squared_error(y_train, y_pred), 2))"
      ],
      "execution_count": 62,
      "outputs": [
        {
          "output_type": "stream",
          "text": [
            "R-squared : 0.5\n",
            "Mean Squared Error : 32.05\n"
          ],
          "name": "stdout"
        }
      ]
    },
    {
      "cell_type": "code",
      "metadata": {
        "colab": {
          "base_uri": "https://localhost:8080/",
          "height": 0
        },
        "id": "bWfIkZPaNQoX",
        "outputId": "bd3c9436-5772-446b-9b5d-99f958a3ce79"
      },
      "source": [
        "_ = plt.scatter(y_train, y_pred)\r\n",
        "_ = plt.xlabel('Actual')\r\n",
        "_ = plt.ylabel('Predicted')\r\n",
        "_ = plt.title('Actual vs Predicted')\r\n",
        "\r\n",
        "plt.show()"
      ],
      "execution_count": 63,
      "outputs": [
        {
          "output_type": "display_data",
          "data": {
            "image/png": "[encoded data removed]",
            "text/plain": [
              "<Figure size 432x288 with 1 Axes>"
            ]
          },
          "metadata": {
            "tags": [],
            "needs_background": "light"
          }
        }
      ]
    },
    {
      "cell_type": "code",
      "metadata": {
        "id": "X0UgC7CkOeSR"
      },
      "source": [
        "#rfcv_model.cv_results_"
      ],
      "execution_count": 64,
      "outputs": []
    },
    {
      "cell_type": "markdown",
      "metadata": {
        "id": "KysrAe-FAffi"
      },
      "source": [
        "## Training Data Evaluation"
      ]
    },
    {
      "cell_type": "markdown",
      "metadata": {
        "id": "388nDnHKCcQQ"
      },
      "source": [
        "Now that we have tuned our hyperparameters to optimise each model, we will look to apply these models to our training data so see how they perform. We will do this in two ways:\r\n",
        "1. Apply each model to complete training data\r\n",
        "2. Apply each model using 5-fold cross-validation of training data\r\n",
        "\r\n",
        "For each of these approaches we will be looking at three different evaluation metrics:\r\n",
        "1.\tRoot mean squared error (RMSE): This represents the sample standard deviation of difference predicted values and observed values\r\n",
        "2.\tMean absolute error (MAE): This represents the average absolute difference between the predicted values and the observed values\r\n",
        "3.\tR-Squared (R2): This shows how well features in model explain the variability in our target variable (fantasy points)\r\n"
      ]
    },
    {
      "cell_type": "markdown",
      "metadata": {
        "id": "VP75BzeOoNkI"
      },
      "source": [
        "### Optimal SGD Regressor"
      ]
    },
    {
      "cell_type": "markdown",
      "metadata": {
        "id": "acZLJBcnmjQJ"
      },
      "source": [
        "We will run the SGD regressor again but this time with the optimal hyperparameters set out in the previous section, and then fit this model on our training data.\r\n",
        "\r\n",
        "Following this, we will generate predicted values for fantasy points (y_pred) and use these to calculate our evaluation metrics for the overall training data.\r\n",
        "\r\n",
        "Lastly, we will use the cross_val_score to cross-validate these results on the training data using 5-folds."
      ]
    },
    {
      "cell_type": "code",
      "metadata": {
        "colab": {
          "base_uri": "https://localhost:8080/"
        },
        "id": "JMRuOD-7nOuq",
        "outputId": "e4b6f79b-e61c-4228-8797-60a4ca26e0f7"
      },
      "source": [
        "sgd_opt_model = SGDRegressor(penalty='l1', loss='squared_loss', learning_rate='adaptive', eta0=0.01, alpha=0.01, random_state=42)\r\n",
        "sgd_opt_model.fit(X_train, y_train)"
      ],
      "execution_count": 65,
      "outputs": [
        {
          "output_type": "execute_result",
          "data": {
            "text/plain": [
              "SGDRegressor(alpha=0.01, average=False, early_stopping=False, epsilon=0.1,\n",
              "             eta0=0.01, fit_intercept=True, l1_ratio=0.15,\n",
              "             learning_rate='adaptive', loss='squared_loss', max_iter=1000,\n",
              "             n_iter_no_change=5, penalty='l1', power_t=0.25, random_state=42,\n",
              "             shuffle=True, tol=0.001, validation_fraction=0.1, verbose=0,\n",
              "             warm_start=False)"
            ]
          },
          "metadata": {
            "tags": []
          },
          "execution_count": 65
        }
      ]
    },
    {
      "cell_type": "code",
      "metadata": {
        "id": "O0VMJAY8n7HQ"
      },
      "source": [
        "y_pred = sgd_opt_model.predict(X_train)"
      ],
      "execution_count": 66,
      "outputs": []
    },
    {
      "cell_type": "code",
      "metadata": {
        "colab": {
          "base_uri": "https://localhost:8080/"
        },
        "id": "YJyd9TdXtUTT",
        "outputId": "e54f7c91-0635-4392-db02-903f2731e7ca"
      },
      "source": [
        "sgd_opt_rmse = np.sqrt(mean_squared_error(y_train, y_pred))\r\n",
        "sgd_opt_mae = mean_absolute_error(y_train, y_pred)\r\n",
        "sgd_opt_r2 = r2_score(y_train, y_pred)\r\n",
        "\r\n",
        "print('RMSE :', round(np.sqrt(mean_squared_error(y_train, y_pred),),2))\r\n",
        "print('MAE :', round(mean_absolute_error(y_train, y_pred), 2))\r\n",
        "print('R2 :', round(r2_score(y_train, y_pred), 3))"
      ],
      "execution_count": 67,
      "outputs": [
        {
          "output_type": "stream",
          "text": [
            "RMSE : 6.39\n",
            "MAE : 4.66\n",
            "R2 : 0.363\n"
          ],
          "name": "stdout"
        }
      ]
    },
    {
      "cell_type": "code",
      "metadata": {
        "colab": {
          "base_uri": "https://localhost:8080/"
        },
        "id": "_aIz6sZdt33-",
        "outputId": "4c7f5f46-d477-4e97-ba73-15fdf4fc5e8e"
      },
      "source": [
        "sgd_opt_cv_rmse = cross_val_score(sgd_opt_model, X_train ,y_train ,cv=5 ,scoring='neg_root_mean_squared_error')\r\n",
        "sgd_opt_cv_mae = cross_val_score(sgd_opt_model, X_train ,y_train ,cv=5 ,scoring='neg_mean_absolute_error')\r\n",
        "sgd_opt_cv_r2 = cross_val_score(sgd_opt_model, X_train ,y_train ,cv=5 ,scoring='r2')\r\n",
        "\r\n",
        "sgd_opt_cv_rmse_score = abs(sgd_cv_rmse.mean())\r\n",
        "sgd_opt_cv_mae_score = abs(sgd_cv_mae.mean())\r\n",
        "sgd_opt_cv_r2_score = abs(sgd_cv_r2.mean())\r\n",
        "\r\n",
        "print('RMSE (CV mean) :', round(sgd_opt_cv_rmse_score, 2))\r\n",
        "print('MAE (CV mean) :', round(sgd_opt_cv_mae_score, 2))\r\n",
        "print('R2 (CV mean) :', round(sgd_opt_cv_r2_score, 3))"
      ],
      "execution_count": 68,
      "outputs": [
        {
          "output_type": "stream",
          "text": [
            "RMSE (CV mean) : 6.41\n",
            "MAE (CV mean) : 4.66\n",
            "R2 (CV mean) : 0.358\n"
          ],
          "name": "stdout"
        }
      ]
    },
    {
      "cell_type": "code",
      "metadata": {
        "colab": {
          "base_uri": "https://localhost:8080/",
          "height": 0
        },
        "id": "fqpZiGL_u1Il",
        "outputId": "7d07fa18-0035-4649-8dfa-5bb41baeec82"
      },
      "source": [
        "_ = plt.scatter(y_train, y_pred)\r\n",
        "_ = plt.xlabel('Actual')\r\n",
        "_ = plt.ylabel('Predicted')\r\n",
        "_ = plt.title('Actual vs Predicted')\r\n",
        "\r\n",
        "plt.show()"
      ],
      "execution_count": 69,
      "outputs": [
        {
          "output_type": "display_data",
          "data": {
            "image/png": "[encoded data removed]",
            "text/plain": [
              "<Figure size 432x288 with 1 Axes>"
            ]
          },
          "metadata": {
            "tags": [],
            "needs_background": "light"
          }
        }
      ]
    },
    {
      "cell_type": "markdown",
      "metadata": {
        "id": "foPzwiGpnwlq"
      },
      "source": [
        "### Optimal ElasticNet"
      ]
    },
    {
      "cell_type": "markdown",
      "metadata": {
        "id": "OCDdDVn7odqs"
      },
      "source": [
        "We will run the ElasticNet model again but this time with the optimal hyperparameters set out in the previous section, and then fit this model on our training data.\r\n",
        "\r\n",
        "Following this, we will generate predicted values for fantasy points (y_pred) and use these to calculate our evaluation metrics for the overall training data.\r\n",
        "\r\n",
        "Lastly, we will use the cross_val_score to cross-validate these results on the training data using 5-folds"
      ]
    },
    {
      "cell_type": "code",
      "metadata": {
        "colab": {
          "base_uri": "https://localhost:8080/"
        },
        "id": "7FQNaCjt5XR4",
        "outputId": "cf43ec44-2e3c-4a28-9765-5468ec5a9ca4"
      },
      "source": [
        "en_opt_model = ElasticNet(alpha=0.01, copy_X=True, fit_intercept=True, l1_ratio=1,\r\n",
        "           max_iter=1000, normalize=False, positive=False, precompute=False,\r\n",
        "           random_state=42, selection='cyclic', tol=0.0001, warm_start=False)\r\n",
        "\r\n",
        "en_opt_model.fit(X_train, y_train)"
      ],
      "execution_count": 70,
      "outputs": [
        {
          "output_type": "execute_result",
          "data": {
            "text/plain": [
              "ElasticNet(alpha=0.01, copy_X=True, fit_intercept=True, l1_ratio=1,\n",
              "           max_iter=1000, normalize=False, positive=False, precompute=False,\n",
              "           random_state=42, selection='cyclic', tol=0.0001, warm_start=False)"
            ]
          },
          "metadata": {
            "tags": []
          },
          "execution_count": 70
        }
      ]
    },
    {
      "cell_type": "code",
      "metadata": {
        "id": "pY3BxU8V55as"
      },
      "source": [
        "y_pred = en_opt_model.predict(X_train)"
      ],
      "execution_count": 71,
      "outputs": []
    },
    {
      "cell_type": "code",
      "metadata": {
        "colab": {
          "base_uri": "https://localhost:8080/"
        },
        "id": "LNlrRBZ2vUCW",
        "outputId": "ea532a0d-9a3f-4d75-f019-5bbfd0a98485"
      },
      "source": [
        "en_opt_rmse = np.sqrt(mean_squared_error(y_train, y_pred))\r\n",
        "en_opt_mae = mean_absolute_error(y_train, y_pred)\r\n",
        "en_opt_r2 = r2_score(y_train, y_pred)\r\n",
        "\r\n",
        "print('RMSE :', round(np.sqrt(mean_squared_error(y_train, y_pred),),2))\r\n",
        "print('MAE :', round(mean_absolute_error(y_train, y_pred), 2))\r\n",
        "print('R2 :', round(r2_score(y_train, y_pred), 3))"
      ],
      "execution_count": 72,
      "outputs": [
        {
          "output_type": "stream",
          "text": [
            "RMSE : 6.39\n",
            "MAE : 4.65\n",
            "R2 : 0.363\n"
          ],
          "name": "stdout"
        }
      ]
    },
    {
      "cell_type": "code",
      "metadata": {
        "colab": {
          "base_uri": "https://localhost:8080/"
        },
        "id": "CDMtiW73veow",
        "outputId": "5a8d77a4-8848-4c5e-8918-068956f65bf7"
      },
      "source": [
        "en_opt_cv_rmse = cross_val_score(en_opt_model, X_train ,y_train ,cv=5 ,scoring='neg_root_mean_squared_error')\r\n",
        "en_opt_cv_mae = cross_val_score(en_opt_model, X_train ,y_train ,cv=5 ,scoring='neg_mean_absolute_error')\r\n",
        "en_opt_cv_r2 = cross_val_score(en_opt_model, X_train ,y_train ,cv=5 ,scoring='r2')\r\n",
        "\r\n",
        "en_opt_cv_rmse_score = abs(en_cv_rmse.mean())\r\n",
        "en_opt_cv_mae_score = abs(en_cv_mae.mean())\r\n",
        "en_opt_cv_r2_score = abs(en_cv_r2.mean())\r\n",
        "\r\n",
        "print('RMSE (CV mean) :', round(en_opt_cv_rmse_score, 2))\r\n",
        "print('MAE (CV mean) :', round(en_opt_cv_mae_score, 2))\r\n",
        "print('R2 (CV mean) :', round(en_opt_cv_r2_score, 3))"
      ],
      "execution_count": 73,
      "outputs": [
        {
          "output_type": "stream",
          "text": [
            "RMSE (CV mean) : 6.68\n",
            "MAE (CV mean) : 5.03\n",
            "R2 (CV mean) : 0.304\n"
          ],
          "name": "stdout"
        }
      ]
    },
    {
      "cell_type": "code",
      "metadata": {
        "colab": {
          "base_uri": "https://localhost:8080/",
          "height": 0
        },
        "id": "SD9s_dDzsrMO",
        "outputId": "8b15f3c8-7dfa-45d4-9c6b-6c060e8cbc31"
      },
      "source": [
        "_ = plt.scatter(y_train, y_pred)\r\n",
        "_ = plt.xlabel('Actual')\r\n",
        "_ = plt.ylabel('Predicted')\r\n",
        "_ = plt.title('Actual vs Predicted')\r\n",
        "\r\n",
        "plt.show()"
      ],
      "execution_count": 74,
      "outputs": [
        {
          "output_type": "display_data",
          "data": {
            "image/png": "[encoded data removed]",
            "text/plain": [
              "<Figure size 432x288 with 1 Axes>"
            ]
          },
          "metadata": {
            "tags": [],
            "needs_background": "light"
          }
        }
      ]
    },
    {
      "cell_type": "markdown",
      "metadata": {
        "id": "zhv9paVmIxSF"
      },
      "source": [
        "### Optimal Random Forest Model"
      ]
    },
    {
      "cell_type": "markdown",
      "metadata": {
        "id": "02tJyVdhq3ob"
      },
      "source": [
        "We will run the Random Forest model again but this time with the optimal hyperparameters set out in the previous section, and then fit this model on our training data.\r\n",
        "\r\n",
        "Following this, we will generate predicted values for fantasy points (y_pred) and use these to calculate our evaluation metrics for the overall training data.\r\n",
        "\r\n",
        "Lastly, we will use the cross_val_score to cross-validate these results on the training data using 5-folds."
      ]
    },
    {
      "cell_type": "code",
      "metadata": {
        "colab": {
          "base_uri": "https://localhost:8080/"
        },
        "id": "wy0dqCP93Kxe",
        "outputId": "063e8f4f-19d9-4f86-8bc4-d3d3ea727835"
      },
      "source": [
        "rf_opt_model = RandomForestRegressor(bootstrap=True, ccp_alpha=0.0, criterion='mse',\r\n",
        "                      max_depth=10, max_features='sqrt', max_leaf_nodes=None,\r\n",
        "                      max_samples=None, min_impurity_decrease=0.0,\r\n",
        "                      min_impurity_split=None, min_samples_leaf=1,\r\n",
        "                      min_samples_split=2, min_weight_fraction_leaf=0.0,\r\n",
        "                      n_estimators=1000, n_jobs=None, oob_score=False,\r\n",
        "                      random_state=42, verbose=0, warm_start=False)\r\n",
        "\r\n",
        "rf_opt_model.fit(X_train, y_train)"
      ],
      "execution_count": 75,
      "outputs": [
        {
          "output_type": "execute_result",
          "data": {
            "text/plain": [
              "RandomForestRegressor(bootstrap=True, ccp_alpha=0.0, criterion='mse',\n",
              "                      max_depth=10, max_features='sqrt', max_leaf_nodes=None,\n",
              "                      max_samples=None, min_impurity_decrease=0.0,\n",
              "                      min_impurity_split=None, min_samples_leaf=1,\n",
              "                      min_samples_split=2, min_weight_fraction_leaf=0.0,\n",
              "                      n_estimators=1000, n_jobs=None, oob_score=False,\n",
              "                      random_state=42, verbose=0, warm_start=False)"
            ]
          },
          "metadata": {
            "tags": []
          },
          "execution_count": 75
        }
      ]
    },
    {
      "cell_type": "code",
      "metadata": {
        "id": "tgDu__xH3wHn"
      },
      "source": [
        "y_pred = rf_opt_model.predict(X_train)"
      ],
      "execution_count": 76,
      "outputs": []
    },
    {
      "cell_type": "code",
      "metadata": {
        "colab": {
          "base_uri": "https://localhost:8080/"
        },
        "id": "JtJCDI9owEcD",
        "outputId": "abac452d-6174-433f-8107-3595851daabc"
      },
      "source": [
        "rf_opt_rmse = np.sqrt(mean_squared_error(y_train, y_pred))\r\n",
        "rf_opt_mae = mean_absolute_error(y_train, y_pred)\r\n",
        "rf_opt_r2 = r2_score(y_train, y_pred)\r\n",
        "\r\n",
        "print('RMSE :', round(np.sqrt(mean_squared_error(y_train, y_pred),),2))\r\n",
        "print('MAE :', round(mean_absolute_error(y_train, y_pred), 2))\r\n",
        "print('R2 :', round(r2_score(y_train, y_pred), 3))"
      ],
      "execution_count": 77,
      "outputs": [
        {
          "output_type": "stream",
          "text": [
            "RMSE : 5.66\n",
            "MAE : 4.24\n",
            "R2 : 0.501\n"
          ],
          "name": "stdout"
        }
      ]
    },
    {
      "cell_type": "code",
      "metadata": {
        "colab": {
          "base_uri": "https://localhost:8080/"
        },
        "id": "SzVaZliNwSI7",
        "outputId": "e05c0d63-7667-4269-a009-4f13ecb79a14"
      },
      "source": [
        "rf_opt_cv_rmse = cross_val_score(rf_opt_model, X_train ,y_train ,cv=5 ,scoring='neg_root_mean_squared_error')\r\n",
        "rf_opt_cv_mae = cross_val_score(rf_opt_model, X_train ,y_train ,cv=5 ,scoring='neg_mean_absolute_error')\r\n",
        "rf_opt_cv_r2 = cross_val_score(rf_opt_model, X_train ,y_train ,cv=5 ,scoring='r2')\r\n",
        "\r\n",
        "rf_opt_cv_rmse_score = abs(rf_cv_rmse.mean())\r\n",
        "rf_opt_cv_mae_score = abs(rf_cv_mae.mean())\r\n",
        "rf_opt_cv_r2_score = abs(rf_cv_r2.mean())\r\n",
        "\r\n",
        "print('RMSE (CV mean) :', round(rf_opt_cv_rmse_score, 2))\r\n",
        "print('MAE (CV mean) :', round(rf_opt_cv_mae_score, 2))\r\n",
        "print('R2 (CV mean) :', round(rf_opt_cv_r2_score, 3))"
      ],
      "execution_count": 78,
      "outputs": [
        {
          "output_type": "stream",
          "text": [
            "RMSE (CV mean) : 6.65\n",
            "MAE (CV mean) : 4.9\n",
            "R2 (CV mean) : 0.31\n"
          ],
          "name": "stdout"
        }
      ]
    },
    {
      "cell_type": "code",
      "metadata": {
        "colab": {
          "base_uri": "https://localhost:8080/",
          "height": 0
        },
        "id": "SIdUOd7VyIjD",
        "outputId": "86b06483-8556-4e4a-ee6c-1a38f0bfdae8"
      },
      "source": [
        "_ = plt.scatter(y_train, y_pred)\r\n",
        "_ = plt.xlabel('Actual')\r\n",
        "_ = plt.ylabel('Predicted')\r\n",
        "_ = plt.title('Actual vs Predicted')\r\n",
        "\r\n",
        "plt.show()"
      ],
      "execution_count": 79,
      "outputs": [
        {
          "output_type": "display_data",
          "data": {
            "image/png": "[encoded data removed]",
            "text/plain": [
              "<Figure size 432x288 with 1 Axes>"
            ]
          },
          "metadata": {
            "tags": [],
            "needs_background": "light"
          }
        }
      ]
    },
    {
      "cell_type": "code",
      "metadata": {
        "colab": {
          "base_uri": "https://localhost:8080/",
          "height": 0
        },
        "id": "0eAUSnMRaj8B",
        "outputId": "2ca44c46-f257-4a0d-e56a-c97d60e4d0f6"
      },
      "source": [
        "features = X_train.columns\r\n",
        "importances = rf_opt_model.feature_importances_\r\n",
        "indices = np.argsort(importances)\r\n",
        "\r\n",
        "plt.figure(figsize=(10,5))\r\n",
        "plt.title('Feature Importances')\r\n",
        "plt.barh(range(len(indices)), importances[indices], color='b', align='center')\r\n",
        "plt.yticks(range(len(indices)), [features[i] for i in indices])\r\n",
        "plt.xlabel('Relative Importance')\r\n",
        "plt.show()\r\n",
        "\r\n",
        "imp_table = pd.DataFrame(list(zip(features,importances)),columns =['Features', 'Importance scores'])\r\n",
        "imp_table = imp_table.sort_values(by='Importance scores', ascending=False)\r\n",
        "print(imp_table)"
      ],
      "execution_count": 80,
      "outputs": [
        {
          "output_type": "display_data",
          "data": {
            "image/png": "[encoded data removed]",
            "text/plain": [
              "<Figure size 720x360 with 1 Axes>"
            ]
          },
          "metadata": {
            "tags": [],
            "needs_background": "light"
          }
        },
        {
          "output_type": "stream",
          "text": [
            "           Features  Importance scores\n",
            "0           FAN_AVG           0.305913\n",
            "1      PASSCOMP_AVG           0.193205\n",
            "6          TGTS_AVG           0.125453\n",
            "3       RUSHATT_AVG           0.093023\n",
            "2   PASSYDS_300_AVG           0.074580\n",
            "9   OPP_PTS_AGT_AVG           0.047499\n",
            "4        RUSHTD_AVG           0.032549\n",
            "5        FUMLST_AVG           0.027375\n",
            "8       WIN/TIE_AVG           0.021320\n",
            "7         RECTD_AVG           0.015940\n",
            "10             HOME           0.009131\n",
            "14           POS_TE           0.008972\n",
            "16  MONTH_September           0.008561\n",
            "11             DOME           0.007026\n",
            "12            GRASS           0.006994\n",
            "18        TIME_Noon           0.006248\n",
            "15           POS_WR           0.006068\n",
            "13           SUNDAY           0.005099\n",
            "17       TIME_Night           0.005044\n"
          ],
          "name": "stdout"
        }
      ]
    },
    {
      "cell_type": "markdown",
      "metadata": {
        "id": "XM8kD84BMcmA"
      },
      "source": [
        "### Results"
      ]
    },
    {
      "cell_type": "markdown",
      "metadata": {
        "id": "d9fxEfiWFCX1"
      },
      "source": [
        "Now that we have ran the optimal models and calculated their evaluation metrics, it is time to compare the models across each of these.\r\n",
        "\r\n",
        "\r\n",
        "* Random Forest is the best model across all metrics using all training data but performance drops to 3rd overall once we use CV. This seems to indicate that the model overfitted to the training data.\r\n",
        "* Linear model performs best across all metrics when looking at CV results,followed closely by SGD Regressor. There is little change between training and CV results that seems to indicate that these model are more biased / underfitted than other models.\r\n",
        "\r\n",
        "\r\n"
      ]
    },
    {
      "cell_type": "code",
      "metadata": {
        "id": "5NrvSIoq0Wat"
      },
      "source": [
        "model_names = ['Linear', 'SGD', 'ElasticNet', 'Random Forest']\r\n",
        "model_rmse = [lm_rmse, sgd_opt_rmse, en_opt_rmse, rf_opt_rmse]\r\n",
        "model_rmse_cv = [lm_cv_rmse_score, sgd_opt_cv_rmse_score, en_opt_cv_rmse_score, rf_opt_cv_rmse_score]\r\n",
        "model_mae = [lm_mae, sgd_opt_mae, en_opt_mae, rf_opt_mae]\r\n",
        "model_mae_cv = [lm_cv_mae_score, sgd_opt_cv_mae_score, en_opt_cv_mae_score, rf_opt_cv_mae_score]\r\n",
        "model_r2 = [lm_r2, sgd_opt_r2, en_opt_r2, rf_opt_r2]\r\n",
        "model_r2_cv = [lm_cv_r2_score, sgd_opt_cv_r2_score, en_opt_cv_r2_score, rf_opt_cv_r2_score]"
      ],
      "execution_count": 81,
      "outputs": []
    },
    {
      "cell_type": "code",
      "metadata": {
        "id": "BztlBNYa1ITq"
      },
      "source": [
        "rmse_opt_performance = pd.DataFrame(list(zip(model_names, model_rmse, model_rmse_cv)), columns=['Model', 'Score', 'CV Score'])"
      ],
      "execution_count": 82,
      "outputs": []
    },
    {
      "cell_type": "code",
      "metadata": {
        "colab": {
          "base_uri": "https://localhost:8080/",
          "height": 0
        },
        "id": "QWDui6_B1U4M",
        "outputId": "05dd84e6-baec-455a-d777-3af0dc24925f"
      },
      "source": [
        "rmse_opt_performance.sort_values(by='Score')"
      ],
      "execution_count": 83,
      "outputs": [
        {
          "output_type": "execute_result",
          "data": {
            "text/html": [
              "<div>\n",
              "<style scoped>\n",
              "    .dataframe tbody tr th:only-of-type {\n",
              "        vertical-align: middle;\n",
              "    }\n",
              "\n",
              "    .dataframe tbody tr th {\n",
              "        vertical-align: top;\n",
              "    }\n",
              "\n",
              "    .dataframe thead th {\n",
              "        text-align: right;\n",
              "    }\n",
              "</style>\n",
              "<table border=\"1\" class=\"dataframe\">\n",
              "  <thead>\n",
              "    <tr style=\"text-align: right;\">\n",
              "      <th></th>\n",
              "      <th>Model</th>\n",
              "      <th>Score</th>\n",
              "      <th>CV Score</th>\n",
              "    </tr>\n",
              "  </thead>\n",
              "  <tbody>\n",
              "    <tr>\n",
              "      <th>3</th>\n",
              "      <td>Random Forest</td>\n",
              "      <td>5.661247</td>\n",
              "      <td>6.651512</td>\n",
              "    </tr>\n",
              "    <tr>\n",
              "      <th>0</th>\n",
              "      <td>Linear</td>\n",
              "      <td>6.391073</td>\n",
              "      <td>6.402013</td>\n",
              "    </tr>\n",
              "    <tr>\n",
              "      <th>2</th>\n",
              "      <td>ElasticNet</td>\n",
              "      <td>6.391599</td>\n",
              "      <td>6.681879</td>\n",
              "    </tr>\n",
              "    <tr>\n",
              "      <th>1</th>\n",
              "      <td>SGD</td>\n",
              "      <td>6.391639</td>\n",
              "      <td>6.413925</td>\n",
              "    </tr>\n",
              "  </tbody>\n",
              "</table>\n",
              "</div>"
            ],
            "text/plain": [
              "           Model     Score  CV Score\n",
              "3  Random Forest  5.661247  6.651512\n",
              "0         Linear  6.391073  6.402013\n",
              "2     ElasticNet  6.391599  6.681879\n",
              "1            SGD  6.391639  6.413925"
            ]
          },
          "metadata": {
            "tags": []
          },
          "execution_count": 83
        }
      ]
    },
    {
      "cell_type": "code",
      "metadata": {
        "colab": {
          "base_uri": "https://localhost:8080/",
          "height": 0
        },
        "id": "-TUNEwui1TrU",
        "outputId": "0aee8e03-4e3b-44ff-e1b5-86d4dd51a87b"
      },
      "source": [
        "rmse_opt_performance = rmse_opt_performance.sort_values(by='Score')\r\n",
        "\r\n",
        "#_ = plt.figure(figsize=(20,10))\r\n",
        "_ = rmse_opt_performance.plot(x='Model', y=['Score', 'CV Score'], kind='bar', figsize=(12,6), color=['lightblue', 'steelblue'])\r\n",
        "_ = plt.legend(loc='upper left')\r\n",
        "_ = plt.ylabel('RMSE')\r\n",
        "_ = plt.title('RMSE Performance', fontsize=18)\r\n",
        "\r\n",
        "plt.show()"
      ],
      "execution_count": 84,
      "outputs": [
        {
          "output_type": "display_data",
          "data": {
            "image/png": "[encoded data removed]",
            "text/plain": [
              "<Figure size 864x432 with 1 Axes>"
            ]
          },
          "metadata": {
            "tags": [],
            "needs_background": "light"
          }
        }
      ]
    },
    {
      "cell_type": "code",
      "metadata": {
        "id": "sR4piQ5J11iY"
      },
      "source": [
        "mae_opt_performance = pd.DataFrame(list(zip(model_names, model_mae, model_mae_cv)), columns=['Model', 'Score', 'CV Score'])"
      ],
      "execution_count": 85,
      "outputs": []
    },
    {
      "cell_type": "code",
      "metadata": {
        "colab": {
          "base_uri": "https://localhost:8080/",
          "height": 0
        },
        "id": "FgWOOlAS18UE",
        "outputId": "10568c29-63f3-4da0-9610-cca9cdcd9edf"
      },
      "source": [
        "mae_opt_performance.sort_values(by='Score')"
      ],
      "execution_count": 86,
      "outputs": [
        {
          "output_type": "execute_result",
          "data": {
            "text/html": [
              "<div>\n",
              "<style scoped>\n",
              "    .dataframe tbody tr th:only-of-type {\n",
              "        vertical-align: middle;\n",
              "    }\n",
              "\n",
              "    .dataframe tbody tr th {\n",
              "        vertical-align: top;\n",
              "    }\n",
              "\n",
              "    .dataframe thead th {\n",
              "        text-align: right;\n",
              "    }\n",
              "</style>\n",
              "<table border=\"1\" class=\"dataframe\">\n",
              "  <thead>\n",
              "    <tr style=\"text-align: right;\">\n",
              "      <th></th>\n",
              "      <th>Model</th>\n",
              "      <th>Score</th>\n",
              "      <th>CV Score</th>\n",
              "    </tr>\n",
              "  </thead>\n",
              "  <tbody>\n",
              "    <tr>\n",
              "      <th>3</th>\n",
              "      <td>Random Forest</td>\n",
              "      <td>4.239611</td>\n",
              "      <td>4.904773</td>\n",
              "    </tr>\n",
              "    <tr>\n",
              "      <th>0</th>\n",
              "      <td>Linear</td>\n",
              "      <td>4.650859</td>\n",
              "      <td>4.658545</td>\n",
              "    </tr>\n",
              "    <tr>\n",
              "      <th>2</th>\n",
              "      <td>ElasticNet</td>\n",
              "      <td>4.654423</td>\n",
              "      <td>5.031389</td>\n",
              "    </tr>\n",
              "    <tr>\n",
              "      <th>1</th>\n",
              "      <td>SGD</td>\n",
              "      <td>4.655086</td>\n",
              "      <td>4.658239</td>\n",
              "    </tr>\n",
              "  </tbody>\n",
              "</table>\n",
              "</div>"
            ],
            "text/plain": [
              "           Model     Score  CV Score\n",
              "3  Random Forest  4.239611  4.904773\n",
              "0         Linear  4.650859  4.658545\n",
              "2     ElasticNet  4.654423  5.031389\n",
              "1            SGD  4.655086  4.658239"
            ]
          },
          "metadata": {
            "tags": []
          },
          "execution_count": 86
        }
      ]
    },
    {
      "cell_type": "code",
      "metadata": {
        "colab": {
          "base_uri": "https://localhost:8080/",
          "height": 0
        },
        "id": "6CQDGu3p2DEy",
        "outputId": "6c4d29c7-231c-4a65-9f21-3ad1ed714127"
      },
      "source": [
        "mae_opt_performance = mae_opt_performance.sort_values(by='Score')\r\n",
        "\r\n",
        "#_ = plt.figure(figsize=(20,10))\r\n",
        "_ = mae_opt_performance.plot(x='Model', y=['Score', 'CV Score'], kind='bar', figsize=(12,6), color=['lightblue', 'steelblue'])\r\n",
        "_ = plt.legend(loc='upper left')\r\n",
        "_ = plt.ylabel('MAE')\r\n",
        "_ = plt.title('MAE Performance', fontsize=18)\r\n",
        "\r\n",
        "plt.show()"
      ],
      "execution_count": 87,
      "outputs": [
        {
          "output_type": "display_data",
          "data": {
            "image/png": "[encoded data removed]",
            "text/plain": [
              "<Figure size 864x432 with 1 Axes>"
            ]
          },
          "metadata": {
            "tags": [],
            "needs_background": "light"
          }
        }
      ]
    },
    {
      "cell_type": "code",
      "metadata": {
        "id": "kHg4h_JF2Qb7"
      },
      "source": [
        "r2_opt_performance = pd.DataFrame(list(zip(model_names, model_r2, model_r2_cv)), columns=['Model', 'Score', 'CV Score'])"
      ],
      "execution_count": 88,
      "outputs": []
    },
    {
      "cell_type": "code",
      "metadata": {
        "colab": {
          "base_uri": "https://localhost:8080/",
          "height": 0
        },
        "id": "uFdeNCKM2bHJ",
        "outputId": "1820f03c-5a09-4342-b7e2-84b99ca34ff4"
      },
      "source": [
        "r2_opt_performance.sort_values(by='Score', ascending=False)"
      ],
      "execution_count": 89,
      "outputs": [
        {
          "output_type": "execute_result",
          "data": {
            "text/html": [
              "<div>\n",
              "<style scoped>\n",
              "    .dataframe tbody tr th:only-of-type {\n",
              "        vertical-align: middle;\n",
              "    }\n",
              "\n",
              "    .dataframe tbody tr th {\n",
              "        vertical-align: top;\n",
              "    }\n",
              "\n",
              "    .dataframe thead th {\n",
              "        text-align: right;\n",
              "    }\n",
              "</style>\n",
              "<table border=\"1\" class=\"dataframe\">\n",
              "  <thead>\n",
              "    <tr style=\"text-align: right;\">\n",
              "      <th></th>\n",
              "      <th>Model</th>\n",
              "      <th>Score</th>\n",
              "      <th>CV Score</th>\n",
              "    </tr>\n",
              "  </thead>\n",
              "  <tbody>\n",
              "    <tr>\n",
              "      <th>3</th>\n",
              "      <td>Random Forest</td>\n",
              "      <td>0.500632</td>\n",
              "      <td>0.309853</td>\n",
              "    </tr>\n",
              "    <tr>\n",
              "      <th>0</th>\n",
              "      <td>Linear</td>\n",
              "      <td>0.363580</td>\n",
              "      <td>0.360828</td>\n",
              "    </tr>\n",
              "    <tr>\n",
              "      <th>2</th>\n",
              "      <td>ElasticNet</td>\n",
              "      <td>0.363475</td>\n",
              "      <td>0.303839</td>\n",
              "    </tr>\n",
              "    <tr>\n",
              "      <th>1</th>\n",
              "      <td>SGD</td>\n",
              "      <td>0.363467</td>\n",
              "      <td>0.358423</td>\n",
              "    </tr>\n",
              "  </tbody>\n",
              "</table>\n",
              "</div>"
            ],
            "text/plain": [
              "           Model     Score  CV Score\n",
              "3  Random Forest  0.500632  0.309853\n",
              "0         Linear  0.363580  0.360828\n",
              "2     ElasticNet  0.363475  0.303839\n",
              "1            SGD  0.363467  0.358423"
            ]
          },
          "metadata": {
            "tags": []
          },
          "execution_count": 89
        }
      ]
    },
    {
      "cell_type": "code",
      "metadata": {
        "colab": {
          "base_uri": "https://localhost:8080/",
          "height": 0
        },
        "id": "ywSz2q7z2l8Y",
        "outputId": "fde44250-bfc5-44df-cb83-5eb3345f5d2f"
      },
      "source": [
        "r2_opt_performance = r2_opt_performance.sort_values(by='Score', ascending=False)\r\n",
        "\r\n",
        "_ = r2_opt_performance.plot(x='Model', y=['Score', 'CV Score'], kind='bar', figsize=(12,6), color=['lightblue', 'steelblue'])\r\n",
        "_ = plt.legend(loc='upper right')\r\n",
        "_ = plt.ylabel('R2')\r\n",
        "_ = plt.title('R-squared Performance', fontsize=18)\r\n",
        "\r\n",
        "plt.show()"
      ],
      "execution_count": 90,
      "outputs": [
        {
          "output_type": "display_data",
          "data": {
            "image/png": "[encoded data removed]",
            "text/plain": [
              "<Figure size 864x432 with 1 Axes>"
            ]
          },
          "metadata": {
            "tags": [],
            "needs_background": "light"
          }
        }
      ]
    },
    {
      "cell_type": "markdown",
      "metadata": {
        "id": "RbHcZneUTkhm"
      },
      "source": [
        "## Test Data Evaluation"
      ]
    },
    {
      "cell_type": "markdown",
      "metadata": {
        "id": "KCtx0i-3HNdy"
      },
      "source": [
        "Finally, we will run our models and evaluate performance against our test data - which we've held out until this point to make our final evaluations."
      ]
    },
    {
      "cell_type": "markdown",
      "metadata": {
        "id": "l_UZzxMpQ6mX"
      },
      "source": [
        "### Run Models"
      ]
    },
    {
      "cell_type": "markdown",
      "metadata": {
        "id": "ad_cMh33HpeI"
      },
      "source": [
        "In this section, we will create predictions for our test data and use these to calculate our evaluation metrics for final comparison."
      ]
    },
    {
      "cell_type": "code",
      "metadata": {
        "colab": {
          "base_uri": "https://localhost:8080/"
        },
        "id": "p8Z0xx2mRAje",
        "outputId": "983ad24b-7442-4085-888f-28a055c8c57f"
      },
      "source": [
        "y_pred = lm_model.predict(X_test)\r\n",
        "\r\n",
        "lm_test_rmse = np.sqrt(mean_squared_error(y_test, y_pred))\r\n",
        "lm_test_mae = mean_absolute_error(y_test, y_pred)\r\n",
        "lm_test_r2 = r2_score(y_test, y_pred)\r\n",
        "\r\n",
        "print('RMSE :', round(np.sqrt(mean_squared_error(y_test, y_pred)), 2))\r\n",
        "print('MAE :', round(mean_absolute_error(y_test, y_pred), 2))\r\n",
        "print('R-squared :', round(r2_score(y_test, y_pred), 2))"
      ],
      "execution_count": 91,
      "outputs": [
        {
          "output_type": "stream",
          "text": [
            "RMSE : 6.45\n",
            "MAE : 4.69\n",
            "R-squared : 0.35\n"
          ],
          "name": "stdout"
        }
      ]
    },
    {
      "cell_type": "code",
      "metadata": {
        "colab": {
          "base_uri": "https://localhost:8080/"
        },
        "id": "7UqO1W7qR8BF",
        "outputId": "2b56a105-5cd2-4d2e-f900-146ece0504c9"
      },
      "source": [
        "y_pred = sgd_opt_model.predict(X_test)\r\n",
        "\r\n",
        "sgd_test_rmse = np.sqrt(mean_squared_error(y_test, y_pred))\r\n",
        "sgd_test_mae = mean_absolute_error(y_test, y_pred)\r\n",
        "sgd_test_r2 = r2_score(y_test, y_pred)\r\n",
        "\r\n",
        "print('RMSE :', round(np.sqrt(mean_squared_error(y_test, y_pred)), 2))\r\n",
        "print('MAE :', round(mean_absolute_error(y_test, y_pred), 2))\r\n",
        "print('R-squared :', round(r2_score(y_test, y_pred), 2))"
      ],
      "execution_count": 92,
      "outputs": [
        {
          "output_type": "stream",
          "text": [
            "RMSE : 6.45\n",
            "MAE : 4.69\n",
            "R-squared : 0.35\n"
          ],
          "name": "stdout"
        }
      ]
    },
    {
      "cell_type": "code",
      "metadata": {
        "colab": {
          "base_uri": "https://localhost:8080/"
        },
        "id": "1dmFBUjRSDfn",
        "outputId": "87e88952-c0eb-4780-9eb7-1d768ce9fdf8"
      },
      "source": [
        "y_pred = en_opt_model.predict(X_test)\r\n",
        "\r\n",
        "en_test_rmse = np.sqrt(mean_squared_error(y_test, y_pred))\r\n",
        "en_test_mae = mean_absolute_error(y_test, y_pred)\r\n",
        "en_test_r2 = r2_score(y_test, y_pred)\r\n",
        "\r\n",
        "print('RMSE :', round(np.sqrt(mean_squared_error(y_test, y_pred)), 2))\r\n",
        "print('MAE :', round(mean_absolute_error(y_test, y_pred), 2))\r\n",
        "print('R-squared :', round(r2_score(y_test, y_pred), 2))"
      ],
      "execution_count": 93,
      "outputs": [
        {
          "output_type": "stream",
          "text": [
            "RMSE : 6.45\n",
            "MAE : 4.69\n",
            "R-squared : 0.35\n"
          ],
          "name": "stdout"
        }
      ]
    },
    {
      "cell_type": "code",
      "metadata": {
        "colab": {
          "base_uri": "https://localhost:8080/"
        },
        "id": "_axWJ1ZYSH0I",
        "outputId": "9f7da768-78ec-4eef-ecf1-838f0f99ec35"
      },
      "source": [
        "y_pred = rf_opt_model.predict(X_test)\r\n",
        "\r\n",
        "rf_test_rmse = np.sqrt(mean_squared_error(y_test, y_pred))\r\n",
        "rf_test_mae = mean_absolute_error(y_test, y_pred)\r\n",
        "rf_test_r2 = r2_score(y_test, y_pred)\r\n",
        "\r\n",
        "print('RMSE :', round(np.sqrt(mean_squared_error(y_test, y_pred)), 2))\r\n",
        "print('MAE :', round(mean_absolute_error(y_test, y_pred), 2))\r\n",
        "print('R-squared :', round(r2_score(y_test, y_pred), 2))"
      ],
      "execution_count": 94,
      "outputs": [
        {
          "output_type": "stream",
          "text": [
            "RMSE : 6.44\n",
            "MAE : 4.71\n",
            "R-squared : 0.35\n"
          ],
          "name": "stdout"
        }
      ]
    },
    {
      "cell_type": "markdown",
      "metadata": {
        "id": "Ssq4MXqE5Wey"
      },
      "source": [
        "### Results"
      ]
    },
    {
      "cell_type": "markdown",
      "metadata": {
        "id": "dQ8vIpKLH97m"
      },
      "source": [
        "Now, we will look to compare the results from our test data and there is not a lot to differentiate performance between each model.\r\n",
        "* Random Forest performs best in relation to RMSE (by 0.01)\r\n",
        "* Other models perform best in relation to MAE (by 0.02)\r\n",
        "* All models score the same in relation to R-squared\r\n"
      ]
    },
    {
      "cell_type": "code",
      "metadata": {
        "id": "DZNYjB_X5m8p"
      },
      "source": [
        "model_names = ['Linear', 'SGD', 'ElasticNet', 'Random Forest']\r\n",
        "model_rmse = [lm_test_rmse, sgd_test_rmse, en_test_rmse, rf_test_rmse]\r\n",
        "model_mae = [lm_test_mae, sgd_test_mae, en_test_mae, rf_test_mae]\r\n",
        "model_r2 = [lm_test_r2, sgd_test_r2, en_test_r2, rf_test_r2]\r\n"
      ],
      "execution_count": 95,
      "outputs": []
    },
    {
      "cell_type": "code",
      "metadata": {
        "id": "iGq8EVd96NjU"
      },
      "source": [
        "rmse_test_performance = pd.DataFrame(list(zip(model_names, model_rmse)), columns=['Model', 'Score'])"
      ],
      "execution_count": 96,
      "outputs": []
    },
    {
      "cell_type": "code",
      "metadata": {
        "colab": {
          "base_uri": "https://localhost:8080/",
          "height": 0
        },
        "id": "IQLNjA9_6Kzn",
        "outputId": "29d12f06-6b8d-41e8-98e4-87ed40056081"
      },
      "source": [
        "rmse_test_performance.sort_values(by='Score')"
      ],
      "execution_count": 97,
      "outputs": [
        {
          "output_type": "execute_result",
          "data": {
            "text/html": [
              "<div>\n",
              "<style scoped>\n",
              "    .dataframe tbody tr th:only-of-type {\n",
              "        vertical-align: middle;\n",
              "    }\n",
              "\n",
              "    .dataframe tbody tr th {\n",
              "        vertical-align: top;\n",
              "    }\n",
              "\n",
              "    .dataframe thead th {\n",
              "        text-align: right;\n",
              "    }\n",
              "</style>\n",
              "<table border=\"1\" class=\"dataframe\">\n",
              "  <thead>\n",
              "    <tr style=\"text-align: right;\">\n",
              "      <th></th>\n",
              "      <th>Model</th>\n",
              "      <th>Score</th>\n",
              "    </tr>\n",
              "  </thead>\n",
              "  <tbody>\n",
              "    <tr>\n",
              "      <th>3</th>\n",
              "      <td>Random Forest</td>\n",
              "      <td>6.435664</td>\n",
              "    </tr>\n",
              "    <tr>\n",
              "      <th>2</th>\n",
              "      <td>ElasticNet</td>\n",
              "      <td>6.446116</td>\n",
              "    </tr>\n",
              "    <tr>\n",
              "      <th>1</th>\n",
              "      <td>SGD</td>\n",
              "      <td>6.446165</td>\n",
              "    </tr>\n",
              "    <tr>\n",
              "      <th>0</th>\n",
              "      <td>Linear</td>\n",
              "      <td>6.446637</td>\n",
              "    </tr>\n",
              "  </tbody>\n",
              "</table>\n",
              "</div>"
            ],
            "text/plain": [
              "           Model     Score\n",
              "3  Random Forest  6.435664\n",
              "2     ElasticNet  6.446116\n",
              "1            SGD  6.446165\n",
              "0         Linear  6.446637"
            ]
          },
          "metadata": {
            "tags": []
          },
          "execution_count": 97
        }
      ]
    },
    {
      "cell_type": "code",
      "metadata": {
        "colab": {
          "base_uri": "https://localhost:8080/",
          "height": 0
        },
        "id": "tTSz4cvA6xt8",
        "outputId": "27d09969-189f-4ec0-9ce0-cb277ebab2b7"
      },
      "source": [
        "rmse_test_performance = rmse_test_performance.sort_values(by='Score')\r\n",
        "\r\n",
        "#_ = plt.figure(figsize=(20,10))\r\n",
        "_ = rmse_test_performance.plot(x='Model', y=['Score'], kind='bar', figsize=(12,6), color=['steelblue'])\r\n",
        "_ = plt.legend()\r\n",
        "_ = plt.ylabel('RMSE')\r\n",
        "_ = plt.title('RMSE Performance', fontsize=18)\r\n",
        "\r\n",
        "plt.show()"
      ],
      "execution_count": 98,
      "outputs": [
        {
          "output_type": "display_data",
          "data": {
            "image/png": "[encoded data removed]",
            "text/plain": [
              "<Figure size 864x432 with 1 Axes>"
            ]
          },
          "metadata": {
            "tags": [],
            "needs_background": "light"
          }
        }
      ]
    },
    {
      "cell_type": "code",
      "metadata": {
        "id": "XM_YS3247-xs"
      },
      "source": [
        "mae_test_performance = pd.DataFrame(list(zip(model_names, model_mae)), columns=['Model', 'Score'])"
      ],
      "execution_count": 99,
      "outputs": []
    },
    {
      "cell_type": "code",
      "metadata": {
        "colab": {
          "base_uri": "https://localhost:8080/",
          "height": 0
        },
        "id": "Eh-XmImJ8HV8",
        "outputId": "c3689858-be40-4b6e-e312-618c0b2ed96f"
      },
      "source": [
        "mae_test_performance.sort_values(by='Score')"
      ],
      "execution_count": 100,
      "outputs": [
        {
          "output_type": "execute_result",
          "data": {
            "text/html": [
              "<div>\n",
              "<style scoped>\n",
              "    .dataframe tbody tr th:only-of-type {\n",
              "        vertical-align: middle;\n",
              "    }\n",
              "\n",
              "    .dataframe tbody tr th {\n",
              "        vertical-align: top;\n",
              "    }\n",
              "\n",
              "    .dataframe thead th {\n",
              "        text-align: right;\n",
              "    }\n",
              "</style>\n",
              "<table border=\"1\" class=\"dataframe\">\n",
              "  <thead>\n",
              "    <tr style=\"text-align: right;\">\n",
              "      <th></th>\n",
              "      <th>Model</th>\n",
              "      <th>Score</th>\n",
              "    </tr>\n",
              "  </thead>\n",
              "  <tbody>\n",
              "    <tr>\n",
              "      <th>0</th>\n",
              "      <td>Linear</td>\n",
              "      <td>4.689470</td>\n",
              "    </tr>\n",
              "    <tr>\n",
              "      <th>2</th>\n",
              "      <td>ElasticNet</td>\n",
              "      <td>4.691144</td>\n",
              "    </tr>\n",
              "    <tr>\n",
              "      <th>1</th>\n",
              "      <td>SGD</td>\n",
              "      <td>4.691818</td>\n",
              "    </tr>\n",
              "    <tr>\n",
              "      <th>3</th>\n",
              "      <td>Random Forest</td>\n",
              "      <td>4.714211</td>\n",
              "    </tr>\n",
              "  </tbody>\n",
              "</table>\n",
              "</div>"
            ],
            "text/plain": [
              "           Model     Score\n",
              "0         Linear  4.689470\n",
              "2     ElasticNet  4.691144\n",
              "1            SGD  4.691818\n",
              "3  Random Forest  4.714211"
            ]
          },
          "metadata": {
            "tags": []
          },
          "execution_count": 100
        }
      ]
    },
    {
      "cell_type": "code",
      "metadata": {
        "colab": {
          "base_uri": "https://localhost:8080/",
          "height": 0
        },
        "id": "-70tHrD48Xxf",
        "outputId": "4b7a55cf-23e3-4660-de96-d3d41821c4b0"
      },
      "source": [
        "mae_test_performance = mae_test_performance.sort_values(by='Score')\r\n",
        "\r\n",
        "#_ = plt.figure(figsize=(20,10))\r\n",
        "_ = mae_test_performance.plot(x='Model', y=['Score'], kind='bar', figsize=(12,6), color=['steelblue'])\r\n",
        "_ = plt.legend()\r\n",
        "_ = plt.ylabel('MAE')\r\n",
        "_ = plt.title('MAE Performance', fontsize=18)\r\n",
        "\r\n",
        "plt.show()"
      ],
      "execution_count": 101,
      "outputs": [
        {
          "output_type": "display_data",
          "data": {
            "image/png": "[encoded data removed]",
            "text/plain": [
              "<Figure size 864x432 with 1 Axes>"
            ]
          },
          "metadata": {
            "tags": [],
            "needs_background": "light"
          }
        }
      ]
    },
    {
      "cell_type": "code",
      "metadata": {
        "id": "igg2kznH8kHk"
      },
      "source": [
        "r2_test_performance = pd.DataFrame(list(zip(model_names, model_r2)), columns=['Model', 'Score'])"
      ],
      "execution_count": 102,
      "outputs": []
    },
    {
      "cell_type": "code",
      "metadata": {
        "colab": {
          "base_uri": "https://localhost:8080/",
          "height": 0
        },
        "id": "rtt15yeX8rMj",
        "outputId": "20b527cd-948e-4200-f61f-2bcb3d718f2a"
      },
      "source": [
        "r2_test_performance.sort_values(by='Score', ascending=False)"
      ],
      "execution_count": 103,
      "outputs": [
        {
          "output_type": "execute_result",
          "data": {
            "text/html": [
              "<div>\n",
              "<style scoped>\n",
              "    .dataframe tbody tr th:only-of-type {\n",
              "        vertical-align: middle;\n",
              "    }\n",
              "\n",
              "    .dataframe tbody tr th {\n",
              "        vertical-align: top;\n",
              "    }\n",
              "\n",
              "    .dataframe thead th {\n",
              "        text-align: right;\n",
              "    }\n",
              "</style>\n",
              "<table border=\"1\" class=\"dataframe\">\n",
              "  <thead>\n",
              "    <tr style=\"text-align: right;\">\n",
              "      <th></th>\n",
              "      <th>Model</th>\n",
              "      <th>Score</th>\n",
              "    </tr>\n",
              "  </thead>\n",
              "  <tbody>\n",
              "    <tr>\n",
              "      <th>3</th>\n",
              "      <td>Random Forest</td>\n",
              "      <td>0.353910</td>\n",
              "    </tr>\n",
              "    <tr>\n",
              "      <th>2</th>\n",
              "      <td>ElasticNet</td>\n",
              "      <td>0.351810</td>\n",
              "    </tr>\n",
              "    <tr>\n",
              "      <th>1</th>\n",
              "      <td>SGD</td>\n",
              "      <td>0.351800</td>\n",
              "    </tr>\n",
              "    <tr>\n",
              "      <th>0</th>\n",
              "      <td>Linear</td>\n",
              "      <td>0.351705</td>\n",
              "    </tr>\n",
              "  </tbody>\n",
              "</table>\n",
              "</div>"
            ],
            "text/plain": [
              "           Model     Score\n",
              "3  Random Forest  0.353910\n",
              "2     ElasticNet  0.351810\n",
              "1            SGD  0.351800\n",
              "0         Linear  0.351705"
            ]
          },
          "metadata": {
            "tags": []
          },
          "execution_count": 103
        }
      ]
    },
    {
      "cell_type": "code",
      "metadata": {
        "colab": {
          "base_uri": "https://localhost:8080/",
          "height": 0
        },
        "id": "4KPHb7Ja84Ig",
        "outputId": "530f41c5-2070-418f-9df9-e724823fa08f"
      },
      "source": [
        "r2_test_performance = r2_test_performance.sort_values(by='Score', ascending=False)\r\n",
        "\r\n",
        "#_ = plt.figure(figsize=(20,10))\r\n",
        "_ = r2_test_performance.plot(x='Model', y=['Score'], kind='bar', figsize=(12,6), color=['steelblue'])\r\n",
        "_ = plt.legend()\r\n",
        "_ = plt.ylabel('R2')\r\n",
        "_ = plt.title('R-Squared Performance', fontsize=18)\r\n",
        "\r\n",
        "plt.show()"
      ],
      "execution_count": 104,
      "outputs": [
        {
          "output_type": "display_data",
          "data": {
            "image/png": "[encoded data removed]",
            "text/plain": [
              "<Figure size 864x432 with 1 Axes>"
            ]
          },
          "metadata": {
            "tags": [],
            "needs_background": "light"
          }
        }
      ]
    },
    {
      "cell_type": "markdown",
      "metadata": {
        "id": "Gs9W_5Rwkx9Q"
      },
      "source": [
        "## Final Comparison"
      ]
    },
    {
      "cell_type": "markdown",
      "metadata": {
        "id": "FbCEgbjCHLrh"
      },
      "source": [
        "In this section, I bring together all the results of models from training data, training data (with CV), and test data to give an overall view of performance and make a final decision on the model to proceed with.\r\n",
        "\r\n",
        "As indicated in our test data section, there is little to differentiate between the performance of each model. Our choice comes down to two factors:\r\n",
        "* Which metric is deemed best fit for our data?\r\n",
        "* What would be prefer - higher bias or higher variance model?\r\n",
        "\r\n",
        "On the first question, RMSE will penalise higher differences between predicted and actual values – and  this something we want to minimise when predicting fantasy points – this is the metric we will concentrate on for our model decision.\r\n",
        "\r\n",
        "On the second, while Random Forest did not generalise as well on cross-validation as Linear and SGD models, it did perform the same on test data so this may not be as big a concern as first imagined as all models seem to generalise at an equal rate.\r\n",
        "\r\n",
        "With this in mind, it seems Random Forest will be the model selected to go forward with due to it's slightly better RMSE performance. However, it is important to note that there is no oorrect answer here given how closely all the models performed.\r\n"
      ]
    },
    {
      "cell_type": "markdown",
      "metadata": {
        "id": "SZtOTfNr_XcW"
      },
      "source": [
        "### RMSE"
      ]
    },
    {
      "cell_type": "code",
      "metadata": {
        "id": "jj2hyLNQfuk2"
      },
      "source": [
        "model_names = ['Linear', 'SGD', 'ElasticNet', 'Random Forest', 'Linear', 'SGD', 'ElasticNet', 'Random Forest', 'Linear', 'SGD', 'ElasticNet', 'Random Forest']\r\n",
        "data_type = ['Train', 'Train', 'Train', 'Train', 'Train (with CV)', 'Train (with CV)', 'Train (with CV)', 'Train (with CV)', 'Test', 'Test', 'Test', 'Test']\r\n",
        "model_rmse = [round(lm_rmse, 2), round(sgd_opt_rmse, 2), round(en_opt_rmse, 2), round(rf_opt_rmse, 2), round(abs(lm_cv_rmse_score), 2), round(abs(sgd_opt_cv_rmse_score), 2), round(abs(en_opt_cv_rmse_score), 2), round(abs(rf_opt_cv_rmse_score), 2), round(lm_test_rmse, 2), round(sgd_test_rmse, 2), round(en_test_rmse, 2), round(rf_test_rmse, 2)]"
      ],
      "execution_count": 105,
      "outputs": []
    },
    {
      "cell_type": "code",
      "metadata": {
        "id": "afGi8eckg2-2"
      },
      "source": [
        "overall_rmse_df = pd.DataFrame(list(zip(model_names,data_type, model_rmse)), columns=['Model', 'Data Type', 'RMSE'])"
      ],
      "execution_count": 106,
      "outputs": []
    },
    {
      "cell_type": "code",
      "metadata": {
        "id": "vxLckkWk4_4G"
      },
      "source": [
        "overall_rmse_df_pivot = overall_rmse_df.pivot(columns='Data Type', values='RMSE', index='Model')[['Train', 'Train (with CV)', 'Test']].sort_values(by='Test')"
      ],
      "execution_count": 107,
      "outputs": []
    },
    {
      "cell_type": "code",
      "metadata": {
        "colab": {
          "base_uri": "https://localhost:8080/",
          "height": 0
        },
        "id": "3mIrZ_jLiKS6",
        "outputId": "c68f7f10-344b-4999-c247-61a5b54ca82b"
      },
      "source": [
        "_ = plt.figure(figsize=(12,6))\r\n",
        "_ = sns.barplot(x='Model', y='RMSE', hue='Data Type', data=overall_rmse_df, palette='Blues')\r\n",
        "_ = plt.title('RMSE by Model and Data Type', fontsize=20)\r\n",
        "_ = plt.legend(loc='upper left')\r\n",
        "_ = plt.ylim([0, 8])\r\n",
        "\r\n",
        "plt.show()\r\n",
        "\r\n",
        "\r\n",
        "print(overall_rmse_df_pivot)"
      ],
      "execution_count": 108,
      "outputs": [
        {
          "output_type": "display_data",
          "data": {
            "image/png": "[encoded data removed]",
            "text/plain": [
              "<Figure size 864x432 with 1 Axes>"
            ]
          },
          "metadata": {
            "tags": [],
            "needs_background": "light"
          }
        },
        {
          "output_type": "stream",
          "text": [
            "Data Type      Train  Train (with CV)  Test\n",
            "Model                                      \n",
            "Random Forest   5.66             6.65  6.44\n",
            "ElasticNet      6.39             6.68  6.45\n",
            "Linear          6.39             6.40  6.45\n",
            "SGD             6.39             6.41  6.45\n"
          ],
          "name": "stdout"
        }
      ]
    },
    {
      "cell_type": "markdown",
      "metadata": {
        "id": "npleMv0J_dpp"
      },
      "source": [
        "### MAE"
      ]
    },
    {
      "cell_type": "code",
      "metadata": {
        "id": "CV2YNLbAAHpF"
      },
      "source": [
        "model_names = ['Linear', 'SGD', 'ElasticNet', 'Random Forest', 'Linear', 'SGD', 'ElasticNet', 'Random Forest', 'Linear', 'SGD', 'ElasticNet', 'Random Forest']\r\n",
        "data_type = ['Train', 'Train', 'Train', 'Train', 'Train (with CV)', 'Train (with CV)', 'Train (with CV)', 'Train (with CV)', 'Test', 'Test', 'Test', 'Test']\r\n",
        "model_mae = [round(lm_mae, 2), round(sgd_opt_mae, 2), round(en_opt_mae, 2), round(rf_opt_mae, 2), round(abs(lm_cv_mae_score), 2), round(abs(sgd_opt_cv_mae_score), 2), round(abs(en_opt_cv_mae_score), 2), round(abs(rf_opt_cv_mae_score), 2), round(lm_test_mae, 2), round(sgd_test_mae, 2), round(en_test_mae, 2), round(rf_test_mae, 2)]"
      ],
      "execution_count": 109,
      "outputs": []
    },
    {
      "cell_type": "code",
      "metadata": {
        "id": "Ytk8mpjY_hNj"
      },
      "source": [
        "overall_mae_df = pd.DataFrame(list(zip(model_names,data_type, model_mae)), columns=['Model', 'Data Type', 'MAE'])"
      ],
      "execution_count": 110,
      "outputs": []
    },
    {
      "cell_type": "code",
      "metadata": {
        "id": "j8tl55qQ_v2H"
      },
      "source": [
        "overall_mae_df_pivot = overall_mae_df.pivot(columns='Data Type', values='MAE', index='Model')[['Train', 'Train (with CV)', 'Test']].sort_values(by='Test')"
      ],
      "execution_count": 111,
      "outputs": []
    },
    {
      "cell_type": "code",
      "metadata": {
        "colab": {
          "base_uri": "https://localhost:8080/",
          "height": 0
        },
        "id": "cN7krtVNAmA0",
        "outputId": "1b6e2a65-e6b8-460b-b6cb-5b6adaee65d5"
      },
      "source": [
        "_ = plt.figure(figsize=(12,6))\r\n",
        "_ = sns.barplot(x='Model', y='MAE', hue='Data Type', data=overall_mae_df, palette='Blues')\r\n",
        "_ = plt.title('MAE by Model and Data Type', fontsize=20)\r\n",
        "_ = plt.legend(loc='upper right')\r\n",
        "_ = plt.ylim([0, 7])\r\n",
        "\r\n",
        "plt.show()\r\n",
        "\r\n",
        "\r\n",
        "print(overall_mae_df_pivot)"
      ],
      "execution_count": 112,
      "outputs": [
        {
          "output_type": "display_data",
          "data": {
            "image/png": "[encoded data removed]",
            "text/plain": [
              "<Figure size 864x432 with 1 Axes>"
            ]
          },
          "metadata": {
            "tags": [],
            "needs_background": "light"
          }
        },
        {
          "output_type": "stream",
          "text": [
            "Data Type      Train  Train (with CV)  Test\n",
            "Model                                      \n",
            "ElasticNet      4.65             5.03  4.69\n",
            "Linear          4.65             4.66  4.69\n",
            "SGD             4.66             4.66  4.69\n",
            "Random Forest   4.24             4.90  4.71\n"
          ],
          "name": "stdout"
        }
      ]
    },
    {
      "cell_type": "markdown",
      "metadata": {
        "id": "dGOAAnNeB79O"
      },
      "source": [
        "### R-squared"
      ]
    },
    {
      "cell_type": "code",
      "metadata": {
        "id": "0DJlNEdhCBax"
      },
      "source": [
        "model_names = ['Linear', 'SGD', 'ElasticNet', 'Random Forest', 'Linear', 'SGD', 'ElasticNet', 'Random Forest', 'Linear', 'SGD', 'ElasticNet', 'Random Forest']\r\n",
        "data_type = ['Train', 'Train', 'Train', 'Train', 'Train (with CV)', 'Train (with CV)', 'Train (with CV)', 'Train (with CV)', 'Test', 'Test', 'Test', 'Test']\r\n",
        "model_r2 = [round(lm_r2, 2), round(sgd_opt_r2, 2), round(en_opt_r2, 2), round(rf_opt_r2, 2), round(abs(lm_cv_r2_score), 2), round(abs(sgd_opt_cv_r2_score), 2), round(abs(en_opt_cv_r2_score), 2), round(abs(rf_opt_cv_r2_score), 2), round(lm_test_r2, 2), round(sgd_test_r2, 2), round(en_test_r2, 2), round(rf_test_r2, 2)]"
      ],
      "execution_count": 113,
      "outputs": []
    },
    {
      "cell_type": "code",
      "metadata": {
        "id": "JIdkpTVvCdUl"
      },
      "source": [
        "overall_r2_df = pd.DataFrame(list(zip(model_names,data_type, model_r2)), columns=['Model', 'Data Type', 'R2'])"
      ],
      "execution_count": 114,
      "outputs": []
    },
    {
      "cell_type": "code",
      "metadata": {
        "id": "6UqbHz4lCqff"
      },
      "source": [
        "overall_r2_df_pivot = overall_r2_df.pivot(columns='Data Type', values='R2', index='Model')[['Train', 'Train (with CV)', 'Test']].sort_values(by='Test')"
      ],
      "execution_count": 115,
      "outputs": []
    },
    {
      "cell_type": "code",
      "metadata": {
        "colab": {
          "base_uri": "https://localhost:8080/",
          "height": 0
        },
        "id": "K51IPD2XCyDv",
        "outputId": "878358a8-b197-45d7-f616-eb329b299b0e"
      },
      "source": [
        "_ = plt.figure(figsize=(12,6))\r\n",
        "_ = sns.barplot(x='Model', y='R2', hue='Data Type', data=overall_r2_df, palette='Blues')\r\n",
        "_ = plt.title('R-squared by Model and Data Type', fontsize=20)\r\n",
        "_ = plt.legend(loc='upper left')\r\n",
        "_ = plt.ylim([0, 0.6])\r\n",
        "\r\n",
        "plt.show()\r\n",
        "\r\n",
        "\r\n",
        "print(overall_r2_df_pivot)"
      ],
      "execution_count": 116,
      "outputs": [
        {
          "output_type": "display_data",
          "data": {
            "image/png": "[encoded data removed]",
            "text/plain": [
              "<Figure size 864x432 with 1 Axes>"
            ]
          },
          "metadata": {
            "tags": [],
            "needs_background": "light"
          }
        },
        {
          "output_type": "stream",
          "text": [
            "Data Type      Train  Train (with CV)  Test\n",
            "Model                                      \n",
            "ElasticNet      0.36             0.30  0.35\n",
            "Linear          0.36             0.36  0.35\n",
            "Random Forest   0.50             0.31  0.35\n",
            "SGD             0.36             0.36  0.35\n"
          ],
          "name": "stdout"
        }
      ]
    },
    {
      "cell_type": "markdown",
      "metadata": {
        "id": "7w3bBbLCtfr7"
      },
      "source": [
        "## Conclusion"
      ]
    },
    {
      "cell_type": "markdown",
      "metadata": {
        "id": "u_xzfP-7tsit"
      },
      "source": [
        "The aim of our model was to understand what features could be used to predict future Fantasy Football performance. To acheive this I:\r\n",
        "* Identified 19 features that could be used to understand and predict future fantasy football performance (majority of this work was done at EDA and Pre-processing stage to identify best features for this modelling)\r\n",
        "* As our target variable was continuous, I looked a 4 different type of regression models:\r\n",
        "  1. Linear / OLS Regression\r\n",
        "  2. SGD Regressor\r\n",
        "  3. ElasticNet\r\n",
        "  4. Random Forest Regressor\r\n",
        "* For each of these model, I look to tune the hyperparamaters to identify the optimal model for each. \r\n",
        "* For each model, I evaluated their performance using RMSE, MAE and R-squared\r\n",
        "* Applying metrics to all training data showed that Random Forest performed best\r\n",
        "* Cross-validating the model on the training data showed that our Linear Regression performance best\r\n",
        "* On our test data, our Random Forest Regressor performed best on RMSE while other models performed better on MAE.\r\n",
        "* Due to the ability of RMSE to penalise outliers better, I am inclined to recommend the Random Forest going forward as the best model for prediction of Fantasy Football performance - althought this is not clear cut. \r\n",
        "* This model:\r\n",
        "  * On average, it will predict a player's fantasy performance within +/- 4.71 fantasy points\r\n",
        "  * Previous Fantasy performance is the best indicator of future fantasy performance (when looking at a 4-week period)\r\n",
        "  * Pass completion, Targets, and Rushing attempts are the next most important features which make sense given they are indicators for each of the key positions on the field - QB, RB, WR/TE \r\n"
      ]
    },
    {
      "cell_type": "markdown",
      "metadata": {
        "id": "lht_oU_h0r67"
      },
      "source": [
        "### Next Steps\r\n",
        "\r\n",
        "The model is a good first step in attempting to understanding what influences Fantasy Performance. However, future studies would like to reduce that margin of error down from a MAE of 4.71 because as all fantasy players know, that one point can be the difference between joy and despair on a given NFL weekend. A couple of options that could be explored would be:\r\n",
        "* I used a 4-week rolling average of performance metrics but different week periods could be applied to see how they impact on performance\r\n",
        "* Clusters were identified during the EDA of this project and could be used to turn this into a Classification problem to see how accurately you can predict if a player will fit into a particular cluster\r\n",
        "* This cluster analysis also identified that I high majority of the dataset produce relatively low scores on a weekly basis and would not be of interest to Fantasy players. Refining the data to exclude players of certain performance level would initially reduce the size of the dataset but may produce more meanignful results for fantasy players.\r\n",
        "* New metrics and / or data sources could be included into the analysis to see if these are better predictors (i.e. offensive line performance, QB performance)\r\n",
        "* Focus on position level as different metrics are likely to have bigger impact by position. This would again reduce the size of the dataset but could produce more meaningful results.\r\n",
        "* Look at different types of regression models (i.e. Support Vector Model) to see how this performs.\r\n",
        "* Different approach for feature engineering (i.e. Principal Component Analysis)"
      ]
    },
    {
      "cell_type": "code",
      "metadata": {
        "id": "Tlo4aOKzNF_s"
      },
      "source": [
        ""
      ],
      "execution_count": 116,
      "outputs": []
    }
  ]
}