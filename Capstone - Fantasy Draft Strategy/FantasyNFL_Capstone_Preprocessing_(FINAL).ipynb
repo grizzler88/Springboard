{
  "nbformat": 4,
  "nbformat_minor": 0,
  "metadata": {
    "colab": {
      "name": "FantasyNFL_Capstone_Preprocessing (FINAL).ipynb",
      "provenance": [],
      "collapsed_sections": [
        "tPqphUbWnh_h",
        "S2k0Dhg1AhS6",
        "eT7lDGay3w6w",
        "zVIDYK5FyVI3",
        "IZv53pN8yrkz",
        "GNoOn21-0ZBP",
        "nu4suFeODoNi",
        "0posDJxm4UUA",
        "vBIT6wzk4Prw",
        "kcCzcHqg8JWd",
        "6Uh0X6PNBefn",
        "RmPgCwv6G5bZ",
        "6N8UeKLlGq1G",
        "QbMtB4A1GMKu",
        "O75IRtsKGdYo",
        "6FQPusDCMO6H",
        "Lo8MJg2Tphsb",
        "2sbUoAIXmkeH",
        "jeXhA_7_pd8O",
        "KWy8Ec37rLjf",
        "YfcO6D4EpvM6",
        "u24GT_wn0B3C",
        "fonzLtn1EER3",
        "q0DlAfvi_mWg",
        "hQma4JMiA6yU",
        "kUuZnFHPSoFu",
        "ZrWboaPX4Mnd",
        "6AnuodXz0WWz",
        "7qybzYSTj4-i",
        "71IKjbAhhh4S",
        "Czpz_8xUeQ92",
        "EnwrxBzTeXU0",
        "i2o3QYqvQhqD",
        "5v3HrJhw1_AP",
        "yiwfxiBnrku6"
      ],
      "toc_visible": true,
      "authorship_tag": "ABX9TyPI12/mKMjlYAyml8uRhWzR",
      "include_colab_link": true
    },
    "kernelspec": {
      "display_name": "Python 3",
      "name": "python3"
    }
  },
  "cells": [
    {
      "cell_type": "markdown",
      "metadata": {
        "id": "view-in-github",
        "colab_type": "text"
      },
      "source": [
        "<a href=\"https://colab.research.google.com/github/grizzler88/Springboard/blob/master/Capstone%20-%20Fantasy%20Draft%20Strategy/FantasyNFL_Capstone_Preprocessing_(FINAL).ipynb\" target=\"_parent\"><img src=\"https://colab.research.google.com/assets/colab-badge.svg\" alt=\"Open In Colab\"/></a>"
      ]
    },
    {
      "cell_type": "markdown",
      "metadata": {
        "id": "pUp_-swjt-v4"
      },
      "source": [
        "# Capstone 1: Fantasy NFL (Preprocessing)"
      ]
    },
    {
      "cell_type": "markdown",
      "metadata": {
        "id": "xCBp8qMAuSGs"
      },
      "source": [
        "The next step for my Capstone project is to clean up and prepare the dataset so it is ready for the Modelling stage of the project."
      ]
    },
    {
      "cell_type": "markdown",
      "metadata": {
        "id": "tPqphUbWnh_h"
      },
      "source": [
        "## Getting Started"
      ]
    },
    {
      "cell_type": "markdown",
      "metadata": {
        "id": "HnyZlBaZAXJC"
      },
      "source": [
        "### Import packages & load dataset"
      ]
    },
    {
      "cell_type": "code",
      "metadata": {
        "id": "1Ypq-wMAxGSw"
      },
      "source": [
        "import numpy as np\r\n",
        "import pandas as pd\r\n",
        "import matplotlib.pyplot as plt\r\n",
        "import seaborn as sns"
      ],
      "execution_count": 1,
      "outputs": []
    },
    {
      "cell_type": "code",
      "metadata": {
        "id": "bsZghOnjwo2T"
      },
      "source": [
        "df = pd.read_csv('NFL_FantasyData_2015_2019_EDA_v3.csv')\r\n",
        "#df.head()"
      ],
      "execution_count": 2,
      "outputs": []
    },
    {
      "cell_type": "markdown",
      "metadata": {
        "id": "Vp18uLyYytTh"
      },
      "source": [
        "Dataset has unamed column 'Unnamed: 0' from import that is not of value and should be removed."
      ]
    },
    {
      "cell_type": "code",
      "metadata": {
        "id": "SBlhCn-vx7uj"
      },
      "source": [
        "df = df.drop(columns='Unnamed: 0')"
      ],
      "execution_count": 3,
      "outputs": []
    },
    {
      "cell_type": "code",
      "metadata": {
        "id": "aq_wACrYyN48"
      },
      "source": [
        "#df.head()"
      ],
      "execution_count": 4,
      "outputs": []
    },
    {
      "cell_type": "code",
      "metadata": {
        "colab": {
          "base_uri": "https://localhost:8080/"
        },
        "id": "G4uJrNQy_ULT",
        "outputId": "2407ba0b-33c3-47d5-b1b1-56e2a6f492e9"
      },
      "source": [
        "df.shape"
      ],
      "execution_count": 5,
      "outputs": [
        {
          "output_type": "execute_result",
          "data": {
            "text/plain": [
              "(22410, 47)"
            ]
          },
          "metadata": {
            "tags": []
          },
          "execution_count": 5
        }
      ]
    },
    {
      "cell_type": "markdown",
      "metadata": {
        "id": "S2k0Dhg1AhS6"
      },
      "source": [
        "## Review Dataset"
      ]
    },
    {
      "cell_type": "markdown",
      "metadata": {
        "id": "dNYAKPZU2R77"
      },
      "source": [
        "Next, we will look see what data types are in the dataset"
      ]
    },
    {
      "cell_type": "code",
      "metadata": {
        "colab": {
          "base_uri": "https://localhost:8080/"
        },
        "id": "w6H7QoSlzPFn",
        "outputId": "c6b58bcf-c03d-49b9-dd93-2c1c18102b3f"
      },
      "source": [
        "df.info()"
      ],
      "execution_count": 6,
      "outputs": [
        {
          "output_type": "stream",
          "text": [
            "<class 'pandas.core.frame.DataFrame'>\n",
            "RangeIndex: 22410 entries, 0 to 22409\n",
            "Data columns (total 47 columns):\n",
            " #   Column           Non-Null Count  Dtype  \n",
            "---  ------           --------------  -----  \n",
            " 0   TEAM             22410 non-null  object \n",
            " 1   OPP              22410 non-null  object \n",
            " 2   DATE             22410 non-null  object \n",
            " 3   SEASON           22410 non-null  int64  \n",
            " 4   WEEK             22410 non-null  object \n",
            " 5   MONTH            22410 non-null  object \n",
            " 6   TIME             22410 non-null  object \n",
            " 7   POS              22410 non-null  object \n",
            " 8   PLAYER           22410 non-null  object \n",
            " 9   FAN_ACTUAL       22410 non-null  float64\n",
            " 10  HOME             22410 non-null  int64  \n",
            " 11  DOME             22410 non-null  int64  \n",
            " 12  GRASS            22410 non-null  int64  \n",
            " 13  SUNDAY           22410 non-null  int64  \n",
            " 14  WEEK_SEASON_ID   22410 non-null  int64  \n",
            " 15  FAN_AVG          22410 non-null  float64\n",
            " 16  PASSCOMP_AVG     22410 non-null  float64\n",
            " 17  PASSATT_AVG      22410 non-null  float64\n",
            " 18  PASSCOMP%_AVG    22410 non-null  float64\n",
            " 19  PASSYDS_AVG      22410 non-null  float64\n",
            " 20  PASSTD_AVG       22410 non-null  float64\n",
            " 21  INT_AVG          22410 non-null  float64\n",
            " 22  QBRAT_AVG        22410 non-null  float64\n",
            " 23  SACK_AVG         22410 non-null  float64\n",
            " 24  SACKYDS_AVG      22410 non-null  float64\n",
            " 25  PASSYDS_300_AVG  22410 non-null  float64\n",
            " 26  PASSYDS_400_AVG  22410 non-null  float64\n",
            " 27  RUSHATT_AVG      22410 non-null  float64\n",
            " 28  RUSHYDS_AVG      22410 non-null  float64\n",
            " 29  RUSHTD_AVG       22410 non-null  float64\n",
            " 30  FUM_AVG          22410 non-null  float64\n",
            " 31  FUMLST_AVG       22410 non-null  float64\n",
            " 32  RUSHYDS_100_AVG  22410 non-null  float64\n",
            " 33  RUSHYDS_200_AVG  22410 non-null  float64\n",
            " 34  TGTS_AVG         22410 non-null  float64\n",
            " 35  REC_AVG          22410 non-null  float64\n",
            " 36  RECYDS_AVG       22410 non-null  float64\n",
            " 37  RECTD_AVG        22410 non-null  float64\n",
            " 38  RECYDS_100_AVG   22410 non-null  float64\n",
            " 39  RECYDS_200_AVG   22410 non-null  float64\n",
            " 40  PTS_FOR_AVG      22410 non-null  float64\n",
            " 41  PTS_AGT_AVG      22410 non-null  float64\n",
            " 42  WIN/TIE_AVG      22410 non-null  float64\n",
            " 43  OPP_PTS_FOR_AVG  22410 non-null  float64\n",
            " 44  OPP_PTS_AGT_AVG  22410 non-null  float64\n",
            " 45  OPP_WIN/TIE_AVG  22410 non-null  float64\n",
            " 46  cluster_4        22410 non-null  int64  \n",
            "dtypes: float64(32), int64(7), object(8)\n",
            "memory usage: 8.0+ MB\n"
          ],
          "name": "stdout"
        }
      ]
    },
    {
      "cell_type": "markdown",
      "metadata": {
        "id": "mor-LMRc3mvt"
      },
      "source": [
        "There are 8 objects or categorical variables that we will need to make numeric."
      ]
    },
    {
      "cell_type": "markdown",
      "metadata": {
        "id": "eT7lDGay3w6w"
      },
      "source": [
        "### Categorical variables"
      ]
    },
    {
      "cell_type": "markdown",
      "metadata": {
        "id": "CnJQypM48uY9"
      },
      "source": [
        "The review of the object columns below shows that including them all (as dummy variables) would create +1,300 new columns.\r\n",
        "\r\n",
        "Initially we will focus on the POS, TEAM, OPP, and PLAYER columns. Following this, we will review the time/date columns of DATE, WEEK, MONTH, DAY, TIME."
      ]
    },
    {
      "cell_type": "code",
      "metadata": {
        "id": "OYr5lWoN6tcl"
      },
      "source": [
        "object_cols = list(df.columns[df.dtypes == np.object])"
      ],
      "execution_count": 7,
      "outputs": []
    },
    {
      "cell_type": "code",
      "metadata": {
        "colab": {
          "base_uri": "https://localhost:8080/"
        },
        "id": "KtHoTad68Col",
        "outputId": "1217da93-041a-4d00-d28e-d274b415cc0d"
      },
      "source": [
        "for x in object_cols:\r\n",
        "  val = df[x].nunique()\r\n",
        "  print(x,' = ', val)"
      ],
      "execution_count": 8,
      "outputs": [
        {
          "output_type": "stream",
          "text": [
            "TEAM  =  32\n",
            "OPP  =  32\n",
            "DATE  =  248\n",
            "WEEK  =  17\n",
            "MONTH  =  5\n",
            "TIME  =  3\n",
            "POS  =  4\n",
            "PLAYER  =  1012\n"
          ],
          "name": "stdout"
        }
      ]
    },
    {
      "cell_type": "markdown",
      "metadata": {
        "id": "zVIDYK5FyVI3"
      },
      "source": [
        "#### Remove 'PLAYER' column"
      ]
    },
    {
      "cell_type": "markdown",
      "metadata": {
        "id": "JkVkZkoVe4GD"
      },
      "source": [
        "First, I will remove the PLAYER field. Turning this to dummy values would create 1,011 additional columns which would add too many dimensions to the problem. It is also unlikely that the player's name itself will be a main indicator of performance, but rather the statistics that they produce."
      ]
    },
    {
      "cell_type": "code",
      "metadata": {
        "id": "nWD5sveDfaOL"
      },
      "source": [
        "df = df.drop(columns='PLAYER')"
      ],
      "execution_count": 9,
      "outputs": []
    },
    {
      "cell_type": "code",
      "metadata": {
        "id": "RX93LRwKyk3v"
      },
      "source": [
        "#df.shape"
      ],
      "execution_count": 10,
      "outputs": []
    },
    {
      "cell_type": "markdown",
      "metadata": {
        "id": "IZv53pN8yrkz"
      },
      "source": [
        "#### Remove 'TEAM' and 'OPP' column"
      ]
    },
    {
      "cell_type": "markdown",
      "metadata": {
        "id": "Oh_J3pwjfk2E"
      },
      "source": [
        "Transforming the TEAM and OPP columns into dummy variables would add 31 columns each. We also noted during our EDA that, although the Team and Coach columns were providing us with information, that this information could be proxied using team peformance statisitcs (i.e. it likely isn't the name of the team that influences a player performance but rather the team performance under a certain organisation structure that influences it).\r\n",
        "\r\n",
        "With this in mind, I have decided to remove both the 'TEAM' and 'OPP' column. However, based on the performance of our initial modelling we could look to reintroduce if required."
      ]
    },
    {
      "cell_type": "code",
      "metadata": {
        "id": "OzHICw-R0NHO"
      },
      "source": [
        "df = df.drop(columns=['TEAM', 'OPP'])"
      ],
      "execution_count": 11,
      "outputs": []
    },
    {
      "cell_type": "code",
      "metadata": {
        "id": "brDbdPj80TtW"
      },
      "source": [
        "#df.shape"
      ],
      "execution_count": 12,
      "outputs": []
    },
    {
      "cell_type": "markdown",
      "metadata": {
        "id": "GNoOn21-0ZBP"
      },
      "source": [
        "#### Create dummy variables for 'POS' column"
      ]
    },
    {
      "cell_type": "markdown",
      "metadata": {
        "id": "7xJT7yb80eiw"
      },
      "source": [
        "Throughout the EDA, we saw that position of a player was an important indicator of fantasy performance and therefore we will include it in our model. To do this, we will create dummy variables below."
      ]
    },
    {
      "cell_type": "code",
      "metadata": {
        "id": "ILAv0Klb-Pga"
      },
      "source": [
        "dummy_POS = pd.get_dummies(df.POS, prefix='POS', drop_first=True)"
      ],
      "execution_count": 13,
      "outputs": []
    },
    {
      "cell_type": "code",
      "metadata": {
        "id": "IwzwF0hM_Wrs"
      },
      "source": [
        "df = pd.concat([df, dummy_POS], axis=1).drop(columns=['POS'])"
      ],
      "execution_count": 14,
      "outputs": []
    },
    {
      "cell_type": "code",
      "metadata": {
        "colab": {
          "base_uri": "https://localhost:8080/"
        },
        "id": "AeXkuZv4Dj0N",
        "outputId": "7f860013-46b6-4f51-e14e-872dd0ea2690"
      },
      "source": [
        "df.head()\r\n",
        "df.shape"
      ],
      "execution_count": 15,
      "outputs": [
        {
          "output_type": "execute_result",
          "data": {
            "text/plain": [
              "(22410, 46)"
            ]
          },
          "metadata": {
            "tags": []
          },
          "execution_count": 15
        }
      ]
    },
    {
      "cell_type": "markdown",
      "metadata": {
        "id": "nu4suFeODoNi"
      },
      "source": [
        "### Date variables"
      ]
    },
    {
      "cell_type": "markdown",
      "metadata": {
        "id": "0posDJxm4UUA"
      },
      "source": [
        "#### Date"
      ]
    },
    {
      "cell_type": "markdown",
      "metadata": {
        "id": "SJvC-z624Xsa"
      },
      "source": [
        "Our data has 248 unique values in our 'DATE' column. While we want to capture some time element in our model, I don't believe it needs to be as granular as a specific date. For this reason, we will remove the date field from our data set for now but can look to include again if we believe the time is becoming an issue with our data."
      ]
    },
    {
      "cell_type": "code",
      "metadata": {
        "id": "8Sp-s5vQ5Yn9"
      },
      "source": [
        "df = df.drop(columns=['DATE'])"
      ],
      "execution_count": 16,
      "outputs": []
    },
    {
      "cell_type": "code",
      "metadata": {
        "colab": {
          "base_uri": "https://localhost:8080/"
        },
        "id": "LieMCfR55fgo",
        "outputId": "702dc579-7128-4e55-e8a6-233b47a3710d"
      },
      "source": [
        "df.shape"
      ],
      "execution_count": 17,
      "outputs": [
        {
          "output_type": "execute_result",
          "data": {
            "text/plain": [
              "(22410, 45)"
            ]
          },
          "metadata": {
            "tags": []
          },
          "execution_count": 17
        }
      ]
    },
    {
      "cell_type": "markdown",
      "metadata": {
        "id": "vBIT6wzk4Prw"
      },
      "source": [
        "#### Week, Month & Season"
      ]
    },
    {
      "cell_type": "markdown",
      "metadata": {
        "id": "-C8_D2Oc5khj"
      },
      "source": [
        "As mentioned when removing the 'DATE' column, we have other variables in our dataset that we believe can capture the time and date aspect of data. This namely relates to the following columns:\r\n",
        "\r\n",
        "* 'WEEK' - what gamewek was a game played in (there are 17 gameweeks in an NFL season)\r\n",
        "* 'MONTH' - what month was a game played in\r\n",
        "* 'SEASON' - what season was a game played in\r\n",
        "* 'WEEK_SEASON_ID' - what number in order did a game get played in since start of this dataset\r\n",
        "* 'SUNDAY' - was game played on a Sunday (1 if yes, 0 if no)\r\n",
        "* 'TIME' - what time was game played (Noon, Afternoon, Night)\r\n",
        "\r\n",
        "\r\n",
        "For this, there are two main decisions that need to be answered in order:\r\n",
        "\r\n",
        "1.  Do we want to include 'WEEK_SEASON_ID'?\r\n",
        "  * This is an ordered numeric series that may cause issues with our model if not correctly applied. For this reason, it is probably best to __remove 'WEEK_SEASON_ID'.__\r\n",
        "\r\n",
        "2.  Do we want to keep 'WEEK' or 'MONTH' column?\r\n",
        "  * During our EDA, we found that both showed a trend that as the season went on the lower average fantasy points became. However, including both will likely create a duplication of information so it is probably best to proceed with only one for our modelling. __As 'MONTH' required fewer variables, we will begin with this but can return to include 'WEEK' if required later.__\r\n",
        "\r\n",
        "\r\n",
        "This means that we will proceed with the 'MONTH', 'SEASON', 'TIME', and 'SUNDAY' columns to capture the time elements of the data in our modelling. To do this, we will need to create dummy variable for all the columns (for 'SEASON' we will first have to turn into an object), except for 'SUNDAY' which is already created as a boolean/binary column."
      ]
    },
    {
      "cell_type": "code",
      "metadata": {
        "id": "OJyT7zT69LnK"
      },
      "source": [
        "df = df.drop(columns=['WEEK_SEASON_ID', 'WEEK'])"
      ],
      "execution_count": 18,
      "outputs": []
    },
    {
      "cell_type": "code",
      "metadata": {
        "colab": {
          "base_uri": "https://localhost:8080/"
        },
        "id": "0ZyFRbCH-mHn",
        "outputId": "4a4a3eaa-8709-466b-ab8d-4cab26f55c6c"
      },
      "source": [
        "df.shape"
      ],
      "execution_count": 19,
      "outputs": [
        {
          "output_type": "execute_result",
          "data": {
            "text/plain": [
              "(22410, 43)"
            ]
          },
          "metadata": {
            "tags": []
          },
          "execution_count": 19
        }
      ]
    },
    {
      "cell_type": "code",
      "metadata": {
        "id": "2H9wJLPe9T4v"
      },
      "source": [
        "df['SEASON'] = df['SEASON'].astype(object)"
      ],
      "execution_count": 20,
      "outputs": []
    },
    {
      "cell_type": "code",
      "metadata": {
        "id": "6wwqjILg-wHz"
      },
      "source": [
        "dummy_SEASON = pd.get_dummies(df.SEASON, prefix='SEASON', drop_first=True)\r\n",
        "dummy_MONTH = pd.get_dummies(df.MONTH, prefix='MONTH', drop_first=True)\r\n",
        "dummy_TIME = pd.get_dummies(df.TIME, prefix='TIME', drop_first=True)"
      ],
      "execution_count": 21,
      "outputs": []
    },
    {
      "cell_type": "code",
      "metadata": {
        "id": "P3mtzuvd-8rr"
      },
      "source": [
        "df = pd.concat([df, dummy_SEASON, dummy_MONTH, dummy_TIME], axis=1).drop(columns=['SEASON', 'MONTH', 'TIME'])"
      ],
      "execution_count": 22,
      "outputs": []
    },
    {
      "cell_type": "code",
      "metadata": {
        "colab": {
          "base_uri": "https://localhost:8080/"
        },
        "id": "4K67_Y3d_KzR",
        "outputId": "2a5e5663-62de-42d1-9b97-c267ee0d4f7c"
      },
      "source": [
        "df.head()\r\n",
        "df.shape"
      ],
      "execution_count": 23,
      "outputs": [
        {
          "output_type": "execute_result",
          "data": {
            "text/plain": [
              "(22410, 50)"
            ]
          },
          "metadata": {
            "tags": []
          },
          "execution_count": 23
        }
      ]
    },
    {
      "cell_type": "markdown",
      "metadata": {
        "id": "kcCzcHqg8JWd"
      },
      "source": [
        "## Training and Test Data"
      ]
    },
    {
      "cell_type": "markdown",
      "metadata": {
        "id": "6OUsF85f8Wv0"
      },
      "source": [
        "Next we will split our data between a training and testing sets. This will allow us to build our model on the training set and then evaluate it on the test set. The aim of this is to avoid us overfitting our model and allowing to generalise to new data when it becomes available – like a new season.  \r\n",
        "\r\n",
        "To do this, I will import the train_test_split fuction from sklearn."
      ]
    },
    {
      "cell_type": "code",
      "metadata": {
        "id": "e0kntCA98Vy6"
      },
      "source": [
        "from sklearn.model_selection import train_test_split"
      ],
      "execution_count": 24,
      "outputs": []
    },
    {
      "cell_type": "markdown",
      "metadata": {
        "id": "AxGzh1Wx_v0x"
      },
      "source": [
        "Now, we will need breakout the data into our target and feature variables. \r\n",
        "\r\n",
        "For our model, we have two potential target variables  - 'FAN_ACTUAL' or 'cluster_4'.  'FAN_ACTUAL' is a a continuous variable and 'cluster_4' is a categorical variable meaning the choice between which variable we use will dicate what type of model - regression or classification.\r\n",
        "\r\n",
        "To date, most of our focus has been on understanding the relationship with Fantasy Points so we will continue with this for now and use 'FAN_ACTUAL' as our target variable (y). However, depending on results, future analysis could look to incorporate cluster into a classification problem / model.\r\n",
        "\r\n",
        "The remaining 48 columns will become our features (X) for modelling."
      ]
    },
    {
      "cell_type": "code",
      "metadata": {
        "id": "bkgtmNEe-aWb"
      },
      "source": [
        "X = df.drop(['FAN_ACTUAL', 'cluster_4'], axis=1)\r\n",
        "y = df['FAN_ACTUAL']"
      ],
      "execution_count": 25,
      "outputs": []
    },
    {
      "cell_type": "markdown",
      "metadata": {
        "id": "iOQOTokG_-bx"
      },
      "source": [
        "Finally, we will split the data into training and test data. For this we will use the default test size of 25%."
      ]
    },
    {
      "cell_type": "code",
      "metadata": {
        "id": "3MlVnSQ690GA"
      },
      "source": [
        "X_train, X_test, y_train, y_test = train_test_split(X, y, test_size=.25, random_state=42)"
      ],
      "execution_count": 26,
      "outputs": []
    },
    {
      "cell_type": "markdown",
      "metadata": {
        "id": "6Uh0X6PNBefn"
      },
      "source": [
        "## Scaling"
      ]
    },
    {
      "cell_type": "markdown",
      "metadata": {
        "id": "ZLDdN0luCXlg"
      },
      "source": [
        "Our data contains a wide variety of values and scales that will need to standardized before we model our data. As the table below shows, values differs between each column. For example, 'PASSYDS_AVG' has a range between 0 and 403, where as 'FUMLST_AVG' ranges between 0 and 2. As well as this, we have a number of dummy variables generated earlier to represent if a category is present or not. These variables do not need to be standardise.\r\n",
        "\r\n",
        "Based on this variety of data, we look at 3 steps to standardise our dataset:\r\n",
        "1. Remove Dummy Variables from X_train and X_test\r\n",
        "2. Standarise continuous variables in X_train and X_test\r\n",
        "3. Concatenate Dummy variables back into scaled X_train and X_test data\r\n"
      ]
    },
    {
      "cell_type": "code",
      "metadata": {
        "colab": {
          "base_uri": "https://localhost:8080/",
          "height": 0
        },
        "id": "saGtf5BVTAwv",
        "outputId": "130f9078-22fd-4bed-8ce6-aac2da1dc2d5"
      },
      "source": [
        "X_train.describe()"
      ],
      "execution_count": 27,
      "outputs": [
        {
          "output_type": "execute_result",
          "data": {
            "text/html": [
              "<div>\n",
              "<style scoped>\n",
              "    .dataframe tbody tr th:only-of-type {\n",
              "        vertical-align: middle;\n",
              "    }\n",
              "\n",
              "    .dataframe tbody tr th {\n",
              "        vertical-align: top;\n",
              "    }\n",
              "\n",
              "    .dataframe thead th {\n",
              "        text-align: right;\n",
              "    }\n",
              "</style>\n",
              "<table border=\"1\" class=\"dataframe\">\n",
              "  <thead>\n",
              "    <tr style=\"text-align: right;\">\n",
              "      <th></th>\n",
              "      <th>HOME</th>\n",
              "      <th>DOME</th>\n",
              "      <th>GRASS</th>\n",
              "      <th>SUNDAY</th>\n",
              "      <th>FAN_AVG</th>\n",
              "      <th>PASSCOMP_AVG</th>\n",
              "      <th>PASSATT_AVG</th>\n",
              "      <th>PASSCOMP%_AVG</th>\n",
              "      <th>PASSYDS_AVG</th>\n",
              "      <th>PASSTD_AVG</th>\n",
              "      <th>INT_AVG</th>\n",
              "      <th>QBRAT_AVG</th>\n",
              "      <th>SACK_AVG</th>\n",
              "      <th>SACKYDS_AVG</th>\n",
              "      <th>PASSYDS_300_AVG</th>\n",
              "      <th>PASSYDS_400_AVG</th>\n",
              "      <th>RUSHATT_AVG</th>\n",
              "      <th>RUSHYDS_AVG</th>\n",
              "      <th>RUSHTD_AVG</th>\n",
              "      <th>FUM_AVG</th>\n",
              "      <th>FUMLST_AVG</th>\n",
              "      <th>RUSHYDS_100_AVG</th>\n",
              "      <th>RUSHYDS_200_AVG</th>\n",
              "      <th>TGTS_AVG</th>\n",
              "      <th>REC_AVG</th>\n",
              "      <th>RECYDS_AVG</th>\n",
              "      <th>RECTD_AVG</th>\n",
              "      <th>RECYDS_100_AVG</th>\n",
              "      <th>RECYDS_200_AVG</th>\n",
              "      <th>PTS_FOR_AVG</th>\n",
              "      <th>PTS_AGT_AVG</th>\n",
              "      <th>WIN/TIE_AVG</th>\n",
              "      <th>OPP_PTS_FOR_AVG</th>\n",
              "      <th>OPP_PTS_AGT_AVG</th>\n",
              "      <th>OPP_WIN/TIE_AVG</th>\n",
              "      <th>POS_RB</th>\n",
              "      <th>POS_TE</th>\n",
              "      <th>POS_WR</th>\n",
              "      <th>SEASON_2016</th>\n",
              "      <th>SEASON_2017</th>\n",
              "      <th>SEASON_2018</th>\n",
              "      <th>SEASON_2019</th>\n",
              "      <th>MONTH_January</th>\n",
              "      <th>MONTH_November</th>\n",
              "      <th>MONTH_October</th>\n",
              "      <th>MONTH_September</th>\n",
              "      <th>TIME_Night</th>\n",
              "      <th>TIME_Noon</th>\n",
              "    </tr>\n",
              "  </thead>\n",
              "  <tbody>\n",
              "    <tr>\n",
              "      <th>count</th>\n",
              "      <td>16807.000000</td>\n",
              "      <td>16807.000000</td>\n",
              "      <td>16807.000000</td>\n",
              "      <td>16807.000000</td>\n",
              "      <td>16807.000000</td>\n",
              "      <td>16807.000000</td>\n",
              "      <td>16807.000000</td>\n",
              "      <td>16807.000000</td>\n",
              "      <td>16807.000000</td>\n",
              "      <td>16807.000000</td>\n",
              "      <td>16807.000000</td>\n",
              "      <td>16807.000000</td>\n",
              "      <td>16807.000000</td>\n",
              "      <td>16807.000000</td>\n",
              "      <td>16807.000000</td>\n",
              "      <td>16807.000000</td>\n",
              "      <td>16807.000000</td>\n",
              "      <td>16807.000000</td>\n",
              "      <td>16807.000000</td>\n",
              "      <td>16807.000000</td>\n",
              "      <td>16807.000000</td>\n",
              "      <td>16807.000000</td>\n",
              "      <td>16807.000000</td>\n",
              "      <td>16807.000000</td>\n",
              "      <td>16807.000000</td>\n",
              "      <td>16807.000000</td>\n",
              "      <td>16807.000000</td>\n",
              "      <td>16807.000000</td>\n",
              "      <td>16807.000000</td>\n",
              "      <td>16807.000000</td>\n",
              "      <td>16807.000000</td>\n",
              "      <td>16807.000000</td>\n",
              "      <td>16807.000000</td>\n",
              "      <td>16807.000000</td>\n",
              "      <td>16807.000000</td>\n",
              "      <td>16807.000000</td>\n",
              "      <td>16807.000000</td>\n",
              "      <td>16807.000000</td>\n",
              "      <td>16807.000000</td>\n",
              "      <td>16807.000000</td>\n",
              "      <td>16807.000000</td>\n",
              "      <td>16807.000000</td>\n",
              "      <td>16807.000000</td>\n",
              "      <td>16807.000000</td>\n",
              "      <td>16807.000000</td>\n",
              "      <td>16807.000000</td>\n",
              "      <td>16807.000000</td>\n",
              "      <td>16807.000000</td>\n",
              "    </tr>\n",
              "    <tr>\n",
              "      <th>mean</th>\n",
              "      <td>0.493723</td>\n",
              "      <td>0.255608</td>\n",
              "      <td>0.557803</td>\n",
              "      <td>0.849051</td>\n",
              "      <td>7.546625</td>\n",
              "      <td>2.473716</td>\n",
              "      <td>3.896794</td>\n",
              "      <td>0.079652</td>\n",
              "      <td>28.200462</td>\n",
              "      <td>0.177897</td>\n",
              "      <td>0.091103</td>\n",
              "      <td>11.391458</td>\n",
              "      <td>0.262197</td>\n",
              "      <td>1.738224</td>\n",
              "      <td>0.054164</td>\n",
              "      <td>0.003099</td>\n",
              "      <td>2.898366</td>\n",
              "      <td>12.284876</td>\n",
              "      <td>0.088748</td>\n",
              "      <td>0.118145</td>\n",
              "      <td>0.056331</td>\n",
              "      <td>0.042562</td>\n",
              "      <td>0.000476</td>\n",
              "      <td>3.633179</td>\n",
              "      <td>2.438523</td>\n",
              "      <td>27.865934</td>\n",
              "      <td>0.174228</td>\n",
              "      <td>0.083269</td>\n",
              "      <td>0.000823</td>\n",
              "      <td>22.765038</td>\n",
              "      <td>22.712883</td>\n",
              "      <td>0.503783</td>\n",
              "      <td>22.662398</td>\n",
              "      <td>22.717618</td>\n",
              "      <td>0.501998</td>\n",
              "      <td>0.298090</td>\n",
              "      <td>0.183554</td>\n",
              "      <td>0.389659</td>\n",
              "      <td>0.201166</td>\n",
              "      <td>0.206759</td>\n",
              "      <td>0.201583</td>\n",
              "      <td>0.202713</td>\n",
              "      <td>0.024514</td>\n",
              "      <td>0.239960</td>\n",
              "      <td>0.254537</td>\n",
              "      <td>0.192955</td>\n",
              "      <td>0.197061</td>\n",
              "      <td>0.550604</td>\n",
              "    </tr>\n",
              "    <tr>\n",
              "      <th>std</th>\n",
              "      <td>0.499975</td>\n",
              "      <td>0.436215</td>\n",
              "      <td>0.496662</td>\n",
              "      <td>0.358010</td>\n",
              "      <td>6.164507</td>\n",
              "      <td>6.901203</td>\n",
              "      <td>10.794579</td>\n",
              "      <td>0.208256</td>\n",
              "      <td>78.965386</td>\n",
              "      <td>0.540575</td>\n",
              "      <td>0.298330</td>\n",
              "      <td>29.995078</td>\n",
              "      <td>0.790203</td>\n",
              "      <td>5.347899</td>\n",
              "      <td>0.223866</td>\n",
              "      <td>0.030503</td>\n",
              "      <td>4.947764</td>\n",
              "      <td>22.091557</td>\n",
              "      <td>0.218702</td>\n",
              "      <td>0.240575</td>\n",
              "      <td>0.139145</td>\n",
              "      <td>0.184272</td>\n",
              "      <td>0.011561</td>\n",
              "      <td>2.913949</td>\n",
              "      <td>1.909205</td>\n",
              "      <td>25.511847</td>\n",
              "      <td>0.261646</td>\n",
              "      <td>0.245935</td>\n",
              "      <td>0.014379</td>\n",
              "      <td>5.968966</td>\n",
              "      <td>5.445327</td>\n",
              "      <td>0.286630</td>\n",
              "      <td>5.943260</td>\n",
              "      <td>5.467609</td>\n",
              "      <td>0.287166</td>\n",
              "      <td>0.457433</td>\n",
              "      <td>0.387132</td>\n",
              "      <td>0.487687</td>\n",
              "      <td>0.400884</td>\n",
              "      <td>0.404993</td>\n",
              "      <td>0.401194</td>\n",
              "      <td>0.402033</td>\n",
              "      <td>0.154642</td>\n",
              "      <td>0.427071</td>\n",
              "      <td>0.435613</td>\n",
              "      <td>0.394630</td>\n",
              "      <td>0.397790</td>\n",
              "      <td>0.497447</td>\n",
              "    </tr>\n",
              "    <tr>\n",
              "      <th>min</th>\n",
              "      <td>0.000000</td>\n",
              "      <td>0.000000</td>\n",
              "      <td>0.000000</td>\n",
              "      <td>0.000000</td>\n",
              "      <td>-2.100000</td>\n",
              "      <td>0.000000</td>\n",
              "      <td>0.000000</td>\n",
              "      <td>0.000000</td>\n",
              "      <td>0.000000</td>\n",
              "      <td>0.000000</td>\n",
              "      <td>0.000000</td>\n",
              "      <td>0.000000</td>\n",
              "      <td>0.000000</td>\n",
              "      <td>0.000000</td>\n",
              "      <td>0.000000</td>\n",
              "      <td>0.000000</td>\n",
              "      <td>0.000000</td>\n",
              "      <td>-5.000000</td>\n",
              "      <td>0.000000</td>\n",
              "      <td>0.000000</td>\n",
              "      <td>0.000000</td>\n",
              "      <td>0.000000</td>\n",
              "      <td>0.000000</td>\n",
              "      <td>0.000000</td>\n",
              "      <td>0.000000</td>\n",
              "      <td>-7.000000</td>\n",
              "      <td>0.000000</td>\n",
              "      <td>0.000000</td>\n",
              "      <td>0.000000</td>\n",
              "      <td>3.000000</td>\n",
              "      <td>3.000000</td>\n",
              "      <td>0.000000</td>\n",
              "      <td>3.000000</td>\n",
              "      <td>3.000000</td>\n",
              "      <td>0.000000</td>\n",
              "      <td>0.000000</td>\n",
              "      <td>0.000000</td>\n",
              "      <td>0.000000</td>\n",
              "      <td>0.000000</td>\n",
              "      <td>0.000000</td>\n",
              "      <td>0.000000</td>\n",
              "      <td>0.000000</td>\n",
              "      <td>0.000000</td>\n",
              "      <td>0.000000</td>\n",
              "      <td>0.000000</td>\n",
              "      <td>0.000000</td>\n",
              "      <td>0.000000</td>\n",
              "      <td>0.000000</td>\n",
              "    </tr>\n",
              "    <tr>\n",
              "      <th>25%</th>\n",
              "      <td>0.000000</td>\n",
              "      <td>0.000000</td>\n",
              "      <td>0.000000</td>\n",
              "      <td>1.000000</td>\n",
              "      <td>3.025000</td>\n",
              "      <td>0.000000</td>\n",
              "      <td>0.000000</td>\n",
              "      <td>0.000000</td>\n",
              "      <td>0.000000</td>\n",
              "      <td>0.000000</td>\n",
              "      <td>0.000000</td>\n",
              "      <td>0.000000</td>\n",
              "      <td>0.000000</td>\n",
              "      <td>0.000000</td>\n",
              "      <td>0.000000</td>\n",
              "      <td>0.000000</td>\n",
              "      <td>0.000000</td>\n",
              "      <td>0.000000</td>\n",
              "      <td>0.000000</td>\n",
              "      <td>0.000000</td>\n",
              "      <td>0.000000</td>\n",
              "      <td>0.000000</td>\n",
              "      <td>0.000000</td>\n",
              "      <td>1.250000</td>\n",
              "      <td>1.000000</td>\n",
              "      <td>7.500000</td>\n",
              "      <td>0.000000</td>\n",
              "      <td>0.000000</td>\n",
              "      <td>0.000000</td>\n",
              "      <td>18.750000</td>\n",
              "      <td>19.000000</td>\n",
              "      <td>0.250000</td>\n",
              "      <td>18.500000</td>\n",
              "      <td>19.000000</td>\n",
              "      <td>0.250000</td>\n",
              "      <td>0.000000</td>\n",
              "      <td>0.000000</td>\n",
              "      <td>0.000000</td>\n",
              "      <td>0.000000</td>\n",
              "      <td>0.000000</td>\n",
              "      <td>0.000000</td>\n",
              "      <td>0.000000</td>\n",
              "      <td>0.000000</td>\n",
              "      <td>0.000000</td>\n",
              "      <td>0.000000</td>\n",
              "      <td>0.000000</td>\n",
              "      <td>0.000000</td>\n",
              "      <td>0.000000</td>\n",
              "    </tr>\n",
              "    <tr>\n",
              "      <th>50%</th>\n",
              "      <td>0.000000</td>\n",
              "      <td>0.000000</td>\n",
              "      <td>1.000000</td>\n",
              "      <td>1.000000</td>\n",
              "      <td>5.825000</td>\n",
              "      <td>0.000000</td>\n",
              "      <td>0.000000</td>\n",
              "      <td>0.000000</td>\n",
              "      <td>0.000000</td>\n",
              "      <td>0.000000</td>\n",
              "      <td>0.000000</td>\n",
              "      <td>0.000000</td>\n",
              "      <td>0.000000</td>\n",
              "      <td>0.000000</td>\n",
              "      <td>0.000000</td>\n",
              "      <td>0.000000</td>\n",
              "      <td>0.250000</td>\n",
              "      <td>0.250000</td>\n",
              "      <td>0.000000</td>\n",
              "      <td>0.000000</td>\n",
              "      <td>0.000000</td>\n",
              "      <td>0.000000</td>\n",
              "      <td>0.000000</td>\n",
              "      <td>3.250000</td>\n",
              "      <td>2.250000</td>\n",
              "      <td>21.750000</td>\n",
              "      <td>0.000000</td>\n",
              "      <td>0.000000</td>\n",
              "      <td>0.000000</td>\n",
              "      <td>22.500000</td>\n",
              "      <td>22.500000</td>\n",
              "      <td>0.500000</td>\n",
              "      <td>22.250000</td>\n",
              "      <td>22.500000</td>\n",
              "      <td>0.500000</td>\n",
              "      <td>0.000000</td>\n",
              "      <td>0.000000</td>\n",
              "      <td>0.000000</td>\n",
              "      <td>0.000000</td>\n",
              "      <td>0.000000</td>\n",
              "      <td>0.000000</td>\n",
              "      <td>0.000000</td>\n",
              "      <td>0.000000</td>\n",
              "      <td>0.000000</td>\n",
              "      <td>0.000000</td>\n",
              "      <td>0.000000</td>\n",
              "      <td>0.000000</td>\n",
              "      <td>1.000000</td>\n",
              "    </tr>\n",
              "    <tr>\n",
              "      <th>75%</th>\n",
              "      <td>1.000000</td>\n",
              "      <td>1.000000</td>\n",
              "      <td>1.000000</td>\n",
              "      <td>1.000000</td>\n",
              "      <td>10.400000</td>\n",
              "      <td>0.000000</td>\n",
              "      <td>0.000000</td>\n",
              "      <td>0.000000</td>\n",
              "      <td>0.000000</td>\n",
              "      <td>0.000000</td>\n",
              "      <td>0.000000</td>\n",
              "      <td>0.000000</td>\n",
              "      <td>0.000000</td>\n",
              "      <td>0.000000</td>\n",
              "      <td>0.000000</td>\n",
              "      <td>0.000000</td>\n",
              "      <td>3.500000</td>\n",
              "      <td>14.750000</td>\n",
              "      <td>0.000000</td>\n",
              "      <td>0.250000</td>\n",
              "      <td>0.000000</td>\n",
              "      <td>0.000000</td>\n",
              "      <td>0.000000</td>\n",
              "      <td>5.500000</td>\n",
              "      <td>3.500000</td>\n",
              "      <td>41.875000</td>\n",
              "      <td>0.250000</td>\n",
              "      <td>0.000000</td>\n",
              "      <td>0.000000</td>\n",
              "      <td>26.750000</td>\n",
              "      <td>26.500000</td>\n",
              "      <td>0.750000</td>\n",
              "      <td>26.500000</td>\n",
              "      <td>26.250000</td>\n",
              "      <td>0.750000</td>\n",
              "      <td>1.000000</td>\n",
              "      <td>0.000000</td>\n",
              "      <td>1.000000</td>\n",
              "      <td>0.000000</td>\n",
              "      <td>0.000000</td>\n",
              "      <td>0.000000</td>\n",
              "      <td>0.000000</td>\n",
              "      <td>0.000000</td>\n",
              "      <td>0.000000</td>\n",
              "      <td>1.000000</td>\n",
              "      <td>0.000000</td>\n",
              "      <td>0.000000</td>\n",
              "      <td>1.000000</td>\n",
              "    </tr>\n",
              "    <tr>\n",
              "      <th>max</th>\n",
              "      <td>1.000000</td>\n",
              "      <td>1.000000</td>\n",
              "      <td>1.000000</td>\n",
              "      <td>1.000000</td>\n",
              "      <td>44.090000</td>\n",
              "      <td>36.000000</td>\n",
              "      <td>52.250000</td>\n",
              "      <td>1.000000</td>\n",
              "      <td>403.000000</td>\n",
              "      <td>5.000000</td>\n",
              "      <td>3.000000</td>\n",
              "      <td>158.300000</td>\n",
              "      <td>7.000000</td>\n",
              "      <td>54.000000</td>\n",
              "      <td>2.000000</td>\n",
              "      <td>1.000000</td>\n",
              "      <td>29.500000</td>\n",
              "      <td>155.000000</td>\n",
              "      <td>2.000000</td>\n",
              "      <td>2.250000</td>\n",
              "      <td>2.000000</td>\n",
              "      <td>2.000000</td>\n",
              "      <td>0.500000</td>\n",
              "      <td>17.000000</td>\n",
              "      <td>15.000000</td>\n",
              "      <td>166.000000</td>\n",
              "      <td>3.000000</td>\n",
              "      <td>2.000000</td>\n",
              "      <td>0.333333</td>\n",
              "      <td>43.750000</td>\n",
              "      <td>43.750000</td>\n",
              "      <td>1.000000</td>\n",
              "      <td>43.750000</td>\n",
              "      <td>43.750000</td>\n",
              "      <td>1.000000</td>\n",
              "      <td>1.000000</td>\n",
              "      <td>1.000000</td>\n",
              "      <td>1.000000</td>\n",
              "      <td>1.000000</td>\n",
              "      <td>1.000000</td>\n",
              "      <td>1.000000</td>\n",
              "      <td>1.000000</td>\n",
              "      <td>1.000000</td>\n",
              "      <td>1.000000</td>\n",
              "      <td>1.000000</td>\n",
              "      <td>1.000000</td>\n",
              "      <td>1.000000</td>\n",
              "      <td>1.000000</td>\n",
              "    </tr>\n",
              "  </tbody>\n",
              "</table>\n",
              "</div>"
            ],
            "text/plain": [
              "               HOME          DOME  ...    TIME_Night     TIME_Noon\n",
              "count  16807.000000  16807.000000  ...  16807.000000  16807.000000\n",
              "mean       0.493723      0.255608  ...      0.197061      0.550604\n",
              "std        0.499975      0.436215  ...      0.397790      0.497447\n",
              "min        0.000000      0.000000  ...      0.000000      0.000000\n",
              "25%        0.000000      0.000000  ...      0.000000      0.000000\n",
              "50%        0.000000      0.000000  ...      0.000000      1.000000\n",
              "75%        1.000000      1.000000  ...      0.000000      1.000000\n",
              "max        1.000000      1.000000  ...      1.000000      1.000000\n",
              "\n",
              "[8 rows x 48 columns]"
            ]
          },
          "metadata": {
            "tags": []
          },
          "execution_count": 27
        }
      ]
    },
    {
      "cell_type": "markdown",
      "metadata": {
        "id": "VSdG6V2-_siU"
      },
      "source": [
        "### Split out Dummy Variables"
      ]
    },
    {
      "cell_type": "code",
      "metadata": {
        "id": "Hi7dcgXc-TeT"
      },
      "source": [
        "dummy_list = ['HOME', 'DOME', 'GRASS', 'SUNDAY', 'POS_RB', 'POS_TE', 'POS_WR', 'SEASON_2016', 'SEASON_2017', 'SEASON_2018', 'SEASON_2019', 'MONTH_January', 'MONTH_November', 'MONTH_October', 'MONTH_September', 'TIME_Night', 'TIME_Noon']"
      ],
      "execution_count": 28,
      "outputs": []
    },
    {
      "cell_type": "code",
      "metadata": {
        "id": "BLUVHmYG-Lri"
      },
      "source": [
        "X_train_dummy = X_train[dummy_list]\r\n",
        "X_test_dummy = X_test[dummy_list]"
      ],
      "execution_count": 29,
      "outputs": []
    },
    {
      "cell_type": "code",
      "metadata": {
        "id": "vPDp36Ie-2Va"
      },
      "source": [
        "X_train = X_train.drop(columns=dummy_list)\r\n",
        "X_test = X_test.drop(columns=dummy_list)"
      ],
      "execution_count": 30,
      "outputs": []
    },
    {
      "cell_type": "markdown",
      "metadata": {
        "id": "RRr_kzVS_zWo"
      },
      "source": [
        "### Scale Continuous Variables"
      ]
    },
    {
      "cell_type": "markdown",
      "metadata": {
        "id": "lSg4twWmRDZK"
      },
      "source": [
        "To standardise our continuous variables, we will use the StandarScaler() method from sklearn.preprocessing"
      ]
    },
    {
      "cell_type": "code",
      "metadata": {
        "id": "J3WDmAoVGbz-"
      },
      "source": [
        "from sklearn.preprocessing import StandardScaler"
      ],
      "execution_count": 31,
      "outputs": []
    },
    {
      "cell_type": "code",
      "metadata": {
        "id": "SQKDT8GJGlVw"
      },
      "source": [
        "scaler = StandardScaler()\r\n",
        "scaler.fit(X_train)\r\n",
        "X_train_scaled = scaler.transform(X_train)\r\n",
        "X_test_scaled = scaler.transform(X_test)"
      ],
      "execution_count": 32,
      "outputs": []
    },
    {
      "cell_type": "code",
      "metadata": {
        "id": "ZZ_4KcCVICHY"
      },
      "source": [
        "X_train_scaled = pd.DataFrame(X_train_scaled, columns=list(X_train.columns))\r\n",
        "#X_train_scaled.head()"
      ],
      "execution_count": 33,
      "outputs": []
    },
    {
      "cell_type": "code",
      "metadata": {
        "id": "hGol3qI4ImZM"
      },
      "source": [
        "X_test_scaled = pd.DataFrame(X_test_scaled, columns=list(X_test.columns))\r\n",
        "#X_test_scaled.head()"
      ],
      "execution_count": 34,
      "outputs": []
    },
    {
      "cell_type": "markdown",
      "metadata": {
        "id": "6mB780KrCJDW"
      },
      "source": [
        "### Merge together Scaled and Dummy Datasets"
      ]
    },
    {
      "cell_type": "code",
      "metadata": {
        "colab": {
          "base_uri": "https://localhost:8080/"
        },
        "id": "VGeEd4whAd0r",
        "outputId": "aa8f9f9a-8467-4d09-ee20-4e312cdc5fc9"
      },
      "source": [
        "print(X_train_scaled.shape)\r\n",
        "print(X_train_dummy.shape)\r\n",
        "print(X_test_scaled.shape)\r\n",
        "print(X_test_dummy.shape)"
      ],
      "execution_count": 35,
      "outputs": [
        {
          "output_type": "stream",
          "text": [
            "(16807, 31)\n",
            "(16807, 17)\n",
            "(5603, 31)\n",
            "(5603, 17)\n"
          ],
          "name": "stdout"
        }
      ]
    },
    {
      "cell_type": "code",
      "metadata": {
        "id": "r3RQC0cM_VLy"
      },
      "source": [
        "X_train = pd.concat([X_train_scaled, X_train_dummy.reset_index().drop(columns='index')], axis=1)\r\n",
        "X_test = pd.concat([X_test_scaled, X_test_dummy.reset_index().drop(columns='index')], axis=1)"
      ],
      "execution_count": 36,
      "outputs": []
    },
    {
      "cell_type": "code",
      "metadata": {
        "id": "dDkbUEDnl6jg"
      },
      "source": [
        "#X_train.describe()\r\n",
        "#X_test.describe()"
      ],
      "execution_count": 37,
      "outputs": []
    },
    {
      "cell_type": "code",
      "metadata": {
        "colab": {
          "base_uri": "https://localhost:8080/"
        },
        "id": "gIhDM6AwB-jX",
        "outputId": "ea769981-688c-4424-b958-3ccc1b50dbf0"
      },
      "source": [
        "print(X_train.shape)\r\n",
        "print(X_test.shape)"
      ],
      "execution_count": 38,
      "outputs": [
        {
          "output_type": "stream",
          "text": [
            "(16807, 48)\n",
            "(5603, 48)\n"
          ],
          "name": "stdout"
        }
      ]
    },
    {
      "cell_type": "markdown",
      "metadata": {
        "id": "421uELJ9MjsV"
      },
      "source": [
        "## Feature Elimination"
      ]
    },
    {
      "cell_type": "markdown",
      "metadata": {
        "id": "suIk1aOKMqI7"
      },
      "source": [
        "We still have 48 columns remaining in our X_train and X_test data to use as explanatory features for our model. This is still quite high and we would like to reduce the number of feature if possible. There are a couple of ways of doing this \r\n",
        "\r\n",
        "\r\n",
        "1. Remove Low Variance Features\r\n",
        "2. Remove Highly Correlated Features\r\n",
        "3. Recursive Feature Elimination\r\n",
        "\r\n",
        "In the below sections, we will look at these various different approaches before deciding on best one for final feature selection.\r\n",
        "\r\n",
        "Finally, I would like to mention a couple of methods that were considered but not included in final version:\r\n",
        "* **Univariate Feature Selection:** Univariate feature selection works by selecting the best features based on univariate statistical tests. However, having applied the low variance threshold technique initially and finding little issue here, I decided that univariate approach was unlikely needed. \r\n",
        "* **Meta-transform Feature Elimination:** SelectFromModel from sklearn could be used along with any estimator that states importance of each feature and remove unimportant features below a certain threshold parameter. However, given our use of the Rescursive Feature Elimination method, there was no need for this model in this instance. \r\n",
        "* **Principal Component Analysis:** During our EDA, we looked at PCA as way to visualise our clustering but could also be used here for dimension reduction. However, applying this apporach removes column names and make the results more difficult to interpret. For this reason, I would prefer not go with this option for now.\r\n"
      ]
    },
    {
      "cell_type": "markdown",
      "metadata": {
        "id": "RmPgCwv6G5bZ"
      },
      "source": [
        "### Low Variance Feature Elimination"
      ]
    },
    {
      "cell_type": "markdown",
      "metadata": {
        "id": "V-bjWVIgHWKw"
      },
      "source": [
        "VarianceThreshold is a simple baseline approach to feature selection. It removes all features whose variance doesn’t meet some threshold. \r\n",
        "\r\n",
        "Below we have applied a threshold of 0.1, which means we are looking for columns where approximately 90% of the values are similar.\r\n",
        "\r\n",
        "When we apply this, one column is removed - 'MONTH_January'."
      ]
    },
    {
      "cell_type": "code",
      "metadata": {
        "colab": {
          "base_uri": "https://localhost:8080/"
        },
        "id": "QYNqPpNbHAD6",
        "outputId": "40cc2d0a-979a-4637-c574-98245e395123"
      },
      "source": [
        "from sklearn.feature_selection import VarianceThreshold\r\n",
        "\r\n",
        "var_thres = VarianceThreshold(threshold=0.1)\r\n",
        "var_thres.fit(X_train)\r\n",
        "\r\n",
        "X_train_varthres = var_thres.transform(X_train)\r\n",
        "X_train_varthres.shape"
      ],
      "execution_count": 39,
      "outputs": [
        {
          "output_type": "execute_result",
          "data": {
            "text/plain": [
              "(16807, 47)"
            ]
          },
          "metadata": {
            "tags": []
          },
          "execution_count": 39
        }
      ]
    },
    {
      "cell_type": "code",
      "metadata": {
        "id": "yj8_85NcI3_5",
        "colab": {
          "base_uri": "https://localhost:8080/",
          "height": 0
        },
        "outputId": "8603e71f-003c-4299-fe9b-dbb06c6d37da"
      },
      "source": [
        "cols = var_thres.get_support(indices=True)\r\n",
        "\r\n",
        "X_varthres_train = X_train.iloc[:,cols]\r\n",
        "X_varthres_test = X_test.iloc[:,cols]\r\n",
        "\r\n",
        "X_varthres_train.head()\r\n",
        "X_varthres_test.head()"
      ],
      "execution_count": 40,
      "outputs": [
        {
          "output_type": "execute_result",
          "data": {
            "text/html": [
              "<div>\n",
              "<style scoped>\n",
              "    .dataframe tbody tr th:only-of-type {\n",
              "        vertical-align: middle;\n",
              "    }\n",
              "\n",
              "    .dataframe tbody tr th {\n",
              "        vertical-align: top;\n",
              "    }\n",
              "\n",
              "    .dataframe thead th {\n",
              "        text-align: right;\n",
              "    }\n",
              "</style>\n",
              "<table border=\"1\" class=\"dataframe\">\n",
              "  <thead>\n",
              "    <tr style=\"text-align: right;\">\n",
              "      <th></th>\n",
              "      <th>FAN_AVG</th>\n",
              "      <th>PASSCOMP_AVG</th>\n",
              "      <th>PASSATT_AVG</th>\n",
              "      <th>PASSCOMP%_AVG</th>\n",
              "      <th>PASSYDS_AVG</th>\n",
              "      <th>PASSTD_AVG</th>\n",
              "      <th>INT_AVG</th>\n",
              "      <th>QBRAT_AVG</th>\n",
              "      <th>SACK_AVG</th>\n",
              "      <th>SACKYDS_AVG</th>\n",
              "      <th>PASSYDS_300_AVG</th>\n",
              "      <th>PASSYDS_400_AVG</th>\n",
              "      <th>RUSHATT_AVG</th>\n",
              "      <th>RUSHYDS_AVG</th>\n",
              "      <th>RUSHTD_AVG</th>\n",
              "      <th>FUM_AVG</th>\n",
              "      <th>FUMLST_AVG</th>\n",
              "      <th>RUSHYDS_100_AVG</th>\n",
              "      <th>RUSHYDS_200_AVG</th>\n",
              "      <th>TGTS_AVG</th>\n",
              "      <th>REC_AVG</th>\n",
              "      <th>RECYDS_AVG</th>\n",
              "      <th>RECTD_AVG</th>\n",
              "      <th>RECYDS_100_AVG</th>\n",
              "      <th>RECYDS_200_AVG</th>\n",
              "      <th>PTS_FOR_AVG</th>\n",
              "      <th>PTS_AGT_AVG</th>\n",
              "      <th>WIN/TIE_AVG</th>\n",
              "      <th>OPP_PTS_FOR_AVG</th>\n",
              "      <th>OPP_PTS_AGT_AVG</th>\n",
              "      <th>OPP_WIN/TIE_AVG</th>\n",
              "      <th>HOME</th>\n",
              "      <th>DOME</th>\n",
              "      <th>GRASS</th>\n",
              "      <th>SUNDAY</th>\n",
              "      <th>POS_RB</th>\n",
              "      <th>POS_TE</th>\n",
              "      <th>POS_WR</th>\n",
              "      <th>SEASON_2016</th>\n",
              "      <th>SEASON_2017</th>\n",
              "      <th>SEASON_2018</th>\n",
              "      <th>SEASON_2019</th>\n",
              "      <th>MONTH_November</th>\n",
              "      <th>MONTH_October</th>\n",
              "      <th>MONTH_September</th>\n",
              "      <th>TIME_Night</th>\n",
              "      <th>TIME_Noon</th>\n",
              "    </tr>\n",
              "  </thead>\n",
              "  <tbody>\n",
              "    <tr>\n",
              "      <th>0</th>\n",
              "      <td>0.357440</td>\n",
              "      <td>-0.358458</td>\n",
              "      <td>-0.361006</td>\n",
              "      <td>-0.382481</td>\n",
              "      <td>-0.357135</td>\n",
              "      <td>-0.329099</td>\n",
              "      <td>-0.305386</td>\n",
              "      <td>-0.379789</td>\n",
              "      <td>-0.331820</td>\n",
              "      <td>-0.325039</td>\n",
              "      <td>-0.241955</td>\n",
              "      <td>-0.101595</td>\n",
              "      <td>-0.535281</td>\n",
              "      <td>-0.476888</td>\n",
              "      <td>-0.405805</td>\n",
              "      <td>-0.491110</td>\n",
              "      <td>-0.404848</td>\n",
              "      <td>-0.230979</td>\n",
              "      <td>-0.041174</td>\n",
              "      <td>0.297482</td>\n",
              "      <td>0.555995</td>\n",
              "      <td>0.897024</td>\n",
              "      <td>2.200639</td>\n",
              "      <td>-0.338591</td>\n",
              "      <td>-0.057243</td>\n",
              "      <td>-0.630788</td>\n",
              "      <td>0.374115</td>\n",
              "      <td>-1.757661</td>\n",
              "      <td>0.687792</td>\n",
              "      <td>1.423404</td>\n",
              "      <td>-0.877560</td>\n",
              "      <td>1</td>\n",
              "      <td>0</td>\n",
              "      <td>1</td>\n",
              "      <td>1</td>\n",
              "      <td>0</td>\n",
              "      <td>0</td>\n",
              "      <td>1</td>\n",
              "      <td>0</td>\n",
              "      <td>0</td>\n",
              "      <td>0</td>\n",
              "      <td>1</td>\n",
              "      <td>1</td>\n",
              "      <td>0</td>\n",
              "      <td>0</td>\n",
              "      <td>0</td>\n",
              "      <td>1</td>\n",
              "    </tr>\n",
              "    <tr>\n",
              "      <th>1</th>\n",
              "      <td>-0.198177</td>\n",
              "      <td>-0.213551</td>\n",
              "      <td>-0.245204</td>\n",
              "      <td>1.418242</td>\n",
              "      <td>-0.246324</td>\n",
              "      <td>-0.329099</td>\n",
              "      <td>0.532639</td>\n",
              "      <td>0.673749</td>\n",
              "      <td>-0.331820</td>\n",
              "      <td>-0.325039</td>\n",
              "      <td>-0.241955</td>\n",
              "      <td>-0.101595</td>\n",
              "      <td>1.182718</td>\n",
              "      <td>0.202125</td>\n",
              "      <td>0.737337</td>\n",
              "      <td>0.548099</td>\n",
              "      <td>1.391899</td>\n",
              "      <td>-0.230979</td>\n",
              "      <td>-0.041174</td>\n",
              "      <td>1.498637</td>\n",
              "      <td>2.258325</td>\n",
              "      <td>0.397242</td>\n",
              "      <td>-0.665911</td>\n",
              "      <td>-0.338591</td>\n",
              "      <td>-0.057243</td>\n",
              "      <td>0.123134</td>\n",
              "      <td>-1.095078</td>\n",
              "      <td>1.731263</td>\n",
              "      <td>-0.490048</td>\n",
              "      <td>0.371724</td>\n",
              "      <td>-0.877560</td>\n",
              "      <td>0</td>\n",
              "      <td>0</td>\n",
              "      <td>1</td>\n",
              "      <td>0</td>\n",
              "      <td>1</td>\n",
              "      <td>0</td>\n",
              "      <td>0</td>\n",
              "      <td>0</td>\n",
              "      <td>0</td>\n",
              "      <td>0</td>\n",
              "      <td>1</td>\n",
              "      <td>1</td>\n",
              "      <td>0</td>\n",
              "      <td>0</td>\n",
              "      <td>1</td>\n",
              "      <td>0</td>\n",
              "    </tr>\n",
              "    <tr>\n",
              "      <th>2</th>\n",
              "      <td>-0.555069</td>\n",
              "      <td>-0.358458</td>\n",
              "      <td>-0.361006</td>\n",
              "      <td>-0.382481</td>\n",
              "      <td>-0.357135</td>\n",
              "      <td>-0.329099</td>\n",
              "      <td>-0.305386</td>\n",
              "      <td>-0.379789</td>\n",
              "      <td>-0.331820</td>\n",
              "      <td>-0.325039</td>\n",
              "      <td>-0.241955</td>\n",
              "      <td>-0.101595</td>\n",
              "      <td>0.424777</td>\n",
              "      <td>0.292660</td>\n",
              "      <td>0.737337</td>\n",
              "      <td>-0.491110</td>\n",
              "      <td>-0.404848</td>\n",
              "      <td>-0.230979</td>\n",
              "      <td>-0.041174</td>\n",
              "      <td>-0.817876</td>\n",
              "      <td>-0.884438</td>\n",
              "      <td>-0.798317</td>\n",
              "      <td>-0.665911</td>\n",
              "      <td>-0.338591</td>\n",
              "      <td>-0.057243</td>\n",
              "      <td>0.709518</td>\n",
              "      <td>0.511852</td>\n",
              "      <td>-0.013199</td>\n",
              "      <td>0.519529</td>\n",
              "      <td>-0.588505</td>\n",
              "      <td>-0.006958</td>\n",
              "      <td>0</td>\n",
              "      <td>0</td>\n",
              "      <td>0</td>\n",
              "      <td>0</td>\n",
              "      <td>1</td>\n",
              "      <td>0</td>\n",
              "      <td>0</td>\n",
              "      <td>0</td>\n",
              "      <td>0</td>\n",
              "      <td>1</td>\n",
              "      <td>0</td>\n",
              "      <td>1</td>\n",
              "      <td>0</td>\n",
              "      <td>0</td>\n",
              "      <td>1</td>\n",
              "      <td>0</td>\n",
              "    </tr>\n",
              "    <tr>\n",
              "      <th>3</th>\n",
              "      <td>-0.895739</td>\n",
              "      <td>-0.358458</td>\n",
              "      <td>-0.361006</td>\n",
              "      <td>-0.382481</td>\n",
              "      <td>-0.357135</td>\n",
              "      <td>-0.329099</td>\n",
              "      <td>-0.305386</td>\n",
              "      <td>-0.379789</td>\n",
              "      <td>-0.331820</td>\n",
              "      <td>-0.325039</td>\n",
              "      <td>-0.241955</td>\n",
              "      <td>-0.101595</td>\n",
              "      <td>-0.333164</td>\n",
              "      <td>0.236076</td>\n",
              "      <td>-0.405805</td>\n",
              "      <td>-0.491110</td>\n",
              "      <td>-0.404848</td>\n",
              "      <td>-0.230979</td>\n",
              "      <td>-0.041174</td>\n",
              "      <td>-0.989470</td>\n",
              "      <td>-0.884438</td>\n",
              "      <td>-0.984511</td>\n",
              "      <td>-0.665911</td>\n",
              "      <td>-0.338591</td>\n",
              "      <td>-0.057243</td>\n",
              "      <td>-1.468479</td>\n",
              "      <td>0.236378</td>\n",
              "      <td>-0.885430</td>\n",
              "      <td>0.267134</td>\n",
              "      <td>0.828976</td>\n",
              "      <td>-0.877560</td>\n",
              "      <td>0</td>\n",
              "      <td>0</td>\n",
              "      <td>0</td>\n",
              "      <td>1</td>\n",
              "      <td>0</td>\n",
              "      <td>0</td>\n",
              "      <td>1</td>\n",
              "      <td>0</td>\n",
              "      <td>0</td>\n",
              "      <td>0</td>\n",
              "      <td>0</td>\n",
              "      <td>0</td>\n",
              "      <td>0</td>\n",
              "      <td>0</td>\n",
              "      <td>0</td>\n",
              "      <td>1</td>\n",
              "    </tr>\n",
              "    <tr>\n",
              "      <th>4</th>\n",
              "      <td>1.069602</td>\n",
              "      <td>4.278553</td>\n",
              "      <td>3.437310</td>\n",
              "      <td>3.365365</td>\n",
              "      <td>2.821567</td>\n",
              "      <td>1.520839</td>\n",
              "      <td>3.046712</td>\n",
              "      <td>2.624127</td>\n",
              "      <td>7.261388</td>\n",
              "      <td>5.658797</td>\n",
              "      <td>-0.241955</td>\n",
              "      <td>-0.101595</td>\n",
              "      <td>1.031130</td>\n",
              "      <td>0.847187</td>\n",
              "      <td>-0.405805</td>\n",
              "      <td>-0.491110</td>\n",
              "      <td>-0.404848</td>\n",
              "      <td>-0.230979</td>\n",
              "      <td>-0.041174</td>\n",
              "      <td>-1.246860</td>\n",
              "      <td>-1.277283</td>\n",
              "      <td>-1.092307</td>\n",
              "      <td>-0.665911</td>\n",
              "      <td>-0.338591</td>\n",
              "      <td>-0.057243</td>\n",
              "      <td>1.379671</td>\n",
              "      <td>2.072870</td>\n",
              "      <td>-1.757661</td>\n",
              "      <td>1.402909</td>\n",
              "      <td>0.051648</td>\n",
              "      <td>1.734245</td>\n",
              "      <td>0</td>\n",
              "      <td>0</td>\n",
              "      <td>1</td>\n",
              "      <td>1</td>\n",
              "      <td>0</td>\n",
              "      <td>0</td>\n",
              "      <td>0</td>\n",
              "      <td>0</td>\n",
              "      <td>0</td>\n",
              "      <td>0</td>\n",
              "      <td>0</td>\n",
              "      <td>0</td>\n",
              "      <td>0</td>\n",
              "      <td>1</td>\n",
              "      <td>1</td>\n",
              "      <td>0</td>\n",
              "    </tr>\n",
              "  </tbody>\n",
              "</table>\n",
              "</div>"
            ],
            "text/plain": [
              "    FAN_AVG  PASSCOMP_AVG  PASSATT_AVG  ...  MONTH_September  TIME_Night  TIME_Noon\n",
              "0  0.357440     -0.358458    -0.361006  ...                0           0          1\n",
              "1 -0.198177     -0.213551    -0.245204  ...                0           1          0\n",
              "2 -0.555069     -0.358458    -0.361006  ...                0           1          0\n",
              "3 -0.895739     -0.358458    -0.361006  ...                0           0          1\n",
              "4  1.069602      4.278553     3.437310  ...                1           1          0\n",
              "\n",
              "[5 rows x 47 columns]"
            ]
          },
          "metadata": {
            "tags": []
          },
          "execution_count": 40
        }
      ]
    },
    {
      "cell_type": "code",
      "metadata": {
        "colab": {
          "base_uri": "https://localhost:8080/"
        },
        "id": "zPguMbsrdfmu",
        "outputId": "54ef379a-fc98-4b7b-a20f-bda6a90c3d8a"
      },
      "source": [
        "print('Features remaining: ', len(X_train.columns[var_thres.get_support()]))\r\n",
        "\r\n",
        "constant_columns = [column for column in X_train.columns\r\n",
        "                    if column not in X_train.columns[var_thres.get_support()]]\r\n",
        "\r\n",
        "print('Features removed: ', len(constant_columns))"
      ],
      "execution_count": 41,
      "outputs": [
        {
          "output_type": "stream",
          "text": [
            "Features remaining:  47\n",
            "Features removed:  1\n"
          ],
          "name": "stdout"
        }
      ]
    },
    {
      "cell_type": "code",
      "metadata": {
        "colab": {
          "base_uri": "https://localhost:8080/"
        },
        "id": "PkfSD2GTeak3",
        "outputId": "aae54cbc-7f30-413f-c682-4c1de1fe0c9a"
      },
      "source": [
        "for column in constant_columns:\r\n",
        "    print(column)"
      ],
      "execution_count": 42,
      "outputs": [
        {
          "output_type": "stream",
          "text": [
            "MONTH_January\n"
          ],
          "name": "stdout"
        }
      ]
    },
    {
      "cell_type": "code",
      "metadata": {
        "colab": {
          "base_uri": "https://localhost:8080/"
        },
        "id": "BIt0suY3mjnq",
        "outputId": "99057b2b-a2d8-40c9-c40d-67a2753d2e34"
      },
      "source": [
        "print('Features remaining: ', len(X_test.columns[var_thres.get_support()]))\r\n",
        "\r\n",
        "constant_columns = [column for column in X_test.columns\r\n",
        "                    if column not in X_test.columns[var_thres.get_support()]]\r\n",
        "\r\n",
        "print('Features removed: ', len(constant_columns))"
      ],
      "execution_count": 43,
      "outputs": [
        {
          "output_type": "stream",
          "text": [
            "Features remaining:  47\n",
            "Features removed:  1\n"
          ],
          "name": "stdout"
        }
      ]
    },
    {
      "cell_type": "code",
      "metadata": {
        "colab": {
          "base_uri": "https://localhost:8080/"
        },
        "id": "Wx5jojaJmzdk",
        "outputId": "27f91dd6-fd9e-4910-957a-93a20eaf572a"
      },
      "source": [
        "for column in constant_columns:\r\n",
        "    print(column)"
      ],
      "execution_count": 44,
      "outputs": [
        {
          "output_type": "stream",
          "text": [
            "MONTH_January\n"
          ],
          "name": "stdout"
        }
      ]
    },
    {
      "cell_type": "code",
      "metadata": {
        "id": "O8OpY2o8gQt3"
      },
      "source": [
        "X_train = X_varthres_train\r\n",
        "X_test = X_varthres_test"
      ],
      "execution_count": 45,
      "outputs": []
    },
    {
      "cell_type": "markdown",
      "metadata": {
        "id": "K136BYhWKMwV"
      },
      "source": [
        "### Covariance Feature Selection"
      ]
    },
    {
      "cell_type": "markdown",
      "metadata": {
        "id": "X5KHYL0y8X_g"
      },
      "source": [
        "Next we will check the dataset to see if it contain correlated features. Two or more than two features are correlated if they are close to each other in the linear space.\r\n",
        "\r\n",
        "Correlation between the output observations and the input features is very important and such features should be retained. However, if two or more than two features are mutually correlated, they convey redundant information to the model and hence only one of the correlated features should be retained to reduce the number of features.\r\n",
        "\r\n",
        "https://stackabuse.com/applying-filter-methods-in-python-for-feature-selection/ \r\n",
        "\r\n",
        "Below we look to identify which variables have a correlation (or pearson coefficient) greater than 0.8 and look to drop these columns. This reduces the dataset by 11 features to 36."
      ]
    },
    {
      "cell_type": "code",
      "metadata": {
        "id": "64bW20Gcit8q"
      },
      "source": [
        "#X_train.head()"
      ],
      "execution_count": 46,
      "outputs": []
    },
    {
      "cell_type": "code",
      "metadata": {
        "id": "I9uXEFFtRnFO"
      },
      "source": [
        "# Create correlation matrix\r\n",
        "corr_matrix = X_train.corr().abs()\r\n",
        "\r\n",
        "# Select upper triangle of correlation matrix\r\n",
        "upper = corr_matrix.where(np.triu(np.ones(corr_matrix.shape), k=1).astype(np.bool))\r\n",
        "\r\n",
        "# Find index of feature columns with correlation greater than 0.8\r\n",
        "to_drop = [column for column in upper.columns if any(upper[column] > 0.8)]"
      ],
      "execution_count": 47,
      "outputs": []
    },
    {
      "cell_type": "code",
      "metadata": {
        "colab": {
          "base_uri": "https://localhost:8080/",
          "height": 0
        },
        "id": "uI0EnQrmSLEg",
        "outputId": "676cd9e8-9a6d-4f76-c2a4-9c40e3ca60d4"
      },
      "source": [
        "_ = plt.figure(figsize=(14, 12))\r\n",
        "_ = sns.heatmap(corr_matrix, linewidth=.1, cmap='summer', annot=False)\r\n",
        "\r\n",
        "plt.show()"
      ],
      "execution_count": 48,
      "outputs": [
        {
          "output_type": "display_data",
          "data": {
            "image/png": "[encoded data removed]",
            "text/plain": [
              "<Figure size 1008x864 with 2 Axes>"
            ]
          },
          "metadata": {
            "tags": [],
            "needs_background": "light"
          }
        }
      ]
    },
    {
      "cell_type": "code",
      "metadata": {
        "colab": {
          "base_uri": "https://localhost:8080/"
        },
        "id": "a_rTCwelR0Vs",
        "outputId": "9162e1ad-7245-44df-de06-e3a824d07f45"
      },
      "source": [
        "to_drop"
      ],
      "execution_count": 49,
      "outputs": [
        {
          "output_type": "execute_result",
          "data": {
            "text/plain": [
              "['PASSATT_AVG',\n",
              " 'PASSCOMP%_AVG',\n",
              " 'PASSYDS_AVG',\n",
              " 'PASSTD_AVG',\n",
              " 'INT_AVG',\n",
              " 'QBRAT_AVG',\n",
              " 'SACK_AVG',\n",
              " 'SACKYDS_AVG',\n",
              " 'RUSHYDS_AVG',\n",
              " 'REC_AVG',\n",
              " 'RECYDS_AVG']"
            ]
          },
          "metadata": {
            "tags": []
          },
          "execution_count": 49
        }
      ]
    },
    {
      "cell_type": "code",
      "metadata": {
        "id": "I_3hI3FHmorO"
      },
      "source": [
        "X_train = X_train.drop(columns=to_drop)\r\n",
        "X_test = X_test.drop(columns=to_drop)"
      ],
      "execution_count": 50,
      "outputs": []
    },
    {
      "cell_type": "code",
      "metadata": {
        "colab": {
          "base_uri": "https://localhost:8080/"
        },
        "id": "nCH8nQTg7be7",
        "outputId": "43ea691a-30dd-484a-fd22-1d0954c7eb42"
      },
      "source": [
        "print(X_train.shape)\r\n",
        "print(X_test.shape)"
      ],
      "execution_count": 51,
      "outputs": [
        {
          "output_type": "stream",
          "text": [
            "(16807, 36)\n",
            "(5603, 36)\n"
          ],
          "name": "stdout"
        }
      ]
    },
    {
      "cell_type": "markdown",
      "metadata": {
        "id": "YfcO6D4EpvM6"
      },
      "source": [
        "### Recursive Feature Elimination"
      ]
    },
    {
      "cell_type": "markdown",
      "metadata": {
        "id": "vOn_lVmM8FMd"
      },
      "source": [
        "Feature ranking with recursive feature elimination.\r\n",
        "\r\n",
        "Given an external estimator that assigns weights to features (e.g., the coefficients of a linear model), the goal of recursive feature elimination (RFE) is to select features by recursively considering smaller and smaller sets of features. First, the estimator is trained on the initial set of features and the importance of each feature is obtained either through any specific attribute or callable. Then, the least important features are pruned from current set of features. That procedure is recursively repeated on the pruned set until the desired number of features to select is eventually reached.\r\n",
        "\r\n",
        "https://scikit-learn.org/stable/modules/generated/sklearn.feature_selection.RFE.html#sklearn.feature_selection.RFE \r\n",
        "\r\n",
        "For this approach, I will apply a RFECV (Recursive Feature Elimination with Cross-Validation) model with a SVR estimator using a \"linear\" kernel and reguralisation parameter of 1. We could apply greater cross-validation to the model to ensure we selected the optimal kernel and C levels but with the main aime to reduce features while minimising computing time and effort, I believe the above approach is adequate. \r\n",
        "\r\n",
        "The model identifies 19 features as being optimal number for our modelling."
      ]
    },
    {
      "cell_type": "code",
      "metadata": {
        "colab": {
          "base_uri": "https://localhost:8080/"
        },
        "id": "50pyhc5kwEe2",
        "outputId": "8dcd1653-379a-4f47-fe3b-0b5a99287a6e"
      },
      "source": [
        "from sklearn.feature_selection import RFE\r\n",
        "from sklearn.feature_selection import RFECV\r\n",
        "from sklearn.svm import SVR\r\n",
        "\r\n",
        "estimator = SVR(kernel=\"linear\", C=1, epsilon=0.1, gamma='scale')\r\n",
        "rfecv = RFECV(estimator, step=1, cv=5, n_jobs=-1, scoring='neg_mean_squared_error')\r\n",
        "rfecv.fit(X_train, y_train)"
      ],
      "execution_count": 52,
      "outputs": [
        {
          "output_type": "execute_result",
          "data": {
            "text/plain": [
              "RFECV(cv=5,\n",
              "      estimator=SVR(C=1, cache_size=200, coef0=0.0, degree=3, epsilon=0.1,\n",
              "                    gamma='scale', kernel='linear', max_iter=-1, shrinking=True,\n",
              "                    tol=0.001, verbose=False),\n",
              "      min_features_to_select=1, n_jobs=-1, scoring='neg_mean_squared_error',\n",
              "      step=1, verbose=0)"
            ]
          },
          "metadata": {
            "tags": []
          },
          "execution_count": 52
        }
      ]
    },
    {
      "cell_type": "code",
      "metadata": {
        "id": "vPusvv4aevsa"
      },
      "source": [
        "cols = rfecv.get_support(indices=True)\r\n",
        "\r\n",
        "X_rfecv_train = X_train.iloc[:,cols]\r\n",
        "X_rfecv_test = X_test.iloc[:,cols]\r\n",
        "\r\n",
        "#X_rfecv_train.head()\r\n",
        "#X_rfecv_test.head()\r\n",
        "\r\n",
        "#X_rfecv_train.columns"
      ],
      "execution_count": 53,
      "outputs": []
    },
    {
      "cell_type": "code",
      "metadata": {
        "colab": {
          "base_uri": "https://localhost:8080/"
        },
        "id": "fZnind3xy066",
        "outputId": "884d742d-0f55-4333-8f03-19d4d61761e7"
      },
      "source": [
        "print(X_rfecv_train.shape)\r\n",
        "print(X_rfecv_test.shape)"
      ],
      "execution_count": 54,
      "outputs": [
        {
          "output_type": "stream",
          "text": [
            "(16807, 19)\n",
            "(5603, 19)\n"
          ],
          "name": "stdout"
        }
      ]
    },
    {
      "cell_type": "code",
      "metadata": {
        "colab": {
          "base_uri": "https://localhost:8080/",
          "height": 0
        },
        "id": "C8-OCRDojsc8",
        "outputId": "006f2ec7-5483-4b7d-b91c-ee5f623c329b"
      },
      "source": [
        "print(\"Optimal number of features : %d\" % rfecv.n_features_)\r\n",
        "\r\n",
        "plt.figure(figsize=(16, 9))\r\n",
        "plt.title('Recursive Feature Elimination with Cross-Validation', fontsize=18, fontweight='bold', pad=20)\r\n",
        "plt.xlabel('Number of features selected', fontsize=14, labelpad=20)\r\n",
        "plt.ylabel('% Mean Squared Error', fontsize=14, labelpad=20)\r\n",
        "plt.plot(range(1, len(rfecv.grid_scores_) + 1), rfecv.grid_scores_, color='#303F9F', linewidth=3)\r\n",
        "\r\n",
        "plt.show()\r\n",
        "\r\n"
      ],
      "execution_count": 55,
      "outputs": [
        {
          "output_type": "stream",
          "text": [
            "Optimal number of features : 19\n"
          ],
          "name": "stdout"
        },
        {
          "output_type": "display_data",
          "data": {
            "image/png": "[encoded data removed]",
            "text/plain": [
              "<Figure size 1152x648 with 1 Axes>"
            ]
          },
          "metadata": {
            "tags": [],
            "needs_background": "light"
          }
        }
      ]
    },
    {
      "cell_type": "code",
      "metadata": {
        "colab": {
          "base_uri": "https://localhost:8080/",
          "height": 0
        },
        "id": "T0fHH8tE5VAR",
        "outputId": "e9c3cec8-0fdb-45a6-b1bc-9f591eda1132"
      },
      "source": [
        "dset = pd.DataFrame()\r\n",
        "dset['attr'] = X_rfecv_train.columns\r\n",
        "dset['importance'] = np.absolute(rfecv.estimator_.coef_[0])\r\n",
        "\r\n",
        "dset = dset.sort_values(by='importance', ascending=True)\r\n",
        "\r\n",
        "plt.figure(figsize=(16, 14))\r\n",
        "plt.barh(y=dset['attr'], width=dset['importance'], color='#1976D2')\r\n",
        "plt.title('RFECV - Feature Importances', fontsize=20, fontweight='bold', pad=20)\r\n",
        "plt.xlabel('Importance', fontsize=14, labelpad=20)\r\n",
        "plt.show()"
      ],
      "execution_count": 56,
      "outputs": [
        {
          "output_type": "display_data",
          "data": {
            "image/png": "[encoded data removed]",
            "text/plain": [
              "<Figure size 1152x1008 with 1 Axes>"
            ]
          },
          "metadata": {
            "tags": [],
            "needs_background": "light"
          }
        }
      ]
    },
    {
      "cell_type": "code",
      "metadata": {
        "id": "Blw0JZOsipW9"
      },
      "source": [
        "drop_col_rfecv = np.where(rfecv.support_ == False)[0]"
      ],
      "execution_count": 57,
      "outputs": []
    },
    {
      "cell_type": "code",
      "metadata": {
        "colab": {
          "base_uri": "https://localhost:8080/"
        },
        "id": "I51uOBv2jHLs",
        "outputId": "07375f8e-e601-4707-e215-72cf45e10111"
      },
      "source": [
        "print('Dropped columns are: ')\r\n",
        "      \r\n",
        "print(X_train.iloc[:,drop_col_rfecv].columns)"
      ],
      "execution_count": 58,
      "outputs": [
        {
          "output_type": "stream",
          "text": [
            "Dropped columns are: \n",
            "Index(['PASSYDS_400_AVG', 'FUM_AVG', 'RUSHYDS_100_AVG', 'RUSHYDS_200_AVG',\n",
            "       'RECYDS_100_AVG', 'RECYDS_200_AVG', 'PTS_FOR_AVG', 'PTS_AGT_AVG',\n",
            "       'OPP_PTS_FOR_AVG', 'OPP_WIN/TIE_AVG', 'POS_RB', 'SEASON_2016',\n",
            "       'SEASON_2017', 'SEASON_2018', 'SEASON_2019', 'MONTH_November',\n",
            "       'MONTH_October'],\n",
            "      dtype='object')\n"
          ],
          "name": "stdout"
        }
      ]
    },
    {
      "cell_type": "code",
      "metadata": {
        "id": "0_gl0pkdu43U"
      },
      "source": [
        "#rfecv.support_\r\n",
        "#rfecv.ranking_"
      ],
      "execution_count": 59,
      "outputs": []
    },
    {
      "cell_type": "code",
      "metadata": {
        "id": "7oxkR55b5O38"
      },
      "source": [
        "#X_train = rfecv.transform(X_train)\r\n",
        "#X_test = rfecv.transform(X_test)\r\n",
        "#X_train = pd.DataFrame(X_train, columns=X_rfecv_train.columns)\r\n",
        "#X_test = pd.DataFrame(X_test, columns=X_rfecv_test.columns)"
      ],
      "execution_count": 60,
      "outputs": []
    },
    {
      "cell_type": "code",
      "metadata": {
        "id": "Qp6lyRhpzxsa"
      },
      "source": [
        "X_train = X_rfecv_train\r\n",
        "X_test = X_rfecv_test"
      ],
      "execution_count": 61,
      "outputs": []
    },
    {
      "cell_type": "code",
      "metadata": {
        "colab": {
          "base_uri": "https://localhost:8080/"
        },
        "id": "KlHMyESLz9uN",
        "outputId": "ba4382a5-3b5c-40b5-98c0-e0f90690fb64"
      },
      "source": [
        "print(X_train.shape)\r\n",
        "print(X_test.shape)"
      ],
      "execution_count": 62,
      "outputs": [
        {
          "output_type": "stream",
          "text": [
            "(16807, 19)\n",
            "(5603, 19)\n"
          ],
          "name": "stdout"
        }
      ]
    },
    {
      "cell_type": "markdown",
      "metadata": {
        "id": "u24GT_wn0B3C"
      },
      "source": [
        "### Final Features"
      ]
    },
    {
      "cell_type": "code",
      "metadata": {
        "colab": {
          "base_uri": "https://localhost:8080/"
        },
        "id": "idzh-2fszsaw",
        "outputId": "80cc8823-15ce-4927-d89c-4c72b8287fd3"
      },
      "source": [
        "for col in X_train.columns:\r\n",
        "  print(col)"
      ],
      "execution_count": 63,
      "outputs": [
        {
          "output_type": "stream",
          "text": [
            "FAN_AVG\n",
            "PASSCOMP_AVG\n",
            "PASSYDS_300_AVG\n",
            "RUSHATT_AVG\n",
            "RUSHTD_AVG\n",
            "FUMLST_AVG\n",
            "TGTS_AVG\n",
            "RECTD_AVG\n",
            "WIN/TIE_AVG\n",
            "OPP_PTS_AGT_AVG\n",
            "HOME\n",
            "DOME\n",
            "GRASS\n",
            "SUNDAY\n",
            "POS_TE\n",
            "POS_WR\n",
            "MONTH_September\n",
            "TIME_Night\n",
            "TIME_Noon\n"
          ],
          "name": "stdout"
        }
      ]
    },
    {
      "cell_type": "markdown",
      "metadata": {
        "id": "WdnAzmoj1S0b"
      },
      "source": [
        "## Output Files for Modelling"
      ]
    },
    {
      "cell_type": "code",
      "metadata": {
        "id": "lse8YqIqRgHl"
      },
      "source": [
        "#X_train = pd.DataFrame(X_train)\r\n",
        "#X_test = pd.DataFrame(X_test)\r\n",
        "y_train = pd.DataFrame(y_train)\r\n",
        "y_test = pd.DataFrame(y_test)\r\n",
        "\r\n",
        "X_train.to_csv('X_train.csv')\r\n",
        "X_test.to_csv('X_test.csv')\r\n",
        "y_train.to_csv('y_train.csv')\r\n",
        "y_test.to_csv('y_test.csv')\r\n",
        "#X_rfecv_train.to_csv('X_train_df.csv')"
      ],
      "execution_count": 64,
      "outputs": []
    }
  ]
}