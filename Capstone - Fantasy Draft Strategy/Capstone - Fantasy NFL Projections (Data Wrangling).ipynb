{
 "cells": [
  {
   "cell_type": "markdown",
   "metadata": {},
   "source": [
    "# Data Collection"
   ]
  },
  {
   "cell_type": "code",
   "execution_count": 2,
   "metadata": {},
   "outputs": [],
   "source": [
    "import pandas as pd\n",
    "import os"
   ]
  },
  {
   "cell_type": "code",
   "execution_count": 4,
   "metadata": {},
   "outputs": [
    {
     "data": {
      "text/plain": [
       "['.ipynb_checkpoints',\n",
       " 'Capstone - Fantasy NFL Projections (Data Wrangling).ipynb',\n",
       " 'League Station - NFL Player Data 2015-2018.xlsx']"
      ]
     },
     "execution_count": 4,
     "metadata": {},
     "output_type": "execute_result"
    }
   ],
   "source": [
    "os.getcwd()\n",
    "os.listdir()"
   ]
  },
  {
   "cell_type": "code",
   "execution_count": 6,
   "metadata": {},
   "outputs": [
    {
     "data": {
      "text/html": [
       "<div>\n",
       "<style scoped>\n",
       "    .dataframe tbody tr th:only-of-type {\n",
       "        vertical-align: middle;\n",
       "    }\n",
       "\n",
       "    .dataframe tbody tr th {\n",
       "        vertical-align: top;\n",
       "    }\n",
       "\n",
       "    .dataframe thead th {\n",
       "        text-align: right;\n",
       "    }\n",
       "</style>\n",
       "<table border=\"1\" class=\"dataframe\">\n",
       "  <thead>\n",
       "    <tr style=\"text-align: right;\">\n",
       "      <th></th>\n",
       "      <th>POS</th>\n",
       "      <th>PLAYER</th>\n",
       "      <th>FAN PTS</th>\n",
       "      <th>TEAM</th>\n",
       "      <th>HC</th>\n",
       "      <th>OC</th>\n",
       "      <th>DC</th>\n",
       "      <th>H/A</th>\n",
       "      <th>OPP</th>\n",
       "      <th>OPP HC</th>\n",
       "      <th>...</th>\n",
       "      <th>SACKYDS</th>\n",
       "      <th>RUSHATT</th>\n",
       "      <th>RUSHYDS</th>\n",
       "      <th>RUSHTD</th>\n",
       "      <th>TGTS</th>\n",
       "      <th>REC</th>\n",
       "      <th>RECYDS</th>\n",
       "      <th>RECTD</th>\n",
       "      <th>FUM</th>\n",
       "      <th>FUMLST</th>\n",
       "    </tr>\n",
       "  </thead>\n",
       "  <tbody>\n",
       "    <tr>\n",
       "      <th>0</th>\n",
       "      <td>QB</td>\n",
       "      <td>Aaron Rodgers GNB - QB</td>\n",
       "      <td>0.04</td>\n",
       "      <td>Packers</td>\n",
       "      <td>Joe Philbin</td>\n",
       "      <td>Joe Philbin</td>\n",
       "      <td>Mike Pettine</td>\n",
       "      <td>Home</td>\n",
       "      <td>Lions</td>\n",
       "      <td>Matt Patricia</td>\n",
       "      <td>...</td>\n",
       "      <td>12</td>\n",
       "      <td>0</td>\n",
       "      <td>0</td>\n",
       "      <td>0</td>\n",
       "      <td>0</td>\n",
       "      <td>0</td>\n",
       "      <td>0</td>\n",
       "      <td>0</td>\n",
       "      <td>0</td>\n",
       "      <td>0</td>\n",
       "    </tr>\n",
       "    <tr>\n",
       "      <th>1</th>\n",
       "      <td>WR</td>\n",
       "      <td>Adam Humphries TAM - WR</td>\n",
       "      <td>6.60</td>\n",
       "      <td>Buccaneers</td>\n",
       "      <td>Dirk Koetter</td>\n",
       "      <td>Todd Monken</td>\n",
       "      <td>Mark Duffner</td>\n",
       "      <td>Home</td>\n",
       "      <td>Falcons</td>\n",
       "      <td>Dan Quinn</td>\n",
       "      <td>...</td>\n",
       "      <td>0</td>\n",
       "      <td>0</td>\n",
       "      <td>0</td>\n",
       "      <td>0</td>\n",
       "      <td>6</td>\n",
       "      <td>5</td>\n",
       "      <td>66</td>\n",
       "      <td>0</td>\n",
       "      <td>0</td>\n",
       "      <td>0</td>\n",
       "    </tr>\n",
       "    <tr>\n",
       "      <th>2</th>\n",
       "      <td>WR</td>\n",
       "      <td>Adam Thielen MIN - WR</td>\n",
       "      <td>3.70</td>\n",
       "      <td>Vikings</td>\n",
       "      <td>Mike Zimmer</td>\n",
       "      <td>Kevin Stefanski</td>\n",
       "      <td>George Edwards</td>\n",
       "      <td>Home</td>\n",
       "      <td>Bears</td>\n",
       "      <td>Matt Nagy</td>\n",
       "      <td>...</td>\n",
       "      <td>0</td>\n",
       "      <td>1</td>\n",
       "      <td>-1</td>\n",
       "      <td>0</td>\n",
       "      <td>4</td>\n",
       "      <td>3</td>\n",
       "      <td>38</td>\n",
       "      <td>0</td>\n",
       "      <td>0</td>\n",
       "      <td>0</td>\n",
       "    </tr>\n",
       "    <tr>\n",
       "      <th>3</th>\n",
       "      <td>RB</td>\n",
       "      <td>Adrian Peterson WAS - RB</td>\n",
       "      <td>0.00</td>\n",
       "      <td>Redskins</td>\n",
       "      <td>Jay Gruden</td>\n",
       "      <td>Matt Cavanaugh</td>\n",
       "      <td>Greg Manusky</td>\n",
       "      <td>Home</td>\n",
       "      <td>Eagles</td>\n",
       "      <td>Doug Pederson</td>\n",
       "      <td>...</td>\n",
       "      <td>0</td>\n",
       "      <td>4</td>\n",
       "      <td>0</td>\n",
       "      <td>0</td>\n",
       "      <td>0</td>\n",
       "      <td>0</td>\n",
       "      <td>0</td>\n",
       "      <td>0</td>\n",
       "      <td>0</td>\n",
       "      <td>0</td>\n",
       "    </tr>\n",
       "    <tr>\n",
       "      <th>4</th>\n",
       "      <td>FB</td>\n",
       "      <td>Alex Armah CAR - FB</td>\n",
       "      <td>0.60</td>\n",
       "      <td>Panthers</td>\n",
       "      <td>Ron Rivera</td>\n",
       "      <td>Norv Turner</td>\n",
       "      <td>Eric Washington</td>\n",
       "      <td>Away</td>\n",
       "      <td>Saints</td>\n",
       "      <td>Sean Payton</td>\n",
       "      <td>...</td>\n",
       "      <td>0</td>\n",
       "      <td>1</td>\n",
       "      <td>1</td>\n",
       "      <td>0</td>\n",
       "      <td>1</td>\n",
       "      <td>1</td>\n",
       "      <td>5</td>\n",
       "      <td>0</td>\n",
       "      <td>0</td>\n",
       "      <td>0</td>\n",
       "    </tr>\n",
       "  </tbody>\n",
       "</table>\n",
       "<p>5 rows × 40 columns</p>\n",
       "</div>"
      ],
      "text/plain": [
       "  POS                    PLAYER  FAN PTS        TEAM            HC  \\\n",
       "0  QB    Aaron Rodgers GNB - QB     0.04     Packers   Joe Philbin   \n",
       "1  WR   Adam Humphries TAM - WR     6.60  Buccaneers  Dirk Koetter   \n",
       "2  WR     Adam Thielen MIN - WR     3.70     Vikings   Mike Zimmer   \n",
       "3  RB  Adrian Peterson WAS - RB     0.00    Redskins    Jay Gruden   \n",
       "4  FB       Alex Armah CAR - FB     0.60    Panthers    Ron Rivera   \n",
       "\n",
       "                OC               DC   H/A      OPP         OPP HC  ...  \\\n",
       "0      Joe Philbin     Mike Pettine  Home    Lions  Matt Patricia  ...   \n",
       "1      Todd Monken     Mark Duffner  Home  Falcons      Dan Quinn  ...   \n",
       "2  Kevin Stefanski   George Edwards  Home    Bears      Matt Nagy  ...   \n",
       "3   Matt Cavanaugh     Greg Manusky  Home   Eagles  Doug Pederson  ...   \n",
       "4      Norv Turner  Eric Washington  Away   Saints    Sean Payton  ...   \n",
       "\n",
       "  SACKYDS RUSHATT RUSHYDS  RUSHTD TGTS REC RECYDS RECTD FUM FUMLST  \n",
       "0      12       0       0       0    0   0      0     0   0      0  \n",
       "1       0       0       0       0    6   5     66     0   0      0  \n",
       "2       0       1      -1       0    4   3     38     0   0      0  \n",
       "3       0       4       0       0    0   0      0     0   0      0  \n",
       "4       0       1       1       0    1   1      5     0   0      0  \n",
       "\n",
       "[5 rows x 40 columns]"
      ]
     },
     "execution_count": 6,
     "metadata": {},
     "output_type": "execute_result"
    }
   ],
   "source": [
    "path = 'League Station - NFL Player Data 2015-2018.xlsx'\n",
    "df1 = pd.read_excel(path, 'Data')\n",
    "df1.head()"
   ]
  },
  {
   "cell_type": "markdown",
   "metadata": {},
   "source": [
    "# Data Organisation"
   ]
  },
  {
   "cell_type": "markdown",
   "metadata": {},
   "source": [
    "# Data Definition"
   ]
  },
  {
   "cell_type": "markdown",
   "metadata": {},
   "source": [
    "# Data Cleaning"
   ]
  }
 ],
 "metadata": {
  "kernelspec": {
   "display_name": "Python 3",
   "language": "python",
   "name": "python3"
  },
  "language_info": {
   "codemirror_mode": {
    "name": "ipython",
    "version": 3
   },
   "file_extension": ".py",
   "mimetype": "text/x-python",
   "name": "python",
   "nbconvert_exporter": "python",
   "pygments_lexer": "ipython3",
   "version": "3.7.6"
  }
 },
 "nbformat": 4,
 "nbformat_minor": 4
}
