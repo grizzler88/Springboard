{
 "cells": [
  {
   "cell_type": "markdown",
   "metadata": {},
   "source": [
    "# Data Collection"
   ]
  },
  {
   "cell_type": "code",
   "execution_count": 1,
   "metadata": {},
   "outputs": [],
   "source": [
    "import pandas as pd\n",
    "import os\n",
    "import datetime\n",
    "import matplotlib.pyplot as plt\n",
    "import numpy as np"
   ]
  },
  {
   "cell_type": "code",
   "execution_count": 2,
   "metadata": {},
   "outputs": [
    {
     "data": {
      "text/plain": [
       "'C:\\\\Users\\\\Admin\\\\Dropbox\\\\Rory\\\\01 - Development\\\\Data Science\\\\Springboard\\\\Career Track\\\\Capstone Projects\\\\Fantasy NFL\\\\01 Data Wrangling'"
      ]
     },
     "execution_count": 2,
     "metadata": {},
     "output_type": "execute_result"
    }
   ],
   "source": [
    "os.getcwd()\n",
    "#os.listdir()"
   ]
  },
  {
   "cell_type": "code",
   "execution_count": 3,
   "metadata": {},
   "outputs": [],
   "source": [
    "path = 'League Station - NFL Player Data 2015-2018.xlsx'\n",
    "df1 = pd.read_excel(path, 'Data')\n",
    "#df1.head()"
   ]
  },
  {
   "cell_type": "code",
   "execution_count": 4,
   "metadata": {},
   "outputs": [
    {
     "data": {
      "text/plain": [
       "(19004, 40)"
      ]
     },
     "execution_count": 4,
     "metadata": {},
     "output_type": "execute_result"
    }
   ],
   "source": [
    "df1.shape"
   ]
  },
  {
   "cell_type": "code",
   "execution_count": 5,
   "metadata": {},
   "outputs": [],
   "source": [
    "path2 = 'League Station - NFL Player Data 2019.xlsx'\n",
    "df2 = pd.read_excel(path2, 'Data')\n",
    "#df2.tail()"
   ]
  },
  {
   "cell_type": "code",
   "execution_count": 6,
   "metadata": {},
   "outputs": [
    {
     "data": {
      "text/plain": [
       "(4711, 40)"
      ]
     },
     "execution_count": 6,
     "metadata": {},
     "output_type": "execute_result"
    }
   ],
   "source": [
    "df2.shape"
   ]
  },
  {
   "cell_type": "markdown",
   "metadata": {},
   "source": [
    "### Appending Data Frames"
   ]
  },
  {
   "cell_type": "code",
   "execution_count": 7,
   "metadata": {},
   "outputs": [],
   "source": [
    "df = df1.append(df2)"
   ]
  },
  {
   "cell_type": "code",
   "execution_count": 8,
   "metadata": {},
   "outputs": [
    {
     "data": {
      "text/plain": [
       "(23715, 40)"
      ]
     },
     "execution_count": 8,
     "metadata": {},
     "output_type": "execute_result"
    }
   ],
   "source": [
    "df.shape"
   ]
  },
  {
   "cell_type": "markdown",
   "metadata": {},
   "source": [
    "### Column Matching\n",
    "\n",
    "Running for loop to see if all columns in df1 match with columns in df2."
   ]
  },
  {
   "cell_type": "code",
   "execution_count": 9,
   "metadata": {},
   "outputs": [],
   "source": [
    "df1_cols = list(df1.columns)\n",
    "df2_cols = list(df2.columns)\n",
    "\n",
    "# Checking to see if all column names match\n",
    "i = 0\n",
    "for col in df1_cols:\n",
    "    if col == df2_cols[i]:\n",
    "        i = i + 1\n",
    "        continue\n",
    "    else:\n",
    "        print(str(i) + ' is a mismatch')\n",
    "        i = i + 1"
   ]
  },
  {
   "cell_type": "markdown",
   "metadata": {},
   "source": [
    "# Data Organisation"
   ]
  },
  {
   "cell_type": "markdown",
   "metadata": {},
   "source": [
    "Added library to GitHub to save resources - https://github.com/grizzler88/Springboard/tree/master/Capstone%20-%20Fantasy%20Draft%20Strategy \n",
    "\n",
    "\n",
    "##### Question\n",
    "Does it makes more sense to link directly to GitHub for data and updating Juypter file or continue to progress on local environment?"
   ]
  },
  {
   "cell_type": "markdown",
   "metadata": {},
   "source": [
    "# Data Definition"
   ]
  },
  {
   "cell_type": "code",
   "execution_count": 10,
   "metadata": {},
   "outputs": [],
   "source": [
    "#df.info()"
   ]
  },
  {
   "cell_type": "markdown",
   "metadata": {},
   "source": [
    "Reviewing data types shows that 'SEASON' is a 'int' data type although we will be using it as categorical variable. \n",
    "\n",
    "Below is to convert this column into a string value."
   ]
  },
  {
   "cell_type": "code",
   "execution_count": 11,
   "metadata": {},
   "outputs": [],
   "source": [
    "df['SEASON'] = df['SEASON'].astype(str)"
   ]
  },
  {
   "cell_type": "markdown",
   "metadata": {},
   "source": [
    "#### Question\n",
    "\n",
    "Should you change numeric data types to be all either float or int? Quick scan says this should not be an issue and to leave values in 'int' if at possible from performance point of view - is this correct?"
   ]
  },
  {
   "cell_type": "code",
   "execution_count": 12,
   "metadata": {},
   "outputs": [],
   "source": [
    "#df.dtypes"
   ]
  },
  {
   "cell_type": "markdown",
   "metadata": {},
   "source": [
    "# Data Cleaning"
   ]
  },
  {
   "cell_type": "code",
   "execution_count": 13,
   "metadata": {},
   "outputs": [
    {
     "data": {
      "text/html": [
       "<div>\n",
       "<style scoped>\n",
       "    .dataframe tbody tr th:only-of-type {\n",
       "        vertical-align: middle;\n",
       "    }\n",
       "\n",
       "    .dataframe tbody tr th {\n",
       "        vertical-align: top;\n",
       "    }\n",
       "\n",
       "    .dataframe thead th {\n",
       "        text-align: right;\n",
       "    }\n",
       "</style>\n",
       "<table border=\"1\" class=\"dataframe\">\n",
       "  <thead>\n",
       "    <tr style=\"text-align: right;\">\n",
       "      <th></th>\n",
       "      <th>FAN PTS</th>\n",
       "      <th>PASSCOMP</th>\n",
       "      <th>PASSATT</th>\n",
       "      <th>PASSCOMP%</th>\n",
       "      <th>PASSYDS</th>\n",
       "      <th>PASSTD</th>\n",
       "      <th>INT</th>\n",
       "      <th>QBRAT</th>\n",
       "      <th>SACK</th>\n",
       "      <th>SACKYDS</th>\n",
       "      <th>RUSHATT</th>\n",
       "      <th>RUSHYDS</th>\n",
       "      <th>RUSHTD</th>\n",
       "      <th>TGTS</th>\n",
       "      <th>REC</th>\n",
       "      <th>RECYDS</th>\n",
       "      <th>RECTD</th>\n",
       "      <th>FUM</th>\n",
       "      <th>FUMLST</th>\n",
       "    </tr>\n",
       "  </thead>\n",
       "  <tbody>\n",
       "    <tr>\n",
       "      <th>count</th>\n",
       "      <td>23715.000000</td>\n",
       "      <td>23715.000000</td>\n",
       "      <td>23715.000000</td>\n",
       "      <td>23715.000000</td>\n",
       "      <td>23715.000000</td>\n",
       "      <td>23715.000000</td>\n",
       "      <td>23715.000000</td>\n",
       "      <td>23715.000000</td>\n",
       "      <td>23715.00000</td>\n",
       "      <td>23715.000000</td>\n",
       "      <td>23715.000000</td>\n",
       "      <td>23715.000000</td>\n",
       "      <td>23715.000000</td>\n",
       "      <td>23715.000000</td>\n",
       "      <td>23715.000000</td>\n",
       "      <td>23715.000000</td>\n",
       "      <td>23715.000000</td>\n",
       "      <td>23715.000000</td>\n",
       "      <td>23715.000000</td>\n",
       "    </tr>\n",
       "    <tr>\n",
       "      <th>mean</th>\n",
       "      <td>7.019907</td>\n",
       "      <td>2.391061</td>\n",
       "      <td>3.778705</td>\n",
       "      <td>0.079401</td>\n",
       "      <td>27.215475</td>\n",
       "      <td>0.169218</td>\n",
       "      <td>0.088973</td>\n",
       "      <td>11.286629</td>\n",
       "      <td>0.25486</td>\n",
       "      <td>1.685009</td>\n",
       "      <td>2.834662</td>\n",
       "      <td>11.977820</td>\n",
       "      <td>0.087455</td>\n",
       "      <td>3.561923</td>\n",
       "      <td>2.390217</td>\n",
       "      <td>27.211933</td>\n",
       "      <td>0.169218</td>\n",
       "      <td>0.115370</td>\n",
       "      <td>0.055113</td>\n",
       "    </tr>\n",
       "    <tr>\n",
       "      <th>std</th>\n",
       "      <td>7.459098</td>\n",
       "      <td>7.033341</td>\n",
       "      <td>10.999139</td>\n",
       "      <td>0.217173</td>\n",
       "      <td>80.797312</td>\n",
       "      <td>0.615230</td>\n",
       "      <td>0.397251</td>\n",
       "      <td>31.379713</td>\n",
       "      <td>0.91102</td>\n",
       "      <td>6.313321</td>\n",
       "      <td>5.317517</td>\n",
       "      <td>25.532093</td>\n",
       "      <td>0.333443</td>\n",
       "      <td>3.411787</td>\n",
       "      <td>2.327447</td>\n",
       "      <td>32.063177</td>\n",
       "      <td>0.425822</td>\n",
       "      <td>0.376323</td>\n",
       "      <td>0.242538</td>\n",
       "    </tr>\n",
       "    <tr>\n",
       "      <th>min</th>\n",
       "      <td>-10.200000</td>\n",
       "      <td>0.000000</td>\n",
       "      <td>0.000000</td>\n",
       "      <td>0.000000</td>\n",
       "      <td>-4.000000</td>\n",
       "      <td>0.000000</td>\n",
       "      <td>0.000000</td>\n",
       "      <td>0.000000</td>\n",
       "      <td>0.00000</td>\n",
       "      <td>0.000000</td>\n",
       "      <td>0.000000</td>\n",
       "      <td>-23.000000</td>\n",
       "      <td>0.000000</td>\n",
       "      <td>0.000000</td>\n",
       "      <td>0.000000</td>\n",
       "      <td>-16.000000</td>\n",
       "      <td>0.000000</td>\n",
       "      <td>0.000000</td>\n",
       "      <td>0.000000</td>\n",
       "    </tr>\n",
       "    <tr>\n",
       "      <th>25%</th>\n",
       "      <td>1.500000</td>\n",
       "      <td>0.000000</td>\n",
       "      <td>0.000000</td>\n",
       "      <td>0.000000</td>\n",
       "      <td>0.000000</td>\n",
       "      <td>0.000000</td>\n",
       "      <td>0.000000</td>\n",
       "      <td>0.000000</td>\n",
       "      <td>0.00000</td>\n",
       "      <td>0.000000</td>\n",
       "      <td>0.000000</td>\n",
       "      <td>0.000000</td>\n",
       "      <td>0.000000</td>\n",
       "      <td>1.000000</td>\n",
       "      <td>1.000000</td>\n",
       "      <td>2.000000</td>\n",
       "      <td>0.000000</td>\n",
       "      <td>0.000000</td>\n",
       "      <td>0.000000</td>\n",
       "    </tr>\n",
       "    <tr>\n",
       "      <th>50%</th>\n",
       "      <td>4.400000</td>\n",
       "      <td>0.000000</td>\n",
       "      <td>0.000000</td>\n",
       "      <td>0.000000</td>\n",
       "      <td>0.000000</td>\n",
       "      <td>0.000000</td>\n",
       "      <td>0.000000</td>\n",
       "      <td>0.000000</td>\n",
       "      <td>0.00000</td>\n",
       "      <td>0.000000</td>\n",
       "      <td>0.000000</td>\n",
       "      <td>0.000000</td>\n",
       "      <td>0.000000</td>\n",
       "      <td>3.000000</td>\n",
       "      <td>2.000000</td>\n",
       "      <td>16.000000</td>\n",
       "      <td>0.000000</td>\n",
       "      <td>0.000000</td>\n",
       "      <td>0.000000</td>\n",
       "    </tr>\n",
       "    <tr>\n",
       "      <th>75%</th>\n",
       "      <td>10.300000</td>\n",
       "      <td>0.000000</td>\n",
       "      <td>0.000000</td>\n",
       "      <td>0.000000</td>\n",
       "      <td>0.000000</td>\n",
       "      <td>0.000000</td>\n",
       "      <td>0.000000</td>\n",
       "      <td>0.000000</td>\n",
       "      <td>0.00000</td>\n",
       "      <td>0.000000</td>\n",
       "      <td>3.000000</td>\n",
       "      <td>11.000000</td>\n",
       "      <td>0.000000</td>\n",
       "      <td>6.000000</td>\n",
       "      <td>4.000000</td>\n",
       "      <td>41.000000</td>\n",
       "      <td>0.000000</td>\n",
       "      <td>0.000000</td>\n",
       "      <td>0.000000</td>\n",
       "    </tr>\n",
       "    <tr>\n",
       "      <th>max</th>\n",
       "      <td>58.300000</td>\n",
       "      <td>45.000000</td>\n",
       "      <td>68.000000</td>\n",
       "      <td>1.000000</td>\n",
       "      <td>517.000000</td>\n",
       "      <td>7.000000</td>\n",
       "      <td>6.000000</td>\n",
       "      <td>158.300000</td>\n",
       "      <td>11.00000</td>\n",
       "      <td>72.000000</td>\n",
       "      <td>38.000000</td>\n",
       "      <td>238.000000</td>\n",
       "      <td>4.000000</td>\n",
       "      <td>23.000000</td>\n",
       "      <td>17.000000</td>\n",
       "      <td>300.000000</td>\n",
       "      <td>4.000000</td>\n",
       "      <td>4.000000</td>\n",
       "      <td>3.000000</td>\n",
       "    </tr>\n",
       "  </tbody>\n",
       "</table>\n",
       "</div>"
      ],
      "text/plain": [
       "            FAN PTS      PASSCOMP       PASSATT     PASSCOMP%       PASSYDS  \\\n",
       "count  23715.000000  23715.000000  23715.000000  23715.000000  23715.000000   \n",
       "mean       7.019907      2.391061      3.778705      0.079401     27.215475   \n",
       "std        7.459098      7.033341     10.999139      0.217173     80.797312   \n",
       "min      -10.200000      0.000000      0.000000      0.000000     -4.000000   \n",
       "25%        1.500000      0.000000      0.000000      0.000000      0.000000   \n",
       "50%        4.400000      0.000000      0.000000      0.000000      0.000000   \n",
       "75%       10.300000      0.000000      0.000000      0.000000      0.000000   \n",
       "max       58.300000     45.000000     68.000000      1.000000    517.000000   \n",
       "\n",
       "             PASSTD           INT         QBRAT         SACK       SACKYDS  \\\n",
       "count  23715.000000  23715.000000  23715.000000  23715.00000  23715.000000   \n",
       "mean       0.169218      0.088973     11.286629      0.25486      1.685009   \n",
       "std        0.615230      0.397251     31.379713      0.91102      6.313321   \n",
       "min        0.000000      0.000000      0.000000      0.00000      0.000000   \n",
       "25%        0.000000      0.000000      0.000000      0.00000      0.000000   \n",
       "50%        0.000000      0.000000      0.000000      0.00000      0.000000   \n",
       "75%        0.000000      0.000000      0.000000      0.00000      0.000000   \n",
       "max        7.000000      6.000000    158.300000     11.00000     72.000000   \n",
       "\n",
       "            RUSHATT       RUSHYDS        RUSHTD          TGTS           REC  \\\n",
       "count  23715.000000  23715.000000  23715.000000  23715.000000  23715.000000   \n",
       "mean       2.834662     11.977820      0.087455      3.561923      2.390217   \n",
       "std        5.317517     25.532093      0.333443      3.411787      2.327447   \n",
       "min        0.000000    -23.000000      0.000000      0.000000      0.000000   \n",
       "25%        0.000000      0.000000      0.000000      1.000000      1.000000   \n",
       "50%        0.000000      0.000000      0.000000      3.000000      2.000000   \n",
       "75%        3.000000     11.000000      0.000000      6.000000      4.000000   \n",
       "max       38.000000    238.000000      4.000000     23.000000     17.000000   \n",
       "\n",
       "             RECYDS         RECTD           FUM        FUMLST  \n",
       "count  23715.000000  23715.000000  23715.000000  23715.000000  \n",
       "mean      27.211933      0.169218      0.115370      0.055113  \n",
       "std       32.063177      0.425822      0.376323      0.242538  \n",
       "min      -16.000000      0.000000      0.000000      0.000000  \n",
       "25%        2.000000      0.000000      0.000000      0.000000  \n",
       "50%       16.000000      0.000000      0.000000      0.000000  \n",
       "75%       41.000000      0.000000      0.000000      0.000000  \n",
       "max      300.000000      4.000000      4.000000      3.000000  "
      ]
     },
     "execution_count": 13,
     "metadata": {},
     "output_type": "execute_result"
    }
   ],
   "source": [
    "df.describe()"
   ]
  },
  {
   "cell_type": "code",
   "execution_count": 14,
   "metadata": {},
   "outputs": [
    {
     "name": "stdout",
     "output_type": "stream",
     "text": [
      "POS = 22\n",
      "PLAYER = 1760\n",
      "FAN PTS = 2278\n",
      "TEAM = 32\n",
      "HC = 63\n",
      "OC = 76\n",
      "DC = 62\n",
      "H/A = 2\n",
      "OPP = 32\n",
      "OPP HC = 63\n",
      "OPP OC = 76\n",
      "OPP DC = 62\n",
      "DATE = 251\n",
      "SEASON = 5\n",
      "WEEK = 17\n",
      "MONTH = 5\n",
      "DAY = 4\n",
      "TIME = 5\n",
      "ROOF = 2\n",
      "SURFACE = 2\n",
      "W/L = 3\n",
      "SCORE = 972\n",
      "PASSCOMP = 46\n",
      "PASSATT = 67\n",
      "PASSCOMP% = 397\n",
      "PASSYDS = 443\n",
      "PASSTD = 8\n",
      "INT = 7\n",
      "QBRAT = 1001\n",
      "SACK = 12\n",
      "SACKYDS = 70\n",
      "RUSHATT = 38\n",
      "RUSHYDS = 207\n",
      "RUSHTD = 5\n",
      "TGTS = 24\n",
      "REC = 18\n",
      "RECYDS = 220\n",
      "RECTD = 5\n",
      "FUM = 5\n",
      "FUMLST = 4\n"
     ]
    }
   ],
   "source": [
    "for col in df:\n",
    "    print(col + ' = ' + str(df[col].nunique()))"
   ]
  },
  {
   "cell_type": "markdown",
   "metadata": {},
   "source": [
    "## 'POS' Column Clean\n",
    "\n",
    "This looks to have more variables than expected. Will look to understand what is included here and change if necessary."
   ]
  },
  {
   "cell_type": "code",
   "execution_count": 15,
   "metadata": {},
   "outputs": [],
   "source": [
    "#df['POS'].unique()"
   ]
  },
  {
   "cell_type": "code",
   "execution_count": 16,
   "metadata": {},
   "outputs": [
    {
     "data": {
      "text/plain": [
       "WR    9197\n",
       "RB    6416\n",
       "TE    4352\n",
       "QB    3015\n",
       "FB     537\n",
       "P       81\n",
       "S       22\n",
       "DT      16\n",
       "CB      16\n",
       "T       11\n",
       "K       11\n",
       "LB       8\n",
       "DE       7\n",
       "OT       5\n",
       "G        5\n",
       "LT       4\n",
       "C        3\n",
       "DB       3\n",
       "FS       2\n",
       "OL       2\n",
       "LS       1\n",
       "DL       1\n",
       "Name: POS, dtype: int64"
      ]
     },
     "execution_count": 16,
     "metadata": {},
     "output_type": "execute_result"
    }
   ],
   "source": [
    "df['POS'].value_counts()"
   ]
  },
  {
   "cell_type": "code",
   "execution_count": 17,
   "metadata": {},
   "outputs": [],
   "source": [
    "mapping = {'QB':'QB', 'RB':'RB', 'FB':'RB','WR':'WR', 'TE':'TE','P':'OTH','S':'OTH','DT':'OTH','CB':'OTH', \n",
    "           'K':'OTH','T':'OTH', 'LB':'OTH', 'DE':'OTH', 'OT':'OTH', 'G':'OTH', 'LT':'OTH', 'C':'OTH',\n",
    "          'DB':'OTH', 'FS':'OTH', 'OL':'OTH','DL':'OTH','LS':'OTH'}\n",
    "\n",
    "\n",
    "df['POS_AGG'] = df['POS'].replace(mapping)\n",
    "#df['POS_AGG'].unique()"
   ]
  },
  {
   "cell_type": "code",
   "execution_count": 18,
   "metadata": {},
   "outputs": [
    {
     "data": {
      "text/plain": [
       "WR     9197\n",
       "RB     6953\n",
       "TE     4352\n",
       "QB     3015\n",
       "OTH     198\n",
       "Name: POS_AGG, dtype: int64"
      ]
     },
     "execution_count": 18,
     "metadata": {},
     "output_type": "execute_result"
    }
   ],
   "source": [
    "df['POS_AGG'].value_counts()"
   ]
  },
  {
   "cell_type": "code",
   "execution_count": 19,
   "metadata": {},
   "outputs": [
    {
     "data": {
      "text/plain": [
       "(23715, 41)"
      ]
     },
     "execution_count": 19,
     "metadata": {},
     "output_type": "execute_result"
    }
   ],
   "source": [
    "df.shape"
   ]
  },
  {
   "cell_type": "markdown",
   "metadata": {},
   "source": [
    "## Object For Loop\n",
    "\n",
    "Ended up using this for loop throughout process so turned into a function to make it easier to access.\n",
    "\n",
    "##### Question\n",
    "Is there already a built-in function that does this already?"
   ]
  },
  {
   "cell_type": "code",
   "execution_count": 20,
   "metadata": {},
   "outputs": [],
   "source": [
    "def object_col(df):\n",
    "\n",
    "    '''\n",
    "    This fucntion prints all columns that are object data types\n",
    "    '''\n",
    "\n",
    "    for col in df:\n",
    "        if df[col].dtypes == 'object':\n",
    "            print(col)\n",
    "        else:\n",
    "            continue"
   ]
  },
  {
   "cell_type": "code",
   "execution_count": 21,
   "metadata": {},
   "outputs": [],
   "source": [
    "#object_col(df)"
   ]
  },
  {
   "cell_type": "markdown",
   "metadata": {},
   "source": [
    "## 'PLAYER' column clean"
   ]
  },
  {
   "cell_type": "markdown",
   "metadata": {},
   "source": [
    "Look at 'PLAYER' column to understand how it is structured and what adjustments are needed."
   ]
  },
  {
   "cell_type": "code",
   "execution_count": 22,
   "metadata": {
    "scrolled": false
   },
   "outputs": [
    {
     "data": {
      "text/plain": [
       "'Aaron Rodgers GNB - QB'"
      ]
     },
     "execution_count": 22,
     "metadata": {},
     "output_type": "execute_result"
    }
   ],
   "source": [
    "list(df['PLAYER'].unique())[0]"
   ]
  },
  {
   "cell_type": "markdown",
   "metadata": {},
   "source": [
    "Split column with results in new column 'PLAYER_SPLIT'"
   ]
  },
  {
   "cell_type": "code",
   "execution_count": 23,
   "metadata": {},
   "outputs": [],
   "source": [
    "df['PLAYER_SPLIT'] = df['PLAYER'].str.split()\n",
    "#df['PLAYER_SPLIT']"
   ]
  },
  {
   "cell_type": "markdown",
   "metadata": {},
   "source": [
    "Create new column 'PLAYER_SPLIT_LEN' to show how many indexes are in split. Then apply value_counts() to understand how best to transform into new fields you want."
   ]
  },
  {
   "cell_type": "code",
   "execution_count": 24,
   "metadata": {},
   "outputs": [
    {
     "data": {
      "text/plain": [
       "5    23690\n",
       "6       25\n",
       "Name: PLAYER_SPLIT_LEN, dtype: int64"
      ]
     },
     "execution_count": 24,
     "metadata": {},
     "output_type": "execute_result"
    }
   ],
   "source": [
    "PLAYER_SPLIT_LEN = []\n",
    "for split in df['PLAYER_SPLIT']:\n",
    "    no = len(split)\n",
    "    PLAYER_SPLIT_LEN.append(no)\n",
    "    \n",
    "df['PLAYER_SPLIT_LEN'] = PLAYER_SPLIT_LEN\n",
    "df['PLAYER_SPLIT_LEN'].value_counts()"
   ]
  },
  {
   "cell_type": "markdown",
   "metadata": {},
   "source": [
    "Create FOR loop to run through 'PLAYER_SPLIT' and based on length of split, decide how to assign to new name, team or position list. These lists are then assigned to Data Serieis in DataFrame.\n",
    "\n",
    "##### Question\n",
    "Is there a way to assign these values directly to dataframe? I'm presuming there is a more efficient way to do this but didn't spring to mind.\n",
    "\n",
    "Also, it looks like list got assigned in correct order but will this always be true? Is there a risk of using this method and assigning data in incorrect order?"
   ]
  },
  {
   "cell_type": "code",
   "execution_count": 25,
   "metadata": {
    "scrolled": false
   },
   "outputs": [],
   "source": [
    "new_name = []\n",
    "new_team = []\n",
    "new_position = []\n",
    "for split in df['PLAYER_SPLIT']:\n",
    "    if len(split) == 6:\n",
    "        name = split[0] + ' ' + split[1] + ' ' + split[2]\n",
    "        team = split[3]\n",
    "        position = split[5]\n",
    "        new_name.append(name)\n",
    "        new_team.append(team)\n",
    "        new_position.append(position)\n",
    "    elif len(split) == 5:\n",
    "        name = split[0] + ' ' + split[1]\n",
    "        team = split[2]\n",
    "        position = split[4]\n",
    "        new_name.append(name)\n",
    "        new_team.append(team)\n",
    "        new_position.append(position)\n",
    "    else:\n",
    "        name = 'Unknown'\n",
    "        team = 'N/A'\n",
    "        position = 'N/A'\n",
    "        new_name.append(name)\n",
    "        new_team.append(team)\n",
    "        new_position.append(position)\n",
    "\n",
    "df['PLAYER_NAME'] = new_name\n",
    "df['TEAM_ABV'] = new_team\n",
    "df['POS_CHECK'] = new_position\n",
    "#df.head()"
   ]
  },
  {
   "cell_type": "markdown",
   "metadata": {},
   "source": [
    "Checking to make sure correct values got assigned with player names with lenght of 6."
   ]
  },
  {
   "cell_type": "code",
   "execution_count": 26,
   "metadata": {
    "scrolled": false
   },
   "outputs": [],
   "source": [
    "#df[df['PLAYER_SPLIT_LEN'] == 6]"
   ]
  },
  {
   "cell_type": "markdown",
   "metadata": {},
   "source": [
    "Dropping 'PLAYER', 'PLAYER_SPLIT' and 'PLAYER_SPLIT_LEN' columns as no longer needed."
   ]
  },
  {
   "cell_type": "code",
   "execution_count": 27,
   "metadata": {
    "scrolled": true
   },
   "outputs": [],
   "source": [
    "df.drop(columns=['PLAYER', 'PLAYER_SPLIT_LEN', 'PLAYER_SPLIT'], inplace=True)\n",
    "#df.head()"
   ]
  },
  {
   "cell_type": "markdown",
   "metadata": {},
   "source": [
    "Checking to make sure positions columns match and dropping one column if duplicate."
   ]
  },
  {
   "cell_type": "code",
   "execution_count": 28,
   "metadata": {},
   "outputs": [
    {
     "data": {
      "text/plain": [
       "True    23715\n",
       "dtype: int64"
      ]
     },
     "execution_count": 28,
     "metadata": {},
     "output_type": "execute_result"
    }
   ],
   "source": [
    "(df['POS'] == df['POS_CHECK']).value_counts()"
   ]
  },
  {
   "cell_type": "code",
   "execution_count": 29,
   "metadata": {},
   "outputs": [],
   "source": [
    "df.drop(columns=['POS_CHECK'], inplace=True)\n",
    "#df.head()"
   ]
  },
  {
   "cell_type": "markdown",
   "metadata": {},
   "source": [
    "## 'TEAM' Column Clean"
   ]
  },
  {
   "cell_type": "code",
   "execution_count": 30,
   "metadata": {
    "scrolled": false
   },
   "outputs": [],
   "source": [
    "#object_col(df)"
   ]
  },
  {
   "cell_type": "markdown",
   "metadata": {},
   "source": [
    "Looking at two fields for team name shows that one has 32 uniques values vs 33. This is because the 'Chargers' moved from San Diego to LA in 2019 causing there to be a different 3-letter abbreviation in those years 'SDG' vs 'LAC'.\n",
    "\n",
    "While OCD-tendency makes me want to correct this and have full team names and correct abbreviation codes for all teams, in the interest of time efficiency, I have decided to drop 'TEAM_ABV' column and use 'TEAM' going forward."
   ]
  },
  {
   "cell_type": "code",
   "execution_count": 31,
   "metadata": {},
   "outputs": [
    {
     "data": {
      "text/plain": [
       "32"
      ]
     },
     "execution_count": 31,
     "metadata": {},
     "output_type": "execute_result"
    }
   ],
   "source": [
    "list(df['TEAM'].unique())\n",
    "df['TEAM'].nunique()"
   ]
  },
  {
   "cell_type": "code",
   "execution_count": 32,
   "metadata": {},
   "outputs": [
    {
     "data": {
      "text/plain": [
       "33"
      ]
     },
     "execution_count": 32,
     "metadata": {},
     "output_type": "execute_result"
    }
   ],
   "source": [
    "list(df['TEAM_ABV'].unique())\n",
    "df['TEAM_ABV'].nunique()"
   ]
  },
  {
   "cell_type": "code",
   "execution_count": 33,
   "metadata": {},
   "outputs": [],
   "source": [
    "team_test = df['TEAM'] + ' - ' + df['TEAM_ABV']\n",
    "#list(team_test.unique())"
   ]
  },
  {
   "cell_type": "code",
   "execution_count": 34,
   "metadata": {},
   "outputs": [],
   "source": [
    "df.drop(columns='TEAM_ABV', inplace=True)\n",
    "#df.head()"
   ]
  },
  {
   "cell_type": "markdown",
   "metadata": {},
   "source": [
    "Checking 'OPP' column too to see if similar to 'TEAM'. It is so not going make any changes."
   ]
  },
  {
   "cell_type": "code",
   "execution_count": 35,
   "metadata": {},
   "outputs": [
    {
     "data": {
      "text/plain": [
       "32"
      ]
     },
     "execution_count": 35,
     "metadata": {},
     "output_type": "execute_result"
    }
   ],
   "source": [
    "list(df['OPP'].unique())\n",
    "df['OPP'].nunique()"
   ]
  },
  {
   "cell_type": "markdown",
   "metadata": {},
   "source": [
    "## Date and Stadium columns cleans"
   ]
  },
  {
   "cell_type": "markdown",
   "metadata": {},
   "source": [
    "These columns seem fine for the moment. Only changes may want to add are:\n",
    "\n",
    "Week columns - change these to numerical\n",
    "\n",
    "Year columns - pull these from date fields\n",
    "\n",
    "Also, thought crossed mind about how do we account for BYE weeks for players but can comeback to this at later point if needed by analysis."
   ]
  },
  {
   "cell_type": "code",
   "execution_count": 36,
   "metadata": {},
   "outputs": [],
   "source": [
    "#object_col(df)"
   ]
  },
  {
   "cell_type": "code",
   "execution_count": 37,
   "metadata": {},
   "outputs": [
    {
     "data": {
      "text/plain": [
       "0      2018-12-30\n",
       "1      2018-12-30\n",
       "2      2018-12-30\n",
       "3      2018-12-30\n",
       "4      2018-12-30\n",
       "          ...    \n",
       "4706   2019-09-08\n",
       "4707   2019-09-09\n",
       "4708   2019-09-08\n",
       "4709   2019-09-08\n",
       "4710   2019-09-08\n",
       "Name: DATE, Length: 23715, dtype: datetime64[ns]"
      ]
     },
     "execution_count": 37,
     "metadata": {},
     "output_type": "execute_result"
    }
   ],
   "source": [
    "df['DATE']"
   ]
  },
  {
   "cell_type": "code",
   "execution_count": 38,
   "metadata": {},
   "outputs": [
    {
     "data": {
      "text/plain": [
       "['2018', '2017', '2016', '2015', '2019']"
      ]
     },
     "execution_count": 38,
     "metadata": {},
     "output_type": "execute_result"
    }
   ],
   "source": [
    "list(df['SEASON'].unique())"
   ]
  },
  {
   "cell_type": "code",
   "execution_count": 39,
   "metadata": {},
   "outputs": [
    {
     "data": {
      "text/plain": [
       "['December', 'November', 'October', 'September', 'January']"
      ]
     },
     "execution_count": 39,
     "metadata": {},
     "output_type": "execute_result"
    }
   ],
   "source": [
    "list(df['MONTH'].unique())"
   ]
  },
  {
   "cell_type": "code",
   "execution_count": 40,
   "metadata": {},
   "outputs": [
    {
     "data": {
      "text/plain": [
       "['Week17',\n",
       " 'Week16',\n",
       " 'Week15',\n",
       " 'Week14',\n",
       " 'Week13',\n",
       " 'Week12',\n",
       " 'Week11',\n",
       " 'Week10',\n",
       " 'Week09',\n",
       " 'Week08',\n",
       " 'Week07',\n",
       " 'Week06',\n",
       " 'Week05',\n",
       " 'Week04',\n",
       " 'Week03',\n",
       " 'Week02',\n",
       " 'Week01']"
      ]
     },
     "execution_count": 40,
     "metadata": {},
     "output_type": "execute_result"
    }
   ],
   "source": [
    "list(df['WEEK'].unique())"
   ]
  },
  {
   "cell_type": "code",
   "execution_count": 41,
   "metadata": {},
   "outputs": [
    {
     "data": {
      "text/plain": [
       "['Sunday', 'Saturday', 'Monday', 'Thursday']"
      ]
     },
     "execution_count": 41,
     "metadata": {},
     "output_type": "execute_result"
    }
   ],
   "source": [
    "list(df['DAY'].unique())"
   ]
  },
  {
   "cell_type": "code",
   "execution_count": 42,
   "metadata": {},
   "outputs": [
    {
     "data": {
      "text/plain": [
       "['Noon', 'Afternoon', 'Night', 'London', 'Mexico']"
      ]
     },
     "execution_count": 42,
     "metadata": {},
     "output_type": "execute_result"
    }
   ],
   "source": [
    "list(df['TIME'].unique())"
   ]
  },
  {
   "cell_type": "code",
   "execution_count": 43,
   "metadata": {},
   "outputs": [
    {
     "data": {
      "text/plain": [
       "['Open', 'Dome']"
      ]
     },
     "execution_count": 43,
     "metadata": {},
     "output_type": "execute_result"
    }
   ],
   "source": [
    "list(df['ROOF'].unique())"
   ]
  },
  {
   "cell_type": "code",
   "execution_count": 44,
   "metadata": {},
   "outputs": [
    {
     "data": {
      "text/plain": [
       "['Grass', 'Turf']"
      ]
     },
     "execution_count": 44,
     "metadata": {},
     "output_type": "execute_result"
    }
   ],
   "source": [
    "list(df['SURFACE'].unique())"
   ]
  },
  {
   "cell_type": "markdown",
   "metadata": {},
   "source": [
    "## 'SCORE' column clean"
   ]
  },
  {
   "cell_type": "code",
   "execution_count": 45,
   "metadata": {
    "scrolled": true
   },
   "outputs": [],
   "source": [
    "list(df['SCORE'].unique())\n",
    "df['SCORE_SPLIT'] = df['SCORE'].str.split('-')\n",
    "\n",
    "score_for = []\n",
    "score_against = []\n",
    "for split in df['SCORE_SPLIT']:\n",
    "    pts_for = split[0]\n",
    "    pts_agt = split[1]\n",
    "    score_for.append(pts_for)\n",
    "    score_against.append(pts_agt)\n",
    "\n",
    "df['PTS_FOR'] = score_for\n",
    "df['PTS_AGT'] = score_against\n",
    "\n",
    "df['PTS_FOR'] = df['PTS_FOR'].astype('int')\n",
    "df['PTS_AGT'] = df['PTS_AGT'].astype('int')\n",
    "\n",
    "#df.dtypes\n",
    "#df.head()"
   ]
  },
  {
   "cell_type": "code",
   "execution_count": 46,
   "metadata": {},
   "outputs": [],
   "source": [
    "df.drop(columns=['SCORE_SPLIT', 'SCORE'], inplace=True)"
   ]
  },
  {
   "cell_type": "code",
   "execution_count": 47,
   "metadata": {},
   "outputs": [],
   "source": [
    "#df.info()"
   ]
  },
  {
   "cell_type": "markdown",
   "metadata": {},
   "source": [
    "## Null Value Check\n",
    "\n",
    "Looking to see columns have null values. Dataset is clean."
   ]
  },
  {
   "cell_type": "code",
   "execution_count": 48,
   "metadata": {},
   "outputs": [
    {
     "data": {
      "text/plain": [
       "False"
      ]
     },
     "execution_count": 48,
     "metadata": {},
     "output_type": "execute_result"
    }
   ],
   "source": [
    "df.isnull().values.any()"
   ]
  },
  {
   "cell_type": "code",
   "execution_count": 49,
   "metadata": {},
   "outputs": [],
   "source": [
    "nas = pd.DataFrame(df.isnull().sum().sort_values(ascending=False)/len(df),columns = ['percent'])\n",
    "pos = nas['percent'] == 0\n",
    "#nas[pos]"
   ]
  },
  {
   "cell_type": "markdown",
   "metadata": {},
   "source": [
    "## Calculate correct Fantasy Points\n",
    "\n",
    "This fantasy football league has different scoring system to one applied in dataset. We need to create new fields to accurately calculate the fantasy points for each row of data. See below the scoring system."
   ]
  },
  {
   "attachments": {
    "image.png": {
     "image/png": "[encoded data removed]"
    }
   },
   "cell_type": "markdown",
   "metadata": {},
   "source": [
    "![image.png](attachment:image.png)"
   ]
  },
  {
   "attachments": {
    "image.png": {
     "image/png": "[encoded data removed]"
    }
   },
   "cell_type": "markdown",
   "metadata": {},
   "source": [
    "![image.png](attachment:image.png)"
   ]
  },
  {
   "cell_type": "markdown",
   "metadata": {},
   "source": [
    "Defense and Kickers are not included in dataset so we will not look to calculate these statistics. \n",
    "\n",
    "Note: How can we include Defense and Kicker data for future analysis?"
   ]
  },
  {
   "cell_type": "markdown",
   "metadata": {},
   "source": [
    "##### Passing Fantasy point calculations"
   ]
  },
  {
   "cell_type": "code",
   "execution_count": 50,
   "metadata": {},
   "outputs": [],
   "source": [
    "# Passing Fantasy point calculations\n",
    "df['FAN_PASSYDS'] = (df['PASSYDS']/5)*0.2\n",
    "df['FAN_PASSTD'] = df['PASSTD']*6\n",
    "df['FAN_PASSYDS_300'] = df['PASSYDS'].apply(lambda x: 2 if x >= 300 else 0)\n",
    "df['FAN_PASSYDS_400'] = df['PASSYDS'].apply(lambda x: 1 if x >= 400 else 0)\n",
    "df['FAN_INT'] = df['INT']*-2\n",
    "df['FAN_SACK'] = df['SACK']*-0.5\n",
    "df['FAN_PASS_TOT'] = df[['FAN_PASSYDS', 'FAN_PASSTD', 'FAN_PASSYDS_300', 'FAN_PASSYDS_400', 'FAN_INT', 'FAN_SACK']].sum(axis=1)\n",
    "\n",
    "#df[['PLAYER_NAME', 'PASSYDS', 'FAN_PASSYDS', 'POS_AGG'== 'QB']].head()\n",
    "\n",
    "#df[df['POS_AGG'] == 'QB'].head()"
   ]
  },
  {
   "cell_type": "markdown",
   "metadata": {},
   "source": [
    "##### Rushing Fantasy point calculations"
   ]
  },
  {
   "cell_type": "code",
   "execution_count": 51,
   "metadata": {},
   "outputs": [],
   "source": [
    "df['FAN_RUSHYDS'] = df['RUSHYDS']*0.1\n",
    "df['FAN_RUSHTD'] = df['RUSHTD']*6\n",
    "df['FAN_RUSHYDS_100'] = df['RUSHYDS'].apply(lambda x: 2 if x >= 100 else 0)\n",
    "df['FAN_RUSHYDS_200'] = df['RUSHYDS'].apply(lambda x: 1 if x >= 200 else 0)\n",
    "df['FAN_FUMLST'] = df['FUMLST']*-2\n",
    "df['FAN_RUSH_TOT'] = df[['FAN_RUSHYDS', 'FAN_RUSHTD', 'FAN_RUSHYDS_100', 'FAN_RUSHYDS_200', 'FAN_FUMLST']].sum(axis=1)\n",
    "\n",
    "#df[df['POS_AGG'] == 'RB'].head()"
   ]
  },
  {
   "cell_type": "markdown",
   "metadata": {},
   "source": [
    "##### Receiving Fantasy point calculations"
   ]
  },
  {
   "cell_type": "code",
   "execution_count": 52,
   "metadata": {},
   "outputs": [],
   "source": [
    "df['FAN_RECYDS'] = df['RECYDS']*0.1\n",
    "df['FAN_RECTD'] = df['RECTD']*6\n",
    "df['FAN_RECYDS_100'] = df['RECYDS'].apply(lambda x: 2 if x >= 100 else 0)\n",
    "df['FAN_RECYDS_200'] = df['RECYDS'].apply(lambda x: 1 if x >= 200 else 0)\n",
    "df['FAN_REC_TOT'] = df[['FAN_RECYDS', 'FAN_RECTD', 'FAN_RECYDS_100', 'FAN_RECYDS_200']].sum(axis=1)\n",
    "\n",
    "#df[df['POS_AGG'] == 'WR'].head()"
   ]
  },
  {
   "cell_type": "markdown",
   "metadata": {},
   "source": [
    "##### Total Fantasy points"
   ]
  },
  {
   "cell_type": "code",
   "execution_count": 53,
   "metadata": {
    "scrolled": false
   },
   "outputs": [
    {
     "data": {
      "text/html": [
       "<div>\n",
       "<style scoped>\n",
       "    .dataframe tbody tr th:only-of-type {\n",
       "        vertical-align: middle;\n",
       "    }\n",
       "\n",
       "    .dataframe tbody tr th {\n",
       "        vertical-align: top;\n",
       "    }\n",
       "\n",
       "    .dataframe thead th {\n",
       "        text-align: right;\n",
       "    }\n",
       "</style>\n",
       "<table border=\"1\" class=\"dataframe\">\n",
       "  <thead>\n",
       "    <tr style=\"text-align: right;\">\n",
       "      <th></th>\n",
       "      <th>PLAYER_NAME</th>\n",
       "      <th>POS_AGG</th>\n",
       "      <th>FAN_PASS_TOT</th>\n",
       "      <th>FAN_RUSH_TOT</th>\n",
       "      <th>FAN_REC_TOT</th>\n",
       "      <th>FAN_TOT</th>\n",
       "    </tr>\n",
       "  </thead>\n",
       "  <tbody>\n",
       "    <tr>\n",
       "      <th>15727</th>\n",
       "      <td>Vincent Jackson</td>\n",
       "      <td>WR</td>\n",
       "      <td>0.0</td>\n",
       "      <td>0.0</td>\n",
       "      <td>8.7</td>\n",
       "      <td>8.7</td>\n",
       "    </tr>\n",
       "    <tr>\n",
       "      <th>6953</th>\n",
       "      <td>Orleans Darkwa</td>\n",
       "      <td>RB</td>\n",
       "      <td>0.0</td>\n",
       "      <td>7.0</td>\n",
       "      <td>1.8</td>\n",
       "      <td>8.8</td>\n",
       "    </tr>\n",
       "    <tr>\n",
       "      <th>223</th>\n",
       "      <td>Nick Vannett</td>\n",
       "      <td>TE</td>\n",
       "      <td>0.0</td>\n",
       "      <td>0.0</td>\n",
       "      <td>1.7</td>\n",
       "      <td>1.7</td>\n",
       "    </tr>\n",
       "    <tr>\n",
       "      <th>7474</th>\n",
       "      <td>Theo Riddick</td>\n",
       "      <td>RB</td>\n",
       "      <td>0.0</td>\n",
       "      <td>2.1</td>\n",
       "      <td>2.4</td>\n",
       "      <td>4.5</td>\n",
       "    </tr>\n",
       "    <tr>\n",
       "      <th>8282</th>\n",
       "      <td>Travis Benjamin</td>\n",
       "      <td>WR</td>\n",
       "      <td>0.0</td>\n",
       "      <td>1.4</td>\n",
       "      <td>1.8</td>\n",
       "      <td>3.2</td>\n",
       "    </tr>\n",
       "    <tr>\n",
       "      <th>5266</th>\n",
       "      <td>Stevan Ridley</td>\n",
       "      <td>RB</td>\n",
       "      <td>0.0</td>\n",
       "      <td>2.8</td>\n",
       "      <td>0.0</td>\n",
       "      <td>2.8</td>\n",
       "    </tr>\n",
       "    <tr>\n",
       "      <th>10306</th>\n",
       "      <td>Paul Perkins</td>\n",
       "      <td>RB</td>\n",
       "      <td>0.0</td>\n",
       "      <td>5.6</td>\n",
       "      <td>0.0</td>\n",
       "      <td>5.6</td>\n",
       "    </tr>\n",
       "    <tr>\n",
       "      <th>89</th>\n",
       "      <td>DeVante Parker</td>\n",
       "      <td>WR</td>\n",
       "      <td>0.0</td>\n",
       "      <td>0.0</td>\n",
       "      <td>15.7</td>\n",
       "      <td>15.7</td>\n",
       "    </tr>\n",
       "    <tr>\n",
       "      <th>5786</th>\n",
       "      <td>Lawrence Thomas</td>\n",
       "      <td>OTH</td>\n",
       "      <td>0.0</td>\n",
       "      <td>0.0</td>\n",
       "      <td>0.7</td>\n",
       "      <td>0.7</td>\n",
       "    </tr>\n",
       "    <tr>\n",
       "      <th>14688</th>\n",
       "      <td>Jonathan Krause</td>\n",
       "      <td>WR</td>\n",
       "      <td>0.0</td>\n",
       "      <td>0.0</td>\n",
       "      <td>0.7</td>\n",
       "      <td>0.7</td>\n",
       "    </tr>\n",
       "  </tbody>\n",
       "</table>\n",
       "</div>"
      ],
      "text/plain": [
       "           PLAYER_NAME POS_AGG  FAN_PASS_TOT  FAN_RUSH_TOT  FAN_REC_TOT  \\\n",
       "15727  Vincent Jackson      WR           0.0           0.0          8.7   \n",
       "6953    Orleans Darkwa      RB           0.0           7.0          1.8   \n",
       "223       Nick Vannett      TE           0.0           0.0          1.7   \n",
       "7474      Theo Riddick      RB           0.0           2.1          2.4   \n",
       "8282   Travis Benjamin      WR           0.0           1.4          1.8   \n",
       "5266     Stevan Ridley      RB           0.0           2.8          0.0   \n",
       "10306     Paul Perkins      RB           0.0           5.6          0.0   \n",
       "89      DeVante Parker      WR           0.0           0.0         15.7   \n",
       "5786   Lawrence Thomas     OTH           0.0           0.0          0.7   \n",
       "14688  Jonathan Krause      WR           0.0           0.0          0.7   \n",
       "\n",
       "       FAN_TOT  \n",
       "15727      8.7  \n",
       "6953       8.8  \n",
       "223        1.7  \n",
       "7474       4.5  \n",
       "8282       3.2  \n",
       "5266       2.8  \n",
       "10306      5.6  \n",
       "89        15.7  \n",
       "5786       0.7  \n",
       "14688      0.7  "
      ]
     },
     "execution_count": 53,
     "metadata": {},
     "output_type": "execute_result"
    }
   ],
   "source": [
    "df['FAN_TOT'] = df[['FAN_PASS_TOT', 'FAN_RUSH_TOT', 'FAN_REC_TOT']].sum(axis=1)\n",
    "\n",
    "df[['PLAYER_NAME', 'POS_AGG', 'FAN_PASS_TOT', 'FAN_RUSH_TOT', 'FAN_REC_TOT', 'FAN_TOT']].sample(n=10)"
   ]
  },
  {
   "cell_type": "markdown",
   "metadata": {},
   "source": [
    "##### Dropping original 'FAN PTS' column as no longer required"
   ]
  },
  {
   "cell_type": "code",
   "execution_count": 54,
   "metadata": {},
   "outputs": [],
   "source": [
    "df.drop(columns='FAN PTS', inplace=True)"
   ]
  },
  {
   "cell_type": "markdown",
   "metadata": {},
   "source": [
    "# Output data to CSV"
   ]
  },
  {
   "cell_type": "code",
   "execution_count": 55,
   "metadata": {},
   "outputs": [
    {
     "data": {
      "text/plain": [
       "(23715, 60)"
      ]
     },
     "execution_count": 55,
     "metadata": {},
     "output_type": "execute_result"
    }
   ],
   "source": [
    "df.shape"
   ]
  },
  {
   "cell_type": "code",
   "execution_count": 56,
   "metadata": {},
   "outputs": [],
   "source": [
    "df.to_csv('NFL_FantasyData_2015_2019.csv')"
   ]
  }
 ],
 "metadata": {
  "kernelspec": {
   "display_name": "Python 3",
   "language": "python",
   "name": "python3"
  },
  "language_info": {
   "codemirror_mode": {
    "name": "ipython",
    "version": 3
   },
   "file_extension": ".py",
   "mimetype": "text/x-python",
   "name": "python",
   "nbconvert_exporter": "python",
   "pygments_lexer": "ipython3",
   "version": "3.8.5"
  }
 },
 "nbformat": 4,
 "nbformat_minor": 4
}
