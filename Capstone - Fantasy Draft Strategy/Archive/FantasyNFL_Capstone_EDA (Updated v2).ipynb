{
 "cells": [
  {
   "cell_type": "markdown",
   "metadata": {},
   "source": [
    "# Capstone 1: Fantasy NFL (EDA)"
   ]
  },
  {
   "cell_type": "markdown",
   "metadata": {},
   "source": [
    "The aim of this project is to understand what factors impact on the amount of fantasy points an NFL player will score in week.\n",
    "\n",
    "In a previous notebook, we wrangled the original dataset into a clean version that we will import now. Following this, we will investigate and analyse the data to see if we can uncover any trends or corrleations that might indicate what factors we think can help answer our question of what indicates a good fantasy performance.  "
   ]
  },
  {
   "cell_type": "markdown",
   "metadata": {},
   "source": [
    "## Import packages & load dataset"
   ]
  },
  {
   "cell_type": "code",
   "execution_count": 1,
   "metadata": {},
   "outputs": [],
   "source": [
    "import numpy as np\n",
    "import pandas as pd\n",
    "import matplotlib.pyplot as plt\n",
    "import os\n",
    "import seaborn as sns\n",
    "import scipy.stats"
   ]
  },
  {
   "cell_type": "code",
   "execution_count": 2,
   "metadata": {},
   "outputs": [],
   "source": [
    "#os.listdir()"
   ]
  },
  {
   "cell_type": "code",
   "execution_count": 3,
   "metadata": {},
   "outputs": [],
   "source": [
    "path = 'C:\\\\Users\\\\Admin\\\\Dropbox\\\\Rory\\\\01 - Development\\\\Data Science\\\\Springboard\\\\Career Track\\\\Capstone Projects\\\\Fantasy NFL\\\\01 Data Wrangling'\n",
    "os.chdir(path)\n",
    "#os.listdir()"
   ]
  },
  {
   "cell_type": "code",
   "execution_count": 4,
   "metadata": {},
   "outputs": [],
   "source": [
    "file = 'NFL_FantasyData_2015_2019.csv'\n",
    "nfl = pd.read_csv(file, index_col=0)"
   ]
  },
  {
   "cell_type": "markdown",
   "metadata": {},
   "source": [
    "## Investigate Dataset"
   ]
  },
  {
   "cell_type": "markdown",
   "metadata": {},
   "source": [
    "Initially I looked at the basic shape and stats related to the dataset to refamiliarise myself with the dataset."
   ]
  },
  {
   "cell_type": "code",
   "execution_count": 5,
   "metadata": {},
   "outputs": [],
   "source": [
    "#nfl.head()"
   ]
  },
  {
   "cell_type": "code",
   "execution_count": 6,
   "metadata": {},
   "outputs": [
    {
     "data": {
      "text/plain": [
       "(23715, 60)"
      ]
     },
     "execution_count": 6,
     "metadata": {},
     "output_type": "execute_result"
    }
   ],
   "source": [
    "nfl.shape"
   ]
  },
  {
   "cell_type": "code",
   "execution_count": 7,
   "metadata": {},
   "outputs": [],
   "source": [
    "#nfl.info()"
   ]
  },
  {
   "cell_type": "code",
   "execution_count": 8,
   "metadata": {},
   "outputs": [],
   "source": [
    "#nfl.describe()"
   ]
  },
  {
   "cell_type": "code",
   "execution_count": 9,
   "metadata": {},
   "outputs": [],
   "source": [
    "#nfl.SEASON.unique()\n",
    "#nfl.SEASON.value_counts()"
   ]
  },
  {
   "cell_type": "code",
   "execution_count": 10,
   "metadata": {},
   "outputs": [],
   "source": [
    "#for x in nfl_skill.columns: print(x)"
   ]
  },
  {
   "cell_type": "markdown",
   "metadata": {},
   "source": [
    "### Position Group\n",
    "\n",
    "Looking at the dataset, I can see there is a large amount of columns to analyse. Specifically the columns, some of these stats are specific to QBs in the data set with other linked more to skill position players of RB, WR and TE.\n",
    "\n",
    "With this in mind, I have decided to split out the data between skill positions (RB, WR, TE) and QBs."
   ]
  },
  {
   "cell_type": "code",
   "execution_count": 11,
   "metadata": {},
   "outputs": [
    {
     "name": "stdout",
     "output_type": "stream",
     "text": [
      "Skill Player data:  (20502, 60)\n",
      "QB Player data:  (3015, 60)\n"
     ]
    }
   ],
   "source": [
    "nfl_skill = nfl[((nfl['POS_AGG']=='RB') | (nfl['POS_AGG']=='WR') | (nfl['POS_AGG']=='TE'))]\n",
    "#nfl_skill.POS_AGG.unique()\n",
    "print('Skill Player data: ', nfl_skill.shape)\n",
    "\n",
    "nfl_qb = nfl[nfl['POS_AGG']=='QB']\n",
    "#nfl_qb.POS_AGG.unique()\n",
    "print('QB Player data: ', nfl_qb.shape)"
   ]
  },
  {
   "cell_type": "markdown",
   "metadata": {},
   "source": [
    "As the Skill Player dataset has more rows available and with the view of reducing the columns / features to analyse, I have decided to continue my analysis on only the **nfl_skill** dataset.\n",
    "\n",
    "In the following lines, I will remove QB-related statisitcs from the dataset to reduce the number of columns in the dataset."
   ]
  },
  {
   "cell_type": "code",
   "execution_count": 12,
   "metadata": {},
   "outputs": [],
   "source": [
    "qbstats_list = ['PASSCOMP', 'PASSATT', 'PASSCOMP%', 'PASSYDS', 'PASSTD', 'INT', 'QBRAT', 'SACK', 'SACKYDS', 'FAN_PASSYDS', 'FAN_PASSTD', 'FAN_PASSYDS_300', 'FAN_PASSYDS_400', 'FAN_INT', 'FAN_SACK', 'FAN_PASS_TOT']\n",
    "nfl_skill = nfl_skill.drop(qbstats_list, axis=1)"
   ]
  },
  {
   "cell_type": "code",
   "execution_count": 13,
   "metadata": {},
   "outputs": [
    {
     "data": {
      "text/plain": [
       "(20502, 44)"
      ]
     },
     "execution_count": 13,
     "metadata": {},
     "output_type": "execute_result"
    }
   ],
   "source": [
    "#nfl_skill.head()\n",
    "nfl_skill.shape"
   ]
  },
  {
   "cell_type": "markdown",
   "metadata": {},
   "source": [
    "Finally, I see there are two columns relating to position and I want to see difference."
   ]
  },
  {
   "cell_type": "code",
   "execution_count": 14,
   "metadata": {},
   "outputs": [
    {
     "name": "stdout",
     "output_type": "stream",
     "text": [
      "['WR' 'RB' 'FB' 'TE']\n",
      "['WR' 'RB' 'TE']\n"
     ]
    }
   ],
   "source": [
    "print(nfl_skill.POS.unique())\n",
    "print(nfl_skill.POS_AGG.unique())"
   ]
  },
  {
   "cell_type": "markdown",
   "metadata": {},
   "source": [
    "The only difference between the two columns is the inclusion of 'FB' which may be useful as initial thinking is that this position will score less than 'RB' as it focus more on blocking than running the football and often only used in to run ball in certain situations.\n",
    "\n",
    "For this reason, I will remove the 'POS_AGG' field from this analysis."
   ]
  },
  {
   "cell_type": "code",
   "execution_count": 15,
   "metadata": {},
   "outputs": [],
   "source": [
    "nfl_skill = nfl_skill.drop('POS_AGG', axis=1)"
   ]
  },
  {
   "cell_type": "markdown",
   "metadata": {},
   "source": [
    "### Game Setting Columns"
   ]
  },
  {
   "cell_type": "markdown",
   "metadata": {},
   "source": [
    "Next, I'm going to look at a few columns related to game setting and result to see what type of values they have stored in them."
   ]
  },
  {
   "cell_type": "code",
   "execution_count": 16,
   "metadata": {},
   "outputs": [
    {
     "name": "stdout",
     "output_type": "stream",
     "text": [
      "['Home' 'Away']\n",
      "['Open' 'Dome']\n",
      "['Grass' 'Turf']\n"
     ]
    }
   ],
   "source": [
    "print(nfl_skill['H/A'].unique())\n",
    "print(nfl_skill['ROOF'].unique())\n",
    "print(nfl_skill['SURFACE'].unique())"
   ]
  },
  {
   "cell_type": "markdown",
   "metadata": {},
   "source": [
    "As these columns have two variables in them, I would like to turn into booleans as True / False on whether one side of the attribute exists."
   ]
  },
  {
   "cell_type": "code",
   "execution_count": 17,
   "metadata": {},
   "outputs": [],
   "source": [
    "nfl_skill['Home'] = np.where(nfl_skill['H/A'] == 'Home', 1, 0)\n",
    "nfl_skill['Dome'] = np.where(nfl_skill['ROOF'] == 'Dome', 1, 0)\n",
    "nfl_skill['Grass'] = np.where(nfl_skill['SURFACE'] == 'Grass', 1, 0)\n",
    "\n",
    "#nfl_skill[['PLAYER_NAME', 'TEAM', 'Home', 'Dome', 'Grass']]"
   ]
  },
  {
   "cell_type": "markdown",
   "metadata": {},
   "source": [
    "### Game Result"
   ]
  },
  {
   "cell_type": "code",
   "execution_count": 18,
   "metadata": {},
   "outputs": [
    {
     "name": "stdout",
     "output_type": "stream",
     "text": [
      "['L' 'W' 'T']\n"
     ]
    }
   ],
   "source": [
    "print(nfl_skill['W/L'].unique())"
   ]
  },
  {
   "cell_type": "markdown",
   "metadata": {},
   "source": [
    "Game result column returns three outcomes - Win, Loss or Tie. Similar to above, I would like to turn these into booleans and will therefore create three new variables to underscore whether a team Won, Lost or Tied a game."
   ]
  },
  {
   "cell_type": "code",
   "execution_count": 19,
   "metadata": {},
   "outputs": [],
   "source": [
    "nfl_skill['Win'] = np.where(nfl_skill['W/L'] == 'W', 1, 0)\n",
    "nfl_skill['Loss'] = np.where(nfl_skill['W/L'] == 'L', 1, 0)\n",
    "nfl_skill['Tie'] = np.where(nfl_skill['W/L'] == 'T', 1, 0)\n",
    "\n",
    "#nfl_skill[['PLAYER_NAME', 'TEAM', 'Win', 'Loss', 'Tie']]"
   ]
  },
  {
   "cell_type": "markdown",
   "metadata": {},
   "source": [
    "Through the creation of these variables, I no longer think I require the 'H/A', 'ROOF', 'SURFACE', and 'W/L' columns so I will remove these from the dataset."
   ]
  },
  {
   "cell_type": "code",
   "execution_count": 20,
   "metadata": {},
   "outputs": [],
   "source": [
    "nfl_skill = nfl_skill.drop(['H/A', 'ROOF', 'SURFACE', 'W/L'], axis=1)"
   ]
  },
  {
   "cell_type": "markdown",
   "metadata": {},
   "source": [
    "### Time / Date\n",
    "\n",
    "Next I want to investigate the time/date related columns to see if any formatting is required here."
   ]
  },
  {
   "cell_type": "code",
   "execution_count": 21,
   "metadata": {},
   "outputs": [],
   "source": [
    "#print(nfl_skill['TIME'].unique())\n",
    "#print(nfl_skill['MONTH'].unique())\n",
    "#print(nfl_skill['WEEK'].unique())\n",
    "#print(nfl_skill['DAY'].unique())\n",
    "#print(nfl_skill['SEASON'].unique())"
   ]
  },
  {
   "cell_type": "markdown",
   "metadata": {},
   "source": [
    "I see that the 'WEEK' column includes the string 'Week' in every unique type. I would prefer this to be a number as this may allow me to sort the data by Week at a later stage if required."
   ]
  },
  {
   "cell_type": "code",
   "execution_count": 22,
   "metadata": {},
   "outputs": [],
   "source": [
    "nfl_skill['Week_Number'] = nfl_skill['WEEK'].apply(lambda x: x[4:]).astype(int)\n",
    "#nfl_skill['Week Number']"
   ]
  },
  {
   "cell_type": "markdown",
   "metadata": {},
   "source": [
    "#### Time & Date Value Counts\n",
    "\n",
    "I'm interested to see how the values vary across each time & date category type. "
   ]
  },
  {
   "cell_type": "code",
   "execution_count": 23,
   "metadata": {},
   "outputs": [],
   "source": [
    "#nfl_skill.TIME.value_counts()\n",
    "#nfl_skill.MONTH.value_counts()\n",
    "#nfl_skill.Week_Number.value_counts().sort_index()\n",
    "#nfl_skill.DAY.value_counts()\n",
    "#nfl_skill.SEASON.value_counts()"
   ]
  },
  {
   "cell_type": "code",
   "execution_count": 24,
   "metadata": {},
   "outputs": [
    {
     "data": {
      "image/png": "[encoded data removed]",
      "text/plain": [
       "<Figure size 432x288 with 1 Axes>"
      ]
     },
     "metadata": {
      "needs_background": "light"
     },
     "output_type": "display_data"
    }
   ],
   "source": [
    "# plt.hist(nfl_skill['TIME'])\n",
    "\n",
    "_ = nfl_skill['TIME'].value_counts().plot(kind='bar')\n",
    "_ = plt.xlabel('Time of Day')\n",
    "_ = plt.ylabel('Number of Players')\n",
    "_ = plt.title('Counts by Time of Day')\n",
    "\n",
    "plt.show()"
   ]
  },
  {
   "cell_type": "code",
   "execution_count": 25,
   "metadata": {},
   "outputs": [
    {
     "data": {
      "image/png": "[encoded data removed]",
      "text/plain": [
       "<Figure size 432x288 with 1 Axes>"
      ]
     },
     "metadata": {
      "needs_background": "light"
     },
     "output_type": "display_data"
    }
   ],
   "source": [
    "_ = nfl_skill['MONTH'].value_counts().plot(kind='bar')\n",
    "_ = plt.xlabel('Month')\n",
    "_ = plt.ylabel('Number of Players')\n",
    "_ = plt.title('Counts by Month')\n",
    "\n",
    "plt.show()"
   ]
  },
  {
   "cell_type": "code",
   "execution_count": 26,
   "metadata": {},
   "outputs": [
    {
     "data": {
      "image/png": "[encoded data removed]",
      "text/plain": [
       "<Figure size 432x288 with 1 Axes>"
      ]
     },
     "metadata": {
      "needs_background": "light"
     },
     "output_type": "display_data"
    }
   ],
   "source": [
    "_ = nfl_skill['DAY'].value_counts().sort_index().plot(kind='bar')\n",
    "_ = plt.xlabel('Day of Week')\n",
    "_ = plt.ylabel('Number of Players')\n",
    "_ = plt.title('Counts by Day of Week')\n",
    "\n",
    "plt.show()"
   ]
  },
  {
   "cell_type": "markdown",
   "metadata": {},
   "source": [
    "The above is interesting to see distribution of data across each of those categories. It highlights that:\n",
    "\n",
    "\n",
    "* Time: Most data points relate to games at Noon (11k), with Afternoon and Night counts following after. London and Mexico have only a few counts between them. \n",
    "\n",
    "* Month: December, Novermber and October have highest number of values which makes sense as games are played each week during these months. September is slightly lower as season starts in this month and January only has a few games at the end of a season before playoffs.\n",
    "\n",
    "* Week: Even distribution around per week.\n",
    "\n",
    "* Day: Majority of values on Sunday as this is main day of week for NFL games. Monday and Thursday usually have one game a week so this share makes sense. Only on rare occasion are there games on Saturday (0.4k). \n",
    "\n",
    "* Season: Evenly distributed per season as expected."
   ]
  },
  {
   "cell_type": "markdown",
   "metadata": {},
   "source": [
    "#### Fantasy Points by Time & Date Categories"
   ]
  },
  {
   "cell_type": "markdown",
   "metadata": {},
   "source": [
    "The aim of this project is to understand what determines a players fantasy performance in a given week. With this in mind, I decided to see how fanatsy performance varied by the time & date categories highlighted above."
   ]
  },
  {
   "cell_type": "code",
   "execution_count": 27,
   "metadata": {},
   "outputs": [],
   "source": [
    "#nfl_skill.groupby('TIME')['FAN_TOT'].mean()\n",
    "#nfl_skill.groupby('MONTH')['FAN_TOT'].mean()\n",
    "#nfl_skill.groupby('Week_Number')['FAN_TOT'].mean()\n",
    "#nfl_skill.groupby('DAY')['FAN_TOT'].mean()\n",
    "#nfl_skill.groupby('SEASON')['FAN_TOT'].mean()"
   ]
  },
  {
   "cell_type": "code",
   "execution_count": 28,
   "metadata": {},
   "outputs": [
    {
     "data": {
      "image/png": "[encoded data removed]",
      "text/plain": [
       "<Figure size 432x288 with 1 Axes>"
      ]
     },
     "metadata": {
      "needs_background": "light"
     },
     "output_type": "display_data"
    }
   ],
   "source": [
    "_ = nfl_skill.groupby('DAY')['FAN_TOT'].mean().sort_index().plot(kind='bar')\n",
    "_ = plt.xlabel('Day of Week')\n",
    "_ = plt.ylabel('Avg Fantasy Points')\n",
    "_ = plt.title('Avg Fantasy Points by Day of Week')\n",
    "\n",
    "plt.show()"
   ]
  },
  {
   "cell_type": "code",
   "execution_count": 29,
   "metadata": {},
   "outputs": [
    {
     "data": {
      "image/png": "[encoded data removed]",
      "text/plain": [
       "<Figure size 432x288 with 1 Axes>"
      ]
     },
     "metadata": {
      "needs_background": "light"
     },
     "output_type": "display_data"
    }
   ],
   "source": [
    "_ = nfl_skill.groupby('MONTH')['FAN_TOT'].mean().sort_index().plot(kind='bar')\n",
    "_ = plt.xlabel('Month')\n",
    "_ = plt.ylabel('Avg Fantasy Points')\n",
    "_ = plt.title('Avg Fantasy Points by Month')\n",
    "\n",
    "plt.show()"
   ]
  },
  {
   "cell_type": "markdown",
   "metadata": {},
   "source": [
    "The review above doesn't indicate any great change betweend the Date & Time variables. The only two mildy interesting observations were:\n",
    "\n",
    "* Day: Fantasy points seemed to be higher on Thursday and Saturdays. Might be interesting to see if this is true or small sample size.\n",
    "* Month: Fantasy points seemed to decline slightly as went from Autumn (Sept, Oct, Nov) to Winter (Dec, Jan)."
   ]
  },
  {
   "cell_type": "markdown",
   "metadata": {},
   "source": [
    "#### Date Column"
   ]
  },
  {
   "cell_type": "code",
   "execution_count": 30,
   "metadata": {},
   "outputs": [],
   "source": [
    "#print(nfl_skill['DATE'].unique())"
   ]
  },
  {
   "cell_type": "markdown",
   "metadata": {},
   "source": [
    "Wide variety of dates in 'yyyy-mm-dd' format."
   ]
  },
  {
   "cell_type": "code",
   "execution_count": 31,
   "metadata": {},
   "outputs": [],
   "source": [
    "#for x in nfl_skill.columns: print(x)"
   ]
  },
  {
   "cell_type": "markdown",
   "metadata": {},
   "source": [
    "## Fantasy Points"
   ]
  },
  {
   "cell_type": "markdown",
   "metadata": {},
   "source": [
    "The object of this project is to identify which factors influence the amount of fantasy points an NFL player scores in a given week. As this is the main variable of interest, I will look a bit further into understanding what influences it."
   ]
  },
  {
   "cell_type": "markdown",
   "metadata": {},
   "source": [
    "#### Distribution\n",
    "\n",
    "I'm going to start by looking at the distribution of fantasy points across the dataset using a histogram."
   ]
  },
  {
   "cell_type": "code",
   "execution_count": 32,
   "metadata": {},
   "outputs": [
    {
     "data": {
      "image/png": "[encoded data removed]",
      "text/plain": [
       "<Figure size 432x288 with 1 Axes>"
      ]
     },
     "metadata": {
      "needs_background": "light"
     },
     "output_type": "display_data"
    }
   ],
   "source": [
    "# Original code used but went with manual bins to allow easier explanation of data\n",
    "#_ = sns.distplot(nfl_skill[\"FAN_TOT\"], kde=False, bins=20, color='grey')\n",
    "\n",
    "fan_pt_bins = [-5, 0, 5, 10, 15, 20, 25, 30, 35, 40, 45, 50, 55]\n",
    "\n",
    "_ = sns.distplot(nfl_skill[\"FAN_TOT\"], kde=False, bins=fan_pt_bins, color='grey')\n",
    "_ = plt.xlabel('Fantasy Points')\n",
    "_ = plt.ylabel('Count')\n",
    "_ = plt.title('Fantasy Point Histogram')\n",
    "\n",
    "plt.show()"
   ]
  },
  {
   "cell_type": "markdown",
   "metadata": {},
   "source": [
    "The data indicates that there are a lot of relatively low values, with majority of data in the 0 to 5 fantasy points range."
   ]
  },
  {
   "cell_type": "markdown",
   "metadata": {},
   "source": [
    "However, there is no clear indication of the distribution type (maybe exponential?) and will need to test this further.\n",
    "\n",
    "To do this, I felt an Empirical Cumulative Distribution Function (ECDF) would show this more clearly. Below highlights the function to create this ECDF, followed by a plot showing the total fantasy point data distribution."
   ]
  },
  {
   "cell_type": "code",
   "execution_count": 33,
   "metadata": {},
   "outputs": [],
   "source": [
    "def ecdf(data):\n",
    "    \"\"\"Compute ECDF for a one-dimensional array of measurements.\"\"\"\n",
    "    # Number of data points: n\n",
    "    n = len(data)\n",
    "\n",
    "    # x-data for the ECDF: x\n",
    "    x = np.sort(data)\n",
    "\n",
    "    # y-data for the ECDF: y\n",
    "    y = np.arange(1, n+1) / n\n",
    "\n",
    "    return x, y"
   ]
  },
  {
   "cell_type": "code",
   "execution_count": 34,
   "metadata": {},
   "outputs": [
    {
     "data": {
      "image/png": "[encoded data removed]",
      "text/plain": [
       "<Figure size 432x288 with 1 Axes>"
      ]
     },
     "metadata": {
      "needs_background": "light"
     },
     "output_type": "display_data"
    }
   ],
   "source": [
    "# Compute ECDF\n",
    "x_fan, y_fan = ecdf(nfl_skill.FAN_TOT)\n",
    "\n",
    "# Generate plot\n",
    "_ = plt.plot(x_fan, y_fan, marker='.', linestyle='none')\n",
    "\n",
    "# Label the axes\n",
    "_ = plt.xlabel('Fantasy Points')\n",
    "_ = plt.ylabel('ECDF')\n",
    "_ = plt.title('Fantasy Point ECDF')\n",
    "\n",
    "# Display the plot\n",
    "plt.show()"
   ]
  },
  {
   "cell_type": "markdown",
   "metadata": {},
   "source": [
    "Next, we would like to test if this distribution follows a normal distribution.\n",
    "\n",
    "To do this, I will need to get the Mean and Standard Deviation of the Fantasy Points Data and use this to generate a Normal disribution. "
   ]
  },
  {
   "cell_type": "code",
   "execution_count": 35,
   "metadata": {},
   "outputs": [
    {
     "data": {
      "text/plain": [
       "count    20502.000000\n",
       "mean         6.093749\n",
       "std          6.368980\n",
       "min         -2.800000\n",
       "25%          1.500000\n",
       "50%          3.900000\n",
       "75%          8.800000\n",
       "max         50.800000\n",
       "Name: FAN_TOT, dtype: float64"
      ]
     },
     "execution_count": 35,
     "metadata": {},
     "output_type": "execute_result"
    }
   ],
   "source": [
    "nfl_skill['FAN_TOT'].describe()"
   ]
  },
  {
   "cell_type": "code",
   "execution_count": 36,
   "metadata": {},
   "outputs": [],
   "source": [
    "fan_pt_mean = np.mean(nfl_skill['FAN_TOT'])\n",
    "fan_pt_std = np.std(nfl_skill['FAN_TOT'])"
   ]
  },
  {
   "cell_type": "code",
   "execution_count": 37,
   "metadata": {},
   "outputs": [],
   "source": [
    "fan_pt_normdist = np.random.normal(fan_pt_mean, fan_pt_std, size=100000)"
   ]
  },
  {
   "cell_type": "markdown",
   "metadata": {},
   "source": [
    "I will then plot this on top of the previous ECDF to see if it follow the same distribution as a normal distribution."
   ]
  },
  {
   "cell_type": "code",
   "execution_count": 38,
   "metadata": {},
   "outputs": [
    {
     "data": {
      "image/png": "[encoded data removed]",
      "text/plain": [
       "<Figure size 432x288 with 1 Axes>"
      ]
     },
     "metadata": {
      "needs_background": "light"
     },
     "output_type": "display_data"
    }
   ],
   "source": [
    "# Generate Normal Distribution ECDF\n",
    "x_norm, y_norm = ecdf(fan_pt_normdist)\n",
    "\n",
    "# Generate plot\n",
    "_ = plt.plot(x_fan, y_fan, marker='.', linestyle='none')\n",
    "_ = plt.plot(x_norm, y_norm, marker='.', linestyle='none')\n",
    "\n",
    "# Label the axes\n",
    "_ = plt.xlabel('Fantasy Points')\n",
    "_ = plt.ylabel('ECDF')\n",
    "_ = plt.title('Actual vs Normal Distribution')\n",
    "\n",
    "# Add Legend\n",
    "_ = plt.legend(('Actual', 'Normal'), loc='lower right')\n",
    "\n",
    "# Display the plot\n",
    "plt.show()"
   ]
  },
  {
   "cell_type": "markdown",
   "metadata": {},
   "source": [
    "The above graph shows that the data does not seem to follow a normal distribution. To confirm this, I will test use normaltest() fucntion from scipy.stats"
   ]
  },
  {
   "cell_type": "code",
   "execution_count": 39,
   "metadata": {},
   "outputs": [
    {
     "data": {
      "text/plain": [
       "NormaltestResult(statistic=6794.396462755227, pvalue=0.0)"
      ]
     },
     "execution_count": 39,
     "metadata": {},
     "output_type": "execute_result"
    }
   ],
   "source": [
    "scipy.stats.normaltest(nfl_skill['FAN_TOT'])"
   ]
  },
  {
   "cell_type": "markdown",
   "metadata": {},
   "source": [
    "Since the null hypothesis of the normaltest() is that the data are normally distributed, the lower the p-value in the result of this test, the more likely the data are to be non-normal.\n",
    "\n",
    "Since the p-values is 0, regardless of what we pick for the significance level, our conclusion is that the data are not normally distributed."
   ]
  },
  {
   "cell_type": "markdown",
   "metadata": {},
   "source": [
    "#### Bootstrapping"
   ]
  },
  {
   "cell_type": "markdown",
   "metadata": {},
   "source": [
    "Without testing for other distribution types, we cannot assume a distribution for the Fantasy Point data. However, through boostrapping, we can estimate the distribution within certain confidence intervals."
   ]
  },
  {
   "cell_type": "markdown",
   "metadata": {},
   "source": [
    "First, I will create functions that will allow me to generate bootstrap replicates."
   ]
  },
  {
   "cell_type": "code",
   "execution_count": 40,
   "metadata": {},
   "outputs": [],
   "source": [
    "def bootstrap_replicate_1d(data, func):\n",
    "    \"\"\"Generate bootstrap replicate of 1D data.\"\"\"\n",
    "    bs_sample = np.random.choice(data, len(data))\n",
    "    return func(bs_sample)"
   ]
  },
  {
   "cell_type": "code",
   "execution_count": 41,
   "metadata": {},
   "outputs": [],
   "source": [
    "def draw_bs_reps(data, func, size=1):\n",
    "    \"\"\"Draw bootstrap replicates.\"\"\"\n",
    "\n",
    "    # Initialize array of replicates: bs_replicates\n",
    "    bs_replicates = np.empty(size)\n",
    "\n",
    "    # Generate replicates\n",
    "    for i in range(size):\n",
    "        bs_replicates[i] = bootstrap_replicate_1d(data, func)\n",
    "\n",
    "    return bs_replicates"
   ]
  },
  {
   "cell_type": "markdown",
   "metadata": {},
   "source": [
    "Now, I will use this function to randomly sample (with replacement) the 'FAN_TOT' column and calculate the mean 10,000 times."
   ]
  },
  {
   "cell_type": "code",
   "execution_count": 42,
   "metadata": {},
   "outputs": [],
   "source": [
    "bootstrap_dist = draw_bs_reps(nfl_skill['FAN_TOT'], np.mean, size=10000)"
   ]
  },
  {
   "cell_type": "markdown",
   "metadata": {},
   "source": [
    "This creates a sampling distribution as displayed in histogram below.\n",
    "\n",
    "The shape follows what would be expected according to the Central Limit Theorm in that the distribution of the sample mean tends toward a normal distribution with increased sample size, regardless of the orginal distribution."
   ]
  },
  {
   "cell_type": "code",
   "execution_count": 43,
   "metadata": {},
   "outputs": [
    {
     "data": {
      "image/png": "[encoded data removed]",
      "text/plain": [
       "<Figure size 432x288 with 1 Axes>"
      ]
     },
     "metadata": {
      "needs_background": "light"
     },
     "output_type": "display_data"
    }
   ],
   "source": [
    "_ = sns.distplot(bootstrap_dist, bins=50, kde=True, hist=True, norm_hist=True)\n",
    "#_ = plt.hist(FAN_ACTUAL_mean_bs_reps, bins=50, density=True)\n",
    "_ = plt.xlabel('Mean Actual Fantasy Points')\n",
    "_ = plt.ylabel('PDF')\n",
    "_ = plt.title('Bootstrap Distribution of Fantasy Point Mean')\n",
    "_ = plt.axvline(nfl_skill['FAN_TOT'].mean(), color='C1')\n",
    "\n",
    "plt.show()"
   ]
  },
  {
   "cell_type": "markdown",
   "metadata": {},
   "source": [
    "Next, we calculate the Confidence Interval of the sample distribution using the np.percentile() function."
   ]
  },
  {
   "cell_type": "code",
   "execution_count": 44,
   "metadata": {},
   "outputs": [
    {
     "name": "stdout",
     "output_type": "stream",
     "text": [
      "95% confidence interval = 6.0 to 6.18 points\n"
     ]
    }
   ],
   "source": [
    "conf_int = np.percentile(bootstrap_dist, [2.5, 97.5])\n",
    "print('95% confidence interval =', round(conf_int[0], 2), 'to', round(conf_int[1], 2), 'points')"
   ]
  },
  {
   "cell_type": "markdown",
   "metadata": {},
   "source": [
    "The 95% confidence interval is 6.01 to 6.18. This states that the 95% of the time in which its assumptions are correct, this interval will contain the true value.\n",
    "\n",
    "This is displayed in histogram chart below."
   ]
  },
  {
   "cell_type": "code",
   "execution_count": 45,
   "metadata": {},
   "outputs": [
    {
     "data": {
      "image/png": "[encoded data removed]",
      "text/plain": [
       "<Figure size 432x288 with 1 Axes>"
      ]
     },
     "metadata": {
      "needs_background": "light"
     },
     "output_type": "display_data"
    }
   ],
   "source": [
    "_ = sns.distplot(bootstrap_dist, bins=50, kde=True, hist=True, norm_hist=True)\n",
    "#_ = plt.hist(FAN_ACTUAL_mean_bs_reps, bins=50, density=True)\n",
    "_ = plt.xlabel('Mean Actual Fantasy Points')\n",
    "_ = plt.ylabel('PDF')\n",
    "_ = plt.title('Bootstrap Distribution of Fantasy Point Mean (w/ Confidence Intervals)')\n",
    "_ = plt.axvline(nfl_skill['FAN_TOT'].mean(), color='C1')\n",
    "_ = plt.axvline(conf_int[0], color='C5')\n",
    "_ = plt.axvline(conf_int[1], color='C5')\n",
    "\n",
    "plt.show()"
   ]
  },
  {
   "cell_type": "markdown",
   "metadata": {},
   "source": [
    "Another way to calculate this would be using the Margin of Error calculation."
   ]
  },
  {
   "cell_type": "code",
   "execution_count": 46,
   "metadata": {},
   "outputs": [
    {
     "ename": "NameError",
     "evalue": "name 'moe_boostrap_dist' is not defined",
     "output_type": "error",
     "traceback": [
      "\u001b[1;31m---------------------------------------------------------------------------\u001b[0m",
      "\u001b[1;31mNameError\u001b[0m                                 Traceback (most recent call last)",
      "\u001b[1;32m<ipython-input-46-5e873b150503>\u001b[0m in \u001b[0;36m<module>\u001b[1;34m\u001b[0m\n\u001b[0;32m      1\u001b[0m \u001b[0mmoe_bootstrap_dist\u001b[0m \u001b[1;33m=\u001b[0m \u001b[1;36m1.96\u001b[0m \u001b[1;33m*\u001b[0m \u001b[0mnp\u001b[0m\u001b[1;33m.\u001b[0m\u001b[0mstd\u001b[0m\u001b[1;33m(\u001b[0m\u001b[0mbootstrap_dist\u001b[0m\u001b[1;33m)\u001b[0m\u001b[1;33m\u001b[0m\u001b[1;33m\u001b[0m\u001b[0m\n\u001b[1;32m----> 2\u001b[1;33m \u001b[0mprint\u001b[0m\u001b[1;33m(\u001b[0m\u001b[1;34m'Margin of Error: '\u001b[0m\u001b[1;33m,\u001b[0m \u001b[0mround\u001b[0m\u001b[1;33m(\u001b[0m\u001b[0mmoe_boostrap_dist\u001b[0m\u001b[1;33m,\u001b[0m \u001b[1;36m2\u001b[0m\u001b[1;33m)\u001b[0m\u001b[1;33m)\u001b[0m\u001b[1;33m\u001b[0m\u001b[1;33m\u001b[0m\u001b[0m\n\u001b[0m",
      "\u001b[1;31mNameError\u001b[0m: name 'moe_boostrap_dist' is not defined"
     ]
    }
   ],
   "source": [
    "moe_bootstrap_dist = 1.96 * np.std(bootstrap_dist)\n",
    "print('Margin of Error: ', round(moe_boostrap_dist, 2))"
   ]
  },
  {
   "cell_type": "code",
   "execution_count": null,
   "metadata": {},
   "outputs": [],
   "source": [
    "mean_bootstrap_dist = np.mean(bootstrap_dist)\n",
    "print('Sample Mean: ', round(mean_bootstrap_dist, 2))"
   ]
  },
  {
   "cell_type": "code",
   "execution_count": null,
   "metadata": {},
   "outputs": [],
   "source": [
    "high_bootstrap_dist = mean_bootstrap_dist + moe_bootstrap_dist\n",
    "low_bootstrap_dist = mean_bootstrap_dist - moe_bootstrap_dist\n",
    "#print(low_bootstrap_dist, high_bootstrap_dist)"
   ]
  },
  {
   "cell_type": "markdown",
   "metadata": {},
   "source": [
    "This shows that an estimate for the 'FAN_TOT' could be written as:\n",
    "\n",
    "Estimate = 6.09 +/- 0.09"
   ]
  },
  {
   "cell_type": "markdown",
   "metadata": {},
   "source": [
    "#### Distribution by Position"
   ]
  },
  {
   "cell_type": "markdown",
   "metadata": {},
   "source": [
    "Next I wanted to see if this changed drastically by player position. I didn't think a histogram would be best way to graphically display this so decided to go with a kernel density estimation plot to show fantasy point distribution varied by position."
   ]
  },
  {
   "cell_type": "code",
   "execution_count": null,
   "metadata": {},
   "outputs": [],
   "source": [
    "_ = sns.kdeplot(nfl_skill[\"FAN_TOT\"], color='red', label='Total')\n",
    "_ = sns.kdeplot(nfl_skill[nfl_skill['POS'] =='RB'][\"FAN_TOT\"], color='blue', label='RB')\n",
    "_ = sns.kdeplot(nfl_skill[nfl_skill['POS'] =='WR'][\"FAN_TOT\"], color='green', label='WR')\n",
    "_ = sns.kdeplot(nfl_skill[nfl_skill['POS'] =='TE'][\"FAN_TOT\"], color='yellow', label='TE')\n",
    "_ = sns.kdeplot(nfl_skill[nfl_skill['POS'] =='FB'][\"FAN_TOT\"], color='brown', label='FB')\n",
    "\n",
    "_ = plt.xlabel('Fantasy Points')\n",
    "_ = plt.ylabel('% Share')\n",
    "_ = plt.title('KDE of Fantasy Points by Position')\n",
    "\n",
    "plt.show()"
   ]
  },
  {
   "cell_type": "code",
   "execution_count": null,
   "metadata": {},
   "outputs": [],
   "source": [
    "x_fan_RB, y_fan_RB = ecdf(nfl_skill[nfl_skill['POS'] =='RB'][\"FAN_TOT\"])\n",
    "x_fan_WR, y_fan_WR = ecdf(nfl_skill[nfl_skill['POS'] =='WR'][\"FAN_TOT\"])\n",
    "x_fan_TE, y_fan_TE = ecdf(nfl_skill[nfl_skill['POS'] =='TE'][\"FAN_TOT\"])\n",
    "x_fan_FB, y_fan_FB = ecdf(nfl_skill[nfl_skill['POS'] =='FB'][\"FAN_TOT\"])\n",
    "\n",
    "_ = plt.plot(x_fan_RB, y_fan_RB, marker='.', linestyle='none', color='blue')\n",
    "_ = plt.plot(x_fan_WR, y_fan_WR, marker='.', linestyle='none', color='green')\n",
    "_ = plt.plot(x_fan_TE, y_fan_TE, marker='.', linestyle='none', color='yellow')\n",
    "_ = plt.plot(x_fan_FB, y_fan_FB, marker='.', linestyle='none', color='brown')\n",
    "_ = plt.plot(x_norm, y_norm, marker='.', linestyle='none', color='red')\n",
    "\n",
    "_ = plt.xlabel('Fantasy Points')\n",
    "_ = plt.ylabel('ECDF')\n",
    "_ = plt.title('ECDF of Fantasy Points by Position')\n",
    "\n",
    "# Display the plot\n",
    "plt.show()"
   ]
  },
  {
   "cell_type": "markdown",
   "metadata": {},
   "source": [
    "This last ECDF seems to show clearly that RB position tends to have higher probability of scoring higher fantasy points, followed soon after by WR. TE and FB tend to be much lower scoring positions. \n",
    "\n",
    "However, similar to overall trend, none seem to have a Normal Distribution."
   ]
  },
  {
   "cell_type": "markdown",
   "metadata": {},
   "source": [
    "#### Outliers\n",
    "\n",
    "Next I wanted to look at the Fantasy Points data to see in more detail where the outliers in the data were and how this might be creating a right tail on the data.\n",
    "\n",
    "I will begin looking a simple summary statistics followed by investigating boxplots."
   ]
  },
  {
   "cell_type": "code",
   "execution_count": null,
   "metadata": {},
   "outputs": [],
   "source": [
    "#nfl_skill.FAN_TOT.describe()"
   ]
  },
  {
   "cell_type": "code",
   "execution_count": null,
   "metadata": {},
   "outputs": [],
   "source": [
    "_ = plt.boxplot(nfl_skill.FAN_TOT)\n",
    "_ = plt.xlabel('Total')\n",
    "_ = plt.ylabel('Fantasy Points')\n",
    "_ = plt.title('Fantasy Points (Boxplot)')\n",
    "_ = plt.tick_params(\n",
    "    axis='x',          # changes apply to the x-axis\n",
    "    which='both',      # both major and minor ticks are affected\n",
    "    bottom=False,      # ticks along the bottom edge are off\n",
    "    top=False,         # ticks along the top edge are off\n",
    "    labelbottom=False)\n",
    "\n",
    "plt.show()"
   ]
  },
  {
   "cell_type": "code",
   "execution_count": null,
   "metadata": {},
   "outputs": [],
   "source": [
    "_ = sns.boxplot(data=nfl_skill, x='POS', y='FAN_TOT')\n",
    "_ = plt.xlabel('Position')\n",
    "_ = plt.ylabel('Fantasy Points')\n",
    "_ = plt.title('Fantasy Points by Position (Boxplot)')\n",
    "\n",
    "plt.show()"
   ]
  },
  {
   "cell_type": "markdown",
   "metadata": {},
   "source": [
    "Outliers seem to be consistent across all position types and lean towards the higher values. However, I'm not of the view that these should be exclude as these are likely to be the most interesting (i.e. how do we know when a player is going to have I high scoring fantasy week). There is a larger number of low values that will need to be accounted for and will interesting to see if players who consistently score low, continue to do so - and the same with high scoring players."
   ]
  },
  {
   "cell_type": "markdown",
   "metadata": {},
   "source": [
    "## Exploratory Data Analysis"
   ]
  },
  {
   "cell_type": "code",
   "execution_count": null,
   "metadata": {},
   "outputs": [],
   "source": [
    "_ = plt.figure(figsize=(14, 12))\n",
    "_ = sns.heatmap(nfl_skill.corr(), linewidth=.1, cmap='icefire', annot=False)\n",
    "\n",
    "plt.show()"
   ]
  },
  {
   "cell_type": "markdown",
   "metadata": {},
   "source": [
    "There is currently one big issue with the dataset in that....\n",
    "\n",
    "#### There is going be strong correlation between raw stats (i.e. Rushing Yards, Receiving Yards, TDs) and fantasy stats (i.e. Fantasy Rushing points, Fantasty Receiving points, Fantasy TD points, Fantasy Total points) as they are dervived from one another.\n",
    "\n",
    "This means that the variables are not independent of each other."
   ]
  },
  {
   "cell_type": "markdown",
   "metadata": {},
   "source": [
    "To further develop and gain insight from this data we will need to:\n",
    "\n",
    "1) Tidy our data further by removing similar columns (i.e. 'RUSHYDS' and 'FAN_RUSHYDS')\n",
    "\n",
    "2) We will need to create new columns that provide us with a player's performance in the weeks before the game - not during it. We will do this by creating rolling averages."
   ]
  },
  {
   "cell_type": "markdown",
   "metadata": {},
   "source": [
    "### Removing Unnecessary Columns"
   ]
  },
  {
   "cell_type": "code",
   "execution_count": null,
   "metadata": {},
   "outputs": [],
   "source": [
    "fantasy_columns_drop = ['FAN_RUSHYDS', 'FAN_RUSHTD', 'FAN_FUMLST', 'FAN_RUSH_TOT', 'FAN_RECYDS', 'FAN_RECTD', 'FAN_REC_TOT']\n",
    "nfl_skill = nfl_skill.drop(fantasy_columns_drop, axis=1)"
   ]
  },
  {
   "cell_type": "code",
   "execution_count": null,
   "metadata": {},
   "outputs": [],
   "source": [
    "#nfl_skill.columns"
   ]
  },
  {
   "cell_type": "code",
   "execution_count": null,
   "metadata": {},
   "outputs": [],
   "source": [
    "new_column_names = {'FAN_RUSHYDS_100':'RUSHYDS_100',\n",
    "                    'FAN_RUSHYDS_200':'RUSHYDS_200', \n",
    "                    'FAN_RECYDS_100':'RECYDS_100', \n",
    "                    'FAN_RECYDS_200':'RECYDS_200'}"
   ]
  },
  {
   "cell_type": "code",
   "execution_count": null,
   "metadata": {},
   "outputs": [],
   "source": [
    "nfl_skill.rename(columns=new_column_names, inplace=True)\n",
    "#nfl_skill.columns"
   ]
  },
  {
   "cell_type": "markdown",
   "metadata": {},
   "source": [
    "### Rolling Average - Fantasy Points\n",
    "\n",
    "Next I want to create rolling average for the 'FAN_TOT' column that will allow me to use the previous 4-week average of 'FAN_TOT' as potential indicator of upcoming performance."
   ]
  },
  {
   "cell_type": "markdown",
   "metadata": {},
   "source": [
    "Realised that the 'DATE' field is not in a date format so I need to change this and likely sort my dataset according to date."
   ]
  },
  {
   "cell_type": "code",
   "execution_count": null,
   "metadata": {},
   "outputs": [],
   "source": [
    "nfl_skill['DATE'] = pd.to_datetime(nfl_skill['DATE'])"
   ]
  },
  {
   "cell_type": "code",
   "execution_count": null,
   "metadata": {},
   "outputs": [],
   "source": [
    "#nfl_skill.info()"
   ]
  },
  {
   "cell_type": "markdown",
   "metadata": {},
   "source": [
    "Sorting dataset by 'DATE' so that future calculations for rolling averages are done in the correct order"
   ]
  },
  {
   "cell_type": "code",
   "execution_count": null,
   "metadata": {},
   "outputs": [],
   "source": [
    "nfl_skill.sort_values(by='DATE', ascending=True, inplace=True)"
   ]
  },
  {
   "cell_type": "markdown",
   "metadata": {},
   "source": [
    "Below code is used to create a 4 week rolling average for Fantasy Points scored by each player"
   ]
  },
  {
   "cell_type": "code",
   "execution_count": null,
   "metadata": {},
   "outputs": [],
   "source": [
    "nfl_skill['FAN_4WK_AVG'] = nfl_skill.groupby('PLAYER_NAME')['FAN_TOT'].transform(lambda x: x.rolling(4, 1).mean())"
   ]
  },
  {
   "cell_type": "markdown",
   "metadata": {},
   "source": [
    "Below code is used as spot check to see if column was created as expected."
   ]
  },
  {
   "cell_type": "code",
   "execution_count": null,
   "metadata": {},
   "outputs": [],
   "source": [
    "#nfl_skill[nfl_skill['PLAYER_NAME']=='Calvin Ridley'][['PLAYER_NAME', 'DATE', 'FAN_TOT', 'FAN_4WK_AVG']]"
   ]
  },
  {
   "cell_type": "markdown",
   "metadata": {},
   "source": [
    "Now I want to move this 4 week average from previous game week to this week to understand how a players fantasy performance in the past three weeks corresponds to his performance in that week."
   ]
  },
  {
   "cell_type": "code",
   "execution_count": null,
   "metadata": {},
   "outputs": [],
   "source": [
    "nfl_skill['FAN_4WK_AVG_SHIFT'] = nfl_skill.groupby('PLAYER_NAME')['FAN_4WK_AVG'].shift()"
   ]
  },
  {
   "cell_type": "markdown",
   "metadata": {},
   "source": [
    "Below code is used as spot check to see if column was created as expected."
   ]
  },
  {
   "cell_type": "code",
   "execution_count": null,
   "metadata": {},
   "outputs": [],
   "source": [
    "#nfl_skill[nfl_skill['PLAYER_NAME']=='Adrian Peterson'][['PLAYER_NAME', 'DATE', 'FAN_TOT', 'FAN_4WK_AVG', 'FAN_4WK_AVG_SHIFT']]"
   ]
  },
  {
   "cell_type": "markdown",
   "metadata": {},
   "source": [
    "### Rolling Averages - Other Columns"
   ]
  },
  {
   "cell_type": "markdown",
   "metadata": {},
   "source": [
    "Next I want to create rolling averages for each of the main raw stats available, namely:\n",
    "\n",
    "* 'RUSHATT'\n",
    "* 'RUSHYDS'\n",
    "* 'RUSHTD'\n",
    "* 'TGTS'\n",
    "* 'REC'\n",
    "* 'RECYDS'\n",
    "* 'RECTDS'\n",
    "* 'FUM'\n",
    "* 'FUMLST'\n",
    "* 'RUSHYDS_100'\n",
    "* 'RUSHYDS_200'\n",
    "* 'RECYDS_100'\n",
    "* 'RECYDS_200'\n",
    "\n",
    "I will also create rolling averages for game data:\n",
    "* 'PTS_FOR'\n",
    "* 'PTS_AGT'\n",
    "* 'Win'\n",
    "* 'Loss'\n",
    "* 'Tie'"
   ]
  },
  {
   "cell_type": "code",
   "execution_count": null,
   "metadata": {},
   "outputs": [],
   "source": [
    "nfl_skill.sort_values(by='DATE', ascending=True, inplace=True)\n",
    "nfl_skill['RUSHATT_4WK_AVG'] = nfl_skill.groupby('PLAYER_NAME')['RUSHATT'].transform(lambda x: x.rolling(4, 1).mean())\n",
    "nfl_skill['RUSHATT_4WK_AVG_SHIFT'] = nfl_skill.groupby('PLAYER_NAME')['RUSHATT_4WK_AVG'].shift()"
   ]
  },
  {
   "cell_type": "code",
   "execution_count": null,
   "metadata": {},
   "outputs": [],
   "source": [
    "nfl_skill.sort_values(by='DATE', ascending=True, inplace=True)\n",
    "nfl_skill['RUSHYDS_4WK_AVG'] = nfl_skill.groupby('PLAYER_NAME')['RUSHYDS'].transform(lambda x: x.rolling(4, 1).mean())\n",
    "nfl_skill['RUSHYDS_4WK_AVG_SHIFT'] = nfl_skill.groupby('PLAYER_NAME')['RUSHYDS_4WK_AVG'].shift()"
   ]
  },
  {
   "cell_type": "code",
   "execution_count": null,
   "metadata": {},
   "outputs": [],
   "source": [
    "nfl_skill.sort_values(by='DATE', ascending=True, inplace=True)\n",
    "nfl_skill['RUSHTD_4WK_AVG'] = nfl_skill.groupby('PLAYER_NAME')['RUSHTD'].transform(lambda x: x.rolling(4, 1).mean())\n",
    "nfl_skill['RUSHTD_4WK_AVG_SHIFT'] = nfl_skill.groupby('PLAYER_NAME')['RUSHTD_4WK_AVG'].shift()"
   ]
  },
  {
   "cell_type": "code",
   "execution_count": null,
   "metadata": {},
   "outputs": [],
   "source": [
    "nfl_skill.sort_values(by='DATE', ascending=True, inplace=True)\n",
    "nfl_skill['TGTS_4WK_AVG'] = nfl_skill.groupby('PLAYER_NAME')['TGTS'].transform(lambda x: x.rolling(4, 1).mean())\n",
    "nfl_skill['TGTS_4WK_AVG_SHIFT'] = nfl_skill.groupby('PLAYER_NAME')['TGTS_4WK_AVG'].shift()"
   ]
  },
  {
   "cell_type": "code",
   "execution_count": null,
   "metadata": {},
   "outputs": [],
   "source": [
    "nfl_skill.sort_values(by='DATE', ascending=True, inplace=True)\n",
    "nfl_skill['REC_4WK_AVG'] = nfl_skill.groupby('PLAYER_NAME')['REC'].transform(lambda x: x.rolling(4, 1).mean())\n",
    "nfl_skill['REC_4WK_AVG_SHIFT'] = nfl_skill.groupby('PLAYER_NAME')['REC_4WK_AVG'].shift()"
   ]
  },
  {
   "cell_type": "code",
   "execution_count": null,
   "metadata": {},
   "outputs": [],
   "source": [
    "nfl_skill.sort_values(by='DATE', ascending=True, inplace=True)\n",
    "nfl_skill['RECYDS_4WK_AVG'] = nfl_skill.groupby('PLAYER_NAME')['RECYDS'].transform(lambda x: x.rolling(4, 1).mean())\n",
    "nfl_skill['RECYDS_4WK_AVG_SHIFT'] = nfl_skill.groupby('PLAYER_NAME')['RECYDS_4WK_AVG'].shift()"
   ]
  },
  {
   "cell_type": "code",
   "execution_count": null,
   "metadata": {},
   "outputs": [],
   "source": [
    "nfl_skill.sort_values(by='DATE', ascending=True, inplace=True)\n",
    "nfl_skill['RECTD_4WK_AVG'] = nfl_skill.groupby('PLAYER_NAME')['RECTD'].transform(lambda x: x.rolling(4, 1).mean())\n",
    "nfl_skill['RECTD_4WK_AVG_SHIFT'] = nfl_skill.groupby('PLAYER_NAME')['RECTD_4WK_AVG'].shift()"
   ]
  },
  {
   "cell_type": "code",
   "execution_count": null,
   "metadata": {},
   "outputs": [],
   "source": [
    "nfl_skill.sort_values(by='DATE', ascending=True, inplace=True)\n",
    "nfl_skill['FUM_4WK_AVG'] = nfl_skill.groupby('PLAYER_NAME')['FUM'].transform(lambda x: x.rolling(4, 1).mean())\n",
    "nfl_skill['FUM_4WK_AVG_SHIFT'] = nfl_skill.groupby('PLAYER_NAME')['FUM_4WK_AVG'].shift()"
   ]
  },
  {
   "cell_type": "code",
   "execution_count": null,
   "metadata": {},
   "outputs": [],
   "source": [
    "nfl_skill.sort_values(by='DATE', ascending=True, inplace=True)\n",
    "nfl_skill['FUMLST_4WK_AVG'] = nfl_skill.groupby('PLAYER_NAME')['FUMLST'].transform(lambda x: x.rolling(4, 1).mean())\n",
    "nfl_skill['FUMLST_4WK_AVG_SHIFT'] = nfl_skill.groupby('PLAYER_NAME')['FUMLST_4WK_AVG'].shift()"
   ]
  },
  {
   "cell_type": "code",
   "execution_count": null,
   "metadata": {},
   "outputs": [],
   "source": [
    "nfl_skill.sort_values(by='DATE', ascending=True, inplace=True)\n",
    "nfl_skill['RUSHYDS100_4WK_AVG'] = nfl_skill.groupby('PLAYER_NAME')['RUSHYDS_100'].transform(lambda x: x.rolling(4, 1).mean())\n",
    "nfl_skill['RUSHYDS100_4WK_AVG_SHIFT'] = nfl_skill.groupby('PLAYER_NAME')['RUSHYDS100_4WK_AVG'].shift()"
   ]
  },
  {
   "cell_type": "code",
   "execution_count": null,
   "metadata": {},
   "outputs": [],
   "source": [
    "nfl_skill.sort_values(by='DATE', ascending=True, inplace=True)\n",
    "nfl_skill['RUSHYDS200_4WK_AVG'] = nfl_skill.groupby('PLAYER_NAME')['RUSHYDS_200'].transform(lambda x: x.rolling(4, 1).mean())\n",
    "nfl_skill['RUSHYDS200_4WK_AVG_SHIFT'] = nfl_skill.groupby('PLAYER_NAME')['RUSHYDS200_4WK_AVG'].shift()"
   ]
  },
  {
   "cell_type": "code",
   "execution_count": null,
   "metadata": {},
   "outputs": [],
   "source": [
    "nfl_skill.sort_values(by='DATE', ascending=True, inplace=True)\n",
    "nfl_skill['RECYDS100_4WK_AVG'] = nfl_skill.groupby('PLAYER_NAME')['RECYDS_100'].transform(lambda x: x.rolling(4, 1).mean())\n",
    "nfl_skill['RECYDS100_4WK_AVG_SHIFT'] = nfl_skill.groupby('PLAYER_NAME')['RECYDS100_4WK_AVG'].shift()"
   ]
  },
  {
   "cell_type": "code",
   "execution_count": null,
   "metadata": {},
   "outputs": [],
   "source": [
    "nfl_skill.sort_values(by='DATE', ascending=True, inplace=True)\n",
    "nfl_skill['RECYDS200_4WK_AVG'] = nfl_skill.groupby('PLAYER_NAME')['RECYDS_200'].transform(lambda x: x.rolling(4, 1).mean())\n",
    "nfl_skill['RECYDS200_4WK_AVG_SHIFT'] = nfl_skill.groupby('PLAYER_NAME')['RECYDS200_4WK_AVG'].shift()"
   ]
  },
  {
   "cell_type": "code",
   "execution_count": null,
   "metadata": {},
   "outputs": [],
   "source": [
    "nfl_skill.sort_values(by='DATE', ascending=True, inplace=True)\n",
    "nfl_skill['PTSFOR_4WK_AVG'] = nfl_skill.groupby('PLAYER_NAME')['PTS_FOR'].transform(lambda x: x.rolling(4, 1).mean())\n",
    "nfl_skill['PTSFOR_4WK_AVG_SHIFT'] = nfl_skill.groupby('PLAYER_NAME')['PTSFOR_4WK_AVG'].shift()"
   ]
  },
  {
   "cell_type": "code",
   "execution_count": null,
   "metadata": {},
   "outputs": [],
   "source": [
    "nfl_skill.sort_values(by='DATE', ascending=True, inplace=True)\n",
    "nfl_skill['PTSAGT_4WK_AVG'] = nfl_skill.groupby('PLAYER_NAME')['PTS_AGT'].transform(lambda x: x.rolling(4, 1).mean())\n",
    "nfl_skill['PTSAGT_4WK_AVG_SHIFT'] = nfl_skill.groupby('PLAYER_NAME')['PTSAGT_4WK_AVG'].shift()"
   ]
  },
  {
   "cell_type": "code",
   "execution_count": null,
   "metadata": {},
   "outputs": [],
   "source": [
    "nfl_skill.sort_values(by='DATE', ascending=True, inplace=True)\n",
    "nfl_skill['LOSS_4WK_AVG'] = nfl_skill.groupby('PLAYER_NAME')['Loss'].transform(lambda x: x.rolling(4, 1).mean())\n",
    "nfl_skill['LOSS_4WK_AVG_SHIFT'] = nfl_skill.groupby('PLAYER_NAME')['LOSS_4WK_AVG'].shift()"
   ]
  },
  {
   "cell_type": "code",
   "execution_count": null,
   "metadata": {},
   "outputs": [],
   "source": [
    "nfl_skill.sort_values(by='DATE', ascending=True, inplace=True)\n",
    "nfl_skill['WIN_4WK_AVG'] = nfl_skill.groupby('PLAYER_NAME')['Win'].transform(lambda x: x.rolling(4, 1).mean())\n",
    "nfl_skill['WIN_4WK_AVG_SHIFT'] = nfl_skill.groupby('PLAYER_NAME')['WIN_4WK_AVG'].shift()"
   ]
  },
  {
   "cell_type": "code",
   "execution_count": null,
   "metadata": {},
   "outputs": [],
   "source": [
    "nfl_skill.sort_values(by='DATE', ascending=True, inplace=True)\n",
    "nfl_skill['TIE_4WK_AVG'] = nfl_skill.groupby('PLAYER_NAME')['Tie'].transform(lambda x: x.rolling(4, 1).mean())\n",
    "nfl_skill['TIE_4WK_AVG_SHIFT'] = nfl_skill.groupby('PLAYER_NAME')['TIE_4WK_AVG'].shift()"
   ]
  },
  {
   "cell_type": "markdown",
   "metadata": {},
   "source": [
    "### NaN values\n",
    "\n",
    "Because of the shift, we now have NaN values in our data - 973 rows or 4.7% of the dataset. There are a couple of options in how we could handle these values:\n",
    "\n",
    "1) We could drop these values as in a real life situations, we would have no information on a player's previous performance (as they would have not played a game) and therefore have no information to project performance from\n",
    "\n",
    "2) We could look to replace these values with the historic average performance of players in their first week playing\n",
    "\n",
    "For simplicity I will go with option 1 for this analysis. However, in future analysis, I would ideally like estimate the correct number to fill in these NaNs (i.e. average performance of WR in first week with no data) as outlined in option 2.\n",
    "\n",
    "It is also worth pointing out a this stage that, while we are looking at a 4-week average, the calculation is set to assume average of shorter periods until 4 weeks of data is available (i.e. Week 3 of player's first season will assume his average of first two weeks as three weeks of data is not available)."
   ]
  },
  {
   "cell_type": "code",
   "execution_count": null,
   "metadata": {},
   "outputs": [],
   "source": [
    "#nfl_skill.info()"
   ]
  },
  {
   "cell_type": "code",
   "execution_count": null,
   "metadata": {},
   "outputs": [],
   "source": [
    "nfl_skill.shape"
   ]
  },
  {
   "cell_type": "code",
   "execution_count": null,
   "metadata": {},
   "outputs": [],
   "source": [
    "nfl_skill = nfl_skill.dropna()"
   ]
  },
  {
   "cell_type": "code",
   "execution_count": null,
   "metadata": {},
   "outputs": [],
   "source": [
    "#nfl_skill.info()"
   ]
  },
  {
   "cell_type": "code",
   "execution_count": null,
   "metadata": {},
   "outputs": [],
   "source": [
    "nfl_skill.shape"
   ]
  },
  {
   "cell_type": "markdown",
   "metadata": {},
   "source": [
    "### Removing Unnecessary Columns\n",
    "\n",
    "After the creation of the columns we have 77! This is too many and although a lot of the columns have helped us shape the data they are no longer necessary. The next steps are to remove the variables we no longer need."
   ]
  },
  {
   "cell_type": "markdown",
   "metadata": {},
   "source": [
    "First I will remove the raw stats used to calculate rolling averages"
   ]
  },
  {
   "cell_type": "code",
   "execution_count": null,
   "metadata": {},
   "outputs": [],
   "source": [
    "raw_stat_list = ['RUSHATT', 'RUSHYDS', 'RUSHTD', 'RUSHYDS_100', 'RUSHYDS_200', 'FUM', 'FUMLST', 'TGTS', 'REC', 'RECYDS', 'RECTD', 'RECYDS_100', 'RECYDS_200', 'PTS_FOR', 'PTS_AGT', 'Win', 'Loss', 'Tie']\n",
    "nfl_skill = nfl_skill.drop(raw_stat_list, axis=1)"
   ]
  },
  {
   "cell_type": "markdown",
   "metadata": {},
   "source": [
    "Next I will remove the rollling averages before the shift"
   ]
  },
  {
   "cell_type": "code",
   "execution_count": null,
   "metadata": {},
   "outputs": [],
   "source": [
    "avg_4wk_list = ['RUSHATT_4WK_AVG', 'RUSHYDS_4WK_AVG', 'RUSHTD_4WK_AVG', 'RUSHYDS100_4WK_AVG', 'RUSHYDS200_4WK_AVG', 'FUM_4WK_AVG', 'FUMLST_4WK_AVG', 'TGTS_4WK_AVG', 'REC_4WK_AVG', 'RECYDS_4WK_AVG', 'RECTD_4WK_AVG', 'RECYDS100_4WK_AVG', 'RECYDS200_4WK_AVG', 'PTSFOR_4WK_AVG', 'PTSAGT_4WK_AVG', 'FAN_4WK_AVG', 'WIN_4WK_AVG', 'LOSS_4WK_AVG', 'TIE_4WK_AVG']\n",
    "nfl_skill = nfl_skill.drop(avg_4wk_list, axis=1)"
   ]
  },
  {
   "cell_type": "code",
   "execution_count": null,
   "metadata": {},
   "outputs": [],
   "source": [
    "nfl_skill.shape"
   ]
  },
  {
   "cell_type": "markdown",
   "metadata": {},
   "source": [
    "I will also remove the the columns that relate to the coaches for both the player's team and the opposition. This could very well be useful data to create insights but for the moment is outside the scope of this project."
   ]
  },
  {
   "cell_type": "code",
   "execution_count": null,
   "metadata": {},
   "outputs": [],
   "source": [
    "coach_list = ['HC', 'OC', 'DC', 'OPP HC', 'OPP OC', 'OPP DC']\n",
    "nfl_skill = nfl_skill.drop(coach_list, axis=1)"
   ]
  },
  {
   "cell_type": "code",
   "execution_count": null,
   "metadata": {},
   "outputs": [],
   "source": [
    "nfl_skill.shape"
   ]
  },
  {
   "cell_type": "markdown",
   "metadata": {},
   "source": [
    "Lastly, I'm going to rename the columns to make them easier to call going forward."
   ]
  },
  {
   "cell_type": "code",
   "execution_count": null,
   "metadata": {},
   "outputs": [],
   "source": [
    "new_column_names_2 = {'PLAYER_NAME':'PLAYER',\n",
    "                    'Home':'HOME',\n",
    "                    'Dome':'DOME',\n",
    "                    'Grass':'GRASS',\n",
    "                    'Week_Number':'WEEK_NUMBER',\n",
    "                    'FAN_TOT':'FAN_ACTUAL', \n",
    "                    'FAN_4WK_AVG_SHIFT':'FAN_AVG', \n",
    "                    'RUSHATT_4WK_AVG_SHIFT':'RUSHATT_AVG',\n",
    "                    'RUSHYDS_4WK_AVG_SHIFT':'RUSHYDS_AVG',\n",
    "                    'RUSHTD_4WK_AVG_SHIFT':'RUSHTD_AVG',\n",
    "                    'TGTS_4WK_AVG_SHIFT':'TGTS_AVG',\n",
    "                    'REC_4WK_AVG_SHIFT':'REC_AVG',\n",
    "                    'RECYDS_4WK_AVG_SHIFT':'RECYDS_AVG',\n",
    "                    'RECTD_4WK_AVG_SHIFT':'RECTD_AVG',\n",
    "                    'FUM_4WK_AVG_SHIFT':'FUM_AVG',\n",
    "                    'FUMLST_4WK_AVG_SHIFT':'FUMLST_AVG',\n",
    "                    'RUSHYDS100_4WK_AVG_SHIFT':'RUSHYDS100_AVG',\n",
    "                    'RUSHYDS200_4WK_AVG_SHIFT':'RUSHYDS200_AVG',\n",
    "                    'RECYDS100_4WK_AVG_SHIFT':'RECYDS100_AVG',\n",
    "                    'RECYDS200_4WK_AVG_SHIFT':'RECYDS200_AVG',\n",
    "                    'PTSFOR_4WK_AVG_SHIFT':'PTSFOR_AVG',\n",
    "                    'PTSAGT_4WK_AVG_SHIFT':'PTSAGT_AVG',\n",
    "                    'WIN_4WK_AVG_SHIFT':'WIN_AVG',\n",
    "                    'LOSS_4WK_AVG_SHIFT':'LOSS_AVG',\n",
    "                    'TIE_4WK_AVG_SHIFT':'TIE_AVG',}"
   ]
  },
  {
   "cell_type": "code",
   "execution_count": null,
   "metadata": {},
   "outputs": [],
   "source": [
    "nfl_skill.rename(columns=new_column_names_2, inplace=True)"
   ]
  },
  {
   "cell_type": "markdown",
   "metadata": {},
   "source": [
    "## Correlation"
   ]
  },
  {
   "cell_type": "code",
   "execution_count": null,
   "metadata": {},
   "outputs": [],
   "source": [
    "_ = plt.figure(figsize=(14, 12))\n",
    "_ = sns.heatmap(nfl_skill.corr(), linewidth=.1, cmap='summer', annot=False)\n",
    "\n",
    "plt.show()"
   ]
  },
  {
   "cell_type": "code",
   "execution_count": null,
   "metadata": {},
   "outputs": [],
   "source": [
    "_ = sns.pairplot(nfl_skill,  palette='Set1')\n",
    "plt.show()"
   ]
  },
  {
   "cell_type": "markdown",
   "metadata": {},
   "source": [
    "Our variable of interest is 'FAN_ACTUAL' and the above heatmap doesn't show that many strong correlations - 'FAN_AVG' being the strongest. Let's dig into this one a bit more before looking at other variables."
   ]
  },
  {
   "cell_type": "code",
   "execution_count": null,
   "metadata": {},
   "outputs": [],
   "source": [
    "_ = sns.jointplot(x='FAN_ACTUAL', y='FAN_AVG', data=nfl_skill, kind=\"reg\")\n",
    "plt.show()"
   ]
  },
  {
   "cell_type": "code",
   "execution_count": null,
   "metadata": {},
   "outputs": [],
   "source": [
    "print(np.corrcoef(nfl_skill['FAN_ACTUAL'], nfl_skill['FAN_AVG'])[0, 1])"
   ]
  },
  {
   "cell_type": "code",
   "execution_count": null,
   "metadata": {},
   "outputs": [],
   "source": [
    "#scipy.stats.pearsonr(nfl_skill['FAN_ACTUAL'], nfl_skill['FAN_AVG'])"
   ]
  },
  {
   "cell_type": "code",
   "execution_count": null,
   "metadata": {},
   "outputs": [],
   "source": [
    "_ = sns.relplot(data=nfl_skill, x='FAN_ACTUAL', y='FAN_AVG', hue='POS', col='POS')\n",
    "plt.show()"
   ]
  },
  {
   "cell_type": "code",
   "execution_count": null,
   "metadata": {},
   "outputs": [],
   "source": [
    "_ = sns.relplot(data=nfl_skill, x='FAN_ACTUAL', y='FAN_AVG', hue='TIME', col='TIME')\n",
    "plt.show()"
   ]
  },
  {
   "cell_type": "code",
   "execution_count": null,
   "metadata": {},
   "outputs": [],
   "source": [
    "_ = sns.relplot(data=nfl_skill, x='FAN_ACTUAL', y='FAN_AVG', hue='POS', col='POS')\n",
    "plt.show()"
   ]
  },
  {
   "cell_type": "code",
   "execution_count": null,
   "metadata": {},
   "outputs": [],
   "source": [
    "_ = sns.lmplot(data=nfl_skill, x='FAN_ACTUAL', y='FAN_AVG', hue='POS')\n",
    "plt.show()"
   ]
  },
  {
   "cell_type": "code",
   "execution_count": null,
   "metadata": {},
   "outputs": [],
   "source": [
    "_ = sns.lmplot(data=nfl_skill, x='FAN_ACTUAL', y='FAN_AVG', hue='POS', col='POS', markers='x')\n",
    "plt.show()"
   ]
  },
  {
   "cell_type": "code",
   "execution_count": null,
   "metadata": {},
   "outputs": [],
   "source": [
    "print('RB: ' + str(round(np.corrcoef(nfl_skill[nfl_skill['POS']=='RB']['FAN_ACTUAL'], nfl_skill[nfl_skill['POS']=='RB']['FAN_AVG'])[0, 1], 2)))\n",
    "print('WR: ' + str(round(np.corrcoef(nfl_skill[nfl_skill['POS']=='WR']['FAN_ACTUAL'], nfl_skill[nfl_skill['POS']=='WR']['FAN_AVG'])[0, 1], 2)))\n",
    "print('TE: ' + str(round(np.corrcoef(nfl_skill[nfl_skill['POS']=='TE']['FAN_ACTUAL'], nfl_skill[nfl_skill['POS']=='TE']['FAN_AVG'])[0, 1], 2)))\n",
    "print('FB: ' + str(round(np.corrcoef(nfl_skill[nfl_skill['POS']=='FB']['FAN_ACTUAL'], nfl_skill[nfl_skill['POS']=='FB']['FAN_AVG'])[0, 1], 2)))"
   ]
  },
  {
   "cell_type": "markdown",
   "metadata": {},
   "source": [
    "Data to date shows a moderate correlation between the previous 4-week average fantasy points for player and there upcoming performance, with this performance being strongest in RBs.\n",
    "\n",
    "Because of this strong performance in RBs, I will concentrate on their data for correlations between 'FAN_ACTUAL' and other 4 week averages that we gathered."
   ]
  },
  {
   "cell_type": "markdown",
   "metadata": {},
   "source": [
    "### RB Analysis"
   ]
  },
  {
   "cell_type": "code",
   "execution_count": null,
   "metadata": {},
   "outputs": [],
   "source": [
    "nfl_rb = nfl_skill[nfl_skill['POS']=='RB']"
   ]
  },
  {
   "cell_type": "code",
   "execution_count": null,
   "metadata": {},
   "outputs": [],
   "source": [
    "nfl_rb.shape"
   ]
  },
  {
   "cell_type": "code",
   "execution_count": null,
   "metadata": {},
   "outputs": [],
   "source": [
    "_ = plt.figure(figsize=(14, 12))\n",
    "_ = sns.heatmap(nfl_rb.corr(), linewidth=.1, cmap='autumn', annot=False)\n",
    "\n",
    "plt.show()"
   ]
  },
  {
   "cell_type": "code",
   "execution_count": null,
   "metadata": {},
   "outputs": [],
   "source": [
    "print('The correlation between Fantasy Points in a week and the 4-week average of the following statistics are: ')\n",
    "print('')\n",
    "print('Fantasy Points: ' + str(round(np.corrcoef(nfl_rb['FAN_ACTUAL'], nfl_rb['FAN_AVG'])[0, 1], 2)))\n",
    "print('Rushing Att: ' + str(round(np.corrcoef(nfl_rb['FAN_ACTUAL'], nfl_rb['RUSHATT_AVG'])[0, 1], 2)))\n",
    "print('Rushing Yds: ' + str(round(np.corrcoef(nfl_rb['FAN_ACTUAL'], nfl_rb['RUSHYDS_AVG'])[0, 1], 2)))\n",
    "print('Rushing TD: ' + str(round(np.corrcoef(nfl_rb['FAN_ACTUAL'], nfl_rb['RUSHTD_AVG'])[0, 1], 2)))\n",
    "print('Targets: ' + str(round(np.corrcoef(nfl_rb['FAN_ACTUAL'], nfl_rb['TGTS_AVG'])[0, 1], 2)))\n",
    "print('Rec: ' + str(round(np.corrcoef(nfl_rb['FAN_ACTUAL'], nfl_rb['REC_AVG'])[0, 1], 2)))\n",
    "print('Rec Yds: ' + str(round(np.corrcoef(nfl_rb['FAN_ACTUAL'], nfl_rb['RECYDS_AVG'])[0, 1], 2)))\n",
    "print('Rec TD: ' + str(round(np.corrcoef(nfl_rb['FAN_ACTUAL'], nfl_rb['RECTD_AVG'])[0, 1], 2)))\n",
    "print('100 yard Rush Games: ' + str(round(np.corrcoef(nfl_rb['FAN_ACTUAL'], nfl_rb['RUSHYDS100_AVG'])[0, 1], 2)))"
   ]
  },
  {
   "cell_type": "markdown",
   "metadata": {},
   "source": [
    "This analysis of correlation specific to RB shows that the 4-week rolling average for Rushing Att and Rushing Yds have a similar correlation to 'FAN_ACTUAL' as 4-week rolling average of Fantasy Points. This seems to indicate those two indicators may be the better predictors of RB fantasy performance (along with previous fantasy performance) when continuing our analysis."
   ]
  },
  {
   "cell_type": "code",
   "execution_count": null,
   "metadata": {},
   "outputs": [],
   "source": [
    "_ = sns.lmplot(data=nfl_rb, x='FAN_ACTUAL', y='FAN_AVG', hue='POS', palette='autumn', legend=False)\n",
    "_ = plt.xlabel('Fantasy Points')\n",
    "_ = plt.ylabel('Fantasy Points (4wk avg)')\n",
    "_ = plt.title('Fantasy Points (4wk average) relationship')\n",
    "plt.show()"
   ]
  },
  {
   "cell_type": "code",
   "execution_count": null,
   "metadata": {},
   "outputs": [],
   "source": [
    "_ = sns.lmplot(data=nfl_rb, x='FAN_ACTUAL', y='RUSHATT_AVG', hue='POS', palette='YlGn', legend=False)\n",
    "_ = plt.xlabel('Fantasy Points')\n",
    "_ = plt.ylabel('Rush Att (4wk avg)')\n",
    "_ = plt.title('Rush Att (4wk average) relationship')\n",
    "plt.show()"
   ]
  },
  {
   "cell_type": "code",
   "execution_count": null,
   "metadata": {},
   "outputs": [],
   "source": [
    "_ = sns.lmplot(data=nfl_rb, x='FAN_ACTUAL', y='RUSHYDS_AVG', hue='POS', palette='RdPu', legend=False)\n",
    "_ = plt.xlabel('Fantasy Points')\n",
    "_ = plt.ylabel('Rush Yds (4wk avg)')\n",
    "_ = plt.title('Rush Yds (4wk average) relationship')\n",
    "plt.show()"
   ]
  },
  {
   "cell_type": "markdown",
   "metadata": {},
   "source": [
    "### WR Analysis"
   ]
  },
  {
   "cell_type": "code",
   "execution_count": null,
   "metadata": {},
   "outputs": [],
   "source": [
    "nfl_wr = nfl_skill[nfl_skill['POS']=='WR']"
   ]
  },
  {
   "cell_type": "code",
   "execution_count": null,
   "metadata": {},
   "outputs": [],
   "source": [
    "nfl_wr.shape"
   ]
  },
  {
   "cell_type": "code",
   "execution_count": null,
   "metadata": {},
   "outputs": [],
   "source": [
    "_ = plt.figure(figsize=(14, 12))\n",
    "_ = sns.heatmap(nfl_wr.corr(), linewidth=.1, cmap='magma', annot=False)\n",
    "\n",
    "plt.show()"
   ]
  },
  {
   "cell_type": "code",
   "execution_count": null,
   "metadata": {},
   "outputs": [],
   "source": [
    "print('The correlation between Fantasy Points in a week and the 4-week average of the following statistics are: ')\n",
    "print('')\n",
    "print('Fantasy Points: ' + str(round(np.corrcoef(nfl_wr['FAN_ACTUAL'], nfl_wr['FAN_AVG'])[0, 1], 2)))\n",
    "print('Targets: ' + str(round(np.corrcoef(nfl_wr['FAN_ACTUAL'], nfl_wr['TGTS_AVG'])[0, 1], 2)))\n",
    "print('Rec: ' + str(round(np.corrcoef(nfl_wr['FAN_ACTUAL'], nfl_wr['REC_AVG'])[0, 1], 2)))\n",
    "print('Rec Yds: ' + str(round(np.corrcoef(nfl_wr['FAN_ACTUAL'], nfl_wr['RECYDS_AVG'])[0, 1], 2)))\n",
    "print('Rec TD: ' + str(round(np.corrcoef(nfl_wr['FAN_ACTUAL'], nfl_wr['RECTD_AVG'])[0, 1], 2)))\n",
    "print('100 yard Rec Games: ' + str(round(np.corrcoef(nfl_wr['FAN_ACTUAL'], nfl_wr['RECYDS100_AVG'])[0, 1], 2)))"
   ]
  },
  {
   "cell_type": "markdown",
   "metadata": {},
   "source": [
    "This analysis of correlation specific to WR shows that the 4-week rolling average for Targets, Receptions and Receiving Yds have a higher correlation to 'FAN_ACTUAL' than 4-week rolling average of Fantasy Points. This seems to indicate those three indicators may be the better predictors of WR fantasy performance when continuing our analysis, as well as previous fantasy performance."
   ]
  },
  {
   "cell_type": "markdown",
   "metadata": {},
   "source": [
    "### TE Analysis"
   ]
  },
  {
   "cell_type": "code",
   "execution_count": null,
   "metadata": {},
   "outputs": [],
   "source": [
    "nfl_te = nfl_skill[nfl_skill['POS']=='TE']"
   ]
  },
  {
   "cell_type": "code",
   "execution_count": null,
   "metadata": {},
   "outputs": [],
   "source": [
    "nfl_te.shape"
   ]
  },
  {
   "cell_type": "code",
   "execution_count": null,
   "metadata": {},
   "outputs": [],
   "source": [
    "_ = plt.figure(figsize=(14, 12))\n",
    "_ = sns.heatmap(nfl_te.corr(), linewidth=.1, cmap='vlag', annot=False)\n",
    "\n",
    "plt.show()"
   ]
  },
  {
   "cell_type": "code",
   "execution_count": null,
   "metadata": {},
   "outputs": [],
   "source": [
    "print('The correlation between Fantasy Points in a week and the 4-week average of the following statistics are: ')\n",
    "print('')\n",
    "print('Fantasy Points: ' + str(round(np.corrcoef(nfl_te['FAN_ACTUAL'], nfl_te['FAN_AVG'])[0, 1], 2)))\n",
    "print('Targets: ' + str(round(np.corrcoef(nfl_te['FAN_ACTUAL'], nfl_te['TGTS_AVG'])[0, 1], 2)))\n",
    "print('Rec: ' + str(round(np.corrcoef(nfl_te['FAN_ACTUAL'], nfl_te['REC_AVG'])[0, 1], 2)))\n",
    "print('Rec Yds: ' + str(round(np.corrcoef(nfl_te['FAN_ACTUAL'], nfl_te['RECYDS_AVG'])[0, 1], 2)))\n",
    "print('Rec TD: ' + str(round(np.corrcoef(nfl_te['FAN_ACTUAL'], nfl_te['RECTD_AVG'])[0, 1], 2)))\n",
    "print('100 yard Rec Games: ' + str(round(np.corrcoef(nfl_te['FAN_ACTUAL'], nfl_te['RECYDS100_AVG'])[0, 1], 2)))"
   ]
  },
  {
   "cell_type": "markdown",
   "metadata": {},
   "source": [
    "Similar to what was found with WRs, this analysis of correlation specific to TE shows that the 4-week rolling average for Targets, Receptions and Receiving Yds have a higher correlation to 'FAN_ACTUAL' than 4-week rolling average of Fantasy Points. This seems to indicate those three indicators may be the better predictors of TE fantasy performance when continuing our analysis, as well as previous fantasy performance."
   ]
  },
  {
   "cell_type": "markdown",
   "metadata": {},
   "source": [
    "## Hypothesis testing on Pearson coefficient"
   ]
  },
  {
   "cell_type": "markdown",
   "metadata": {},
   "source": [
    "As shown in the last section, 'FAN_ACTUAL' and 'FAN_AVG' have a positive correlation of 0.42"
   ]
  },
  {
   "cell_type": "code",
   "execution_count": null,
   "metadata": {},
   "outputs": [],
   "source": [
    "def pearson_r(x, y):\n",
    "    \"\"\"Compute Pearson correlation coefficient between two arrays.\"\"\"\n",
    "    # Compute correlation matrix: corr_mat\n",
    "    corr_mat = np.corrcoef(x, y)\n",
    "\n",
    "    # Return entry [0,1]\n",
    "    return corr_mat[0,1]"
   ]
  },
  {
   "cell_type": "code",
   "execution_count": null,
   "metadata": {},
   "outputs": [],
   "source": [
    "r_obs = pearson_r(nfl_skill['FAN_ACTUAL'], nfl_skill['FAN_AVG'])\n",
    "print(r_obs)"
   ]
  },
  {
   "cell_type": "markdown",
   "metadata": {},
   "source": [
    "#### Hypothesis"
   ]
  },
  {
   "cell_type": "markdown",
   "metadata": {},
   "source": [
    "However, this observed correlation may just be by chance and a player's average fantasy performance over the previous 4-weeks may be completely independent of their performance that week. To see if this is the case or not, I will need to test the null hypothesis that these values are independent of each other.\n",
    "\n",
    "__H0:__ Fantasy Performance in a given week ('FAN_ACTUAL') is independent and uncorrelated with a player's average performance over the prior 4 weeks ('FAN_AVG').\n",
    "\n",
    "__H1:__ Fantasy Performance in a given week ('FAN_ACTUAL') is correlated with a player's average performance over the prior 4 weeks ('FAN_AVG').\n",
    "\n",
    "For significance level, we will look for it at a 5% level."
   ]
  },
  {
   "cell_type": "markdown",
   "metadata": {},
   "source": [
    "#### Permutation Test"
   ]
  },
  {
   "cell_type": "markdown",
   "metadata": {},
   "source": [
    "Since the data of Fantasy Points is not normally distributed, it is best to use a *non-parametric* test here. This is simply a label for statistical tests used when the data aren't normally distributed. These tests are extraordinarily powerful due to how few assumptions we need to make.  "
   ]
  },
  {
   "cell_type": "markdown",
   "metadata": {},
   "source": [
    "To do this, I will permute the 'FAN_AVG' values and leave the 'FAN_ACTUAL' fixed. For each permutation, I will calculate the correlation coefficient and assess how many of the permutation replicates have a Pearson correlation greater than the observed one."
   ]
  },
  {
   "cell_type": "code",
   "execution_count": null,
   "metadata": {},
   "outputs": [],
   "source": [
    "perm_replicates = np.empty(10000)\n",
    "\n",
    "# Draw replicates\n",
    "for i in range(10000):\n",
    "    FAN_AVG_permuted = np.random.permutation(nfl_skill['FAN_AVG'])\n",
    "\n",
    "    # Compute Pearson correlation\n",
    "    perm_replicates[i] = pearson_r(nfl_skill['FAN_ACTUAL'], FAN_AVG_permuted)\n",
    "\n",
    "# Compute p-value: p\n",
    "p = np.sum(perm_replicates >= r_obs) / len(perm_replicates)\n",
    "print('p-val =', p)"
   ]
  },
  {
   "cell_type": "markdown",
   "metadata": {},
   "source": [
    "P-value of 0.0 shows that in the 10,000 permutations ran, none of them generated a correlation coefficient higher than the one obtained in the actual dataset. \n",
    "\n",
    "Because of this low value, we can reject the Null Hypothesis that Fantasy Performance in a given week ('FAN_ACTUAL') is independent and uncorrelated with a player's average performance over the prior 4 weeks ('FAN_AVG')."
   ]
  },
  {
   "cell_type": "markdown",
   "metadata": {},
   "source": [
    "## Conclusion"
   ]
  },
  {
   "cell_type": "markdown",
   "metadata": {},
   "source": [
    "The analysis has indicated a couple of interesting insights without being overally conclusive. Analysis so far has shown that:\n",
    "* __Time & Date:__ There is small variation in average fantasy performance based on Month of Year and Day of Game. Further analysis would be needed to confirm whether this is statisically relevant or not. \n",
    "* __Distribution:__ The distribution is not normally distributed and looks to have a right-tail that creates a large volume of lower values that may be impacting the ability to understand the true relationships in the dataset. This will need to be investigated further and accounted for in any model developed.\n",
    "* __Rolling Averages :__ Rolling averages were created to measure the 4-week rolling average of metrics prior to that weeks game. Two points that may need to be addressed going forward. \n",
    "    * Is 4-week the correct time period? This was abritrary number of weeks selected as starting point. This can be updated in further analysis to other week ranges to see what the best number of weeks is to create this average.\n",
    "    * It was assumed that until a player had 4 weeks worth of data that we assume a smaller week average (i.e. 2 week average) until the 4 weeks was attained. This may be skewing the analysis with higher averages.\n",
    "* __Correlations__: The strongest correlation with Fantasy Points (once rolling averages replaced actuals) was the previous 4-week average fantasy points. However, when this was broken down by position type it was found that:\n",
    "    * The previous 4-week average Rushing Attempts and Rushing Yards have a similar correlation with Fantasy Points as the previous 4-week average fantasy points for RBs.\n",
    "    * The previous 4-week average Targets, Recpetions and Receiving Yards have a higher correlation with Fantasy Points than the previous 4-week average fantasy points for WRs and TEs\n",
    "* __Hypothesis Test__: This showed that the relationship between the 4-week rolling average fantasy points and actual Fantasy Points is significant as Permutation Test generate a p-value of 0. \n",
    "    \n",
    "___Next Steps___\n",
    "\n",
    "The information in the analyis above indicates that using the 4-week rolling average of Fantasy Points could be a good predictor of Fantasy Points. However, any model will likely need to account for the position of a player and other variables such as Rushing Attempts, Rushing Yards, Targets, Receptions and Receiving Yards could also be good predictors depending on the position. \n",
    "\n",
    "Further analysis would also need to gain an understanding of the true distribution of the data and whether the rolling averages being used to date (4-weeks) are the best fit for the model or would another week period be more accurate.\n",
    " "
   ]
  }
 ],
 "metadata": {
  "kernelspec": {
   "display_name": "Python 3",
   "language": "python",
   "name": "python3"
  },
  "language_info": {
   "codemirror_mode": {
    "name": "ipython",
    "version": 3
   },
   "file_extension": ".py",
   "mimetype": "text/x-python",
   "name": "python",
   "nbconvert_exporter": "python",
   "pygments_lexer": "ipython3",
   "version": "3.8.5"
  }
 },
 "nbformat": 4,
 "nbformat_minor": 4
}
