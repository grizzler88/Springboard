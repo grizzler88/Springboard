{
  "nbformat": 4,
  "nbformat_minor": 0,
  "metadata": {
    "colab": {
      "name": "FantasyNFL_Capstone_Modelling (Updated v3).ipynb",
      "provenance": [],
      "collapsed_sections": [
        "tPqphUbWnh_h",
        "S2k0Dhg1AhS6",
        "eT7lDGay3w6w",
        "zVIDYK5FyVI3",
        "IZv53pN8yrkz",
        "GNoOn21-0ZBP",
        "nu4suFeODoNi",
        "0posDJxm4UUA",
        "vBIT6wzk4Prw",
        "kcCzcHqg8JWd",
        "6Uh0X6PNBefn",
        "RmPgCwv6G5bZ",
        "6N8UeKLlGq1G",
        "QbMtB4A1GMKu",
        "O75IRtsKGdYo",
        "6FQPusDCMO6H",
        "Lo8MJg2Tphsb",
        "2sbUoAIXmkeH",
        "jeXhA_7_pd8O",
        "KWy8Ec37rLjf",
        "YfcO6D4EpvM6",
        "u24GT_wn0B3C",
        "fonzLtn1EER3",
        "q0DlAfvi_mWg",
        "hQma4JMiA6yU",
        "kUuZnFHPSoFu",
        "ZrWboaPX4Mnd",
        "6AnuodXz0WWz",
        "7qybzYSTj4-i",
        "71IKjbAhhh4S",
        "Czpz_8xUeQ92",
        "EnwrxBzTeXU0",
        "i2o3QYqvQhqD",
        "5v3HrJhw1_AP",
        "yiwfxiBnrku6"
      ],
      "toc_visible": true,
      "authorship_tag": "ABX9TyM1EJ9osYXmdSE+rF6PRzo1",
      "include_colab_link": true
    },
    "kernelspec": {
      "display_name": "Python 3",
      "name": "python3"
    }
  },
  "cells": [
    {
      "cell_type": "markdown",
      "metadata": {
        "id": "view-in-github",
        "colab_type": "text"
      },
      "source": [
        "<a href=\"https://colab.research.google.com/github/grizzler88/Springboard/blob/master/Capstone%20-%20Fantasy%20Draft%20Strategy/FantasyNFL_Capstone_Modelling_(Updated_v3).ipynb\" target=\"_parent\"><img src=\"https://colab.research.google.com/assets/colab-badge.svg\" alt=\"Open In Colab\"/></a>"
      ]
    },
    {
      "cell_type": "markdown",
      "metadata": {
        "id": "pUp_-swjt-v4"
      },
      "source": [
        "# Capstone 1: Fantasy NFL (Modelling)"
      ]
    },
    {
      "cell_type": "markdown",
      "metadata": {
        "id": "xCBp8qMAuSGs"
      },
      "source": [
        "The next step for my Capstone project is to take my data from the preprocessing stage and use it to test out a number of models to see which performs best."
      ]
    },
    {
      "cell_type": "markdown",
      "metadata": {
        "id": "tPqphUbWnh_h"
      },
      "source": [
        "## Getting Started"
      ]
    },
    {
      "cell_type": "markdown",
      "metadata": {
        "id": "HnyZlBaZAXJC"
      },
      "source": [
        "### Import packages & load data"
      ]
    },
    {
      "cell_type": "code",
      "metadata": {
        "id": "1Ypq-wMAxGSw"
      },
      "source": [
        "import numpy as np\r\n",
        "import pandas as pd\r\n",
        "import matplotlib.pyplot as plt\r\n",
        "import seaborn as sns"
      ],
      "execution_count": 14,
      "outputs": []
    },
    {
      "cell_type": "code",
      "metadata": {
        "id": "bsZghOnjwo2T"
      },
      "source": [
        "X_train = pd.read_csv('X_train.csv')\r\n",
        "X_test = pd.read_csv('X_test.csv')\r\n",
        "y_train = pd.read_csv('y_train.csv')\r\n",
        "y_test = pd.read_csv('y_test.csv')\r\n",
        "#X_train_df = pd.read_csv('X_train_df.csv')\r\n",
        "#df.head()"
      ],
      "execution_count": 77,
      "outputs": []
    },
    {
      "cell_type": "markdown",
      "metadata": {
        "id": "S2k0Dhg1AhS6"
      },
      "source": [
        "### Review & Transform Data"
      ]
    },
    {
      "cell_type": "markdown",
      "metadata": {
        "id": "WColdp5xdPlw"
      },
      "source": [
        "#### Drop Columns"
      ]
    },
    {
      "cell_type": "markdown",
      "metadata": {
        "id": "Vp18uLyYytTh"
      },
      "source": [
        "Data has unnamed column 'Unnamed: 0' from import that is not of value and should be removed. "
      ]
    },
    {
      "cell_type": "code",
      "metadata": {
        "id": "eGReKajnYPc5"
      },
      "source": [
        "#X_train.head()\r\n",
        "#X_test.head()\r\n",
        "#y_train.head()\r\n",
        "#y_test.head()\r\n",
        "#X_train_df.head()"
      ],
      "execution_count": 16,
      "outputs": []
    },
    {
      "cell_type": "code",
      "metadata": {
        "id": "SBlhCn-vx7uj"
      },
      "source": [
        "X_train = X_train.drop(columns='Unnamed: 0')\r\n",
        "X_test = X_test.drop(columns='Unnamed: 0')\r\n",
        "y_train = y_train.drop(columns='Unnamed: 0')\r\n",
        "y_test = y_test.drop(columns='Unnamed: 0')\r\n",
        "#X_train_df = X_train_df.drop(columns='Unnamed: 0')"
      ],
      "execution_count": 78,
      "outputs": []
    },
    {
      "cell_type": "code",
      "metadata": {
        "id": "Yuy9Q8rhZXUP"
      },
      "source": [
        "#X_train.head()\r\n",
        "#X_test.head()\r\n",
        "#y_train.head()\r\n",
        "#y_test.head()\r\n",
        "#X_train_df.head()"
      ],
      "execution_count": 18,
      "outputs": []
    },
    {
      "cell_type": "markdown",
      "metadata": {
        "id": "RCVaZ7g2b-pm"
      },
      "source": [
        "#### Turn Data into Arrays"
      ]
    },
    {
      "cell_type": "markdown",
      "metadata": {
        "id": "R44aWY3CdJyC"
      },
      "source": [
        "Transform datasets into numpy arrays to allow them be used in modelling."
      ]
    },
    {
      "cell_type": "code",
      "metadata": {
        "id": "9MsIYC7OaXj0"
      },
      "source": [
        "X_cols = list(X_train.columns)\r\n",
        "#X_cols "
      ],
      "execution_count": 73,
      "outputs": []
    },
    {
      "cell_type": "code",
      "metadata": {
        "id": "ZcEkOV7BZ3eA"
      },
      "source": [
        "#X_train = np.array(X_train)\r\n",
        "#X_test = np.array(X_test)\r\n",
        "y_train = np.array(y_train).reshape(-1)\r\n",
        "y_test = np.array(y_test).reshape(-1)"
      ],
      "execution_count": 79,
      "outputs": []
    },
    {
      "cell_type": "code",
      "metadata": {
        "colab": {
          "base_uri": "https://localhost:8080/"
        },
        "id": "G4uJrNQy_ULT",
        "outputId": "2ef59332-a8c4-4314-c0a1-8262bea0a0de"
      },
      "source": [
        "print(X_train.shape)\r\n",
        "print(X_test.shape)\r\n",
        "print(y_train.shape)\r\n",
        "print(y_test.shape)"
      ],
      "execution_count": 80,
      "outputs": [
        {
          "output_type": "stream",
          "text": [
            "(16807, 19)\n",
            "(5603, 19)\n",
            "(16807,)\n",
            "(5603,)\n"
          ],
          "name": "stdout"
        }
      ]
    },
    {
      "cell_type": "markdown",
      "metadata": {
        "id": "fonzLtn1EER3"
      },
      "source": [
        "## Modelling"
      ]
    },
    {
      "cell_type": "markdown",
      "metadata": {
        "id": "9nJ55WuU-CYg"
      },
      "source": [
        "'FAN_ACTUAL' is the target variable of this analysis and is a continuous variable - for this reason we will be focused on Regression.\r\n",
        "\r\n",
        "With the above in mind, we will begin with simple regression models and look to expand on this once we get a sense of how the model is performing."
      ]
    },
    {
      "cell_type": "markdown",
      "metadata": {
        "id": "q0DlAfvi_mWg"
      },
      "source": [
        "### Linear Regression"
      ]
    },
    {
      "cell_type": "markdown",
      "metadata": {
        "id": "hQma4JMiA6yU"
      },
      "source": [
        "#### StatsModel OLS (Model 1)"
      ]
    },
    {
      "cell_type": "markdown",
      "metadata": {
        "id": "KuNpBgOuFA2B"
      },
      "source": [
        "For our initial model, we will use an OLS using StatsModel's OLS function. This provides us with some interesting results:\r\n",
        "\r\n",
        "* R-squared = 0.364 \r\n",
        "   * This suggest that the model currently explains 36.4% of the variance in our target variable 'FAN_ACTUAL'\r\n",
        "   * This drops slightly to 0.363 when we look R-squared adjusted which may suggest that some of the independent variable / features are not contributed to the model as hoped\r\n",
        "\r\n",
        "\r\n",
        "* F-statistic is significant \r\n",
        "  * This allows us to can reject the null that the coefficients in model are 0 and do not imporve the model's fit\r\n",
        "\r\n",
        "* Durbin-Watson of 2.047 \r\n",
        "  * Suggests the model does not suffer from Autocorrelation\r\n",
        "\r\n",
        "* Skew (1.12) and Kurtosis (5.82)\r\n",
        "  * This indicates that there is positive / right-hand skew to the data with outliers. This agrees with what we found out during our EDA.\r\n",
        "\r\n",
        "* Coefficients\r\n",
        "  * Large number of features are considered significant at 5% level including:   \r\n",
        "    * 'FAN_AVG', 'PASSCOMP_AVG', 'PASSYDS_300_AVG', 'RUSHATT_AVG', 'RUSHTD_AVG', 'FUMLST_AVG', 'TGTS_AVG', 'RECTD_AVG', 'RECTD_AVG', 'WIN/TIE_AVG', 'OPP_PTS_AGT_AVG', 'HOME', 'GRASS' (4.8%), 'POS_WR', 'MONTH_September'\r\n",
        "  * Some coefficients were not considered signicant including:\r\n",
        "    * 'DOME', 'SUNDAY', 'POS_TE', 'TIME_Night', 'TIME_Noon' \r\n",
        "\r\n",
        "* Mean Squared Error is 40.85\r\n",
        "\r\n"
      ]
    },
    {
      "cell_type": "code",
      "metadata": {
        "colab": {
          "base_uri": "https://localhost:8080/"
        },
        "id": "uGWp0R2-Cv9u",
        "outputId": "f6d51354-d7f6-4d38-c256-ba56d747367f"
      },
      "source": [
        "import statsmodels.api as sm\r\n",
        "\r\n",
        "X_train_OLS = pd.DataFrame(X_train, columns=X_cols)\r\n",
        "X_train_OLS = sm.add_constant(X_train_OLS)\r\n",
        "\r\n",
        "OLS = sm.OLS(y_train, X_train_OLS)\r\n",
        "OLS = OLS.fit()\r\n",
        "\r\n",
        "print(OLS.summary())"
      ],
      "execution_count": 22,
      "outputs": [
        {
          "output_type": "stream",
          "text": [
            "/usr/local/lib/python3.6/dist-packages/statsmodels/tools/_testing.py:19: FutureWarning: pandas.util.testing is deprecated. Use the functions in the public API at pandas.testing instead.\n",
            "  import pandas.util.testing as tm\n"
          ],
          "name": "stderr"
        },
        {
          "output_type": "stream",
          "text": [
            "                            OLS Regression Results                            \n",
            "==============================================================================\n",
            "Dep. Variable:                      y   R-squared:                       0.364\n",
            "Model:                            OLS   Adj. R-squared:                  0.363\n",
            "Method:                 Least Squares   F-statistic:                     504.7\n",
            "Date:                Thu, 11 Feb 2021   Prob (F-statistic):               0.00\n",
            "Time:                        20:51:48   Log-Likelihood:                -55023.\n",
            "No. Observations:               16807   AIC:                         1.101e+05\n",
            "Df Residuals:                   16787   BIC:                         1.102e+05\n",
            "Df Model:                          19                                         \n",
            "Covariance Type:            nonrobust                                         \n",
            "===================================================================================\n",
            "                      coef    std err          t      P>|t|      [0.025      0.975]\n",
            "-----------------------------------------------------------------------------------\n",
            "const               7.0974      0.258     27.496      0.000       6.591       7.603\n",
            "FAN_AVG             2.5052      0.149     16.862      0.000       2.214       2.796\n",
            "PASSCOMP_AVG        2.8980      0.146     19.827      0.000       2.612       3.184\n",
            "PASSYDS_300_AVG    -0.3702      0.079     -4.709      0.000      -0.524      -0.216\n",
            "RUSHATT_AVG         1.3402      0.101     13.318      0.000       1.143       1.537\n",
            "RUSHTD_AVG         -0.3119      0.077     -4.043      0.000      -0.463      -0.161\n",
            "FUMLST_AVG          0.2417      0.055      4.375      0.000       0.133       0.350\n",
            "TGTS_AVG            1.3400      0.087     15.334      0.000       1.169       1.511\n",
            "RECTD_AVG          -0.5715      0.077     -7.469      0.000      -0.722      -0.422\n",
            "WIN/TIE_AVG         0.2707      0.051      5.274      0.000       0.170       0.371\n",
            "OPP_PTS_AGT_AVG     0.3223      0.050      6.493      0.000       0.225       0.420\n",
            "HOME                0.6460      0.099      6.541      0.000       0.452       0.840\n",
            "DOME                0.1580      0.132      1.197      0.231      -0.101       0.417\n",
            "GRASS              -0.2402      0.119     -2.024      0.043      -0.473      -0.008\n",
            "SUNDAY             -0.0847      0.191     -0.444      0.657      -0.458       0.289\n",
            "POS_TE              0.0954      0.191      0.499      0.618      -0.279       0.470\n",
            "POS_WR              0.5373      0.183      2.934      0.003       0.178       0.896\n",
            "MONTH_September     0.3166      0.125      2.525      0.012       0.071       0.562\n",
            "TIME_Night         -0.1138      0.189     -0.602      0.547      -0.484       0.257\n",
            "TIME_Noon           0.0074      0.123      0.060      0.952      -0.233       0.248\n",
            "==============================================================================\n",
            "Omnibus:                     3473.284   Durbin-Watson:                   2.047\n",
            "Prob(Omnibus):                  0.000   Jarque-Bera (JB):             9094.934\n",
            "Skew:                           1.121   Prob(JB):                         0.00\n",
            "Kurtosis:                       5.822   Cond. No.                         12.4\n",
            "==============================================================================\n",
            "\n",
            "Warnings:\n",
            "[1] Standard Errors assume that the covariance matrix of the errors is correctly specified.\n"
          ],
          "name": "stdout"
        }
      ]
    },
    {
      "cell_type": "code",
      "metadata": {
        "id": "zRVS2mGQO2Ci"
      },
      "source": [
        "y_pred = OLS.predict(X_train_OLS)"
      ],
      "execution_count": 23,
      "outputs": []
    },
    {
      "cell_type": "code",
      "metadata": {
        "colab": {
          "base_uri": "https://localhost:8080/",
          "height": 279
        },
        "id": "s19eoZvZPMO-",
        "outputId": "3e4822da-c624-4dfa-88a6-dcc786b6eabf"
      },
      "source": [
        "_ = plt.scatter(x=y_train, y=y_pred)\r\n",
        "_ = plt.xlabel('Actual')\r\n",
        "_ = plt.ylabel('Predicted')\r\n",
        "\r\n",
        "plt.show()"
      ],
      "execution_count": 24,
      "outputs": [
        {
          "output_type": "display_data",
          "data": {
            "image/png": "[encoded data removed]",
            "text/plain": [
              "<Figure size 432x288 with 1 Axes>"
            ]
          },
          "metadata": {
            "tags": [],
            "needs_background": "light"
          }
        }
      ]
    },
    {
      "cell_type": "code",
      "metadata": {
        "colab": {
          "base_uri": "https://localhost:8080/"
        },
        "id": "N-hO3veDPgfM",
        "outputId": "a993079f-d9f5-4734-8061-203b638513ab"
      },
      "source": [
        "from sklearn.metrics import r2_score\r\n",
        "from sklearn.metrics import mean_squared_error,mean_absolute_error\r\n",
        "\r\n",
        "OLS_mse = mean_squared_error(y_train, y_pred)\r\n",
        "\r\n",
        "print('Mean Squared Error :',mean_squared_error(y_train, y_pred))"
      ],
      "execution_count": 25,
      "outputs": [
        {
          "output_type": "stream",
          "text": [
            "Mean Squared Error : 40.84581476745089\n"
          ],
          "name": "stdout"
        }
      ]
    },
    {
      "cell_type": "markdown",
      "metadata": {
        "id": "kUuZnFHPSoFu"
      },
      "source": [
        "#### StatsModel OLS (Model 2)"
      ]
    },
    {
      "cell_type": "markdown",
      "metadata": {
        "id": "1dvCFv1Z08z7"
      },
      "source": [
        "I repeated the OLS model but removed the non-significant features from the model to understand how this would impact on the model. This created the following result:\r\n",
        "\r\n",
        "* All coefficients are significant at 5% level\r\n",
        "\r\n",
        "* R-squared has dropped slightly to 0.363\r\n",
        "\r\n",
        "* Mean-squared error has increased to 40.85\r\n",
        "\r\n",
        "As both the R-squared and the MSE performed slightly worse in this model, we will not continue with this feature set going forward. "
      ]
    },
    {
      "cell_type": "code",
      "metadata": {
        "colab": {
          "base_uri": "https://localhost:8080/"
        },
        "id": "basf62mwRCli",
        "outputId": "a4b14aaf-ee98-49b3-d693-82eede9f3163"
      },
      "source": [
        "X_train_OLS = X_train_OLS.drop(columns=['DOME', 'SUNDAY', 'POS_TE', 'TIME_Night', 'TIME_Noon'])\r\n",
        "X_train_OLS = sm.add_constant(X_train_OLS)\r\n",
        "\r\n",
        "OLS = sm.OLS(y_train, X_train_OLS)\r\n",
        "OLS = OLS.fit()\r\n",
        "\r\n",
        "print(OLS.summary())"
      ],
      "execution_count": 27,
      "outputs": [
        {
          "output_type": "stream",
          "text": [
            "                            OLS Regression Results                            \n",
            "==============================================================================\n",
            "Dep. Variable:                      y   R-squared:                       0.363\n",
            "Model:                            OLS   Adj. R-squared:                  0.363\n",
            "Method:                 Least Squares   F-statistic:                     685.0\n",
            "Date:                Thu, 11 Feb 2021   Prob (F-statistic):               0.00\n",
            "Time:                        21:04:50   Log-Likelihood:                -55025.\n",
            "No. Observations:               16807   AIC:                         1.101e+05\n",
            "Df Residuals:                   16792   BIC:                         1.102e+05\n",
            "Df Model:                          14                                         \n",
            "Covariance Type:            nonrobust                                         \n",
            "===================================================================================\n",
            "                      coef    std err          t      P>|t|      [0.025      0.975]\n",
            "-----------------------------------------------------------------------------------\n",
            "const               7.1293      0.106     67.555      0.000       6.922       7.336\n",
            "FAN_AVG             2.5084      0.148     16.907      0.000       2.218       2.799\n",
            "PASSCOMP_AVG        2.8825      0.143     20.153      0.000       2.602       3.163\n",
            "PASSYDS_300_AVG    -0.3682      0.079     -4.688      0.000      -0.522      -0.214\n",
            "RUSHATT_AVG         1.3174      0.089     14.837      0.000       1.143       1.491\n",
            "RUSHTD_AVG         -0.3122      0.077     -4.047      0.000      -0.463      -0.161\n",
            "FUMLST_AVG          0.2409      0.055      4.361      0.000       0.133       0.349\n",
            "TGTS_AVG            1.3456      0.086     15.569      0.000       1.176       1.515\n",
            "RECTD_AVG          -0.5707      0.076     -7.463      0.000      -0.721      -0.421\n",
            "WIN/TIE_AVG         0.2686      0.051      5.282      0.000       0.169       0.368\n",
            "OPP_PTS_AGT_AVG     0.3240      0.049      6.553      0.000       0.227       0.421\n",
            "HOME                0.6467      0.099      6.550      0.000       0.453       0.840\n",
            "GRASS              -0.3123      0.099     -3.144      0.002      -0.507      -0.118\n",
            "POS_WR              0.4745      0.130      3.656      0.000       0.220       0.729\n",
            "MONTH_September     0.3169      0.125      2.529      0.011       0.071       0.563\n",
            "==============================================================================\n",
            "Omnibus:                     3472.367   Durbin-Watson:                   2.046\n",
            "Prob(Omnibus):                  0.000   Jarque-Bera (JB):             9093.754\n",
            "Skew:                           1.120   Prob(JB):                         0.00\n",
            "Kurtosis:                       5.822   Cond. No.                         7.66\n",
            "==============================================================================\n",
            "\n",
            "Warnings:\n",
            "[1] Standard Errors assume that the covariance matrix of the errors is correctly specified.\n"
          ],
          "name": "stdout"
        }
      ]
    },
    {
      "cell_type": "code",
      "metadata": {
        "id": "K8BVsYFtSVLR"
      },
      "source": [
        "y_pred = OLS.predict(X_train_OLS)"
      ],
      "execution_count": 28,
      "outputs": []
    },
    {
      "cell_type": "code",
      "metadata": {
        "colab": {
          "base_uri": "https://localhost:8080/",
          "height": 279
        },
        "id": "IahUB2XGSYzN",
        "outputId": "018b5ad8-67bd-4912-b49b-72ec53e52450"
      },
      "source": [
        "_ = plt.scatter(x=y_train, y=y_pred)\r\n",
        "_ = plt.xlabel('Actual')\r\n",
        "_ = plt.ylabel('Predicted')\r\n",
        "\r\n",
        "plt.show()"
      ],
      "execution_count": 29,
      "outputs": [
        {
          "output_type": "display_data",
          "data": {
            "image/png": "[encoded data removed]",
            "text/plain": [
              "<Figure size 432x288 with 1 Axes>"
            ]
          },
          "metadata": {
            "tags": [],
            "needs_background": "light"
          }
        }
      ]
    },
    {
      "cell_type": "code",
      "metadata": {
        "colab": {
          "base_uri": "https://localhost:8080/"
        },
        "id": "w25Ltaw6SeSb",
        "outputId": "5f975157-fe9b-4947-dc1f-2c837e47d82a"
      },
      "source": [
        "OLS_mse = mean_squared_error(y_train, y_pred)\r\n",
        "\r\n",
        "print('Mean Squared Error :',mean_squared_error(y_train, y_pred))"
      ],
      "execution_count": 30,
      "outputs": [
        {
          "output_type": "stream",
          "text": [
            "Mean Squared Error : 40.851023199181554\n"
          ],
          "name": "stdout"
        }
      ]
    },
    {
      "cell_type": "markdown",
      "metadata": {
        "id": "ZrWboaPX4Mnd"
      },
      "source": [
        "#### Skearn Linear Regression"
      ]
    },
    {
      "cell_type": "markdown",
      "metadata": {
        "id": "-sE49n_65nCN"
      },
      "source": [
        "Finally, we will apply this linear regression using sklearn. This is the same OLS estimator as StatsModel but does not give as detail a summary table as available there.\r\n",
        "\r\n",
        "Running the model below shows the estimator gets the same R-squared and MSE as our intial model."
      ]
    },
    {
      "cell_type": "code",
      "metadata": {
        "colab": {
          "base_uri": "https://localhost:8080/"
        },
        "id": "VkNXAsyW4fhh",
        "outputId": "0e9121a4-ba87-49ac-e768-4923f387953d"
      },
      "source": [
        "from sklearn.linear_model import LinearRegression\r\n",
        "\r\n",
        "lm_model = LinearRegression()\r\n",
        "lm_model.fit(X_train, y_train)\r\n",
        "\r\n",
        "y_pred = lm_model.predict(X_train)\r\n",
        "\r\n",
        "lm_mse = mean_squared_error(y_train, y_pred)\r\n",
        "lm_r2 = r2_score(y_train, y_pred)\r\n",
        "\r\n",
        "print('R-squared :', round(r2_score(y_train, y_pred), 2))\r\n",
        "print('Mean Squared Error :', round(mean_squared_error(y_train, y_pred), 2))"
      ],
      "execution_count": 31,
      "outputs": [
        {
          "output_type": "stream",
          "text": [
            "R-squared : 0.36\n",
            "Mean Squared Error : 40.85\n"
          ],
          "name": "stdout"
        }
      ]
    },
    {
      "cell_type": "code",
      "metadata": {
        "colab": {
          "base_uri": "https://localhost:8080/"
        },
        "id": "DBq3MUxEbY8g",
        "outputId": "faac703d-5e46-4647-a48a-0ddf78203816"
      },
      "source": [
        "from sklearn.model_selection import cross_val_score\r\n",
        "\r\n",
        "cv_scores_train= cross_val_score(lm_model, X_train ,y_train ,cv=5 ,scoring='neg_mean_squared_error')\r\n",
        "\r\n",
        "#print(cv_scores_train)\r\n",
        "print('Mean Squared Error (CV mean) :', round(abs(cv_scores_train.mean()), 2))\r\n",
        "print('Mean Squared Error (CV STD) :', round(cv_scores_train.std(), 2))\r\n",
        "\r\n",
        "lm_mse_cv = cv_scores_train.mean()"
      ],
      "execution_count": 32,
      "outputs": [
        {
          "output_type": "stream",
          "text": [
            "Mean Squared Error (CV mean) : 41.0\n",
            "Mean Squared Error (CV STD) : 1.35\n"
          ],
          "name": "stdout"
        }
      ]
    },
    {
      "cell_type": "code",
      "metadata": {
        "colab": {
          "base_uri": "https://localhost:8080/",
          "height": 295
        },
        "id": "qF8-wBHLCX5W",
        "outputId": "10ddd5ea-dd2a-47ec-f1bf-58c33bb4c965"
      },
      "source": [
        "_ = plt.scatter(y_train, y_pred)\r\n",
        "_ = plt.xlabel('Actual')\r\n",
        "_ = plt.ylabel('Predicted')\r\n",
        "_ = plt.title('Actual vs Predicted')\r\n",
        "\r\n",
        "plt.show()"
      ],
      "execution_count": 33,
      "outputs": [
        {
          "output_type": "display_data",
          "data": {
            "image/png": "[encoded data removed]",
            "text/plain": [
              "<Figure size 432x288 with 1 Axes>"
            ]
          },
          "metadata": {
            "tags": [],
            "needs_background": "light"
          }
        }
      ]
    },
    {
      "cell_type": "markdown",
      "metadata": {
        "id": "6AnuodXz0WWz"
      },
      "source": [
        "### SGD Regressor"
      ]
    },
    {
      "cell_type": "markdown",
      "metadata": {
        "id": "7qybzYSTj4-i"
      },
      "source": [
        "#### Simple SGD Regressor"
      ]
    },
    {
      "cell_type": "markdown",
      "metadata": {
        "id": "TNHe84h8BaDG"
      },
      "source": [
        "Next I will look to apply a Stochastic Gradient Descent (SGD) Regressor model to the data. \r\n",
        "\r\n",
        "This is a linear model that is fitted by minimizing a regularized empirical loss with SGD - the gradient of the loss is estimated each sample at a time and the model is updated along the way with a decreasing strength schedule (aka learning rate)."
      ]
    },
    {
      "cell_type": "code",
      "metadata": {
        "colab": {
          "base_uri": "https://localhost:8080/"
        },
        "id": "at8XncM-0bYS",
        "outputId": "c517e8e8-27fc-4cec-e790-a1b528a6d2f5"
      },
      "source": [
        "from sklearn.linear_model import SGDRegressor\r\n",
        "\r\n",
        "sgd_model = SGDRegressor(random_state=42)\r\n",
        "sgd_model.fit(X_train, y_train)"
      ],
      "execution_count": 34,
      "outputs": [
        {
          "output_type": "execute_result",
          "data": {
            "text/plain": [
              "SGDRegressor(alpha=0.0001, average=False, early_stopping=False, epsilon=0.1,\n",
              "             eta0=0.01, fit_intercept=True, l1_ratio=0.15,\n",
              "             learning_rate='invscaling', loss='squared_loss', max_iter=1000,\n",
              "             n_iter_no_change=5, penalty='l2', power_t=0.25, random_state=42,\n",
              "             shuffle=True, tol=0.001, validation_fraction=0.1, verbose=0,\n",
              "             warm_start=False)"
            ]
          },
          "metadata": {
            "tags": []
          },
          "execution_count": 34
        }
      ]
    },
    {
      "cell_type": "code",
      "metadata": {
        "colab": {
          "base_uri": "https://localhost:8080/"
        },
        "id": "DdgJs1QcCNJi",
        "outputId": "d6aef733-9173-4cdf-9517-4ec68c22123d"
      },
      "source": [
        "y_pred = sgd_model.predict(X_train)\r\n",
        "\r\n",
        "sgd_mse = mean_squared_error(y_train, y_pred)\r\n",
        "sgd_r2 = r2_score(y_train, y_pred)\r\n",
        "\r\n",
        "print('R-squared :', round(r2_score(y_train, y_pred), 2))\r\n",
        "print('Mean Squared Error :', round(mean_squared_error(y_train, y_pred), 2))"
      ],
      "execution_count": 35,
      "outputs": [
        {
          "output_type": "stream",
          "text": [
            "R-squared : 0.36\n",
            "Mean Squared Error : 40.88\n"
          ],
          "name": "stdout"
        }
      ]
    },
    {
      "cell_type": "code",
      "metadata": {
        "colab": {
          "base_uri": "https://localhost:8080/"
        },
        "id": "QG9pmTQ1ec2D",
        "outputId": "c551e57a-7cd3-4b19-b11b-cb66061e3590"
      },
      "source": [
        "cv_scores_train= cross_val_score(sgd_model, X_train ,y_train ,cv=5 ,scoring='neg_mean_squared_error')\r\n",
        "\r\n",
        "#print(cv_scores_train)\r\n",
        "print('Mean Squared Error (CV mean) :', round(abs(cv_scores_train.mean()), 2))\r\n",
        "print('Mean Squared Error (CV STD) :', round(cv_scores_train.std(), 2))\r\n",
        "\r\n",
        "sgd_mse_cv = cv_scores_train.mean()"
      ],
      "execution_count": 36,
      "outputs": [
        {
          "output_type": "stream",
          "text": [
            "Mean Squared Error (CV mean) : 41.15\n",
            "Mean Squared Error (CV STD) : 1.35\n"
          ],
          "name": "stdout"
        }
      ]
    },
    {
      "cell_type": "code",
      "metadata": {
        "colab": {
          "base_uri": "https://localhost:8080/",
          "height": 295
        },
        "id": "Pd-KxbES44nJ",
        "outputId": "de0681ef-beba-4cd1-c963-0e07a548f70d"
      },
      "source": [
        "_ = plt.scatter(y_train, y_pred)\r\n",
        "_ = plt.xlabel('Actual')\r\n",
        "_ = plt.ylabel('Predicted')\r\n",
        "_ = plt.title('Actual vs Predicted')\r\n",
        "\r\n",
        "plt.show()"
      ],
      "execution_count": 37,
      "outputs": [
        {
          "output_type": "display_data",
          "data": {
            "image/png": "[encoded data removed]",
            "text/plain": [
              "<Figure size 432x288 with 1 Axes>"
            ]
          },
          "metadata": {
            "tags": [],
            "needs_background": "light"
          }
        }
      ]
    },
    {
      "cell_type": "markdown",
      "metadata": {
        "id": "x8MmnVpjj_Yk"
      },
      "source": [
        "#### SGD Regressor with Cross Validation"
      ]
    },
    {
      "cell_type": "markdown",
      "metadata": {
        "id": "xUewSQ6TjrBc"
      },
      "source": [
        "The last SGD model was fitted with default values used for the majority of the parameters. With the aim of improving the performance of this model, I will look to use cross-validation to test out the performance of the model across several parameters including:\r\n",
        "* Loss function\r\n",
        "* Regularisation penalty\r\n",
        "* Regularisation value (alpha)\r\n",
        "* Learning rate\r\n",
        "* Initial Learning Rate\r\n",
        "\r\n",
        "However, despite this hyperparameter tuning, there is little improvement in performance with MSE and R-squared remaining at similar levels.\r\n"
      ]
    },
    {
      "cell_type": "code",
      "metadata": {
        "id": "Zn6hTizuOEGl"
      },
      "source": [
        "loss = ['squared_loss', 'huber', 'epsilon_insensitive', 'squared_epsilon_insensitive']\r\n",
        "penalty = ['l1', 'l2', 'elasticnet']\r\n",
        "alpha = [0.0001, 0.001, 0.01, 0.1, 1, 10, 100, 1000]\r\n",
        "learning_rate = ['constant', 'optimal', 'invscaling', 'adaptive']\r\n",
        "eta0 = [0.01, 0.1, 1, 10, 100]\r\n",
        "\r\n",
        "param_distributions = dict(loss=loss,\r\n",
        "                           penalty=penalty,\r\n",
        "                           alpha=alpha,\r\n",
        "                           learning_rate=learning_rate,\r\n",
        "                           eta0=eta0)"
      ],
      "execution_count": 38,
      "outputs": []
    },
    {
      "cell_type": "code",
      "metadata": {
        "colab": {
          "base_uri": "https://localhost:8080/"
        },
        "id": "MqXsnhM2OGVv",
        "outputId": "da5230c1-dc25-46b5-e27b-443a31232d35"
      },
      "source": [
        "from sklearn.model_selection import RandomizedSearchCV\r\n",
        "\r\n",
        "sgdcv_model = RandomizedSearchCV(estimator=sgd_model,\r\n",
        "                            param_distributions=param_distributions,\r\n",
        "                            scoring='neg_mean_squared_error', cv=5, n_jobs=-1,\r\n",
        "                            n_iter=1000, random_state=42)\r\n",
        "sgdcv_model.fit(X_train, y_train)\r\n"
      ],
      "execution_count": 41,
      "outputs": [
        {
          "output_type": "execute_result",
          "data": {
            "text/plain": [
              "RandomizedSearchCV(cv=5, error_score=nan,\n",
              "                   estimator=SGDRegressor(alpha=0.0001, average=False,\n",
              "                                          early_stopping=False, epsilon=0.1,\n",
              "                                          eta0=0.01, fit_intercept=True,\n",
              "                                          l1_ratio=0.15,\n",
              "                                          learning_rate='invscaling',\n",
              "                                          loss='squared_loss', max_iter=1000,\n",
              "                                          n_iter_no_change=5, penalty='l2',\n",
              "                                          power_t=0.25, random_state=42,\n",
              "                                          shuffle=True, tol=0.001,\n",
              "                                          validation_fraction=0.1, verbose=0,\n",
              "                                          warm_...\n",
              "                   param_distributions={'alpha': [0.0001, 0.001, 0.01, 0.1, 1,\n",
              "                                                  10, 100, 1000],\n",
              "                                        'eta0': [0.01, 0.1, 1, 10, 100],\n",
              "                                        'learning_rate': ['constant', 'optimal',\n",
              "                                                          'invscaling',\n",
              "                                                          'adaptive'],\n",
              "                                        'loss': ['squared_loss', 'huber',\n",
              "                                                 'epsilon_insensitive',\n",
              "                                                 'squared_epsilon_insensitive'],\n",
              "                                        'penalty': ['l1', 'l2', 'elasticnet']},\n",
              "                   pre_dispatch='2*n_jobs', random_state=42, refit=True,\n",
              "                   return_train_score=False, scoring='neg_mean_squared_error',\n",
              "                   verbose=0)"
            ]
          },
          "metadata": {
            "tags": []
          },
          "execution_count": 41
        }
      ]
    },
    {
      "cell_type": "code",
      "metadata": {
        "colab": {
          "base_uri": "https://localhost:8080/"
        },
        "id": "x9oLIWh4ewLh",
        "outputId": "35aa63dc-e1d2-4aa1-d8d5-b0d7b2d79889"
      },
      "source": [
        "print('Best MSE Score: ', round(abs(sgdcv_model.best_score_), 2))\r\n",
        "print('Best Params: ', sgdcv_model.best_params_)"
      ],
      "execution_count": 42,
      "outputs": [
        {
          "output_type": "stream",
          "text": [
            "Best MSE Score:  40.99\n",
            "Best Params:  {'penalty': 'l1', 'loss': 'squared_loss', 'learning_rate': 'adaptive', 'eta0': 0.01, 'alpha': 0.01}\n"
          ],
          "name": "stdout"
        }
      ]
    },
    {
      "cell_type": "code",
      "metadata": {
        "colab": {
          "base_uri": "https://localhost:8080/"
        },
        "id": "WzbbZRT_kLSX",
        "outputId": "da489052-0cdf-4622-bc04-24151403676c"
      },
      "source": [
        "y_pred = sgdcv_model.predict(X_train)\r\n",
        "\r\n",
        "sgdcv_mse = mean_squared_error(y_train, y_pred)\r\n",
        "sgdcv_r2 = r2_score(y_train, y_pred)\r\n",
        "\r\n",
        "print('R-squared :', round(r2_score(y_train, y_pred), 2))\r\n",
        "print('Mean Squared Error :', round(mean_squared_error(y_train, y_pred), 2))"
      ],
      "execution_count": 43,
      "outputs": [
        {
          "output_type": "stream",
          "text": [
            "R-squared : 0.36\n",
            "Mean Squared Error : 40.85\n"
          ],
          "name": "stdout"
        }
      ]
    },
    {
      "cell_type": "code",
      "metadata": {
        "colab": {
          "base_uri": "https://localhost:8080/",
          "height": 295
        },
        "id": "sDNHVMjDkXtW",
        "outputId": "7534a6e4-29b8-4c4f-aa6b-c54310b6f0ca"
      },
      "source": [
        "_ = plt.scatter(y_train, y_pred)\r\n",
        "_ = plt.xlabel('Actual')\r\n",
        "_ = plt.ylabel('Predicted')\r\n",
        "_ = plt.title('Actual vs Predicted')\r\n",
        "\r\n",
        "plt.show()"
      ],
      "execution_count": 44,
      "outputs": [
        {
          "output_type": "display_data",
          "data": {
            "image/png": "[encoded data removed]",
            "text/plain": [
              "<Figure size 432x288 with 1 Axes>"
            ]
          },
          "metadata": {
            "tags": [],
            "needs_background": "light"
          }
        }
      ]
    },
    {
      "cell_type": "markdown",
      "metadata": {
        "id": "VP75BzeOoNkI"
      },
      "source": [
        "#### Optimal SGD Regressor"
      ]
    },
    {
      "cell_type": "markdown",
      "metadata": {
        "id": "acZLJBcnmjQJ"
      },
      "source": [
        "Finally, we set the optimal parameters set out by CV into our final SGD model as cross validate the scoring on MSE - this shows a slightly lower MSE of 40.99 compared to 41.15. "
      ]
    },
    {
      "cell_type": "code",
      "metadata": {
        "colab": {
          "base_uri": "https://localhost:8080/"
        },
        "id": "JMRuOD-7nOuq",
        "outputId": "9c03eef8-4d1a-4abc-fbb1-812dd5f8716b"
      },
      "source": [
        "sgd_opt_model = SGDRegressor(penalty='l1', loss='squared_loss', learning_rate='adaptive', eta0=0.01, alpha=0.01, random_state=42)\r\n",
        "sgd_opt_model.fit(X_train, y_train)"
      ],
      "execution_count": 46,
      "outputs": [
        {
          "output_type": "execute_result",
          "data": {
            "text/plain": [
              "SGDRegressor(alpha=0.01, average=False, early_stopping=False, epsilon=0.1,\n",
              "             eta0=0.01, fit_intercept=True, l1_ratio=0.15,\n",
              "             learning_rate='adaptive', loss='squared_loss', max_iter=1000,\n",
              "             n_iter_no_change=5, penalty='l1', power_t=0.25, random_state=42,\n",
              "             shuffle=True, tol=0.001, validation_fraction=0.1, verbose=0,\n",
              "             warm_start=False)"
            ]
          },
          "metadata": {
            "tags": []
          },
          "execution_count": 46
        }
      ]
    },
    {
      "cell_type": "code",
      "metadata": {
        "colab": {
          "base_uri": "https://localhost:8080/"
        },
        "id": "O0VMJAY8n7HQ",
        "outputId": "974cb510-3010-45b3-c34f-54d46794fc98"
      },
      "source": [
        "y_pred = sgd_opt_model.predict(X_train)\r\n",
        "\r\n",
        "sgd_opt_mse = mean_squared_error(y_train, y_pred)\r\n",
        "sgd_opt_r2 = r2_score(y_train, y_pred)\r\n",
        "\r\n",
        "print('R-squared :', round(r2_score(y_train, y_pred), 2))\r\n",
        "print('Mean Squared Error :', round(mean_squared_error(y_train, y_pred), 2))"
      ],
      "execution_count": 47,
      "outputs": [
        {
          "output_type": "stream",
          "text": [
            "R-squared : 0.36\n",
            "Mean Squared Error : 40.85\n"
          ],
          "name": "stdout"
        }
      ]
    },
    {
      "cell_type": "code",
      "metadata": {
        "colab": {
          "base_uri": "https://localhost:8080/"
        },
        "id": "JEGsDwNLm2Cb",
        "outputId": "70f7544e-10f9-4607-8a89-8780359ce3d9"
      },
      "source": [
        "cv_scores_train= cross_val_score(sgd_opt_model, X_train ,y_train ,cv=5 ,scoring='neg_mean_squared_error')\r\n",
        "\r\n",
        "#print(cv_scores_train)\r\n",
        "print('Mean Squared Error (CV mean) :', round(abs(cv_scores_train.mean()), 2))\r\n",
        "print('Mean Squared Error (CV STD) :', round(cv_scores_train.std(), 2))\r\n",
        "\r\n",
        "sgd_opt_mse_cv = cv_scores_train.mean()"
      ],
      "execution_count": 48,
      "outputs": [
        {
          "output_type": "stream",
          "text": [
            "Mean Squared Error (CV mean) : 40.99\n",
            "Mean Squared Error (CV STD) : 1.35\n"
          ],
          "name": "stdout"
        }
      ]
    },
    {
      "cell_type": "markdown",
      "metadata": {
        "id": "71IKjbAhhh4S"
      },
      "source": [
        "### ElasticNet"
      ]
    },
    {
      "cell_type": "markdown",
      "metadata": {
        "id": "Czpz_8xUeQ92"
      },
      "source": [
        "#### Simple ElasticNet Model"
      ]
    },
    {
      "cell_type": "markdown",
      "metadata": {
        "id": "VAeRA4H2nz8o"
      },
      "source": [
        "ElasticNet is a linear regression model trained with both l1 and l2\r\n",
        "-norm regularization of the coefficients. This combination allows for learning a sparse model where few of the weights are non-zero like Lasso, while still maintaining the regularization properties of Ridge. We control the convex combination of l1 and l2 using the l1_ratio parameter.\r\n",
        "\r\n",
        "Elastic-net is useful when there are multiple features which are correlated with one another. Lasso is likely to pick one of these at random, while elastic-net is likely to pick both.\r\n",
        "\r\n",
        "We will start building this model using a simple ElasticNet model with no tuning of hyperparameters. This performs worse than our previous Linear and SGD models with a higher MSE and R-squared."
      ]
    },
    {
      "cell_type": "code",
      "metadata": {
        "colab": {
          "base_uri": "https://localhost:8080/"
        },
        "id": "AD5hFcxIcn1L",
        "outputId": "d8357f50-7d32-4afa-c7dc-c1fb4f7c9a65"
      },
      "source": [
        "from sklearn.linear_model import ElasticNet\r\n",
        "\r\n",
        "en_model = ElasticNet(random_state=42)\r\n",
        "en_model.fit(X_train, y_train)"
      ],
      "execution_count": 49,
      "outputs": [
        {
          "output_type": "execute_result",
          "data": {
            "text/plain": [
              "ElasticNet(alpha=1.0, copy_X=True, fit_intercept=True, l1_ratio=0.5,\n",
              "           max_iter=1000, normalize=False, positive=False, precompute=False,\n",
              "           random_state=42, selection='cyclic', tol=0.0001, warm_start=False)"
            ]
          },
          "metadata": {
            "tags": []
          },
          "execution_count": 49
        }
      ]
    },
    {
      "cell_type": "code",
      "metadata": {
        "colab": {
          "base_uri": "https://localhost:8080/"
        },
        "id": "fkzt38iwdjqT",
        "outputId": "6008ffd3-b241-493b-f82f-0fc207a7c01d"
      },
      "source": [
        "y_pred = en_model.predict(X_train)\r\n",
        "\r\n",
        "en_mse = mean_squared_error(y_train, y_pred)\r\n",
        "en_r2 = r2_score(y_train, y_pred)\r\n",
        "\r\n",
        "print('R-squared :', round(r2_score(y_train, y_pred), 2))\r\n",
        "print('Mean Squared Error :', round(mean_squared_error(y_train, y_pred), 2))"
      ],
      "execution_count": 50,
      "outputs": [
        {
          "output_type": "stream",
          "text": [
            "R-squared : 0.3\n",
            "Mean Squared Error : 44.63\n"
          ],
          "name": "stdout"
        }
      ]
    },
    {
      "cell_type": "code",
      "metadata": {
        "colab": {
          "base_uri": "https://localhost:8080/"
        },
        "id": "m07fSG3upUki",
        "outputId": "d5886aa2-bbc3-4fc6-82f3-55e2f2dbd8f6"
      },
      "source": [
        "cv_scores_train= cross_val_score(en_model, X_train ,y_train ,cv=5 ,scoring='neg_mean_squared_error')\r\n",
        "\r\n",
        "#print(cv_scores_train)\r\n",
        "print('Mean Squared Error (CV mean) :', round(abs(cv_scores_train.mean()), 2))\r\n",
        "print('Mean Squared Error (CV STD) :', round(cv_scores_train.std(), 2))\r\n",
        "\r\n",
        "en_mse_cv = cv_scores_train.mean()"
      ],
      "execution_count": 51,
      "outputs": [
        {
          "output_type": "stream",
          "text": [
            "Mean Squared Error (CV mean) : 44.66\n",
            "Mean Squared Error (CV STD) : 1.75\n"
          ],
          "name": "stdout"
        }
      ]
    },
    {
      "cell_type": "code",
      "metadata": {
        "colab": {
          "base_uri": "https://localhost:8080/",
          "height": 295
        },
        "id": "FihFf8HreOeR",
        "outputId": "163e6f13-f26d-478b-b410-f3adfe5ff021"
      },
      "source": [
        "_ = plt.scatter(y_train, y_pred)\r\n",
        "_ = plt.xlabel('Actual')\r\n",
        "_ = plt.ylabel('Predicted')\r\n",
        "_ = plt.title('Actual vs Predicted')\r\n",
        "\r\n",
        "plt.show()"
      ],
      "execution_count": 52,
      "outputs": [
        {
          "output_type": "display_data",
          "data": {
            "image/png": "[encoded data removed]",
            "text/plain": [
              "<Figure size 432x288 with 1 Axes>"
            ]
          },
          "metadata": {
            "tags": [],
            "needs_background": "light"
          }
        }
      ]
    },
    {
      "cell_type": "markdown",
      "metadata": {
        "id": "EnwrxBzTeXU0"
      },
      "source": [
        "#### Tuning the Hyperparamaters"
      ]
    },
    {
      "cell_type": "markdown",
      "metadata": {
        "id": "zTgRBIs0luYc"
      },
      "source": [
        "The last ElasticNet model was fitted with default values used for the majority of the parameters. With the aim of improving the performance of this model, I will look to use cross-validation to test out the performance of the model across several parameters including:\r\n",
        "* Regularisation penalty mixing value (l1_ratios)\r\n",
        "* Regularisation penalty constant value (alpha)\r\n",
        "\r\n",
        "\r\n",
        "This finds the optimal SGD model for this data and improves performance marginally - with the MSE score up to 40.85 (from 44.63) and R-squared to 36% (from 30%). \r\n",
        "\r\n",
        "These scores are nearly exactly the same as our SGD Regressor with CV."
      ]
    },
    {
      "cell_type": "code",
      "metadata": {
        "id": "yPPAVbAPhbCI"
      },
      "source": [
        "l1_ratios = [.1, .5, .7, .9, .95, .99, 1]\r\n",
        "alphas = [0.0001, 0.001, 0.01, 0.1, 0.3, 0.5, 0.7, 1]\r\n",
        "\r\n",
        "param_grid = dict(l1_ratios=l1_ratios, alphas=alphas)"
      ],
      "execution_count": 53,
      "outputs": []
    },
    {
      "cell_type": "code",
      "metadata": {
        "colab": {
          "base_uri": "https://localhost:8080/"
        },
        "id": "-8Iwse67hhQH",
        "outputId": "ea1bc40d-ba02-47de-cfeb-dc66eae8f20d"
      },
      "source": [
        "from sklearn.linear_model import ElasticNetCV\r\n",
        "\r\n",
        "encv_model = ElasticNetCV(l1_ratio=l1_ratios, alphas=alphas, cv=5, max_iter=10000, random_state=42)\r\n",
        "encv_model.fit(X_train, y_train)"
      ],
      "execution_count": 54,
      "outputs": [
        {
          "output_type": "execute_result",
          "data": {
            "text/plain": [
              "ElasticNetCV(alphas=[0.0001, 0.001, 0.01, 0.1, 0.3, 0.5, 0.7, 1], copy_X=True,\n",
              "             cv=5, eps=0.001, fit_intercept=True,\n",
              "             l1_ratio=[0.1, 0.5, 0.7, 0.9, 0.95, 0.99, 1], max_iter=10000,\n",
              "             n_alphas=100, n_jobs=None, normalize=False, positive=False,\n",
              "             precompute='auto', random_state=42, selection='cyclic', tol=0.0001,\n",
              "             verbose=0)"
            ]
          },
          "metadata": {
            "tags": []
          },
          "execution_count": 54
        }
      ]
    },
    {
      "cell_type": "code",
      "metadata": {
        "colab": {
          "base_uri": "https://localhost:8080/"
        },
        "id": "tq-4_kSImyr3",
        "outputId": "0fee973b-bed6-4998-ddf6-5e35aa0795a7"
      },
      "source": [
        "print('Best Alpha: ', encv_model.alpha_)\r\n",
        "print('Best L1 ratio: ', encv_model.l1_ratio_)\r\n",
        "#print(encv_model.intercept_)\r\n",
        "#print(encv_model.coef_)\r\n",
        "#print(encv_model.mse_path_)\r\n",
        "#print(encv_model.alphas_)"
      ],
      "execution_count": 55,
      "outputs": [
        {
          "output_type": "stream",
          "text": [
            "Best Alpha:  0.01\n",
            "Best L1 ratio:  1.0\n"
          ],
          "name": "stdout"
        }
      ]
    },
    {
      "cell_type": "code",
      "metadata": {
        "colab": {
          "base_uri": "https://localhost:8080/"
        },
        "id": "Kba18cFpef5N",
        "outputId": "8031492e-7298-4870-87d6-fb38346157d5"
      },
      "source": [
        "y_pred = encv_model.predict(X_train)\r\n",
        "\r\n",
        "encv_mse = mean_squared_error(y_train, y_pred)\r\n",
        "encv_r2 = r2_score(y_train, y_pred)\r\n",
        "\r\n",
        "print('R-squared :', round(r2_score(y_train, y_pred), 3))\r\n",
        "print('Mean Squared Error :', round(mean_squared_error(y_train, y_pred), 2))"
      ],
      "execution_count": 56,
      "outputs": [
        {
          "output_type": "stream",
          "text": [
            "R-squared : 0.36\n",
            "Mean Squared Error : 40.85\n"
          ],
          "name": "stdout"
        }
      ]
    },
    {
      "cell_type": "code",
      "metadata": {
        "colab": {
          "base_uri": "https://localhost:8080/"
        },
        "id": "xPeBbf0oqOfd",
        "outputId": "07649c72-e750-4369-c761-56c18745fd5d"
      },
      "source": [
        "cv_scores_train= cross_val_score(encv_model, X_train ,y_train ,cv=5 ,scoring='neg_mean_squared_error')\r\n",
        "\r\n",
        "#print(cv_scores_train)\r\n",
        "print('Mean Squared Error (CV mean) :', round(abs(cv_scores_train.mean()), 2))\r\n",
        "print('Mean Squared Error (CV STD) :', round(cv_scores_train.std(), 2))\r\n",
        "\r\n",
        "encv_mse_cv = cv_scores_train.mean()"
      ],
      "execution_count": 57,
      "outputs": [
        {
          "output_type": "stream",
          "text": [
            "Mean Squared Error (CV mean) : 40.99\n",
            "Mean Squared Error (CV STD) : 1.35\n"
          ],
          "name": "stdout"
        }
      ]
    },
    {
      "cell_type": "code",
      "metadata": {
        "colab": {
          "base_uri": "https://localhost:8080/",
          "height": 295
        },
        "id": "QWzCiVmpjdpq",
        "outputId": "7be53d5d-4954-46a9-bb89-addb29e57b9a"
      },
      "source": [
        "_ = plt.scatter(y_train, y_pred)\r\n",
        "_ = plt.xlabel('Actual')\r\n",
        "_ = plt.ylabel('Predicted')\r\n",
        "_ = plt.title('Actual vs Predicted')\r\n",
        "\r\n",
        "plt.show()"
      ],
      "execution_count": 58,
      "outputs": [
        {
          "output_type": "display_data",
          "data": {
            "image/png": "[encoded data removed]",
            "text/plain": [
              "<Figure size 432x288 with 1 Axes>"
            ]
          },
          "metadata": {
            "tags": [],
            "needs_background": "light"
          }
        }
      ]
    },
    {
      "cell_type": "markdown",
      "metadata": {
        "id": "foPzwiGpnwlq"
      },
      "source": [
        "#### Optimal ElasticNet"
      ]
    },
    {
      "cell_type": "markdown",
      "metadata": {
        "id": "OCDdDVn7odqs"
      },
      "source": [
        "Lastly, we will input the optimal parameters from our cross-validation into our final Elastic Net model.\r\n",
        "\r\n",
        "When comparing MSE using cross-validation, this shows significant improvement to 40.99 from 44.66 in our simple model."
      ]
    },
    {
      "cell_type": "code",
      "metadata": {
        "colab": {
          "base_uri": "https://localhost:8080/"
        },
        "id": "7FQNaCjt5XR4",
        "outputId": "028ba141-18d0-47a3-d043-ed7c1232c365"
      },
      "source": [
        "en_opt_model = ElasticNet(alpha=0.01, copy_X=True, fit_intercept=True, l1_ratio=1,\r\n",
        "           max_iter=1000, normalize=False, positive=False, precompute=False,\r\n",
        "           random_state=42, selection='cyclic', tol=0.0001, warm_start=False)\r\n",
        "\r\n",
        "en_opt_model.fit(X_train, y_train)"
      ],
      "execution_count": 60,
      "outputs": [
        {
          "output_type": "execute_result",
          "data": {
            "text/plain": [
              "ElasticNet(alpha=0.01, copy_X=True, fit_intercept=True, l1_ratio=1,\n",
              "           max_iter=1000, normalize=False, positive=False, precompute=False,\n",
              "           random_state=42, selection='cyclic', tol=0.0001, warm_start=False)"
            ]
          },
          "metadata": {
            "tags": []
          },
          "execution_count": 60
        }
      ]
    },
    {
      "cell_type": "code",
      "metadata": {
        "colab": {
          "base_uri": "https://localhost:8080/"
        },
        "id": "pY3BxU8V55as",
        "outputId": "14619df4-7f95-45fb-ef39-6aafe155bbc1"
      },
      "source": [
        "y_pred = en_opt_model.predict(X_train)\r\n",
        "\r\n",
        "en_opt_mse = mean_squared_error(y_train, y_pred)\r\n",
        "en_opt_r2 = r2_score(y_train, y_pred)\r\n",
        "\r\n",
        "print('R-squared :', round(r2_score(y_train, y_pred), 2))\r\n",
        "print('Mean Squared Error :', round(mean_squared_error(y_train, y_pred), 2))"
      ],
      "execution_count": 61,
      "outputs": [
        {
          "output_type": "stream",
          "text": [
            "R-squared : 0.36\n",
            "Mean Squared Error : 40.85\n"
          ],
          "name": "stdout"
        }
      ]
    },
    {
      "cell_type": "code",
      "metadata": {
        "colab": {
          "base_uri": "https://localhost:8080/",
          "height": 295
        },
        "id": "SD9s_dDzsrMO",
        "outputId": "30aa2b94-8542-4cda-a0a8-66eb7b6987a0"
      },
      "source": [
        "_ = plt.scatter(y_train, y_pred)\r\n",
        "_ = plt.xlabel('Actual')\r\n",
        "_ = plt.ylabel('Predicted')\r\n",
        "_ = plt.title('Actual vs Predicted')\r\n",
        "\r\n",
        "plt.show()"
      ],
      "execution_count": 63,
      "outputs": [
        {
          "output_type": "display_data",
          "data": {
            "image/png": "[encoded data removed]",
            "text/plain": [
              "<Figure size 432x288 with 1 Axes>"
            ]
          },
          "metadata": {
            "tags": [],
            "needs_background": "light"
          }
        }
      ]
    },
    {
      "cell_type": "code",
      "metadata": {
        "colab": {
          "base_uri": "https://localhost:8080/"
        },
        "id": "JMP4C6VfsRbC",
        "outputId": "1dbe5c9c-835f-4246-ae6d-81db81795a01"
      },
      "source": [
        "cv_scores_train= cross_val_score(en_opt_model, X_train ,y_train ,cv=5 ,scoring='neg_mean_squared_error')\r\n",
        "\r\n",
        "#print(cv_scores_train)\r\n",
        "print('Mean Squared Error (CV mean) :', round(abs(cv_scores_train.mean()), 2))\r\n",
        "print('Mean Squared Error (CV STD) :', round(cv_scores_train.std(), 2))\r\n",
        "\r\n",
        "en_opt_mse_cv = cv_scores_train.mean()"
      ],
      "execution_count": 62,
      "outputs": [
        {
          "output_type": "stream",
          "text": [
            "Mean Squared Error (CV mean) : 40.99\n",
            "Mean Squared Error (CV STD) : 1.35\n"
          ],
          "name": "stdout"
        }
      ]
    },
    {
      "cell_type": "markdown",
      "metadata": {
        "id": "MmeCnIwyQZ9w"
      },
      "source": [
        "### Random Forest Regressor"
      ]
    },
    {
      "cell_type": "markdown",
      "metadata": {
        "id": "i2o3QYqvQhqD"
      },
      "source": [
        "#### Simple Random Forest"
      ]
    },
    {
      "cell_type": "markdown",
      "metadata": {
        "id": "Y7xFT_wjpVaw"
      },
      "source": [
        "A random forest is a meta estimator that fits a number of classifying decision trees on various sub-samples of the dataset and uses averaging to improve the predictive accuracy and control over-fitting. \r\n",
        "\r\n",
        "We will begin with a simple Random Forest. This initially shows fantastic results with an MSE of 6.17 and R-squared of 90%, however this initial view is prone to overfitting of the data. When we apply cross-validation of the model for MSE, we see this 44.25 - showing this model still needs a bit of work to generalise better."
      ]
    },
    {
      "cell_type": "code",
      "metadata": {
        "colab": {
          "base_uri": "https://localhost:8080/"
        },
        "id": "Mo-1zpe8QiEY",
        "outputId": "c4a2d035-47ba-4622-f0eb-50b31599fd0d"
      },
      "source": [
        "from sklearn.ensemble import RandomForestRegressor\r\n",
        "\r\n",
        "rf_model = RandomForestRegressor(random_state=42)\r\n",
        "rf_model.fit(X_train, y_train)\r\n"
      ],
      "execution_count": 81,
      "outputs": [
        {
          "output_type": "execute_result",
          "data": {
            "text/plain": [
              "RandomForestRegressor(bootstrap=True, ccp_alpha=0.0, criterion='mse',\n",
              "                      max_depth=None, max_features='auto', max_leaf_nodes=None,\n",
              "                      max_samples=None, min_impurity_decrease=0.0,\n",
              "                      min_impurity_split=None, min_samples_leaf=1,\n",
              "                      min_samples_split=2, min_weight_fraction_leaf=0.0,\n",
              "                      n_estimators=100, n_jobs=None, oob_score=False,\n",
              "                      random_state=42, verbose=0, warm_start=False)"
            ]
          },
          "metadata": {
            "tags": []
          },
          "execution_count": 81
        }
      ]
    },
    {
      "cell_type": "code",
      "metadata": {
        "colab": {
          "base_uri": "https://localhost:8080/"
        },
        "id": "SMm-m7ijv3gt",
        "outputId": "22e64917-638c-4c94-8774-8081e01742ab"
      },
      "source": [
        "y_pred = rf_model.predict(X_train)\r\n",
        "\r\n",
        "rf_mse = mean_squared_error(y_train, y_pred)\r\n",
        "rf_r2 = r2_score(y_train, y_pred)\r\n",
        "\r\n",
        "print('R-squared :', round(r2_score(y_train, y_pred), 2))\r\n",
        "print('Mean Squared Error :', round(mean_squared_error(y_train, y_pred), 2))"
      ],
      "execution_count": 82,
      "outputs": [
        {
          "output_type": "stream",
          "text": [
            "R-squared : 0.9\n",
            "Mean Squared Error : 6.17\n"
          ],
          "name": "stdout"
        }
      ]
    },
    {
      "cell_type": "code",
      "metadata": {
        "colab": {
          "base_uri": "https://localhost:8080/",
          "height": 295
        },
        "id": "J7OnsaNtzogz",
        "outputId": "f7e48303-e3be-4de4-9430-4da796f2bc84"
      },
      "source": [
        "_ = plt.scatter(y_train, y_pred)\r\n",
        "_ = plt.xlabel('Actual')\r\n",
        "_ = plt.ylabel('Predicted')\r\n",
        "_ = plt.title('Actual vs Predicted')\r\n",
        "\r\n",
        "plt.show()"
      ],
      "execution_count": 83,
      "outputs": [
        {
          "output_type": "display_data",
          "data": {
            "image/png": "[encoded data removed]",
            "text/plain": [
              "<Figure size 432x288 with 1 Axes>"
            ]
          },
          "metadata": {
            "tags": [],
            "needs_background": "light"
          }
        }
      ]
    },
    {
      "cell_type": "code",
      "metadata": {
        "colab": {
          "base_uri": "https://localhost:8080/"
        },
        "id": "-2RBYAmcs7UR",
        "outputId": "bedfa72f-bf8e-4291-b70f-103a42405790"
      },
      "source": [
        "cv_scores_train= cross_val_score(rf_model, X_train ,y_train ,cv=5 ,scoring='neg_mean_squared_error')\r\n",
        "\r\n",
        "#print(cv_scores_train)\r\n",
        "print('Mean Squared Error (CV mean) :', round(abs(cv_scores_train.mean()), 2))\r\n",
        "print('Mean Squared Error (CV STD) :', round(cv_scores_train.std(), 2))\r\n",
        "\r\n",
        "rf_mse_cv = cv_scores_train.mean()"
      ],
      "execution_count": 86,
      "outputs": [
        {
          "output_type": "stream",
          "text": [
            "Mean Squared Error (CV mean) : 44.25\n",
            "Mean Squared Error (CV STD) : 1.23\n"
          ],
          "name": "stdout"
        }
      ]
    },
    {
      "cell_type": "code",
      "metadata": {
        "colab": {
          "base_uri": "https://localhost:8080/",
          "height": 720
        },
        "id": "KYt9v2f3cxZ9",
        "outputId": "56fa5f41-5b89-47b8-b785-0310a6ef4770"
      },
      "source": [
        "features = X_train.columns\r\n",
        "importances = rf_model.feature_importances_\r\n",
        "indices = np.argsort(importances)\r\n",
        "\r\n",
        "plt.figure(figsize=(10,5))\r\n",
        "plt.title('Feature Importances')\r\n",
        "plt.barh(range(len(indices)), importances[indices], color='b', align='center')\r\n",
        "plt.yticks(range(len(indices)), [features[i] for i in indices])\r\n",
        "plt.xlabel('Relative Importance')\r\n",
        "plt.show()\r\n",
        "\r\n",
        "imp_table = pd.DataFrame(list(zip(features,importances)),columns =['Features', 'Importance scores'])\r\n",
        "imp_table = imp_table.sort_values(by='Importance scores', ascending=False)\r\n",
        "print(imp_table)"
      ],
      "execution_count": 147,
      "outputs": [
        {
          "output_type": "display_data",
          "data": {
            "image/png": "[encoded data removed]",
            "text/plain": [
              "<Figure size 720x360 with 1 Axes>"
            ]
          },
          "metadata": {
            "tags": [],
            "needs_background": "light"
          }
        },
        {
          "output_type": "stream",
          "text": [
            "           Features  Importance scores\n",
            "0           FAN_AVG           0.305989\n",
            "1      PASSCOMP_AVG           0.198201\n",
            "9   OPP_PTS_AGT_AVG           0.124853\n",
            "3       RUSHATT_AVG           0.083164\n",
            "6          TGTS_AVG           0.077321\n",
            "8       WIN/TIE_AVG           0.042529\n",
            "5        FUMLST_AVG           0.020503\n",
            "7         RECTD_AVG           0.018214\n",
            "4        RUSHTD_AVG           0.017907\n",
            "10             HOME           0.016773\n",
            "16  MONTH_September           0.015244\n",
            "12            GRASS           0.014687\n",
            "18        TIME_Noon           0.014479\n",
            "11             DOME           0.013750\n",
            "13           SUNDAY           0.009670\n",
            "17       TIME_Night           0.009445\n",
            "2   PASSYDS_300_AVG           0.007963\n",
            "15           POS_WR           0.004894\n",
            "14           POS_TE           0.004412\n"
          ],
          "name": "stdout"
        }
      ]
    },
    {
      "cell_type": "markdown",
      "metadata": {
        "id": "5v3HrJhw1_AP"
      },
      "source": [
        "#### Tuning the Hyperparameters"
      ]
    },
    {
      "cell_type": "markdown",
      "metadata": {
        "id": "yqcQ7j7op7zy"
      },
      "source": [
        "To tune the model, we will look at three areas:\r\n",
        "* Number of estimators\r\n",
        "* Depth of decision trees\r\n",
        "* Number of features per decision tree\r\n",
        "\r\n",
        "Applying this show that the best results are found using 1,000 estimators at a max depth of 10 and using square root of the total number of features in dataset per decision tree.\r\n",
        "\r\n",
        "Doing this improved the performance to 32.05 MSE and R-squared of 50%. However, we still need to see if this generalises which we will test in next section."
      ]
    },
    {
      "cell_type": "code",
      "metadata": {
        "id": "t09hwbUJ3d-E"
      },
      "source": [
        "param_grid = {  'n_estimators': [100, 500, 1000],\r\n",
        "                'max_depth': [3, 5, 10],\r\n",
        "                'max_features': ['auto', 'sqrt'],\r\n",
        "                'criterion': ['mse']\r\n",
        "             }\r\n"
      ],
      "execution_count": 87,
      "outputs": []
    },
    {
      "cell_type": "code",
      "metadata": {
        "id": "LpVKQRRd2x27"
      },
      "source": [
        "from sklearn.model_selection import GridSearchCV\r\n",
        "\r\n",
        "rfcv_model = GridSearchCV(rf_model,\r\n",
        "                            param_grid, cv=5,\r\n",
        "                            scoring='neg_mean_squared_error', n_jobs=-1)\r\n",
        "rfcv_model = rfcv_model.fit(X_train, y_train)\r\n"
      ],
      "execution_count": 88,
      "outputs": []
    },
    {
      "cell_type": "code",
      "metadata": {
        "colab": {
          "base_uri": "https://localhost:8080/"
        },
        "id": "8gvoUpUz5AUW",
        "outputId": "261682c4-548c-460a-bcf2-00dd45782cb2"
      },
      "source": [
        "print('Best Score: ', rfcv_model.best_score_)\r\n",
        "print('Best Params: ', rfcv_model.best_params_)\r\n",
        "print('Best Model: ', rfcv_model.best_estimator_)"
      ],
      "execution_count": 89,
      "outputs": [
        {
          "output_type": "stream",
          "text": [
            "Best Score:  -41.43974424992231\n",
            "Best Params:  {'criterion': 'mse', 'max_depth': 10, 'max_features': 'sqrt', 'n_estimators': 1000}\n",
            "Best Model:  RandomForestRegressor(bootstrap=True, ccp_alpha=0.0, criterion='mse',\n",
            "                      max_depth=10, max_features='sqrt', max_leaf_nodes=None,\n",
            "                      max_samples=None, min_impurity_decrease=0.0,\n",
            "                      min_impurity_split=None, min_samples_leaf=1,\n",
            "                      min_samples_split=2, min_weight_fraction_leaf=0.0,\n",
            "                      n_estimators=1000, n_jobs=None, oob_score=False,\n",
            "                      random_state=42, verbose=0, warm_start=False)\n"
          ],
          "name": "stdout"
        }
      ]
    },
    {
      "cell_type": "code",
      "metadata": {
        "colab": {
          "base_uri": "https://localhost:8080/"
        },
        "id": "nmbCfcAQMwF3",
        "outputId": "06ef72af-bd01-474a-efcb-4111db94a388"
      },
      "source": [
        "y_pred = rfcv_model.predict(X_train)\r\n",
        "\r\n",
        "rfcv_mse = mean_squared_error(y_train, y_pred)\r\n",
        "rfcv_r2 = r2_score(y_train, y_pred)\r\n",
        "\r\n",
        "print('R-squared :', round(r2_score(y_train, y_pred), 2))\r\n",
        "print('Mean Squared Error :', round(mean_squared_error(y_train, y_pred), 2))"
      ],
      "execution_count": 90,
      "outputs": [
        {
          "output_type": "stream",
          "text": [
            "R-squared : 0.5\n",
            "Mean Squared Error : 32.05\n"
          ],
          "name": "stdout"
        }
      ]
    },
    {
      "cell_type": "code",
      "metadata": {
        "colab": {
          "base_uri": "https://localhost:8080/",
          "height": 295
        },
        "id": "bWfIkZPaNQoX",
        "outputId": "b38091b4-b559-4098-b7da-6eb8134a6678"
      },
      "source": [
        "_ = plt.scatter(y_train, y_pred)\r\n",
        "_ = plt.xlabel('Actual')\r\n",
        "_ = plt.ylabel('Predicted')\r\n",
        "_ = plt.title('Actual vs Predicted')\r\n",
        "\r\n",
        "plt.show()"
      ],
      "execution_count": 91,
      "outputs": [
        {
          "output_type": "display_data",
          "data": {
            "image/png": "[encoded data removed]",
            "text/plain": [
              "<Figure size 432x288 with 1 Axes>"
            ]
          },
          "metadata": {
            "tags": [],
            "needs_background": "light"
          }
        }
      ]
    },
    {
      "cell_type": "code",
      "metadata": {
        "id": "X0UgC7CkOeSR"
      },
      "source": [
        "#rfcv_model.cv_results_"
      ],
      "execution_count": 146,
      "outputs": []
    },
    {
      "cell_type": "markdown",
      "metadata": {
        "id": "zhv9paVmIxSF"
      },
      "source": [
        "#### Optimal Random Forest Model"
      ]
    },
    {
      "cell_type": "markdown",
      "metadata": {
        "id": "02tJyVdhq3ob"
      },
      "source": [
        "We applied the optimal paramaters to create are optimal Random Forest Regressor. After cross-validation, this shows us that the MSE performs at 41.44 - which is slightly behind some of the early models.\r\n",
        "\r\n",
        "This model also shows us which features are most important to the model. Not surprisingly, 'FAN_AVG' is considered the most important feature - seeming to confirm what we found in our EDA section."
      ]
    },
    {
      "cell_type": "code",
      "metadata": {
        "colab": {
          "base_uri": "https://localhost:8080/"
        },
        "id": "wy0dqCP93Kxe",
        "outputId": "c84216c8-864e-4574-cd87-42c18bf5017a"
      },
      "source": [
        "rf_opt_model = RandomForestRegressor(bootstrap=True, ccp_alpha=0.0, criterion='mse',\r\n",
        "                      max_depth=10, max_features='sqrt', max_leaf_nodes=None,\r\n",
        "                      max_samples=None, min_impurity_decrease=0.0,\r\n",
        "                      min_impurity_split=None, min_samples_leaf=1,\r\n",
        "                      min_samples_split=2, min_weight_fraction_leaf=0.0,\r\n",
        "                      n_estimators=1000, n_jobs=None, oob_score=False,\r\n",
        "                      random_state=42, verbose=0, warm_start=False)\r\n",
        "\r\n",
        "rf_opt_model.fit(X_train, y_train)"
      ],
      "execution_count": 109,
      "outputs": [
        {
          "output_type": "execute_result",
          "data": {
            "text/plain": [
              "RandomForestRegressor(bootstrap=True, ccp_alpha=0.0, criterion='mse',\n",
              "                      max_depth=10, max_features='sqrt', max_leaf_nodes=None,\n",
              "                      max_samples=None, min_impurity_decrease=0.0,\n",
              "                      min_impurity_split=None, min_samples_leaf=1,\n",
              "                      min_samples_split=2, min_weight_fraction_leaf=0.0,\n",
              "                      n_estimators=1000, n_jobs=None, oob_score=False,\n",
              "                      random_state=42, verbose=0, warm_start=False)"
            ]
          },
          "metadata": {
            "tags": []
          },
          "execution_count": 109
        }
      ]
    },
    {
      "cell_type": "code",
      "metadata": {
        "colab": {
          "base_uri": "https://localhost:8080/"
        },
        "id": "tgDu__xH3wHn",
        "outputId": "f69124b1-4f94-4c57-8530-5d02fbc761c0"
      },
      "source": [
        "y_pred = rf_opt_model.predict(X_train)\r\n",
        "\r\n",
        "rf_opt_mse = mean_squared_error(y_train, y_pred)\r\n",
        "rf_opt_r2 = r2_score(y_train, y_pred)\r\n",
        "\r\n",
        "print('R-squared :', round(r2_score(y_train, y_pred), 2))\r\n",
        "print('Mean Squared Error :', round(mean_squared_error(y_train, y_pred), 2))"
      ],
      "execution_count": 110,
      "outputs": [
        {
          "output_type": "stream",
          "text": [
            "R-squared : 0.5\n",
            "Mean Squared Error : 32.05\n"
          ],
          "name": "stdout"
        }
      ]
    },
    {
      "cell_type": "code",
      "metadata": {
        "colab": {
          "base_uri": "https://localhost:8080/"
        },
        "id": "6Ch_P7k3Jd0H",
        "outputId": "28c26a2a-d6bf-4ad5-d82b-d5d21e234232"
      },
      "source": [
        "cv_scores_train= cross_val_score(rf_opt_model, X_train ,y_train ,cv=5 ,scoring='neg_mean_squared_error')\r\n",
        "\r\n",
        "#print(cv_scores_train)\r\n",
        "print('Mean Squared Error (CV mean) :', round(abs(cv_scores_train.mean()), 2))\r\n",
        "print('Mean Squared Error (CV STD) :', round(cv_scores_train.std(), 2))\r\n",
        "\r\n",
        "rf_opt_mse_cv = cv_scores_train.mean()"
      ],
      "execution_count": 111,
      "outputs": [
        {
          "output_type": "stream",
          "text": [
            "Mean Squared Error (CV mean) : 41.44\n",
            "Mean Squared Error (CV STD) : 1.5\n"
          ],
          "name": "stdout"
        }
      ]
    },
    {
      "cell_type": "code",
      "metadata": {
        "colab": {
          "base_uri": "https://localhost:8080/",
          "height": 720
        },
        "id": "0eAUSnMRaj8B",
        "outputId": "fbd7fff2-9833-4789-bbd6-e83c81f4f036"
      },
      "source": [
        "features = X_train.columns\r\n",
        "importances = rf_opt_model.feature_importances_\r\n",
        "indices = np.argsort(importances)\r\n",
        "\r\n",
        "plt.figure(figsize=(10,5))\r\n",
        "plt.title('Feature Importances')\r\n",
        "plt.barh(range(len(indices)), importances[indices], color='b', align='center')\r\n",
        "plt.yticks(range(len(indices)), [features[i] for i in indices])\r\n",
        "plt.xlabel('Relative Importance')\r\n",
        "plt.show()\r\n",
        "\r\n",
        "imp_table = pd.DataFrame(list(zip(features,importances)),columns =['Features', 'Importance scores'])\r\n",
        "imp_table = imp_table.sort_values(by='Importance scores', ascending=False)\r\n",
        "print(imp_table)"
      ],
      "execution_count": 145,
      "outputs": [
        {
          "output_type": "display_data",
          "data": {
            "image/png": "[encoded data removed]",
            "text/plain": [
              "<Figure size 720x360 with 1 Axes>"
            ]
          },
          "metadata": {
            "tags": [],
            "needs_background": "light"
          }
        },
        {
          "output_type": "stream",
          "text": [
            "           Features  Importance scores\n",
            "0           FAN_AVG           0.305913\n",
            "1      PASSCOMP_AVG           0.193205\n",
            "6          TGTS_AVG           0.125453\n",
            "3       RUSHATT_AVG           0.093023\n",
            "2   PASSYDS_300_AVG           0.074580\n",
            "9   OPP_PTS_AGT_AVG           0.047499\n",
            "4        RUSHTD_AVG           0.032549\n",
            "5        FUMLST_AVG           0.027375\n",
            "8       WIN/TIE_AVG           0.021320\n",
            "7         RECTD_AVG           0.015940\n",
            "10             HOME           0.009131\n",
            "14           POS_TE           0.008972\n",
            "16  MONTH_September           0.008561\n",
            "11             DOME           0.007026\n",
            "12            GRASS           0.006994\n",
            "18        TIME_Noon           0.006248\n",
            "15           POS_WR           0.006068\n",
            "13           SUNDAY           0.005099\n",
            "17       TIME_Night           0.005044\n"
          ],
          "name": "stdout"
        }
      ]
    },
    {
      "cell_type": "markdown",
      "metadata": {
        "id": "RbHcZneUTkhm"
      },
      "source": [
        "## Comparing Models"
      ]
    },
    {
      "cell_type": "markdown",
      "metadata": {
        "id": "diaELlYpdE5H"
      },
      "source": [
        "In the previous section, we developed our models to find the optimal for Linear, SGD Regrossor, ElasticNet and Random Forest Regressor. Following this, we found out the following:\r\n",
        "* Training Data (Without Cross-Validation): Random Forest is the best model by significant margin over the other models in regards MSE and R-squared\r\n",
        "* Training Data (With Cross-Validation): Random Forest is the worst performing model in relation to MSE, with the other three models performing roughly the same\r\n",
        "* Test Data: Random Forest flips and becomes the best performing model - performing at a similar level to that as with Training data (with cross-validation). The three other models did not generalise as well to the test data with slightly higher MSE.\r\n"
      ]
    },
    {
      "cell_type": "markdown",
      "metadata": {
        "id": "fG6drYvNK2sT"
      },
      "source": [
        "### Simple Models (with no Hyper-parameter tuning)"
      ]
    },
    {
      "cell_type": "markdown",
      "metadata": {
        "id": "5PTldf4QLIeD"
      },
      "source": [
        "#### Without Cross-Validation"
      ]
    },
    {
      "cell_type": "code",
      "metadata": {
        "id": "OfmRt2D9TjcA"
      },
      "source": [
        "model_names = ['Linear', 'SGD', 'ElasticNet', 'Random Forest']\r\n",
        "model_mse = [lm_mse, sgd_mse, en_mse, rf_mse]\r\n",
        "model_r2 = [lm_r2, sgd_r2, en_r2, rf_r2]"
      ],
      "execution_count": 148,
      "outputs": []
    },
    {
      "cell_type": "code",
      "metadata": {
        "id": "Qh8-rHGSVSY0"
      },
      "source": [
        "performance_df = pd.DataFrame(list(zip(model_names, model_mse, model_r2)), columns=['Model', 'MSE', 'R2 Score'])"
      ],
      "execution_count": 149,
      "outputs": []
    },
    {
      "cell_type": "code",
      "metadata": {
        "id": "NYpAu226YBlp",
        "colab": {
          "base_uri": "https://localhost:8080/",
          "height": 175
        },
        "outputId": "7570fa1c-c7bd-4e1c-8f05-39e343ae8441"
      },
      "source": [
        "performance_df.sort_values(by='MSE')"
      ],
      "execution_count": 150,
      "outputs": [
        {
          "output_type": "execute_result",
          "data": {
            "text/html": [
              "<div>\n",
              "<style scoped>\n",
              "    .dataframe tbody tr th:only-of-type {\n",
              "        vertical-align: middle;\n",
              "    }\n",
              "\n",
              "    .dataframe tbody tr th {\n",
              "        vertical-align: top;\n",
              "    }\n",
              "\n",
              "    .dataframe thead th {\n",
              "        text-align: right;\n",
              "    }\n",
              "</style>\n",
              "<table border=\"1\" class=\"dataframe\">\n",
              "  <thead>\n",
              "    <tr style=\"text-align: right;\">\n",
              "      <th></th>\n",
              "      <th>Model</th>\n",
              "      <th>MSE</th>\n",
              "      <th>R2 Score</th>\n",
              "    </tr>\n",
              "  </thead>\n",
              "  <tbody>\n",
              "    <tr>\n",
              "      <th>3</th>\n",
              "      <td>Random Forest</td>\n",
              "      <td>6.168015</td>\n",
              "      <td>0.903896</td>\n",
              "    </tr>\n",
              "    <tr>\n",
              "      <th>0</th>\n",
              "      <td>Linear</td>\n",
              "      <td>40.845815</td>\n",
              "      <td>0.363580</td>\n",
              "    </tr>\n",
              "    <tr>\n",
              "      <th>1</th>\n",
              "      <td>SGD</td>\n",
              "      <td>40.884930</td>\n",
              "      <td>0.362970</td>\n",
              "    </tr>\n",
              "    <tr>\n",
              "      <th>2</th>\n",
              "      <td>ElasticNet</td>\n",
              "      <td>44.632883</td>\n",
              "      <td>0.304573</td>\n",
              "    </tr>\n",
              "  </tbody>\n",
              "</table>\n",
              "</div>"
            ],
            "text/plain": [
              "           Model        MSE  R2 Score\n",
              "3  Random Forest   6.168015  0.903896\n",
              "0         Linear  40.845815  0.363580\n",
              "1            SGD  40.884930  0.362970\n",
              "2     ElasticNet  44.632883  0.304573"
            ]
          },
          "metadata": {
            "tags": []
          },
          "execution_count": 150
        }
      ]
    },
    {
      "cell_type": "code",
      "metadata": {
        "id": "Sf-iG-b_Wpi0",
        "colab": {
          "base_uri": "https://localhost:8080/",
          "height": 394
        },
        "outputId": "db67ec3b-4001-42cf-f8be-bd9d1a57d201"
      },
      "source": [
        "performance_df = performance_df.sort_values(by='MSE')\r\n",
        "\r\n",
        "_ = plt.figure(figsize=(12,6))\r\n",
        "_ = plt.bar(performance_df['Model'], performance_df['MSE'], color='purple')\r\n",
        "_ = plt.ylabel('Mean Squared Error')\r\n",
        "_ = plt.title('Model Performance by Mean Squared Error', fontsize=18)\r\n",
        "\r\n",
        "plt.show()"
      ],
      "execution_count": 151,
      "outputs": [
        {
          "output_type": "display_data",
          "data": {
            "image/png": "[encoded data removed]",
            "text/plain": [
              "<Figure size 864x432 with 1 Axes>"
            ]
          },
          "metadata": {
            "tags": [],
            "needs_background": "light"
          }
        }
      ]
    },
    {
      "cell_type": "code",
      "metadata": {
        "id": "3wHmhRYEW6uD",
        "colab": {
          "base_uri": "https://localhost:8080/",
          "height": 394
        },
        "outputId": "2dd0dc53-1ddb-4901-b7d5-3f61a5f7b77a"
      },
      "source": [
        "performance_df = performance_df.sort_values(by='R2 Score', ascending=False)\r\n",
        "\r\n",
        "_ = plt.figure(figsize=(12,6))\r\n",
        "_ = plt.bar(performance_df['Model'], performance_df['R2 Score'], color='brown')\r\n",
        "_ = plt.ylabel('Mean Squared Error')\r\n",
        "_ = plt.title('Model Performance by R2 Score', fontsize=18)\r\n",
        "\r\n",
        "plt.show()"
      ],
      "execution_count": 152,
      "outputs": [
        {
          "output_type": "display_data",
          "data": {
            "image/png": "[encoded data removed]",
            "text/plain": [
              "<Figure size 864x432 with 1 Axes>"
            ]
          },
          "metadata": {
            "tags": [],
            "needs_background": "light"
          }
        }
      ]
    },
    {
      "cell_type": "markdown",
      "metadata": {
        "id": "bZ_oxwshLPuN"
      },
      "source": [
        "#### With Cross-validation"
      ]
    },
    {
      "cell_type": "code",
      "metadata": {
        "colab": {
          "base_uri": "https://localhost:8080/",
          "height": 175
        },
        "id": "Zqy3_ys9MTUF",
        "outputId": "f3a92108-2aa5-485d-bf72-a15bd6aacd78"
      },
      "source": [
        "performance_df = performance_df.sort_index()\r\n",
        "performance_df['MSE'] = [abs(lm_mse_cv), abs(sgd_mse_cv), abs(en_mse_cv), abs(rf_mse_cv)]\r\n",
        "performance_df.drop(columns='R2 Score', inplace=True)\r\n",
        "performance_df.sort_values(by='MSE')"
      ],
      "execution_count": 153,
      "outputs": [
        {
          "output_type": "execute_result",
          "data": {
            "text/html": [
              "<div>\n",
              "<style scoped>\n",
              "    .dataframe tbody tr th:only-of-type {\n",
              "        vertical-align: middle;\n",
              "    }\n",
              "\n",
              "    .dataframe tbody tr th {\n",
              "        vertical-align: top;\n",
              "    }\n",
              "\n",
              "    .dataframe thead th {\n",
              "        text-align: right;\n",
              "    }\n",
              "</style>\n",
              "<table border=\"1\" class=\"dataframe\">\n",
              "  <thead>\n",
              "    <tr style=\"text-align: right;\">\n",
              "      <th></th>\n",
              "      <th>Model</th>\n",
              "      <th>MSE</th>\n",
              "    </tr>\n",
              "  </thead>\n",
              "  <tbody>\n",
              "    <tr>\n",
              "      <th>0</th>\n",
              "      <td>Linear</td>\n",
              "      <td>40.996690</td>\n",
              "    </tr>\n",
              "    <tr>\n",
              "      <th>1</th>\n",
              "      <td>SGD</td>\n",
              "      <td>41.149281</td>\n",
              "    </tr>\n",
              "    <tr>\n",
              "      <th>3</th>\n",
              "      <td>Random Forest</td>\n",
              "      <td>44.251051</td>\n",
              "    </tr>\n",
              "    <tr>\n",
              "      <th>2</th>\n",
              "      <td>ElasticNet</td>\n",
              "      <td>44.664382</td>\n",
              "    </tr>\n",
              "  </tbody>\n",
              "</table>\n",
              "</div>"
            ],
            "text/plain": [
              "           Model        MSE\n",
              "0         Linear  40.996690\n",
              "1            SGD  41.149281\n",
              "3  Random Forest  44.251051\n",
              "2     ElasticNet  44.664382"
            ]
          },
          "metadata": {
            "tags": []
          },
          "execution_count": 153
        }
      ]
    },
    {
      "cell_type": "code",
      "metadata": {
        "colab": {
          "base_uri": "https://localhost:8080/",
          "height": 394
        },
        "id": "MHXgCP6CMXno",
        "outputId": "7a5f746b-3dc4-4019-e739-3720ec7ccb6c"
      },
      "source": [
        "performance_df = performance_df.sort_values(by='MSE')\r\n",
        "\r\n",
        "_ = plt.figure(figsize=(12,6))\r\n",
        "_ = plt.bar(performance_df['Model'], performance_df['MSE'], color='purple')\r\n",
        "_ = plt.ylabel('Mean Squared Error')\r\n",
        "_ = plt.title('Model Performance by Mean Squared Error', fontsize=18)\r\n",
        "\r\n",
        "plt.show()"
      ],
      "execution_count": 154,
      "outputs": [
        {
          "output_type": "display_data",
          "data": {
            "image/png": "[encoded data removed]",
            "text/plain": [
              "<Figure size 864x432 with 1 Axes>"
            ]
          },
          "metadata": {
            "tags": [],
            "needs_background": "light"
          }
        }
      ]
    },
    {
      "cell_type": "markdown",
      "metadata": {
        "id": "XM8kD84BMcmA"
      },
      "source": [
        "### Optimal Models (after Hyperparameter Tuning)"
      ]
    },
    {
      "cell_type": "markdown",
      "metadata": {
        "id": "2B1PlnnyPUNN"
      },
      "source": [
        "#### Without Cross Validation"
      ]
    },
    {
      "cell_type": "code",
      "metadata": {
        "colab": {
          "base_uri": "https://localhost:8080/",
          "height": 175
        },
        "id": "Z9YeeivzMcL6",
        "outputId": "cbf4a4b0-2b2e-4c99-f5c2-39dc63a7802f"
      },
      "source": [
        "performance_df = performance_df.sort_index()\r\n",
        "performance_df['MSE'] = [lm_mse, sgd_opt_mse, en_opt_mse, rf_opt_mse]\r\n",
        "performance_df['R2 Score'] = [lm_r2, sgd_opt_r2, en_opt_r2, rf_opt_r2]\r\n",
        "performance_df.sort_values(by='MSE')\r\n",
        "performance_df"
      ],
      "execution_count": 155,
      "outputs": [
        {
          "output_type": "execute_result",
          "data": {
            "text/html": [
              "<div>\n",
              "<style scoped>\n",
              "    .dataframe tbody tr th:only-of-type {\n",
              "        vertical-align: middle;\n",
              "    }\n",
              "\n",
              "    .dataframe tbody tr th {\n",
              "        vertical-align: top;\n",
              "    }\n",
              "\n",
              "    .dataframe thead th {\n",
              "        text-align: right;\n",
              "    }\n",
              "</style>\n",
              "<table border=\"1\" class=\"dataframe\">\n",
              "  <thead>\n",
              "    <tr style=\"text-align: right;\">\n",
              "      <th></th>\n",
              "      <th>Model</th>\n",
              "      <th>MSE</th>\n",
              "      <th>R2 Score</th>\n",
              "    </tr>\n",
              "  </thead>\n",
              "  <tbody>\n",
              "    <tr>\n",
              "      <th>0</th>\n",
              "      <td>Linear</td>\n",
              "      <td>40.845815</td>\n",
              "      <td>0.363580</td>\n",
              "    </tr>\n",
              "    <tr>\n",
              "      <th>1</th>\n",
              "      <td>SGD</td>\n",
              "      <td>40.853045</td>\n",
              "      <td>0.363467</td>\n",
              "    </tr>\n",
              "    <tr>\n",
              "      <th>2</th>\n",
              "      <td>ElasticNet</td>\n",
              "      <td>40.852538</td>\n",
              "      <td>0.363475</td>\n",
              "    </tr>\n",
              "    <tr>\n",
              "      <th>3</th>\n",
              "      <td>Random Forest</td>\n",
              "      <td>32.049714</td>\n",
              "      <td>0.500632</td>\n",
              "    </tr>\n",
              "  </tbody>\n",
              "</table>\n",
              "</div>"
            ],
            "text/plain": [
              "           Model        MSE  R2 Score\n",
              "0         Linear  40.845815  0.363580\n",
              "1            SGD  40.853045  0.363467\n",
              "2     ElasticNet  40.852538  0.363475\n",
              "3  Random Forest  32.049714  0.500632"
            ]
          },
          "metadata": {
            "tags": []
          },
          "execution_count": 155
        }
      ]
    },
    {
      "cell_type": "code",
      "metadata": {
        "colab": {
          "base_uri": "https://localhost:8080/",
          "height": 394
        },
        "id": "YDRTYh2MPDH9",
        "outputId": "b7322914-74a7-4771-870e-fb9f38877b21"
      },
      "source": [
        "performance_df = performance_df.sort_values(by='MSE')\r\n",
        "\r\n",
        "_ = plt.figure(figsize=(12,6))\r\n",
        "_ = plt.bar(performance_df['Model'], performance_df['MSE'], color='purple')\r\n",
        "_ = plt.ylabel('Mean Squared Error')\r\n",
        "_ = plt.title('Model Performance by Mean Squared Error', fontsize=18)\r\n",
        "\r\n",
        "plt.show()\r\n",
        "\r\n",
        "performance_df = performance_df.sort_values(by='R2 Score', ascending=False)\r\n",
        "\r\n",
        "_ = plt.figure(figsize=(12,6))\r\n",
        "_ = plt.bar(performance_df['Model'], performance_df['R2 Score'], color='brown')\r\n",
        "_ = plt.ylabel('Mean Squared Error')\r\n",
        "_ = plt.title('Model Performance by R2 Score', fontsize=18)\r\n",
        "\r\n",
        "plt.show()"
      ],
      "execution_count": 156,
      "outputs": [
        {
          "output_type": "display_data",
          "data": {
            "image/png": "[encoded data removed]",
            "text/plain": [
              "<Figure size 864x432 with 1 Axes>"
            ]
          },
          "metadata": {
            "tags": [],
            "needs_background": "light"
          }
        }
      ]
    },
    {
      "cell_type": "code",
      "metadata": {
        "colab": {
          "base_uri": "https://localhost:8080/",
          "height": 394
        },
        "id": "evw9vMAsPMGU",
        "outputId": "fd6aba55-604d-4fca-e94e-e36e4d804537"
      },
      "source": [
        ""
      ],
      "execution_count": 157,
      "outputs": [
        {
          "output_type": "display_data",
          "data": {
            "image/png": "[encoded data removed]",
            "text/plain": [
              "<Figure size 864x432 with 1 Axes>"
            ]
          },
          "metadata": {
            "tags": [],
            "needs_background": "light"
          }
        }
      ]
    },
    {
      "cell_type": "markdown",
      "metadata": {
        "id": "d4xfKuoHPcV3"
      },
      "source": [
        "#### With Cross Validation"
      ]
    },
    {
      "cell_type": "code",
      "metadata": {
        "colab": {
          "base_uri": "https://localhost:8080/",
          "height": 175
        },
        "id": "slTkQwUXPvFs",
        "outputId": "3f5d1341-f80e-4b9c-b952-3944df44139f"
      },
      "source": [
        "performance_df = performance_df.sort_index()\r\n",
        "performance_df['MSE'] = [abs(lm_mse_cv), abs(sgd_opt_mse_cv), abs(en_opt_mse_cv), abs(rf_opt_mse_cv)]\r\n",
        "performance_df.drop(columns='R2 Score', inplace=True)\r\n",
        "performance_df.sort_values(by='MSE')\r\n"
      ],
      "execution_count": 158,
      "outputs": [
        {
          "output_type": "execute_result",
          "data": {
            "text/html": [
              "<div>\n",
              "<style scoped>\n",
              "    .dataframe tbody tr th:only-of-type {\n",
              "        vertical-align: middle;\n",
              "    }\n",
              "\n",
              "    .dataframe tbody tr th {\n",
              "        vertical-align: top;\n",
              "    }\n",
              "\n",
              "    .dataframe thead th {\n",
              "        text-align: right;\n",
              "    }\n",
              "</style>\n",
              "<table border=\"1\" class=\"dataframe\">\n",
              "  <thead>\n",
              "    <tr style=\"text-align: right;\">\n",
              "      <th></th>\n",
              "      <th>Model</th>\n",
              "      <th>MSE</th>\n",
              "    </tr>\n",
              "  </thead>\n",
              "  <tbody>\n",
              "    <tr>\n",
              "      <th>1</th>\n",
              "      <td>SGD</td>\n",
              "      <td>40.986640</td>\n",
              "    </tr>\n",
              "    <tr>\n",
              "      <th>2</th>\n",
              "      <td>ElasticNet</td>\n",
              "      <td>40.986819</td>\n",
              "    </tr>\n",
              "    <tr>\n",
              "      <th>0</th>\n",
              "      <td>Linear</td>\n",
              "      <td>40.996690</td>\n",
              "    </tr>\n",
              "    <tr>\n",
              "      <th>3</th>\n",
              "      <td>Random Forest</td>\n",
              "      <td>41.439744</td>\n",
              "    </tr>\n",
              "  </tbody>\n",
              "</table>\n",
              "</div>"
            ],
            "text/plain": [
              "           Model        MSE\n",
              "1            SGD  40.986640\n",
              "2     ElasticNet  40.986819\n",
              "0         Linear  40.996690\n",
              "3  Random Forest  41.439744"
            ]
          },
          "metadata": {
            "tags": []
          },
          "execution_count": 158
        }
      ]
    },
    {
      "cell_type": "code",
      "metadata": {
        "colab": {
          "base_uri": "https://localhost:8080/",
          "height": 394
        },
        "id": "G8APbkxyQR72",
        "outputId": "87caa061-53f1-491e-9c10-04f64896f461"
      },
      "source": [
        "performance_df = performance_df.sort_values(by='MSE')\r\n",
        "\r\n",
        "_ = plt.figure(figsize=(12,6))\r\n",
        "_ = plt.bar(performance_df['Model'], performance_df['MSE'], color='purple')\r\n",
        "_ = plt.ylabel('Mean Squared Error')\r\n",
        "_ = plt.title('Model Performance by Mean Squared Error', fontsize=18)\r\n",
        "\r\n",
        "plt.show()"
      ],
      "execution_count": 159,
      "outputs": [
        {
          "output_type": "display_data",
          "data": {
            "image/png": "[encoded data removed]",
            "text/plain": [
              "<Figure size 864x432 with 1 Axes>"
            ]
          },
          "metadata": {
            "tags": [],
            "needs_background": "light"
          }
        }
      ]
    },
    {
      "cell_type": "markdown",
      "metadata": {
        "id": "l_UZzxMpQ6mX"
      },
      "source": [
        "### Apply to Test Data"
      ]
    },
    {
      "cell_type": "code",
      "metadata": {
        "colab": {
          "base_uri": "https://localhost:8080/"
        },
        "id": "p8Z0xx2mRAje",
        "outputId": "d7046c93-2d9a-47b0-bb5d-8909f9f1dc86"
      },
      "source": [
        "y_pred = lm_model.predict(X_test)\r\n",
        "\r\n",
        "lm_test_mse = mean_squared_error(y_test, y_pred)\r\n",
        "lm_test_r2 = r2_score(y_test, y_pred)\r\n",
        "\r\n",
        "print('R-squared :', round(r2_score(y_test, y_pred), 2))\r\n",
        "print('Mean Squared Error :', round(mean_squared_error(y_test, y_pred), 2))"
      ],
      "execution_count": 160,
      "outputs": [
        {
          "output_type": "stream",
          "text": [
            "R-squared : 0.35\n",
            "Mean Squared Error : 41.56\n"
          ],
          "name": "stdout"
        }
      ]
    },
    {
      "cell_type": "code",
      "metadata": {
        "colab": {
          "base_uri": "https://localhost:8080/"
        },
        "id": "7UqO1W7qR8BF",
        "outputId": "0294e087-32b1-4e3c-b0b9-49647c625640"
      },
      "source": [
        "y_pred = sgd_opt_model.predict(X_test)\r\n",
        "\r\n",
        "sgd_test_mse = mean_squared_error(y_test, y_pred)\r\n",
        "sgd_test_r2 = r2_score(y_test, y_pred)\r\n",
        "\r\n",
        "print('R-squared :', round(r2_score(y_test, y_pred), 2))\r\n",
        "print('Mean Squared Error :', round(mean_squared_error(y_test, y_pred), 2))"
      ],
      "execution_count": 161,
      "outputs": [
        {
          "output_type": "stream",
          "text": [
            "R-squared : 0.35\n",
            "Mean Squared Error : 41.55\n"
          ],
          "name": "stdout"
        }
      ]
    },
    {
      "cell_type": "code",
      "metadata": {
        "colab": {
          "base_uri": "https://localhost:8080/"
        },
        "id": "1dmFBUjRSDfn",
        "outputId": "77b36e7c-7e31-4195-a234-194aea1aee3e"
      },
      "source": [
        "y_pred = en_opt_model.predict(X_test)\r\n",
        "\r\n",
        "en_test_mse = mean_squared_error(y_test, y_pred)\r\n",
        "en_test_r2 = r2_score(y_test, y_pred)\r\n",
        "\r\n",
        "print('R-squared :', round(r2_score(y_test, y_pred), 2))\r\n",
        "print('Mean Squared Error :', round(mean_squared_error(y_test, y_pred), 2))"
      ],
      "execution_count": 162,
      "outputs": [
        {
          "output_type": "stream",
          "text": [
            "R-squared : 0.35\n",
            "Mean Squared Error : 41.55\n"
          ],
          "name": "stdout"
        }
      ]
    },
    {
      "cell_type": "code",
      "metadata": {
        "colab": {
          "base_uri": "https://localhost:8080/"
        },
        "id": "_axWJ1ZYSH0I",
        "outputId": "76569acd-d38a-482c-d0b4-86fbe13cd73f"
      },
      "source": [
        "y_pred = rf_opt_model.predict(X_test)\r\n",
        "\r\n",
        "rf_test_mse = mean_squared_error(y_test, y_pred)\r\n",
        "rf_test_r2 = r2_score(y_test, y_pred)\r\n",
        "\r\n",
        "print('R-squared :', round(r2_score(y_test, y_pred), 2))\r\n",
        "print('Mean Squared Error :', round(mean_squared_error(y_test, y_pred), 2))"
      ],
      "execution_count": 163,
      "outputs": [
        {
          "output_type": "stream",
          "text": [
            "R-squared : 0.35\n",
            "Mean Squared Error : 41.42\n"
          ],
          "name": "stdout"
        }
      ]
    },
    {
      "cell_type": "code",
      "metadata": {
        "id": "n0A6bIlwdnBo"
      },
      "source": [
        "model_names = ['Linear', 'SGD', 'ElasticNet', 'Random Forest']\r\n",
        "model_mse = [round(lm_test_mse, 2), round(sgd_test_mse, 2), round(en_test_mse, 2), round(rf_test_mse, 2)]\r\n",
        "model_r2 = [round(lm_test_r2, 2), round(sgd_test_r2, 2), round(en_test_r2, 2), round(rf_test_r2, 2)]"
      ],
      "execution_count": 168,
      "outputs": []
    },
    {
      "cell_type": "code",
      "metadata": {
        "id": "8RQhfbJod41n"
      },
      "source": [
        "test_performance_df = pd.DataFrame(list(zip(model_names, model_mse, model_r2)), columns=['Model', 'MSE', 'R2 Score'])"
      ],
      "execution_count": 169,
      "outputs": []
    },
    {
      "cell_type": "code",
      "metadata": {
        "colab": {
          "base_uri": "https://localhost:8080/",
          "height": 175
        },
        "id": "2GUdrLBZeC1D",
        "outputId": "e902b9f9-08b3-41a1-e1ca-71fbb3165943"
      },
      "source": [
        "test_performance_df.sort_values(by='MSE')"
      ],
      "execution_count": 170,
      "outputs": [
        {
          "output_type": "execute_result",
          "data": {
            "text/html": [
              "<div>\n",
              "<style scoped>\n",
              "    .dataframe tbody tr th:only-of-type {\n",
              "        vertical-align: middle;\n",
              "    }\n",
              "\n",
              "    .dataframe tbody tr th {\n",
              "        vertical-align: top;\n",
              "    }\n",
              "\n",
              "    .dataframe thead th {\n",
              "        text-align: right;\n",
              "    }\n",
              "</style>\n",
              "<table border=\"1\" class=\"dataframe\">\n",
              "  <thead>\n",
              "    <tr style=\"text-align: right;\">\n",
              "      <th></th>\n",
              "      <th>Model</th>\n",
              "      <th>MSE</th>\n",
              "      <th>R2 Score</th>\n",
              "    </tr>\n",
              "  </thead>\n",
              "  <tbody>\n",
              "    <tr>\n",
              "      <th>3</th>\n",
              "      <td>Random Forest</td>\n",
              "      <td>41.42</td>\n",
              "      <td>0.35</td>\n",
              "    </tr>\n",
              "    <tr>\n",
              "      <th>1</th>\n",
              "      <td>SGD</td>\n",
              "      <td>41.55</td>\n",
              "      <td>0.35</td>\n",
              "    </tr>\n",
              "    <tr>\n",
              "      <th>2</th>\n",
              "      <td>ElasticNet</td>\n",
              "      <td>41.55</td>\n",
              "      <td>0.35</td>\n",
              "    </tr>\n",
              "    <tr>\n",
              "      <th>0</th>\n",
              "      <td>Linear</td>\n",
              "      <td>41.56</td>\n",
              "      <td>0.35</td>\n",
              "    </tr>\n",
              "  </tbody>\n",
              "</table>\n",
              "</div>"
            ],
            "text/plain": [
              "           Model    MSE  R2 Score\n",
              "3  Random Forest  41.42      0.35\n",
              "1            SGD  41.55      0.35\n",
              "2     ElasticNet  41.55      0.35\n",
              "0         Linear  41.56      0.35"
            ]
          },
          "metadata": {
            "tags": []
          },
          "execution_count": 170
        }
      ]
    },
    {
      "cell_type": "code",
      "metadata": {
        "colab": {
          "base_uri": "https://localhost:8080/",
          "height": 771
        },
        "id": "bB5Y2nB7eDpP",
        "outputId": "cc9a1965-3dd8-4024-f936-613972342b82"
      },
      "source": [
        "test_performance_df = test_performance_df.sort_values(by='MSE')\r\n",
        "\r\n",
        "_ = plt.figure(figsize=(12,6))\r\n",
        "_ = plt.bar(test_performance_df['Model'], test_performance_df['MSE'], color='purple')\r\n",
        "_ = plt.ylabel('Mean Squared Error')\r\n",
        "_ = plt.title('Model Performance by Mean Squared Error', fontsize=18)\r\n",
        "\r\n",
        "plt.show()\r\n",
        "\r\n",
        "test_performance_df = test_performance_df.sort_values(by='R2 Score', ascending=False)\r\n",
        "\r\n",
        "_ = plt.figure(figsize=(12,6))\r\n",
        "_ = plt.bar(test_performance_df['Model'], test_performance_df['R2 Score'], color='brown')\r\n",
        "_ = plt.ylabel('R2 Score')\r\n",
        "_ = plt.title('Model Performance by R2 Score', fontsize=18)\r\n",
        "\r\n",
        "plt.show()"
      ],
      "execution_count": 173,
      "outputs": [
        {
          "output_type": "display_data",
          "data": {
            "image/png": "[encoded data removed]",
            "text/plain": [
              "<Figure size 864x432 with 1 Axes>"
            ]
          },
          "metadata": {
            "tags": [],
            "needs_background": "light"
          }
        },
        {
          "output_type": "display_data",
          "data": {
            "image/png": "[encoded data removed]",
            "text/plain": [
              "<Figure size 864x432 with 1 Axes>"
            ]
          },
          "metadata": {
            "tags": [],
            "needs_background": "light"
          }
        }
      ]
    },
    {
      "cell_type": "markdown",
      "metadata": {
        "id": "Gs9W_5Rwkx9Q"
      },
      "source": [
        "### Final Comparison"
      ]
    },
    {
      "cell_type": "code",
      "metadata": {
        "id": "jj2hyLNQfuk2"
      },
      "source": [
        "model_names = ['Linear', 'SGD', 'ElasticNet', 'Random Forest', 'Linear', 'SGD', 'ElasticNet', 'Random Forest']\r\n",
        "data_type = ['Train', 'Train', 'Train', 'Train', 'Test', 'Test', 'Test', 'Test']\r\n",
        "model_mse = [round(abs(lm_mse), 2), round(abs(sgd_opt_mse_cv), 2), round(abs(en_opt_mse_cv), 2), round(abs(rf_opt_mse_cv), 2), round(lm_test_mse, 2), round(sgd_test_mse, 2), round(en_test_mse, 2), round(rf_test_mse, 2)]\r\n",
        "model_rmse = np.sqrt(model_mse)"
      ],
      "execution_count": 191,
      "outputs": []
    },
    {
      "cell_type": "code",
      "metadata": {
        "id": "afGi8eckg2-2"
      },
      "source": [
        "overall_performance_df = pd.DataFrame(list(zip(model_names,data_type, model_mse, model_rmse)), columns=['Model', 'Data Type', 'MSE', 'RMSE'])"
      ],
      "execution_count": 192,
      "outputs": []
    },
    {
      "cell_type": "code",
      "metadata": {
        "colab": {
          "base_uri": "https://localhost:8080/",
          "height": 300
        },
        "id": "y5VZQz2fiCwq",
        "outputId": "6555de0a-ab96-4bb6-d469-675a4e1db51f"
      },
      "source": [
        "overall_performance_df"
      ],
      "execution_count": 193,
      "outputs": [
        {
          "output_type": "execute_result",
          "data": {
            "text/html": [
              "<div>\n",
              "<style scoped>\n",
              "    .dataframe tbody tr th:only-of-type {\n",
              "        vertical-align: middle;\n",
              "    }\n",
              "\n",
              "    .dataframe tbody tr th {\n",
              "        vertical-align: top;\n",
              "    }\n",
              "\n",
              "    .dataframe thead th {\n",
              "        text-align: right;\n",
              "    }\n",
              "</style>\n",
              "<table border=\"1\" class=\"dataframe\">\n",
              "  <thead>\n",
              "    <tr style=\"text-align: right;\">\n",
              "      <th></th>\n",
              "      <th>Model</th>\n",
              "      <th>Data Type</th>\n",
              "      <th>MSE</th>\n",
              "      <th>RMSE</th>\n",
              "    </tr>\n",
              "  </thead>\n",
              "  <tbody>\n",
              "    <tr>\n",
              "      <th>0</th>\n",
              "      <td>Linear</td>\n",
              "      <td>Train</td>\n",
              "      <td>40.85</td>\n",
              "      <td>6.391400</td>\n",
              "    </tr>\n",
              "    <tr>\n",
              "      <th>1</th>\n",
              "      <td>SGD</td>\n",
              "      <td>Train</td>\n",
              "      <td>40.99</td>\n",
              "      <td>6.402343</td>\n",
              "    </tr>\n",
              "    <tr>\n",
              "      <th>2</th>\n",
              "      <td>ElasticNet</td>\n",
              "      <td>Train</td>\n",
              "      <td>40.99</td>\n",
              "      <td>6.402343</td>\n",
              "    </tr>\n",
              "    <tr>\n",
              "      <th>3</th>\n",
              "      <td>Random Forest</td>\n",
              "      <td>Train</td>\n",
              "      <td>41.44</td>\n",
              "      <td>6.437391</td>\n",
              "    </tr>\n",
              "    <tr>\n",
              "      <th>4</th>\n",
              "      <td>Linear</td>\n",
              "      <td>Test</td>\n",
              "      <td>41.56</td>\n",
              "      <td>6.446705</td>\n",
              "    </tr>\n",
              "    <tr>\n",
              "      <th>5</th>\n",
              "      <td>SGD</td>\n",
              "      <td>Test</td>\n",
              "      <td>41.55</td>\n",
              "      <td>6.445929</td>\n",
              "    </tr>\n",
              "    <tr>\n",
              "      <th>6</th>\n",
              "      <td>ElasticNet</td>\n",
              "      <td>Test</td>\n",
              "      <td>41.55</td>\n",
              "      <td>6.445929</td>\n",
              "    </tr>\n",
              "    <tr>\n",
              "      <th>7</th>\n",
              "      <td>Random Forest</td>\n",
              "      <td>Test</td>\n",
              "      <td>41.42</td>\n",
              "      <td>6.435837</td>\n",
              "    </tr>\n",
              "  </tbody>\n",
              "</table>\n",
              "</div>"
            ],
            "text/plain": [
              "           Model Data Type    MSE      RMSE\n",
              "0         Linear     Train  40.85  6.391400\n",
              "1            SGD     Train  40.99  6.402343\n",
              "2     ElasticNet     Train  40.99  6.402343\n",
              "3  Random Forest     Train  41.44  6.437391\n",
              "4         Linear      Test  41.56  6.446705\n",
              "5            SGD      Test  41.55  6.445929\n",
              "6     ElasticNet      Test  41.55  6.445929\n",
              "7  Random Forest      Test  41.42  6.435837"
            ]
          },
          "metadata": {
            "tags": []
          },
          "execution_count": 193
        }
      ]
    },
    {
      "cell_type": "code",
      "metadata": {
        "colab": {
          "base_uri": "https://localhost:8080/",
          "height": 392
        },
        "id": "3mIrZ_jLiKS6",
        "outputId": "bcb49404-6e95-45a3-edae-c26eecbd4515"
      },
      "source": [
        "_ = plt.figure(figsize=(12,6))\r\n",
        "_ = sns.barplot(x='Model', y='RMSE', hue='Data Type', data=overall_performance_df)\r\n",
        "_ = plt.ylim([6, 6.5])\r\n",
        "\r\n",
        "plt.show()"
      ],
      "execution_count": 197,
      "outputs": [
        {
          "output_type": "display_data",
          "data": {
            "image/png": "[encoded data removed]",
            "text/plain": [
              "<Figure size 864x432 with 1 Axes>"
            ]
          },
          "metadata": {
            "tags": [],
            "needs_background": "light"
          }
        }
      ]
    },
    {
      "cell_type": "markdown",
      "metadata": {
        "id": "7w3bBbLCtfr7"
      },
      "source": [
        "## Conclusion"
      ]
    },
    {
      "cell_type": "markdown",
      "metadata": {
        "id": "u_xzfP-7tsit"
      },
      "source": [
        "The aim of our model was to understand what features could be used to predict future Fantasy Football performance. To acheive this I:\r\n",
        "* Identified 19 features that could be used to understand and predict future fantasy football performance (majority of this work was done at EDA and Pre-processing stage to identify best features for this modelling)\r\n",
        "* As our target variable was continuous, I looked a 4 different type of regression models:\r\n",
        "  1. Linear / OLS Regression\r\n",
        "  2. SGD Regressor\r\n",
        "  3. ElasticNet\r\n",
        "  4. Random Forest Regressor\r\n",
        "* For each of these model, I look to tune the hyperparamaters to identify the optimal model for each. \r\n",
        "* For each model, I measure their performance using both the R-squared and Mean-squared Error - both to highlight difference from tuning individual model as well as how they compare with each other\r\n",
        "* Cross-validating the model on the training data showed that our Linear Regression performance best\r\n",
        "* On our test data, our Random Forest Regressor performed best and had the least variance from from training CV to test performance.\r\n",
        "* Due to the stability of the Random Forest Regressor, I would be inclined to recommend this model going forward as the best model for prediction of Fantasy Football performance. This model:\r\n",
        "  * On average, it will predict a player's fantasy performance +/- 6.44 fantasy points\r\n",
        "  * Previous Fantasy performance is the best indicator of future fantasy performance (when looking at a 4-week period)\r\n",
        "  * Pass completion, Targets, and Rushing attempts are the next most important features which make sense given they are indicators for each of the key positions on the field - QB, RB, WR/TE \r\n"
      ]
    },
    {
      "cell_type": "markdown",
      "metadata": {
        "id": "lht_oU_h0r67"
      },
      "source": [
        "### Next Steps\r\n",
        "\r\n",
        "The model is a good first step in attempting to understanding what influences Fantasy Performance. However, future studies would like to reduce that margin of error down from a RMSE of 6.44 because as all fantasy players know, that one point can be the difference between joy and despair on a given NFL weekend. A couple of options that could be explored would be:\r\n",
        "* I used a 4-week rolling average of performance metrics but different week periods could be applied to see how they impact on performance\r\n",
        "* Clusters were identified during the EDA of this project and could be used to turn this into a Classification problem to see how accurately you can predict if a player will fit into a particular cluster\r\n",
        "* This cluster analysis also identified that I high majority of the dataset produce relatively low scores on a weekly basis and would not be of interest to Fantasy players. Refining the data to exclude players of certain performance level would initially reduce the size of the dataset but may produce more meanignful results for fantasy players.\r\n",
        "* New metrics and / or data sources could be included into the analysis to see if these are better predictors (i.e. offensive line performance, QB performance)\r\n",
        "* Focus on position level as different metrics are likely to have bigger impact by position. This would again reduce the size of the dataset but could produce more meaningful results.\r\n",
        "* Look at different types of regression models (i.e. Support Vector Model) to see how this performs.\r\n",
        "* Different approach for feature engineering (i.e. Principal Component Analysis)"
      ]
    },
    {
      "cell_type": "code",
      "metadata": {
        "id": "ZyPDhkKQ25cZ"
      },
      "source": [
        ""
      ],
      "execution_count": null,
      "outputs": []
    }
  ]
}
