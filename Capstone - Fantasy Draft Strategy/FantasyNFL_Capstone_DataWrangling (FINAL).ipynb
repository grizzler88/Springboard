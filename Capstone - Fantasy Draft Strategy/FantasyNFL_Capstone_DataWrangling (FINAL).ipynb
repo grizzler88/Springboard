{
  "nbformat": 4,
  "nbformat_minor": 0,
  "metadata": {
    "kernelspec": {
      "display_name": "Python 3",
      "language": "python",
      "name": "python3"
    },
    "language_info": {
      "codemirror_mode": {
        "name": "ipython",
        "version": 3
      },
      "file_extension": ".py",
      "mimetype": "text/x-python",
      "name": "python",
      "nbconvert_exporter": "python",
      "pygments_lexer": "ipython3",
      "version": "3.8.5"
    },
    "colab": {
      "name": "FantasyNFL_Capstone_DataWrangling_FINAL.ipynb",
      "provenance": [],
      "toc_visible": true,
      "include_colab_link": true
    }
  },
  "cells": [
    {
      "cell_type": "markdown",
      "metadata": {
        "id": "view-in-github",
        "colab_type": "text"
      },
      "source": [
        "<a href=\"https://colab.research.google.com/github/grizzler88/Springboard/blob/master/Capstone%20-%20Fantasy%20Draft%20Strategy/FantasyNFL_Capstone_DataWrangling_FINAL.ipynb\" target=\"_parent\"><img src=\"https://colab.research.google.com/assets/colab-badge.svg\" alt=\"Open In Colab\"/></a>"
      ]
    },
    {
      "cell_type": "markdown",
      "metadata": {
        "id": "WFykphJLYkA0"
      },
      "source": [
        "# Fantasy NFL Capstone (Step 1 - Data Wrangling)"
      ]
    },
    {
      "cell_type": "markdown",
      "metadata": {
        "id": "lX6weH33oLPJ"
      },
      "source": [
        "## Data Collection"
      ]
    },
    {
      "cell_type": "markdown",
      "metadata": {
        "id": "_9cqk9jjYymm"
      },
      "source": [
        "For this project, I will be using data from the website League Station. This data provides information on NFL player fantasy performance for the 2015, 2016, 2017, 2018 and 2019 NFL seasons.\r\n",
        "\r\n",
        "In the following sections, I will load the data sources and merge them together."
      ]
    },
    {
      "cell_type": "code",
      "metadata": {
        "id": "Volkii3QoLPb"
      },
      "source": [
        "import pandas as pd\n",
        "import os\n",
        "import datetime\n",
        "import matplotlib.pyplot as plt\n",
        "import numpy as np"
      ],
      "execution_count": 1,
      "outputs": []
    },
    {
      "cell_type": "code",
      "metadata": {
        "id": "WqrhY7z3oLPk"
      },
      "source": [
        "#os.getcwd()\n",
        "#os.listdir()"
      ],
      "execution_count": 2,
      "outputs": []
    },
    {
      "cell_type": "code",
      "metadata": {
        "id": "Jm-dSweToLPx"
      },
      "source": [
        "path = 'League Station - NFL Player Data 2015-2018.xlsx'\n",
        "df1 = pd.read_excel(path, 'Data')\n",
        "#df1.head()"
      ],
      "execution_count": 3,
      "outputs": []
    },
    {
      "cell_type": "code",
      "metadata": {
        "colab": {
          "base_uri": "https://localhost:8080/"
        },
        "id": "tCJO6eNsoLP6",
        "outputId": "b88db0bf-9125-48d7-8c62-de00c289806b"
      },
      "source": [
        "df1.shape"
      ],
      "execution_count": 4,
      "outputs": [
        {
          "output_type": "execute_result",
          "data": {
            "text/plain": [
              "(19004, 40)"
            ]
          },
          "metadata": {
            "tags": []
          },
          "execution_count": 4
        }
      ]
    },
    {
      "cell_type": "code",
      "metadata": {
        "id": "KbSl5OaKoLQG"
      },
      "source": [
        "path2 = 'League Station - NFL Player Data 2019.xlsx'\n",
        "df2 = pd.read_excel(path2, 'Data')\n",
        "#df2.tail()"
      ],
      "execution_count": 5,
      "outputs": []
    },
    {
      "cell_type": "code",
      "metadata": {
        "colab": {
          "base_uri": "https://localhost:8080/"
        },
        "id": "iM22lIy9oLQP",
        "outputId": "2e58b45d-1b89-4c7d-e888-ce7a68ff062b"
      },
      "source": [
        "df2.shape"
      ],
      "execution_count": 6,
      "outputs": [
        {
          "output_type": "execute_result",
          "data": {
            "text/plain": [
              "(4711, 40)"
            ]
          },
          "metadata": {
            "tags": []
          },
          "execution_count": 6
        }
      ]
    },
    {
      "cell_type": "markdown",
      "metadata": {
        "id": "uGAsd9iOoLQV"
      },
      "source": [
        "### Appending Data Frames"
      ]
    },
    {
      "cell_type": "code",
      "metadata": {
        "id": "AG02H0H2oLQZ"
      },
      "source": [
        "df = df1.append(df2)"
      ],
      "execution_count": 7,
      "outputs": []
    },
    {
      "cell_type": "code",
      "metadata": {
        "colab": {
          "base_uri": "https://localhost:8080/"
        },
        "id": "qc2GAQUdoLQe",
        "outputId": "e6182fe7-845c-4d89-aad5-25d2d1b0fabc"
      },
      "source": [
        "df.shape"
      ],
      "execution_count": 8,
      "outputs": [
        {
          "output_type": "execute_result",
          "data": {
            "text/plain": [
              "(23715, 40)"
            ]
          },
          "metadata": {
            "tags": []
          },
          "execution_count": 8
        }
      ]
    },
    {
      "cell_type": "markdown",
      "metadata": {
        "id": "H4FmBPTtoLQo"
      },
      "source": [
        "### Column Matching"
      ]
    },
    {
      "cell_type": "markdown",
      "metadata": {
        "id": "L7s4QKwJo-5j"
      },
      "source": [
        "Running for loop to see if all columns in df1 match with columns in df2."
      ]
    },
    {
      "cell_type": "code",
      "metadata": {
        "id": "0wflgOgboLQ3"
      },
      "source": [
        "df1_cols = list(df1.columns)\n",
        "df2_cols = list(df2.columns)\n",
        "\n",
        "# Checking to see if all column names match\n",
        "i = 0\n",
        "for col in df1_cols:\n",
        "    if col == df2_cols[i]:\n",
        "        i = i + 1\n",
        "        continue\n",
        "    else:\n",
        "        print(str(i) + ' is a mismatch')\n",
        "        i = i + 1"
      ],
      "execution_count": 9,
      "outputs": []
    },
    {
      "cell_type": "markdown",
      "metadata": {
        "id": "AGdGrSYeoLQ7"
      },
      "source": [
        "## Data Organisation"
      ]
    },
    {
      "cell_type": "markdown",
      "metadata": {
        "id": "_crt-KoHoLQ-"
      },
      "source": [
        "For all the various different datasets, notebooks and reports associated with this project, I have added a library to GitHub for them:\n",
        "\n",
        "https://github.com/grizzler88/Springboard/tree/master/Capstone%20-%20Fantasy%20Draft%20Strategy \n"
      ]
    },
    {
      "cell_type": "markdown",
      "metadata": {
        "id": "HVylhfssoLRA"
      },
      "source": [
        "## Data Definition"
      ]
    },
    {
      "cell_type": "markdown",
      "metadata": {
        "id": "GUE-mv4uhH-e"
      },
      "source": [
        "In this section, I review the data types in the dataset and make changes to data as appropriate."
      ]
    },
    {
      "cell_type": "code",
      "metadata": {
        "id": "eJD6Lc0ioLRF"
      },
      "source": [
        "#df.info()"
      ],
      "execution_count": 10,
      "outputs": []
    },
    {
      "cell_type": "markdown",
      "metadata": {
        "id": "pDW_YKAxoLRI"
      },
      "source": [
        "Reviewing data types shows that 'SEASON' is a 'int' data type although we will be using it as categorical variable. \n",
        "\n",
        "Below is to convert this column into a string value."
      ]
    },
    {
      "cell_type": "code",
      "metadata": {
        "id": "07Jip0EJoLRL"
      },
      "source": [
        "df['SEASON'] = df['SEASON'].astype(str)"
      ],
      "execution_count": 11,
      "outputs": []
    },
    {
      "cell_type": "code",
      "metadata": {
        "id": "eS-yT2GGoLRU"
      },
      "source": [
        "#df.dtypes"
      ],
      "execution_count": 12,
      "outputs": []
    },
    {
      "cell_type": "markdown",
      "metadata": {
        "id": "LRzZ5LdvoLRZ"
      },
      "source": [
        "## Data Cleaning"
      ]
    },
    {
      "cell_type": "markdown",
      "metadata": {
        "id": "9GgL6e82hGkw"
      },
      "source": [
        "In this section, we will investigate the data more thoroughly to understand what changes are needed to make sure the data is as clean as possible before we analyse it further. \r\n",
        "\r\n",
        "We will start by using the describe() method to see the statitical makeup of our numeric columns, followed by doing a for loop to see how many unique values are in our object columns."
      ]
    },
    {
      "cell_type": "code",
      "metadata": {
        "colab": {
          "base_uri": "https://localhost:8080/",
          "height": 0
        },
        "id": "edUT5xyDoLRe",
        "outputId": "983c35d7-738a-4396-dbb8-1bab91281a44"
      },
      "source": [
        "df.describe()"
      ],
      "execution_count": 13,
      "outputs": [
        {
          "output_type": "execute_result",
          "data": {
            "text/html": [
              "<div>\n",
              "<style scoped>\n",
              "    .dataframe tbody tr th:only-of-type {\n",
              "        vertical-align: middle;\n",
              "    }\n",
              "\n",
              "    .dataframe tbody tr th {\n",
              "        vertical-align: top;\n",
              "    }\n",
              "\n",
              "    .dataframe thead th {\n",
              "        text-align: right;\n",
              "    }\n",
              "</style>\n",
              "<table border=\"1\" class=\"dataframe\">\n",
              "  <thead>\n",
              "    <tr style=\"text-align: right;\">\n",
              "      <th></th>\n",
              "      <th>FAN PTS</th>\n",
              "      <th>PASSCOMP</th>\n",
              "      <th>PASSATT</th>\n",
              "      <th>PASSCOMP%</th>\n",
              "      <th>PASSYDS</th>\n",
              "      <th>PASSTD</th>\n",
              "      <th>INT</th>\n",
              "      <th>QBRAT</th>\n",
              "      <th>SACK</th>\n",
              "      <th>SACKYDS</th>\n",
              "      <th>RUSHATT</th>\n",
              "      <th>RUSHYDS</th>\n",
              "      <th>RUSHTD</th>\n",
              "      <th>TGTS</th>\n",
              "      <th>REC</th>\n",
              "      <th>RECYDS</th>\n",
              "      <th>RECTD</th>\n",
              "      <th>FUM</th>\n",
              "      <th>FUMLST</th>\n",
              "    </tr>\n",
              "  </thead>\n",
              "  <tbody>\n",
              "    <tr>\n",
              "      <th>count</th>\n",
              "      <td>23715.000000</td>\n",
              "      <td>23715.000000</td>\n",
              "      <td>23715.000000</td>\n",
              "      <td>23715.000000</td>\n",
              "      <td>23715.000000</td>\n",
              "      <td>23715.000000</td>\n",
              "      <td>23715.000000</td>\n",
              "      <td>23715.000000</td>\n",
              "      <td>23715.00000</td>\n",
              "      <td>23715.000000</td>\n",
              "      <td>23715.000000</td>\n",
              "      <td>23715.000000</td>\n",
              "      <td>23715.000000</td>\n",
              "      <td>23715.000000</td>\n",
              "      <td>23715.000000</td>\n",
              "      <td>23715.000000</td>\n",
              "      <td>23715.000000</td>\n",
              "      <td>23715.000000</td>\n",
              "      <td>23715.000000</td>\n",
              "    </tr>\n",
              "    <tr>\n",
              "      <th>mean</th>\n",
              "      <td>7.019907</td>\n",
              "      <td>2.391061</td>\n",
              "      <td>3.778705</td>\n",
              "      <td>0.079401</td>\n",
              "      <td>27.215475</td>\n",
              "      <td>0.169218</td>\n",
              "      <td>0.088973</td>\n",
              "      <td>11.286629</td>\n",
              "      <td>0.25486</td>\n",
              "      <td>1.685009</td>\n",
              "      <td>2.834662</td>\n",
              "      <td>11.977820</td>\n",
              "      <td>0.087455</td>\n",
              "      <td>3.561923</td>\n",
              "      <td>2.390217</td>\n",
              "      <td>27.211933</td>\n",
              "      <td>0.169218</td>\n",
              "      <td>0.115370</td>\n",
              "      <td>0.055113</td>\n",
              "    </tr>\n",
              "    <tr>\n",
              "      <th>std</th>\n",
              "      <td>7.459098</td>\n",
              "      <td>7.033341</td>\n",
              "      <td>10.999139</td>\n",
              "      <td>0.217173</td>\n",
              "      <td>80.797312</td>\n",
              "      <td>0.615230</td>\n",
              "      <td>0.397251</td>\n",
              "      <td>31.379713</td>\n",
              "      <td>0.91102</td>\n",
              "      <td>6.313321</td>\n",
              "      <td>5.317517</td>\n",
              "      <td>25.532093</td>\n",
              "      <td>0.333443</td>\n",
              "      <td>3.411787</td>\n",
              "      <td>2.327447</td>\n",
              "      <td>32.063177</td>\n",
              "      <td>0.425822</td>\n",
              "      <td>0.376323</td>\n",
              "      <td>0.242538</td>\n",
              "    </tr>\n",
              "    <tr>\n",
              "      <th>min</th>\n",
              "      <td>-10.200000</td>\n",
              "      <td>0.000000</td>\n",
              "      <td>0.000000</td>\n",
              "      <td>0.000000</td>\n",
              "      <td>-4.000000</td>\n",
              "      <td>0.000000</td>\n",
              "      <td>0.000000</td>\n",
              "      <td>0.000000</td>\n",
              "      <td>0.00000</td>\n",
              "      <td>0.000000</td>\n",
              "      <td>0.000000</td>\n",
              "      <td>-23.000000</td>\n",
              "      <td>0.000000</td>\n",
              "      <td>0.000000</td>\n",
              "      <td>0.000000</td>\n",
              "      <td>-16.000000</td>\n",
              "      <td>0.000000</td>\n",
              "      <td>0.000000</td>\n",
              "      <td>0.000000</td>\n",
              "    </tr>\n",
              "    <tr>\n",
              "      <th>25%</th>\n",
              "      <td>1.500000</td>\n",
              "      <td>0.000000</td>\n",
              "      <td>0.000000</td>\n",
              "      <td>0.000000</td>\n",
              "      <td>0.000000</td>\n",
              "      <td>0.000000</td>\n",
              "      <td>0.000000</td>\n",
              "      <td>0.000000</td>\n",
              "      <td>0.00000</td>\n",
              "      <td>0.000000</td>\n",
              "      <td>0.000000</td>\n",
              "      <td>0.000000</td>\n",
              "      <td>0.000000</td>\n",
              "      <td>1.000000</td>\n",
              "      <td>1.000000</td>\n",
              "      <td>2.000000</td>\n",
              "      <td>0.000000</td>\n",
              "      <td>0.000000</td>\n",
              "      <td>0.000000</td>\n",
              "    </tr>\n",
              "    <tr>\n",
              "      <th>50%</th>\n",
              "      <td>4.400000</td>\n",
              "      <td>0.000000</td>\n",
              "      <td>0.000000</td>\n",
              "      <td>0.000000</td>\n",
              "      <td>0.000000</td>\n",
              "      <td>0.000000</td>\n",
              "      <td>0.000000</td>\n",
              "      <td>0.000000</td>\n",
              "      <td>0.00000</td>\n",
              "      <td>0.000000</td>\n",
              "      <td>0.000000</td>\n",
              "      <td>0.000000</td>\n",
              "      <td>0.000000</td>\n",
              "      <td>3.000000</td>\n",
              "      <td>2.000000</td>\n",
              "      <td>16.000000</td>\n",
              "      <td>0.000000</td>\n",
              "      <td>0.000000</td>\n",
              "      <td>0.000000</td>\n",
              "    </tr>\n",
              "    <tr>\n",
              "      <th>75%</th>\n",
              "      <td>10.300000</td>\n",
              "      <td>0.000000</td>\n",
              "      <td>0.000000</td>\n",
              "      <td>0.000000</td>\n",
              "      <td>0.000000</td>\n",
              "      <td>0.000000</td>\n",
              "      <td>0.000000</td>\n",
              "      <td>0.000000</td>\n",
              "      <td>0.00000</td>\n",
              "      <td>0.000000</td>\n",
              "      <td>3.000000</td>\n",
              "      <td>11.000000</td>\n",
              "      <td>0.000000</td>\n",
              "      <td>6.000000</td>\n",
              "      <td>4.000000</td>\n",
              "      <td>41.000000</td>\n",
              "      <td>0.000000</td>\n",
              "      <td>0.000000</td>\n",
              "      <td>0.000000</td>\n",
              "    </tr>\n",
              "    <tr>\n",
              "      <th>max</th>\n",
              "      <td>58.300000</td>\n",
              "      <td>45.000000</td>\n",
              "      <td>68.000000</td>\n",
              "      <td>1.000000</td>\n",
              "      <td>517.000000</td>\n",
              "      <td>7.000000</td>\n",
              "      <td>6.000000</td>\n",
              "      <td>158.300000</td>\n",
              "      <td>11.00000</td>\n",
              "      <td>72.000000</td>\n",
              "      <td>38.000000</td>\n",
              "      <td>238.000000</td>\n",
              "      <td>4.000000</td>\n",
              "      <td>23.000000</td>\n",
              "      <td>17.000000</td>\n",
              "      <td>300.000000</td>\n",
              "      <td>4.000000</td>\n",
              "      <td>4.000000</td>\n",
              "      <td>3.000000</td>\n",
              "    </tr>\n",
              "  </tbody>\n",
              "</table>\n",
              "</div>"
            ],
            "text/plain": [
              "            FAN PTS      PASSCOMP  ...           FUM        FUMLST\n",
              "count  23715.000000  23715.000000  ...  23715.000000  23715.000000\n",
              "mean       7.019907      2.391061  ...      0.115370      0.055113\n",
              "std        7.459098      7.033341  ...      0.376323      0.242538\n",
              "min      -10.200000      0.000000  ...      0.000000      0.000000\n",
              "25%        1.500000      0.000000  ...      0.000000      0.000000\n",
              "50%        4.400000      0.000000  ...      0.000000      0.000000\n",
              "75%       10.300000      0.000000  ...      0.000000      0.000000\n",
              "max       58.300000     45.000000  ...      4.000000      3.000000\n",
              "\n",
              "[8 rows x 19 columns]"
            ]
          },
          "metadata": {
            "tags": []
          },
          "execution_count": 13
        }
      ]
    },
    {
      "cell_type": "code",
      "metadata": {
        "colab": {
          "base_uri": "https://localhost:8080/"
        },
        "id": "_Cw5H1yUoLRp",
        "outputId": "170cc829-3704-4ab5-926a-847f31dbb54c"
      },
      "source": [
        "for col in df:\n",
        "    print(col + ' = ' + str(df[col].nunique()))"
      ],
      "execution_count": 14,
      "outputs": [
        {
          "output_type": "stream",
          "text": [
            "POS = 22\n",
            "PLAYER = 1760\n",
            "FAN PTS = 2278\n",
            "TEAM = 32\n",
            "HC = 63\n",
            "OC = 76\n",
            "DC = 62\n",
            "H/A = 2\n",
            "OPP = 32\n",
            "OPP HC = 63\n",
            "OPP OC = 76\n",
            "OPP DC = 62\n",
            "DATE = 251\n",
            "SEASON = 5\n",
            "WEEK = 17\n",
            "MONTH = 5\n",
            "DAY = 4\n",
            "TIME = 5\n",
            "ROOF = 2\n",
            "SURFACE = 2\n",
            "W/L = 3\n",
            "SCORE = 972\n",
            "PASSCOMP = 46\n",
            "PASSATT = 67\n",
            "PASSCOMP% = 397\n",
            "PASSYDS = 443\n",
            "PASSTD = 8\n",
            "INT = 7\n",
            "QBRAT = 1001\n",
            "SACK = 12\n",
            "SACKYDS = 70\n",
            "RUSHATT = 38\n",
            "RUSHYDS = 207\n",
            "RUSHTD = 5\n",
            "TGTS = 24\n",
            "REC = 18\n",
            "RECYDS = 220\n",
            "RECTD = 5\n",
            "FUM = 5\n",
            "FUMLST = 4\n"
          ],
          "name": "stdout"
        }
      ]
    },
    {
      "cell_type": "markdown",
      "metadata": {
        "id": "IZC-zZJ6oLRu"
      },
      "source": [
        "### 'POS' Column Clean\n",
        "\n"
      ]
    },
    {
      "cell_type": "markdown",
      "metadata": {
        "id": "_m5hle-_imL-"
      },
      "source": [
        "This looks to have more variables than expected. I will look through this column to understand what is included here and make changes if necessary."
      ]
    },
    {
      "cell_type": "code",
      "metadata": {
        "id": "6VfYCaVnoLR0"
      },
      "source": [
        "#df['POS'].unique()"
      ],
      "execution_count": 15,
      "outputs": []
    },
    {
      "cell_type": "code",
      "metadata": {
        "colab": {
          "base_uri": "https://localhost:8080/"
        },
        "id": "PXQLjZghoLR5",
        "outputId": "b6fa56a6-71c9-4cec-8f5f-1788f989b43c"
      },
      "source": [
        "df['POS'].value_counts()"
      ],
      "execution_count": 16,
      "outputs": [
        {
          "output_type": "execute_result",
          "data": {
            "text/plain": [
              "WR    9197\n",
              "RB    6416\n",
              "TE    4352\n",
              "QB    3015\n",
              "FB     537\n",
              "P       81\n",
              "S       22\n",
              "CB      16\n",
              "DT      16\n",
              "K       11\n",
              "T       11\n",
              "LB       8\n",
              "DE       7\n",
              "G        5\n",
              "OT       5\n",
              "LT       4\n",
              "DB       3\n",
              "C        3\n",
              "OL       2\n",
              "FS       2\n",
              "LS       1\n",
              "DL       1\n",
              "Name: POS, dtype: int64"
            ]
          },
          "metadata": {
            "tags": []
          },
          "execution_count": 16
        }
      ]
    },
    {
      "cell_type": "code",
      "metadata": {
        "id": "vsLMFx6YoLR9"
      },
      "source": [
        "mapping = {'QB':'QB', 'RB':'RB', 'FB':'RB','WR':'WR', 'TE':'TE','P':'OTH','S':'OTH','DT':'OTH','CB':'OTH', \n",
        "           'K':'OTH','T':'OTH', 'LB':'OTH', 'DE':'OTH', 'OT':'OTH', 'G':'OTH', 'LT':'OTH', 'C':'OTH',\n",
        "          'DB':'OTH', 'FS':'OTH', 'OL':'OTH','DL':'OTH','LS':'OTH'}\n",
        "\n",
        "\n",
        "df['POS_AGG'] = df['POS'].replace(mapping)\n",
        "#df['POS_AGG'].unique()"
      ],
      "execution_count": 17,
      "outputs": []
    },
    {
      "cell_type": "code",
      "metadata": {
        "colab": {
          "base_uri": "https://localhost:8080/"
        },
        "id": "IGvvBxjYoLSC",
        "outputId": "e7e05c87-c8cf-4ab3-a8e8-672181b42242"
      },
      "source": [
        "df['POS_AGG'].value_counts()"
      ],
      "execution_count": 18,
      "outputs": [
        {
          "output_type": "execute_result",
          "data": {
            "text/plain": [
              "WR     9197\n",
              "RB     6953\n",
              "TE     4352\n",
              "QB     3015\n",
              "OTH     198\n",
              "Name: POS_AGG, dtype: int64"
            ]
          },
          "metadata": {
            "tags": []
          },
          "execution_count": 18
        }
      ]
    },
    {
      "cell_type": "code",
      "metadata": {
        "colab": {
          "base_uri": "https://localhost:8080/"
        },
        "id": "A-RGvQOAoLSI",
        "outputId": "6574ab68-6661-466b-8006-5fc5f13f33f2"
      },
      "source": [
        "df.shape"
      ],
      "execution_count": 19,
      "outputs": [
        {
          "output_type": "execute_result",
          "data": {
            "text/plain": [
              "(23715, 41)"
            ]
          },
          "metadata": {
            "tags": []
          },
          "execution_count": 19
        }
      ]
    },
    {
      "cell_type": "markdown",
      "metadata": {
        "id": "zM4M78UioLSN"
      },
      "source": [
        "### Object For Loop"
      ]
    },
    {
      "cell_type": "markdown",
      "metadata": {
        "id": "thgg2ulDitAo"
      },
      "source": [
        "Ended up using this for loop throughout process so turned into a function to make it easier to access."
      ]
    },
    {
      "cell_type": "code",
      "metadata": {
        "id": "Ht31UCaAoLSP"
      },
      "source": [
        "def object_col(df):\n",
        "\n",
        "    '''\n",
        "    This fucntion prints all columns that are object data types\n",
        "    '''\n",
        "\n",
        "    for col in df:\n",
        "        if df[col].dtypes == 'object':\n",
        "            print(col)\n",
        "        else:\n",
        "            continue"
      ],
      "execution_count": 20,
      "outputs": []
    },
    {
      "cell_type": "code",
      "metadata": {
        "id": "P_5u8khhoLSR"
      },
      "source": [
        "#object_col(df)"
      ],
      "execution_count": 21,
      "outputs": []
    },
    {
      "cell_type": "markdown",
      "metadata": {
        "id": "UMWaDbHaoLST"
      },
      "source": [
        "### 'PLAYER' column clean"
      ]
    },
    {
      "cell_type": "markdown",
      "metadata": {
        "id": "Jve7yPCtoLSX"
      },
      "source": [
        "Look at 'PLAYER' column to understand how it is structured and what adjustments are needed."
      ]
    },
    {
      "cell_type": "code",
      "metadata": {
        "scrolled": false,
        "colab": {
          "base_uri": "https://localhost:8080/",
          "height": 0
        },
        "id": "pdWgTk9woLSa",
        "outputId": "cf1eee06-6638-4499-d3de-f3c11fd71dce"
      },
      "source": [
        "list(df['PLAYER'].unique())[0]"
      ],
      "execution_count": 22,
      "outputs": [
        {
          "output_type": "execute_result",
          "data": {
            "application/vnd.google.colaboratory.intrinsic+json": {
              "type": "string"
            },
            "text/plain": [
              "'Aaron Rodgers GNB - QB'"
            ]
          },
          "metadata": {
            "tags": []
          },
          "execution_count": 22
        }
      ]
    },
    {
      "cell_type": "markdown",
      "metadata": {
        "id": "UF56opJBoLSd"
      },
      "source": [
        "Split column with results in new column 'PLAYER_SPLIT'"
      ]
    },
    {
      "cell_type": "code",
      "metadata": {
        "id": "KBfFxsHRoLSf"
      },
      "source": [
        "df['PLAYER_SPLIT'] = df['PLAYER'].str.split()\n",
        "#df['PLAYER_SPLIT']"
      ],
      "execution_count": 23,
      "outputs": []
    },
    {
      "cell_type": "markdown",
      "metadata": {
        "id": "GqSQXUFqoLSi"
      },
      "source": [
        "Create new column 'PLAYER_SPLIT_LEN' to show how many indexes are in split. Then apply value_counts() to understand how best to transform into new fields you want."
      ]
    },
    {
      "cell_type": "code",
      "metadata": {
        "colab": {
          "base_uri": "https://localhost:8080/"
        },
        "id": "iGVQ7H8yoLSk",
        "outputId": "80047d73-8945-4f07-de0d-0b9b955f5c46"
      },
      "source": [
        "PLAYER_SPLIT_LEN = []\n",
        "for split in df['PLAYER_SPLIT']:\n",
        "    no = len(split)\n",
        "    PLAYER_SPLIT_LEN.append(no)\n",
        "    \n",
        "df['PLAYER_SPLIT_LEN'] = PLAYER_SPLIT_LEN\n",
        "df['PLAYER_SPLIT_LEN'].value_counts()"
      ],
      "execution_count": 24,
      "outputs": [
        {
          "output_type": "execute_result",
          "data": {
            "text/plain": [
              "5    23690\n",
              "6       25\n",
              "Name: PLAYER_SPLIT_LEN, dtype: int64"
            ]
          },
          "metadata": {
            "tags": []
          },
          "execution_count": 24
        }
      ]
    },
    {
      "cell_type": "markdown",
      "metadata": {
        "id": "TCS1QttjoLSq"
      },
      "source": [
        "Create FOR loop to run through 'PLAYER_SPLIT' and based on length of split, decide how to assign to new name, team or position list. These lists are then assigned to Data Serieis in DataFrame."
      ]
    },
    {
      "cell_type": "code",
      "metadata": {
        "scrolled": false,
        "id": "KPNIGQSPoLSt"
      },
      "source": [
        "new_name = []\n",
        "new_team = []\n",
        "new_position = []\n",
        "for split in df['PLAYER_SPLIT']:\n",
        "    if len(split) == 6:\n",
        "        name = split[0] + ' ' + split[1] + ' ' + split[2]\n",
        "        team = split[3]\n",
        "        position = split[5]\n",
        "        new_name.append(name)\n",
        "        new_team.append(team)\n",
        "        new_position.append(position)\n",
        "    elif len(split) == 5:\n",
        "        name = split[0] + ' ' + split[1]\n",
        "        team = split[2]\n",
        "        position = split[4]\n",
        "        new_name.append(name)\n",
        "        new_team.append(team)\n",
        "        new_position.append(position)\n",
        "    else:\n",
        "        name = 'Unknown'\n",
        "        team = 'N/A'\n",
        "        position = 'N/A'\n",
        "        new_name.append(name)\n",
        "        new_team.append(team)\n",
        "        new_position.append(position)\n",
        "\n",
        "df['PLAYER_NAME'] = new_name\n",
        "df['TEAM_ABV'] = new_team\n",
        "df['POS_CHECK'] = new_position\n",
        "#df.head()"
      ],
      "execution_count": 25,
      "outputs": []
    },
    {
      "cell_type": "markdown",
      "metadata": {
        "id": "xbNrsplLoLSu"
      },
      "source": [
        "Checking to make sure correct values got assigned with player names with lenght of 6."
      ]
    },
    {
      "cell_type": "code",
      "metadata": {
        "scrolled": false,
        "id": "F6h-oRLLoLSx"
      },
      "source": [
        "#df[df['PLAYER_SPLIT_LEN'] == 6]"
      ],
      "execution_count": 26,
      "outputs": []
    },
    {
      "cell_type": "markdown",
      "metadata": {
        "id": "XkubuPnRoLSz"
      },
      "source": [
        "Dropping 'PLAYER', 'PLAYER_SPLIT' and 'PLAYER_SPLIT_LEN' columns as no longer needed."
      ]
    },
    {
      "cell_type": "code",
      "metadata": {
        "scrolled": true,
        "id": "_gBqBaiOoLS1"
      },
      "source": [
        "df.drop(columns=['PLAYER', 'PLAYER_SPLIT_LEN', 'PLAYER_SPLIT'], inplace=True)\n",
        "#df.head()"
      ],
      "execution_count": 27,
      "outputs": []
    },
    {
      "cell_type": "markdown",
      "metadata": {
        "id": "Y273ku0IoLS4"
      },
      "source": [
        "Checking to make sure positions columns match and dropping one column if duplicate."
      ]
    },
    {
      "cell_type": "code",
      "metadata": {
        "colab": {
          "base_uri": "https://localhost:8080/"
        },
        "id": "SUxjNYrVoLS5",
        "outputId": "733f6a82-b9a3-478a-c521-319e7f9071c2"
      },
      "source": [
        "(df['POS'] == df['POS_CHECK']).value_counts()"
      ],
      "execution_count": 28,
      "outputs": [
        {
          "output_type": "execute_result",
          "data": {
            "text/plain": [
              "True    23715\n",
              "dtype: int64"
            ]
          },
          "metadata": {
            "tags": []
          },
          "execution_count": 28
        }
      ]
    },
    {
      "cell_type": "code",
      "metadata": {
        "id": "arE2XWTcoLS9"
      },
      "source": [
        "df.drop(columns=['POS_CHECK'], inplace=True)\n",
        "#df.head()"
      ],
      "execution_count": 29,
      "outputs": []
    },
    {
      "cell_type": "markdown",
      "metadata": {
        "id": "5Fnwihh4oLTA"
      },
      "source": [
        "### 'TEAM' Column Clean"
      ]
    },
    {
      "cell_type": "code",
      "metadata": {
        "scrolled": false,
        "id": "qEt4FvomoLTB"
      },
      "source": [
        "#object_col(df)"
      ],
      "execution_count": 30,
      "outputs": []
    },
    {
      "cell_type": "markdown",
      "metadata": {
        "id": "dG4MrGpWoLTJ"
      },
      "source": [
        "Looking at two fields for team name shows that one has 32 uniques values vs 33. This is because the 'Chargers' moved from San Diego to LA in 2019 causing there to be a different 3-letter abbreviation in those years 'SDG' vs 'LAC'.\n",
        "\n",
        "While it would be nice to change this and have full team names and correct abbreviation codes for all teams, in the interest of time efficiency, I have decided to drop 'TEAM_ABV' column and use 'TEAM' going forward."
      ]
    },
    {
      "cell_type": "code",
      "metadata": {
        "colab": {
          "base_uri": "https://localhost:8080/"
        },
        "id": "xUIbHTJyoLTL",
        "outputId": "eb114155-02d1-477f-fc29-afe74bb0256c"
      },
      "source": [
        "list(df['TEAM'].unique())\n",
        "df['TEAM'].nunique()"
      ],
      "execution_count": 31,
      "outputs": [
        {
          "output_type": "execute_result",
          "data": {
            "text/plain": [
              "32"
            ]
          },
          "metadata": {
            "tags": []
          },
          "execution_count": 31
        }
      ]
    },
    {
      "cell_type": "code",
      "metadata": {
        "colab": {
          "base_uri": "https://localhost:8080/"
        },
        "id": "g-OLkdANoLTN",
        "outputId": "25cbd7db-c162-4e07-8ef5-bad9eb4ecb4d"
      },
      "source": [
        "list(df['TEAM_ABV'].unique())\n",
        "df['TEAM_ABV'].nunique()"
      ],
      "execution_count": 32,
      "outputs": [
        {
          "output_type": "execute_result",
          "data": {
            "text/plain": [
              "33"
            ]
          },
          "metadata": {
            "tags": []
          },
          "execution_count": 32
        }
      ]
    },
    {
      "cell_type": "code",
      "metadata": {
        "id": "BNgSVoCnoLTR"
      },
      "source": [
        "team_test = df['TEAM'] + ' - ' + df['TEAM_ABV']\n",
        "#list(team_test.unique())"
      ],
      "execution_count": 33,
      "outputs": []
    },
    {
      "cell_type": "code",
      "metadata": {
        "id": "dFO3hcehoLTT"
      },
      "source": [
        "df.drop(columns='TEAM_ABV', inplace=True)\n",
        "#df.head()"
      ],
      "execution_count": 34,
      "outputs": []
    },
    {
      "cell_type": "markdown",
      "metadata": {
        "id": "AKRWH2x0oLTU"
      },
      "source": [
        "Checking 'OPP' column too to see if similar to 'TEAM'. It is so not going make any changes."
      ]
    },
    {
      "cell_type": "code",
      "metadata": {
        "colab": {
          "base_uri": "https://localhost:8080/"
        },
        "id": "pxrPRrtJoLTW",
        "outputId": "1232945b-64c5-4241-d880-dba9b2fd6a37"
      },
      "source": [
        "list(df['OPP'].unique())\n",
        "df['OPP'].nunique()"
      ],
      "execution_count": 35,
      "outputs": [
        {
          "output_type": "execute_result",
          "data": {
            "text/plain": [
              "32"
            ]
          },
          "metadata": {
            "tags": []
          },
          "execution_count": 35
        }
      ]
    },
    {
      "cell_type": "markdown",
      "metadata": {
        "id": "32t3ya9uoLTa"
      },
      "source": [
        "### Date and Stadium columns cleans"
      ]
    },
    {
      "cell_type": "markdown",
      "metadata": {
        "id": "jCf9bwCEoLTc"
      },
      "source": [
        "These columns seem fine for the moment. Only changes may want to add are:\n",
        "\n",
        "* Week columns - change these to numerical\n",
        "\n",
        "* Year columns - pull these from date fields\n",
        "\n",
        "Also, thought crossed mind about how do we account for BYE weeks for players but can comeback to this at later point if needed by analysis."
      ]
    },
    {
      "cell_type": "code",
      "metadata": {
        "id": "MEIVhgfToLTd"
      },
      "source": [
        "#object_col(df)"
      ],
      "execution_count": 36,
      "outputs": []
    },
    {
      "cell_type": "code",
      "metadata": {
        "colab": {
          "base_uri": "https://localhost:8080/"
        },
        "id": "bmmw5BPboLTf",
        "outputId": "7538079d-9ed4-4a4f-bfe7-e2f0eae86961"
      },
      "source": [
        "df['DATE']"
      ],
      "execution_count": 37,
      "outputs": [
        {
          "output_type": "execute_result",
          "data": {
            "text/plain": [
              "0      2018-12-30\n",
              "1      2018-12-30\n",
              "2      2018-12-30\n",
              "3      2018-12-30\n",
              "4      2018-12-30\n",
              "          ...    \n",
              "4706   2019-09-08\n",
              "4707   2019-09-09\n",
              "4708   2019-09-08\n",
              "4709   2019-09-08\n",
              "4710   2019-09-08\n",
              "Name: DATE, Length: 23715, dtype: datetime64[ns]"
            ]
          },
          "metadata": {
            "tags": []
          },
          "execution_count": 37
        }
      ]
    },
    {
      "cell_type": "code",
      "metadata": {
        "colab": {
          "base_uri": "https://localhost:8080/"
        },
        "id": "H_OjkxyeoLTi",
        "outputId": "c1ed6c31-b73b-4bc3-d6b4-568b5abb90e9"
      },
      "source": [
        "list(df['SEASON'].unique())"
      ],
      "execution_count": 38,
      "outputs": [
        {
          "output_type": "execute_result",
          "data": {
            "text/plain": [
              "['2018', '2017', '2016', '2015', '2019']"
            ]
          },
          "metadata": {
            "tags": []
          },
          "execution_count": 38
        }
      ]
    },
    {
      "cell_type": "code",
      "metadata": {
        "colab": {
          "base_uri": "https://localhost:8080/"
        },
        "id": "hzt8H2cWoLTk",
        "outputId": "0705eea7-1f53-4a90-df1e-b1dbaba0aaf2"
      },
      "source": [
        "list(df['MONTH'].unique())"
      ],
      "execution_count": 39,
      "outputs": [
        {
          "output_type": "execute_result",
          "data": {
            "text/plain": [
              "['December', 'November', 'October', 'September', 'January']"
            ]
          },
          "metadata": {
            "tags": []
          },
          "execution_count": 39
        }
      ]
    },
    {
      "cell_type": "code",
      "metadata": {
        "colab": {
          "base_uri": "https://localhost:8080/"
        },
        "id": "Y-gfY9jCoLTn",
        "outputId": "195dbd51-f30f-4bb1-ce5d-bee815b9ce41"
      },
      "source": [
        "list(df['WEEK'].unique())"
      ],
      "execution_count": 40,
      "outputs": [
        {
          "output_type": "execute_result",
          "data": {
            "text/plain": [
              "['Week17',\n",
              " 'Week16',\n",
              " 'Week15',\n",
              " 'Week14',\n",
              " 'Week13',\n",
              " 'Week12',\n",
              " 'Week11',\n",
              " 'Week10',\n",
              " 'Week09',\n",
              " 'Week08',\n",
              " 'Week07',\n",
              " 'Week06',\n",
              " 'Week05',\n",
              " 'Week04',\n",
              " 'Week03',\n",
              " 'Week02',\n",
              " 'Week01']"
            ]
          },
          "metadata": {
            "tags": []
          },
          "execution_count": 40
        }
      ]
    },
    {
      "cell_type": "code",
      "metadata": {
        "colab": {
          "base_uri": "https://localhost:8080/"
        },
        "id": "TsO45zYvoLTq",
        "outputId": "fcf2315d-ab96-42b8-c085-bbb54071cef8"
      },
      "source": [
        "list(df['DAY'].unique())"
      ],
      "execution_count": 41,
      "outputs": [
        {
          "output_type": "execute_result",
          "data": {
            "text/plain": [
              "['Sunday', 'Saturday', 'Monday', 'Thursday']"
            ]
          },
          "metadata": {
            "tags": []
          },
          "execution_count": 41
        }
      ]
    },
    {
      "cell_type": "code",
      "metadata": {
        "colab": {
          "base_uri": "https://localhost:8080/"
        },
        "id": "pqhuDYyPoLTu",
        "outputId": "11d238ff-74cb-4841-8a4d-73587e8964fe"
      },
      "source": [
        "list(df['TIME'].unique())"
      ],
      "execution_count": 42,
      "outputs": [
        {
          "output_type": "execute_result",
          "data": {
            "text/plain": [
              "['Noon', 'Afternoon', 'Night', 'London', 'Mexico']"
            ]
          },
          "metadata": {
            "tags": []
          },
          "execution_count": 42
        }
      ]
    },
    {
      "cell_type": "code",
      "metadata": {
        "colab": {
          "base_uri": "https://localhost:8080/"
        },
        "id": "GVr6PNbSoLTw",
        "outputId": "b51af07c-a900-4ac0-a060-5ba3617ad71a"
      },
      "source": [
        "list(df['ROOF'].unique())"
      ],
      "execution_count": 43,
      "outputs": [
        {
          "output_type": "execute_result",
          "data": {
            "text/plain": [
              "['Open', 'Dome']"
            ]
          },
          "metadata": {
            "tags": []
          },
          "execution_count": 43
        }
      ]
    },
    {
      "cell_type": "code",
      "metadata": {
        "colab": {
          "base_uri": "https://localhost:8080/"
        },
        "id": "QB9Cy40qoLT0",
        "outputId": "e4cf1e5b-8722-48bf-fc23-ad6d10cd4660"
      },
      "source": [
        "list(df['SURFACE'].unique())"
      ],
      "execution_count": 44,
      "outputs": [
        {
          "output_type": "execute_result",
          "data": {
            "text/plain": [
              "['Grass', 'Turf']"
            ]
          },
          "metadata": {
            "tags": []
          },
          "execution_count": 44
        }
      ]
    },
    {
      "cell_type": "markdown",
      "metadata": {
        "id": "ta6HQxSIoLT2"
      },
      "source": [
        "### 'SCORE' column clean"
      ]
    },
    {
      "cell_type": "code",
      "metadata": {
        "scrolled": true,
        "id": "tXsKBqKLoLT4"
      },
      "source": [
        "list(df['SCORE'].unique())\n",
        "df['SCORE_SPLIT'] = df['SCORE'].str.split('-')\n",
        "\n",
        "score_for = []\n",
        "score_against = []\n",
        "for split in df['SCORE_SPLIT']:\n",
        "    pts_for = split[0]\n",
        "    pts_agt = split[1]\n",
        "    score_for.append(pts_for)\n",
        "    score_against.append(pts_agt)\n",
        "\n",
        "df['PTS_FOR'] = score_for\n",
        "df['PTS_AGT'] = score_against\n",
        "\n",
        "df['PTS_FOR'] = df['PTS_FOR'].astype('int')\n",
        "df['PTS_AGT'] = df['PTS_AGT'].astype('int')\n",
        "\n",
        "#df.dtypes\n",
        "#df.head()"
      ],
      "execution_count": 45,
      "outputs": []
    },
    {
      "cell_type": "code",
      "metadata": {
        "id": "fKMjHTezoLT6"
      },
      "source": [
        "df.drop(columns=['SCORE_SPLIT', 'SCORE'], inplace=True)"
      ],
      "execution_count": 46,
      "outputs": []
    },
    {
      "cell_type": "code",
      "metadata": {
        "id": "5DWRh_rsoLT9"
      },
      "source": [
        "#df.info()"
      ],
      "execution_count": 47,
      "outputs": []
    },
    {
      "cell_type": "markdown",
      "metadata": {
        "id": "SHOE1WfuoLT_"
      },
      "source": [
        "### Null Value Check\n"
      ]
    },
    {
      "cell_type": "markdown",
      "metadata": {
        "id": "uWP4rah6poM0"
      },
      "source": [
        "Looking to see columns have null values. Dataset is clean."
      ]
    },
    {
      "cell_type": "code",
      "metadata": {
        "colab": {
          "base_uri": "https://localhost:8080/"
        },
        "id": "4shc_Pw-oLUA",
        "outputId": "2b6c2cbf-91b1-4429-bc14-b75268c26170"
      },
      "source": [
        "df.isnull().values.any()"
      ],
      "execution_count": 48,
      "outputs": [
        {
          "output_type": "execute_result",
          "data": {
            "text/plain": [
              "False"
            ]
          },
          "metadata": {
            "tags": []
          },
          "execution_count": 48
        }
      ]
    },
    {
      "cell_type": "code",
      "metadata": {
        "id": "nZc-Ug-GoLUC"
      },
      "source": [
        "nas = pd.DataFrame(df.isnull().sum().sort_values(ascending=False)/len(df),columns = ['percent'])\n",
        "pos = nas['percent'] == 0\n",
        "#nas[pos]"
      ],
      "execution_count": 49,
      "outputs": []
    },
    {
      "cell_type": "markdown",
      "metadata": {
        "id": "3zMzSQTpoLUE"
      },
      "source": [
        "### Calculate correct Fantasy Points\n"
      ]
    },
    {
      "cell_type": "markdown",
      "metadata": {
        "id": "h9a0R5pip5YV"
      },
      "source": [
        "This fantasy football league has different scoring system to one applied in dataset. We need to create new fields to accurately calculate the fantasy points for each row of data. See below the scoring system."
      ]
    },
    {
      "cell_type": "markdown",
      "metadata": {
        "id": "_dODCKw0oLUH"
      },
      "source": [
        "https://drive.google.com/file/d/1ZQxs2epU_9OVmlzlwMKRu1Vp1IimFUIE/view?usp=sharing\r\n"
      ]
    },
    {
      "cell_type": "markdown",
      "metadata": {
        "id": "qUR2NvNDoLUM"
      },
      "source": [
        "Defense and Kickers are not included in dataset so we will not look to calculate these statistics. "
      ]
    },
    {
      "cell_type": "markdown",
      "metadata": {
        "id": "wXMlmoUNoLUN"
      },
      "source": [
        "#### Passing Fantasy point calculations"
      ]
    },
    {
      "cell_type": "code",
      "metadata": {
        "id": "8X7UunngoLUO"
      },
      "source": [
        "# Passing Fantasy point calculations\n",
        "df['FAN_PASSYDS'] = (df['PASSYDS']/5)*0.2\n",
        "df['FAN_PASSTD'] = df['PASSTD']*6\n",
        "df['FAN_PASSYDS_300'] = df['PASSYDS'].apply(lambda x: 2 if x >= 300 else 0)\n",
        "df['FAN_PASSYDS_400'] = df['PASSYDS'].apply(lambda x: 1 if x >= 400 else 0)\n",
        "df['FAN_INT'] = df['INT']*-2\n",
        "df['FAN_SACK'] = df['SACK']*-0.5\n",
        "df['FAN_PASS_TOT'] = df[['FAN_PASSYDS', 'FAN_PASSTD', 'FAN_PASSYDS_300', 'FAN_PASSYDS_400', 'FAN_INT', 'FAN_SACK']].sum(axis=1)\n",
        "\n",
        "#df[['PLAYER_NAME', 'PASSYDS', 'FAN_PASSYDS', 'POS_AGG'== 'QB']].head()\n",
        "\n",
        "#df[df['POS_AGG'] == 'QB'].head()"
      ],
      "execution_count": 50,
      "outputs": []
    },
    {
      "cell_type": "markdown",
      "metadata": {
        "id": "XOPc_gttoLUQ"
      },
      "source": [
        "#### Rushing Fantasy point calculations"
      ]
    },
    {
      "cell_type": "code",
      "metadata": {
        "id": "IV5_sK-aoLUT"
      },
      "source": [
        "df['FAN_RUSHYDS'] = df['RUSHYDS']*0.1\n",
        "df['FAN_RUSHTD'] = df['RUSHTD']*6\n",
        "df['FAN_RUSHYDS_100'] = df['RUSHYDS'].apply(lambda x: 2 if x >= 100 else 0)\n",
        "df['FAN_RUSHYDS_200'] = df['RUSHYDS'].apply(lambda x: 1 if x >= 200 else 0)\n",
        "df['FAN_FUMLST'] = df['FUMLST']*-2\n",
        "df['FAN_RUSH_TOT'] = df[['FAN_RUSHYDS', 'FAN_RUSHTD', 'FAN_RUSHYDS_100', 'FAN_RUSHYDS_200', 'FAN_FUMLST']].sum(axis=1)\n",
        "\n",
        "#df[df['POS_AGG'] == 'RB'].head()"
      ],
      "execution_count": 51,
      "outputs": []
    },
    {
      "cell_type": "markdown",
      "metadata": {
        "id": "JlRvnvckoLUV"
      },
      "source": [
        "#### Receiving Fantasy point calculations"
      ]
    },
    {
      "cell_type": "code",
      "metadata": {
        "id": "FddeteCmoLUX"
      },
      "source": [
        "df['FAN_RECYDS'] = df['RECYDS']*0.1\n",
        "df['FAN_RECTD'] = df['RECTD']*6\n",
        "df['FAN_RECYDS_100'] = df['RECYDS'].apply(lambda x: 2 if x >= 100 else 0)\n",
        "df['FAN_RECYDS_200'] = df['RECYDS'].apply(lambda x: 1 if x >= 200 else 0)\n",
        "df['FAN_REC_TOT'] = df[['FAN_RECYDS', 'FAN_RECTD', 'FAN_RECYDS_100', 'FAN_RECYDS_200']].sum(axis=1)\n",
        "\n",
        "#df[df['POS_AGG'] == 'WR'].head()"
      ],
      "execution_count": 52,
      "outputs": []
    },
    {
      "cell_type": "markdown",
      "metadata": {
        "id": "FCtLWGhzoLUZ"
      },
      "source": [
        "#### Total Fantasy points"
      ]
    },
    {
      "cell_type": "code",
      "metadata": {
        "scrolled": false,
        "colab": {
          "base_uri": "https://localhost:8080/",
          "height": 0
        },
        "id": "ssHWWv-1oLUc",
        "outputId": "b3b06d91-ce5e-4c07-b08d-d4f0e51c4554"
      },
      "source": [
        "df['FAN_TOT'] = df[['FAN_PASS_TOT', 'FAN_RUSH_TOT', 'FAN_REC_TOT']].sum(axis=1)\n",
        "\n",
        "df[['PLAYER_NAME', 'POS_AGG', 'FAN_PASS_TOT', 'FAN_RUSH_TOT', 'FAN_REC_TOT', 'FAN_TOT']].sample(n=10)"
      ],
      "execution_count": 53,
      "outputs": [
        {
          "output_type": "execute_result",
          "data": {
            "text/html": [
              "<div>\n",
              "<style scoped>\n",
              "    .dataframe tbody tr th:only-of-type {\n",
              "        vertical-align: middle;\n",
              "    }\n",
              "\n",
              "    .dataframe tbody tr th {\n",
              "        vertical-align: top;\n",
              "    }\n",
              "\n",
              "    .dataframe thead th {\n",
              "        text-align: right;\n",
              "    }\n",
              "</style>\n",
              "<table border=\"1\" class=\"dataframe\">\n",
              "  <thead>\n",
              "    <tr style=\"text-align: right;\">\n",
              "      <th></th>\n",
              "      <th>PLAYER_NAME</th>\n",
              "      <th>POS_AGG</th>\n",
              "      <th>FAN_PASS_TOT</th>\n",
              "      <th>FAN_RUSH_TOT</th>\n",
              "      <th>FAN_REC_TOT</th>\n",
              "      <th>FAN_TOT</th>\n",
              "    </tr>\n",
              "  </thead>\n",
              "  <tbody>\n",
              "    <tr>\n",
              "      <th>8805</th>\n",
              "      <td>Marqise Lee</td>\n",
              "      <td>WR</td>\n",
              "      <td>0.00</td>\n",
              "      <td>0.0</td>\n",
              "      <td>6.5</td>\n",
              "      <td>6.50</td>\n",
              "    </tr>\n",
              "    <tr>\n",
              "      <th>9674</th>\n",
              "      <td>Marvin Jones</td>\n",
              "      <td>WR</td>\n",
              "      <td>0.00</td>\n",
              "      <td>0.0</td>\n",
              "      <td>7.6</td>\n",
              "      <td>7.60</td>\n",
              "    </tr>\n",
              "    <tr>\n",
              "      <th>4600</th>\n",
              "      <td>Kenneth Dixon</td>\n",
              "      <td>RB</td>\n",
              "      <td>0.00</td>\n",
              "      <td>10.4</td>\n",
              "      <td>0.0</td>\n",
              "      <td>10.40</td>\n",
              "    </tr>\n",
              "    <tr>\n",
              "      <th>9116</th>\n",
              "      <td>Michael Thomas</td>\n",
              "      <td>WR</td>\n",
              "      <td>0.00</td>\n",
              "      <td>0.0</td>\n",
              "      <td>8.9</td>\n",
              "      <td>8.90</td>\n",
              "    </tr>\n",
              "    <tr>\n",
              "      <th>1018</th>\n",
              "      <td>Golden Tate</td>\n",
              "      <td>WR</td>\n",
              "      <td>0.00</td>\n",
              "      <td>0.0</td>\n",
              "      <td>1.1</td>\n",
              "      <td>1.10</td>\n",
              "    </tr>\n",
              "    <tr>\n",
              "      <th>4870</th>\n",
              "      <td>Jimmy Garoppolo</td>\n",
              "      <td>QB</td>\n",
              "      <td>19.68</td>\n",
              "      <td>-0.1</td>\n",
              "      <td>0.0</td>\n",
              "      <td>19.58</td>\n",
              "    </tr>\n",
              "    <tr>\n",
              "      <th>3059</th>\n",
              "      <td>Bobo Wilson</td>\n",
              "      <td>WR</td>\n",
              "      <td>0.00</td>\n",
              "      <td>-2.0</td>\n",
              "      <td>1.0</td>\n",
              "      <td>-1.00</td>\n",
              "    </tr>\n",
              "    <tr>\n",
              "      <th>14279</th>\n",
              "      <td>Carson Palmer</td>\n",
              "      <td>QB</td>\n",
              "      <td>9.16</td>\n",
              "      <td>0.0</td>\n",
              "      <td>0.0</td>\n",
              "      <td>9.16</td>\n",
              "    </tr>\n",
              "    <tr>\n",
              "      <th>6990</th>\n",
              "      <td>Taylor Gabriel</td>\n",
              "      <td>WR</td>\n",
              "      <td>0.00</td>\n",
              "      <td>1.5</td>\n",
              "      <td>5.8</td>\n",
              "      <td>7.30</td>\n",
              "    </tr>\n",
              "    <tr>\n",
              "      <th>15234</th>\n",
              "      <td>Eddie Royal</td>\n",
              "      <td>WR</td>\n",
              "      <td>0.00</td>\n",
              "      <td>0.0</td>\n",
              "      <td>1.5</td>\n",
              "      <td>1.50</td>\n",
              "    </tr>\n",
              "  </tbody>\n",
              "</table>\n",
              "</div>"
            ],
            "text/plain": [
              "           PLAYER_NAME POS_AGG  ...  FAN_REC_TOT  FAN_TOT\n",
              "8805       Marqise Lee      WR  ...          6.5     6.50\n",
              "9674      Marvin Jones      WR  ...          7.6     7.60\n",
              "4600     Kenneth Dixon      RB  ...          0.0    10.40\n",
              "9116    Michael Thomas      WR  ...          8.9     8.90\n",
              "1018       Golden Tate      WR  ...          1.1     1.10\n",
              "4870   Jimmy Garoppolo      QB  ...          0.0    19.58\n",
              "3059       Bobo Wilson      WR  ...          1.0    -1.00\n",
              "14279    Carson Palmer      QB  ...          0.0     9.16\n",
              "6990    Taylor Gabriel      WR  ...          5.8     7.30\n",
              "15234      Eddie Royal      WR  ...          1.5     1.50\n",
              "\n",
              "[10 rows x 6 columns]"
            ]
          },
          "metadata": {
            "tags": []
          },
          "execution_count": 53
        }
      ]
    },
    {
      "cell_type": "markdown",
      "metadata": {
        "id": "27hNrFAloLUf"
      },
      "source": [
        "#### Dropping original 'FAN PTS' column as no longer required"
      ]
    },
    {
      "cell_type": "code",
      "metadata": {
        "id": "eXgnv9CHoLUh"
      },
      "source": [
        "df.drop(columns='FAN PTS', inplace=True)"
      ],
      "execution_count": 54,
      "outputs": []
    },
    {
      "cell_type": "markdown",
      "metadata": {
        "id": "OiREzfvWoLUi"
      },
      "source": [
        "## Output data to CSV"
      ]
    },
    {
      "cell_type": "code",
      "metadata": {
        "colab": {
          "base_uri": "https://localhost:8080/"
        },
        "id": "_2o1OI8noLUk",
        "outputId": "d7b38aef-f239-45cd-97ea-d2ef44fd2437"
      },
      "source": [
        "df.shape"
      ],
      "execution_count": 55,
      "outputs": [
        {
          "output_type": "execute_result",
          "data": {
            "text/plain": [
              "(23715, 60)"
            ]
          },
          "metadata": {
            "tags": []
          },
          "execution_count": 55
        }
      ]
    },
    {
      "cell_type": "code",
      "metadata": {
        "id": "UKVfCvcIoLUm"
      },
      "source": [
        "df.to_csv('NFL_FantasyData_2015_2019.csv')"
      ],
      "execution_count": 56,
      "outputs": []
    }
  ]
}
