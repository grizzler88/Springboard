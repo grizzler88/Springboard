{
 "cells": [
  {
   "cell_type": "code",
   "execution_count": 1,
   "metadata": {},
   "outputs": [],
   "source": [
    "import pandas as pd\n",
    "import numpy as np\n",
    "import matplotlib.pyplot as plt\n",
    "import seaborn as sns\n",
    "import os"
   ]
  },
  {
   "cell_type": "code",
   "execution_count": 2,
   "metadata": {},
   "outputs": [],
   "source": [
    "os.listdir()\n",
    "file = 'PGA_Stats_20201111.xlsx'"
   ]
  },
  {
   "cell_type": "code",
   "execution_count": 3,
   "metadata": {},
   "outputs": [],
   "source": [
    "dfs = pd.read_excel(file, sheet_name=None)"
   ]
  },
  {
   "cell_type": "code",
   "execution_count": 4,
   "metadata": {},
   "outputs": [
    {
     "data": {
      "text/plain": [
       "62"
      ]
     },
     "execution_count": 4,
     "metadata": {},
     "output_type": "execute_result"
    }
   ],
   "source": [
    "len(dfs.keys())"
   ]
  },
  {
   "cell_type": "code",
   "execution_count": 5,
   "metadata": {},
   "outputs": [
    {
     "name": "stdout",
     "output_type": "stream",
     "text": [
      "Names\n",
      "MasterPlayers\n",
      "DrivDist\n",
      "DrivDist2\n",
      "DrivCover\n",
      "DrivAcc\n",
      "DrivFair\n",
      "DrivGood\n",
      "ShotGain\n",
      "GIR\n",
      "GFIR\n",
      "GIRFair\n",
      "GIROther\n",
      "Prox\n",
      "ProxFair\n",
      "Prox125\n",
      "Prox150\n",
      "Prox175\n",
      "Prox200\n",
      "Prox200plus\n",
      "ProxRough\n",
      "GoGreen\n",
      "GoGreenAcc\n",
      "GoGreenDist\n",
      "GoGreenProx\n",
      "AppDist\n",
      "ShotARG\n",
      "SandSave\n",
      "Scram\n",
      "ScramSand\n",
      "ScramRough\n",
      "ScramFair\n",
      "ScramOther\n",
      "ARG\n",
      "ARGsand\n",
      "ARGrough\n",
      "ARGfair\n",
      "ARGother\n",
      "Putt5\n",
      "Putt10\n",
      "Putt15\n",
      "Putt20\n",
      "Putt25\n",
      "Putt25plus\n",
      "Putt5to15\n",
      "Putt15to25\n",
      "PuttAvg\n",
      "PuttTotal\n",
      "DriveGain\n",
      "AppGain\n",
      "ArgGain\n",
      "PuttGain\n",
      "TotalGain\n",
      "ScoreAvg\n",
      "ScoreAvgAct\n",
      "ScorePar3\n",
      "ScorePar4\n",
      "ScorePar5\n",
      "Top10\n",
      "YearMoney\n",
      "CareerMoney\n",
      "WorldRank\n"
     ]
    }
   ],
   "source": [
    "for key, value in dfs.items():\n",
    "    print(key)"
   ]
  },
  {
   "cell_type": "markdown",
   "metadata": {},
   "source": [
    "### Driving Stats"
   ]
  },
  {
   "cell_type": "code",
   "execution_count": 6,
   "metadata": {},
   "outputs": [],
   "source": [
    "DrivDist = dfs['DrivDist'][['PLAYER NAME', 'AVG.']].rename(columns={'AVG.':'DrivDist'})"
   ]
  },
  {
   "cell_type": "code",
   "execution_count": 7,
   "metadata": {},
   "outputs": [],
   "source": [
    "DrivAcc = dfs['DrivAcc'][['PLAYER NAME', '%']].rename(columns={'%':'DrivAcc'})"
   ]
  },
  {
   "cell_type": "markdown",
   "metadata": {},
   "source": [
    "### Approach Stats"
   ]
  },
  {
   "cell_type": "code",
   "execution_count": 8,
   "metadata": {},
   "outputs": [],
   "source": [
    "GIR = dfs['GIR'][['PLAYER NAME', '%']].rename(columns={'%':'GIR'})"
   ]
  },
  {
   "cell_type": "markdown",
   "metadata": {},
   "source": [
    "Function required to calculate a numeric value for feet and inches that entered as string in previous text"
   ]
  },
  {
   "cell_type": "code",
   "execution_count": 9,
   "metadata": {},
   "outputs": [],
   "source": [
    "def feet_breakout(list):\n",
    "    new_list = []\n",
    "    for i in list:\n",
    "        i = i.split()\n",
    "        feet = int(i[0].replace(\"'\", \"\"))\n",
    "        inch = int(i[1].replace('\"', ''))\n",
    "        inch = inch / 12\n",
    "        y = round(feet + inch, 2)\n",
    "        new_list.append(y)\n",
    "    return new_list"
   ]
  },
  {
   "cell_type": "code",
   "execution_count": 10,
   "metadata": {},
   "outputs": [],
   "source": [
    "Prox = dfs['Prox'][['PLAYER NAME', 'AVG']].rename(columns={'AVG':'Prox'})\n",
    "Prox['Prox'] = feet_breakout(Prox['Prox'])"
   ]
  },
  {
   "cell_type": "code",
   "execution_count": 11,
   "metadata": {},
   "outputs": [],
   "source": [
    "Prox125 = dfs['Prox125'][['PLAYER NAME', 'AVG']].rename(columns={'AVG':'Prox125'})\n",
    "Prox125['Prox125'] = feet_breakout(Prox125['Prox125'])"
   ]
  },
  {
   "cell_type": "code",
   "execution_count": 12,
   "metadata": {},
   "outputs": [],
   "source": [
    "Prox150 = dfs['Prox150'][['PLAYER NAME', 'AVG']].rename(columns={'AVG':'Prox150'})\n",
    "Prox150['Prox150'] = feet_breakout(Prox150['Prox150'])"
   ]
  },
  {
   "cell_type": "code",
   "execution_count": 13,
   "metadata": {},
   "outputs": [],
   "source": [
    "Prox175 = dfs['Prox175'][['PLAYER NAME', 'AVG']].rename(columns={'AVG':'Prox175'})\n",
    "Prox175['Prox175'] = feet_breakout(Prox175['Prox175'])"
   ]
  },
  {
   "cell_type": "code",
   "execution_count": 14,
   "metadata": {},
   "outputs": [],
   "source": [
    "Prox200 = dfs['Prox200'][['PLAYER NAME', 'AVG']].rename(columns={'AVG':'Prox200'})\n",
    "Prox200['Prox200'] = feet_breakout(Prox200['Prox200'])"
   ]
  },
  {
   "cell_type": "code",
   "execution_count": 15,
   "metadata": {},
   "outputs": [],
   "source": [
    "Prox200plus = dfs['Prox200plus'][['PLAYER NAME', 'AVG']].rename(columns={'AVG':'Prox200plus'})\n",
    "Prox200['Prox200plus'] = feet_breakout(Prox200plus['Prox200plus'])"
   ]
  },
  {
   "cell_type": "code",
   "execution_count": 16,
   "metadata": {},
   "outputs": [],
   "source": [
    "GoGreenAcc = dfs['GoGreenAcc'][['PLAYER NAME', '%']].rename(columns={'%':'GoGreenAcc'})"
   ]
  },
  {
   "cell_type": "code",
   "execution_count": 17,
   "metadata": {},
   "outputs": [],
   "source": [
    "GoGreenProx = dfs['GoGreenProx'][['PLAYER NAME', 'AVG']].rename(columns={'AVG':'GoGreenProx'})"
   ]
  },
  {
   "cell_type": "markdown",
   "metadata": {},
   "source": [
    "### Around the Green"
   ]
  },
  {
   "cell_type": "code",
   "execution_count": 18,
   "metadata": {},
   "outputs": [],
   "source": [
    "SandSave = dfs['SandSave'][['PLAYER NAME', '%']].rename(columns={'%':'SandSave'})"
   ]
  },
  {
   "cell_type": "code",
   "execution_count": 19,
   "metadata": {},
   "outputs": [],
   "source": [
    "Scram = dfs['Scram'][['PLAYER NAME', '%']].rename(columns={'%':'Scram'})"
   ]
  },
  {
   "cell_type": "code",
   "execution_count": 20,
   "metadata": {},
   "outputs": [],
   "source": [
    "ARG = dfs['ARG'][['PLAYER NAME', 'AVG DTP']].rename(columns={'AVG DTP':'ARG'})\n",
    "ARG['ARG'] = feet_breakout(ARG['ARG'])"
   ]
  },
  {
   "cell_type": "markdown",
   "metadata": {},
   "source": [
    "### Putting"
   ]
  },
  {
   "cell_type": "code",
   "execution_count": 21,
   "metadata": {},
   "outputs": [],
   "source": [
    "Putt5 = dfs['Putt5'][['PLAYER NAME', '%']].rename(columns={'%':'Putt5'})"
   ]
  },
  {
   "cell_type": "code",
   "execution_count": 22,
   "metadata": {},
   "outputs": [],
   "source": [
    "Putt5to15 = dfs['Putt5to15'][['PLAYER NAME', '% MADE']].rename(columns={'% MADE':'Putt5to15'})"
   ]
  },
  {
   "cell_type": "code",
   "execution_count": 23,
   "metadata": {},
   "outputs": [],
   "source": [
    "Putt15to25 = dfs['Putt15to25'][['PLAYER NAME', '% MADE']].rename(columns={'% MADE':'Putt15to25'})"
   ]
  },
  {
   "cell_type": "code",
   "execution_count": 24,
   "metadata": {},
   "outputs": [],
   "source": [
    "Putt25plus = dfs['Putt25plus'][['PLAYER NAME', '% MADE']].rename(columns={'% MADE':'Putt25plus'})"
   ]
  },
  {
   "cell_type": "markdown",
   "metadata": {},
   "source": [
    "### Shots Gained"
   ]
  },
  {
   "cell_type": "code",
   "execution_count": 25,
   "metadata": {},
   "outputs": [],
   "source": [
    "DriveGain = dfs['DriveGain'][['PLAYER NAME', 'AVERAGE']].rename(columns={'AVERAGE':'DriveGain'})"
   ]
  },
  {
   "cell_type": "code",
   "execution_count": 26,
   "metadata": {},
   "outputs": [],
   "source": [
    "AppGain = dfs['AppGain'][['PLAYER NAME', 'AVERAGE']].rename(columns={'AVERAGE':'AppGain'})"
   ]
  },
  {
   "cell_type": "code",
   "execution_count": 27,
   "metadata": {},
   "outputs": [],
   "source": [
    "ArgGain = dfs['ArgGain'][['PLAYER NAME', 'AVERAGE']].rename(columns={'AVERAGE':'ArgGain'})"
   ]
  },
  {
   "cell_type": "code",
   "execution_count": 28,
   "metadata": {},
   "outputs": [],
   "source": [
    "PuttGain = dfs['PuttGain'][['PLAYER NAME', 'AVERAGE']].rename(columns={'AVERAGE':'PuttGain'})"
   ]
  },
  {
   "cell_type": "code",
   "execution_count": 29,
   "metadata": {},
   "outputs": [],
   "source": [
    "TotalGain = dfs['TotalGain'][['PLAYER NAME', 'AVERAGE']].rename(columns={'AVERAGE':'TotalGain'})"
   ]
  },
  {
   "cell_type": "markdown",
   "metadata": {},
   "source": [
    "### Scoring"
   ]
  },
  {
   "cell_type": "code",
   "execution_count": 30,
   "metadata": {},
   "outputs": [],
   "source": [
    "ScoreAvg = dfs['ScoreAvg'][['PLAYER NAME', 'AVG']].rename(columns={'AVG':'ScoreAvg'})"
   ]
  },
  {
   "cell_type": "code",
   "execution_count": 31,
   "metadata": {},
   "outputs": [],
   "source": [
    "ScorePar3 = dfs['ScorePar3'][['PLAYER NAME', 'AVG']].rename(columns={'AVG':'ScorePar3'})"
   ]
  },
  {
   "cell_type": "code",
   "execution_count": 32,
   "metadata": {},
   "outputs": [],
   "source": [
    "ScorePar4 = dfs['ScorePar4'][['PLAYER NAME', 'AVG']].rename(columns={'AVG':'ScorePar4'})"
   ]
  },
  {
   "cell_type": "code",
   "execution_count": 33,
   "metadata": {},
   "outputs": [],
   "source": [
    "ScorePar5 = dfs['ScorePar5'][['PLAYER NAME', 'AVG']].rename(columns={'AVG':'ScorePar5'})"
   ]
  },
  {
   "cell_type": "code",
   "execution_count": 34,
   "metadata": {},
   "outputs": [],
   "source": [
    "Top10 = dfs['Top10'][['PLAYER NAME', 'TOP 10', '1ST', '2ND', '3RD']].fillna(0)\n",
    "Top10['Top3'] = Top10[['1ST', '2ND', '3RD']].sum(axis=1)\n",
    "Top10 = Top10.drop(columns=['2ND', '3RD']).rename(columns={'TOP 10':'Top10', '1ST':'Wins'})"
   ]
  },
  {
   "cell_type": "markdown",
   "metadata": {},
   "source": [
    "### Money & World Ranking"
   ]
  },
  {
   "cell_type": "code",
   "execution_count": 35,
   "metadata": {},
   "outputs": [],
   "source": [
    "YearMoney = dfs['YearMoney'][['PLAYER NAME', 'MONEY']].rename(columns={'MONEY':'YearMoney'})"
   ]
  },
  {
   "cell_type": "code",
   "execution_count": 36,
   "metadata": {},
   "outputs": [],
   "source": [
    "CareerMoney = dfs['YearMoney'][['PLAYER NAME', 'MONEY']].rename(columns={'MONEY':'CareerMoney'})"
   ]
  },
  {
   "cell_type": "code",
   "execution_count": 37,
   "metadata": {},
   "outputs": [],
   "source": [
    "WorldRank = dfs['WorldRank'][['PLAYER NAME', 'RANK THIS WEEK', 'AVG POINTS']].rename(columns={'RANK THIS WEEK':'WorldRank', 'AVG POINTS':'WorldRankPoints'})"
   ]
  },
  {
   "cell_type": "markdown",
   "metadata": {},
   "source": [
    "### Player Names"
   ]
  },
  {
   "cell_type": "code",
   "execution_count": 38,
   "metadata": {},
   "outputs": [],
   "source": [
    "Players = dfs['MasterPlayers'].rename(columns={'PLAYER':'PLAYER NAME'})"
   ]
  },
  {
   "cell_type": "markdown",
   "metadata": {},
   "source": [
    "### Merging"
   ]
  },
  {
   "cell_type": "code",
   "execution_count": 39,
   "metadata": {},
   "outputs": [],
   "source": [
    "from functools import reduce\n",
    "\n",
    "pga_stat_df = [DrivDist, DrivAcc, GIR, Prox, SandSave, Scram, ARG, Putt5, Putt5to15, Putt15to25, Putt25plus, DriveGain, AppGain, ArgGain, PuttGain, TotalGain, ScoreAvg, ScorePar3, ScorePar4, ScorePar5, Top10, YearMoney, WorldRank]\n",
    "\n",
    "PGA_data = reduce(lambda  left,right: pd.merge(left,right,on='PLAYER NAME', how='left'), pga_stat_df)"
   ]
  },
  {
   "cell_type": "code",
   "execution_count": 46,
   "metadata": {},
   "outputs": [],
   "source": [
    "#PGA_data.info()\n",
    "#PGA_data.head()"
   ]
  },
  {
   "cell_type": "markdown",
   "metadata": {},
   "source": [
    "### NaN values"
   ]
  },
  {
   "cell_type": "markdown",
   "metadata": {},
   "source": [
    "I will fill in 0 values for people with NaNs in the performance columns of 'Top10', 'Top3' and 'Wins'."
   ]
  },
  {
   "cell_type": "code",
   "execution_count": 42,
   "metadata": {},
   "outputs": [],
   "source": [
    "PGA_data[['Top10', 'Top3', 'Wins']] = PGA_data[['Top10', 'Top3', 'Wins']].fillna(0)\n",
    "\n",
    "#PGA_data = PGA_data.fillna({'Top10':0, 'Top3':0, 'Wins':0}, inplace=True)"
   ]
  },
  {
   "cell_type": "code",
   "execution_count": 47,
   "metadata": {},
   "outputs": [],
   "source": [
    "#PGA_data.info()\n",
    "#PGA_data.head()"
   ]
  },
  {
   "cell_type": "markdown",
   "metadata": {},
   "source": [
    "There are 91 rows that contain null values. I will wait until after I merge with the Players list for Masters to see if need to delete rows or not"
   ]
  },
  {
   "cell_type": "code",
   "execution_count": 48,
   "metadata": {},
   "outputs": [],
   "source": [
    "#PGA_data[PGA_data.isna().any(axis=1)]"
   ]
  },
  {
   "cell_type": "markdown",
   "metadata": {},
   "source": [
    "### Merge Master Playing Field"
   ]
  },
  {
   "cell_type": "code",
   "execution_count": 54,
   "metadata": {},
   "outputs": [
    {
     "data": {
      "text/plain": [
       "0       Corey Conners \n",
       "1        Lucas Glover \n",
       "2           Yuxin Lin \n",
       "3          Sandy Lyle \n",
       "4     Cheng Tsung Pan \n",
       "            ...       \n",
       "87        Justin Rose \n",
       "88       James Sugrue \n",
       "89         Sungjae Im \n",
       "90       Victor Perez \n",
       "91       Brendon Todd \n",
       "Name: PLAYER NAME, Length: 92, dtype: object"
      ]
     },
     "execution_count": 54,
     "metadata": {},
     "output_type": "execute_result"
    }
   ],
   "source": [
    "Players['PLAYER NAME']\n",
    "#PGA_data['PLAYER NAME']"
   ]
  },
  {
   "cell_type": "code",
   "execution_count": 57,
   "metadata": {},
   "outputs": [],
   "source": [
    "#Players[Players['PLAYER NAME'] == 'Jason Day']\n",
    "#PGA_data[PGA_data['PLAYER NAME'] == 'Jason Day']"
   ]
  },
  {
   "cell_type": "markdown",
   "metadata": {},
   "source": [
    "Players Field needs to cleaned on Player df to allow merge with PGA_data df."
   ]
  },
  {
   "cell_type": "code",
   "execution_count": 60,
   "metadata": {},
   "outputs": [],
   "source": [
    "Players['PLAYER NAME'] = Players['PLAYER NAME'].apply(lambda x : x.strip())"
   ]
  },
  {
   "cell_type": "code",
   "execution_count": 62,
   "metadata": {},
   "outputs": [],
   "source": [
    "masters_data = pd.merge(Players, PGA_data, how='left', on='PLAYER NAME')"
   ]
  },
  {
   "cell_type": "markdown",
   "metadata": {},
   "source": [
    "### Master Dataset Review & Export"
   ]
  },
  {
   "cell_type": "code",
   "execution_count": 63,
   "metadata": {},
   "outputs": [
    {
     "name": "stdout",
     "output_type": "stream",
     "text": [
      "<class 'pandas.core.frame.DataFrame'>\n",
      "Int64Index: 92 entries, 0 to 91\n",
      "Data columns (total 30 columns):\n",
      " #   Column           Non-Null Count  Dtype  \n",
      "---  ------           --------------  -----  \n",
      " 0   PLAYER NAME      92 non-null     object \n",
      " 1   OVERALL          92 non-null     object \n",
      " 2   TEE TIME         92 non-null     object \n",
      " 3   ODDS             92 non-null     int64  \n",
      " 4   DrivDist         77 non-null     float64\n",
      " 5   DrivAcc          77 non-null     float64\n",
      " 6   GIR              77 non-null     float64\n",
      " 7   Prox             77 non-null     float64\n",
      " 8   SandSave         77 non-null     float64\n",
      " 9   Scram            77 non-null     float64\n",
      " 10  ARG              77 non-null     float64\n",
      " 11  Putt5            77 non-null     float64\n",
      " 12  Putt5to15        77 non-null     float64\n",
      " 13  Putt15to25       76 non-null     float64\n",
      " 14  Putt25plus       77 non-null     float64\n",
      " 15  DriveGain        77 non-null     float64\n",
      " 16  AppGain          77 non-null     float64\n",
      " 17  ArgGain          77 non-null     float64\n",
      " 18  PuttGain         77 non-null     float64\n",
      " 19  TotalGain        77 non-null     float64\n",
      " 20  ScoreAvg         72 non-null     float64\n",
      " 21  ScorePar3        77 non-null     float64\n",
      " 22  ScorePar4        77 non-null     float64\n",
      " 23  ScorePar5        77 non-null     float64\n",
      " 24  Top10            77 non-null     float64\n",
      " 25  Wins             77 non-null     float64\n",
      " 26  Top3             77 non-null     float64\n",
      " 27  YearMoney        77 non-null     float64\n",
      " 28  WorldRank        77 non-null     float64\n",
      " 29  WorldRankPoints  77 non-null     float64\n",
      "dtypes: float64(26), int64(1), object(3)\n",
      "memory usage: 22.3+ KB\n"
     ]
    }
   ],
   "source": [
    "masters_data.info()"
   ]
  },
  {
   "cell_type": "markdown",
   "metadata": {},
   "source": [
    "The following players in Masters field have some NaN values included."
   ]
  },
  {
   "cell_type": "code",
   "execution_count": 64,
   "metadata": {},
   "outputs": [
    {
     "data": {
      "text/html": [
       "<div>\n",
       "<style scoped>\n",
       "    .dataframe tbody tr th:only-of-type {\n",
       "        vertical-align: middle;\n",
       "    }\n",
       "\n",
       "    .dataframe tbody tr th {\n",
       "        vertical-align: top;\n",
       "    }\n",
       "\n",
       "    .dataframe thead th {\n",
       "        text-align: right;\n",
       "    }\n",
       "</style>\n",
       "<table border=\"1\" class=\"dataframe\">\n",
       "  <thead>\n",
       "    <tr style=\"text-align: right;\">\n",
       "      <th></th>\n",
       "      <th>PLAYER NAME</th>\n",
       "      <th>OVERALL</th>\n",
       "      <th>TEE TIME</th>\n",
       "      <th>ODDS</th>\n",
       "      <th>DrivDist</th>\n",
       "      <th>DrivAcc</th>\n",
       "      <th>GIR</th>\n",
       "      <th>Prox</th>\n",
       "      <th>SandSave</th>\n",
       "      <th>Scram</th>\n",
       "      <th>...</th>\n",
       "      <th>ScoreAvg</th>\n",
       "      <th>ScorePar3</th>\n",
       "      <th>ScorePar4</th>\n",
       "      <th>ScorePar5</th>\n",
       "      <th>Top10</th>\n",
       "      <th>Wins</th>\n",
       "      <th>Top3</th>\n",
       "      <th>YearMoney</th>\n",
       "      <th>WorldRank</th>\n",
       "      <th>WorldRankPoints</th>\n",
       "    </tr>\n",
       "  </thead>\n",
       "  <tbody>\n",
       "    <tr>\n",
       "      <th>2</th>\n",
       "      <td>Yuxin Lin</td>\n",
       "      <td>E</td>\n",
       "      <td>07:00:00</td>\n",
       "      <td>500</td>\n",
       "      <td>NaN</td>\n",
       "      <td>NaN</td>\n",
       "      <td>NaN</td>\n",
       "      <td>NaN</td>\n",
       "      <td>NaN</td>\n",
       "      <td>NaN</td>\n",
       "      <td>...</td>\n",
       "      <td>NaN</td>\n",
       "      <td>NaN</td>\n",
       "      <td>NaN</td>\n",
       "      <td>NaN</td>\n",
       "      <td>NaN</td>\n",
       "      <td>NaN</td>\n",
       "      <td>NaN</td>\n",
       "      <td>NaN</td>\n",
       "      <td>NaN</td>\n",
       "      <td>NaN</td>\n",
       "    </tr>\n",
       "    <tr>\n",
       "      <th>3</th>\n",
       "      <td>Sandy Lyle</td>\n",
       "      <td>E</td>\n",
       "      <td>07:00:00</td>\n",
       "      <td>500</td>\n",
       "      <td>NaN</td>\n",
       "      <td>NaN</td>\n",
       "      <td>NaN</td>\n",
       "      <td>NaN</td>\n",
       "      <td>NaN</td>\n",
       "      <td>NaN</td>\n",
       "      <td>...</td>\n",
       "      <td>NaN</td>\n",
       "      <td>NaN</td>\n",
       "      <td>NaN</td>\n",
       "      <td>NaN</td>\n",
       "      <td>NaN</td>\n",
       "      <td>NaN</td>\n",
       "      <td>NaN</td>\n",
       "      <td>NaN</td>\n",
       "      <td>NaN</td>\n",
       "      <td>NaN</td>\n",
       "    </tr>\n",
       "    <tr>\n",
       "      <th>4</th>\n",
       "      <td>Cheng Tsung Pan</td>\n",
       "      <td>E</td>\n",
       "      <td>07:00:00</td>\n",
       "      <td>500</td>\n",
       "      <td>NaN</td>\n",
       "      <td>NaN</td>\n",
       "      <td>NaN</td>\n",
       "      <td>NaN</td>\n",
       "      <td>NaN</td>\n",
       "      <td>NaN</td>\n",
       "      <td>...</td>\n",
       "      <td>NaN</td>\n",
       "      <td>NaN</td>\n",
       "      <td>NaN</td>\n",
       "      <td>NaN</td>\n",
       "      <td>NaN</td>\n",
       "      <td>NaN</td>\n",
       "      <td>NaN</td>\n",
       "      <td>NaN</td>\n",
       "      <td>NaN</td>\n",
       "      <td>NaN</td>\n",
       "    </tr>\n",
       "    <tr>\n",
       "      <th>7</th>\n",
       "      <td>Jazz Janewattananond</td>\n",
       "      <td>E</td>\n",
       "      <td>07:11:00</td>\n",
       "      <td>500</td>\n",
       "      <td>285.0</td>\n",
       "      <td>65.00</td>\n",
       "      <td>72.22</td>\n",
       "      <td>41.33</td>\n",
       "      <td>37.50</td>\n",
       "      <td>36.67</td>\n",
       "      <td>...</td>\n",
       "      <td>NaN</td>\n",
       "      <td>3.00</td>\n",
       "      <td>4.18</td>\n",
       "      <td>4.75</td>\n",
       "      <td>0.0</td>\n",
       "      <td>0.0</td>\n",
       "      <td>0.0</td>\n",
       "      <td>15520.0</td>\n",
       "      <td>73.0</td>\n",
       "      <td>1.90</td>\n",
       "    </tr>\n",
       "    <tr>\n",
       "      <th>15</th>\n",
       "      <td>Lukas Michel</td>\n",
       "      <td>E</td>\n",
       "      <td>07:22:00</td>\n",
       "      <td>500</td>\n",
       "      <td>NaN</td>\n",
       "      <td>NaN</td>\n",
       "      <td>NaN</td>\n",
       "      <td>NaN</td>\n",
       "      <td>NaN</td>\n",
       "      <td>NaN</td>\n",
       "      <td>...</td>\n",
       "      <td>NaN</td>\n",
       "      <td>NaN</td>\n",
       "      <td>NaN</td>\n",
       "      <td>NaN</td>\n",
       "      <td>NaN</td>\n",
       "      <td>NaN</td>\n",
       "      <td>NaN</td>\n",
       "      <td>NaN</td>\n",
       "      <td>NaN</td>\n",
       "      <td>NaN</td>\n",
       "    </tr>\n",
       "    <tr>\n",
       "      <th>16</th>\n",
       "      <td>Larry Mize</td>\n",
       "      <td>E</td>\n",
       "      <td>07:22:00</td>\n",
       "      <td>500</td>\n",
       "      <td>NaN</td>\n",
       "      <td>NaN</td>\n",
       "      <td>NaN</td>\n",
       "      <td>NaN</td>\n",
       "      <td>NaN</td>\n",
       "      <td>NaN</td>\n",
       "      <td>...</td>\n",
       "      <td>NaN</td>\n",
       "      <td>NaN</td>\n",
       "      <td>NaN</td>\n",
       "      <td>NaN</td>\n",
       "      <td>NaN</td>\n",
       "      <td>NaN</td>\n",
       "      <td>NaN</td>\n",
       "      <td>NaN</td>\n",
       "      <td>NaN</td>\n",
       "      <td>NaN</td>\n",
       "    </tr>\n",
       "    <tr>\n",
       "      <th>31</th>\n",
       "      <td>Abel Gallegos</td>\n",
       "      <td>E</td>\n",
       "      <td>07:55:00</td>\n",
       "      <td>500</td>\n",
       "      <td>NaN</td>\n",
       "      <td>NaN</td>\n",
       "      <td>NaN</td>\n",
       "      <td>NaN</td>\n",
       "      <td>NaN</td>\n",
       "      <td>NaN</td>\n",
       "      <td>...</td>\n",
       "      <td>NaN</td>\n",
       "      <td>NaN</td>\n",
       "      <td>NaN</td>\n",
       "      <td>NaN</td>\n",
       "      <td>NaN</td>\n",
       "      <td>NaN</td>\n",
       "      <td>NaN</td>\n",
       "      <td>NaN</td>\n",
       "      <td>NaN</td>\n",
       "      <td>NaN</td>\n",
       "    </tr>\n",
       "    <tr>\n",
       "      <th>33</th>\n",
       "      <td>Andy Ogletree</td>\n",
       "      <td>E</td>\n",
       "      <td>07:55:00</td>\n",
       "      <td>500</td>\n",
       "      <td>NaN</td>\n",
       "      <td>NaN</td>\n",
       "      <td>NaN</td>\n",
       "      <td>NaN</td>\n",
       "      <td>NaN</td>\n",
       "      <td>NaN</td>\n",
       "      <td>...</td>\n",
       "      <td>NaN</td>\n",
       "      <td>NaN</td>\n",
       "      <td>NaN</td>\n",
       "      <td>NaN</td>\n",
       "      <td>NaN</td>\n",
       "      <td>NaN</td>\n",
       "      <td>NaN</td>\n",
       "      <td>NaN</td>\n",
       "      <td>NaN</td>\n",
       "      <td>NaN</td>\n",
       "    </tr>\n",
       "    <tr>\n",
       "      <th>39</th>\n",
       "      <td>Vijay Singh</td>\n",
       "      <td>E</td>\n",
       "      <td>08:06:00</td>\n",
       "      <td>500</td>\n",
       "      <td>NaN</td>\n",
       "      <td>NaN</td>\n",
       "      <td>NaN</td>\n",
       "      <td>NaN</td>\n",
       "      <td>NaN</td>\n",
       "      <td>NaN</td>\n",
       "      <td>...</td>\n",
       "      <td>NaN</td>\n",
       "      <td>NaN</td>\n",
       "      <td>NaN</td>\n",
       "      <td>NaN</td>\n",
       "      <td>NaN</td>\n",
       "      <td>NaN</td>\n",
       "      <td>NaN</td>\n",
       "      <td>NaN</td>\n",
       "      <td>NaN</td>\n",
       "      <td>NaN</td>\n",
       "    </tr>\n",
       "    <tr>\n",
       "      <th>46</th>\n",
       "      <td>Matt Wallace</td>\n",
       "      <td>E</td>\n",
       "      <td>08:17:00</td>\n",
       "      <td>200</td>\n",
       "      <td>315.6</td>\n",
       "      <td>44.64</td>\n",
       "      <td>63.89</td>\n",
       "      <td>49.25</td>\n",
       "      <td>28.57</td>\n",
       "      <td>38.46</td>\n",
       "      <td>...</td>\n",
       "      <td>69.664</td>\n",
       "      <td>3.63</td>\n",
       "      <td>4.15</td>\n",
       "      <td>4.75</td>\n",
       "      <td>0.0</td>\n",
       "      <td>0.0</td>\n",
       "      <td>0.0</td>\n",
       "      <td>39275.0</td>\n",
       "      <td>52.0</td>\n",
       "      <td>2.34</td>\n",
       "    </tr>\n",
       "    <tr>\n",
       "      <th>47</th>\n",
       "      <td>Mike Weir</td>\n",
       "      <td>E</td>\n",
       "      <td>08:17:00</td>\n",
       "      <td>500</td>\n",
       "      <td>NaN</td>\n",
       "      <td>NaN</td>\n",
       "      <td>NaN</td>\n",
       "      <td>NaN</td>\n",
       "      <td>NaN</td>\n",
       "      <td>NaN</td>\n",
       "      <td>...</td>\n",
       "      <td>NaN</td>\n",
       "      <td>NaN</td>\n",
       "      <td>NaN</td>\n",
       "      <td>NaN</td>\n",
       "      <td>NaN</td>\n",
       "      <td>NaN</td>\n",
       "      <td>NaN</td>\n",
       "      <td>NaN</td>\n",
       "      <td>NaN</td>\n",
       "      <td>NaN</td>\n",
       "    </tr>\n",
       "    <tr>\n",
       "      <th>48</th>\n",
       "      <td>Justin Harding</td>\n",
       "      <td>E</td>\n",
       "      <td>11:05:00</td>\n",
       "      <td>500</td>\n",
       "      <td>293.3</td>\n",
       "      <td>48.75</td>\n",
       "      <td>60.19</td>\n",
       "      <td>40.25</td>\n",
       "      <td>25.00</td>\n",
       "      <td>41.86</td>\n",
       "      <td>...</td>\n",
       "      <td>NaN</td>\n",
       "      <td>3.21</td>\n",
       "      <td>4.20</td>\n",
       "      <td>4.63</td>\n",
       "      <td>0.0</td>\n",
       "      <td>0.0</td>\n",
       "      <td>0.0</td>\n",
       "      <td>29750.0</td>\n",
       "      <td>133.0</td>\n",
       "      <td>1.22</td>\n",
       "    </tr>\n",
       "    <tr>\n",
       "      <th>49</th>\n",
       "      <td>Shugo Imahira</td>\n",
       "      <td>E</td>\n",
       "      <td>11:05:00</td>\n",
       "      <td>500</td>\n",
       "      <td>289.1</td>\n",
       "      <td>55.56</td>\n",
       "      <td>54.17</td>\n",
       "      <td>45.17</td>\n",
       "      <td>25.00</td>\n",
       "      <td>43.94</td>\n",
       "      <td>...</td>\n",
       "      <td>NaN</td>\n",
       "      <td>3.22</td>\n",
       "      <td>4.29</td>\n",
       "      <td>4.64</td>\n",
       "      <td>0.0</td>\n",
       "      <td>0.0</td>\n",
       "      <td>0.0</td>\n",
       "      <td>40461.0</td>\n",
       "      <td>75.0</td>\n",
       "      <td>1.83</td>\n",
       "    </tr>\n",
       "    <tr>\n",
       "      <th>54</th>\n",
       "      <td>John Augenstein</td>\n",
       "      <td>E</td>\n",
       "      <td>11:16:00</td>\n",
       "      <td>500</td>\n",
       "      <td>NaN</td>\n",
       "      <td>NaN</td>\n",
       "      <td>NaN</td>\n",
       "      <td>NaN</td>\n",
       "      <td>NaN</td>\n",
       "      <td>NaN</td>\n",
       "      <td>...</td>\n",
       "      <td>NaN</td>\n",
       "      <td>NaN</td>\n",
       "      <td>NaN</td>\n",
       "      <td>NaN</td>\n",
       "      <td>NaN</td>\n",
       "      <td>NaN</td>\n",
       "      <td>NaN</td>\n",
       "      <td>NaN</td>\n",
       "      <td>NaN</td>\n",
       "      <td>NaN</td>\n",
       "    </tr>\n",
       "    <tr>\n",
       "      <th>63</th>\n",
       "      <td>Bernd Wiesberger</td>\n",
       "      <td>E</td>\n",
       "      <td>11:27:00</td>\n",
       "      <td>250</td>\n",
       "      <td>296.5</td>\n",
       "      <td>39.29</td>\n",
       "      <td>54.17</td>\n",
       "      <td>46.00</td>\n",
       "      <td>25.00</td>\n",
       "      <td>39.39</td>\n",
       "      <td>...</td>\n",
       "      <td>NaN</td>\n",
       "      <td>3.44</td>\n",
       "      <td>4.21</td>\n",
       "      <td>4.75</td>\n",
       "      <td>0.0</td>\n",
       "      <td>0.0</td>\n",
       "      <td>0.0</td>\n",
       "      <td>39275.0</td>\n",
       "      <td>37.0</td>\n",
       "      <td>2.86</td>\n",
       "    </tr>\n",
       "    <tr>\n",
       "      <th>71</th>\n",
       "      <td>Christiaan Bezuidenhout</td>\n",
       "      <td>E</td>\n",
       "      <td>11:49:00</td>\n",
       "      <td>350</td>\n",
       "      <td>301.8</td>\n",
       "      <td>41.07</td>\n",
       "      <td>40.28</td>\n",
       "      <td>42.92</td>\n",
       "      <td>70.00</td>\n",
       "      <td>48.84</td>\n",
       "      <td>...</td>\n",
       "      <td>NaN</td>\n",
       "      <td>3.19</td>\n",
       "      <td>4.31</td>\n",
       "      <td>5.25</td>\n",
       "      <td>0.0</td>\n",
       "      <td>0.0</td>\n",
       "      <td>0.0</td>\n",
       "      <td>27461.0</td>\n",
       "      <td>59.0</td>\n",
       "      <td>2.10</td>\n",
       "    </tr>\n",
       "    <tr>\n",
       "      <th>74</th>\n",
       "      <td>Bernhard Langer</td>\n",
       "      <td>E</td>\n",
       "      <td>11:49:00</td>\n",
       "      <td>500</td>\n",
       "      <td>NaN</td>\n",
       "      <td>NaN</td>\n",
       "      <td>NaN</td>\n",
       "      <td>NaN</td>\n",
       "      <td>NaN</td>\n",
       "      <td>NaN</td>\n",
       "      <td>...</td>\n",
       "      <td>NaN</td>\n",
       "      <td>NaN</td>\n",
       "      <td>NaN</td>\n",
       "      <td>NaN</td>\n",
       "      <td>NaN</td>\n",
       "      <td>NaN</td>\n",
       "      <td>NaN</td>\n",
       "      <td>NaN</td>\n",
       "      <td>NaN</td>\n",
       "      <td>NaN</td>\n",
       "    </tr>\n",
       "    <tr>\n",
       "      <th>78</th>\n",
       "      <td>Fred Couples</td>\n",
       "      <td>E</td>\n",
       "      <td>12:00:00</td>\n",
       "      <td>500</td>\n",
       "      <td>NaN</td>\n",
       "      <td>NaN</td>\n",
       "      <td>NaN</td>\n",
       "      <td>NaN</td>\n",
       "      <td>NaN</td>\n",
       "      <td>NaN</td>\n",
       "      <td>...</td>\n",
       "      <td>NaN</td>\n",
       "      <td>NaN</td>\n",
       "      <td>NaN</td>\n",
       "      <td>NaN</td>\n",
       "      <td>NaN</td>\n",
       "      <td>NaN</td>\n",
       "      <td>NaN</td>\n",
       "      <td>NaN</td>\n",
       "      <td>NaN</td>\n",
       "      <td>NaN</td>\n",
       "    </tr>\n",
       "    <tr>\n",
       "      <th>85</th>\n",
       "      <td>José María Olazábal</td>\n",
       "      <td>E</td>\n",
       "      <td>12:11:00</td>\n",
       "      <td>500</td>\n",
       "      <td>NaN</td>\n",
       "      <td>NaN</td>\n",
       "      <td>NaN</td>\n",
       "      <td>NaN</td>\n",
       "      <td>NaN</td>\n",
       "      <td>NaN</td>\n",
       "      <td>...</td>\n",
       "      <td>NaN</td>\n",
       "      <td>NaN</td>\n",
       "      <td>NaN</td>\n",
       "      <td>NaN</td>\n",
       "      <td>NaN</td>\n",
       "      <td>NaN</td>\n",
       "      <td>NaN</td>\n",
       "      <td>NaN</td>\n",
       "      <td>NaN</td>\n",
       "      <td>NaN</td>\n",
       "    </tr>\n",
       "    <tr>\n",
       "      <th>88</th>\n",
       "      <td>James Sugrue</td>\n",
       "      <td>E</td>\n",
       "      <td>12:11:00</td>\n",
       "      <td>500</td>\n",
       "      <td>NaN</td>\n",
       "      <td>NaN</td>\n",
       "      <td>NaN</td>\n",
       "      <td>NaN</td>\n",
       "      <td>NaN</td>\n",
       "      <td>NaN</td>\n",
       "      <td>...</td>\n",
       "      <td>NaN</td>\n",
       "      <td>NaN</td>\n",
       "      <td>NaN</td>\n",
       "      <td>NaN</td>\n",
       "      <td>NaN</td>\n",
       "      <td>NaN</td>\n",
       "      <td>NaN</td>\n",
       "      <td>NaN</td>\n",
       "      <td>NaN</td>\n",
       "      <td>NaN</td>\n",
       "    </tr>\n",
       "    <tr>\n",
       "      <th>90</th>\n",
       "      <td>Victor Perez</td>\n",
       "      <td>E</td>\n",
       "      <td>12:22:00</td>\n",
       "      <td>350</td>\n",
       "      <td>NaN</td>\n",
       "      <td>NaN</td>\n",
       "      <td>NaN</td>\n",
       "      <td>NaN</td>\n",
       "      <td>NaN</td>\n",
       "      <td>NaN</td>\n",
       "      <td>...</td>\n",
       "      <td>NaN</td>\n",
       "      <td>NaN</td>\n",
       "      <td>NaN</td>\n",
       "      <td>NaN</td>\n",
       "      <td>NaN</td>\n",
       "      <td>NaN</td>\n",
       "      <td>NaN</td>\n",
       "      <td>NaN</td>\n",
       "      <td>NaN</td>\n",
       "      <td>NaN</td>\n",
       "    </tr>\n",
       "  </tbody>\n",
       "</table>\n",
       "<p>21 rows × 30 columns</p>\n",
       "</div>"
      ],
      "text/plain": [
       "                PLAYER NAME OVERALL  TEE TIME  ODDS  DrivDist  DrivAcc    GIR  \\\n",
       "2                 Yuxin Lin       E  07:00:00   500       NaN      NaN    NaN   \n",
       "3                Sandy Lyle       E  07:00:00   500       NaN      NaN    NaN   \n",
       "4           Cheng Tsung Pan       E  07:00:00   500       NaN      NaN    NaN   \n",
       "7      Jazz Janewattananond       E  07:11:00   500     285.0    65.00  72.22   \n",
       "15             Lukas Michel       E  07:22:00   500       NaN      NaN    NaN   \n",
       "16               Larry Mize       E  07:22:00   500       NaN      NaN    NaN   \n",
       "31            Abel Gallegos       E  07:55:00   500       NaN      NaN    NaN   \n",
       "33            Andy Ogletree       E  07:55:00   500       NaN      NaN    NaN   \n",
       "39              Vijay Singh       E  08:06:00   500       NaN      NaN    NaN   \n",
       "46             Matt Wallace       E  08:17:00   200     315.6    44.64  63.89   \n",
       "47                Mike Weir       E  08:17:00   500       NaN      NaN    NaN   \n",
       "48           Justin Harding       E  11:05:00   500     293.3    48.75  60.19   \n",
       "49            Shugo Imahira       E  11:05:00   500     289.1    55.56  54.17   \n",
       "54          John Augenstein       E  11:16:00   500       NaN      NaN    NaN   \n",
       "63         Bernd Wiesberger       E  11:27:00   250     296.5    39.29  54.17   \n",
       "71  Christiaan Bezuidenhout       E  11:49:00   350     301.8    41.07  40.28   \n",
       "74          Bernhard Langer       E  11:49:00   500       NaN      NaN    NaN   \n",
       "78             Fred Couples       E  12:00:00   500       NaN      NaN    NaN   \n",
       "85      José María Olazábal       E  12:11:00   500       NaN      NaN    NaN   \n",
       "88             James Sugrue       E  12:11:00   500       NaN      NaN    NaN   \n",
       "90             Victor Perez       E  12:22:00   350       NaN      NaN    NaN   \n",
       "\n",
       "     Prox  SandSave  Scram  ...  ScoreAvg  ScorePar3  ScorePar4  ScorePar5  \\\n",
       "2     NaN       NaN    NaN  ...       NaN        NaN        NaN        NaN   \n",
       "3     NaN       NaN    NaN  ...       NaN        NaN        NaN        NaN   \n",
       "4     NaN       NaN    NaN  ...       NaN        NaN        NaN        NaN   \n",
       "7   41.33     37.50  36.67  ...       NaN       3.00       4.18       4.75   \n",
       "15    NaN       NaN    NaN  ...       NaN        NaN        NaN        NaN   \n",
       "16    NaN       NaN    NaN  ...       NaN        NaN        NaN        NaN   \n",
       "31    NaN       NaN    NaN  ...       NaN        NaN        NaN        NaN   \n",
       "33    NaN       NaN    NaN  ...       NaN        NaN        NaN        NaN   \n",
       "39    NaN       NaN    NaN  ...       NaN        NaN        NaN        NaN   \n",
       "46  49.25     28.57  38.46  ...    69.664       3.63       4.15       4.75   \n",
       "47    NaN       NaN    NaN  ...       NaN        NaN        NaN        NaN   \n",
       "48  40.25     25.00  41.86  ...       NaN       3.21       4.20       4.63   \n",
       "49  45.17     25.00  43.94  ...       NaN       3.22       4.29       4.64   \n",
       "54    NaN       NaN    NaN  ...       NaN        NaN        NaN        NaN   \n",
       "63  46.00     25.00  39.39  ...       NaN       3.44       4.21       4.75   \n",
       "71  42.92     70.00  48.84  ...       NaN       3.19       4.31       5.25   \n",
       "74    NaN       NaN    NaN  ...       NaN        NaN        NaN        NaN   \n",
       "78    NaN       NaN    NaN  ...       NaN        NaN        NaN        NaN   \n",
       "85    NaN       NaN    NaN  ...       NaN        NaN        NaN        NaN   \n",
       "88    NaN       NaN    NaN  ...       NaN        NaN        NaN        NaN   \n",
       "90    NaN       NaN    NaN  ...       NaN        NaN        NaN        NaN   \n",
       "\n",
       "    Top10  Wins  Top3  YearMoney  WorldRank  WorldRankPoints  \n",
       "2     NaN   NaN   NaN        NaN        NaN              NaN  \n",
       "3     NaN   NaN   NaN        NaN        NaN              NaN  \n",
       "4     NaN   NaN   NaN        NaN        NaN              NaN  \n",
       "7     0.0   0.0   0.0    15520.0       73.0             1.90  \n",
       "15    NaN   NaN   NaN        NaN        NaN              NaN  \n",
       "16    NaN   NaN   NaN        NaN        NaN              NaN  \n",
       "31    NaN   NaN   NaN        NaN        NaN              NaN  \n",
       "33    NaN   NaN   NaN        NaN        NaN              NaN  \n",
       "39    NaN   NaN   NaN        NaN        NaN              NaN  \n",
       "46    0.0   0.0   0.0    39275.0       52.0             2.34  \n",
       "47    NaN   NaN   NaN        NaN        NaN              NaN  \n",
       "48    0.0   0.0   0.0    29750.0      133.0             1.22  \n",
       "49    0.0   0.0   0.0    40461.0       75.0             1.83  \n",
       "54    NaN   NaN   NaN        NaN        NaN              NaN  \n",
       "63    0.0   0.0   0.0    39275.0       37.0             2.86  \n",
       "71    0.0   0.0   0.0    27461.0       59.0             2.10  \n",
       "74    NaN   NaN   NaN        NaN        NaN              NaN  \n",
       "78    NaN   NaN   NaN        NaN        NaN              NaN  \n",
       "85    NaN   NaN   NaN        NaN        NaN              NaN  \n",
       "88    NaN   NaN   NaN        NaN        NaN              NaN  \n",
       "90    NaN   NaN   NaN        NaN        NaN              NaN  \n",
       "\n",
       "[21 rows x 30 columns]"
      ]
     },
     "execution_count": 64,
     "metadata": {},
     "output_type": "execute_result"
    }
   ],
   "source": [
    "masters_data[masters_data.isna().any(axis=1)]"
   ]
  },
  {
   "cell_type": "code",
   "execution_count": 65,
   "metadata": {},
   "outputs": [],
   "source": [
    "masters_data.to_csv('MastersData.csv')"
   ]
  }
 ],
 "metadata": {
  "kernelspec": {
   "display_name": "Python 3",
   "language": "python",
   "name": "python3"
  },
  "language_info": {
   "codemirror_mode": {
    "name": "ipython",
    "version": 3
   },
   "file_extension": ".py",
   "mimetype": "text/x-python",
   "name": "python",
   "nbconvert_exporter": "python",
   "pygments_lexer": "ipython3",
   "version": "3.8.5"
  }
 },
 "nbformat": 4,
 "nbformat_minor": 4
}
