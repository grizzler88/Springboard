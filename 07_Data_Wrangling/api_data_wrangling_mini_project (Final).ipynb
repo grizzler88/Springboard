{
 "cells": [
  {
   "cell_type": "markdown",
   "metadata": {},
   "source": [
    "This exercise will require you to pull some data from the Qunadl API. Qaundl is currently the most widely used aggregator of financial market data."
   ]
  },
  {
   "cell_type": "markdown",
   "metadata": {},
   "source": [
    "As a first step, you will need to register a free account on the http://www.quandl.com website."
   ]
  },
  {
   "cell_type": "markdown",
   "metadata": {},
   "source": [
    "After you register, you will be provided with a unique API key, that you should store:"
   ]
  },
  {
   "cell_type": "code",
   "execution_count": 1,
   "metadata": {},
   "outputs": [],
   "source": [
    "# Store the API key as a string - according to PEP8, constants are always named in all upper case\n",
    "API_KEY = 'yxTNuEFm8j5mza_uYS3A'"
   ]
  },
  {
   "cell_type": "markdown",
   "metadata": {},
   "source": [
    "Qaundl has a large number of data sources, but, unfortunately, most of them require a Premium subscription. Still, there are also a good number of free datasets."
   ]
  },
  {
   "cell_type": "markdown",
   "metadata": {},
   "source": [
    "For this mini project, we will focus on equities data from the Frankfurt Stock Exhange (FSE), which is available for free. We'll try and analyze the stock prices of a company called Carl Zeiss Meditec, which manufactures tools for eye examinations, as well as medical lasers for laser eye surgery: https://www.zeiss.com/meditec/int/home.html. The company is listed under the stock ticker AFX_X."
   ]
  },
  {
   "cell_type": "markdown",
   "metadata": {},
   "source": [
    "You can find the detailed Quandl API instructions here: https://docs.quandl.com/docs/time-series"
   ]
  },
  {
   "cell_type": "markdown",
   "metadata": {},
   "source": [
    "While there is a dedicated Python package for connecting to the Quandl API, we would prefer that you use the *requests* package, which can be easily downloaded using *pip* or *conda*. You can find the documentation for the package here: http://docs.python-requests.org/en/master/ "
   ]
  },
  {
   "cell_type": "markdown",
   "metadata": {},
   "source": [
    "Finally, apart from the *requests* package, you are encouraged to not use any third party Python packages, such as *pandas*, and instead focus on what's available in the Python Standard Library (the *collections* module might come in handy: https://pymotw.com/3/collections/ ).\n",
    "Also, since you won't have access to DataFrames, you are encouraged to us Python's native data structures - preferably dictionaries, though some questions can also be answered using lists.\n",
    "You can read more on these data structures here: https://docs.python.org/3/tutorial/datastructures.html"
   ]
  },
  {
   "cell_type": "markdown",
   "metadata": {},
   "source": [
    "Keep in mind that the JSON responses you will be getting from the API map almost one-to-one to Python's dictionaries. Unfortunately, they can be very nested, so make sure you read up on indexing dictionaries in the documentation provided above."
   ]
  },
  {
   "cell_type": "markdown",
   "metadata": {},
   "source": [
    "### Import Modules"
   ]
  },
  {
   "cell_type": "code",
   "execution_count": 2,
   "metadata": {},
   "outputs": [],
   "source": [
    "# First, import the relevant modules\n",
    "import requests\n",
    "import collections"
   ]
  },
  {
   "cell_type": "markdown",
   "metadata": {},
   "source": [
    "### Access API and pull daily sample"
   ]
  },
  {
   "cell_type": "code",
   "execution_count": 3,
   "metadata": {},
   "outputs": [],
   "source": [
    "# Now, call the Quandl API and pull out a small sample of the data (only one day) to get a glimpse\n",
    "# into the JSON structure that will be returned\n",
    "\n",
    "stock_code = 'AFX_X'\n",
    "column_start = '0'\n",
    "start_date = '2019-01-01'\n",
    "end_date = '2019-01-02'\n",
    "\n",
    "#url =   'https://www.quandl.com/api/v3/datasets/WIKI/AFX_X.json?column_index=4&start_date=2018-01-01&end_date=2018-01-02&collapse=monthly+&transform=rdiff&api_key='+API_KEY\n",
    "#url =   'https://www.quandl.com/api/v3/datasets/WIKI/'+stock_code+'.json?column_index='+column_start+'&start_date='+start_date+'&end_date='+end_date+'&collapse='+'monthly'+'&transform='+'rdiff'+'&api_key='+API_KEY\n",
    "\n",
    "url = 'https://www.quandl.com/api/v3/datasets/FSE/AFX_X.json?&start_date=2019-01-01&end_date=2019-01-02&api_key='+API_KEY\n",
    "\n",
    "r = requests.get(url)"
   ]
  },
  {
   "cell_type": "markdown",
   "metadata": {},
   "source": [
    "### Inspect JSON structure"
   ]
  },
  {
   "cell_type": "code",
   "execution_count": 4,
   "metadata": {},
   "outputs": [
    {
     "data": {
      "text/plain": [
       "200"
      ]
     },
     "execution_count": 4,
     "metadata": {},
     "output_type": "execute_result"
    }
   ],
   "source": [
    "# Inspect the JSON structure of the object you created, and take note of how nested it is,\n",
    "# as well as the overall structure\n",
    "\n",
    "r.status_code"
   ]
  },
  {
   "cell_type": "code",
   "execution_count": 5,
   "metadata": {},
   "outputs": [],
   "source": [
    "#r.headers"
   ]
  },
  {
   "cell_type": "code",
   "execution_count": 6,
   "metadata": {},
   "outputs": [],
   "source": [
    "#r.text"
   ]
  },
  {
   "cell_type": "code",
   "execution_count": 7,
   "metadata": {},
   "outputs": [],
   "source": [
    "json_data = r.json()\n",
    "#json_data"
   ]
  },
  {
   "cell_type": "code",
   "execution_count": 8,
   "metadata": {},
   "outputs": [
    {
     "name": "stdout",
     "output_type": "stream",
     "text": [
      "dataset\n",
      "\n",
      "\n",
      "id\n",
      "10095370\n",
      "\n",
      "dataset_code\n",
      "AFX_X\n",
      "\n",
      "database_code\n",
      "FSE\n",
      "\n",
      "name\n",
      "Carl Zeiss Meditec (AFX_X)\n",
      "\n",
      "description\n",
      "Stock Prices for Carl Zeiss Meditec (2020-07-20) from the Frankfurt Stock Exchange.<br><br>Trading System: Xetra<br><br>ISIN: DE0005313704\n",
      "\n",
      "refreshed_at\n",
      "2020-08-03T22:16:16.600Z\n",
      "\n",
      "newest_available_date\n",
      "2020-08-03\n",
      "\n",
      "oldest_available_date\n",
      "2000-06-07\n",
      "\n",
      "column_names\n",
      "['Date', 'Open', 'High', 'Low', 'Close', 'Change', 'Traded Volume', 'Turnover', 'Last Price of the Day', 'Daily Traded Units', 'Daily Turnover']\n",
      "\n",
      "frequency\n",
      "daily\n",
      "\n",
      "type\n",
      "Time Series\n",
      "\n",
      "premium\n",
      "False\n",
      "\n",
      "limit\n",
      "None\n",
      "\n",
      "transform\n",
      "None\n",
      "\n",
      "column_index\n",
      "None\n",
      "\n",
      "start_date\n",
      "2019-01-01\n",
      "\n",
      "end_date\n",
      "2019-01-02\n",
      "\n",
      "data\n",
      "[['2019-01-02', None, 70.85, 68.25, 69.85, None, None, None, None, None, None]]\n",
      "\n",
      "collapse\n",
      "None\n",
      "\n",
      "order\n",
      "None\n",
      "\n",
      "database_id\n",
      "6129\n",
      "\n"
     ]
    }
   ],
   "source": [
    "for key, value in json_data.items():\n",
    "    print(key)\n",
    "    print()\n",
    "    print()\n",
    "    for k,v in value.items():\n",
    "        print(k)\n",
    "        print(v)\n",
    "        print()"
   ]
  },
  {
   "cell_type": "markdown",
   "metadata": {},
   "source": [
    "### Task List"
   ]
  },
  {
   "cell_type": "markdown",
   "metadata": {},
   "source": [
    "These are your tasks for this mini project:\n",
    "\n",
    "1. Collect data from the Franfurt Stock Exchange, for the ticker AFX_X, for the whole year 2017 (keep in mind that the date format is YYYY-MM-DD).\n",
    "2. Convert the returned JSON object into a Python dictionary.\n",
    "3. Calculate what the highest and lowest opening prices were for the stock in this period.\n",
    "4. What was the largest change in any one day (based on High and Low price)?\n",
    "5. What was the largest change between any two days (based on Closing Price)?\n",
    "6. What was the average daily trading volume during this year?\n",
    "7. (Optional) What was the median trading volume during this year. (Note: you may need to implement your own function for calculating the median.)"
   ]
  },
  {
   "cell_type": "markdown",
   "metadata": {},
   "source": [
    "### Task 1"
   ]
  },
  {
   "cell_type": "code",
   "execution_count": 9,
   "metadata": {},
   "outputs": [],
   "source": [
    "url2 = 'https://www.quandl.com/api/v3/datasets/FSE/AFX_X.json?&start_date=2017-01-01&end_date=2017-12-31&api_key='+API_KEY\n",
    "r2 = requests.get(url2)"
   ]
  },
  {
   "cell_type": "markdown",
   "metadata": {},
   "source": [
    "No data returned for 01/01/2017 or 30/12/2017 to 31/12/2017. "
   ]
  },
  {
   "cell_type": "markdown",
   "metadata": {},
   "source": [
    "### Task 2"
   ]
  },
  {
   "cell_type": "code",
   "execution_count": 10,
   "metadata": {},
   "outputs": [],
   "source": [
    "json = r2.json()\n",
    "#json"
   ]
  },
  {
   "cell_type": "markdown",
   "metadata": {},
   "source": [
    "### Task 3"
   ]
  },
  {
   "cell_type": "markdown",
   "metadata": {},
   "source": [
    "This section has bit of exploratory piece before getting to answer to question"
   ]
  },
  {
   "cell_type": "markdown",
   "metadata": {},
   "source": [
    "Below code is to identify column names"
   ]
  },
  {
   "cell_type": "code",
   "execution_count": 11,
   "metadata": {},
   "outputs": [
    {
     "data": {
      "text/plain": [
       "['Date',\n",
       " 'Open',\n",
       " 'High',\n",
       " 'Low',\n",
       " 'Close',\n",
       " 'Change',\n",
       " 'Traded Volume',\n",
       " 'Turnover',\n",
       " 'Last Price of the Day',\n",
       " 'Daily Traded Units',\n",
       " 'Daily Turnover']"
      ]
     },
     "execution_count": 11,
     "metadata": {},
     "output_type": "execute_result"
    }
   ],
   "source": [
    "column_names = json['dataset']['column_names']\n",
    "column_names"
   ]
  },
  {
   "cell_type": "markdown",
   "metadata": {},
   "source": [
    "Below code is to look at what data is available"
   ]
  },
  {
   "cell_type": "code",
   "execution_count": 12,
   "metadata": {},
   "outputs": [],
   "source": [
    "data = json['dataset']['data']\n",
    "#data\n",
    "\n",
    "#data0 = json['dataset']['data'][0]"
   ]
  },
  {
   "cell_type": "markdown",
   "metadata": {},
   "source": [
    "Below code is to create new dictionary combining column names and data"
   ]
  },
  {
   "cell_type": "code",
   "execution_count": 13,
   "metadata": {},
   "outputs": [],
   "source": [
    "from collections import defaultdict\n",
    "from collections import OrderedDict\n",
    "new_dict2 = OrderedDict()\n",
    "\n",
    "#dict(zip(column_names, data[0]))\n",
    "\n",
    "for x in data:\n",
    "    temp_dict = dict(zip(column_names, x))\n",
    "    new_dict2[temp_dict['Date']] = temp_dict\n",
    "\n",
    "#new_dict2\n",
    "#type(new_dict2)"
   ]
  },
  {
   "cell_type": "markdown",
   "metadata": {},
   "source": [
    "Below code is to view output from dictionary to see if it made sense"
   ]
  },
  {
   "cell_type": "code",
   "execution_count": 14,
   "metadata": {},
   "outputs": [],
   "source": [
    "#list(new_dict2.items())[0:2]"
   ]
  },
  {
   "cell_type": "code",
   "execution_count": 15,
   "metadata": {},
   "outputs": [],
   "source": [
    "#for date, info in new_dict2.items():\n",
    "    #print(date, ': ', new_dict2[date]['Close'])"
   ]
  },
  {
   "cell_type": "markdown",
   "metadata": {},
   "source": [
    "Below code is used to answer question of highest and lowest opening prices throughou the year.\n",
    "\n",
    "Worked of the assumption we did not require to know the date of these hit but if this was required, alternative solution would be neeed. Also, unsure if solution around 'None' values is correct."
   ]
  },
  {
   "cell_type": "code",
   "execution_count": 16,
   "metadata": {},
   "outputs": [
    {
     "name": "stdout",
     "output_type": "stream",
     "text": [
      "53.11\n",
      "34.0\n"
     ]
    }
   ],
   "source": [
    "open_price2 = []\n",
    "\n",
    "for date, info in new_dict2.items():\n",
    "    if new_dict2[date]['Open'] == None:\n",
    "        continue\n",
    "    else:\n",
    "        open_price2.append(new_dict2[date]['Open'])\n",
    "\n",
    "#open_price2\n",
    "\n",
    "print(max(open_price2))\n",
    "print(min(open_price2))"
   ]
  },
  {
   "cell_type": "markdown",
   "metadata": {},
   "source": [
    "### Task 4"
   ]
  },
  {
   "cell_type": "markdown",
   "metadata": {},
   "source": [
    "Code is produced similar to previous task and continues throughout project. If incorrect assumptions, all need to be updated."
   ]
  },
  {
   "cell_type": "code",
   "execution_count": 17,
   "metadata": {},
   "outputs": [
    {
     "name": "stdout",
     "output_type": "stream",
     "text": [
      "2.8100000000000023\n"
     ]
    }
   ],
   "source": [
    "high_to_low = []\n",
    "\n",
    "for date, info in new_dict2.items():\n",
    "    if new_dict2[date]['High'] == None:\n",
    "        continue\n",
    "    elif new_dict2[date]['Low'] == None:\n",
    "        continue\n",
    "    else:\n",
    "        change = new_dict2[date]['High'] - new_dict2[date]['Low']\n",
    "        high_to_low.append(change)\n",
    "\n",
    "print(max(high_to_low, key=abs))"
   ]
  },
  {
   "cell_type": "markdown",
   "metadata": {},
   "source": [
    "### Task 5"
   ]
  },
  {
   "cell_type": "markdown",
   "metadata": {},
   "source": [
    "Code below has two loops to calculate answer. First is simlar to above tasks. \n",
    "\n",
    "Second assumes that start by comparing Day 2 to Day 1 and so on until you reach maximum number of days in list and then breaks loop."
   ]
  },
  {
   "cell_type": "code",
   "execution_count": 18,
   "metadata": {},
   "outputs": [
    {
     "name": "stdout",
     "output_type": "stream",
     "text": [
      "2.559999999999995\n"
     ]
    }
   ],
   "source": [
    "close_price = []\n",
    "\n",
    "for date, info in new_dict2.items():\n",
    "    if new_dict2[date]['Close'] == None:\n",
    "        continue \n",
    "        #Maybe should put in default value but this would skew results\n",
    "    else:\n",
    "        close = new_dict2[date]['Close']\n",
    "        close_price.append(close)\n",
    "        \n",
    "day_to_day = []\n",
    "i = 0\n",
    "range_close = len(close_price)\n",
    "\n",
    "for day in close_price:\n",
    "    i = i+1\n",
    "    if i >= range_close:\n",
    "        break\n",
    "    else:\n",
    "        change = close_price[i] - day\n",
    "        day_to_day.append(change)\n",
    "\n",
    "print(max(day_to_day, key=abs))"
   ]
  },
  {
   "cell_type": "markdown",
   "metadata": {},
   "source": [
    "### Task 6"
   ]
  },
  {
   "cell_type": "markdown",
   "metadata": {},
   "source": [
    "Use sum and lenght of trading volume list to calculate mean."
   ]
  },
  {
   "cell_type": "code",
   "execution_count": 19,
   "metadata": {},
   "outputs": [
    {
     "name": "stdout",
     "output_type": "stream",
     "text": [
      "89124.33725490196\n"
     ]
    }
   ],
   "source": [
    "trading_volume = []\n",
    "\n",
    "for date, info in new_dict2.items():\n",
    "    if new_dict2[date]['Traded Volume'] == None:\n",
    "        continue \n",
    "    else:\n",
    "        volume = new_dict2[date]['Traded Volume']\n",
    "        trading_volume.append(volume)\n",
    "\n",
    "sum_volume = sum(trading_volume)\n",
    "len_volume = len(trading_volume)\n",
    "mean_volume = sum_volume / len_volume\n",
    "\n",
    "print(mean_volume)"
   ]
  },
  {
   "cell_type": "markdown",
   "metadata": {},
   "source": [
    "### Task 7"
   ]
  },
  {
   "cell_type": "markdown",
   "metadata": {},
   "source": [
    "Found middle value in length of list.\n",
    "\n",
    "Then sorted listed so in order.\n",
    "\n",
    "Then found indexes either side of middle and calculated average for them."
   ]
  },
  {
   "cell_type": "code",
   "execution_count": 20,
   "metadata": {},
   "outputs": [],
   "source": [
    "middle = len_volume / 2\n",
    "#middle"
   ]
  },
  {
   "cell_type": "code",
   "execution_count": 21,
   "metadata": {},
   "outputs": [
    {
     "data": {
      "text/plain": [
       "76443.0"
      ]
     },
     "execution_count": 21,
     "metadata": {},
     "output_type": "execute_result"
    }
   ],
   "source": [
    "trading_volume.sort()\n",
    "trading_volume\n",
    "\n",
    "median_1 = trading_volume[127]\n",
    "median_2 = trading_volume[128]\n",
    "\n",
    "median = (median_2 + median_1) / 2\n",
    "median"
   ]
  },
  {
   "cell_type": "markdown",
   "metadata": {},
   "source": [
    "### Answers to tasks (where possible)"
   ]
  },
  {
   "cell_type": "markdown",
   "metadata": {},
   "source": [
    "1) Collect data from the Franfurt Stock Exchange, for the ticker AFX_X, for the whole year 2017 (keep in mind that the date format is YYYY-MM-DD).\n",
    "\n",
    "2) Convert the returned JSON object into a Python dictionary.\n",
    "\n",
    "3) Calculate what the highest and lowest opening prices were for the stock in this period.\n",
    "Highest = 53.11\n",
    "Lowest = 34.0\n",
    "\n",
    "4) What was the largest change in any one day (based on High and Low price)?\n",
    "2.81\n",
    "\n",
    "5) What was the largest change between any two days (based on Closing Price)?\n",
    "2.56\n",
    "\n",
    "6) What was the average daily trading volume during this year?\n",
    "89,124\n",
    "\n",
    "7) (Optional) What was the median trading volume during this year. (Note: you may need to implement your own function for calculating the median.)\n",
    "76,443\n"
   ]
  }
 ],
 "metadata": {
  "kernelspec": {
   "display_name": "Python 3",
   "language": "python",
   "name": "python3"
  },
  "language_info": {
   "codemirror_mode": {
    "name": "ipython",
    "version": 3
   },
   "file_extension": ".py",
   "mimetype": "text/x-python",
   "name": "python",
   "nbconvert_exporter": "python",
   "pygments_lexer": "ipython3",
   "version": "3.7.6"
  }
 },
 "nbformat": 4,
 "nbformat_minor": 2
}
