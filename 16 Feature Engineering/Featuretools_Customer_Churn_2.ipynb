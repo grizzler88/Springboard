{
  "nbformat": 4,
  "nbformat_minor": 0,
  "metadata": {
    "kernelspec": {
      "display_name": "Python 3",
      "language": "python",
      "name": "python3"
    },
    "language_info": {
      "codemirror_mode": {
        "name": "ipython",
        "version": 3
      },
      "file_extension": ".py",
      "mimetype": "text/x-python",
      "name": "python",
      "nbconvert_exporter": "python",
      "pygments_lexer": "ipython3",
      "version": "3.7.4"
    },
    "toc": {
      "base_numbering": 1,
      "nav_menu": {},
      "number_sections": true,
      "sideBar": true,
      "skip_h1_title": false,
      "title_cell": "Table of Contents",
      "title_sidebar": "Contents",
      "toc_cell": false,
      "toc_position": {},
      "toc_section_display": true,
      "toc_window_display": false
    },
    "varInspector": {
      "cols": {
        "lenName": 16,
        "lenType": 16,
        "lenVar": 40
      },
      "kernels_config": {
        "python": {
          "delete_cmd_postfix": "",
          "delete_cmd_prefix": "del ",
          "library": "var_list.py",
          "varRefreshCmd": "print(var_dic_list())"
        },
        "r": {
          "delete_cmd_postfix": ") ",
          "delete_cmd_prefix": "rm(",
          "library": "var_list.r",
          "varRefreshCmd": "cat(var_dic_list()) "
        }
      },
      "types_to_exclude": [
        "module",
        "function",
        "builtin_function_or_method",
        "instance",
        "_Feature"
      ],
      "window_display": false
    },
    "colab": {
      "name": "Featuretools_Customer_Churn_2.ipynb",
      "provenance": [],
      "toc_visible": true,
      "include_colab_link": true
    }
  },
  "cells": [
    {
      "cell_type": "markdown",
      "metadata": {
        "id": "view-in-github",
        "colab_type": "text"
      },
      "source": [
        "<a href=\"https://colab.research.google.com/github/grizzler88/Springboard/blob/master/16%20Feature%20Engineering/Featuretools_Customer_Churn_2.ipynb\" target=\"_parent\"><img src=\"https://colab.research.google.com/assets/colab-badge.svg\" alt=\"Open In Colab\"/></a>"
      ]
    },
    {
      "cell_type": "markdown",
      "metadata": {
        "id": "s4ogc5IvG64z"
      },
      "source": [
        "**Note**: This notebook has been adapted from the one [here](https://github.com/Featuretools/predict-customer-churn/blob/master/churn/3.%20Feature%20Engineering.ipynb) to remove any dependencies on AWS and S3 so as to just focus on the featuretools functionality without requireming you to make an AWS account and set up the `aws` cli. You should check out the full repo for some other cool notebooks and examples using Spark and Dask."
      ]
    },
    {
      "cell_type": "code",
      "metadata": {
        "colab": {
          "base_uri": "https://localhost:8080/",
          "height": 1000
        },
        "id": "pd8Z8G6lG644",
        "outputId": "c78c8be2-2f4c-4b14-b57f-351b0d6a6035"
      },
      "source": [
        "# uncommecnt and run below to install required libraries if need to\n",
        "!pip install -r requirements.txt"
      ],
      "execution_count": 3,
      "outputs": [
        {
          "output_type": "stream",
          "text": [
            "Collecting pandas==1.1.1\n",
            "\u001b[?25l  Downloading https://files.pythonhosted.org/packages/a1/c6/9ac4ae44c24c787a1738e5fb34dd987ada6533de5905a041aa6d5bea4553/pandas-1.1.1-cp36-cp36m-manylinux1_x86_64.whl (10.5MB)\n",
            "\u001b[K     |████████████████████████████████| 10.5MB 8.9MB/s \n",
            "\u001b[?25hCollecting featuretools==0.4.0\n",
            "\u001b[?25l  Downloading https://files.pythonhosted.org/packages/e6/61/0ad76c34d3e95f431365b73b7e7dfb357e03b12ad37be08f261a057b5e13/featuretools-0.4.0.tar.gz (142kB)\n",
            "\u001b[K     |████████████████████████████████| 143kB 62.6MB/s \n",
            "\u001b[?25hCollecting s3fs==0.5.0\n",
            "  Downloading https://files.pythonhosted.org/packages/92/15/792d40668bd63acc8f816188ed3c3a27f393717122c8bed5fe8f550616da/s3fs-0.5.0-py3-none-any.whl\n",
            "Requirement already satisfied: numpy>=1.15.4 in /usr/local/lib/python3.6/dist-packages (from pandas==1.1.1->-r requirements.txt (line 1)) (1.19.5)\n",
            "Requirement already satisfied: python-dateutil>=2.7.3 in /usr/local/lib/python3.6/dist-packages (from pandas==1.1.1->-r requirements.txt (line 1)) (2.8.1)\n",
            "Requirement already satisfied: pytz>=2017.2 in /usr/local/lib/python3.6/dist-packages (from pandas==1.1.1->-r requirements.txt (line 1)) (2018.9)\n",
            "Requirement already satisfied: tqdm>=4.19.2 in /usr/local/lib/python3.6/dist-packages (from featuretools==0.4.0->-r requirements.txt (line 2)) (4.41.1)\n",
            "Requirement already satisfied: toolz>=0.8.2 in /usr/local/lib/python3.6/dist-packages (from featuretools==0.4.0->-r requirements.txt (line 2)) (0.11.1)\n",
            "Requirement already satisfied: pyyaml>=3.12 in /usr/local/lib/python3.6/dist-packages (from featuretools==0.4.0->-r requirements.txt (line 2)) (3.13)\n",
            "Requirement already satisfied: cloudpickle>=0.4.0 in /usr/local/lib/python3.6/dist-packages (from featuretools==0.4.0->-r requirements.txt (line 2)) (1.3.0)\n",
            "Requirement already satisfied: future>=0.16.0 in /usr/local/lib/python3.6/dist-packages (from featuretools==0.4.0->-r requirements.txt (line 2)) (0.16.0)\n",
            "Requirement already satisfied: dask>=0.19.4 in /usr/local/lib/python3.6/dist-packages (from featuretools==0.4.0->-r requirements.txt (line 2)) (2.12.0)\n",
            "Requirement already satisfied: distributed>=1.23.3 in /usr/local/lib/python3.6/dist-packages (from featuretools==0.4.0->-r requirements.txt (line 2)) (1.25.3)\n",
            "Requirement already satisfied: psutil>=5.4.8 in /usr/local/lib/python3.6/dist-packages (from featuretools==0.4.0->-r requirements.txt (line 2)) (5.4.8)\n",
            "Collecting aiobotocore>=1.0.1\n",
            "\u001b[?25l  Downloading https://files.pythonhosted.org/packages/8e/5c/9caca95a49f66729cf9cf9e295f2cbbb1b58bc638fd80d41b91f32b5189a/aiobotocore-1.2.0.tar.gz (47kB)\n",
            "\u001b[K     |████████████████████████████████| 51kB 5.1MB/s \n",
            "\u001b[?25hCollecting fsspec>=0.8.0\n",
            "\u001b[?25l  Downloading https://files.pythonhosted.org/packages/ec/80/72ac0982cc833945fada4b76c52f0f65435ba4d53bc9317d1c70b5f7e7d5/fsspec-0.8.5-py3-none-any.whl (98kB)\n",
            "\u001b[K     |████████████████████████████████| 102kB 9.0MB/s \n",
            "\u001b[?25hRequirement already satisfied: six>=1.5 in /usr/local/lib/python3.6/dist-packages (from python-dateutil>=2.7.3->pandas==1.1.1->-r requirements.txt (line 1)) (1.15.0)\n",
            "Requirement already satisfied: zict>=0.1.3 in /usr/local/lib/python3.6/dist-packages (from distributed>=1.23.3->featuretools==0.4.0->-r requirements.txt (line 2)) (2.0.0)\n",
            "Requirement already satisfied: click>=6.6 in /usr/local/lib/python3.6/dist-packages (from distributed>=1.23.3->featuretools==0.4.0->-r requirements.txt (line 2)) (7.1.2)\n",
            "Requirement already satisfied: sortedcontainers!=2.0.0,!=2.0.1 in /usr/local/lib/python3.6/dist-packages (from distributed>=1.23.3->featuretools==0.4.0->-r requirements.txt (line 2)) (2.3.0)\n",
            "Requirement already satisfied: msgpack in /usr/local/lib/python3.6/dist-packages (from distributed>=1.23.3->featuretools==0.4.0->-r requirements.txt (line 2)) (1.0.2)\n",
            "Requirement already satisfied: tblib in /usr/local/lib/python3.6/dist-packages (from distributed>=1.23.3->featuretools==0.4.0->-r requirements.txt (line 2)) (1.7.0)\n",
            "Requirement already satisfied: tornado>=4.5.1 in /usr/local/lib/python3.6/dist-packages (from distributed>=1.23.3->featuretools==0.4.0->-r requirements.txt (line 2)) (5.1.1)\n",
            "Collecting botocore<1.19.53,>=1.19.52\n",
            "\u001b[?25l  Downloading https://files.pythonhosted.org/packages/e9/a8/3a70380b52a34bed791a1dcc3f5e5967c81676f452aef440416efac62cfd/botocore-1.19.52-py2.py3-none-any.whl (7.2MB)\n",
            "\u001b[K     |████████████████████████████████| 7.2MB 55.4MB/s \n",
            "\u001b[?25hCollecting aiohttp>=3.3.1\n",
            "\u001b[?25l  Downloading https://files.pythonhosted.org/packages/ad/e6/d4b6235d776c9b33f853e603efede5aac5a34f71ca9d3877adb30492eb4e/aiohttp-3.7.3-cp36-cp36m-manylinux2014_x86_64.whl (1.3MB)\n",
            "\u001b[K     |████████████████████████████████| 1.3MB 45.4MB/s \n",
            "\u001b[?25hRequirement already satisfied: wrapt>=1.10.10 in /usr/local/lib/python3.6/dist-packages (from aiobotocore>=1.0.1->s3fs==0.5.0->-r requirements.txt (line 3)) (1.12.1)\n",
            "Collecting aioitertools>=0.5.1\n",
            "  Downloading https://files.pythonhosted.org/packages/32/0b/3260ac050de07bf6e91871944583bb8598091da19155c34f7ef02244709c/aioitertools-0.7.1-py3-none-any.whl\n",
            "Requirement already satisfied: heapdict in /usr/local/lib/python3.6/dist-packages (from zict>=0.1.3->distributed>=1.23.3->featuretools==0.4.0->-r requirements.txt (line 2)) (1.0.1)\n",
            "Collecting jmespath<1.0.0,>=0.7.1\n",
            "  Downloading https://files.pythonhosted.org/packages/07/cb/5f001272b6faeb23c1c9e0acc04d48eaaf5c862c17709d20e3469c6e0139/jmespath-0.10.0-py2.py3-none-any.whl\n",
            "Collecting urllib3<1.27,>=1.25.4; python_version != \"3.4\"\n",
            "\u001b[?25l  Downloading https://files.pythonhosted.org/packages/23/fc/8a49991f7905261f9ca9df5aa9b58363c3c821ce3e7f671895442b7100f2/urllib3-1.26.3-py2.py3-none-any.whl (137kB)\n",
            "\u001b[K     |████████████████████████████████| 143kB 51.8MB/s \n",
            "\u001b[?25hRequirement already satisfied: attrs>=17.3.0 in /usr/local/lib/python3.6/dist-packages (from aiohttp>=3.3.1->aiobotocore>=1.0.1->s3fs==0.5.0->-r requirements.txt (line 3)) (20.3.0)\n",
            "Collecting async-timeout<4.0,>=3.0\n",
            "  Downloading https://files.pythonhosted.org/packages/e1/1e/5a4441be21b0726c4464f3f23c8b19628372f606755a9d2e46c187e65ec4/async_timeout-3.0.1-py3-none-any.whl\n",
            "Requirement already satisfied: chardet<4.0,>=2.0 in /usr/local/lib/python3.6/dist-packages (from aiohttp>=3.3.1->aiobotocore>=1.0.1->s3fs==0.5.0->-r requirements.txt (line 3)) (3.0.4)\n",
            "Collecting multidict<7.0,>=4.5\n",
            "\u001b[?25l  Downloading https://files.pythonhosted.org/packages/a1/35/b22524d6b9cacfb4c5eff413a069bbc17c6ea628e54da5c6c989998ced5f/multidict-5.1.0-cp36-cp36m-manylinux2014_x86_64.whl (141kB)\n",
            "\u001b[K     |████████████████████████████████| 143kB 53.4MB/s \n",
            "\u001b[?25hCollecting yarl<2.0,>=1.0\n",
            "\u001b[?25l  Downloading https://files.pythonhosted.org/packages/da/08/52b26b44bce7b818b410aee37c5e424c9ea420c557bca97dc2adac29b151/yarl-1.6.3-cp36-cp36m-manylinux2014_x86_64.whl (293kB)\n",
            "\u001b[K     |████████████████████████████████| 296kB 51.6MB/s \n",
            "\u001b[?25hRequirement already satisfied: typing-extensions>=3.6.5 in /usr/local/lib/python3.6/dist-packages (from aiohttp>=3.3.1->aiobotocore>=1.0.1->s3fs==0.5.0->-r requirements.txt (line 3)) (3.7.4.3)\n",
            "Collecting idna-ssl>=1.0; python_version < \"3.7\"\n",
            "  Downloading https://files.pythonhosted.org/packages/46/03/07c4894aae38b0de52b52586b24bf189bb83e4ddabfe2e2c8f2419eec6f4/idna-ssl-1.1.0.tar.gz\n",
            "Requirement already satisfied: idna>=2.0 in /usr/local/lib/python3.6/dist-packages (from yarl<2.0,>=1.0->aiohttp>=3.3.1->aiobotocore>=1.0.1->s3fs==0.5.0->-r requirements.txt (line 3)) (2.10)\n",
            "Building wheels for collected packages: featuretools, aiobotocore, idna-ssl\n",
            "  Building wheel for featuretools (setup.py) ... \u001b[?25l\u001b[?25hdone\n",
            "  Created wheel for featuretools: filename=featuretools-0.4.0-cp36-none-any.whl size=167027 sha256=522da9e7d4d9146163471e619e4d630f8879f58e753f6928b4529f834bb13067\n",
            "  Stored in directory: /root/.cache/pip/wheels/a6/c8/9f/f918381b3dab362260a1a566226a2dbacd9af1d6f966950a4d\n",
            "  Building wheel for aiobotocore (setup.py) ... \u001b[?25l\u001b[?25hdone\n",
            "  Created wheel for aiobotocore: filename=aiobotocore-1.2.0-cp36-none-any.whl size=45554 sha256=e123bb934d43da4545c2f2ca26138ce461a7c002b306b357d46936a622fa9315\n",
            "  Stored in directory: /root/.cache/pip/wheels/9a/47/92/5873782cddd0c32be41eb43475d1f7e532d420cfa30a89b988\n",
            "  Building wheel for idna-ssl (setup.py) ... \u001b[?25l\u001b[?25hdone\n",
            "  Created wheel for idna-ssl: filename=idna_ssl-1.1.0-cp36-none-any.whl size=3163 sha256=3cf4b86d9b68d56321cba9dffe8bba09db4a29792732e7943dacee655fd57a0f\n",
            "  Stored in directory: /root/.cache/pip/wheels/d3/00/b3/32d613e19e08a739751dd6bf998cfed277728f8b2127ad4eb7\n",
            "Successfully built featuretools aiobotocore idna-ssl\n",
            "\u001b[31mERROR: requests 2.23.0 has requirement urllib3!=1.25.0,!=1.25.1,<1.26,>=1.21.1, but you'll have urllib3 1.26.3 which is incompatible.\u001b[0m\n",
            "\u001b[31mERROR: datascience 0.10.6 has requirement folium==0.2.1, but you'll have folium 0.8.3 which is incompatible.\u001b[0m\n",
            "Installing collected packages: pandas, jmespath, urllib3, botocore, async-timeout, multidict, yarl, idna-ssl, aiohttp, aioitertools, aiobotocore, fsspec, s3fs, featuretools\n",
            "  Found existing installation: pandas 1.1.5\n",
            "    Uninstalling pandas-1.1.5:\n",
            "      Successfully uninstalled pandas-1.1.5\n",
            "  Found existing installation: urllib3 1.24.3\n",
            "    Uninstalling urllib3-1.24.3:\n",
            "      Successfully uninstalled urllib3-1.24.3\n",
            "Successfully installed aiobotocore-1.2.0 aiohttp-3.7.3 aioitertools-0.7.1 async-timeout-3.0.1 botocore-1.19.52 featuretools-0.4.0 fsspec-0.8.5 idna-ssl-1.1.0 jmespath-0.10.0 multidict-5.1.0 pandas-1.1.1 s3fs-0.5.0 urllib3-1.26.3 yarl-1.6.3\n"
          ],
          "name": "stdout"
        },
        {
          "output_type": "display_data",
          "data": {
            "application/vnd.colab-display-data+json": {
              "pip_warning": {
                "packages": [
                  "pandas"
                ]
              }
            }
          },
          "metadata": {
            "tags": []
          }
        }
      ]
    },
    {
      "cell_type": "markdown",
      "metadata": {
        "id": "Fp8758GrG646"
      },
      "source": [
        "# Introduction: Automated Feature Engineering with Featuretools\n",
        "\n",
        "__Problem:__ we have a set of cutoff times and labels - in a label times table - and we need to build relevant features for each label using only data from before the cutoff time. Traditionally, we would do this by hand, a painstaking and error prone process that makes developing useable machine learning solutions extremely difficult. \n",
        "\n",
        "__Solution__: Use automated feature engineering as implemented in Featuretools to build hundreds or thousands of relevant features from a relational dataset with a reusable framework that also automatically filters the data based on the cutoff times. This approachs overcomes the limitations of manual feature engineering, letting us buidl better predictive models in a fraction of the time. \n",
        "\n",
        "The general process of feature engineering is shown below:\n",
        "\n",
        "![](./images/feature_engineering_process.png)\n",
        "\n",
        "Currently, the only option for automated feature engineering using multiple related tables is [Featuretools](https://github.com/Featuretools/featuretools), an open-source Python library. \n",
        "\n",
        "![](./images/featuretools-logo.png)\n",
        "\n",
        "In this notebook, we'll work with Featuretools to develop an automated feature engineering workflow for the customer churn dataset. The end outcome is a function that takes in a dataset and label times for customers and builds a feature matrix that can be used to train a machine learning model. Because we already partitioned the data into independent subsets (in `Partitioning Data`) we'll be able to apply this function to all of the partitions in parallel using Spark with PySpark.\n",
        "\n",
        "## Featuretools Resources\n",
        "\n",
        "We won't spend too much time on the basics of Featuretools here, so refer to the following sources for more information:\n",
        "\n",
        "* [Featuretools Documentation](https://docs.featuretools.com/)\n",
        "* [Featuretools GitHub](https://github.com/Featuretools/featuretools)\n",
        "* [Introductory tutorial on Featuretools](https://towardsdatascience.com/automated-feature-engineering-in-python-99baf11cc219)\n",
        "* [Why Automated Feature Engineering Will Change Machine Learning](https://towardsdatascience.com/why-automated-feature-engineering-will-change-the-way-you-do-machine-learning-5c15bf188b96)\n",
        "\n",
        "The basics are relatively easy to pick up, and if you're new, you can probably follow along with all the code here! Learning Featuretools requires only a few minutes and it can be applied to any relational dataset.\n",
        "\n",
        "\n",
        "With that in mind, let's get started."
      ]
    },
    {
      "cell_type": "code",
      "metadata": {
        "id": "7lwSH59ZG648"
      },
      "source": [
        "# Data science helpers\n",
        "import pandas as pd \n",
        "import numpy as np\n",
        "\n",
        "import featuretools as ft\n",
        "\n",
        "# Useful for showing multiple outputs\n",
        "from IPython.core.interactiveshell import InteractiveShell\n",
        "InteractiveShell.ast_node_interactivity = \"all\""
      ],
      "execution_count": 4,
      "outputs": []
    },
    {
      "cell_type": "code",
      "metadata": {
        "id": "L5IZWi9WG64-"
      },
      "source": [
        "# Read in all data\n",
        "members = pd.read_csv('members.csv', \n",
        "                      parse_dates=['registration_init_time'], \n",
        "                      infer_datetime_format = True, \n",
        "                      dtype = {'gender': 'category'})\n",
        "\n",
        "trans = pd.read_csv('transactions.csv',\n",
        "                   parse_dates=['transaction_date', 'membership_expire_date'], \n",
        "                    infer_datetime_format = True)\n",
        "\n",
        "logs = pd.read_csv('logs.csv', parse_dates = ['date'])\n",
        "\n",
        "cutoff_times = pd.read_csv('MS-31_labels.csv', parse_dates = ['cutoff_time'])"
      ],
      "execution_count": 5,
      "outputs": []
    },
    {
      "cell_type": "markdown",
      "metadata": {
        "id": "u3lh8eTfG65A"
      },
      "source": [
        "The 3 data tables are represented by the following schema. \n",
        "\n",
        "![](./images/data_schema.png)\n",
        "\n",
        "This schema is all the domain knowledge needed to perform automated feature engineering in Featuretools."
      ]
    },
    {
      "cell_type": "markdown",
      "metadata": {
        "id": "Ye9Sn81sG65A"
      },
      "source": [
        "# Define Entities and EntitySet\n",
        "\n",
        "The first step in using Featuretools is to make an `EntitySet` and add all the `entitys` - tables - to it. An EntitySet is a data structure that holds the tables and the relationships between them. This makes it easier to keep track of all the data in a problem with multiple relational tables."
      ]
    },
    {
      "cell_type": "code",
      "metadata": {
        "id": "sNPPcqyvG65B"
      },
      "source": [
        "import featuretools.variable_types as vtypes\n",
        "\n",
        "# Make empty entityset\n",
        "es = ft.EntitySet(id = 'customers')"
      ],
      "execution_count": 6,
      "outputs": []
    },
    {
      "cell_type": "markdown",
      "metadata": {
        "id": "ARjhfylnG65B"
      },
      "source": [
        "## Entities\n",
        "\n",
        "When creating entities from a dataframe, we need to make sure to include:\n",
        "\n",
        "* The `index` if there is one or a name for the created index. This is a unique identifier for each observation.\n",
        "* `make_index = True` if there is no index, we need to supply a name under `index` and set this to `True`.\n",
        "* A `time_index` if present. This is the time at which the information in the row becomes known. Featuretools will use the `time_index` and the `cutoff_time` to make valid features for each label.\n",
        "* `variable_types`. In some cases our data will have variables for which we should specify the type. An example would be a boolean that is represented as a float. This prevents Featuretools from making features such as the `min` or `max` of a True/False varaibles.\n",
        "\n",
        "For this problem these are the only arguments we'll need. There are additional arguments that can be used as shown in [the documentation](https://docs.featuretools.com/api_reference.html#entityset-entity-relationship-variable-types). \n",
        "\n",
        "### Members Table\n",
        "\n",
        "The `members` table holds basic information about each customer. The important point for this table is to specify that the `city` and `registered_via` columns are discrete, categorical variables and not numerical and that `registration_init_time` is the `time_index`. The `msno` is the unique index identifying each customer. "
      ]
    },
    {
      "cell_type": "code",
      "metadata": {
        "colab": {
          "base_uri": "https://localhost:8080/",
          "height": 206
        },
        "id": "1BKEUv_XG65C",
        "outputId": "a72f1eb5-9b7a-4de7-fe6a-6c618e132054"
      },
      "source": [
        "members.head()"
      ],
      "execution_count": 7,
      "outputs": [
        {
          "output_type": "execute_result",
          "data": {
            "text/html": [
              "<div>\n",
              "<style scoped>\n",
              "    .dataframe tbody tr th:only-of-type {\n",
              "        vertical-align: middle;\n",
              "    }\n",
              "\n",
              "    .dataframe tbody tr th {\n",
              "        vertical-align: top;\n",
              "    }\n",
              "\n",
              "    .dataframe thead th {\n",
              "        text-align: right;\n",
              "    }\n",
              "</style>\n",
              "<table border=\"1\" class=\"dataframe\">\n",
              "  <thead>\n",
              "    <tr style=\"text-align: right;\">\n",
              "      <th></th>\n",
              "      <th>msno</th>\n",
              "      <th>city</th>\n",
              "      <th>bd</th>\n",
              "      <th>gender</th>\n",
              "      <th>registered_via</th>\n",
              "      <th>registration_init_time</th>\n",
              "    </tr>\n",
              "  </thead>\n",
              "  <tbody>\n",
              "    <tr>\n",
              "      <th>0</th>\n",
              "      <td>8hW4+CV3D1oNM0CIsA39YljsF8M3m7g1LAX6AQd3C8I=</td>\n",
              "      <td>4</td>\n",
              "      <td>24</td>\n",
              "      <td>male</td>\n",
              "      <td>3</td>\n",
              "      <td>2014-11-04</td>\n",
              "    </tr>\n",
              "    <tr>\n",
              "      <th>1</th>\n",
              "      <td>yhcODfebyTYezE6KAPklcV1us9zdOYJ+7eHS7f/xgoU=</td>\n",
              "      <td>8</td>\n",
              "      <td>37</td>\n",
              "      <td>male</td>\n",
              "      <td>9</td>\n",
              "      <td>2007-02-11</td>\n",
              "    </tr>\n",
              "    <tr>\n",
              "      <th>2</th>\n",
              "      <td>sBlgSL0AIq49XsmBQ2KceKZNUyIxT1BwSkN/xYQLGMc=</td>\n",
              "      <td>15</td>\n",
              "      <td>21</td>\n",
              "      <td>male</td>\n",
              "      <td>3</td>\n",
              "      <td>2013-02-08</td>\n",
              "    </tr>\n",
              "    <tr>\n",
              "      <th>3</th>\n",
              "      <td>Xy3Au8sZKlEeHBQ+C7ro8Ni3X/dxgrtmx0Tt+jqM1zY=</td>\n",
              "      <td>1</td>\n",
              "      <td>0</td>\n",
              "      <td>NaN</td>\n",
              "      <td>9</td>\n",
              "      <td>2015-02-01</td>\n",
              "    </tr>\n",
              "    <tr>\n",
              "      <th>4</th>\n",
              "      <td>NiCu2GVWgT5QZbI85oYRBEDqHUZbzz2azS48jvM+khg=</td>\n",
              "      <td>12</td>\n",
              "      <td>21</td>\n",
              "      <td>male</td>\n",
              "      <td>3</td>\n",
              "      <td>2015-02-12</td>\n",
              "    </tr>\n",
              "  </tbody>\n",
              "</table>\n",
              "</div>"
            ],
            "text/plain": [
              "                                           msno  ...  registration_init_time\n",
              "0  8hW4+CV3D1oNM0CIsA39YljsF8M3m7g1LAX6AQd3C8I=  ...              2014-11-04\n",
              "1  yhcODfebyTYezE6KAPklcV1us9zdOYJ+7eHS7f/xgoU=  ...              2007-02-11\n",
              "2  sBlgSL0AIq49XsmBQ2KceKZNUyIxT1BwSkN/xYQLGMc=  ...              2013-02-08\n",
              "3  Xy3Au8sZKlEeHBQ+C7ro8Ni3X/dxgrtmx0Tt+jqM1zY=  ...              2015-02-01\n",
              "4  NiCu2GVWgT5QZbI85oYRBEDqHUZbzz2azS48jvM+khg=  ...              2015-02-12\n",
              "\n",
              "[5 rows x 6 columns]"
            ]
          },
          "metadata": {
            "tags": []
          },
          "execution_count": 7
        }
      ]
    },
    {
      "cell_type": "code",
      "metadata": {
        "colab": {
          "base_uri": "https://localhost:8080/"
        },
        "id": "zMHaCEwOG65D",
        "outputId": "bc312c79-35a6-489d-c130-ba422de8d9d2"
      },
      "source": [
        "members['msno'].is_unique"
      ],
      "execution_count": 8,
      "outputs": [
        {
          "output_type": "execute_result",
          "data": {
            "text/plain": [
              "True"
            ]
          },
          "metadata": {
            "tags": []
          },
          "execution_count": 8
        }
      ]
    },
    {
      "cell_type": "code",
      "metadata": {
        "colab": {
          "base_uri": "https://localhost:8080/"
        },
        "id": "ZMzGHXD8G65F",
        "outputId": "949bfb7e-ae05-4ee6-abd7-155b4c3693b5"
      },
      "source": [
        "# Create entity from members\n",
        "es.entity_from_dataframe(entity_id='members', dataframe=members,\n",
        "                         index = 'msno', time_index = 'registration_init_time', \n",
        "                         variable_types = {'city': vtypes.Categorical, \n",
        "                                           'registered_via': vtypes.Categorical})"
      ],
      "execution_count": 9,
      "outputs": [
        {
          "output_type": "execute_result",
          "data": {
            "text/plain": [
              "Entityset: customers\n",
              "  Entities:\n",
              "    members [Rows: 6658, Columns: 6]\n",
              "  Relationships:\n",
              "    No relationships"
            ]
          },
          "metadata": {
            "tags": []
          },
          "execution_count": 9
        }
      ]
    },
    {
      "cell_type": "markdown",
      "metadata": {
        "id": "qusI53VlG65F"
      },
      "source": [
        "### Transactions Table\n",
        "\n",
        "The transactions table contains payments made by the customers. Each row records one payment. "
      ]
    },
    {
      "cell_type": "code",
      "metadata": {
        "colab": {
          "base_uri": "https://localhost:8080/",
          "height": 226
        },
        "id": "ODR95lCtG65F",
        "outputId": "ca2e2d7c-9d88-4d7c-c451-0be63d7be5a5"
      },
      "source": [
        "trans.head()"
      ],
      "execution_count": 10,
      "outputs": [
        {
          "output_type": "execute_result",
          "data": {
            "text/html": [
              "<div>\n",
              "<style scoped>\n",
              "    .dataframe tbody tr th:only-of-type {\n",
              "        vertical-align: middle;\n",
              "    }\n",
              "\n",
              "    .dataframe tbody tr th {\n",
              "        vertical-align: top;\n",
              "    }\n",
              "\n",
              "    .dataframe thead th {\n",
              "        text-align: right;\n",
              "    }\n",
              "</style>\n",
              "<table border=\"1\" class=\"dataframe\">\n",
              "  <thead>\n",
              "    <tr style=\"text-align: right;\">\n",
              "      <th></th>\n",
              "      <th>msno</th>\n",
              "      <th>payment_method_id</th>\n",
              "      <th>payment_plan_days</th>\n",
              "      <th>plan_list_price</th>\n",
              "      <th>actual_amount_paid</th>\n",
              "      <th>is_auto_renew</th>\n",
              "      <th>transaction_date</th>\n",
              "      <th>membership_expire_date</th>\n",
              "      <th>is_cancel</th>\n",
              "    </tr>\n",
              "  </thead>\n",
              "  <tbody>\n",
              "    <tr>\n",
              "      <th>0</th>\n",
              "      <td>5F7G3pHKf5ijGQpoKuko0G7Jm3Bde6ktfPKBZySWoDI=</td>\n",
              "      <td>41</td>\n",
              "      <td>30</td>\n",
              "      <td>99</td>\n",
              "      <td>99</td>\n",
              "      <td>1</td>\n",
              "      <td>2017-02-10</td>\n",
              "      <td>2017-03-10</td>\n",
              "      <td>0</td>\n",
              "    </tr>\n",
              "    <tr>\n",
              "      <th>1</th>\n",
              "      <td>DQMPoCSc6EB39ytgnKCRsUIZnR6ZWSrHeDmX7nbxAKs=</td>\n",
              "      <td>41</td>\n",
              "      <td>30</td>\n",
              "      <td>149</td>\n",
              "      <td>149</td>\n",
              "      <td>1</td>\n",
              "      <td>2016-02-01</td>\n",
              "      <td>2016-03-02</td>\n",
              "      <td>0</td>\n",
              "    </tr>\n",
              "    <tr>\n",
              "      <th>2</th>\n",
              "      <td>Lrais3nsgqYwpfpSoyK3fHuPutf6cloTI5T5dQfs4lA=</td>\n",
              "      <td>38</td>\n",
              "      <td>30</td>\n",
              "      <td>149</td>\n",
              "      <td>149</td>\n",
              "      <td>0</td>\n",
              "      <td>2016-02-23</td>\n",
              "      <td>2016-04-23</td>\n",
              "      <td>0</td>\n",
              "    </tr>\n",
              "    <tr>\n",
              "      <th>3</th>\n",
              "      <td>ZPOjgxQw1/J7v5xgBJTCLXWuwq5Xmk33nO6AoUO1+mY=</td>\n",
              "      <td>41</td>\n",
              "      <td>30</td>\n",
              "      <td>149</td>\n",
              "      <td>119</td>\n",
              "      <td>1</td>\n",
              "      <td>2015-09-06</td>\n",
              "      <td>2016-08-01</td>\n",
              "      <td>0</td>\n",
              "    </tr>\n",
              "    <tr>\n",
              "      <th>4</th>\n",
              "      <td>MvR23u4bIiWM+U+VE1Mvw3qqdj/0Ixs1sf7avavjhRs=</td>\n",
              "      <td>38</td>\n",
              "      <td>30</td>\n",
              "      <td>149</td>\n",
              "      <td>149</td>\n",
              "      <td>0</td>\n",
              "      <td>2016-10-28</td>\n",
              "      <td>2016-11-27</td>\n",
              "      <td>0</td>\n",
              "    </tr>\n",
              "  </tbody>\n",
              "</table>\n",
              "</div>"
            ],
            "text/plain": [
              "                                           msno  ...  is_cancel\n",
              "0  5F7G3pHKf5ijGQpoKuko0G7Jm3Bde6ktfPKBZySWoDI=  ...          0\n",
              "1  DQMPoCSc6EB39ytgnKCRsUIZnR6ZWSrHeDmX7nbxAKs=  ...          0\n",
              "2  Lrais3nsgqYwpfpSoyK3fHuPutf6cloTI5T5dQfs4lA=  ...          0\n",
              "3  ZPOjgxQw1/J7v5xgBJTCLXWuwq5Xmk33nO6AoUO1+mY=  ...          0\n",
              "4  MvR23u4bIiWM+U+VE1Mvw3qqdj/0Ixs1sf7avavjhRs=  ...          0\n",
              "\n",
              "[5 rows x 9 columns]"
            ]
          },
          "metadata": {
            "tags": []
          },
          "execution_count": 10
        }
      ]
    },
    {
      "cell_type": "code",
      "metadata": {
        "colab": {
          "base_uri": "https://localhost:8080/",
          "height": 419
        },
        "id": "l15-JcYpG65G",
        "outputId": "642bc303-cbc6-48c7-f76e-ded817d03c49"
      },
      "source": [
        "import matplotlib.pyplot as plt\n",
        "%matplotlib inline\n",
        "plt.style.use('fivethirtyeight')\n",
        "plt.rcParams['figure.figsize'] = (10, 6)\n",
        "\n",
        "trans.loc[trans['actual_amount_paid'] < 250, 'actual_amount_paid'].dropna().plot.hist(bins = 30);\n",
        "plt.title('Distribution of Actual Amount Paid');"
      ],
      "execution_count": 11,
      "outputs": [
        {
          "output_type": "display_data",
          "data": {
            "image/png": "[encoded data removed]",
            "text/plain": [
              "<Figure size 720x432 with 1 Axes>"
            ]
          },
          "metadata": {
            "tags": []
          }
        }
      ]
    },
    {
      "cell_type": "markdown",
      "metadata": {
        "id": "ZRNdqqhNG65G"
      },
      "source": [
        "#### Domain Knowledge Features\n",
        "\n",
        "Before creating the entity from this dataframe, we can create a few new variables based on domain knowledge. Just because we are automatically going to make hundreds of features doesn't mean we can't use our own expertise. Featuretools will build on top of our knowledge by stacking more primitives on top of any variables that we define."
      ]
    },
    {
      "cell_type": "code",
      "metadata": {
        "colab": {
          "base_uri": "https://localhost:8080/",
          "height": 0
        },
        "id": "vBNmPUzrG65H",
        "outputId": "bf726cd2-ae02-49a9-ccb7-d38403d52865"
      },
      "source": [
        "# Difference between listing price and price paid\n",
        "trans['price_difference'] = trans['plan_list_price'] - trans['actual_amount_paid']\n",
        "\n",
        "# Planned price per day\n",
        "trans['planned_daily_price'] = trans['plan_list_price'] / trans['payment_plan_days']\n",
        "\n",
        "# Actual price per day\n",
        "trans['daily_price'] = trans['actual_amount_paid'] / trans['payment_plan_days']\n",
        "\n",
        "trans.loc[trans['price_difference'] > 0, 'price_difference'].plot.hist(bins = 30, \n",
        "                                                                       figsize = (8, 6));\n",
        "plt.title('Dfiference between List Price and Price Paid');"
      ],
      "execution_count": 12,
      "outputs": [
        {
          "output_type": "display_data",
          "data": {
            "image/png": "[encoded data removed]",
            "text/plain": [
              "<Figure size 576x432 with 1 Axes>"
            ]
          },
          "metadata": {
            "tags": []
          }
        }
      ]
    },
    {
      "cell_type": "markdown",
      "metadata": {
        "id": "p-f5Pnl7G65I"
      },
      "source": [
        "There is no `index` in this dataframe so we have to specify to make an index and pass in a name. There is a `time_index`, the time of the transaction, which will be critical when filtering data based on cutoff times to make features. Again, we also need to specify several variable types.\n",
        "\n",
        "There is one slight anomaly with the transactions where some membership expire dates are after the transactions date, so we will filter those out."
      ]
    },
    {
      "cell_type": "code",
      "metadata": {
        "id": "KcFOAbSfG65J"
      },
      "source": [
        "# Filter anomalies\n",
        "trans = trans[trans['membership_expire_date'] > trans['transaction_date']]"
      ],
      "execution_count": 13,
      "outputs": []
    },
    {
      "cell_type": "code",
      "metadata": {
        "colab": {
          "base_uri": "https://localhost:8080/"
        },
        "id": "-ea3e9lMG65K",
        "outputId": "bc776419-d76b-43d3-c541-e7f99405be1b"
      },
      "source": [
        "# Create entity from transactions\n",
        "es.entity_from_dataframe(entity_id='transactions', dataframe=trans,\n",
        "                         index = 'transactions_index', make_index = True,\n",
        "                         time_index = 'transaction_date', \n",
        "                         variable_types = {'payment_method_id': vtypes.Categorical, \n",
        "                                           'is_auto_renew': vtypes.Boolean, 'is_cancel': vtypes.Boolean})"
      ],
      "execution_count": 14,
      "outputs": [
        {
          "output_type": "execute_result",
          "data": {
            "text/plain": [
              "Entityset: customers\n",
              "  Entities:\n",
              "    members [Rows: 6658, Columns: 6]\n",
              "    transactions [Rows: 22329, Columns: 13]\n",
              "  Relationships:\n",
              "    No relationships"
            ]
          },
          "metadata": {
            "tags": []
          },
          "execution_count": 14
        }
      ]
    },
    {
      "cell_type": "markdown",
      "metadata": {
        "id": "-TDoBPQWG65K"
      },
      "source": [
        "### Logs\n",
        "\n",
        "The `logs` contain user listening behavior. As before we'll make a few domain knowledge columns before adding to the `EntitySet`. "
      ]
    },
    {
      "cell_type": "code",
      "metadata": {
        "colab": {
          "base_uri": "https://localhost:8080/",
          "height": 0
        },
        "id": "w8FOVH0kG65K",
        "outputId": "eab9de2e-10ef-4e35-bb7c-2082a9b2d69c"
      },
      "source": [
        "logs.head()"
      ],
      "execution_count": 15,
      "outputs": [
        {
          "output_type": "execute_result",
          "data": {
            "text/html": [
              "<div>\n",
              "<style scoped>\n",
              "    .dataframe tbody tr th:only-of-type {\n",
              "        vertical-align: middle;\n",
              "    }\n",
              "\n",
              "    .dataframe tbody tr th {\n",
              "        vertical-align: top;\n",
              "    }\n",
              "\n",
              "    .dataframe thead th {\n",
              "        text-align: right;\n",
              "    }\n",
              "</style>\n",
              "<table border=\"1\" class=\"dataframe\">\n",
              "  <thead>\n",
              "    <tr style=\"text-align: right;\">\n",
              "      <th></th>\n",
              "      <th>msno</th>\n",
              "      <th>date</th>\n",
              "      <th>num_25</th>\n",
              "      <th>num_50</th>\n",
              "      <th>num_75</th>\n",
              "      <th>num_985</th>\n",
              "      <th>num_100</th>\n",
              "      <th>num_unq</th>\n",
              "      <th>total_secs</th>\n",
              "    </tr>\n",
              "  </thead>\n",
              "  <tbody>\n",
              "    <tr>\n",
              "      <th>0</th>\n",
              "      <td>6+/V1NwBbqjBOCvRSDueeJZ58F4DY7h7fG6fSZtHaAE=</td>\n",
              "      <td>2017-03-04</td>\n",
              "      <td>29</td>\n",
              "      <td>28</td>\n",
              "      <td>18</td>\n",
              "      <td>11</td>\n",
              "      <td>111</td>\n",
              "      <td>79</td>\n",
              "      <td>34727.142</td>\n",
              "    </tr>\n",
              "    <tr>\n",
              "      <th>1</th>\n",
              "      <td>E2aBGFTKR6jzp+1knh7JOOF39gLuu+CoZMWaAL/DA0M=</td>\n",
              "      <td>2017-03-27</td>\n",
              "      <td>1</td>\n",
              "      <td>0</td>\n",
              "      <td>2</td>\n",
              "      <td>0</td>\n",
              "      <td>184</td>\n",
              "      <td>173</td>\n",
              "      <td>33408.719</td>\n",
              "    </tr>\n",
              "    <tr>\n",
              "      <th>2</th>\n",
              "      <td>g7exJzakJlHXwzUydnShY5w24WXSwJyS6QqgoFeyr7g=</td>\n",
              "      <td>2017-03-15</td>\n",
              "      <td>0</td>\n",
              "      <td>0</td>\n",
              "      <td>0</td>\n",
              "      <td>0</td>\n",
              "      <td>21</td>\n",
              "      <td>21</td>\n",
              "      <td>4951.000</td>\n",
              "    </tr>\n",
              "    <tr>\n",
              "      <th>3</th>\n",
              "      <td>X+i9OmM3P42cETt5gPkOnz8vXGViQL5/M/NMiMQ+Olc=</td>\n",
              "      <td>2017-03-13</td>\n",
              "      <td>3</td>\n",
              "      <td>1</td>\n",
              "      <td>0</td>\n",
              "      <td>0</td>\n",
              "      <td>33</td>\n",
              "      <td>27</td>\n",
              "      <td>8755.599</td>\n",
              "    </tr>\n",
              "    <tr>\n",
              "      <th>4</th>\n",
              "      <td>tbl8blAVl6j4A8zW1Gnyg78Hc0LAQzzcYesmzgJ7ofs=</td>\n",
              "      <td>2017-03-27</td>\n",
              "      <td>6</td>\n",
              "      <td>5</td>\n",
              "      <td>0</td>\n",
              "      <td>0</td>\n",
              "      <td>2</td>\n",
              "      <td>6</td>\n",
              "      <td>1035.853</td>\n",
              "    </tr>\n",
              "  </tbody>\n",
              "</table>\n",
              "</div>"
            ],
            "text/plain": [
              "                                           msno       date  ...  num_unq  total_secs\n",
              "0  6+/V1NwBbqjBOCvRSDueeJZ58F4DY7h7fG6fSZtHaAE= 2017-03-04  ...       79   34727.142\n",
              "1  E2aBGFTKR6jzp+1knh7JOOF39gLuu+CoZMWaAL/DA0M= 2017-03-27  ...      173   33408.719\n",
              "2  g7exJzakJlHXwzUydnShY5w24WXSwJyS6QqgoFeyr7g= 2017-03-15  ...       21    4951.000\n",
              "3  X+i9OmM3P42cETt5gPkOnz8vXGViQL5/M/NMiMQ+Olc= 2017-03-13  ...       27    8755.599\n",
              "4  tbl8blAVl6j4A8zW1Gnyg78Hc0LAQzzcYesmzgJ7ofs= 2017-03-27  ...        6    1035.853\n",
              "\n",
              "[5 rows x 9 columns]"
            ]
          },
          "metadata": {
            "tags": []
          },
          "execution_count": 15
        }
      ]
    },
    {
      "cell_type": "code",
      "metadata": {
        "colab": {
          "base_uri": "https://localhost:8080/",
          "height": 0
        },
        "id": "etPe4QThG65K",
        "outputId": "bfb3e944-2bd7-47a4-f103-5ecbb36e4537"
      },
      "source": [
        "# Make a few features by hand\n",
        "logs['total'] = logs[['num_25', 'num_50', 'num_75', 'num_985', 'num_100']].sum(axis = 1)\n",
        "logs['percent_100'] = logs['num_100'] / logs['total']\n",
        "logs['percent_unique'] = logs['num_unq'] / logs['total']\n",
        "logs['seconds_per_song'] = logs['total_secs'] / logs['total'] \n",
        "\n",
        "import seaborn as sns\n",
        "\n",
        "sns.kdeplot(logs['total']);\n",
        "plt.title('Distribution of Total Number of Songs');"
      ],
      "execution_count": 16,
      "outputs": [
        {
          "output_type": "display_data",
          "data": {
            "image/png": "[encoded data removed]",
            "text/plain": [
              "<Figure size 720x432 with 1 Axes>"
            ]
          },
          "metadata": {
            "tags": []
          }
        }
      ]
    },
    {
      "cell_type": "code",
      "metadata": {
        "colab": {
          "base_uri": "https://localhost:8080/",
          "height": 0
        },
        "id": "BTYMaQfGG65L",
        "outputId": "14f25183-b630-4077-f8bc-6575db162b9d"
      },
      "source": [
        "sns.kdeplot(logs['percent_100']);\n",
        "plt.title('Distribution of Percentage of Songs Listened to Completion');"
      ],
      "execution_count": 17,
      "outputs": [
        {
          "output_type": "display_data",
          "data": {
            "image/png": "[encoded data removed]",
            "text/plain": [
              "<Figure size 720x432 with 1 Axes>"
            ]
          },
          "metadata": {
            "tags": []
          }
        }
      ]
    },
    {
      "cell_type": "markdown",
      "metadata": {
        "id": "lwI9hHuhG65L"
      },
      "source": [
        "There is `time_index` in the logs although no `index` present."
      ]
    },
    {
      "cell_type": "code",
      "metadata": {
        "colab": {
          "base_uri": "https://localhost:8080/"
        },
        "id": "ZgCpsFIkG65M",
        "outputId": "c6f283dc-56a9-4aac-b6d8-51e528d3ed01"
      },
      "source": [
        "es.entity_from_dataframe(entity_id='logs', dataframe=logs,\n",
        "                         index = 'logs_index', make_index = True,\n",
        "                         time_index = 'date')"
      ],
      "execution_count": 18,
      "outputs": [
        {
          "output_type": "execute_result",
          "data": {
            "text/plain": [
              "Entityset: customers\n",
              "  Entities:\n",
              "    members [Rows: 6658, Columns: 6]\n",
              "    transactions [Rows: 22329, Columns: 13]\n",
              "    logs [Rows: 424252, Columns: 14]\n",
              "  Relationships:\n",
              "    No relationships"
            ]
          },
          "metadata": {
            "tags": []
          },
          "execution_count": 18
        }
      ]
    },
    {
      "cell_type": "markdown",
      "metadata": {
        "id": "qbmGWgBOG65N"
      },
      "source": [
        "Making features by hand may seem counterintuitive if we are using automated feature engineering, but the benefits of doing this before using Featuretools is that these features can be stacked on top of to build deep features. Automated feature engineering will therefore take our existing hand-built features and extract more value from them by combining them with other features.\n",
        "\n",
        "Another method to improve the power of deep feature synthesis is through interesting values, which specify conditional statements used to build features."
      ]
    },
    {
      "cell_type": "markdown",
      "metadata": {
        "id": "2a5vUELzG65N"
      },
      "source": [
        "### Interesting Values\n",
        "\n",
        "In order to create conditional features, we can set interesting values for existing columns in the data. The following code will be used to build features conditional on the value of `is_cancel` and `is_auto_renew` in the transactions data. The primitives used for the conditional features are specified as `where_primitives` in the call to Deep Feature Synthesis. For example, if we used a `mean` primitive along with the following interesting values, we will get a mean of transactions where the transaction was cancelled, as well as the mean of transactions where the transaction was not cancelled. "
      ]
    },
    {
      "cell_type": "code",
      "metadata": {
        "id": "DD83FzCvG65N"
      },
      "source": [
        "es['transactions']['is_cancel'].interesting_values = [0, 1]\n",
        "es['transactions']['is_auto_renew'].interesting_values = [0, 1]"
      ],
      "execution_count": 19,
      "outputs": []
    },
    {
      "cell_type": "markdown",
      "metadata": {
        "id": "1YXB38AaG65N"
      },
      "source": [
        "# Relationships\n",
        "\n",
        "Table relationships should be familiar to anyone who has worked with relational databases and the idea is the same in Featuretools. We use relationships to specify how examples in one table relate to examples in other tables. The entityset structure for this problem is fairly simple as there are only three entities with two relationships.  `members` is the parent of `logs` and `transactions`. In both relationships, the parent and child variable is `msno`, the customer id.\n",
        "\n",
        "The two relationships are: one linking `members` to `transactions` and one linking `members` to `logs`. The order for relationships in featuretools is parent variable, child variable."
      ]
    },
    {
      "cell_type": "code",
      "metadata": {
        "colab": {
          "base_uri": "https://localhost:8080/"
        },
        "id": "u_iRIyP3G65N",
        "outputId": "827751d7-a34c-45bd-a2cb-4654779e2564"
      },
      "source": [
        "# Relationships (parent, child)\n",
        "r_member_transactions = ft.Relationship(es['members']['msno'], es['transactions']['msno'])\n",
        "r_member_logs = ft.Relationship(es['members']['msno'], es['logs']['msno'])\n",
        "\n",
        "es.add_relationships([r_member_transactions, r_member_logs])"
      ],
      "execution_count": 20,
      "outputs": [
        {
          "output_type": "execute_result",
          "data": {
            "text/plain": [
              "Entityset: customers\n",
              "  Entities:\n",
              "    members [Rows: 6658, Columns: 6]\n",
              "    transactions [Rows: 22329, Columns: 13]\n",
              "    logs [Rows: 424252, Columns: 14]\n",
              "  Relationships:\n",
              "    transactions.msno -> members.msno\n",
              "    logs.msno -> members.msno"
            ]
          },
          "metadata": {
            "tags": []
          },
          "execution_count": 20
        }
      ]
    },
    {
      "cell_type": "markdown",
      "metadata": {
        "id": "qKfTszuvG65N"
      },
      "source": [
        "### Cutoff Times\n",
        "\n",
        "`cutoff_times` are a critical piece of any time based machine learning problem. The label times dataframe has columns of member id, cutoff time, and label. __For each cutoff time, only data from before the cutoff time can be used to build features for that label.__ This is one of the greatest advantages of Featuretools compared to manual feature engineering: __Featuretools automatically filters our data based on the cutoff times to ensure that all the features are valid for machine learning.__ Normally, we would have to take extreme care to make sure all of our features are valid, but Featreutools is able to implement the filtering logic behind the scenes for us.\n",
        "\n",
        "All we have to do is make sure to pass in the correct label times for the prediction problem we want to solve."
      ]
    },
    {
      "cell_type": "code",
      "metadata": {
        "colab": {
          "base_uri": "https://localhost:8080/",
          "height": 0
        },
        "id": "g-Sp4hnSG65O",
        "outputId": "b305dd17-e67d-476e-eeb6-85ef6c684c5d"
      },
      "source": [
        "cutoff_times = cutoff_times.drop_duplicates(subset = ['msno', 'cutoff_time'])\n",
        "#cutoff_times = cutoff_times.rename(columns = {'cutoff_time':'time'})\n",
        "cutoff_times.head()"
      ],
      "execution_count": 21,
      "outputs": [
        {
          "output_type": "execute_result",
          "data": {
            "text/html": [
              "<div>\n",
              "<style scoped>\n",
              "    .dataframe tbody tr th:only-of-type {\n",
              "        vertical-align: middle;\n",
              "    }\n",
              "\n",
              "    .dataframe tbody tr th {\n",
              "        vertical-align: top;\n",
              "    }\n",
              "\n",
              "    .dataframe thead th {\n",
              "        text-align: right;\n",
              "    }\n",
              "</style>\n",
              "<table border=\"1\" class=\"dataframe\">\n",
              "  <thead>\n",
              "    <tr style=\"text-align: right;\">\n",
              "      <th></th>\n",
              "      <th>msno</th>\n",
              "      <th>cutoff_time</th>\n",
              "      <th>label</th>\n",
              "      <th>days_to_churn</th>\n",
              "      <th>churn_date</th>\n",
              "    </tr>\n",
              "  </thead>\n",
              "  <tbody>\n",
              "    <tr>\n",
              "      <th>0</th>\n",
              "      <td>++bK0FRJecXCogqXdjtO2Kyb3jq7uLM7qThTk+nN8tE=</td>\n",
              "      <td>2015-08-01</td>\n",
              "      <td>0.0</td>\n",
              "      <td>NaN</td>\n",
              "      <td>NaN</td>\n",
              "    </tr>\n",
              "    <tr>\n",
              "      <th>1</th>\n",
              "      <td>++bK0FRJecXCogqXdjtO2Kyb3jq7uLM7qThTk+nN8tE=</td>\n",
              "      <td>2015-09-01</td>\n",
              "      <td>0.0</td>\n",
              "      <td>NaN</td>\n",
              "      <td>NaN</td>\n",
              "    </tr>\n",
              "    <tr>\n",
              "      <th>2</th>\n",
              "      <td>++bK0FRJecXCogqXdjtO2Kyb3jq7uLM7qThTk+nN8tE=</td>\n",
              "      <td>2015-10-01</td>\n",
              "      <td>0.0</td>\n",
              "      <td>NaN</td>\n",
              "      <td>NaN</td>\n",
              "    </tr>\n",
              "    <tr>\n",
              "      <th>3</th>\n",
              "      <td>++bK0FRJecXCogqXdjtO2Kyb3jq7uLM7qThTk+nN8tE=</td>\n",
              "      <td>2015-11-01</td>\n",
              "      <td>0.0</td>\n",
              "      <td>NaN</td>\n",
              "      <td>NaN</td>\n",
              "    </tr>\n",
              "    <tr>\n",
              "      <th>4</th>\n",
              "      <td>++bK0FRJecXCogqXdjtO2Kyb3jq7uLM7qThTk+nN8tE=</td>\n",
              "      <td>2015-12-01</td>\n",
              "      <td>0.0</td>\n",
              "      <td>NaN</td>\n",
              "      <td>NaN</td>\n",
              "    </tr>\n",
              "  </tbody>\n",
              "</table>\n",
              "</div>"
            ],
            "text/plain": [
              "                                           msno  ... churn_date\n",
              "0  ++bK0FRJecXCogqXdjtO2Kyb3jq7uLM7qThTk+nN8tE=  ...        NaN\n",
              "1  ++bK0FRJecXCogqXdjtO2Kyb3jq7uLM7qThTk+nN8tE=  ...        NaN\n",
              "2  ++bK0FRJecXCogqXdjtO2Kyb3jq7uLM7qThTk+nN8tE=  ...        NaN\n",
              "3  ++bK0FRJecXCogqXdjtO2Kyb3jq7uLM7qThTk+nN8tE=  ...        NaN\n",
              "4  ++bK0FRJecXCogqXdjtO2Kyb3jq7uLM7qThTk+nN8tE=  ...        NaN\n",
              "\n",
              "[5 rows x 5 columns]"
            ]
          },
          "metadata": {
            "tags": []
          },
          "execution_count": 21
        }
      ]
    },
    {
      "cell_type": "markdown",
      "metadata": {
        "id": "q-ks1rfzG65P"
      },
      "source": [
        "# Deep Feature Synthesis\n",
        "\n",
        "With the entities and relationships fully defined, we are ready to run [Deep Feature Synthesis (DFS)](https://www.featurelabs.com/blog/deep-feature-synthesis/). This process applies feature engineering building blocks called [feature primitives](https://docs.featuretools.com/automated_feature_engineering/primitives.html) to a dataset to build hundreds of features. Feature primitives are basic operations of two types - transforms and aggregations - that stack to build deep features (for more information see the previous linked resources). These includes many operations that we would traditionally carry out by hand, but automated feature engineering saves us from having to implement these features one at a time. \n",
        "\n",
        "The call to `ft.dfs` needs the entityset which holds all the tables and relationships between them, the `target_entity` to make features for, the specific primitives, the maximum stacking of primitives (`max_depth`), the `cutoff_times`, and a number of optional parameters.\n",
        "\n",
        "To start, we'll use the default aggregation and transformation primitives as well as two `where_primitives` and see how many features this generates. To only generate the definitions of the features, we pass in `features_only = True`.\n",
        "\n",
        "For full details on Deep Feature Synthesis, take a look at [the documentation](https://docs.featuretools.com/api_reference.html#deep-feature-synthesis). "
      ]
    },
    {
      "cell_type": "code",
      "metadata": {
        "id": "VitwF1CUG65P"
      },
      "source": [
        "feature_defs = ft.dfs(entityset=es, target_entity='members', \n",
        "                      cutoff_time = cutoff_times,\n",
        "                      where_primitives = ['sum', 'mean'],\n",
        "                      max_depth=2, features_only=True)"
      ],
      "execution_count": 22,
      "outputs": []
    },
    {
      "cell_type": "code",
      "metadata": {
        "colab": {
          "base_uri": "https://localhost:8080/"
        },
        "id": "kXAQLFaWG65P",
        "outputId": "d99772cc-e86f-426d-fdce-966822be2145"
      },
      "source": [
        "print(f'This will generate {len(feature_defs)} features.')"
      ],
      "execution_count": 23,
      "outputs": [
        {
          "output_type": "stream",
          "text": [
            "This will generate 188 features.\n"
          ],
          "name": "stdout"
        }
      ]
    },
    {
      "cell_type": "code",
      "metadata": {
        "colab": {
          "base_uri": "https://localhost:8080/"
        },
        "id": "pkdjM5LhG65P",
        "outputId": "0874973f-a208-4996-cc9c-0616617537ed"
      },
      "source": [
        "import random; random.seed(42)\n",
        "\n",
        "random.sample(feature_defs, 10)"
      ],
      "execution_count": 24,
      "outputs": [
        {
          "output_type": "execute_result",
          "data": {
            "text/plain": [
              "[<Feature: MEAN(transactions.price_difference WHERE is_auto_renew = 1)>,\n",
              " <Feature: MAX(logs.num_75)>,\n",
              " <Feature: SUM(logs.num_75)>,\n",
              " <Feature: COUNT(logs)>,\n",
              " <Feature: MEAN(logs.num_985)>,\n",
              " <Feature: MIN(logs.percent_unique)>,\n",
              " <Feature: MAX(logs.percent_unique)>,\n",
              " <Feature: MAX(logs.num_25)>,\n",
              " <Feature: NUM_UNIQUE(transactions.DAY(membership_expire_date))>,\n",
              " <Feature: SUM(transactions.price_difference WHERE is_auto_renew = 1)>]"
            ]
          },
          "metadata": {
            "tags": []
          },
          "execution_count": 24
        }
      ]
    },
    {
      "cell_type": "markdown",
      "metadata": {
        "id": "uKxlBTNQG65P"
      },
      "source": [
        "We can see that Featuretools has built almost 200 features automatically for us using the table relationships and feature primitives. If built by hand, each of these features would require minutes of work, totaling many hours to build 188 features. Moreover, although the features are not necessarily intuitive, they are easy to explain in natural language because they are simple operations stacked on top of each other."
      ]
    },
    {
      "cell_type": "markdown",
      "metadata": {
        "id": "8LeXUrBbG65P"
      },
      "source": [
        "## Specify Primitives \n",
        "\n",
        "Now we'll do a call to `ft.dfs` specifying the primitives to use. Often, these will depend on the problem and can involve domain knowledge. The best way to choose primitives is by trying out a variety and seeing which perform the best. Like many operations in machine learning, choosing primitives is still largely an empirical, rather than theoretical, practice."
      ]
    },
    {
      "cell_type": "markdown",
      "metadata": {
        "id": "Ae9mqmXfG65Q"
      },
      "source": [
        "### Aggregation Primitives"
      ]
    },
    {
      "cell_type": "code",
      "metadata": {
        "colab": {
          "base_uri": "https://localhost:8080/",
          "height": 0
        },
        "id": "LfdLPHW2G65Q",
        "outputId": "5f9cfbb3-8906-454d-aa92-b5be13cc24dc"
      },
      "source": [
        "all_p = ft.list_primitives()\n",
        "trans_p = all_p.loc[all_p['type'] == 'transform'].copy()\n",
        "agg_p = all_p.loc[all_p['type'] == 'aggregation'].copy()\n",
        "\n",
        "pd.options.display.max_colwidth = 100\n",
        "agg_p.head()"
      ],
      "execution_count": 25,
      "outputs": [
        {
          "output_type": "execute_result",
          "data": {
            "text/html": [
              "<div>\n",
              "<style scoped>\n",
              "    .dataframe tbody tr th:only-of-type {\n",
              "        vertical-align: middle;\n",
              "    }\n",
              "\n",
              "    .dataframe tbody tr th {\n",
              "        vertical-align: top;\n",
              "    }\n",
              "\n",
              "    .dataframe thead th {\n",
              "        text-align: right;\n",
              "    }\n",
              "</style>\n",
              "<table border=\"1\" class=\"dataframe\">\n",
              "  <thead>\n",
              "    <tr style=\"text-align: right;\">\n",
              "      <th></th>\n",
              "      <th>name</th>\n",
              "      <th>type</th>\n",
              "      <th>description</th>\n",
              "    </tr>\n",
              "  </thead>\n",
              "  <tbody>\n",
              "    <tr>\n",
              "      <th>0</th>\n",
              "      <td>all</td>\n",
              "      <td>aggregation</td>\n",
              "      <td>Test if all values are 'True'.</td>\n",
              "    </tr>\n",
              "    <tr>\n",
              "      <th>1</th>\n",
              "      <td>count</td>\n",
              "      <td>aggregation</td>\n",
              "      <td>Counts the number of non null values.</td>\n",
              "    </tr>\n",
              "    <tr>\n",
              "      <th>2</th>\n",
              "      <td>mean</td>\n",
              "      <td>aggregation</td>\n",
              "      <td>Computes the average value of a numeric feature.</td>\n",
              "    </tr>\n",
              "    <tr>\n",
              "      <th>3</th>\n",
              "      <td>percent_true</td>\n",
              "      <td>aggregation</td>\n",
              "      <td>Finds the percent of 'True' values in a boolean feature.</td>\n",
              "    </tr>\n",
              "    <tr>\n",
              "      <th>4</th>\n",
              "      <td>any</td>\n",
              "      <td>aggregation</td>\n",
              "      <td>Test if any value is 'True'.</td>\n",
              "    </tr>\n",
              "  </tbody>\n",
              "</table>\n",
              "</div>"
            ],
            "text/plain": [
              "           name  ...                                               description\n",
              "0           all  ...                            Test if all values are 'True'.\n",
              "1         count  ...                     Counts the number of non null values.\n",
              "2          mean  ...          Computes the average value of a numeric feature.\n",
              "3  percent_true  ...  Finds the percent of 'True' values in a boolean feature.\n",
              "4           any  ...                              Test if any value is 'True'.\n",
              "\n",
              "[5 rows x 3 columns]"
            ]
          },
          "metadata": {
            "tags": []
          },
          "execution_count": 25
        }
      ]
    },
    {
      "cell_type": "code",
      "metadata": {
        "id": "QJ1FX18kG65R"
      },
      "source": [
        "# Specify aggregation primitives\n",
        "agg_primitives = ['sum', 'time_since_last', 'avg_time_between', 'all', 'mode', 'num_unique', 'min', 'last', \n",
        "                  'mean', 'percent_true', 'max', 'std', 'count']"
      ],
      "execution_count": 26,
      "outputs": []
    },
    {
      "cell_type": "markdown",
      "metadata": {
        "id": "y8dVYtxqG65R"
      },
      "source": [
        "## Transform Primitives"
      ]
    },
    {
      "cell_type": "code",
      "metadata": {
        "colab": {
          "base_uri": "https://localhost:8080/",
          "height": 0
        },
        "id": "nM7WKj2FG65R",
        "outputId": "02276420-c0d4-4659-f883-f15a0ec03e62"
      },
      "source": [
        "trans_p.tail()"
      ],
      "execution_count": 27,
      "outputs": [
        {
          "output_type": "execute_result",
          "data": {
            "text/html": [
              "<div>\n",
              "<style scoped>\n",
              "    .dataframe tbody tr th:only-of-type {\n",
              "        vertical-align: middle;\n",
              "    }\n",
              "\n",
              "    .dataframe tbody tr th {\n",
              "        vertical-align: top;\n",
              "    }\n",
              "\n",
              "    .dataframe thead th {\n",
              "        text-align: right;\n",
              "    }\n",
              "</style>\n",
              "<table border=\"1\" class=\"dataframe\">\n",
              "  <thead>\n",
              "    <tr style=\"text-align: right;\">\n",
              "      <th></th>\n",
              "      <th>name</th>\n",
              "      <th>type</th>\n",
              "      <th>description</th>\n",
              "    </tr>\n",
              "  </thead>\n",
              "  <tbody>\n",
              "    <tr>\n",
              "      <th>57</th>\n",
              "      <td>absolute</td>\n",
              "      <td>transform</td>\n",
              "      <td>Absolute value of base feature.</td>\n",
              "    </tr>\n",
              "    <tr>\n",
              "      <th>58</th>\n",
              "      <td>cum_count</td>\n",
              "      <td>transform</td>\n",
              "      <td>Calculates the number of previous values of an instance for each value in a time-dependent entity.</td>\n",
              "    </tr>\n",
              "    <tr>\n",
              "      <th>59</th>\n",
              "      <td>subtract</td>\n",
              "      <td>transform</td>\n",
              "      <td>Creates a transform feature that subtracts two features.</td>\n",
              "    </tr>\n",
              "    <tr>\n",
              "      <th>60</th>\n",
              "      <td>years</td>\n",
              "      <td>transform</td>\n",
              "      <td>Transform a Timedelta feature into the number of years.</td>\n",
              "    </tr>\n",
              "    <tr>\n",
              "      <th>61</th>\n",
              "      <td>cum_sum</td>\n",
              "      <td>transform</td>\n",
              "      <td>Calculates the sum of previous values of an instance for each value in a time-dependent entity.</td>\n",
              "    </tr>\n",
              "  </tbody>\n",
              "</table>\n",
              "</div>"
            ],
            "text/plain": [
              "         name  ...                                                                                         description\n",
              "57   absolute  ...                                                                     Absolute value of base feature.\n",
              "58  cum_count  ...  Calculates the number of previous values of an instance for each value in a time-dependent entity.\n",
              "59   subtract  ...                                            Creates a transform feature that subtracts two features.\n",
              "60      years  ...                                             Transform a Timedelta feature into the number of years.\n",
              "61    cum_sum  ...     Calculates the sum of previous values of an instance for each value in a time-dependent entity.\n",
              "\n",
              "[5 rows x 3 columns]"
            ]
          },
          "metadata": {
            "tags": []
          },
          "execution_count": 27
        }
      ]
    },
    {
      "cell_type": "code",
      "metadata": {
        "id": "6SQENr-gG65R"
      },
      "source": [
        "# Specify transformation primitives\n",
        "trans_primitives = ['weekend', 'cum_sum', 'day', 'month', 'diff', 'time_since_previous']"
      ],
      "execution_count": 28,
      "outputs": []
    },
    {
      "cell_type": "markdown",
      "metadata": {
        "id": "upg82lyaG65S"
      },
      "source": [
        "### Where Primitives\n",
        "\n",
        "These primitives are applied to the `interesting_values` to build conditional features. "
      ]
    },
    {
      "cell_type": "code",
      "metadata": {
        "id": "Ao70aQEQG65T"
      },
      "source": [
        "# Specify where primitives\n",
        "where_primitives = ['sum', 'mean', 'percent_true', 'all', 'any']"
      ],
      "execution_count": 29,
      "outputs": []
    },
    {
      "cell_type": "markdown",
      "metadata": {
        "id": "RRxg1ni5G65T"
      },
      "source": [
        "## Custom Primitives\n",
        "\n",
        "[Custom primitives](https://docs.featuretools.com/automated_feature_engineering/primitives.html#defining-custom-primitives) are one of the most powerful options in Featuretools. We use custom primitives to write our own functions based on domain knowledge and then pass them to `dfs` like any other primitives. Featuretools will then stack our custom primitives with the other primitives, again, in effect, amplifying our domain knowledge.\n",
        "\n",
        "For this problem, I wrote a custom primitive that calculates the sum of a value in the month prior to the cutoff time. This is actually a primitive I [wrote for another problem](https://github.com/Featuretools/Automated-Manual-Comparison/tree/master/Retail%20Spending) but I can apply it to this problem because primitives are data agnostic. That's one of the benefits of feature primitives: they can work for any problem and writing a custom primitive will pay off many times over."
      ]
    },
    {
      "cell_type": "code",
      "metadata": {
        "id": "444iRorfG65T"
      },
      "source": [
        "from featuretools.primitives import make_agg_primitive\n",
        "\n",
        "def total_previous_month(numeric, datetime, time):\n",
        "    \"\"\"Return total of `numeric` column in the month prior to `time`.\"\"\"\n",
        "    df = pd.DataFrame({'value': numeric, 'date': datetime})\n",
        "    previous_month = time.month - 1\n",
        "    year = time.year\n",
        "   \n",
        "    # Handle January\n",
        "    if previous_month == 0:\n",
        "        previous_month = 12\n",
        "        year = time.year - 1\n",
        "        \n",
        "    # Filter data and sum up total\n",
        "    df = df[(df['date'].dt.month == previous_month) & (df['date'].dt.year == year)]\n",
        "    total = df['value'].sum()\n",
        "    \n",
        "    return total"
      ],
      "execution_count": 30,
      "outputs": []
    },
    {
      "cell_type": "code",
      "metadata": {
        "colab": {
          "base_uri": "https://localhost:8080/",
          "height": 0
        },
        "id": "Z02j3_FHG65T",
        "outputId": "cb3d7305-b5ea-4ecc-9a3b-02ff317e66ef"
      },
      "source": [
        "numeric = [10, 12, 14, 15, 19, 22, 9, 8, 8, 11]\n",
        "dates = pd.date_range('2018-01-01', '2018-03-01', periods = len(numeric))\n",
        "pd.DataFrame({'value': numeric, 'date': dates}).head(6)\n",
        "total_previous_month(numeric, dates, pd.datetime(2018, 2, 1))"
      ],
      "execution_count": 31,
      "outputs": [
        {
          "output_type": "execute_result",
          "data": {
            "text/html": [
              "<div>\n",
              "<style scoped>\n",
              "    .dataframe tbody tr th:only-of-type {\n",
              "        vertical-align: middle;\n",
              "    }\n",
              "\n",
              "    .dataframe tbody tr th {\n",
              "        vertical-align: top;\n",
              "    }\n",
              "\n",
              "    .dataframe thead th {\n",
              "        text-align: right;\n",
              "    }\n",
              "</style>\n",
              "<table border=\"1\" class=\"dataframe\">\n",
              "  <thead>\n",
              "    <tr style=\"text-align: right;\">\n",
              "      <th></th>\n",
              "      <th>value</th>\n",
              "      <th>date</th>\n",
              "    </tr>\n",
              "  </thead>\n",
              "  <tbody>\n",
              "    <tr>\n",
              "      <th>0</th>\n",
              "      <td>10</td>\n",
              "      <td>2018-01-01 00:00:00</td>\n",
              "    </tr>\n",
              "    <tr>\n",
              "      <th>1</th>\n",
              "      <td>12</td>\n",
              "      <td>2018-01-07 13:20:00</td>\n",
              "    </tr>\n",
              "    <tr>\n",
              "      <th>2</th>\n",
              "      <td>14</td>\n",
              "      <td>2018-01-14 02:40:00</td>\n",
              "    </tr>\n",
              "    <tr>\n",
              "      <th>3</th>\n",
              "      <td>15</td>\n",
              "      <td>2018-01-20 16:00:00</td>\n",
              "    </tr>\n",
              "    <tr>\n",
              "      <th>4</th>\n",
              "      <td>19</td>\n",
              "      <td>2018-01-27 05:20:00</td>\n",
              "    </tr>\n",
              "    <tr>\n",
              "      <th>5</th>\n",
              "      <td>22</td>\n",
              "      <td>2018-02-02 18:40:00</td>\n",
              "    </tr>\n",
              "  </tbody>\n",
              "</table>\n",
              "</div>"
            ],
            "text/plain": [
              "   value                date\n",
              "0     10 2018-01-01 00:00:00\n",
              "1     12 2018-01-07 13:20:00\n",
              "2     14 2018-01-14 02:40:00\n",
              "3     15 2018-01-20 16:00:00\n",
              "4     19 2018-01-27 05:20:00\n",
              "5     22 2018-02-02 18:40:00"
            ]
          },
          "metadata": {
            "tags": []
          },
          "execution_count": 31
        },
        {
          "output_type": "stream",
          "text": [
            "/usr/local/lib/python3.6/dist-packages/ipykernel_launcher.py:4: FutureWarning: The pandas.datetime class is deprecated and will be removed from pandas in a future version. Import from datetime instead.\n",
            "  after removing the cwd from sys.path.\n"
          ],
          "name": "stderr"
        },
        {
          "output_type": "execute_result",
          "data": {
            "text/plain": [
              "70"
            ]
          },
          "metadata": {
            "tags": []
          },
          "execution_count": 31
        }
      ]
    },
    {
      "cell_type": "code",
      "metadata": {
        "colab": {
          "base_uri": "https://localhost:8080/",
          "height": 0
        },
        "id": "bTMg8lcQG65U",
        "outputId": "b7749034-f04d-4cd2-b554-645c4a2ec5a5"
      },
      "source": [
        "numeric = [10, 12, 14, 5, 7, 8]\n",
        "dates = pd.date_range('2018-01-01', '2018-03-01', periods = len(numeric))\n",
        "pd.DataFrame({'value': numeric, 'date': dates}).head(6)\n",
        "total_previous_month(numeric, dates, pd.datetime(2018, 3, 1))"
      ],
      "execution_count": 32,
      "outputs": [
        {
          "output_type": "execute_result",
          "data": {
            "text/html": [
              "<div>\n",
              "<style scoped>\n",
              "    .dataframe tbody tr th:only-of-type {\n",
              "        vertical-align: middle;\n",
              "    }\n",
              "\n",
              "    .dataframe tbody tr th {\n",
              "        vertical-align: top;\n",
              "    }\n",
              "\n",
              "    .dataframe thead th {\n",
              "        text-align: right;\n",
              "    }\n",
              "</style>\n",
              "<table border=\"1\" class=\"dataframe\">\n",
              "  <thead>\n",
              "    <tr style=\"text-align: right;\">\n",
              "      <th></th>\n",
              "      <th>value</th>\n",
              "      <th>date</th>\n",
              "    </tr>\n",
              "  </thead>\n",
              "  <tbody>\n",
              "    <tr>\n",
              "      <th>0</th>\n",
              "      <td>10</td>\n",
              "      <td>2018-01-01 00:00:00</td>\n",
              "    </tr>\n",
              "    <tr>\n",
              "      <th>1</th>\n",
              "      <td>12</td>\n",
              "      <td>2018-01-12 19:12:00</td>\n",
              "    </tr>\n",
              "    <tr>\n",
              "      <th>2</th>\n",
              "      <td>14</td>\n",
              "      <td>2018-01-24 14:24:00</td>\n",
              "    </tr>\n",
              "    <tr>\n",
              "      <th>3</th>\n",
              "      <td>5</td>\n",
              "      <td>2018-02-05 09:36:00</td>\n",
              "    </tr>\n",
              "    <tr>\n",
              "      <th>4</th>\n",
              "      <td>7</td>\n",
              "      <td>2018-02-17 04:48:00</td>\n",
              "    </tr>\n",
              "    <tr>\n",
              "      <th>5</th>\n",
              "      <td>8</td>\n",
              "      <td>2018-03-01 00:00:00</td>\n",
              "    </tr>\n",
              "  </tbody>\n",
              "</table>\n",
              "</div>"
            ],
            "text/plain": [
              "   value                date\n",
              "0     10 2018-01-01 00:00:00\n",
              "1     12 2018-01-12 19:12:00\n",
              "2     14 2018-01-24 14:24:00\n",
              "3      5 2018-02-05 09:36:00\n",
              "4      7 2018-02-17 04:48:00\n",
              "5      8 2018-03-01 00:00:00"
            ]
          },
          "metadata": {
            "tags": []
          },
          "execution_count": 32
        },
        {
          "output_type": "stream",
          "text": [
            "/usr/local/lib/python3.6/dist-packages/ipykernel_launcher.py:4: FutureWarning: The pandas.datetime class is deprecated and will be removed from pandas in a future version. Import from datetime instead.\n",
            "  after removing the cwd from sys.path.\n"
          ],
          "name": "stderr"
        },
        {
          "output_type": "execute_result",
          "data": {
            "text/plain": [
              "12"
            ]
          },
          "metadata": {
            "tags": []
          },
          "execution_count": 32
        }
      ]
    },
    {
      "cell_type": "markdown",
      "metadata": {
        "id": "l_EkaXCcG65U"
      },
      "source": [
        "### Custom Primitive Implementation\n",
        "\n",
        "Making a custom primitive is simple: first we define a function (`total_previous_month`) and then we `make_agg_primitive` with `input_type[s]`, a `return_type`, and whether or not the primitive requires the `cutoff_time` through `uses_calc_time`. \n",
        "\n",
        "This primitive is an aggregation primitive because it takes in multiple numbers - transactions for the previous month - and returns a single number - the total of the transactions. "
      ]
    },
    {
      "cell_type": "code",
      "metadata": {
        "id": "d859dZcqG65V"
      },
      "source": [
        "# Takes in a number and outputs a number\n",
        "total_previous = make_agg_primitive(total_previous_month, input_types = [ft.variable_types.Numeric,\n",
        "                                                                         ft.variable_types.Datetime],\n",
        "                                    return_type = ft.variable_types.Numeric, \n",
        "                                    uses_calc_time = True)"
      ],
      "execution_count": 33,
      "outputs": []
    },
    {
      "cell_type": "markdown",
      "metadata": {
        "id": "WbMVGA-cG65V"
      },
      "source": [
        "Now just have to pass this in as another aggregation primitive for Featuretools to use it in calculations.\n",
        "\n",
        "\n",
        "The second custom primitive finds the time since a previous true value. This is originally intended for the `is_cancel` variable in the `transactions` dataframe, but it can work for any Boolean variable. It simply finds the time between True examples."
      ]
    },
    {
      "cell_type": "code",
      "metadata": {
        "id": "PjKY6FgNG65V"
      },
      "source": [
        "def time_since_true(boolean, datetime):\n",
        "    \"\"\"Calculate time since previous true value\"\"\"\n",
        "    \n",
        "    if np.any(np.array(list(boolean)) == 1):\n",
        "        # Create dataframe sorted from oldest to newest \n",
        "        df = pd.DataFrame({'value': boolean, 'date': datetime}).\\\n",
        "                sort_values('date', ascending = False).reset_index()\n",
        "\n",
        "        older_date = None\n",
        "\n",
        "        # Iterate through each date in reverse order\n",
        "        for date in df.loc[df['value'] == 1, 'date']:\n",
        "\n",
        "            # If there was no older true value\n",
        "            if older_date == None:\n",
        "                # Subset to times on or after true\n",
        "                times_after_idx = df.loc[df['date'] >= date].index\n",
        "\n",
        "            else:\n",
        "                # Subset to times on or after true but before previous true\n",
        "                times_after_idx = df.loc[(df['date'] >= date) & (df['date'] < older_date)].index\n",
        "            older_date = date\n",
        "            # Calculate time since previous true\n",
        "            df.loc[times_after_idx, 'time_since_previous'] = (df.loc[times_after_idx, 'date'] - date).dt.total_seconds()\n",
        "\n",
        "        return list(df['time_since_previous'])[::-1]\n",
        "    \n",
        "    # Handle case with no true values\n",
        "    else:\n",
        "        return [np.nan for _ in range(len(boolean))]"
      ],
      "execution_count": 34,
      "outputs": []
    },
    {
      "cell_type": "code",
      "metadata": {
        "colab": {
          "base_uri": "https://localhost:8080/"
        },
        "id": "S0plLIMOG65V",
        "outputId": "73edaac8-d789-490d-a473-4e9e390ac0be"
      },
      "source": [
        "booleans = []\n",
        "dates = []\n",
        "df = pd.DataFrame({'value': booleans, 'date': dates})\n",
        "time_since_true(df['value'], df['date'])"
      ],
      "execution_count": 35,
      "outputs": [
        {
          "output_type": "execute_result",
          "data": {
            "text/plain": [
              "[]"
            ]
          },
          "metadata": {
            "tags": []
          },
          "execution_count": 35
        }
      ]
    },
    {
      "cell_type": "code",
      "metadata": {
        "colab": {
          "base_uri": "https://localhost:8080/"
        },
        "id": "RYHhEC_NG65W",
        "outputId": "ca7a2f15-41ea-4895-b67e-b586d0a4da94"
      },
      "source": [
        "booleans = [1, 0, 0, 0, 0, 1, 1, 1, 0, 0, 0]\n",
        "dates = pd.date_range('2018-01-01', '2018-03-01', periods = len(booleans))\n",
        "df = pd.DataFrame({'value': booleans, 'date': dates})\n",
        "time_since_true(df['value'], df['date'])"
      ],
      "execution_count": 36,
      "outputs": [
        {
          "output_type": "execute_result",
          "data": {
            "text/plain": [
              "[0.0,\n",
              " 509760.00000000006,\n",
              " 1019520.0000000001,\n",
              " 1529280.0,\n",
              " 2039040.0000000002,\n",
              " 0.0,\n",
              " 0.0,\n",
              " 0.0,\n",
              " 509760.00000000006,\n",
              " 1019520.0000000001,\n",
              " 1529280.0]"
            ]
          },
          "metadata": {
            "tags": []
          },
          "execution_count": 36
        }
      ]
    },
    {
      "cell_type": "code",
      "metadata": {
        "colab": {
          "base_uri": "https://localhost:8080/"
        },
        "id": "ngCTdnKLG65X",
        "outputId": "4252b6db-8b44-4b2b-ff37-c7b4ae1b385b"
      },
      "source": [
        "booleans = [1, 0, 0]\n",
        "dates = pd.date_range('2018-01-01', '2018-03-01', periods = len(booleans))\n",
        "time_since_true(booleans, dates)"
      ],
      "execution_count": 37,
      "outputs": [
        {
          "output_type": "execute_result",
          "data": {
            "text/plain": [
              "[0.0, 2548800.0, 5097600.0]"
            ]
          },
          "metadata": {
            "tags": []
          },
          "execution_count": 37
        }
      ]
    },
    {
      "cell_type": "code",
      "metadata": {
        "colab": {
          "base_uri": "https://localhost:8080/"
        },
        "id": "iS2etr-FG65X",
        "outputId": "8101abb9-60e0-40a3-d2ea-a6c812b2dd0d"
      },
      "source": [
        "booleans = [0, 0]\n",
        "dates = pd.date_range('2018-01-01', '2018-03-01', periods = len(booleans))\n",
        "time_since_true(booleans, dates)"
      ],
      "execution_count": 38,
      "outputs": [
        {
          "output_type": "execute_result",
          "data": {
            "text/plain": [
              "[nan, nan]"
            ]
          },
          "metadata": {
            "tags": []
          },
          "execution_count": 38
        }
      ]
    },
    {
      "cell_type": "markdown",
      "metadata": {
        "id": "jpqQqLoxG65X"
      },
      "source": [
        "This is a transformation primitive since it acts on multiple columns in the same table. The returned list is the same length as the original column."
      ]
    },
    {
      "cell_type": "code",
      "metadata": {
        "id": "nt4CRLGyG65X"
      },
      "source": [
        "from featuretools.primitives import make_trans_primitive\n",
        "\n",
        "# Specify the inputs and return\n",
        "time_since = make_trans_primitive(time_since_true, \n",
        "                                  input_types = [vtypes.Boolean, vtypes.Datetime],\n",
        "                                  return_type = vtypes.Numeric)"
      ],
      "execution_count": 39,
      "outputs": []
    },
    {
      "cell_type": "markdown",
      "metadata": {
        "id": "k2pesp1iG65Y"
      },
      "source": [
        "Let's add the two custom primitives to the respective lists. In the final version of feature engineering, I did not use the `time_since` primitive. I ran into problems with the implementation but would encourage anyone to try and fix it or build their own custom primitive[s]."
      ]
    },
    {
      "cell_type": "code",
      "metadata": {
        "id": "c1A2n58jG65Y"
      },
      "source": [
        "agg_primitives.append(total_previous)\n",
        "# trans_primitives.append(time_since)"
      ],
      "execution_count": 40,
      "outputs": []
    },
    {
      "cell_type": "markdown",
      "metadata": {
        "id": "IoaeB-MKG65Z"
      },
      "source": [
        "## Deep Feature Synthesis with Specified Primitives\n",
        "\n",
        "We'll again run Deep Feature Synthesis to make the feature definitions this time using the selected primitives and the custom primitives. "
      ]
    },
    {
      "cell_type": "code",
      "metadata": {
        "id": "s6PzzdqxG65Z"
      },
      "source": [
        "feature_defs = ft.dfs(entityset=es, target_entity='members', \n",
        "                      cutoff_time = cutoff_times, \n",
        "                      agg_primitives = agg_primitives,\n",
        "                      trans_primitives = trans_primitives,\n",
        "                      where_primitives = where_primitives,\n",
        "                      chunk_size = len(cutoff_times), \n",
        "                      cutoff_time_in_index = True,\n",
        "                      max_depth = 2, features_only = True)"
      ],
      "execution_count": 41,
      "outputs": []
    },
    {
      "cell_type": "code",
      "metadata": {
        "colab": {
          "base_uri": "https://localhost:8080/"
        },
        "id": "Bi0TtaptG65a",
        "outputId": "6a6ff070-1042-41d3-cb4a-f44d9fa59740"
      },
      "source": [
        "print(f'This will generate {len(feature_defs)} features.')"
      ],
      "execution_count": 42,
      "outputs": [
        {
          "output_type": "stream",
          "text": [
            "This will generate 255 features.\n"
          ],
          "name": "stdout"
        }
      ]
    },
    {
      "cell_type": "code",
      "metadata": {
        "colab": {
          "base_uri": "https://localhost:8080/"
        },
        "id": "mGNjN-5TG65a",
        "outputId": "f614e81c-8a4b-48b2-eb31-d0369edb8d63"
      },
      "source": [
        "random.sample(feature_defs, 15)"
      ],
      "execution_count": 43,
      "outputs": [
        {
          "output_type": "execute_result",
          "data": {
            "text/plain": [
              "[<Feature: MIN(logs.num_unq)>,\n",
              " <Feature: NUM_UNIQUE(logs.MONTH(date))>,\n",
              " <Feature: LAST(transactions.payment_method_id)>,\n",
              " <Feature: SUM(logs.num_100)>,\n",
              " <Feature: SUM(logs.num_985)>,\n",
              " <Feature: MIN(logs.total_secs)>,\n",
              " <Feature: MAX(logs.num_unq)>,\n",
              " <Feature: MAX(logs.percent_unique)>,\n",
              " <Feature: STD(transactions.planned_daily_price)>,\n",
              " <Feature: LAST(logs.MONTH(date))>,\n",
              " <Feature: SUM(logs.num_75)>,\n",
              " <Feature: TOTAL_PREVIOUS_MONTH(transactions.planned_daily_price, transaction_date)>,\n",
              " <Feature: MAX(logs.num_25)>,\n",
              " <Feature: ALL(transactions.is_cancel WHERE is_auto_renew = 1)>,\n",
              " <Feature: SUM(transactions.actual_amount_paid WHERE is_cancel = 0)>]"
            ]
          },
          "metadata": {
            "tags": []
          },
          "execution_count": 43
        }
      ]
    },
    {
      "cell_type": "markdown",
      "metadata": {
        "id": "2teO820CG65b"
      },
      "source": [
        "We can see that our custom primitive `TOTAL_PREVIOUS_MONTH` has been applied to create more features. The benefit of custom primitives are that they can be used to encode specific domain knowledge into the feature engineering process. Moreover, we don't get just the custom primitive itself, we also get features that are stacked on top of the primitive."
      ]
    },
    {
      "cell_type": "markdown",
      "metadata": {
        "id": "zDwj4bCSG65b"
      },
      "source": [
        "# Run Deep Feature Synthesis\n",
        "\n",
        "Once we're happy with the features that will be generated, we can run deep feature synthesis to make the actual features. We need to change `feature_only` to `False` and then we're good to go."
      ]
    },
    {
      "cell_type": "code",
      "metadata": {
        "id": "LldwqKo9VYjr"
      },
      "source": [
        "import dask"
      ],
      "execution_count": 44,
      "outputs": []
    },
    {
      "cell_type": "code",
      "metadata": {
        "colab": {
          "base_uri": "https://localhost:8080/",
          "height": 496
        },
        "id": "xdkDFwKEV1Kf",
        "outputId": "c071426b-c114-4caa-fc61-a45d3acf5b00"
      },
      "source": [
        "pip install dask==1.0.0 distributed'>=1.21.6,<2.0.0'"
      ],
      "execution_count": 45,
      "outputs": [
        {
          "output_type": "stream",
          "text": [
            "Collecting dask==1.0.0\n",
            "\u001b[?25l  Downloading https://files.pythonhosted.org/packages/b4/e5/6407c2349622699eab0881e6bc6e978b8da67872a105e5e20b72ff190c65/dask-1.0.0-py2.py3-none-any.whl (685kB)\n",
            "\r\u001b[K     |▌                               | 10kB 16.8MB/s eta 0:00:01\r\u001b[K     |█                               | 20kB 23.1MB/s eta 0:00:01\r\u001b[K     |█▍                              | 30kB 13.8MB/s eta 0:00:01\r\u001b[K     |██                              | 40kB 15.6MB/s eta 0:00:01\r\u001b[K     |██▍                             | 51kB 17.2MB/s eta 0:00:01\r\u001b[K     |██▉                             | 61kB 16.3MB/s eta 0:00:01\r\u001b[K     |███▍                            | 71kB 10.2MB/s eta 0:00:01\r\u001b[K     |███▉                            | 81kB 11.2MB/s eta 0:00:01\r\u001b[K     |████▎                           | 92kB 11.8MB/s eta 0:00:01\r\u001b[K     |████▉                           | 102kB 12.0MB/s eta 0:00:01\r\u001b[K     |█████▎                          | 112kB 12.0MB/s eta 0:00:01\r\u001b[K     |█████▊                          | 122kB 12.0MB/s eta 0:00:01\r\u001b[K     |██████▏                         | 133kB 12.0MB/s eta 0:00:01\r\u001b[K     |██████▊                         | 143kB 12.0MB/s eta 0:00:01\r\u001b[K     |███████▏                        | 153kB 12.0MB/s eta 0:00:01\r\u001b[K     |███████▋                        | 163kB 12.0MB/s eta 0:00:01\r\u001b[K     |████████▏                       | 174kB 12.0MB/s eta 0:00:01\r\u001b[K     |████████▋                       | 184kB 12.0MB/s eta 0:00:01\r\u001b[K     |█████████                       | 194kB 12.0MB/s eta 0:00:01\r\u001b[K     |█████████▋                      | 204kB 12.0MB/s eta 0:00:01\r\u001b[K     |██████████                      | 215kB 12.0MB/s eta 0:00:01\r\u001b[K     |██████████▌                     | 225kB 12.0MB/s eta 0:00:01\r\u001b[K     |███████████                     | 235kB 12.0MB/s eta 0:00:01\r\u001b[K     |███████████▌                    | 245kB 12.0MB/s eta 0:00:01\r\u001b[K     |████████████                    | 256kB 12.0MB/s eta 0:00:01\r\u001b[K     |████████████▍                   | 266kB 12.0MB/s eta 0:00:01\r\u001b[K     |█████████████                   | 276kB 12.0MB/s eta 0:00:01\r\u001b[K     |█████████████▍                  | 286kB 12.0MB/s eta 0:00:01\r\u001b[K     |█████████████▉                  | 296kB 12.0MB/s eta 0:00:01\r\u001b[K     |██████████████▍                 | 307kB 12.0MB/s eta 0:00:01\r\u001b[K     |██████████████▉                 | 317kB 12.0MB/s eta 0:00:01\r\u001b[K     |███████████████▎                | 327kB 12.0MB/s eta 0:00:01\r\u001b[K     |███████████████▊                | 337kB 12.0MB/s eta 0:00:01\r\u001b[K     |████████████████▎               | 348kB 12.0MB/s eta 0:00:01\r\u001b[K     |████████████████▊               | 358kB 12.0MB/s eta 0:00:01\r\u001b[K     |█████████████████▏              | 368kB 12.0MB/s eta 0:00:01\r\u001b[K     |█████████████████▊              | 378kB 12.0MB/s eta 0:00:01\r\u001b[K     |██████████████████▏             | 389kB 12.0MB/s eta 0:00:01\r\u001b[K     |██████████████████▋             | 399kB 12.0MB/s eta 0:00:01\r\u001b[K     |███████████████████▏            | 409kB 12.0MB/s eta 0:00:01\r\u001b[K     |███████████████████▋            | 419kB 12.0MB/s eta 0:00:01\r\u001b[K     |████████████████████            | 430kB 12.0MB/s eta 0:00:01\r\u001b[K     |████████████████████▋           | 440kB 12.0MB/s eta 0:00:01\r\u001b[K     |█████████████████████           | 450kB 12.0MB/s eta 0:00:01\r\u001b[K     |█████████████████████▌          | 460kB 12.0MB/s eta 0:00:01\r\u001b[K     |██████████████████████          | 471kB 12.0MB/s eta 0:00:01\r\u001b[K     |██████████████████████▌         | 481kB 12.0MB/s eta 0:00:01\r\u001b[K     |███████████████████████         | 491kB 12.0MB/s eta 0:00:01\r\u001b[K     |███████████████████████▍        | 501kB 12.0MB/s eta 0:00:01\r\u001b[K     |████████████████████████        | 512kB 12.0MB/s eta 0:00:01\r\u001b[K     |████████████████████████▍       | 522kB 12.0MB/s eta 0:00:01\r\u001b[K     |████████████████████████▉       | 532kB 12.0MB/s eta 0:00:01\r\u001b[K     |█████████████████████████▍      | 542kB 12.0MB/s eta 0:00:01\r\u001b[K     |█████████████████████████▉      | 552kB 12.0MB/s eta 0:00:01\r\u001b[K     |██████████████████████████▎     | 563kB 12.0MB/s eta 0:00:01\r\u001b[K     |██████████████████████████▊     | 573kB 12.0MB/s eta 0:00:01\r\u001b[K     |███████████████████████████▎    | 583kB 12.0MB/s eta 0:00:01\r\u001b[K     |███████████████████████████▊    | 593kB 12.0MB/s eta 0:00:01\r\u001b[K     |████████████████████████████▏   | 604kB 12.0MB/s eta 0:00:01\r\u001b[K     |████████████████████████████▊   | 614kB 12.0MB/s eta 0:00:01\r\u001b[K     |█████████████████████████████▏  | 624kB 12.0MB/s eta 0:00:01\r\u001b[K     |█████████████████████████████▋  | 634kB 12.0MB/s eta 0:00:01\r\u001b[K     |██████████████████████████████▏ | 645kB 12.0MB/s eta 0:00:01\r\u001b[K     |██████████████████████████████▋ | 655kB 12.0MB/s eta 0:00:01\r\u001b[K     |███████████████████████████████ | 665kB 12.0MB/s eta 0:00:01\r\u001b[K     |███████████████████████████████▌| 675kB 12.0MB/s eta 0:00:01\r\u001b[K     |████████████████████████████████| 686kB 12.0MB/s \n",
            "\u001b[?25hRequirement already satisfied: distributed<2.0.0,>=1.21.6 in /usr/local/lib/python3.6/dist-packages (1.25.3)\n",
            "Requirement already satisfied: psutil>=5.0 in /usr/local/lib/python3.6/dist-packages (from distributed<2.0.0,>=1.21.6) (5.4.8)\n",
            "Requirement already satisfied: pyyaml in /usr/local/lib/python3.6/dist-packages (from distributed<2.0.0,>=1.21.6) (3.13)\n",
            "Requirement already satisfied: click>=6.6 in /usr/local/lib/python3.6/dist-packages (from distributed<2.0.0,>=1.21.6) (7.1.2)\n",
            "Requirement already satisfied: cloudpickle>=0.2.2 in /usr/local/lib/python3.6/dist-packages (from distributed<2.0.0,>=1.21.6) (1.3.0)\n",
            "Requirement already satisfied: six in /usr/local/lib/python3.6/dist-packages (from distributed<2.0.0,>=1.21.6) (1.15.0)\n",
            "Requirement already satisfied: sortedcontainers!=2.0.0,!=2.0.1 in /usr/local/lib/python3.6/dist-packages (from distributed<2.0.0,>=1.21.6) (2.3.0)\n",
            "Requirement already satisfied: zict>=0.1.3 in /usr/local/lib/python3.6/dist-packages (from distributed<2.0.0,>=1.21.6) (2.0.0)\n",
            "Requirement already satisfied: msgpack in /usr/local/lib/python3.6/dist-packages (from distributed<2.0.0,>=1.21.6) (1.0.2)\n",
            "Requirement already satisfied: tblib in /usr/local/lib/python3.6/dist-packages (from distributed<2.0.0,>=1.21.6) (1.7.0)\n",
            "Requirement already satisfied: toolz>=0.7.4 in /usr/local/lib/python3.6/dist-packages (from distributed<2.0.0,>=1.21.6) (0.11.1)\n",
            "Requirement already satisfied: tornado>=4.5.1 in /usr/local/lib/python3.6/dist-packages (from distributed<2.0.0,>=1.21.6) (5.1.1)\n",
            "Requirement already satisfied: heapdict in /usr/local/lib/python3.6/dist-packages (from zict>=0.1.3->distributed<2.0.0,>=1.21.6) (1.0.1)\n",
            "Installing collected packages: dask\n",
            "  Found existing installation: dask 2.12.0\n",
            "    Uninstalling dask-2.12.0:\n",
            "      Successfully uninstalled dask-2.12.0\n",
            "Successfully installed dask-1.0.0\n"
          ],
          "name": "stdout"
        },
        {
          "output_type": "display_data",
          "data": {
            "application/vnd.colab-display-data+json": {
              "pip_warning": {
                "packages": [
                  "dask"
                ]
              }
            }
          },
          "metadata": {
            "tags": []
          }
        }
      ]
    },
    {
      "cell_type": "code",
      "metadata": {
        "colab": {
          "base_uri": "https://localhost:8080/",
          "height": 36
        },
        "id": "sclYNADDVkbi",
        "outputId": "c9df2ab3-e643-459e-944a-636a331c6114"
      },
      "source": [
        "dask.__version__"
      ],
      "execution_count": 46,
      "outputs": [
        {
          "output_type": "execute_result",
          "data": {
            "application/vnd.google.colaboratory.intrinsic+json": {
              "type": "string"
            },
            "text/plain": [
              "'2.12.0'"
            ]
          },
          "metadata": {
            "tags": []
          },
          "execution_count": 46
        }
      ]
    },
    {
      "cell_type": "code",
      "metadata": {
        "colab": {
          "base_uri": "https://localhost:8080/",
          "height": 1000
        },
        "id": "o0SrJvC9G65b",
        "outputId": "01bc14d3-1102-439e-c9bd-c607c1a06aa7"
      },
      "source": [
        "from timeit import default_timer as timer\n",
        "\n",
        "start = timer()\n",
        "feature_matrix, feature_defs = ft.dfs(entityset=es, target_entity='members', \n",
        "                                      cutoff_time = cutoff_times, \n",
        "                                      agg_primitives = agg_primitives,\n",
        "                                      trans_primitives = trans_primitives,\n",
        "                                      where_primitives = where_primitives,\n",
        "                                      max_depth = 2, features_only = False,\n",
        "                                      verbose = 1, chunk_size = 1000,  \n",
        "                                      n_jobs = -1,\n",
        "                                      cutoff_time_in_index = True)\n",
        "end = timer()\n",
        "print(f'{round(end - start)} seconds elapsed.')"
      ],
      "execution_count": 47,
      "outputs": [
        {
          "output_type": "stream",
          "text": [
            "Built 255 features\n"
          ],
          "name": "stdout"
        },
        {
          "output_type": "stream",
          "text": [
            "distributed.protocol.core - CRITICAL - Failed to deserialize\n",
            "Traceback (most recent call last):\n",
            "  File \"/usr/local/lib/python3.6/dist-packages/distributed/protocol/core.py\", line 114, in loads\n",
            "    header = msgpack.loads(header, use_list=False, **msgpack_opts)\n",
            "  File \"msgpack/_unpacker.pyx\", line 195, in msgpack._cmsgpack.unpackb\n",
            "ValueError: tuple is not allowed for map key\n",
            "distributed.core - ERROR - tuple is not allowed for map key\n",
            "Traceback (most recent call last):\n",
            "  File \"/usr/local/lib/python3.6/dist-packages/distributed/core.py\", line 297, in handle_comm\n",
            "    msg = yield comm.read()\n",
            "  File \"/usr/local/lib/python3.6/dist-packages/tornado/gen.py\", line 1133, in run\n",
            "    value = future.result()\n",
            "  File \"/usr/local/lib/python3.6/dist-packages/tornado/gen.py\", line 1141, in run\n",
            "    yielded = self.gen.throw(*exc_info)\n",
            "  File \"/usr/local/lib/python3.6/dist-packages/distributed/comm/tcp.py\", line 207, in read\n",
            "    deserializers=deserializers)\n",
            "  File \"/usr/local/lib/python3.6/dist-packages/tornado/gen.py\", line 1133, in run\n",
            "    value = future.result()\n",
            "  File \"/usr/local/lib/python3.6/dist-packages/tornado/gen.py\", line 326, in wrapper\n",
            "    yielded = next(result)\n",
            "  File \"/usr/local/lib/python3.6/dist-packages/distributed/comm/utils.py\", line 82, in from_frames\n",
            "    res = _from_frames()\n",
            "  File \"/usr/local/lib/python3.6/dist-packages/distributed/comm/utils.py\", line 68, in _from_frames\n",
            "    deserializers=deserializers)\n",
            "  File \"/usr/local/lib/python3.6/dist-packages/distributed/protocol/core.py\", line 114, in loads\n",
            "    header = msgpack.loads(header, use_list=False, **msgpack_opts)\n",
            "  File \"msgpack/_unpacker.pyx\", line 195, in msgpack._cmsgpack.unpackb\n",
            "ValueError: tuple is not allowed for map key\n",
            "distributed.protocol.core - CRITICAL - Failed to deserialize\n",
            "Traceback (most recent call last):\n",
            "  File \"/usr/local/lib/python3.6/dist-packages/distributed/protocol/core.py\", line 114, in loads\n",
            "    header = msgpack.loads(header, use_list=False, **msgpack_opts)\n",
            "  File \"msgpack/_unpacker.pyx\", line 195, in msgpack._cmsgpack.unpackb\n",
            "ValueError: tuple is not allowed for map key\n"
          ],
          "name": "stderr"
        },
        {
          "output_type": "error",
          "ename": "ValueError",
          "evalue": "ignored",
          "traceback": [
            "\u001b[0;31m---------------------------------------------------------------------------\u001b[0m",
            "\u001b[0;31mValueError\u001b[0m                                Traceback (most recent call last)",
            "\u001b[0;32m<ipython-input-47-edb9d55e2d77>\u001b[0m in \u001b[0;36m<module>\u001b[0;34m()\u001b[0m\n\u001b[1;32m     10\u001b[0m                                       \u001b[0mverbose\u001b[0m \u001b[0;34m=\u001b[0m \u001b[0;36m1\u001b[0m\u001b[0;34m,\u001b[0m \u001b[0mchunk_size\u001b[0m \u001b[0;34m=\u001b[0m \u001b[0;36m1000\u001b[0m\u001b[0;34m,\u001b[0m\u001b[0;34m\u001b[0m\u001b[0;34m\u001b[0m\u001b[0m\n\u001b[1;32m     11\u001b[0m                                       \u001b[0mn_jobs\u001b[0m \u001b[0;34m=\u001b[0m \u001b[0;34m-\u001b[0m\u001b[0;36m1\u001b[0m\u001b[0;34m,\u001b[0m\u001b[0;34m\u001b[0m\u001b[0;34m\u001b[0m\u001b[0m\n\u001b[0;32m---> 12\u001b[0;31m                                       cutoff_time_in_index = True)\n\u001b[0m\u001b[1;32m     13\u001b[0m \u001b[0mend\u001b[0m \u001b[0;34m=\u001b[0m \u001b[0mtimer\u001b[0m\u001b[0;34m(\u001b[0m\u001b[0;34m)\u001b[0m\u001b[0;34m\u001b[0m\u001b[0;34m\u001b[0m\u001b[0m\n\u001b[1;32m     14\u001b[0m \u001b[0mprint\u001b[0m\u001b[0;34m(\u001b[0m\u001b[0;34mf'{round(end - start)} seconds elapsed.'\u001b[0m\u001b[0;34m)\u001b[0m\u001b[0;34m\u001b[0m\u001b[0;34m\u001b[0m\u001b[0m\n",
            "\u001b[0;32m/usr/local/lib/python3.6/dist-packages/featuretools/synthesis/dfs.py\u001b[0m in \u001b[0;36mdfs\u001b[0;34m(entities, relationships, entityset, target_entity, cutoff_time, instance_ids, agg_primitives, trans_primitives, allowed_paths, max_depth, ignore_entities, ignore_variables, seed_features, drop_contains, drop_exact, where_primitives, max_features, cutoff_time_in_index, save_progress, features_only, training_window, approximate, chunk_size, n_jobs, dask_kwargs, verbose)\u001b[0m\n\u001b[1;32m    198\u001b[0m                                                   \u001b[0mn_jobs\u001b[0m\u001b[0;34m=\u001b[0m\u001b[0mn_jobs\u001b[0m\u001b[0;34m,\u001b[0m\u001b[0;34m\u001b[0m\u001b[0;34m\u001b[0m\u001b[0m\n\u001b[1;32m    199\u001b[0m                                                   \u001b[0mdask_kwargs\u001b[0m\u001b[0;34m=\u001b[0m\u001b[0mdask_kwargs\u001b[0m\u001b[0;34m,\u001b[0m\u001b[0;34m\u001b[0m\u001b[0;34m\u001b[0m\u001b[0m\n\u001b[0;32m--> 200\u001b[0;31m                                                   verbose=verbose)\n\u001b[0m\u001b[1;32m    201\u001b[0m     \u001b[0;32melse\u001b[0m\u001b[0;34m:\u001b[0m\u001b[0;34m\u001b[0m\u001b[0;34m\u001b[0m\u001b[0m\n\u001b[1;32m    202\u001b[0m         feature_matrix = calculate_feature_matrix(features,\n",
            "\u001b[0;32m/usr/local/lib/python3.6/dist-packages/featuretools/computational_backends/calculate_feature_matrix.py\u001b[0m in \u001b[0;36mcalculate_feature_matrix\u001b[0;34m(features, entityset, cutoff_time, instance_ids, entities, relationships, cutoff_time_in_index, training_window, approximate, save_progress, verbose, chunk_size, n_jobs, dask_kwargs, profile)\u001b[0m\n\u001b[1;32m    247\u001b[0m                                                    \u001b[0mtarget_time\u001b[0m\u001b[0;34m=\u001b[0m\u001b[0mtarget_time\u001b[0m\u001b[0;34m,\u001b[0m\u001b[0;34m\u001b[0m\u001b[0;34m\u001b[0m\u001b[0m\n\u001b[1;32m    248\u001b[0m                                                    \u001b[0mpass_columns\u001b[0m\u001b[0;34m=\u001b[0m\u001b[0mpass_columns\u001b[0m\u001b[0;34m,\u001b[0m\u001b[0;34m\u001b[0m\u001b[0;34m\u001b[0m\u001b[0m\n\u001b[0;32m--> 249\u001b[0;31m                                                    dask_kwargs=dask_kwargs or {})\n\u001b[0m\u001b[1;32m    250\u001b[0m     \u001b[0;32melse\u001b[0m\u001b[0;34m:\u001b[0m\u001b[0;34m\u001b[0m\u001b[0;34m\u001b[0m\u001b[0m\n\u001b[1;32m    251\u001b[0m         feature_matrix = linear_calculate_chunks(chunks=chunks,\n",
            "\u001b[0;32m/usr/local/lib/python3.6/dist-packages/featuretools/computational_backends/calculate_feature_matrix.py\u001b[0m in \u001b[0;36mparallel_calculate_chunks\u001b[0;34m(chunks, features, approximate, training_window, verbose, save_progress, entityset, n_jobs, no_unapproximated_aggs, cutoff_df_time_var, target_time, pass_columns, dask_kwargs)\u001b[0m\n\u001b[1;32m    558\u001b[0m             \u001b[0m_es\u001b[0m \u001b[0;34m=\u001b[0m \u001b[0mclient\u001b[0m\u001b[0;34m.\u001b[0m\u001b[0mget_dataset\u001b[0m\u001b[0;34m(\u001b[0m\u001b[0mes_token\u001b[0m\u001b[0;34m)\u001b[0m\u001b[0;34m\u001b[0m\u001b[0;34m\u001b[0m\u001b[0m\n\u001b[1;32m    559\u001b[0m         \u001b[0;32melse\u001b[0m\u001b[0;34m:\u001b[0m\u001b[0;34m\u001b[0m\u001b[0;34m\u001b[0m\u001b[0m\n\u001b[0;32m--> 560\u001b[0;31m             \u001b[0m_es\u001b[0m \u001b[0;34m=\u001b[0m \u001b[0mclient\u001b[0m\u001b[0;34m.\u001b[0m\u001b[0mscatter\u001b[0m\u001b[0;34m(\u001b[0m\u001b[0;34m[\u001b[0m\u001b[0mentityset\u001b[0m\u001b[0;34m]\u001b[0m\u001b[0;34m)\u001b[0m\u001b[0;34m[\u001b[0m\u001b[0;36m0\u001b[0m\u001b[0;34m]\u001b[0m\u001b[0;34m\u001b[0m\u001b[0;34m\u001b[0m\u001b[0m\n\u001b[0m\u001b[1;32m    561\u001b[0m             \u001b[0mclient\u001b[0m\u001b[0;34m.\u001b[0m\u001b[0mpublish_dataset\u001b[0m\u001b[0;34m(\u001b[0m\u001b[0;34m**\u001b[0m\u001b[0;34m{\u001b[0m\u001b[0m_es\u001b[0m\u001b[0;34m.\u001b[0m\u001b[0mkey\u001b[0m\u001b[0;34m:\u001b[0m \u001b[0m_es\u001b[0m\u001b[0;34m}\u001b[0m\u001b[0;34m)\u001b[0m\u001b[0;34m\u001b[0m\u001b[0;34m\u001b[0m\u001b[0m\n\u001b[1;32m    562\u001b[0m \u001b[0;34m\u001b[0m\u001b[0m\n",
            "\u001b[0;32m/usr/local/lib/python3.6/dist-packages/distributed/client.py\u001b[0m in \u001b[0;36mscatter\u001b[0;34m(self, data, workers, broadcast, direct, hash, maxsize, timeout, asynchronous)\u001b[0m\n\u001b[1;32m   1872\u001b[0m                              \u001b[0mbroadcast\u001b[0m\u001b[0;34m=\u001b[0m\u001b[0mbroadcast\u001b[0m\u001b[0;34m,\u001b[0m \u001b[0mdirect\u001b[0m\u001b[0;34m=\u001b[0m\u001b[0mdirect\u001b[0m\u001b[0;34m,\u001b[0m\u001b[0;34m\u001b[0m\u001b[0;34m\u001b[0m\u001b[0m\n\u001b[1;32m   1873\u001b[0m                              \u001b[0mlocal_worker\u001b[0m\u001b[0;34m=\u001b[0m\u001b[0mlocal_worker\u001b[0m\u001b[0;34m,\u001b[0m \u001b[0mtimeout\u001b[0m\u001b[0;34m=\u001b[0m\u001b[0mtimeout\u001b[0m\u001b[0;34m,\u001b[0m\u001b[0;34m\u001b[0m\u001b[0;34m\u001b[0m\u001b[0m\n\u001b[0;32m-> 1874\u001b[0;31m                              asynchronous=asynchronous, hash=hash)\n\u001b[0m\u001b[1;32m   1875\u001b[0m \u001b[0;34m\u001b[0m\u001b[0m\n\u001b[1;32m   1876\u001b[0m     \u001b[0;34m@\u001b[0m\u001b[0mgen\u001b[0m\u001b[0;34m.\u001b[0m\u001b[0mcoroutine\u001b[0m\u001b[0;34m\u001b[0m\u001b[0;34m\u001b[0m\u001b[0m\n",
            "\u001b[0;32m/usr/local/lib/python3.6/dist-packages/distributed/client.py\u001b[0m in \u001b[0;36msync\u001b[0;34m(self, func, *args, **kwargs)\u001b[0m\n\u001b[1;32m    673\u001b[0m             \u001b[0;32mreturn\u001b[0m \u001b[0mfuture\u001b[0m\u001b[0;34m\u001b[0m\u001b[0;34m\u001b[0m\u001b[0m\n\u001b[1;32m    674\u001b[0m         \u001b[0;32melse\u001b[0m\u001b[0;34m:\u001b[0m\u001b[0;34m\u001b[0m\u001b[0;34m\u001b[0m\u001b[0m\n\u001b[0;32m--> 675\u001b[0;31m             \u001b[0;32mreturn\u001b[0m \u001b[0msync\u001b[0m\u001b[0;34m(\u001b[0m\u001b[0mself\u001b[0m\u001b[0;34m.\u001b[0m\u001b[0mloop\u001b[0m\u001b[0;34m,\u001b[0m \u001b[0mfunc\u001b[0m\u001b[0;34m,\u001b[0m \u001b[0;34m*\u001b[0m\u001b[0margs\u001b[0m\u001b[0;34m,\u001b[0m \u001b[0;34m**\u001b[0m\u001b[0mkwargs\u001b[0m\u001b[0;34m)\u001b[0m\u001b[0;34m\u001b[0m\u001b[0;34m\u001b[0m\u001b[0m\n\u001b[0m\u001b[1;32m    676\u001b[0m \u001b[0;34m\u001b[0m\u001b[0m\n\u001b[1;32m    677\u001b[0m     \u001b[0;32mdef\u001b[0m \u001b[0m__repr__\u001b[0m\u001b[0;34m(\u001b[0m\u001b[0mself\u001b[0m\u001b[0;34m)\u001b[0m\u001b[0;34m:\u001b[0m\u001b[0;34m\u001b[0m\u001b[0;34m\u001b[0m\u001b[0m\n",
            "\u001b[0;32m/usr/local/lib/python3.6/dist-packages/distributed/utils.py\u001b[0m in \u001b[0;36msync\u001b[0;34m(loop, func, *args, **kwargs)\u001b[0m\n\u001b[1;32m    275\u001b[0m             \u001b[0me\u001b[0m\u001b[0;34m.\u001b[0m\u001b[0mwait\u001b[0m\u001b[0;34m(\u001b[0m\u001b[0;36m10\u001b[0m\u001b[0;34m)\u001b[0m\u001b[0;34m\u001b[0m\u001b[0;34m\u001b[0m\u001b[0m\n\u001b[1;32m    276\u001b[0m     \u001b[0;32mif\u001b[0m \u001b[0merror\u001b[0m\u001b[0;34m[\u001b[0m\u001b[0;36m0\u001b[0m\u001b[0;34m]\u001b[0m\u001b[0;34m:\u001b[0m\u001b[0;34m\u001b[0m\u001b[0;34m\u001b[0m\u001b[0m\n\u001b[0;32m--> 277\u001b[0;31m         \u001b[0msix\u001b[0m\u001b[0;34m.\u001b[0m\u001b[0mreraise\u001b[0m\u001b[0;34m(\u001b[0m\u001b[0;34m*\u001b[0m\u001b[0merror\u001b[0m\u001b[0;34m[\u001b[0m\u001b[0;36m0\u001b[0m\u001b[0;34m]\u001b[0m\u001b[0;34m)\u001b[0m\u001b[0;34m\u001b[0m\u001b[0;34m\u001b[0m\u001b[0m\n\u001b[0m\u001b[1;32m    278\u001b[0m     \u001b[0;32melse\u001b[0m\u001b[0;34m:\u001b[0m\u001b[0;34m\u001b[0m\u001b[0;34m\u001b[0m\u001b[0m\n\u001b[1;32m    279\u001b[0m         \u001b[0;32mreturn\u001b[0m \u001b[0mresult\u001b[0m\u001b[0;34m[\u001b[0m\u001b[0;36m0\u001b[0m\u001b[0;34m]\u001b[0m\u001b[0;34m\u001b[0m\u001b[0;34m\u001b[0m\u001b[0m\n",
            "\u001b[0;32m/usr/local/lib/python3.6/dist-packages/six.py\u001b[0m in \u001b[0;36mreraise\u001b[0;34m(tp, value, tb)\u001b[0m\n\u001b[1;32m    701\u001b[0m             \u001b[0;32mif\u001b[0m \u001b[0mvalue\u001b[0m\u001b[0;34m.\u001b[0m\u001b[0m__traceback__\u001b[0m \u001b[0;32mis\u001b[0m \u001b[0;32mnot\u001b[0m \u001b[0mtb\u001b[0m\u001b[0;34m:\u001b[0m\u001b[0;34m\u001b[0m\u001b[0;34m\u001b[0m\u001b[0m\n\u001b[1;32m    702\u001b[0m                 \u001b[0;32mraise\u001b[0m \u001b[0mvalue\u001b[0m\u001b[0;34m.\u001b[0m\u001b[0mwith_traceback\u001b[0m\u001b[0;34m(\u001b[0m\u001b[0mtb\u001b[0m\u001b[0;34m)\u001b[0m\u001b[0;34m\u001b[0m\u001b[0;34m\u001b[0m\u001b[0m\n\u001b[0;32m--> 703\u001b[0;31m             \u001b[0;32mraise\u001b[0m \u001b[0mvalue\u001b[0m\u001b[0;34m\u001b[0m\u001b[0;34m\u001b[0m\u001b[0m\n\u001b[0m\u001b[1;32m    704\u001b[0m         \u001b[0;32mfinally\u001b[0m\u001b[0;34m:\u001b[0m\u001b[0;34m\u001b[0m\u001b[0;34m\u001b[0m\u001b[0m\n\u001b[1;32m    705\u001b[0m             \u001b[0mvalue\u001b[0m \u001b[0;34m=\u001b[0m \u001b[0;32mNone\u001b[0m\u001b[0;34m\u001b[0m\u001b[0;34m\u001b[0m\u001b[0m\n",
            "\u001b[0;32m/usr/local/lib/python3.6/dist-packages/distributed/utils.py\u001b[0m in \u001b[0;36mf\u001b[0;34m()\u001b[0m\n\u001b[1;32m    260\u001b[0m             \u001b[0;32mif\u001b[0m \u001b[0mtimeout\u001b[0m \u001b[0;32mis\u001b[0m \u001b[0;32mnot\u001b[0m \u001b[0;32mNone\u001b[0m\u001b[0;34m:\u001b[0m\u001b[0;34m\u001b[0m\u001b[0;34m\u001b[0m\u001b[0m\n\u001b[1;32m    261\u001b[0m                 \u001b[0mfuture\u001b[0m \u001b[0;34m=\u001b[0m \u001b[0mgen\u001b[0m\u001b[0;34m.\u001b[0m\u001b[0mwith_timeout\u001b[0m\u001b[0;34m(\u001b[0m\u001b[0mtimedelta\u001b[0m\u001b[0;34m(\u001b[0m\u001b[0mseconds\u001b[0m\u001b[0;34m=\u001b[0m\u001b[0mtimeout\u001b[0m\u001b[0;34m)\u001b[0m\u001b[0;34m,\u001b[0m \u001b[0mfuture\u001b[0m\u001b[0;34m)\u001b[0m\u001b[0;34m\u001b[0m\u001b[0;34m\u001b[0m\u001b[0m\n\u001b[0;32m--> 262\u001b[0;31m             \u001b[0mresult\u001b[0m\u001b[0;34m[\u001b[0m\u001b[0;36m0\u001b[0m\u001b[0;34m]\u001b[0m \u001b[0;34m=\u001b[0m \u001b[0;32myield\u001b[0m \u001b[0mfuture\u001b[0m\u001b[0;34m\u001b[0m\u001b[0;34m\u001b[0m\u001b[0m\n\u001b[0m\u001b[1;32m    263\u001b[0m         \u001b[0;32mexcept\u001b[0m \u001b[0mException\u001b[0m \u001b[0;32mas\u001b[0m \u001b[0mexc\u001b[0m\u001b[0;34m:\u001b[0m\u001b[0;34m\u001b[0m\u001b[0;34m\u001b[0m\u001b[0m\n\u001b[1;32m    264\u001b[0m             \u001b[0merror\u001b[0m\u001b[0;34m[\u001b[0m\u001b[0;36m0\u001b[0m\u001b[0;34m]\u001b[0m \u001b[0;34m=\u001b[0m \u001b[0msys\u001b[0m\u001b[0;34m.\u001b[0m\u001b[0mexc_info\u001b[0m\u001b[0;34m(\u001b[0m\u001b[0;34m)\u001b[0m\u001b[0;34m\u001b[0m\u001b[0;34m\u001b[0m\u001b[0m\n",
            "\u001b[0;32m/usr/local/lib/python3.6/dist-packages/tornado/gen.py\u001b[0m in \u001b[0;36mrun\u001b[0;34m(self)\u001b[0m\n\u001b[1;32m   1131\u001b[0m \u001b[0;34m\u001b[0m\u001b[0m\n\u001b[1;32m   1132\u001b[0m                     \u001b[0;32mtry\u001b[0m\u001b[0;34m:\u001b[0m\u001b[0;34m\u001b[0m\u001b[0;34m\u001b[0m\u001b[0m\n\u001b[0;32m-> 1133\u001b[0;31m                         \u001b[0mvalue\u001b[0m \u001b[0;34m=\u001b[0m \u001b[0mfuture\u001b[0m\u001b[0;34m.\u001b[0m\u001b[0mresult\u001b[0m\u001b[0;34m(\u001b[0m\u001b[0;34m)\u001b[0m\u001b[0;34m\u001b[0m\u001b[0;34m\u001b[0m\u001b[0m\n\u001b[0m\u001b[1;32m   1134\u001b[0m                     \u001b[0;32mexcept\u001b[0m \u001b[0mException\u001b[0m\u001b[0;34m:\u001b[0m\u001b[0;34m\u001b[0m\u001b[0;34m\u001b[0m\u001b[0m\n\u001b[1;32m   1135\u001b[0m                         \u001b[0mself\u001b[0m\u001b[0;34m.\u001b[0m\u001b[0mhad_exception\u001b[0m \u001b[0;34m=\u001b[0m \u001b[0;32mTrue\u001b[0m\u001b[0;34m\u001b[0m\u001b[0;34m\u001b[0m\u001b[0m\n",
            "\u001b[0;32m/usr/local/lib/python3.6/dist-packages/tornado/gen.py\u001b[0m in \u001b[0;36mrun\u001b[0;34m(self)\u001b[0m\n\u001b[1;32m   1139\u001b[0m                     \u001b[0;32mif\u001b[0m \u001b[0mexc_info\u001b[0m \u001b[0;32mis\u001b[0m \u001b[0;32mnot\u001b[0m \u001b[0;32mNone\u001b[0m\u001b[0;34m:\u001b[0m\u001b[0;34m\u001b[0m\u001b[0;34m\u001b[0m\u001b[0m\n\u001b[1;32m   1140\u001b[0m                         \u001b[0;32mtry\u001b[0m\u001b[0;34m:\u001b[0m\u001b[0;34m\u001b[0m\u001b[0;34m\u001b[0m\u001b[0m\n\u001b[0;32m-> 1141\u001b[0;31m                             \u001b[0myielded\u001b[0m \u001b[0;34m=\u001b[0m \u001b[0mself\u001b[0m\u001b[0;34m.\u001b[0m\u001b[0mgen\u001b[0m\u001b[0;34m.\u001b[0m\u001b[0mthrow\u001b[0m\u001b[0;34m(\u001b[0m\u001b[0;34m*\u001b[0m\u001b[0mexc_info\u001b[0m\u001b[0;34m)\u001b[0m\u001b[0;34m\u001b[0m\u001b[0;34m\u001b[0m\u001b[0m\n\u001b[0m\u001b[1;32m   1142\u001b[0m                         \u001b[0;32mfinally\u001b[0m\u001b[0;34m:\u001b[0m\u001b[0;34m\u001b[0m\u001b[0;34m\u001b[0m\u001b[0m\n\u001b[1;32m   1143\u001b[0m                             \u001b[0;31m# Break up a reference to itself\u001b[0m\u001b[0;34m\u001b[0m\u001b[0;34m\u001b[0m\u001b[0;34m\u001b[0m\u001b[0m\n",
            "\u001b[0;32m/usr/local/lib/python3.6/dist-packages/distributed/client.py\u001b[0m in \u001b[0;36m_scatter\u001b[0;34m(self, data, workers, broadcast, direct, local_worker, timeout, hash)\u001b[0m\n\u001b[1;32m   1734\u001b[0m                                              \u001b[0mclient\u001b[0m\u001b[0;34m=\u001b[0m\u001b[0mself\u001b[0m\u001b[0;34m.\u001b[0m\u001b[0mid\u001b[0m\u001b[0;34m,\u001b[0m\u001b[0;34m\u001b[0m\u001b[0;34m\u001b[0m\u001b[0m\n\u001b[1;32m   1735\u001b[0m                                              \u001b[0mbroadcast\u001b[0m\u001b[0;34m=\u001b[0m\u001b[0mbroadcast\u001b[0m\u001b[0;34m,\u001b[0m\u001b[0;34m\u001b[0m\u001b[0;34m\u001b[0m\u001b[0m\n\u001b[0;32m-> 1736\u001b[0;31m                                              timeout=timeout)\n\u001b[0m\u001b[1;32m   1737\u001b[0m \u001b[0;34m\u001b[0m\u001b[0m\n\u001b[1;32m   1738\u001b[0m         \u001b[0mout\u001b[0m \u001b[0;34m=\u001b[0m \u001b[0;34m{\u001b[0m\u001b[0mk\u001b[0m\u001b[0;34m:\u001b[0m \u001b[0mFuture\u001b[0m\u001b[0;34m(\u001b[0m\u001b[0mk\u001b[0m\u001b[0;34m,\u001b[0m \u001b[0mself\u001b[0m\u001b[0;34m,\u001b[0m \u001b[0minform\u001b[0m\u001b[0;34m=\u001b[0m\u001b[0;32mFalse\u001b[0m\u001b[0;34m)\u001b[0m \u001b[0;32mfor\u001b[0m \u001b[0mk\u001b[0m \u001b[0;32min\u001b[0m \u001b[0mdata\u001b[0m\u001b[0;34m}\u001b[0m\u001b[0;34m\u001b[0m\u001b[0;34m\u001b[0m\u001b[0m\n",
            "\u001b[0;32m/usr/local/lib/python3.6/dist-packages/tornado/gen.py\u001b[0m in \u001b[0;36mrun\u001b[0;34m(self)\u001b[0m\n\u001b[1;32m   1131\u001b[0m \u001b[0;34m\u001b[0m\u001b[0m\n\u001b[1;32m   1132\u001b[0m                     \u001b[0;32mtry\u001b[0m\u001b[0;34m:\u001b[0m\u001b[0;34m\u001b[0m\u001b[0;34m\u001b[0m\u001b[0m\n\u001b[0;32m-> 1133\u001b[0;31m                         \u001b[0mvalue\u001b[0m \u001b[0;34m=\u001b[0m \u001b[0mfuture\u001b[0m\u001b[0;34m.\u001b[0m\u001b[0mresult\u001b[0m\u001b[0;34m(\u001b[0m\u001b[0;34m)\u001b[0m\u001b[0;34m\u001b[0m\u001b[0;34m\u001b[0m\u001b[0m\n\u001b[0m\u001b[1;32m   1134\u001b[0m                     \u001b[0;32mexcept\u001b[0m \u001b[0mException\u001b[0m\u001b[0;34m:\u001b[0m\u001b[0;34m\u001b[0m\u001b[0;34m\u001b[0m\u001b[0m\n\u001b[1;32m   1135\u001b[0m                         \u001b[0mself\u001b[0m\u001b[0;34m.\u001b[0m\u001b[0mhad_exception\u001b[0m \u001b[0;34m=\u001b[0m \u001b[0;32mTrue\u001b[0m\u001b[0;34m\u001b[0m\u001b[0;34m\u001b[0m\u001b[0m\n",
            "\u001b[0;32m/usr/local/lib/python3.6/dist-packages/tornado/gen.py\u001b[0m in \u001b[0;36mrun\u001b[0;34m(self)\u001b[0m\n\u001b[1;32m   1139\u001b[0m                     \u001b[0;32mif\u001b[0m \u001b[0mexc_info\u001b[0m \u001b[0;32mis\u001b[0m \u001b[0;32mnot\u001b[0m \u001b[0;32mNone\u001b[0m\u001b[0;34m:\u001b[0m\u001b[0;34m\u001b[0m\u001b[0;34m\u001b[0m\u001b[0m\n\u001b[1;32m   1140\u001b[0m                         \u001b[0;32mtry\u001b[0m\u001b[0;34m:\u001b[0m\u001b[0;34m\u001b[0m\u001b[0;34m\u001b[0m\u001b[0m\n\u001b[0;32m-> 1141\u001b[0;31m                             \u001b[0myielded\u001b[0m \u001b[0;34m=\u001b[0m \u001b[0mself\u001b[0m\u001b[0;34m.\u001b[0m\u001b[0mgen\u001b[0m\u001b[0;34m.\u001b[0m\u001b[0mthrow\u001b[0m\u001b[0;34m(\u001b[0m\u001b[0;34m*\u001b[0m\u001b[0mexc_info\u001b[0m\u001b[0;34m)\u001b[0m\u001b[0;34m\u001b[0m\u001b[0;34m\u001b[0m\u001b[0m\n\u001b[0m\u001b[1;32m   1142\u001b[0m                         \u001b[0;32mfinally\u001b[0m\u001b[0;34m:\u001b[0m\u001b[0;34m\u001b[0m\u001b[0;34m\u001b[0m\u001b[0m\n\u001b[1;32m   1143\u001b[0m                             \u001b[0;31m# Break up a reference to itself\u001b[0m\u001b[0;34m\u001b[0m\u001b[0;34m\u001b[0m\u001b[0;34m\u001b[0m\u001b[0m\n",
            "\u001b[0;32m/usr/local/lib/python3.6/dist-packages/distributed/core.py\u001b[0m in \u001b[0;36msend_recv_from_rpc\u001b[0;34m(**kwargs)\u001b[0m\n\u001b[1;32m    578\u001b[0m             \u001b[0;32mtry\u001b[0m\u001b[0;34m:\u001b[0m\u001b[0;34m\u001b[0m\u001b[0;34m\u001b[0m\u001b[0m\n\u001b[1;32m    579\u001b[0m                 \u001b[0mcomm\u001b[0m \u001b[0;34m=\u001b[0m \u001b[0;32myield\u001b[0m \u001b[0mself\u001b[0m\u001b[0;34m.\u001b[0m\u001b[0mlive_comm\u001b[0m\u001b[0;34m(\u001b[0m\u001b[0;34m)\u001b[0m\u001b[0;34m\u001b[0m\u001b[0;34m\u001b[0m\u001b[0m\n\u001b[0;32m--> 580\u001b[0;31m                 \u001b[0mresult\u001b[0m \u001b[0;34m=\u001b[0m \u001b[0;32myield\u001b[0m \u001b[0msend_recv\u001b[0m\u001b[0;34m(\u001b[0m\u001b[0mcomm\u001b[0m\u001b[0;34m=\u001b[0m\u001b[0mcomm\u001b[0m\u001b[0;34m,\u001b[0m \u001b[0mop\u001b[0m\u001b[0;34m=\u001b[0m\u001b[0mkey\u001b[0m\u001b[0;34m,\u001b[0m \u001b[0;34m**\u001b[0m\u001b[0mkwargs\u001b[0m\u001b[0;34m)\u001b[0m\u001b[0;34m\u001b[0m\u001b[0;34m\u001b[0m\u001b[0m\n\u001b[0m\u001b[1;32m    581\u001b[0m             \u001b[0;32mexcept\u001b[0m \u001b[0;34m(\u001b[0m\u001b[0mRPCClosed\u001b[0m\u001b[0;34m,\u001b[0m \u001b[0mCommClosedError\u001b[0m\u001b[0;34m)\u001b[0m \u001b[0;32mas\u001b[0m \u001b[0me\u001b[0m\u001b[0;34m:\u001b[0m\u001b[0;34m\u001b[0m\u001b[0;34m\u001b[0m\u001b[0m\n\u001b[1;32m    582\u001b[0m                 raise e.__class__(\"%s: while trying to call remote method %r\"\n",
            "\u001b[0;32m/usr/local/lib/python3.6/dist-packages/tornado/gen.py\u001b[0m in \u001b[0;36mrun\u001b[0;34m(self)\u001b[0m\n\u001b[1;32m   1131\u001b[0m \u001b[0;34m\u001b[0m\u001b[0m\n\u001b[1;32m   1132\u001b[0m                     \u001b[0;32mtry\u001b[0m\u001b[0;34m:\u001b[0m\u001b[0;34m\u001b[0m\u001b[0;34m\u001b[0m\u001b[0m\n\u001b[0;32m-> 1133\u001b[0;31m                         \u001b[0mvalue\u001b[0m \u001b[0;34m=\u001b[0m \u001b[0mfuture\u001b[0m\u001b[0;34m.\u001b[0m\u001b[0mresult\u001b[0m\u001b[0;34m(\u001b[0m\u001b[0;34m)\u001b[0m\u001b[0;34m\u001b[0m\u001b[0;34m\u001b[0m\u001b[0m\n\u001b[0m\u001b[1;32m   1134\u001b[0m                     \u001b[0;32mexcept\u001b[0m \u001b[0mException\u001b[0m\u001b[0;34m:\u001b[0m\u001b[0;34m\u001b[0m\u001b[0;34m\u001b[0m\u001b[0m\n\u001b[1;32m   1135\u001b[0m                         \u001b[0mself\u001b[0m\u001b[0;34m.\u001b[0m\u001b[0mhad_exception\u001b[0m \u001b[0;34m=\u001b[0m \u001b[0;32mTrue\u001b[0m\u001b[0;34m\u001b[0m\u001b[0;34m\u001b[0m\u001b[0m\n",
            "\u001b[0;32m/usr/local/lib/python3.6/dist-packages/tornado/gen.py\u001b[0m in \u001b[0;36mrun\u001b[0;34m(self)\u001b[0m\n\u001b[1;32m   1139\u001b[0m                     \u001b[0;32mif\u001b[0m \u001b[0mexc_info\u001b[0m \u001b[0;32mis\u001b[0m \u001b[0;32mnot\u001b[0m \u001b[0;32mNone\u001b[0m\u001b[0;34m:\u001b[0m\u001b[0;34m\u001b[0m\u001b[0;34m\u001b[0m\u001b[0m\n\u001b[1;32m   1140\u001b[0m                         \u001b[0;32mtry\u001b[0m\u001b[0;34m:\u001b[0m\u001b[0;34m\u001b[0m\u001b[0;34m\u001b[0m\u001b[0m\n\u001b[0;32m-> 1141\u001b[0;31m                             \u001b[0myielded\u001b[0m \u001b[0;34m=\u001b[0m \u001b[0mself\u001b[0m\u001b[0;34m.\u001b[0m\u001b[0mgen\u001b[0m\u001b[0;34m.\u001b[0m\u001b[0mthrow\u001b[0m\u001b[0;34m(\u001b[0m\u001b[0;34m*\u001b[0m\u001b[0mexc_info\u001b[0m\u001b[0;34m)\u001b[0m\u001b[0;34m\u001b[0m\u001b[0;34m\u001b[0m\u001b[0m\n\u001b[0m\u001b[1;32m   1142\u001b[0m                         \u001b[0;32mfinally\u001b[0m\u001b[0;34m:\u001b[0m\u001b[0;34m\u001b[0m\u001b[0;34m\u001b[0m\u001b[0m\n\u001b[1;32m   1143\u001b[0m                             \u001b[0;31m# Break up a reference to itself\u001b[0m\u001b[0;34m\u001b[0m\u001b[0;34m\u001b[0m\u001b[0;34m\u001b[0m\u001b[0m\n",
            "\u001b[0;32m/usr/local/lib/python3.6/dist-packages/distributed/core.py\u001b[0m in \u001b[0;36msend_recv\u001b[0;34m(comm, reply, serializers, deserializers, **kwargs)\u001b[0m\n\u001b[1;32m    455\u001b[0m         \u001b[0;32myield\u001b[0m \u001b[0mcomm\u001b[0m\u001b[0;34m.\u001b[0m\u001b[0mwrite\u001b[0m\u001b[0;34m(\u001b[0m\u001b[0mmsg\u001b[0m\u001b[0;34m,\u001b[0m \u001b[0mserializers\u001b[0m\u001b[0;34m=\u001b[0m\u001b[0mserializers\u001b[0m\u001b[0;34m,\u001b[0m \u001b[0mon_error\u001b[0m\u001b[0;34m=\u001b[0m\u001b[0;34m'raise'\u001b[0m\u001b[0;34m)\u001b[0m\u001b[0;34m\u001b[0m\u001b[0;34m\u001b[0m\u001b[0m\n\u001b[1;32m    456\u001b[0m         \u001b[0;32mif\u001b[0m \u001b[0mreply\u001b[0m\u001b[0;34m:\u001b[0m\u001b[0;34m\u001b[0m\u001b[0;34m\u001b[0m\u001b[0m\n\u001b[0;32m--> 457\u001b[0;31m             \u001b[0mresponse\u001b[0m \u001b[0;34m=\u001b[0m \u001b[0;32myield\u001b[0m \u001b[0mcomm\u001b[0m\u001b[0;34m.\u001b[0m\u001b[0mread\u001b[0m\u001b[0;34m(\u001b[0m\u001b[0mdeserializers\u001b[0m\u001b[0;34m=\u001b[0m\u001b[0mdeserializers\u001b[0m\u001b[0;34m)\u001b[0m\u001b[0;34m\u001b[0m\u001b[0;34m\u001b[0m\u001b[0m\n\u001b[0m\u001b[1;32m    458\u001b[0m         \u001b[0;32melse\u001b[0m\u001b[0;34m:\u001b[0m\u001b[0;34m\u001b[0m\u001b[0;34m\u001b[0m\u001b[0m\n\u001b[1;32m    459\u001b[0m             \u001b[0mresponse\u001b[0m \u001b[0;34m=\u001b[0m \u001b[0;32mNone\u001b[0m\u001b[0;34m\u001b[0m\u001b[0;34m\u001b[0m\u001b[0m\n",
            "\u001b[0;32m/usr/local/lib/python3.6/dist-packages/tornado/gen.py\u001b[0m in \u001b[0;36mrun\u001b[0;34m(self)\u001b[0m\n\u001b[1;32m   1131\u001b[0m \u001b[0;34m\u001b[0m\u001b[0m\n\u001b[1;32m   1132\u001b[0m                     \u001b[0;32mtry\u001b[0m\u001b[0;34m:\u001b[0m\u001b[0;34m\u001b[0m\u001b[0;34m\u001b[0m\u001b[0m\n\u001b[0;32m-> 1133\u001b[0;31m                         \u001b[0mvalue\u001b[0m \u001b[0;34m=\u001b[0m \u001b[0mfuture\u001b[0m\u001b[0;34m.\u001b[0m\u001b[0mresult\u001b[0m\u001b[0;34m(\u001b[0m\u001b[0;34m)\u001b[0m\u001b[0;34m\u001b[0m\u001b[0;34m\u001b[0m\u001b[0m\n\u001b[0m\u001b[1;32m   1134\u001b[0m                     \u001b[0;32mexcept\u001b[0m \u001b[0mException\u001b[0m\u001b[0;34m:\u001b[0m\u001b[0;34m\u001b[0m\u001b[0;34m\u001b[0m\u001b[0m\n\u001b[1;32m   1135\u001b[0m                         \u001b[0mself\u001b[0m\u001b[0;34m.\u001b[0m\u001b[0mhad_exception\u001b[0m \u001b[0;34m=\u001b[0m \u001b[0;32mTrue\u001b[0m\u001b[0;34m\u001b[0m\u001b[0;34m\u001b[0m\u001b[0m\n",
            "\u001b[0;32m/usr/local/lib/python3.6/dist-packages/tornado/gen.py\u001b[0m in \u001b[0;36mrun\u001b[0;34m(self)\u001b[0m\n\u001b[1;32m   1139\u001b[0m                     \u001b[0;32mif\u001b[0m \u001b[0mexc_info\u001b[0m \u001b[0;32mis\u001b[0m \u001b[0;32mnot\u001b[0m \u001b[0;32mNone\u001b[0m\u001b[0;34m:\u001b[0m\u001b[0;34m\u001b[0m\u001b[0;34m\u001b[0m\u001b[0m\n\u001b[1;32m   1140\u001b[0m                         \u001b[0;32mtry\u001b[0m\u001b[0;34m:\u001b[0m\u001b[0;34m\u001b[0m\u001b[0;34m\u001b[0m\u001b[0m\n\u001b[0;32m-> 1141\u001b[0;31m                             \u001b[0myielded\u001b[0m \u001b[0;34m=\u001b[0m \u001b[0mself\u001b[0m\u001b[0;34m.\u001b[0m\u001b[0mgen\u001b[0m\u001b[0;34m.\u001b[0m\u001b[0mthrow\u001b[0m\u001b[0;34m(\u001b[0m\u001b[0;34m*\u001b[0m\u001b[0mexc_info\u001b[0m\u001b[0;34m)\u001b[0m\u001b[0;34m\u001b[0m\u001b[0;34m\u001b[0m\u001b[0m\n\u001b[0m\u001b[1;32m   1142\u001b[0m                         \u001b[0;32mfinally\u001b[0m\u001b[0;34m:\u001b[0m\u001b[0;34m\u001b[0m\u001b[0;34m\u001b[0m\u001b[0m\n\u001b[1;32m   1143\u001b[0m                             \u001b[0;31m# Break up a reference to itself\u001b[0m\u001b[0;34m\u001b[0m\u001b[0;34m\u001b[0m\u001b[0;34m\u001b[0m\u001b[0m\n",
            "\u001b[0;32m/usr/local/lib/python3.6/dist-packages/distributed/comm/tcp.py\u001b[0m in \u001b[0;36mread\u001b[0;34m(self, deserializers)\u001b[0m\n\u001b[1;32m    205\u001b[0m                 msg = yield from_frames(frames,\n\u001b[1;32m    206\u001b[0m                                         \u001b[0mdeserialize\u001b[0m\u001b[0;34m=\u001b[0m\u001b[0mself\u001b[0m\u001b[0;34m.\u001b[0m\u001b[0mdeserialize\u001b[0m\u001b[0;34m,\u001b[0m\u001b[0;34m\u001b[0m\u001b[0;34m\u001b[0m\u001b[0m\n\u001b[0;32m--> 207\u001b[0;31m                                         deserializers=deserializers)\n\u001b[0m\u001b[1;32m    208\u001b[0m             \u001b[0;32mexcept\u001b[0m \u001b[0mEOFError\u001b[0m\u001b[0;34m:\u001b[0m\u001b[0;34m\u001b[0m\u001b[0;34m\u001b[0m\u001b[0m\n\u001b[1;32m    209\u001b[0m                 \u001b[0;31m# Frames possibly garbled or truncated by communication error\u001b[0m\u001b[0;34m\u001b[0m\u001b[0;34m\u001b[0m\u001b[0;34m\u001b[0m\u001b[0m\n",
            "\u001b[0;32m/usr/local/lib/python3.6/dist-packages/tornado/gen.py\u001b[0m in \u001b[0;36mrun\u001b[0;34m(self)\u001b[0m\n\u001b[1;32m   1131\u001b[0m \u001b[0;34m\u001b[0m\u001b[0m\n\u001b[1;32m   1132\u001b[0m                     \u001b[0;32mtry\u001b[0m\u001b[0;34m:\u001b[0m\u001b[0;34m\u001b[0m\u001b[0;34m\u001b[0m\u001b[0m\n\u001b[0;32m-> 1133\u001b[0;31m                         \u001b[0mvalue\u001b[0m \u001b[0;34m=\u001b[0m \u001b[0mfuture\u001b[0m\u001b[0;34m.\u001b[0m\u001b[0mresult\u001b[0m\u001b[0;34m(\u001b[0m\u001b[0;34m)\u001b[0m\u001b[0;34m\u001b[0m\u001b[0;34m\u001b[0m\u001b[0m\n\u001b[0m\u001b[1;32m   1134\u001b[0m                     \u001b[0;32mexcept\u001b[0m \u001b[0mException\u001b[0m\u001b[0;34m:\u001b[0m\u001b[0;34m\u001b[0m\u001b[0;34m\u001b[0m\u001b[0m\n\u001b[1;32m   1135\u001b[0m                         \u001b[0mself\u001b[0m\u001b[0;34m.\u001b[0m\u001b[0mhad_exception\u001b[0m \u001b[0;34m=\u001b[0m \u001b[0;32mTrue\u001b[0m\u001b[0;34m\u001b[0m\u001b[0;34m\u001b[0m\u001b[0m\n",
            "\u001b[0;32m/usr/local/lib/python3.6/dist-packages/tornado/gen.py\u001b[0m in \u001b[0;36mwrapper\u001b[0;34m(*args, **kwargs)\u001b[0m\n\u001b[1;32m    324\u001b[0m                 \u001b[0;32mtry\u001b[0m\u001b[0;34m:\u001b[0m\u001b[0;34m\u001b[0m\u001b[0;34m\u001b[0m\u001b[0m\n\u001b[1;32m    325\u001b[0m                     \u001b[0morig_stack_contexts\u001b[0m \u001b[0;34m=\u001b[0m \u001b[0mstack_context\u001b[0m\u001b[0;34m.\u001b[0m\u001b[0m_state\u001b[0m\u001b[0;34m.\u001b[0m\u001b[0mcontexts\u001b[0m\u001b[0;34m\u001b[0m\u001b[0;34m\u001b[0m\u001b[0m\n\u001b[0;32m--> 326\u001b[0;31m                     \u001b[0myielded\u001b[0m \u001b[0;34m=\u001b[0m \u001b[0mnext\u001b[0m\u001b[0;34m(\u001b[0m\u001b[0mresult\u001b[0m\u001b[0;34m)\u001b[0m\u001b[0;34m\u001b[0m\u001b[0;34m\u001b[0m\u001b[0m\n\u001b[0m\u001b[1;32m    327\u001b[0m                     \u001b[0;32mif\u001b[0m \u001b[0mstack_context\u001b[0m\u001b[0;34m.\u001b[0m\u001b[0m_state\u001b[0m\u001b[0;34m.\u001b[0m\u001b[0mcontexts\u001b[0m \u001b[0;32mis\u001b[0m \u001b[0;32mnot\u001b[0m \u001b[0morig_stack_contexts\u001b[0m\u001b[0;34m:\u001b[0m\u001b[0;34m\u001b[0m\u001b[0;34m\u001b[0m\u001b[0m\n\u001b[1;32m    328\u001b[0m                         \u001b[0myielded\u001b[0m \u001b[0;34m=\u001b[0m \u001b[0m_create_future\u001b[0m\u001b[0;34m(\u001b[0m\u001b[0;34m)\u001b[0m\u001b[0;34m\u001b[0m\u001b[0;34m\u001b[0m\u001b[0m\n",
            "\u001b[0;32m/usr/local/lib/python3.6/dist-packages/distributed/comm/utils.py\u001b[0m in \u001b[0;36mfrom_frames\u001b[0;34m(frames, deserialize, deserializers)\u001b[0m\n\u001b[1;32m     80\u001b[0m         \u001b[0mres\u001b[0m \u001b[0;34m=\u001b[0m \u001b[0;32myield\u001b[0m \u001b[0moffload\u001b[0m\u001b[0;34m(\u001b[0m\u001b[0m_from_frames\u001b[0m\u001b[0;34m)\u001b[0m\u001b[0;34m\u001b[0m\u001b[0;34m\u001b[0m\u001b[0m\n\u001b[1;32m     81\u001b[0m     \u001b[0;32melse\u001b[0m\u001b[0;34m:\u001b[0m\u001b[0;34m\u001b[0m\u001b[0;34m\u001b[0m\u001b[0m\n\u001b[0;32m---> 82\u001b[0;31m         \u001b[0mres\u001b[0m \u001b[0;34m=\u001b[0m \u001b[0m_from_frames\u001b[0m\u001b[0;34m(\u001b[0m\u001b[0;34m)\u001b[0m\u001b[0;34m\u001b[0m\u001b[0;34m\u001b[0m\u001b[0m\n\u001b[0m\u001b[1;32m     83\u001b[0m \u001b[0;34m\u001b[0m\u001b[0m\n\u001b[1;32m     84\u001b[0m     \u001b[0;32mraise\u001b[0m \u001b[0mgen\u001b[0m\u001b[0;34m.\u001b[0m\u001b[0mReturn\u001b[0m\u001b[0;34m(\u001b[0m\u001b[0mres\u001b[0m\u001b[0;34m)\u001b[0m\u001b[0;34m\u001b[0m\u001b[0;34m\u001b[0m\u001b[0m\n",
            "\u001b[0;32m/usr/local/lib/python3.6/dist-packages/distributed/comm/utils.py\u001b[0m in \u001b[0;36m_from_frames\u001b[0;34m()\u001b[0m\n\u001b[1;32m     66\u001b[0m             return protocol.loads(frames,\n\u001b[1;32m     67\u001b[0m                                   \u001b[0mdeserialize\u001b[0m\u001b[0;34m=\u001b[0m\u001b[0mdeserialize\u001b[0m\u001b[0;34m,\u001b[0m\u001b[0;34m\u001b[0m\u001b[0;34m\u001b[0m\u001b[0m\n\u001b[0;32m---> 68\u001b[0;31m                                   deserializers=deserializers)\n\u001b[0m\u001b[1;32m     69\u001b[0m         \u001b[0;32mexcept\u001b[0m \u001b[0mEOFError\u001b[0m\u001b[0;34m:\u001b[0m\u001b[0;34m\u001b[0m\u001b[0;34m\u001b[0m\u001b[0m\n\u001b[1;32m     70\u001b[0m             \u001b[0;32mif\u001b[0m \u001b[0msize\u001b[0m \u001b[0;34m>\u001b[0m \u001b[0;36m1000\u001b[0m\u001b[0;34m:\u001b[0m\u001b[0;34m\u001b[0m\u001b[0;34m\u001b[0m\u001b[0m\n",
            "\u001b[0;32m/usr/local/lib/python3.6/dist-packages/distributed/protocol/core.py\u001b[0m in \u001b[0;36mloads\u001b[0;34m(frames, deserialize, deserializers)\u001b[0m\n\u001b[1;32m    112\u001b[0m \u001b[0;34m\u001b[0m\u001b[0m\n\u001b[1;32m    113\u001b[0m         \u001b[0mheader\u001b[0m \u001b[0;34m=\u001b[0m \u001b[0mframes\u001b[0m\u001b[0;34m.\u001b[0m\u001b[0mpop\u001b[0m\u001b[0;34m(\u001b[0m\u001b[0;34m)\u001b[0m\u001b[0;34m\u001b[0m\u001b[0;34m\u001b[0m\u001b[0m\n\u001b[0;32m--> 114\u001b[0;31m         \u001b[0mheader\u001b[0m \u001b[0;34m=\u001b[0m \u001b[0mmsgpack\u001b[0m\u001b[0;34m.\u001b[0m\u001b[0mloads\u001b[0m\u001b[0;34m(\u001b[0m\u001b[0mheader\u001b[0m\u001b[0;34m,\u001b[0m \u001b[0muse_list\u001b[0m\u001b[0;34m=\u001b[0m\u001b[0;32mFalse\u001b[0m\u001b[0;34m,\u001b[0m \u001b[0;34m**\u001b[0m\u001b[0mmsgpack_opts\u001b[0m\u001b[0;34m)\u001b[0m\u001b[0;34m\u001b[0m\u001b[0;34m\u001b[0m\u001b[0m\n\u001b[0m\u001b[1;32m    115\u001b[0m         \u001b[0mkeys\u001b[0m \u001b[0;34m=\u001b[0m \u001b[0mheader\u001b[0m\u001b[0;34m[\u001b[0m\u001b[0;34m'keys'\u001b[0m\u001b[0;34m]\u001b[0m\u001b[0;34m\u001b[0m\u001b[0;34m\u001b[0m\u001b[0m\n\u001b[1;32m    116\u001b[0m         \u001b[0mheaders\u001b[0m \u001b[0;34m=\u001b[0m \u001b[0mheader\u001b[0m\u001b[0;34m[\u001b[0m\u001b[0;34m'headers'\u001b[0m\u001b[0;34m]\u001b[0m\u001b[0;34m\u001b[0m\u001b[0;34m\u001b[0m\u001b[0m\n",
            "\u001b[0;32mmsgpack/_unpacker.pyx\u001b[0m in \u001b[0;36mmsgpack._cmsgpack.unpackb\u001b[0;34m()\u001b[0m\n",
            "\u001b[0;31mValueError\u001b[0m: tuple is not allowed for map key"
          ]
        }
      ]
    },
    {
      "cell_type": "markdown",
      "metadata": {
        "id": "x88zXGEbG65b"
      },
      "source": [
        "The `chunk_size` is a parameter that may need to be adjusted to optimize the calculation. I suggest playing around with this parameter to find the optimal value. Generally I've found that a large value makes the calculation proceed quicker although it depends on the machine in use and the number of unique cutoff times. "
      ]
    },
    {
      "cell_type": "code",
      "metadata": {
        "id": "M2Rx09IfG65c"
      },
      "source": [
        "feature_matrix.head()"
      ],
      "execution_count": null,
      "outputs": []
    },
    {
      "cell_type": "markdown",
      "metadata": {
        "id": "EspyIRYzG65c"
      },
      "source": [
        "We can save these feature definitions as a binary file which will allow us to make the same exact features for another entityset of the same format. This is useful when we have multiple partitions and we want to make the same features for each. Instead of remaking the feature definitions, we pass in the same feature definitions to a call to `calculate_feature_matrix`."
      ]
    },
    {
      "cell_type": "code",
      "metadata": {
        "id": "XkYzlnTuG65c"
      },
      "source": [
        "ft.save_features(feature_defs, './data/churn/features.txt')"
      ],
      "execution_count": null,
      "outputs": []
    },
    {
      "cell_type": "code",
      "metadata": {
        "id": "5zCLG6tRG65d"
      },
      "source": [
        "feature_matrix.loc[feature_matrix['SUM(logs.num_100)'] < 10000, 'SUM(logs.num_100)'].plot.hist();\n",
        "plt.title('Sum of Number of Songs Listened to 100 %');"
      ],
      "execution_count": null,
      "outputs": []
    },
    {
      "cell_type": "code",
      "metadata": {
        "id": "s8xX5jDWG65d"
      },
      "source": [
        "feature_matrix['TOTAL_PREVIOUS_MONTH(logs.num_unq, date)'].plot.hist()\n",
        "plt.title('Number of Unique Songs Listened to in Past Month');"
      ],
      "execution_count": null,
      "outputs": []
    },
    {
      "cell_type": "code",
      "metadata": {
        "id": "UI0KpQgJG65d"
      },
      "source": [
        "feature_matrix['TOTAL_PREVIOUS_MONTH(logs.num_unq, date)'].describe()"
      ],
      "execution_count": null,
      "outputs": []
    },
    {
      "cell_type": "code",
      "metadata": {
        "id": "HRahYT7OG65d"
      },
      "source": [
        "plt.figure(figsize = (6, 8))\n",
        "sns.boxplot(y = feature_matrix['TOTAL_PREVIOUS_MONTH(logs.num_unq, date)']);"
      ],
      "execution_count": null,
      "outputs": []
    },
    {
      "cell_type": "code",
      "metadata": {
        "id": "Bvb9536EG65d"
      },
      "source": [
        "feature_defs = ft.load_features('./data/churn/features.txt')\n",
        "print(f'There are {len(feature_defs)} features.')"
      ],
      "execution_count": null,
      "outputs": []
    },
    {
      "cell_type": "markdown",
      "metadata": {
        "id": "Oj3wkDmdG65d"
      },
      "source": [
        "# Conclusions\n",
        "\n",
        "Automated feature engineering is a significant improvement over manual feature engineering in terms of both time and modeling performance. In this notebook, we implemented an automated feature engineering workflow with Featuretools for the customer churn problem. Given customer data and label times, we can now calculate a feature matrix with several hundred relevant features for predicting customer churn while ensuring that our features are made with valid data for each cutoff time. \n",
        "\n",
        "Along the way, we implemented a number of Featuretools concepts:\n",
        "\n",
        "1. An entityset and entities\n",
        "2. Relationships between entities\n",
        "3. Cutoff times\n",
        "4. Feature primitives\n",
        "5. Custom primitives\n",
        "6. Deep feature synthesis\n",
        "\n",
        "These concepts will serve us well in future machine learning projects that we can tackle with automated feature engineering.\n",
        "\n",
        "## Next Steps\n",
        "\n",
        "Although we often hear that \"data is the fuel of machine learning\", data is not exactly a fuel but more like crude oil. _Features_ are the refined product that we feed into a machine learning model to make accurate predictions. After performing prediction engineering and automated feature engineering, the next step is to use these features in a predictive model to estimate the _label_ using the _features_. \n",
        "\n",
        "Generating hundreds of features automatically is impressive, but if those features cannot allow a model to learn our prediction problem then they are not mcuch help! The next step is to use our features and labeled historical examples to train a machine learning model to make predictions of customer churn. We'll make sure to test our model using a hold-out testing set to estimate performance on new data. Then, after validating our model, we can use it on new examples by passing the data through the feature engineering process. \n",
        "\n",
        "\n",
        "If you want to see how to parallelize feature engineering in Spark, see the `Feature Engineering on Spark` notebook. Otherwise, the next notebook is `Modeling`, where we develop a machine learning model to predict churn using the historical labeled examples and the automatically engineered features."
      ]
    },
    {
      "cell_type": "code",
      "metadata": {
        "id": "G0m4K9K-G65e"
      },
      "source": [
        ""
      ],
      "execution_count": null,
      "outputs": []
    }
  ]
}