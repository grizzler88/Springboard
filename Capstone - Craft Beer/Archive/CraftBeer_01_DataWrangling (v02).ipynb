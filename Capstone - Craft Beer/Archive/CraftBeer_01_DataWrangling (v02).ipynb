{
  "nbformat": 4,
  "nbformat_minor": 0,
  "metadata": {
    "colab": {
      "name": "CraftBeer_01_DataWrangling.ipynb",
      "provenance": [],
      "authorship_tag": "ABX9TyP8VN/v2jAH4GUWQrtAap/n",
      "include_colab_link": true
    },
    "kernelspec": {
      "name": "python3",
      "display_name": "Python 3"
    }
  },
  "cells": [
    {
      "cell_type": "markdown",
      "metadata": {
        "id": "view-in-github",
        "colab_type": "text"
      },
      "source": [
        "<a href=\"https://colab.research.google.com/github/grizzler88/Springboard/blob/master/Capstone%20-%20Craft%20Beer/CraftBeer_01_DataWrangling.ipynb\" target=\"_parent\"><img src=\"https://colab.research.google.com/assets/colab-badge.svg\" alt=\"Open In Colab\"/></a>"
      ]
    },
    {
      "cell_type": "markdown",
      "metadata": {
        "id": "PSjspQHb3d6F"
      },
      "source": [
        "# Capstone 3: Craft Beer Recommendation \r\n",
        "\r\n",
        "#Data Wrangling (Part 1) "
      ]
    },
    {
      "cell_type": "markdown",
      "metadata": {
        "id": "NSwMKgayBQjb"
      },
      "source": [
        "## Import packages and load data"
      ]
    },
    {
      "cell_type": "code",
      "metadata": {
        "id": "nl5-9zqv4CP-"
      },
      "source": [
        "import pandas as pd\r\n",
        "import numpy as np\r\n",
        "import matplotlib.pyplot as plt\r\n",
        "import seaborn as sns\r\n",
        "import datetime as dt"
      ],
      "execution_count": 1,
      "outputs": []
    },
    {
      "cell_type": "code",
      "metadata": {
        "id": "xSRTzAN764dJ"
      },
      "source": [
        "reviews = pd.read_csv('beer_reviews.csv')\r\n",
        "beers = pd.read_csv('beers.csv')\r\n",
        "breweries = pd.read_csv('breweries.csv')"
      ],
      "execution_count": 2,
      "outputs": []
    },
    {
      "cell_type": "markdown",
      "metadata": {
        "id": "cWOVjOBRLlBM"
      },
      "source": [
        "## Review Datasets"
      ]
    },
    {
      "cell_type": "markdown",
      "metadata": {
        "id": "H8W5A9cxBU7V"
      },
      "source": [
        "### Reviews Dataset"
      ]
    },
    {
      "cell_type": "markdown",
      "metadata": {
        "id": "LeYSlHDeBt2x"
      },
      "source": [
        "Reviews dataset has the main information we are looking for on how customers rate each beer across a number of categoreis including:\r\n",
        "* Overall\r\n",
        "* Aroma\r\n",
        "* Appearance\r\n",
        "* Palate\r\n",
        "* Taste\r\n",
        "\r\n",
        "This also includes the time of the review and the user's profile name.\r\n",
        "\r\n",
        "The dataset also includes some information about the beer and brewery including:\r\n",
        "* Beer Name\r\n",
        "* Beer Style\r\n",
        "* Beer ABV (Alcohol by Volume)\r\n",
        "* Brewery Name"
      ]
    },
    {
      "cell_type": "code",
      "metadata": {
        "colab": {
          "base_uri": "https://localhost:8080/"
        },
        "id": "V_Wpxnos8BxA",
        "outputId": "acab8a51-e9b6-49ad-d6c7-68ccd608fb35"
      },
      "source": [
        "print('Reviews: ', reviews.shape)"
      ],
      "execution_count": 3,
      "outputs": [
        {
          "output_type": "stream",
          "text": [
            "Reviews:  (1586614, 13)\n"
          ],
          "name": "stdout"
        }
      ]
    },
    {
      "cell_type": "code",
      "metadata": {
        "id": "EoyZP2gF8Drg"
      },
      "source": [
        "#reviews.head()"
      ],
      "execution_count": 4,
      "outputs": []
    },
    {
      "cell_type": "code",
      "metadata": {
        "id": "GOBn11q6FxXf"
      },
      "source": [
        "#reviews.describe()"
      ],
      "execution_count": 5,
      "outputs": []
    },
    {
      "cell_type": "code",
      "metadata": {
        "id": "YRYWCusYVQKb"
      },
      "source": [
        "#reviews.dtypes"
      ],
      "execution_count": 6,
      "outputs": []
    },
    {
      "cell_type": "markdown",
      "metadata": {
        "id": "RRdiuvCLVeFy"
      },
      "source": [
        "#### Change Column Names"
      ]
    },
    {
      "cell_type": "markdown",
      "metadata": {
        "id": "SDsAoOPLVzxm"
      },
      "source": [
        "Update to Beer ID column to make cleaner."
      ]
    },
    {
      "cell_type": "code",
      "metadata": {
        "id": "PsWXTMU_VnFD"
      },
      "source": [
        "reviews.rename(columns={'beer_beerid':'beer_id'}, inplace=True)"
      ],
      "execution_count": 7,
      "outputs": []
    },
    {
      "cell_type": "markdown",
      "metadata": {
        "id": "9IpdYIUEUiNz"
      },
      "source": [
        "#### Format 'review_time' column"
      ]
    },
    {
      "cell_type": "markdown",
      "metadata": {
        "id": "zXcPwrgoUt9U"
      },
      "source": [
        "Date field appears to be in UNIX format which I will to convert to datetime object.\r\n",
        "\r\n",
        "Below Stack Overflow article was used to identify solution\r\n",
        "\r\n",
        "https://stackoverflow.com/questions/19231871/convert-unix-time-to-readable-date-in-pandas-dataframe "
      ]
    },
    {
      "cell_type": "code",
      "metadata": {
        "id": "yDaXxEF5UgYk"
      },
      "source": [
        "reviews['review_time'] = pd.to_datetime(reviews['review_time'], unit='s')"
      ],
      "execution_count": 8,
      "outputs": []
    },
    {
      "cell_type": "code",
      "metadata": {
        "colab": {
          "base_uri": "https://localhost:8080/"
        },
        "id": "JS6pPBGBUw7A",
        "outputId": "ea89b280-45da-4ec1-9877-f54249eae47a"
      },
      "source": [
        "reviews.head()\r\n",
        "reviews.dtypes"
      ],
      "execution_count": 9,
      "outputs": [
        {
          "output_type": "execute_result",
          "data": {
            "text/plain": [
              "brewery_id                     int64\n",
              "brewery_name                  object\n",
              "review_time           datetime64[ns]\n",
              "review_overall               float64\n",
              "review_aroma                 float64\n",
              "review_appearance            float64\n",
              "review_profilename            object\n",
              "beer_style                    object\n",
              "review_palate                float64\n",
              "review_taste                 float64\n",
              "beer_name                     object\n",
              "beer_abv                     float64\n",
              "beer_id                        int64\n",
              "dtype: object"
            ]
          },
          "metadata": {
            "tags": []
          },
          "execution_count": 9
        }
      ]
    },
    {
      "cell_type": "markdown",
      "metadata": {
        "id": "3PcnDAKGU8xy"
      },
      "source": [
        "#### Missing Values"
      ]
    },
    {
      "cell_type": "markdown",
      "metadata": {
        "id": "B8Cevc2GWKwh"
      },
      "source": [
        "Three columns have missing values associated with them - brewery_name, review_profilename, and beer_abv. \r\n",
        "\r\n",
        "We know we have additional information in the brewery and beer datasets that might be able to support with missing brewery and beer information and therefore concentrated on review_profilenames for now. For this column, we simply repalced missing values with 'n/a' to designate they were not avaialable."
      ]
    },
    {
      "cell_type": "code",
      "metadata": {
        "colab": {
          "base_uri": "https://localhost:8080/"
        },
        "id": "DhuUObyDT5iJ",
        "outputId": "c62aab05-f0f2-4b43-8794-16e712d824e3"
      },
      "source": [
        "for x in reviews:\r\n",
        "  print(x, ': ', reviews[x].isnull().sum())"
      ],
      "execution_count": 10,
      "outputs": [
        {
          "output_type": "stream",
          "text": [
            "brewery_id :  0\n",
            "brewery_name :  15\n",
            "review_time :  0\n",
            "review_overall :  0\n",
            "review_aroma :  0\n",
            "review_appearance :  0\n",
            "review_profilename :  348\n",
            "beer_style :  0\n",
            "review_palate :  0\n",
            "review_taste :  0\n",
            "beer_name :  0\n",
            "beer_abv :  67785\n",
            "beer_id :  0\n"
          ],
          "name": "stdout"
        }
      ]
    },
    {
      "cell_type": "code",
      "metadata": {
        "id": "ftflH7k5XKlF"
      },
      "source": [
        "reviews.review_profilename.fillna('n/a', inplace=True)"
      ],
      "execution_count": 11,
      "outputs": []
    },
    {
      "cell_type": "code",
      "metadata": {
        "id": "Rb9AxNgjXjvp"
      },
      "source": [
        "#reviews.beer_abv.fillna(-999, inplace=True)"
      ],
      "execution_count": 12,
      "outputs": []
    },
    {
      "cell_type": "code",
      "metadata": {
        "id": "mWvKjDOZXt8y"
      },
      "source": [
        "reviews.brewery_name.fillna('n/a', inplace=True)"
      ],
      "execution_count": 13,
      "outputs": []
    },
    {
      "cell_type": "code",
      "metadata": {
        "colab": {
          "base_uri": "https://localhost:8080/"
        },
        "id": "szPu5gLSXWvz",
        "outputId": "ff841e0f-90e6-492a-ff5a-9fdbde62a26e"
      },
      "source": [
        "for x in reviews:\r\n",
        "  print(x, ': ', reviews[x].isnull().sum())"
      ],
      "execution_count": 14,
      "outputs": [
        {
          "output_type": "stream",
          "text": [
            "brewery_id :  0\n",
            "brewery_name :  0\n",
            "review_time :  0\n",
            "review_overall :  0\n",
            "review_aroma :  0\n",
            "review_appearance :  0\n",
            "review_profilename :  0\n",
            "beer_style :  0\n",
            "review_palate :  0\n",
            "review_taste :  0\n",
            "beer_name :  0\n",
            "beer_abv :  67785\n",
            "beer_id :  0\n"
          ],
          "name": "stdout"
        }
      ]
    },
    {
      "cell_type": "markdown",
      "metadata": {
        "id": "dYrbMTHree1P"
      },
      "source": [
        "#### Tidy Text Columns"
      ]
    },
    {
      "cell_type": "markdown",
      "metadata": {
        "id": "6kazcyrNfLYv"
      },
      "source": [
        "I will look to tidy the text columns by:\r\n",
        "* Replacing all non-letter characters with a space\r\n",
        "* Putting all text into lower case\r\n",
        "\r\n",
        "Doing this will help when looking to merge datasets later and reduce chance of inability to link being due to formatting."
      ]
    },
    {
      "cell_type": "code",
      "metadata": {
        "id": "xtm-wIUteinY"
      },
      "source": [
        "reviews.beer_name = reviews.beer_name.str.replace('[^a-zA-Z0-9]', ' ').str.lower().str.strip()\r\n",
        "reviews.brewery_name = reviews.brewery_name.str.replace('[^a-zA-Z0-9]', ' ').str.lower().str.strip()\r\n",
        "reviews.review_profilename = reviews.review_profilename.str.replace('[^a-zA-Z0-9]', ' ').str.lower().str.strip()\r\n",
        "reviews.beer_style = reviews.beer_style.str.replace('[^a-zA-Z0-9]', ' ').str.lower().str.strip()"
      ],
      "execution_count": 15,
      "outputs": []
    },
    {
      "cell_type": "code",
      "metadata": {
        "id": "1hXj6A4fUKSE"
      },
      "source": [
        "#reviews[reviews['beer_name'].str.contains('[0-9]') == True].sample(10)"
      ],
      "execution_count": 16,
      "outputs": []
    },
    {
      "cell_type": "code",
      "metadata": {
        "id": "YOElngiJfHcc"
      },
      "source": [
        "#reviews.head()"
      ],
      "execution_count": 17,
      "outputs": []
    },
    {
      "cell_type": "markdown",
      "metadata": {
        "id": "PqyRehMFF_tV"
      },
      "source": [
        "### Beer Dataset"
      ]
    },
    {
      "cell_type": "markdown",
      "metadata": {
        "id": "7q66771lFUr0"
      },
      "source": [
        "The Beers dataset appears to give us some more information that is not included in the reveiws dataset regarding each beer including:\r\n",
        "* Availability\r\n",
        "* Retired\r\n",
        "* Additional Notes"
      ]
    },
    {
      "cell_type": "code",
      "metadata": {
        "colab": {
          "base_uri": "https://localhost:8080/"
        },
        "id": "NcZmhBlZXo-3",
        "outputId": "ebfcce4d-ac42-4ce9-9d00-7c9da16c617b"
      },
      "source": [
        "print('Beers: ', beers.shape)"
      ],
      "execution_count": 18,
      "outputs": [
        {
          "output_type": "stream",
          "text": [
            "Beers:  (358873, 10)\n"
          ],
          "name": "stdout"
        }
      ]
    },
    {
      "cell_type": "code",
      "metadata": {
        "id": "zjv9vvSGBGJn"
      },
      "source": [
        "#beers.head()"
      ],
      "execution_count": 19,
      "outputs": []
    },
    {
      "cell_type": "code",
      "metadata": {
        "id": "Ng8N9W-CX2jF"
      },
      "source": [
        "#beers.describe()"
      ],
      "execution_count": 20,
      "outputs": []
    },
    {
      "cell_type": "code",
      "metadata": {
        "id": "PBUBatycXyw6"
      },
      "source": [
        "#beers.dtypes"
      ],
      "execution_count": 21,
      "outputs": []
    },
    {
      "cell_type": "markdown",
      "metadata": {
        "id": "Y7pAEKrXYY9m"
      },
      "source": [
        "#### Drop Brewery-related columns"
      ]
    },
    {
      "cell_type": "markdown",
      "metadata": {
        "id": "x4rY3WSvYoKx"
      },
      "source": [
        "We will drop columns related to the brewery as we know have 'brewery_id' in the reviews dataset and brewery dataset to link this in with."
      ]
    },
    {
      "cell_type": "code",
      "metadata": {
        "id": "Oi0x9KwpYfMj"
      },
      "source": [
        "beers.drop(columns=['brewery_id', 'state', 'country'], inplace=True)"
      ],
      "execution_count": 22,
      "outputs": []
    },
    {
      "cell_type": "markdown",
      "metadata": {
        "id": "e3VR3MnmYDUP"
      },
      "source": [
        "#### Change Column Names"
      ]
    },
    {
      "cell_type": "markdown",
      "metadata": {
        "id": "7sBL5eH2ZY2G"
      },
      "source": [
        "I will update the column names to clear state they relate to beers - this is mainly for later stages to avoid potential confusion when we start merging data."
      ]
    },
    {
      "cell_type": "code",
      "metadata": {
        "id": "16RrewH1YCnR"
      },
      "source": [
        "beers.columns = ['beer_id', 'beer_name', 'beer_style', 'beer_availability', 'beer_abv', 'beer_notes', 'beer_retired']\r\n",
        "#beers.head()"
      ],
      "execution_count": 23,
      "outputs": []
    },
    {
      "cell_type": "markdown",
      "metadata": {
        "id": "KlyW9f6SZpZ_"
      },
      "source": [
        "#### Missing Data"
      ]
    },
    {
      "cell_type": "markdown",
      "metadata": {
        "id": "eJJGP77GaKBR"
      },
      "source": [
        "Three columns are missing data - beer_style, beer_abv, and beer_notes.\r\n",
        "\r\n",
        "* **beer_style:** Replaced the 1 missing value with 'n/a'.\r\n",
        "* **beer_notes:** Replaced the missing values with 'No notes at this time.' as this is the most common value for this field.\r\n",
        "* **beer_abv:** There is again a large number of missing values. I will wait to replace these untiil I merge this dataset with the Reviews dataset to see if this can help reduce the number. \r\n"
      ]
    },
    {
      "cell_type": "code",
      "metadata": {
        "colab": {
          "base_uri": "https://localhost:8080/"
        },
        "id": "AMr6eW7NZ2gV",
        "outputId": "26754899-5c00-4fd6-9c47-3d63bafbdd8d"
      },
      "source": [
        "for x in beers:\r\n",
        "  print(x, ': ', beers[x].isnull().sum())"
      ],
      "execution_count": 24,
      "outputs": [
        {
          "output_type": "stream",
          "text": [
            "beer_id :  0\n",
            "beer_name :  0\n",
            "beer_style :  1\n",
            "beer_availability :  0\n",
            "beer_abv :  38797\n",
            "beer_notes :  46\n",
            "beer_retired :  0\n"
          ],
          "name": "stdout"
        }
      ]
    },
    {
      "cell_type": "code",
      "metadata": {
        "id": "3kPUoOV_abFG"
      },
      "source": [
        "beers.beer_style.unique()\r\n",
        "beers.beer_style.fillna('n/a', inplace=True)"
      ],
      "execution_count": 25,
      "outputs": []
    },
    {
      "cell_type": "code",
      "metadata": {
        "id": "DLL2AWfya9HR"
      },
      "source": [
        "beers.beer_notes.value_counts()\r\n",
        "beers.beer_notes.fillna('No notes at this time.', inplace=True)"
      ],
      "execution_count": 26,
      "outputs": []
    },
    {
      "cell_type": "code",
      "metadata": {
        "id": "QtZWTOpJa9av"
      },
      "source": [
        "#beers.beer_abv.fillna(-999, inplace=True)"
      ],
      "execution_count": 27,
      "outputs": []
    },
    {
      "cell_type": "code",
      "metadata": {
        "colab": {
          "base_uri": "https://localhost:8080/"
        },
        "id": "NjAaqLkacyRm",
        "outputId": "faf815f9-cd2f-4e73-e162-2df8862721e1"
      },
      "source": [
        "for x in beers:\r\n",
        "  print(x, ': ', beers[x].isnull().sum())"
      ],
      "execution_count": 28,
      "outputs": [
        {
          "output_type": "stream",
          "text": [
            "beer_id :  0\n",
            "beer_name :  0\n",
            "beer_style :  0\n",
            "beer_availability :  0\n",
            "beer_abv :  38797\n",
            "beer_notes :  0\n",
            "beer_retired :  0\n"
          ],
          "name": "stdout"
        }
      ]
    },
    {
      "cell_type": "markdown",
      "metadata": {
        "id": "_Tc5ASJQdXht"
      },
      "source": [
        "#### Tidy Text Columns"
      ]
    },
    {
      "cell_type": "markdown",
      "metadata": {
        "id": "G0YdBhmOf8FV"
      },
      "source": [
        "Again, I tidied the text columns by:\r\n",
        "* Replacing all non-letter characters with a space\r\n",
        "* Putting all text into lower case\r\n",
        "\r\n",
        "Doing this will help when looking to merge datasets later and reduce chance of inability to link being due to formatting."
      ]
    },
    {
      "cell_type": "code",
      "metadata": {
        "id": "KVVxiaa-dnUg"
      },
      "source": [
        "beers.beer_name = beers.beer_name.str.replace('[^a-zA-Z0-9]', ' ').str.lower().str.strip()\r\n",
        "beers.beer_style = beers.beer_style.str.replace('[^a-zA-Z0-9]', ' ').str.lower().str.strip()\r\n",
        "beers.beer_notes = beers.beer_notes.str.replace('[^a-zA-Z0-9]', ' ').str.lower().str.strip()\r\n",
        "beers.beer_availability = beers.beer_availability.str.replace('[^a-zA-Z0-9]', ' ').str.lower().str.strip()"
      ],
      "execution_count": 29,
      "outputs": []
    },
    {
      "cell_type": "code",
      "metadata": {
        "id": "0gBgXPuFeKgq"
      },
      "source": [
        "#beers.head()"
      ],
      "execution_count": 30,
      "outputs": []
    },
    {
      "cell_type": "code",
      "metadata": {
        "id": "taG5mR5_eQde"
      },
      "source": [
        "#beers.beer_notes.value_counts()"
      ],
      "execution_count": 31,
      "outputs": []
    },
    {
      "cell_type": "markdown",
      "metadata": {
        "id": "nG48KjucGCl9"
      },
      "source": [
        "### Brewery Dataset"
      ]
    },
    {
      "cell_type": "markdown",
      "metadata": {
        "id": "BNTfUwbkFeZB"
      },
      "source": [
        "The Brewery dataset gives us more information on the brewery:\r\n",
        "* City\r\n",
        "* State\r\n",
        "* Country\r\n",
        "* Brewery Type\r\n",
        "* Additional Notes"
      ]
    },
    {
      "cell_type": "code",
      "metadata": {
        "colab": {
          "base_uri": "https://localhost:8080/"
        },
        "id": "8RAx3sBqgPYb",
        "outputId": "3075c799-002b-4e3a-8dee-88a5ab56d182"
      },
      "source": [
        "print('Breweries: ', breweries.shape)"
      ],
      "execution_count": 32,
      "outputs": [
        {
          "output_type": "stream",
          "text": [
            "Breweries:  (50347, 7)\n"
          ],
          "name": "stdout"
        }
      ]
    },
    {
      "cell_type": "code",
      "metadata": {
        "id": "iKqL7eWXBKvq"
      },
      "source": [
        "#breweries.head()"
      ],
      "execution_count": 33,
      "outputs": []
    },
    {
      "cell_type": "code",
      "metadata": {
        "id": "ZkbnaRq6gfKn"
      },
      "source": [
        "#breweries.describe()\r\n",
        "#breweries.dtypes"
      ],
      "execution_count": 34,
      "outputs": []
    },
    {
      "cell_type": "markdown",
      "metadata": {
        "id": "Vsi3JhhUgrOF"
      },
      "source": [
        "#### Change Column Names"
      ]
    },
    {
      "cell_type": "markdown",
      "metadata": {
        "id": "_UTMr2E_hBIn"
      },
      "source": [
        "I'll update the column names os that they reflect that they relate to brewery information to avoid confusion later when looking to merge datasets."
      ]
    },
    {
      "cell_type": "code",
      "metadata": {
        "colab": {
          "base_uri": "https://localhost:8080/",
          "height": 0
        },
        "id": "fVTXvXLmgukS",
        "outputId": "ab7e4109-7f47-4268-9ca8-9a250b4ddce9"
      },
      "source": [
        "breweries.columns = ['brewery_id', 'brewery_name', 'brewery_city', 'brewery_state', 'brewery_country', 'brewery_notes', 'brewery_types']\r\n",
        "breweries.head()"
      ],
      "execution_count": 35,
      "outputs": [
        {
          "output_type": "execute_result",
          "data": {
            "text/html": [
              "<div>\n",
              "<style scoped>\n",
              "    .dataframe tbody tr th:only-of-type {\n",
              "        vertical-align: middle;\n",
              "    }\n",
              "\n",
              "    .dataframe tbody tr th {\n",
              "        vertical-align: top;\n",
              "    }\n",
              "\n",
              "    .dataframe thead th {\n",
              "        text-align: right;\n",
              "    }\n",
              "</style>\n",
              "<table border=\"1\" class=\"dataframe\">\n",
              "  <thead>\n",
              "    <tr style=\"text-align: right;\">\n",
              "      <th></th>\n",
              "      <th>brewery_id</th>\n",
              "      <th>brewery_name</th>\n",
              "      <th>brewery_city</th>\n",
              "      <th>brewery_state</th>\n",
              "      <th>brewery_country</th>\n",
              "      <th>brewery_notes</th>\n",
              "      <th>brewery_types</th>\n",
              "    </tr>\n",
              "  </thead>\n",
              "  <tbody>\n",
              "    <tr>\n",
              "      <th>0</th>\n",
              "      <td>19730</td>\n",
              "      <td>Brouwerij Danny</td>\n",
              "      <td>Erpe-Mere</td>\n",
              "      <td>NaN</td>\n",
              "      <td>BE</td>\n",
              "      <td>No notes at this time.</td>\n",
              "      <td>Brewery</td>\n",
              "    </tr>\n",
              "    <tr>\n",
              "      <th>1</th>\n",
              "      <td>32541</td>\n",
              "      <td>Coachella Valley Brewing Co</td>\n",
              "      <td>Thousand Palms</td>\n",
              "      <td>CA</td>\n",
              "      <td>US</td>\n",
              "      <td>No notes at this time.</td>\n",
              "      <td>Brewery, Bar, Beer-to-go</td>\n",
              "    </tr>\n",
              "    <tr>\n",
              "      <th>2</th>\n",
              "      <td>44736</td>\n",
              "      <td>Beef 'O' Brady's</td>\n",
              "      <td>Plant City</td>\n",
              "      <td>FL</td>\n",
              "      <td>US</td>\n",
              "      <td>No notes at this time.</td>\n",
              "      <td>Bar, Eatery</td>\n",
              "    </tr>\n",
              "    <tr>\n",
              "      <th>3</th>\n",
              "      <td>23372</td>\n",
              "      <td>Broadway Wine Merchant</td>\n",
              "      <td>Oklahoma City</td>\n",
              "      <td>OK</td>\n",
              "      <td>US</td>\n",
              "      <td>No notes at this time.</td>\n",
              "      <td>Store</td>\n",
              "    </tr>\n",
              "    <tr>\n",
              "      <th>4</th>\n",
              "      <td>35328</td>\n",
              "      <td>Brighton Beer Dispensary (DUPLICATE)</td>\n",
              "      <td>Brighton</td>\n",
              "      <td>GB2</td>\n",
              "      <td>GB</td>\n",
              "      <td>Duplicate of https://www.beeradvocate.com/beer...</td>\n",
              "      <td>Bar, Eatery</td>\n",
              "    </tr>\n",
              "  </tbody>\n",
              "</table>\n",
              "</div>"
            ],
            "text/plain": [
              "   brewery_id  ...             brewery_types\n",
              "0       19730  ...                   Brewery\n",
              "1       32541  ...  Brewery, Bar, Beer-to-go\n",
              "2       44736  ...               Bar, Eatery\n",
              "3       23372  ...                     Store\n",
              "4       35328  ...               Bar, Eatery\n",
              "\n",
              "[5 rows x 7 columns]"
            ]
          },
          "metadata": {
            "tags": []
          },
          "execution_count": 35
        }
      ]
    },
    {
      "cell_type": "markdown",
      "metadata": {
        "id": "FrIKfpquhPhE"
      },
      "source": [
        "#### Missing Data"
      ]
    },
    {
      "cell_type": "code",
      "metadata": {
        "colab": {
          "base_uri": "https://localhost:8080/"
        },
        "id": "JyPnxiG9hSFz",
        "outputId": "9eee0c5f-9553-4fa7-908f-6e270193ba9d"
      },
      "source": [
        "for x in breweries:\r\n",
        "  print(x, ': ', breweries[x].isnull().sum())"
      ],
      "execution_count": 36,
      "outputs": [
        {
          "output_type": "stream",
          "text": [
            "brewery_id :  0\n",
            "brewery_name :  0\n",
            "brewery_city :  58\n",
            "brewery_state :  11271\n",
            "brewery_country :  6\n",
            "brewery_notes :  85\n",
            "brewery_types :  0\n"
          ],
          "name": "stdout"
        }
      ]
    },
    {
      "cell_type": "markdown",
      "metadata": {
        "id": "UVUeHQfPNj2v"
      },
      "source": [
        "##### Brewery Country"
      ]
    },
    {
      "cell_type": "markdown",
      "metadata": {
        "id": "FBJOAfsoNnuH"
      },
      "source": [
        "Looked at 6 rows with null values on country name to see if possible to impute from information available.\r\n",
        "* Four rows related to Namibian ciites of Windhoek and Swakopmund so updated country to reflect this\r\n",
        "* Did Google search on names of other two breweries to imput information on their location"
      ]
    },
    {
      "cell_type": "code",
      "metadata": {
        "colab": {
          "base_uri": "https://localhost:8080/",
          "height": 0
        },
        "id": "1-nvlLWYhjtW",
        "outputId": "13537eac-7d24-432a-a467-03fe0db3f8e6"
      },
      "source": [
        "breweries[breweries.brewery_country.isnull()]"
      ],
      "execution_count": 37,
      "outputs": [
        {
          "output_type": "execute_result",
          "data": {
            "text/html": [
              "<div>\n",
              "<style scoped>\n",
              "    .dataframe tbody tr th:only-of-type {\n",
              "        vertical-align: middle;\n",
              "    }\n",
              "\n",
              "    .dataframe tbody tr th {\n",
              "        vertical-align: top;\n",
              "    }\n",
              "\n",
              "    .dataframe thead th {\n",
              "        text-align: right;\n",
              "    }\n",
              "</style>\n",
              "<table border=\"1\" class=\"dataframe\">\n",
              "  <thead>\n",
              "    <tr style=\"text-align: right;\">\n",
              "      <th></th>\n",
              "      <th>brewery_id</th>\n",
              "      <th>brewery_name</th>\n",
              "      <th>brewery_city</th>\n",
              "      <th>brewery_state</th>\n",
              "      <th>brewery_country</th>\n",
              "      <th>brewery_notes</th>\n",
              "      <th>brewery_types</th>\n",
              "    </tr>\n",
              "  </thead>\n",
              "  <tbody>\n",
              "    <tr>\n",
              "      <th>9915</th>\n",
              "      <td>1722</td>\n",
              "      <td>Namibia Breweries Limited</td>\n",
              "      <td>Windhoek</td>\n",
              "      <td>NaN</td>\n",
              "      <td>NaN</td>\n",
              "      <td>No notes at this time.</td>\n",
              "      <td>Brewery</td>\n",
              "    </tr>\n",
              "    <tr>\n",
              "      <th>29270</th>\n",
              "      <td>41084</td>\n",
              "      <td>Brew Craft Namibia / Das Brücken Haus</td>\n",
              "      <td>Windhoek</td>\n",
              "      <td>NaN</td>\n",
              "      <td>NaN</td>\n",
              "      <td>No notes at this time.</td>\n",
              "      <td>Brewery, Bar, Homebrew, Beer-to-go</td>\n",
              "    </tr>\n",
              "    <tr>\n",
              "      <th>30314</th>\n",
              "      <td>11016</td>\n",
              "      <td>Privatbrauerei Josef / Trumer Brauerei</td>\n",
              "      <td>NaN</td>\n",
              "      <td>NaN</td>\n",
              "      <td>NaN</td>\n",
              "      <td>No notes at this time.</td>\n",
              "      <td>Brewery</td>\n",
              "    </tr>\n",
              "    <tr>\n",
              "      <th>31869</th>\n",
              "      <td>1723</td>\n",
              "      <td>Hansa Brauerei / Namibia Breweries</td>\n",
              "      <td>Swakopmund</td>\n",
              "      <td>NaN</td>\n",
              "      <td>NaN</td>\n",
              "      <td>At least some of the beer is contract brewed b...</td>\n",
              "      <td>Brewery</td>\n",
              "    </tr>\n",
              "    <tr>\n",
              "      <th>38980</th>\n",
              "      <td>20786</td>\n",
              "      <td>Camelthorn Brewing Company Ltd</td>\n",
              "      <td>Windhoek</td>\n",
              "      <td>NaN</td>\n",
              "      <td>NaN</td>\n",
              "      <td>No notes at this time.</td>\n",
              "      <td>Brewery</td>\n",
              "    </tr>\n",
              "    <tr>\n",
              "      <th>45345</th>\n",
              "      <td>18989</td>\n",
              "      <td>Barley's Brewing Company</td>\n",
              "      <td>NaN</td>\n",
              "      <td>NaN</td>\n",
              "      <td>NaN</td>\n",
              "      <td>No notes at this time.</td>\n",
              "      <td>Brewery</td>\n",
              "    </tr>\n",
              "  </tbody>\n",
              "</table>\n",
              "</div>"
            ],
            "text/plain": [
              "       brewery_id  ...                       brewery_types\n",
              "9915         1722  ...                             Brewery\n",
              "29270       41084  ...  Brewery, Bar, Homebrew, Beer-to-go\n",
              "30314       11016  ...                             Brewery\n",
              "31869        1723  ...                             Brewery\n",
              "38980       20786  ...                             Brewery\n",
              "45345       18989  ...                             Brewery\n",
              "\n",
              "[6 rows x 7 columns]"
            ]
          },
          "metadata": {
            "tags": []
          },
          "execution_count": 37
        }
      ]
    },
    {
      "cell_type": "code",
      "metadata": {
        "id": "8gMFHkPAh-JX"
      },
      "source": [
        "breweries['brewery_country'] = np.where((breweries.brewery_city == 'Windhoek'),'NA',breweries.brewery_country)\r\n",
        "breweries['brewery_country'] = np.where((breweries.brewery_city == 'Swakopmund'),'NA',breweries.brewery_country)\r\n",
        "\r\n",
        "breweries['brewery_city'] = np.where((breweries.brewery_name == \"Barley's Brewing Company\"), \"Columbus\" ,breweries.brewery_city)\r\n",
        "breweries['brewery_state'] = np.where((breweries.brewery_name == \"Barley's Brewing Company\"), \"OH\" ,breweries.brewery_state)\r\n",
        "breweries['brewery_country'] = np.where((breweries.brewery_name == \"Barley's Brewing Company\"), \"US\" ,breweries.brewery_country)\r\n",
        "\r\n",
        "breweries['brewery_city'] = np.where((breweries.brewery_name == \"Privatbrauerei Josef / Trumer Brauerei\"), \"Salzburg\" ,breweries.brewery_city)\r\n",
        "breweries['brewery_country'] = np.where((breweries.brewery_name == \"Privatbrauerei Josef / Trumer Brauerei\"), \"AT\" ,breweries.brewery_country)"
      ],
      "execution_count": 38,
      "outputs": []
    },
    {
      "cell_type": "code",
      "metadata": {
        "id": "OlgbPhbtHy3t"
      },
      "source": [
        "#breweries[breweries.brewery_country.isnull()]"
      ],
      "execution_count": 39,
      "outputs": []
    },
    {
      "cell_type": "code",
      "metadata": {
        "id": "WZWOlgLiH4sJ"
      },
      "source": [
        "#breweries[breweries.brewery_country == 'NA']"
      ],
      "execution_count": 40,
      "outputs": []
    },
    {
      "cell_type": "code",
      "metadata": {
        "id": "4wGGYEx9LpL6"
      },
      "source": [
        "#breweries[breweries.brewery_name == \"Barley's Brewing Company\"]"
      ],
      "execution_count": 41,
      "outputs": []
    },
    {
      "cell_type": "code",
      "metadata": {
        "id": "c8iPzFXPMEOw"
      },
      "source": [
        "#breweries[breweries.brewery_name == \"Privatbrauerei Josef / Trumer Brauerei\"]"
      ],
      "execution_count": 42,
      "outputs": []
    },
    {
      "cell_type": "markdown",
      "metadata": {
        "id": "PDL27KBhOM7d"
      },
      "source": [
        "##### Brewery City"
      ]
    },
    {
      "cell_type": "markdown",
      "metadata": {
        "id": "lM1BLkq3BSR4"
      },
      "source": [
        "For brewery_city column, I went through the list of 58 null values to see if these could be identified through searching the brewery name. For US breweries, I inputted the brewery_state also."
      ]
    },
    {
      "cell_type": "code",
      "metadata": {
        "id": "FYBUL34BR67C"
      },
      "source": [
        "#breweries[breweries.brewery_city.isnull()]"
      ],
      "execution_count": 43,
      "outputs": []
    },
    {
      "cell_type": "code",
      "metadata": {
        "id": "QBuE353APJrR"
      },
      "source": [
        "breweries['brewery_city'] = np.where((breweries.brewery_name == \"Hops! La Fabbrica della Birra\"), \"Reggio Emilia\" ,breweries.brewery_city)\r\n",
        "\r\n",
        "breweries['brewery_city'] = np.where((breweries.brewery_name == \"Big Buck Brewery & Steakhouse\"), \"Gaylord\" ,breweries.brewery_city)\r\n",
        "breweries['brewery_state'] = np.where((breweries.brewery_name == \"Big Buck Brewery & Steakhouse\"), \"MI\" ,breweries.brewery_state)\r\n",
        "\r\n",
        "breweries['brewery_city'] = np.where((breweries.brewery_name == \"Tooheys Brewing\"), \"Sydney\" ,breweries.brewery_city)\r\n",
        "\r\n",
        "breweries['brewery_city'] = np.where((breweries.brewery_name == \"New Zealand Breweries Limited\"), \"Auckland\" ,breweries.brewery_city)\r\n",
        "\r\n",
        "breweries['brewery_city'] = np.where((breweries.brewery_name == \"Sebago Brewing Company\"), \"Scarborough\" ,breweries.brewery_city)\r\n",
        "breweries['brewery_state'] = np.where((breweries.brewery_name == \"Sebago Brewing Company\"), \"ME\" ,breweries.brewery_state)\r\n",
        "\r\n",
        "breweries['brewery_city'] = np.where((breweries.brewery_name == \"Weeping Radish Brewery & Bavarian Restaurant\"), \"Grandy\" ,breweries.brewery_city)\r\n",
        "breweries['brewery_state'] = np.where((breweries.brewery_name == \"Weeping Radish Brewery & Bavarian Restaurant\"), \"NC\" ,breweries.brewery_state)\r\n",
        "\r\n",
        "breweries['brewery_city'] = np.where((breweries.brewery_name == \"Frog Pubs\"), \"Paris\" ,breweries.brewery_city)\r\n",
        "\r\n",
        "breweries['brewery_city'] = np.where((breweries.brewery_name == \"3er Tiempo Tienda De Cervezas\"), \"Santander\" ,breweries.brewery_city)"
      ],
      "execution_count": 44,
      "outputs": []
    },
    {
      "cell_type": "code",
      "metadata": {
        "id": "VQL4RoK3TzbB"
      },
      "source": [
        "breweries['brewery_city'] = np.where((breweries.brewery_name == \"Shipyard Brewing Co.\"), \"Portland\" ,breweries.brewery_city)\r\n",
        "breweries['brewery_state'] = np.where((breweries.brewery_name == \"Shipyard Brewing Co.\"), \"ME\" ,breweries.brewery_state)\r\n",
        "\r\n",
        "breweries['brewery_city'] = np.where((breweries.brewery_name == \"Tinkoff Brewery\"), \"St. Petersburg\" ,breweries.brewery_city)\r\n",
        "\r\n",
        "breweries['brewery_city'] = np.where((breweries.brewery_name == \"Tied House Cafe & Brewery\"), \"Mountain View\" ,breweries.brewery_city)\r\n",
        "breweries['brewery_state'] = np.where((breweries.brewery_name == \"Tied House Cafe & Brewery\"), \"CA\" ,breweries.brewery_state)\r\n",
        "\r\n",
        "breweries['brewery_city'] = np.where((breweries.brewery_name == \"Cerveza De Cuba\"), \"Havana\" ,breweries.brewery_city)\r\n",
        "\r\n",
        "breweries['brewery_city'] = np.where((breweries.brewery_name == \"Steelhead Brewing Co.\"), \"Eugene\" ,breweries.brewery_city)\r\n",
        "breweries['brewery_state'] = np.where((breweries.brewery_name == \"Steelhead Brewing Co.\"), \"OR\" ,breweries.brewery_state)\r\n",
        "\r\n",
        "breweries['brewery_city'] = np.where((breweries.brewery_name == \"Hops Grillhouse & Brewery\"), \"Alexandria\" ,breweries.brewery_city)\r\n",
        "breweries['brewery_state'] = np.where((breweries.brewery_name == \"Hops Grillhouse & Brewery\"), \"VA\" ,breweries.brewery_state)\r\n",
        "\r\n",
        "breweries['brewery_city'] = np.where((breweries.brewery_name == \"Lübeck Cerveja\"), \"Sao Paulo\" ,breweries.brewery_city)\r\n",
        "\r\n",
        "breweries['brewery_city'] = np.where((breweries.brewery_name == \"Iron Hill Brewery & Restaurant\"), \"Exton\" ,breweries.brewery_city)\r\n",
        "breweries['brewery_state'] = np.where((breweries.brewery_name == \"Iron Hill Brewery & Restaurant\"), \"PA\" ,breweries.brewery_state)\r\n",
        "\r\n",
        "breweries['brewery_city'] = np.where((breweries.brewery_name == \"Brewlander & Co.\"), \"Singapore\" ,breweries.brewery_city)"
      ],
      "execution_count": 45,
      "outputs": []
    },
    {
      "cell_type": "code",
      "metadata": {
        "id": "EotmqktiYvD3"
      },
      "source": [
        "breweries['brewery_city'] = np.where((breweries.brewery_name == \"Triumph Brewing\"), \"Princeton\" ,breweries.brewery_city)\r\n",
        "breweries['brewery_state'] = np.where((breweries.brewery_name == \"Triumph Brewing\"), \"NJ\" ,breweries.brewery_state)\r\n",
        "\r\n",
        "breweries['brewery_city'] = np.where((breweries.brewery_name == \"Stingray Brewery\"), \"Grand Cayman\" ,breweries.brewery_city)\r\n",
        "\r\n",
        "breweries['brewery_city'] = np.where((breweries.brewery_name == \"Ram International / Humperdinks Restaurant and Big Horn Brewing\"), \"Lakewood\" ,breweries.brewery_city)\r\n",
        "breweries['brewery_state'] = np.where((breweries.brewery_name == \"Ram International / Humperdinks Restaurant and Big Horn Brewing\"), \"WA\" ,breweries.brewery_state)\r\n",
        "\r\n",
        "breweries['brewery_city'] = np.where((breweries.brewery_name == \"Liberty Steakhouse Brewery\"), \"Myrtle Beach\" ,breweries.brewery_city)\r\n",
        "breweries['brewery_state'] = np.where((breweries.brewery_name == \"Liberty Steakhouse Brewery\"), \"SC\" ,breweries.brewery_state)\r\n",
        "\r\n",
        "breweries['brewery_city'] = np.where((breweries.brewery_name == \"K&L Italian Beers Manufacturing\"), \"Veneto\" ,breweries.brewery_city)\r\n",
        "\r\n",
        "breweries['brewery_city'] = np.where((breweries.brewery_name == \"Barley's Smokehouse and Brewpub\"), \"Columbus\" ,breweries.brewery_city)\r\n",
        "breweries['brewery_state'] = np.where((breweries.brewery_name == \"Barley's Smokehouse and Brewpub\"), \"OH\" ,breweries.brewery_state)\r\n",
        "\r\n",
        "breweries['brewery_city'] = np.where((breweries.brewery_name == \"Granite City Food & Brewery\"), \"Minnetonka\" ,breweries.brewery_city)\r\n",
        "breweries['brewery_state'] = np.where((breweries.brewery_name == \"Granite City Food & Brewery\"), \"MN\" ,breweries.brewery_state)\r\n",
        "\r\n",
        "breweries['brewery_city'] = np.where((breweries.brewery_name == \"Hereford & Hops Restaurant & Brewpub\"), \"Escanaba\" ,breweries.brewery_city)\r\n",
        "breweries['brewery_state'] = np.where((breweries.brewery_name == \"Hereford & Hops Restaurant & Brewpub\"), \"MI\" ,breweries.brewery_state)\r\n",
        "\r\n",
        "breweries['brewery_city'] = np.where((breweries.brewery_name == \"Jacob Leinenkugel Brewing Co.\"), \"Chippewa Falls\" ,breweries.brewery_city)\r\n",
        "breweries['brewery_state'] = np.where((breweries.brewery_name == \"Jacob Leinenkugel Brewing Co.\"), \"WI\" ,breweries.brewery_state)\r\n",
        "\r\n",
        "breweries['brewery_city'] = np.where((breweries.brewery_name == \"Verhovinska Pivovarnya\"), \"Verkhovyna\" ,breweries.brewery_city)\r\n",
        "\r\n",
        "breweries['brewery_city'] = np.where((breweries.brewery_name == \"Empire Brewing Company\"), \"Syracuse\" ,breweries.brewery_city)\r\n",
        "breweries['brewery_state'] = np.where((breweries.brewery_name == \"Empire Brewing Company\"), \"NY\" ,breweries.brewery_state)\r\n",
        "\r\n",
        "breweries['brewery_city'] = np.where((breweries.brewery_name == \"Two Rows Breweries & Grills\"), \"Allen\" ,breweries.brewery_city)\r\n",
        "breweries['brewery_state'] = np.where((breweries.brewery_name == \"Two Rows Breweries & Grills\"), \"TX\" ,breweries.brewery_state)"
      ],
      "execution_count": 46,
      "outputs": []
    },
    {
      "cell_type": "code",
      "metadata": {
        "id": "kSayhct4yzLF"
      },
      "source": [
        "breweries['brewery_city'] = np.where((breweries.brewery_name == \"Fat Sparrow\"), \"Liérganes\" ,breweries.brewery_city)\r\n",
        "\r\n",
        "breweries['brewery_city'] = np.where((breweries.brewery_name == \"La Arboleda Cervecería Artesanal\"), \"San José\" ,breweries.brewery_city)\r\n",
        "\r\n",
        "breweries['brewery_city'] = np.where((breweries.brewery_name == \"Full Sail Brewing Company\"), \"Hood River\" ,breweries.brewery_city)\r\n",
        "breweries['brewery_state'] = np.where((breweries.brewery_name == \"Full Sail Brewing Company\"), \"OR\" ,breweries.brewery_state)\r\n",
        "\r\n",
        "breweries['brewery_city'] = np.where((breweries.brewery_name == \"Mac's Brewery\"), \"Wellington\" ,breweries.brewery_city)\r\n",
        "\r\n",
        "breweries['brewery_city'] = np.where((breweries.brewery_name == \"Utah Brewers Cooperative\"), \"Salt Lake City\" ,breweries.brewery_city)\r\n",
        "\r\n",
        "breweries['brewery_city'] = np.where((breweries.brewery_name == \"E & O Trading Company\"), \"San Francisco\" ,breweries.brewery_city)\r\n",
        "breweries['brewery_state'] = np.where((breweries.brewery_name == \"E & O Trading Company\"), \"CA\" ,breweries.brewery_state)\r\n",
        "\r\n",
        "breweries['brewery_city'] = np.where((breweries.brewery_name == \"Capitol City Brewing Company\"), \"Washington DC\" ,breweries.brewery_city)\r\n",
        "breweries['brewery_state'] = np.where((breweries.brewery_name == \"Capitol City Brewing Company\"), \"DC\" ,breweries.brewery_state)\r\n",
        "\r\n",
        "breweries['brewery_city'] = np.where((breweries.brewery_name == \"Il Vicino Wood Oven Pizza and Brewery\"), \"Wichita\" ,breweries.brewery_city)\r\n",
        "breweries['brewery_state'] = np.where((breweries.brewery_name == \"Il Vicino Wood Oven Pizza and Brewery\"), \"KS\" ,breweries.brewery_state)\r\n",
        "\r\n",
        "breweries['brewery_city'] = np.where((breweries.brewery_name == \"Cliff Top Brewing Company\"), \"Bocholt\" ,breweries.brewery_city)\r\n",
        "\r\n",
        "breweries['brewery_city'] = np.where((breweries.brewery_name == \"Brew Moon Restaurant & Microbrewery\"), \"Honolulu\" ,breweries.brewery_city)\r\n",
        "breweries['brewery_state'] = np.where((breweries.brewery_name == \"Brew Moon Restaurant & Microbrewery\"), \"HI\" ,breweries.brewery_state)\r\n",
        "\r\n",
        "breweries['brewery_city'] = np.where((breweries.brewery_name == \"Prague Breweries Group\"), \"Prague\" ,breweries.brewery_city)\r\n",
        "\r\n",
        "breweries['brewery_city'] = np.where((breweries.brewery_name == \"Blue Corn Cafe and Brewery\"), \"Santa Fe\" ,breweries.brewery_city)\r\n",
        "breweries['brewery_state'] = np.where((breweries.brewery_name == \"Blue Corn Cafe and Brewery\"), \"NM\" ,breweries.brewery_state)\r\n",
        "\r\n",
        "breweries['brewery_city'] = np.where((breweries.brewery_name == \"Buckhead Brewery and Grill\"), \"Stockbridge\" ,breweries.brewery_city)\r\n",
        "breweries['brewery_state'] = np.where((breweries.brewery_name == \"Buckhead Brewery and Grill\"), \"GA\" ,breweries.brewery_state)"
      ],
      "execution_count": 47,
      "outputs": []
    },
    {
      "cell_type": "code",
      "metadata": {
        "id": "Yd_HSu1P64Ck"
      },
      "source": [
        "breweries['brewery_city'] = np.where((breweries.brewery_name == \"Paulista Brewery\"), \"Sao Paulo\" ,breweries.brewery_city)\r\n",
        "\r\n",
        "breweries['brewery_city'] = np.where((breweries.brewery_name == \"Mendocino Brewing Company\"), \"Ukiah\" ,breweries.brewery_city)\r\n",
        "breweries['brewery_state'] = np.where((breweries.brewery_name == \"Mendocino Brewing Company\"), \"CA\" ,breweries.brewery_state)\r\n",
        "\r\n",
        "breweries['brewery_city'] = np.where((breweries.brewery_name == \"Rock Bottom Restaurant & Brewery\"), \"San Jose\" ,breweries.brewery_city)\r\n",
        "breweries['brewery_state'] = np.where((breweries.brewery_name == \"Rock Bottom Restaurant & Brewery\"), \"CA\" ,breweries.brewery_state)\r\n",
        "\r\n",
        "breweries['brewery_city'] = np.where((breweries.brewery_name == \"Bokkereyder\"), \"Hasselt\" ,breweries.brewery_city)\r\n",
        "\r\n",
        "breweries['brewery_city'] = np.where((breweries.brewery_name == \"Bedele Brewery\"), \"Addis Ababa\" ,breweries.brewery_city)\r\n",
        "\r\n",
        "breweries['brewery_city'] = np.where((breweries.brewery_name == \"Snake River Brewing\"), \"Jackson\" ,breweries.brewery_city)\r\n",
        "breweries['brewery_state'] = np.where((breweries.brewery_name == \"Snake River Brewing\"), \"WY\" ,breweries.brewery_state)\r\n",
        "\r\n",
        "breweries['brewery_city'] = np.where((breweries.brewery_name == \"McMenamins\"), \"Portland\" ,breweries.brewery_city)\r\n",
        "breweries['brewery_state'] = np.where((breweries.brewery_name == \"McMenamins\"), \"OR\" ,breweries.brewery_state)\r\n",
        "\r\n",
        "breweries['brewery_city'] = np.where((breweries.brewery_name == \"Gordon Biersch Brewery Restaurant\"), \"Las Vegas\" ,breweries.brewery_city)\r\n",
        "breweries['brewery_state'] = np.where((breweries.brewery_name == \"Gordon Biersch Brewery Restaurant\"), \"NV\" ,breweries.brewery_state)\r\n",
        "\r\n",
        "breweries['brewery_city'] = np.where((breweries.brewery_name == \"BJ's Chicago Pizza & Brewery Inc.\"), \"Huntington Beach\" ,breweries.brewery_city)\r\n",
        "breweries['brewery_state'] = np.where((breweries.brewery_name == \"BJ's Chicago Pizza & Brewery Inc.\"), \"CA\" ,breweries.brewery_state)\r\n",
        "\r\n",
        "breweries['brewery_city'] = np.where((breweries.brewery_name == \"Sonora Brewing Company\"), \"Sonora\" ,breweries.brewery_city)\r\n",
        "breweries['brewery_state'] = np.where((breweries.brewery_name == \"Sonora Brewing Company\"), \"CA\" ,breweries.brewery_state)\r\n",
        "\r\n",
        "breweries['brewery_city'] = np.where((breweries.brewery_name == \"Thirsty Dog Brewing Company\"), \"Akron\" ,breweries.brewery_city)\r\n",
        "breweries['brewery_state'] = np.where((breweries.brewery_name == \"Thirsty Dog Brewing Company\"), \"OH\" ,breweries.brewery_state)\r\n",
        "\r\n",
        "breweries['brewery_city'] = np.where((breweries.brewery_name == \"Bennett's Bar & Lounge\"), \"Ardcath\" ,breweries.brewery_city)\r\n",
        "\r\n",
        "breweries['brewery_city'] = np.where((breweries.brewery_name == \"Utenos Alus\"), \"Utena\" ,breweries.brewery_city)\r\n",
        "\r\n",
        "breweries['brewery_city'] = np.where((breweries.brewery_name == \"Sea Dog Brewing Company\"), \"Bangor\" ,breweries.brewery_city)\r\n",
        "breweries['brewery_state'] = np.where((breweries.brewery_name == \"Sea Dog Brewing Company\"), \"ME\" ,breweries.brewery_state)"
      ],
      "execution_count": 48,
      "outputs": []
    },
    {
      "cell_type": "code",
      "metadata": {
        "id": "NALZpynwORDL"
      },
      "source": [
        "#breweries[breweries.brewery_city.isnull()]"
      ],
      "execution_count": 49,
      "outputs": []
    },
    {
      "cell_type": "code",
      "metadata": {
        "id": "7boNa4KraDoW"
      },
      "source": [
        "#print(np.array(breweries[breweries.brewery_id == 3079]['brewery_name']))"
      ],
      "execution_count": 50,
      "outputs": []
    },
    {
      "cell_type": "markdown",
      "metadata": {
        "id": "RA6WzLjLBwpv"
      },
      "source": [
        "##### Brewery State"
      ]
    },
    {
      "cell_type": "markdown",
      "metadata": {
        "id": "4aqRMgdHK_AC"
      },
      "source": [
        "brewery_state has a large number of missing values (11, 236). After closer inspection, this shows that these missing values all relate to countries outside of the US, Canada and GB where this information must not have been available. There are were two options to deal with this:\r\n",
        "1. Put as 'n/a'\r\n",
        "2. Put as country code (with 0 at end to avoid overlap with US or CA states)\r\n",
        "\r\n",
        "For potential that it is better to analyse data at state-level (with country as proxy when state not available), I've decided to go with second approach."
      ]
    },
    {
      "cell_type": "code",
      "metadata": {
        "colab": {
          "base_uri": "https://localhost:8080/"
        },
        "id": "mKogQwJVB0Xj",
        "outputId": "0c2a2b0c-7ba8-4b17-d61e-abb5c0ddccae"
      },
      "source": [
        "print('Brewery State Nulls (Overall): ', breweries['brewery_state'].isnull().sum())\r\n",
        "print('Brewery State Nulls (US): ',   breweries[breweries['brewery_country'] == 'US']['brewery_state'].isnull().sum())\r\n",
        "print('Brewery State Nulls (Canada): ',   breweries[breweries['brewery_country'] == 'CA']['brewery_state'].isnull().sum())\r\n",
        "print('Brewery State Nulls (GB): ',   breweries[breweries['brewery_country'] == 'GB']['brewery_state'].isnull().sum())\r\n",
        "print('Brewery State Nulls (Outside US, Canada, and GB): ', breweries.loc[(breweries.brewery_country != 'US') & (breweries.brewery_country != 'CA') & (breweries.brewery_country != 'GB')]['brewery_state'].isnull().sum())"
      ],
      "execution_count": 51,
      "outputs": [
        {
          "output_type": "stream",
          "text": [
            "Brewery State Nulls (Overall):  11237\n",
            "Brewery State Nulls (US):  0\n",
            "Brewery State Nulls (Canada):  0\n",
            "Brewery State Nulls (GB):  0\n",
            "Brewery State Nulls (Outside US, Canada, and GB):  11237\n"
          ],
          "name": "stdout"
        }
      ]
    },
    {
      "cell_type": "code",
      "metadata": {
        "id": "XDCTLhJoDZJc"
      },
      "source": [
        "#breweries[breweries['brewery_country'] != 'US']['brewery_state'].value_counts()"
      ],
      "execution_count": 52,
      "outputs": []
    },
    {
      "cell_type": "code",
      "metadata": {
        "id": "6_2CL7LxKgba"
      },
      "source": [
        "breweries.brewery_state.fillna(breweries.brewery_country+'0', inplace=True)"
      ],
      "execution_count": 53,
      "outputs": []
    },
    {
      "cell_type": "markdown",
      "metadata": {
        "id": "31c9-qUUSYTH"
      },
      "source": [
        "##### Brewery Notes"
      ]
    },
    {
      "cell_type": "code",
      "metadata": {
        "id": "MyzYq6F8SXtd"
      },
      "source": [
        "breweries.brewery_notes.value_counts()\r\n",
        "breweries.brewery_notes.fillna('No notes at this time.', inplace=True)"
      ],
      "execution_count": 54,
      "outputs": []
    },
    {
      "cell_type": "code",
      "metadata": {
        "colab": {
          "base_uri": "https://localhost:8080/"
        },
        "id": "dvz5oSTwS8aF",
        "outputId": "ff29dbeb-3616-4fb3-bb60-6e9ca5b61d86"
      },
      "source": [
        "breweries.brewery_notes.value_counts()"
      ],
      "execution_count": 55,
      "outputs": [
        {
          "output_type": "execute_result",
          "data": {
            "text/plain": [
              "No notes at this time.                                                                                                                                                                             46560\n",
              "Hours:                                                                                                                                                                                               136\n",
              " No notes at this time.                                                                                                                                                                               74\n",
              "Hours:                                                                                                                                                                                                68\n",
              "OWNED BY ANHEUSER-BUSCH INBEV                                                                                                                                                                         18\n",
              "                                                                                                                                                                                                   ...  \n",
              "Beers are listed under the brewery: https://www.beeradvocate.com/beer/profile/461/                                                                                                                     1\n",
              "Owned by South African Breweries plc                                                                                                                                                                   1\n",
              "Backpocket beers are no longer brewer at Old Man River Restaurant.                                                                                                                                     1\n",
              "Formerly Borgata Brewery & Distillery                                                                                                                                                                  1\n",
              "The Commonwealth Fish & Beer Co. opened as the first brewpub in the area back in Aug. of 1986 under the name \"Commonwealth Brewing Co.\", recently changed the name / theme in September of 99'.        1\n",
              "Name: brewery_notes, Length: 3270, dtype: int64"
            ]
          },
          "metadata": {
            "tags": []
          },
          "execution_count": 55
        }
      ]
    },
    {
      "cell_type": "code",
      "metadata": {
        "id": "KY8AF043MlrT"
      },
      "source": [
        "breweries['brewery_notes'] = breweries.brewery_notes.str.strip()"
      ],
      "execution_count": 56,
      "outputs": []
    },
    {
      "cell_type": "markdown",
      "metadata": {
        "id": "InEown7LMQNJ"
      },
      "source": [
        "##### Final Check"
      ]
    },
    {
      "cell_type": "markdown",
      "metadata": {
        "id": "E1PNTzNwMW8Q"
      },
      "source": [
        "There are no null values in breweries dataset."
      ]
    },
    {
      "cell_type": "code",
      "metadata": {
        "colab": {
          "base_uri": "https://localhost:8080/"
        },
        "id": "6w7P4muaMTL9",
        "outputId": "bb903366-05c9-44be-b364-d650c4f59477"
      },
      "source": [
        "for x in breweries:\r\n",
        "  print(x, ': ', breweries[x].isnull().sum())"
      ],
      "execution_count": 57,
      "outputs": [
        {
          "output_type": "stream",
          "text": [
            "brewery_id :  0\n",
            "brewery_name :  0\n",
            "brewery_city :  0\n",
            "brewery_state :  0\n",
            "brewery_country :  0\n",
            "brewery_notes :  0\n",
            "brewery_types :  0\n"
          ],
          "name": "stdout"
        }
      ]
    },
    {
      "cell_type": "markdown",
      "metadata": {
        "id": "mzBIMEuJN2hq"
      },
      "source": [
        "#### Brewery Type"
      ]
    },
    {
      "cell_type": "markdown",
      "metadata": {
        "id": "WN9qlq0nBGxe"
      },
      "source": [
        "From review of brewery_types column, there seems to be six unique types of breweries (each which can be some combination of the below types):\r\n",
        "* Bar\r\n",
        "* Eatery\r\n",
        "* Brewery\r\n",
        "* Beer-to-go\r\n",
        "* Store\r\n",
        "* Homebrew\r\n",
        "\r\n",
        "To make this data easier to analyse going forward, I will create boolean columns for each of these brewery types and then delete the brewery_type column."
      ]
    },
    {
      "cell_type": "code",
      "metadata": {
        "id": "QQOn3fhoN6eN"
      },
      "source": [
        "#breweries.brewery_types.value_counts()"
      ],
      "execution_count": 58,
      "outputs": []
    },
    {
      "cell_type": "code",
      "metadata": {
        "colab": {
          "base_uri": "https://localhost:8080/"
        },
        "id": "5XpdE-3b6pui",
        "outputId": "e3062bb1-ee2b-4075-e613-91c308c5a888"
      },
      "source": [
        "breweries.brewery_types = breweries.brewery_types.str.replace('-', '').str.lower()\r\n",
        "\r\n",
        "from sklearn.feature_extraction.text import CountVectorizer\r\n",
        "cv = CountVectorizer(min_df=0, max_df=0.999)\r\n",
        "\r\n",
        "cv.fit(breweries['brewery_types'])\r\n",
        "cv_transformed = cv.transform(breweries['brewery_types'])\r\n",
        "\r\n",
        "cv_df = pd.DataFrame(cv_transformed.toarray(), columns=cv.get_feature_names()).add_prefix('brewery_')\r\n",
        "print(cv_df.head())\r\n",
        "print(cv_df.columns)"
      ],
      "execution_count": 59,
      "outputs": [
        {
          "output_type": "stream",
          "text": [
            "   brewery_bar  brewery_beertogo  ...  brewery_homebrew  brewery_store\n",
            "0            0                 0  ...                 0              0\n",
            "1            1                 1  ...                 0              0\n",
            "2            1                 0  ...                 0              0\n",
            "3            0                 0  ...                 0              1\n",
            "4            1                 0  ...                 0              0\n",
            "\n",
            "[5 rows x 6 columns]\n",
            "Index(['brewery_bar', 'brewery_beertogo', 'brewery_brewery', 'brewery_eatery',\n",
            "       'brewery_homebrew', 'brewery_store'],\n",
            "      dtype='object')\n"
          ],
          "name": "stdout"
        }
      ]
    },
    {
      "cell_type": "code",
      "metadata": {
        "id": "C5VLJSnIEIiY"
      },
      "source": [
        "breweries = pd.concat([breweries, cv_df], axis=1, sort=False)"
      ],
      "execution_count": 60,
      "outputs": []
    },
    {
      "cell_type": "code",
      "metadata": {
        "id": "fv8I6PjK94qE"
      },
      "source": [
        "#breweries['brewery_bar'] = breweries.brewery_types.str.contains('Bar')\r\n",
        "#breweries['brewery_eatery'] = breweries.brewery_types.str.contains('Eatery')\r\n",
        "#breweries['brewery_brewery'] = breweries.brewery_types.str.contains('Brewery')\r\n",
        "#breweries['brewery_beertogo'] = breweries.brewery_types.str.contains('Beer-to-go')\r\n",
        "#breweries['brewery_store'] = breweries.brewery_types.str.contains('Store')\r\n",
        "#breweries['brewery_homebrew'] = breweries.brewery_types.str.contains('Homebrew')"
      ],
      "execution_count": 61,
      "outputs": []
    },
    {
      "cell_type": "code",
      "metadata": {
        "colab": {
          "base_uri": "https://localhost:8080/",
          "height": 0
        },
        "id": "ifuNreUi_3SZ",
        "outputId": "0b868e63-3cc2-4cae-9fdb-9fcbcdca6923"
      },
      "source": [
        "breweries.sample(10)"
      ],
      "execution_count": 62,
      "outputs": [
        {
          "output_type": "execute_result",
          "data": {
            "text/html": [
              "<div>\n",
              "<style scoped>\n",
              "    .dataframe tbody tr th:only-of-type {\n",
              "        vertical-align: middle;\n",
              "    }\n",
              "\n",
              "    .dataframe tbody tr th {\n",
              "        vertical-align: top;\n",
              "    }\n",
              "\n",
              "    .dataframe thead th {\n",
              "        text-align: right;\n",
              "    }\n",
              "</style>\n",
              "<table border=\"1\" class=\"dataframe\">\n",
              "  <thead>\n",
              "    <tr style=\"text-align: right;\">\n",
              "      <th></th>\n",
              "      <th>brewery_id</th>\n",
              "      <th>brewery_name</th>\n",
              "      <th>brewery_city</th>\n",
              "      <th>brewery_state</th>\n",
              "      <th>brewery_country</th>\n",
              "      <th>brewery_notes</th>\n",
              "      <th>brewery_types</th>\n",
              "      <th>brewery_bar</th>\n",
              "      <th>brewery_beertogo</th>\n",
              "      <th>brewery_brewery</th>\n",
              "      <th>brewery_eatery</th>\n",
              "      <th>brewery_homebrew</th>\n",
              "      <th>brewery_store</th>\n",
              "    </tr>\n",
              "  </thead>\n",
              "  <tbody>\n",
              "    <tr>\n",
              "      <th>48908</th>\n",
              "      <td>31823</td>\n",
              "      <td>Plaza Package Store</td>\n",
              "      <td>Great Barrington</td>\n",
              "      <td>MA</td>\n",
              "      <td>US</td>\n",
              "      <td>No notes at this time.</td>\n",
              "      <td>store</td>\n",
              "      <td>0</td>\n",
              "      <td>0</td>\n",
              "      <td>0</td>\n",
              "      <td>0</td>\n",
              "      <td>0</td>\n",
              "      <td>1</td>\n",
              "    </tr>\n",
              "    <tr>\n",
              "      <th>26381</th>\n",
              "      <td>18975</td>\n",
              "      <td>Harris Teeter #43</td>\n",
              "      <td>Wake Forest</td>\n",
              "      <td>NC</td>\n",
              "      <td>US</td>\n",
              "      <td>No notes at this time.</td>\n",
              "      <td>store</td>\n",
              "      <td>0</td>\n",
              "      <td>0</td>\n",
              "      <td>0</td>\n",
              "      <td>0</td>\n",
              "      <td>0</td>\n",
              "      <td>1</td>\n",
              "    </tr>\n",
              "    <tr>\n",
              "      <th>441</th>\n",
              "      <td>28655</td>\n",
              "      <td>Moerlein Lager House</td>\n",
              "      <td>Cincinnati</td>\n",
              "      <td>OH</td>\n",
              "      <td>US</td>\n",
              "      <td>House brews are listed here:</td>\n",
              "      <td>bar, eatery, beertogo</td>\n",
              "      <td>1</td>\n",
              "      <td>1</td>\n",
              "      <td>0</td>\n",
              "      <td>1</td>\n",
              "      <td>0</td>\n",
              "      <td>0</td>\n",
              "    </tr>\n",
              "    <tr>\n",
              "      <th>19300</th>\n",
              "      <td>48014</td>\n",
              "      <td>Borough &amp; Parlour</td>\n",
              "      <td>Minneapolis</td>\n",
              "      <td>MN</td>\n",
              "      <td>US</td>\n",
              "      <td>No notes at this time.</td>\n",
              "      <td>bar, eatery</td>\n",
              "      <td>1</td>\n",
              "      <td>0</td>\n",
              "      <td>0</td>\n",
              "      <td>1</td>\n",
              "      <td>0</td>\n",
              "      <td>0</td>\n",
              "    </tr>\n",
              "    <tr>\n",
              "      <th>23529</th>\n",
              "      <td>46502</td>\n",
              "      <td>Hot Rod Cafe</td>\n",
              "      <td>New London</td>\n",
              "      <td>CT</td>\n",
              "      <td>US</td>\n",
              "      <td>No notes at this time.</td>\n",
              "      <td>bar, eatery</td>\n",
              "      <td>1</td>\n",
              "      <td>0</td>\n",
              "      <td>0</td>\n",
              "      <td>1</td>\n",
              "      <td>0</td>\n",
              "      <td>0</td>\n",
              "    </tr>\n",
              "    <tr>\n",
              "      <th>24307</th>\n",
              "      <td>26813</td>\n",
              "      <td>Berkot's Super Foods</td>\n",
              "      <td>Mokena</td>\n",
              "      <td>IL</td>\n",
              "      <td>US</td>\n",
              "      <td>No notes at this time.</td>\n",
              "      <td>store</td>\n",
              "      <td>0</td>\n",
              "      <td>0</td>\n",
              "      <td>0</td>\n",
              "      <td>0</td>\n",
              "      <td>0</td>\n",
              "      <td>1</td>\n",
              "    </tr>\n",
              "    <tr>\n",
              "      <th>21008</th>\n",
              "      <td>15997</td>\n",
              "      <td>Orlio Organic Beer Company</td>\n",
              "      <td>South Burlington</td>\n",
              "      <td>VT</td>\n",
              "      <td>US</td>\n",
              "      <td>Owned/Brewed by Magic Hat, but no longer in pr...</td>\n",
              "      <td>brewery</td>\n",
              "      <td>0</td>\n",
              "      <td>0</td>\n",
              "      <td>1</td>\n",
              "      <td>0</td>\n",
              "      <td>0</td>\n",
              "      <td>0</td>\n",
              "    </tr>\n",
              "    <tr>\n",
              "      <th>6653</th>\n",
              "      <td>32074</td>\n",
              "      <td>Bryggeri Helsinki</td>\n",
              "      <td>Helsinki</td>\n",
              "      <td>FI0</td>\n",
              "      <td>FI</td>\n",
              "      <td>No notes at this time.</td>\n",
              "      <td>brewery, bar, eatery, beertogo</td>\n",
              "      <td>1</td>\n",
              "      <td>1</td>\n",
              "      <td>1</td>\n",
              "      <td>1</td>\n",
              "      <td>0</td>\n",
              "      <td>0</td>\n",
              "    </tr>\n",
              "    <tr>\n",
              "      <th>5451</th>\n",
              "      <td>13863</td>\n",
              "      <td>Shanachie Irish Pub &amp; Restaurant, The</td>\n",
              "      <td>Ambler</td>\n",
              "      <td>PA</td>\n",
              "      <td>US</td>\n",
              "      <td>No notes at this time.</td>\n",
              "      <td>bar, eatery</td>\n",
              "      <td>1</td>\n",
              "      <td>0</td>\n",
              "      <td>0</td>\n",
              "      <td>1</td>\n",
              "      <td>0</td>\n",
              "      <td>0</td>\n",
              "    </tr>\n",
              "    <tr>\n",
              "      <th>10999</th>\n",
              "      <td>44865</td>\n",
              "      <td>Whiner Beer Company</td>\n",
              "      <td>Chicago</td>\n",
              "      <td>IL</td>\n",
              "      <td>US</td>\n",
              "      <td>Located within The Plant.</td>\n",
              "      <td>brewery, bar</td>\n",
              "      <td>1</td>\n",
              "      <td>0</td>\n",
              "      <td>1</td>\n",
              "      <td>0</td>\n",
              "      <td>0</td>\n",
              "      <td>0</td>\n",
              "    </tr>\n",
              "  </tbody>\n",
              "</table>\n",
              "</div>"
            ],
            "text/plain": [
              "       brewery_id  ... brewery_store\n",
              "48908       31823  ...             1\n",
              "26381       18975  ...             1\n",
              "441         28655  ...             0\n",
              "19300       48014  ...             0\n",
              "23529       46502  ...             0\n",
              "24307       26813  ...             1\n",
              "21008       15997  ...             0\n",
              "6653        32074  ...             0\n",
              "5451        13863  ...             0\n",
              "10999       44865  ...             0\n",
              "\n",
              "[10 rows x 13 columns]"
            ]
          },
          "metadata": {
            "tags": []
          },
          "execution_count": 62
        }
      ]
    },
    {
      "cell_type": "code",
      "metadata": {
        "id": "0MfwwL7fCJB7"
      },
      "source": [
        "breweries.drop(columns='brewery_types', inplace=True)"
      ],
      "execution_count": 63,
      "outputs": []
    },
    {
      "cell_type": "markdown",
      "metadata": {
        "id": "xLyQrnhbMkYM"
      },
      "source": [
        "#### Tidy Text Column"
      ]
    },
    {
      "cell_type": "code",
      "metadata": {
        "id": "5kTK5R1hMio9"
      },
      "source": [
        "breweries.brewery_name = breweries.brewery_name.str.replace('[^a-zA-Z0-9]', ' ').str.lower().str.strip()\r\n",
        "#breweries.brewery_city = breweries.brewery_city.str.replace('[^a-zA-Z0-9]', ' ').str.lower().str.strip()\r\n",
        "#breweries.brewery_state = breweries.brewery_state.str.replace('[^a-zA-Z0-9]', ' ').str.lower().str.strip()\r\n",
        "#breweries.brewery_country = breweries.brewery_country.str.replace('[^a-zA-Z0-9]', ' ').str.lower().str.strip()\r\n",
        "breweries.brewery_notes = breweries.brewery_notes.str.replace('[^a-zA-Z0-9]', ' ').str.lower().str.strip()\r\n",
        "#breweries.brewery_types = breweries.brewery_types.str.replace('[^a-zA-Z0-9]', ' ').str.lower().str.strip()"
      ],
      "execution_count": 64,
      "outputs": []
    },
    {
      "cell_type": "code",
      "metadata": {
        "id": "XX6Y2Y5wNcYW"
      },
      "source": [
        "#breweries.head()"
      ],
      "execution_count": 65,
      "outputs": []
    },
    {
      "cell_type": "markdown",
      "metadata": {
        "id": "BC1NEgHcxQrN"
      },
      "source": [
        "### Recap"
      ]
    },
    {
      "cell_type": "code",
      "metadata": {
        "colab": {
          "base_uri": "https://localhost:8080/"
        },
        "id": "HuquToV_Vp2b",
        "outputId": "1c987952-2caf-47e3-823e-969ef1d2b6c3"
      },
      "source": [
        "reviews.head()\r\n",
        "reviews.dtypes\r\n",
        "\r\n",
        "for x in reviews:\r\n",
        "  print(x, ': ', reviews[x].isnull().sum())"
      ],
      "execution_count": 66,
      "outputs": [
        {
          "output_type": "stream",
          "text": [
            "brewery_id :  0\n",
            "brewery_name :  0\n",
            "review_time :  0\n",
            "review_overall :  0\n",
            "review_aroma :  0\n",
            "review_appearance :  0\n",
            "review_profilename :  0\n",
            "beer_style :  0\n",
            "review_palate :  0\n",
            "review_taste :  0\n",
            "beer_name :  0\n",
            "beer_abv :  67785\n",
            "beer_id :  0\n"
          ],
          "name": "stdout"
        }
      ]
    },
    {
      "cell_type": "code",
      "metadata": {
        "colab": {
          "base_uri": "https://localhost:8080/"
        },
        "id": "6yjYVguNV0E6",
        "outputId": "0fbd0a44-0ae1-4234-d11b-a1dc50d8d612"
      },
      "source": [
        "beers.head()\r\n",
        "beers.dtypes\r\n",
        "\r\n",
        "for x in beers:\r\n",
        "  print(x, ': ', beers[x].isnull().sum())"
      ],
      "execution_count": 67,
      "outputs": [
        {
          "output_type": "stream",
          "text": [
            "beer_id :  0\n",
            "beer_name :  0\n",
            "beer_style :  0\n",
            "beer_availability :  0\n",
            "beer_abv :  38797\n",
            "beer_notes :  0\n",
            "beer_retired :  0\n"
          ],
          "name": "stdout"
        }
      ]
    },
    {
      "cell_type": "code",
      "metadata": {
        "colab": {
          "base_uri": "https://localhost:8080/"
        },
        "id": "bJ7USyHgV5PQ",
        "outputId": "b1f5dce5-6bd1-4b13-afa6-901962247540"
      },
      "source": [
        "breweries.head()\r\n",
        "breweries.dtypes\r\n",
        "\r\n",
        "for x in breweries:\r\n",
        "  print(x, ': ', breweries[x].isnull().sum())"
      ],
      "execution_count": 68,
      "outputs": [
        {
          "output_type": "stream",
          "text": [
            "brewery_id :  0\n",
            "brewery_name :  0\n",
            "brewery_city :  0\n",
            "brewery_state :  0\n",
            "brewery_country :  0\n",
            "brewery_notes :  0\n",
            "brewery_bar :  0\n",
            "brewery_beertogo :  0\n",
            "brewery_brewery :  0\n",
            "brewery_eatery :  0\n",
            "brewery_homebrew :  0\n",
            "brewery_store :  0\n"
          ],
          "name": "stdout"
        }
      ]
    },
    {
      "cell_type": "markdown",
      "metadata": {
        "id": "foDDe21G6A6y"
      },
      "source": [
        "## Beers Analysis"
      ]
    },
    {
      "cell_type": "markdown",
      "metadata": {
        "id": "O6kkCCor6P03"
      },
      "source": [
        "Ahead of merging the Beers dataset with our Reviews data, I want to compare the beer information in both datasets to see if this matches correctly.\r\n",
        "\r\n",
        "To do this, I will look at three columns that are commom across the two datasets. This includes:\r\n",
        "* Beer ID\r\n",
        "* Beer Name\r\n",
        "* Beer Sytle\r\n",
        "\r\n",
        "Although Beer ABV is in both datasets, I will not look to use this as a matching criteria due the number of null values present in both the reviews and beers datasets.\r\n",
        "\r\n",
        "I will then look to match the data across all four areas to see if this works. If not, I will investigate to see the root cause."
      ]
    },
    {
      "cell_type": "markdown",
      "metadata": {
        "id": "wXY913exz-eR"
      },
      "source": [
        "### Create Beer Summary Files"
      ]
    },
    {
      "cell_type": "markdown",
      "metadata": {
        "id": "evb9hjix7lA5"
      },
      "source": [
        "#### Beer Summary (Reviews Data)"
      ]
    },
    {
      "cell_type": "markdown",
      "metadata": {
        "id": "gfABwgv9YE4r"
      },
      "source": [
        "First, I will summarise the Reviews dataset to beer-level using the grouby function.\r\n",
        "\r\n",
        "This shows that there are 66,055 different beers mentioned in the reviews dataset."
      ]
    },
    {
      "cell_type": "code",
      "metadata": {
        "id": "DvTKcqq0xP-S"
      },
      "source": [
        "reviews_beersumm = reviews.groupby(by=['beer_id', 'beer_name', 'beer_style'], as_index=False)['review_overall'].agg(['mean', 'count']).reset_index()"
      ],
      "execution_count": 69,
      "outputs": []
    },
    {
      "cell_type": "code",
      "metadata": {
        "id": "-lpchTGN3EAj"
      },
      "source": [
        "reviews_beersumm.drop(columns=['mean', 'count'], inplace=True)"
      ],
      "execution_count": 70,
      "outputs": []
    },
    {
      "cell_type": "code",
      "metadata": {
        "id": "47IsrYEx1u0W",
        "colab": {
          "base_uri": "https://localhost:8080/"
        },
        "outputId": "b8d1fa0b-0590-4e68-b62a-0e1fbff41d78"
      },
      "source": [
        "reviews_beersumm.beer_id.count()"
      ],
      "execution_count": 71,
      "outputs": [
        {
          "output_type": "execute_result",
          "data": {
            "text/plain": [
              "66055"
            ]
          },
          "metadata": {
            "tags": []
          },
          "execution_count": 71
        }
      ]
    },
    {
      "cell_type": "code",
      "metadata": {
        "colab": {
          "base_uri": "https://localhost:8080/"
        },
        "id": "eLO4Bby7i0LF",
        "outputId": "f0be2b47-705b-412f-8775-b3fda5eb7ff9"
      },
      "source": [
        "reviews.beer_id.nunique()\r\n",
        "#reviews.beer_name.nunique()"
      ],
      "execution_count": 72,
      "outputs": [
        {
          "output_type": "execute_result",
          "data": {
            "text/plain": [
              "66055"
            ]
          },
          "metadata": {
            "tags": []
          },
          "execution_count": 72
        }
      ]
    },
    {
      "cell_type": "code",
      "metadata": {
        "id": "Wi4ixrJS3RI3"
      },
      "source": [
        "#reviews_beersumm.dtypes\r\n",
        "#reviews_beersumm.head()"
      ],
      "execution_count": 73,
      "outputs": []
    },
    {
      "cell_type": "markdown",
      "metadata": {
        "id": "YwELvuRyZiN0"
      },
      "source": [
        "#### Beer Summary (Beer Dataset)"
      ]
    },
    {
      "cell_type": "markdown",
      "metadata": {
        "id": "etEERNSSkU7b"
      },
      "source": [
        "Next, I look to check that beers dataset only contains rows for the number of unique beer_id - which it does (358,873). \r\n",
        "\r\n",
        "Following this, I reduced dataset to only the three columsn for our comparison."
      ]
    },
    {
      "cell_type": "code",
      "metadata": {
        "colab": {
          "base_uri": "https://localhost:8080/"
        },
        "id": "2apZpLEnj9AC",
        "outputId": "1529811d-0b42-4b68-80a6-6141105c9500"
      },
      "source": [
        "beers.beer_id.count()"
      ],
      "execution_count": 74,
      "outputs": [
        {
          "output_type": "execute_result",
          "data": {
            "text/plain": [
              "358873"
            ]
          },
          "metadata": {
            "tags": []
          },
          "execution_count": 74
        }
      ]
    },
    {
      "cell_type": "code",
      "metadata": {
        "colab": {
          "base_uri": "https://localhost:8080/"
        },
        "id": "11SGJ2FfkB1W",
        "outputId": "813127b7-8fe3-4bc2-e0dd-e1bd63567c88"
      },
      "source": [
        "beers.beer_id.nunique()"
      ],
      "execution_count": 75,
      "outputs": [
        {
          "output_type": "execute_result",
          "data": {
            "text/plain": [
              "358873"
            ]
          },
          "metadata": {
            "tags": []
          },
          "execution_count": 75
        }
      ]
    },
    {
      "cell_type": "code",
      "metadata": {
        "id": "Mbztml6V32Ay"
      },
      "source": [
        "beersumm = beers.drop(columns=['beer_abv', 'beer_availability', 'beer_notes', 'beer_retired'])"
      ],
      "execution_count": 76,
      "outputs": []
    },
    {
      "cell_type": "code",
      "metadata": {
        "id": "OyPRte7Y2JBL"
      },
      "source": [
        "#beersumm.dtypes\r\n",
        "#beersumm.head()"
      ],
      "execution_count": 77,
      "outputs": []
    },
    {
      "cell_type": "markdown",
      "metadata": {
        "id": "IfVx6Q790PSl"
      },
      "source": [
        "### Identify Matching Beers"
      ]
    },
    {
      "cell_type": "markdown",
      "metadata": {
        "id": "buwQz-aJ7pPf"
      },
      "source": [
        "#### Merge Summary Data"
      ]
    },
    {
      "cell_type": "markdown",
      "metadata": {
        "id": "fWT5fmoJYxNS"
      },
      "source": [
        "Now, I'll merge the two datasets together to allow for comparing values across them.\r\n",
        "\r\n",
        "The 66,055 beers is the number we wanted to see here given we did a left join on the beers from review dataset."
      ]
    },
    {
      "cell_type": "code",
      "metadata": {
        "id": "AONtgZu07r4d"
      },
      "source": [
        "beersumm_merge = pd.merge(reviews_beersumm, beersumm, how='left', on=['beer_id'])"
      ],
      "execution_count": 78,
      "outputs": []
    },
    {
      "cell_type": "code",
      "metadata": {
        "id": "FPujJPRf-Ewr"
      },
      "source": [
        "#beersumm_merge.head()"
      ],
      "execution_count": 79,
      "outputs": []
    },
    {
      "cell_type": "code",
      "metadata": {
        "colab": {
          "base_uri": "https://localhost:8080/"
        },
        "id": "0r_PD6eIbEr5",
        "outputId": "a31fbe27-e2bd-4186-81d5-06d79c1b1ede"
      },
      "source": [
        "beersumm_merge.beer_id.count()"
      ],
      "execution_count": 80,
      "outputs": [
        {
          "output_type": "execute_result",
          "data": {
            "text/plain": [
              "66055"
            ]
          },
          "metadata": {
            "tags": []
          },
          "execution_count": 80
        }
      ]
    },
    {
      "cell_type": "markdown",
      "metadata": {
        "id": "3WkTz-PgAjib"
      },
      "source": [
        "#### How many missing values?"
      ]
    },
    {
      "cell_type": "markdown",
      "metadata": {
        "id": "E9Q_E-LQ-pz7"
      },
      "source": [
        "The first comparison I will do is to see how many null values are in this comparison dataset - this will indicate if a beer is in the review dataset, but not in the beers dataset). \r\n",
        "\r\n",
        "Doing this, shows that 464 beers (or less than 1%) are in the Reviews dataset are not in the Beers dataset."
      ]
    },
    {
      "cell_type": "code",
      "metadata": {
        "id": "HlW9zNJw9Ub2",
        "colab": {
          "base_uri": "https://localhost:8080/"
        },
        "outputId": "d9fbbd8a-6f2b-4ea4-f781-ccf2a0b1b549"
      },
      "source": [
        "nulls = beersumm_merge.beer_name_y.isnull().sum()\r\n",
        "total_rows = beersumm_merge.beer_id.count()\r\n",
        "\r\n",
        "print('Name null values: ', nulls)\r\n",
        "print('% of data: ', round(((nulls / total_rows) * 100), 2))"
      ],
      "execution_count": 81,
      "outputs": [
        {
          "output_type": "stream",
          "text": [
            "Name null values:  564\n",
            "% of data:  0.85\n"
          ],
          "name": "stdout"
        }
      ]
    },
    {
      "cell_type": "code",
      "metadata": {
        "id": "q26MAGia9xfp",
        "colab": {
          "base_uri": "https://localhost:8080/"
        },
        "outputId": "246c915e-42d9-4eda-a2d0-e1318b4deaa7"
      },
      "source": [
        "nulls = beersumm_merge.beer_style_y.isnull().sum()\r\n",
        "total_rows = beersumm_merge.beer_id.count()\r\n",
        "\r\n",
        "print('Name null values: ', nulls)\r\n",
        "print('% of data: ', round(((nulls / total_rows) * 100), 2))"
      ],
      "execution_count": 82,
      "outputs": [
        {
          "output_type": "stream",
          "text": [
            "Name null values:  564\n",
            "% of data:  0.85\n"
          ],
          "name": "stdout"
        }
      ]
    },
    {
      "cell_type": "markdown",
      "metadata": {
        "id": "o6eKQ-c9AoWR"
      },
      "source": [
        "#### How many mismatched beers?"
      ]
    },
    {
      "cell_type": "markdown",
      "metadata": {
        "id": "FUEzpXPDZihf"
      },
      "source": [
        "Next, I looked at whether the other columns across the datasets matched. The question here is that - even though the unique ID matched - do the beer names and beer styles match across datasets? \r\n",
        "\r\n",
        "Unfortunately, this brings up a few concerns as there are a large number of mismatched rows between the datasest - beer names (10.3%) and beer style (47.5%).\r\n",
        "\r\n",
        "However, from review of the mistach columns, a lot of the names and styles were entered in slightly different but represented the same thing. Examples of this include:\r\n",
        "* Beer Styles\r\n",
        "  * English Old Ale vs Old Ale\r\n",
        "  * Belgian Witbier vs Witbier\r\n",
        "* Beer Names\r\n",
        "  * George Killian's Irish Red vs Killian's Irish Red\r\n",
        "  * Nemesis 2009 vs Founders Nemesis 2009\r\n",
        "\r\n",
        "In the next section, we look at how we use link the datasets to take account of these close but not exact records."
      ]
    },
    {
      "cell_type": "code",
      "metadata": {
        "id": "zCskMW0-Av4R",
        "colab": {
          "base_uri": "https://localhost:8080/"
        },
        "outputId": "555ed2bb-a995-4330-d8a4-43bad554cc1b"
      },
      "source": [
        "mismatch = beersumm_merge[beersumm_merge.beer_name_x != beersumm_merge.beer_name_y]['beer_id'].count()\r\n",
        "\r\n",
        "print('Mismatch Rows: ', mismatch)\r\n",
        "print('% of data: ', round(((mismatch / total_rows) * 100), 2))"
      ],
      "execution_count": 83,
      "outputs": [
        {
          "output_type": "stream",
          "text": [
            "Mismatch Rows:  6818\n",
            "% of data:  10.32\n"
          ],
          "name": "stdout"
        }
      ]
    },
    {
      "cell_type": "code",
      "metadata": {
        "id": "4eupMYz8Bfyf",
        "colab": {
          "base_uri": "https://localhost:8080/"
        },
        "outputId": "bcc72af6-94fc-40ee-908f-d81c51d8141a"
      },
      "source": [
        "mismatch = beersumm_merge[beersumm_merge.beer_style_x != beersumm_merge.beer_style_y]['beer_id'].count()\r\n",
        "\r\n",
        "print('Mismatch Rows: ', mismatch)\r\n",
        "print('% of data: ', round(((mismatch / total_rows) * 100), 2))"
      ],
      "execution_count": 84,
      "outputs": [
        {
          "output_type": "stream",
          "text": [
            "Mismatch Rows:  31389\n",
            "% of data:  47.52\n"
          ],
          "name": "stdout"
        }
      ]
    },
    {
      "cell_type": "code",
      "metadata": {
        "id": "raUexi_HBvYW"
      },
      "source": [
        "#beersumm_merge[beersumm_merge.beer_name_x != beersumm_merge.beer_name_y][['beer_name_x', 'beer_name_y']].sample(5)"
      ],
      "execution_count": 85,
      "outputs": []
    },
    {
      "cell_type": "code",
      "metadata": {
        "id": "amPB1ytyawRf"
      },
      "source": [
        "#beersumm_merge[beersumm_merge.beer_style_x != beersumm_merge.beer_style_y][['beer_style_x', 'beer_style_y']].sample(5)"
      ],
      "execution_count": 86,
      "outputs": []
    },
    {
      "cell_type": "markdown",
      "metadata": {
        "id": "fiR67GhjLYkl"
      },
      "source": [
        "#### Using Record Linkage to find pairs"
      ]
    },
    {
      "cell_type": "markdown",
      "metadata": {
        "id": "PKTGzJnWndPr"
      },
      "source": [
        "As we don't want to loss all the data related to the beers where there is not an exact match, I look to apply the recordlinkage package to the dataset to identify the beers from the beers dataset that pair well (but not exactly) with the reviews dataset. \r\n",
        "\r\n",
        "To do this, I apply the following criteria and state that two of these must be met to match the beer dataset to the reviews:\r\n",
        "*   Exact match on beer_id\r\n",
        "*   Match on beer_name at 0.9 threshold\r\n",
        "*   Match on beer_style at 0.9 threshold\r\n",
        "\r\n",
        "This leaves us with 63,080 of the review beers matching (or 95.5%). These are saved in a new dataset called beers_new that we will use to merge to the reviews dataset next."
      ]
    },
    {
      "cell_type": "code",
      "metadata": {
        "id": "3YhV9QYpNctN",
        "colab": {
          "base_uri": "https://localhost:8080/"
        },
        "outputId": "ea96672e-5b38-4df2-bda9-ed183c518644"
      },
      "source": [
        "! pip install recordlinkage"
      ],
      "execution_count": 87,
      "outputs": [
        {
          "output_type": "stream",
          "text": [
            "Requirement already satisfied: recordlinkage in /usr/local/lib/python3.7/dist-packages (0.14)\n",
            "Requirement already satisfied: jellyfish>=0.5.4 in /usr/local/lib/python3.7/dist-packages (from recordlinkage) (0.8.2)\n",
            "Requirement already satisfied: joblib in /usr/local/lib/python3.7/dist-packages (from recordlinkage) (1.0.1)\n",
            "Requirement already satisfied: pandas>=0.23 in /usr/local/lib/python3.7/dist-packages (from recordlinkage) (1.1.5)\n",
            "Requirement already satisfied: scikit-learn>=0.19.0 in /usr/local/lib/python3.7/dist-packages (from recordlinkage) (0.22.2.post1)\n",
            "Requirement already satisfied: scipy>=1 in /usr/local/lib/python3.7/dist-packages (from recordlinkage) (1.4.1)\n",
            "Requirement already satisfied: numpy>=1.13.0 in /usr/local/lib/python3.7/dist-packages (from recordlinkage) (1.19.5)\n",
            "Requirement already satisfied: pytz>=2017.2 in /usr/local/lib/python3.7/dist-packages (from pandas>=0.23->recordlinkage) (2018.9)\n",
            "Requirement already satisfied: python-dateutil>=2.7.3 in /usr/local/lib/python3.7/dist-packages (from pandas>=0.23->recordlinkage) (2.8.1)\n",
            "Requirement already satisfied: six>=1.5 in /usr/local/lib/python3.7/dist-packages (from python-dateutil>=2.7.3->pandas>=0.23->recordlinkage) (1.15.0)\n"
          ],
          "name": "stdout"
        }
      ]
    },
    {
      "cell_type": "code",
      "metadata": {
        "id": "4_voWqdxLbgP"
      },
      "source": [
        "# Import recordlinkage\r\n",
        "import recordlinkage\r\n",
        "\r\n",
        "# Create indexing object\r\n",
        "indexer = recordlinkage.Index()\r\n",
        "\r\n",
        "# Generate pairs blocked on id\r\n",
        "indexer.block('beer_id')\r\n",
        "pairs = indexer.index(reviews_beersumm, beersumm)\r\n",
        "\r\n",
        "# Generate the pairs\r\n",
        "pairs = indexer.index(reviews_beersumm, beersumm)\r\n",
        "\r\n",
        "# Create a Compare object\r\n",
        "compare_cl = recordlinkage.Compare()\r\n",
        "\r\n",
        "# Find exact matches for pairs of id and abv\r\n",
        "compare_cl.exact('beer_id', 'beer_id', label='beer_id')\r\n",
        "#compare_cl.exact('beer_abv', 'beer_abv', label='beer_abv')\r\n",
        "\r\n",
        "# Find similar matches for pairs of beer_name and beer_style using string similarity\r\n",
        "compare_cl.string('beer_name', 'beer_name', threshold=0.8, label='beer_name')\r\n",
        "compare_cl.string('beer_style', 'beer_style', threshold=0.8, label='beer_style')\r\n",
        "\r\n",
        "# Find matches\r\n",
        "potential_matches = compare_cl.compute(pairs, reviews_beersumm, beersumm)"
      ],
      "execution_count": 88,
      "outputs": []
    },
    {
      "cell_type": "code",
      "metadata": {
        "id": "bZviAuMdNtuh"
      },
      "source": [
        "#potential_matches\r\n",
        "#potential_matches[potential_matches.sum(axis = 1) >= 2]"
      ],
      "execution_count": 89,
      "outputs": []
    },
    {
      "cell_type": "code",
      "metadata": {
        "id": "_GFndqm7O3rh",
        "colab": {
          "base_uri": "https://localhost:8080/"
        },
        "outputId": "c3e2d977-bea3-4ca0-ded8-db8562750a5b"
      },
      "source": [
        "potential_matches['beer_id'].count()\r\n",
        "match_rows = potential_matches[potential_matches.sum(axis = 1) >= 2]['beer_id'].count()\r\n",
        "\r\n",
        "print('Potential Match Rows: ', match_rows)\r\n",
        "print('No Beer Match: ', total_rows - match_rows)\r\n",
        "print('% of data: ', round(((match_rows / total_rows) * 100), 2))"
      ],
      "execution_count": 90,
      "outputs": [
        {
          "output_type": "stream",
          "text": [
            "Potential Match Rows:  63080\n",
            "No Beer Match:  2975\n",
            "% of data:  95.5\n"
          ],
          "name": "stdout"
        }
      ]
    },
    {
      "cell_type": "code",
      "metadata": {
        "id": "raFt2F8rb02y"
      },
      "source": [
        "#potential_matches['beer_name'].sum()\r\n",
        "#potential_matches['beer_style'].sum()"
      ],
      "execution_count": 91,
      "outputs": []
    },
    {
      "cell_type": "code",
      "metadata": {
        "id": "VHKnTQ63Uijd"
      },
      "source": [
        "matches = potential_matches[potential_matches.sum(axis = 1) >= 2]\r\n",
        "match_index = matches.index.get_level_values(1)\r\n",
        "beers_new = beers[beers.index.isin(match_index)]\r\n",
        "#beers_new.head()"
      ],
      "execution_count": 92,
      "outputs": []
    },
    {
      "cell_type": "markdown",
      "metadata": {
        "id": "2tmVrCM30-UD"
      },
      "source": [
        "### Bringing it all together"
      ]
    },
    {
      "cell_type": "code",
      "metadata": {
        "id": "VqD6w8YQ-the"
      },
      "source": [
        "df = pd.merge(reviews, beers_new, how='left', on='beer_id')"
      ],
      "execution_count": 93,
      "outputs": []
    },
    {
      "cell_type": "code",
      "metadata": {
        "id": "O0WEzjzy_sP7"
      },
      "source": [
        "#for x in df:\r\n",
        "#  print(x, ': ', df[x].isnull().sum())"
      ],
      "execution_count": 94,
      "outputs": []
    },
    {
      "cell_type": "markdown",
      "metadata": {
        "id": "vNax5d7nCE56"
      },
      "source": [
        "### Tidying Up"
      ]
    },
    {
      "cell_type": "markdown",
      "metadata": {
        "id": "NNrVKmkHyx00"
      },
      "source": [
        "#### ABV Missing Values"
      ]
    },
    {
      "cell_type": "markdown",
      "metadata": {
        "id": "9sa098Guy4_x"
      },
      "source": [
        "First, I look to replace any missing values in the initial Reviews ABV column with ABV values from the Beers dataset - this reduces the number of missing values from 67,785 to 50,431."
      ]
    },
    {
      "cell_type": "code",
      "metadata": {
        "id": "xDs2wZuZCtsL"
      },
      "source": [
        "df.beer_abv_x.fillna(df.beer_abv_y, inplace=True)"
      ],
      "execution_count": 95,
      "outputs": []
    },
    {
      "cell_type": "code",
      "metadata": {
        "id": "t0MzypukDqcL"
      },
      "source": [
        "#for x in df:\r\n",
        "#  print(x, ': ', df[x].isnull().sum())"
      ],
      "execution_count": 96,
      "outputs": []
    },
    {
      "cell_type": "markdown",
      "metadata": {
        "id": "dZV9tXvgoIBb"
      },
      "source": [
        "#### ABV Difference"
      ]
    },
    {
      "cell_type": "markdown",
      "metadata": {
        "id": "6NleA1bvorXU"
      },
      "source": [
        "I looked at the difference in ABV between the two datasets. \r\n",
        "\r\n",
        "Initially, there looks like there is a large number rows with ABV discrepencies that we will have to account for (424,679). However, looking in more detail shows that over half these (218,058) are related to null values for ABV in either the Beers or Reviews dataset. \r\n",
        "\r\n",
        "The remaining discrepencies (206,621) are then plotted on a histogram to see the distribution of differences. This shows are a normal distribution around 0. The change in ABV could be related to different variations of the beer having slightly higher or lower ABV but should not impact on the addtional information provided for the dataset. \r\n",
        "\r\n",
        "With this in mind, we will keep the ABV in the Reviews dataset but maintain the additional information included from the Beers dataset as I believe this is still valid and useful to the analysis."
      ]
    },
    {
      "cell_type": "code",
      "metadata": {
        "id": "s8kirGYfDCm4"
      },
      "source": [
        "df['abv_diff'] = df.beer_abv_x - df.beer_abv_y"
      ],
      "execution_count": 97,
      "outputs": []
    },
    {
      "cell_type": "code",
      "metadata": {
        "colab": {
          "base_uri": "https://localhost:8080/"
        },
        "id": "rQ-05to2r_qO",
        "outputId": "47da721c-3752-4618-fed7-4da687024a2a"
      },
      "source": [
        "print('Total Rows ABV not matching: ', df.loc[(df.abv_diff != 0)]['beer_id'].count())\r\n",
        "\r\n",
        "print('Not matching due to null in Beer dataset: ', df.loc[(df.abv_diff != 0) & (df.beer_abv_x.notnull()) & (df.beer_abv_y.isnull())]['beer_id'].count())\r\n",
        "print('Not matching due to null in Review dataset: ', df.loc[(df.abv_diff != 0) & (df.beer_abv_x.isnull()) & (df.beer_abv_y.notnull())]['beer_id'].count())\r\n",
        "print('Not matching due to nulls in both datasets: ', df.loc[(df.abv_diff != 0) & (df.beer_abv_x.isnull()) & (df.beer_abv_y.isnull())]['beer_id'].count())\r\n",
        "print('Not matching due to difference in ABV levels: ', df.loc[(df.abv_diff != 0) & (df.beer_abv_x.notnull()) & (df.beer_abv_y.notnull())]['beer_id'].count())"
      ],
      "execution_count": 98,
      "outputs": [
        {
          "output_type": "stream",
          "text": [
            "Total Rows ABV not matching:  424529\n",
            "Not matching due to null in Beer dataset:  167474\n",
            "Not matching due to null in Review dataset:  0\n",
            "Not matching due to nulls in both datasets:  50431\n",
            "Not matching due to difference in ABV levels:  206624\n"
          ],
          "name": "stdout"
        }
      ]
    },
    {
      "cell_type": "code",
      "metadata": {
        "id": "1Osf7Xz9iJiY"
      },
      "source": [
        "#df.loc[(df.abv_diff != 0) & (df.beer_abv_y.notnull())]\r\n",
        "#df.loc[(df.abv_diff != 0)].sample(10)"
      ],
      "execution_count": 99,
      "outputs": []
    },
    {
      "cell_type": "code",
      "metadata": {
        "colab": {
          "base_uri": "https://localhost:8080/",
          "height": 498
        },
        "id": "osBuADCuFRn1",
        "outputId": "eaed4f8f-5fdb-4c58-c96d-0c9777f18c84"
      },
      "source": [
        "_ = plt.figure(figsize=(12,8))\r\n",
        "_ = sns.histplot(data=df.loc[(df.abv_diff != 0) & (df.beer_abv_x.notnull()) & (df.beer_abv_y.notnull())], x='abv_diff', bins=50)\r\n",
        "\r\n",
        "plt.show()"
      ],
      "execution_count": 100,
      "outputs": [
        {
          "output_type": "display_data",
          "data": {
            "image/png": "[encoded data removed]",
            "text/plain": [
              "<Figure size 864x576 with 1 Axes>"
            ]
          },
          "metadata": {
            "tags": [],
            "needs_background": "light"
          }
        }
      ]
    },
    {
      "cell_type": "code",
      "metadata": {
        "colab": {
          "base_uri": "https://localhost:8080/"
        },
        "id": "3rQyloB8v6eX",
        "outputId": "4d1acd2c-01b9-4bc1-c6f7-a6eb2c7a965e"
      },
      "source": [
        "from scipy import stats\r\n",
        "\r\n",
        "k2, p = stats.normaltest(df.loc[(df.abv_diff != 0) & (df.beer_abv_x.notnull()) & (df.beer_abv_y.notnull())]['abv_diff'])\r\n",
        "alpha = 0.05\r\n",
        "\r\n",
        "print(\"p = {:g}\".format(p))\r\n",
        "\r\n",
        "if p < alpha:  # null hypothesis: x comes from a normal distribution\r\n",
        "    print(\"The null hypothesis can be rejected\")\r\n",
        "else:\r\n",
        "    print(\"The null hypothesis cannot be rejected\")\r\n"
      ],
      "execution_count": 101,
      "outputs": [
        {
          "output_type": "stream",
          "text": [
            "p = 0\n",
            "The null hypothesis can be rejected\n"
          ],
          "name": "stdout"
        }
      ]
    },
    {
      "cell_type": "markdown",
      "metadata": {
        "id": "rc5TrQJw3YlS"
      },
      "source": [
        "#### Drop duplicate columns"
      ]
    },
    {
      "cell_type": "code",
      "metadata": {
        "id": "kuGzlGOm17We"
      },
      "source": [
        "df.drop(columns=['beer_name_y', 'beer_style_y', 'beer_abv_y', 'abv_diff'], inplace=True)"
      ],
      "execution_count": 102,
      "outputs": []
    },
    {
      "cell_type": "code",
      "metadata": {
        "id": "6X_It7RW4uoz"
      },
      "source": [
        "df.rename(columns={'beer_name_x':'beer_name', 'beer_style_x':'beer_style', 'beer_abv_x':'beer_abv'}, inplace=True)"
      ],
      "execution_count": 103,
      "outputs": []
    },
    {
      "cell_type": "code",
      "metadata": {
        "id": "W05_3S_Q4Isj"
      },
      "source": [
        "#df.head()"
      ],
      "execution_count": 104,
      "outputs": []
    },
    {
      "cell_type": "code",
      "metadata": {
        "id": "nudAcKlJ4Uye"
      },
      "source": [
        "#for x in df:\r\n",
        "#  print(x, ': ', df[x].isnull().sum())"
      ],
      "execution_count": 105,
      "outputs": []
    },
    {
      "cell_type": "markdown",
      "metadata": {
        "id": "01taisteCkqq"
      },
      "source": [
        "#### ABV Missing Values (Part 2)"
      ]
    },
    {
      "cell_type": "markdown",
      "metadata": {
        "id": "iMbnxHEjCvTP"
      },
      "source": [
        "There are still 50,431 missing values that need to be accounted for.\r\n",
        "\r\n",
        "Unlike some of the categorical columns, it is not as easy to input a 'n/a'. We could:\r\n",
        "* Input a 0 value - but this has the meaning that beer contains no alcohol which likely is not the case\r\n",
        "* Input a -99 - but this number may skew the analyis when it comes to modelling\r\n",
        "* Input the average - will not be exact but give us a best guess estimate for what the ABV might be\r\n",
        "\r\n",
        "Based on the choices, the decision was to go with the average ABV for the beer style of the beer with the missing ABV value - this gives the best estimate of this value given the information available to us. Doing this, means we no longer have any null values for the ABV column."
      ]
    },
    {
      "cell_type": "code",
      "metadata": {
        "id": "plkXJt82C2Tw"
      },
      "source": [
        "abv_by_beerstyle = df.groupby(by='beer_style')['beer_abv'].mean().reset_index()\r\n",
        "\r\n",
        "#abv_by_beerstyle.head()"
      ],
      "execution_count": 106,
      "outputs": []
    },
    {
      "cell_type": "code",
      "metadata": {
        "colab": {
          "base_uri": "https://localhost:8080/"
        },
        "id": "k2VD4ru8EBeM",
        "outputId": "661cb382-fcbf-476b-f310-3ec568249d87"
      },
      "source": [
        "abv_by_beerstyle.shape"
      ],
      "execution_count": 107,
      "outputs": [
        {
          "output_type": "execute_result",
          "data": {
            "text/plain": [
              "(104, 2)"
            ]
          },
          "metadata": {
            "tags": []
          },
          "execution_count": 107
        }
      ]
    },
    {
      "cell_type": "code",
      "metadata": {
        "id": "26S-P3C6Dmm3"
      },
      "source": [
        "df = pd.merge(df, abv_by_beerstyle, on='beer_style', how='left')"
      ],
      "execution_count": 108,
      "outputs": []
    },
    {
      "cell_type": "code",
      "metadata": {
        "id": "O46-hBZmEcMV"
      },
      "source": [
        "df.beer_abv_x.fillna(df.beer_abv_y, inplace=True)"
      ],
      "execution_count": 109,
      "outputs": []
    },
    {
      "cell_type": "code",
      "metadata": {
        "colab": {
          "base_uri": "https://localhost:8080/"
        },
        "id": "Kk4Vn6b0E08O",
        "outputId": "01b3062f-f6e5-436d-c30c-2dc1613d224e"
      },
      "source": [
        "df.beer_abv_x.isnull().sum()"
      ],
      "execution_count": 110,
      "outputs": [
        {
          "output_type": "execute_result",
          "data": {
            "text/plain": [
              "0"
            ]
          },
          "metadata": {
            "tags": []
          },
          "execution_count": 110
        }
      ]
    },
    {
      "cell_type": "code",
      "metadata": {
        "id": "JCqHyfPRGoov"
      },
      "source": [
        "df.drop(columns='beer_abv_y', inplace=True)"
      ],
      "execution_count": 111,
      "outputs": []
    },
    {
      "cell_type": "code",
      "metadata": {
        "id": "xm200C4DJ6HR"
      },
      "source": [
        "df.rename(columns={'beer_abv_x':'beer_abv'}, inplace=True)"
      ],
      "execution_count": 112,
      "outputs": []
    },
    {
      "cell_type": "markdown",
      "metadata": {
        "id": "7pBVZtz35ohC"
      },
      "source": [
        "#### Beer Availability"
      ]
    },
    {
      "cell_type": "markdown",
      "metadata": {
        "id": "nEEAi1X78Y3B"
      },
      "source": [
        "Look to tidy this column. \r\n",
        "\r\n",
        "* First, I reduce the number of unique variables by removing the whitespace in the text.\r\n",
        "* Second, I replace null values with 'n/a' to show these are not available. During EDA stage we can see if this is appropriate category to continue with."
      ]
    },
    {
      "cell_type": "code",
      "metadata": {
        "colab": {
          "base_uri": "https://localhost:8080/"
        },
        "id": "78HBuSW95n0_",
        "outputId": "8d576c89-749b-4361-c630-640f416db89b"
      },
      "source": [
        "df.beer_availability.nunique()"
      ],
      "execution_count": 113,
      "outputs": [
        {
          "output_type": "execute_result",
          "data": {
            "text/plain": [
              "7"
            ]
          },
          "metadata": {
            "tags": []
          },
          "execution_count": 113
        }
      ]
    },
    {
      "cell_type": "code",
      "metadata": {
        "id": "DlGY41Y851Vn"
      },
      "source": [
        "#df.beer_availability.value_counts()"
      ],
      "execution_count": 114,
      "outputs": []
    },
    {
      "cell_type": "code",
      "metadata": {
        "id": "EDXQcCMJ6KN_"
      },
      "source": [
        "df['beer_availability'] = df.beer_availability.str.strip()"
      ],
      "execution_count": 115,
      "outputs": []
    },
    {
      "cell_type": "code",
      "metadata": {
        "colab": {
          "base_uri": "https://localhost:8080/"
        },
        "id": "LIg6hCzW6aes",
        "outputId": "d742b0d1-b7b6-4be7-9e0a-b3e818cdc375"
      },
      "source": [
        "df.beer_availability.nunique()"
      ],
      "execution_count": 116,
      "outputs": [
        {
          "output_type": "execute_result",
          "data": {
            "text/plain": [
              "7"
            ]
          },
          "metadata": {
            "tags": []
          },
          "execution_count": 116
        }
      ]
    },
    {
      "cell_type": "code",
      "metadata": {
        "id": "tAZJYWKO6dXg"
      },
      "source": [
        "#df.beer_availability.value_counts()"
      ],
      "execution_count": 117,
      "outputs": []
    },
    {
      "cell_type": "code",
      "metadata": {
        "id": "bcqoIWcD6kR_"
      },
      "source": [
        "df.beer_availability.fillna('n/a', inplace=True)"
      ],
      "execution_count": 118,
      "outputs": []
    },
    {
      "cell_type": "code",
      "metadata": {
        "colab": {
          "base_uri": "https://localhost:8080/"
        },
        "id": "coehxQul6rHT",
        "outputId": "a1e12596-341d-4165-da4d-fdafe09bce39"
      },
      "source": [
        "df.beer_availability.value_counts()"
      ],
      "execution_count": 119,
      "outputs": [
        {
          "output_type": "execute_result",
          "data": {
            "text/plain": [
              "year round              793580\n",
              "rotating                244155\n",
              "n/a                     170772\n",
              "winter                  118788\n",
              "limited  brewed once    113449\n",
              "fall                     65559\n",
              "summer                   41023\n",
              "spring                   39288\n",
              "Name: beer_availability, dtype: int64"
            ]
          },
          "metadata": {
            "tags": []
          },
          "execution_count": 119
        }
      ]
    },
    {
      "cell_type": "markdown",
      "metadata": {
        "id": "Q8Y7et374Zzo"
      },
      "source": [
        "#### Beer Notes"
      ]
    },
    {
      "cell_type": "markdown",
      "metadata": {
        "id": "h_RacSb768f3"
      },
      "source": [
        "The beer notes contains a lot text that could be beneficial but may take a bit of time to investigate and tidy. Also, the top 3 notes don't provide that much additional:\r\n",
        "* no notes at this time\r\n",
        "* ibu\r\n",
        "* ingredients\r\n",
        "\r\n",
        "Based on this, I will remove this column from the dataset.\r\n",
        "\r\n",
        "\r\n"
      ]
    },
    {
      "cell_type": "code",
      "metadata": {
        "colab": {
          "base_uri": "https://localhost:8080/"
        },
        "id": "vmjvMbae4ceZ",
        "outputId": "057d0f96-070a-436c-9b61-6a99e61751be"
      },
      "source": [
        "df.beer_notes.value_counts()\r\n",
        "df.beer_notes.nunique()"
      ],
      "execution_count": 120,
      "outputs": [
        {
          "output_type": "execute_result",
          "data": {
            "text/plain": [
              "9300"
            ]
          },
          "metadata": {
            "tags": []
          },
          "execution_count": 120
        }
      ]
    },
    {
      "cell_type": "code",
      "metadata": {
        "id": "McA-nMT07GGz"
      },
      "source": [
        "#reviews.beer_notes.value_counts()"
      ],
      "execution_count": 121,
      "outputs": []
    },
    {
      "cell_type": "code",
      "metadata": {
        "id": "USy93E1M7MWQ"
      },
      "source": [
        "df['beer_notes'] = df.beer_notes.str.strip()"
      ],
      "execution_count": 122,
      "outputs": []
    },
    {
      "cell_type": "code",
      "metadata": {
        "colab": {
          "base_uri": "https://localhost:8080/"
        },
        "id": "wa5MBcc47Tbw",
        "outputId": "089355ab-5e17-4a6b-f939-ecae2ce1b2f0"
      },
      "source": [
        "df.beer_notes.nunique()"
      ],
      "execution_count": 123,
      "outputs": [
        {
          "output_type": "execute_result",
          "data": {
            "text/plain": [
              "9300"
            ]
          },
          "metadata": {
            "tags": []
          },
          "execution_count": 123
        }
      ]
    },
    {
      "cell_type": "code",
      "metadata": {
        "colab": {
          "base_uri": "https://localhost:8080/"
        },
        "id": "kiy-G8f17Wbr",
        "outputId": "3e18e5c4-b63f-4ca6-f19f-93a2d8c59a10"
      },
      "source": [
        "df.beer_notes.value_counts()"
      ],
      "execution_count": 124,
      "outputs": [
        {
          "output_type": "execute_result",
          "data": {
            "text/plain": [
              "no notes at this time                                                                                                                                                                                                                                                                                                                                                                                      705917\n",
              "esquire magazine calls our 90 minute ipa  perhaps the best ipa in america   an imperial ipa best savored from a snifter  90 minute has a great malt backbone that stands up to the extreme hopping rate                                                                                                                                                                                                      3290\n",
              "produced in the tradition of 18th century english brewers who supplied the court of russia s catherine the great  old rasputin seems to develop a cult following wherever it goes  it s a rich  intense brew with big complex flavors and a warming finish                                                                                                                                                   3111\n",
              "fresh hop ale  no spices                                                                                                                                                                                                                                                                                                                                                                                     3000\n",
              "brewed with 100  centennial hops from the pacific northwest and named after the two hearted river in michigan s upper peninsula  this ipa is bursting with hop aromas ranging from pine to grapefruit from massive hop additions in both the kettle and the fermenter                                                                                                                                        2728\n",
              "                                                                                                                                                                                                                                                                                                                                                                                                            ...  \n",
              "3 malt vareieties  cascade  target and east kent golding hops                                                                                                                                                                                                                                                                                                                                                   1\n",
              "brewed in honour of poet robert service  the service 1904 scottish stone fired ale is an easy drinker that is on tap exclusively at the bard   banker  irish times and penny farthing in victoria  the ale is brewed by adding heated stones to the kettle where sugars carmelize on the stones  resulting in a slight sweetness with a dry finish                                                              1\n",
              "this brown style porter is the perfect finishing beer for all true connoisseurs  this porter has chocolate overtones with a slightly sweet flavor and a medium body allowing it to best be compared to a mocha coffee  and thus like coffee an easy drinking  rewarding  and satisfying beer that will allow the drinker to enjoy time spent with others or by themselves contemplating life s concerns         1\n",
              "jigger ale is only available at the kohler owned old course hotel in st  andrews  scotland  and at the american club resort  specifically at the horse   plow  whistling straits and blackwolf run clubhouses                                                                                                                                                                                                   1\n",
              "a fantastic example of a german marzen  this malty lager is smooth  yet has a character backed by a 5 6  alcohol by volume  bottle conditioned in a 22oz  bottle  glacier chaser is best when served in a imperial pint glass  pour it gently to avoid rousing the yeast bed  yet be sure to induce a big head  the thick creamy head will retain throughout the entire life of the pint                        1\n",
              "Name: beer_notes, Length: 9300, dtype: int64"
            ]
          },
          "metadata": {
            "tags": []
          },
          "execution_count": 124
        }
      ]
    },
    {
      "cell_type": "code",
      "metadata": {
        "id": "VgYHwjo-95a3"
      },
      "source": [
        "df.drop(columns='beer_notes', inplace=True)"
      ],
      "execution_count": 125,
      "outputs": []
    },
    {
      "cell_type": "markdown",
      "metadata": {
        "id": "di-Blajb5iNs"
      },
      "source": [
        "#### Beers Retired"
      ]
    },
    {
      "cell_type": "markdown",
      "metadata": {
        "id": "IAYc5Fd_9SzK"
      },
      "source": [
        "Replace null values with 'n/a' to show these are not available. During EDA stage we can see if this is appropriate category to continue with."
      ]
    },
    {
      "cell_type": "code",
      "metadata": {
        "id": "ahL8GGfi5LOM"
      },
      "source": [
        "df.beer_retired.fillna('n/a', inplace=True)"
      ],
      "execution_count": 126,
      "outputs": []
    },
    {
      "cell_type": "code",
      "metadata": {
        "colab": {
          "base_uri": "https://localhost:8080/"
        },
        "id": "gqe0MPzJ42vP",
        "outputId": "8f33ea38-e997-4934-b4ce-45a0649f69c2"
      },
      "source": [
        "df.beer_retired.nunique()"
      ],
      "execution_count": 127,
      "outputs": [
        {
          "output_type": "execute_result",
          "data": {
            "text/plain": [
              "3"
            ]
          },
          "metadata": {
            "tags": []
          },
          "execution_count": 127
        }
      ]
    },
    {
      "cell_type": "code",
      "metadata": {
        "colab": {
          "base_uri": "https://localhost:8080/"
        },
        "id": "SW7ta5iA5DG5",
        "outputId": "6e23b76e-9eb2-481e-bc29-3f89a73f7ca3"
      },
      "source": [
        "df.beer_retired.value_counts()"
      ],
      "execution_count": 128,
      "outputs": [
        {
          "output_type": "execute_result",
          "data": {
            "text/plain": [
              "f      1093810\n",
              "t       322032\n",
              "n/a     170772\n",
              "Name: beer_retired, dtype: int64"
            ]
          },
          "metadata": {
            "tags": []
          },
          "execution_count": 128
        }
      ]
    },
    {
      "cell_type": "markdown",
      "metadata": {
        "id": "_KlRYkd_9i8b"
      },
      "source": [
        "#### Final Recap"
      ]
    },
    {
      "cell_type": "code",
      "metadata": {
        "id": "52iWOvJ09kr_"
      },
      "source": [
        "#df.head()"
      ],
      "execution_count": 129,
      "outputs": []
    },
    {
      "cell_type": "code",
      "metadata": {
        "id": "ckTKWHBW9qg3"
      },
      "source": [
        "#for x in df:\r\n",
        "#  print(x, ': ', df[x].isnull().sum())"
      ],
      "execution_count": 130,
      "outputs": []
    },
    {
      "cell_type": "markdown",
      "metadata": {
        "id": "2vAXZGdm4Zfo"
      },
      "source": [
        "## Brewery Analysis"
      ]
    },
    {
      "cell_type": "markdown",
      "metadata": {
        "id": "7R_L7RkaWRMy"
      },
      "source": [
        "### Create Brewery Summary Files"
      ]
    },
    {
      "cell_type": "markdown",
      "metadata": {
        "id": "5xmQ9aorWak3"
      },
      "source": [
        "#### Brewery Summary (Reviews Data)"
      ]
    },
    {
      "cell_type": "markdown",
      "metadata": {
        "id": "V2u1ZjgaYt31"
      },
      "source": [
        "Look to summarise the reviews dataset to see how many unique breweries it contains - this shows us that there are 5,840 breweries in the dataset. "
      ]
    },
    {
      "cell_type": "code",
      "metadata": {
        "id": "LIC_FRCn4qNA"
      },
      "source": [
        "reviews_brewerysumm = reviews.groupby(by=['brewery_id', 'brewery_name'], as_index=False)['review_overall'].agg(['mean', 'count']).reset_index()\r\n",
        "reviews_brewerysumm.drop(columns=['mean', 'count'], inplace=True)"
      ],
      "execution_count": 131,
      "outputs": []
    },
    {
      "cell_type": "code",
      "metadata": {
        "colab": {
          "base_uri": "https://localhost:8080/"
        },
        "id": "XQQhkRd_W9M2",
        "outputId": "22ccb2e7-d641-4bcc-db49-1dc699c2981a"
      },
      "source": [
        "reviews_brewerysumm.brewery_id.count()"
      ],
      "execution_count": 132,
      "outputs": [
        {
          "output_type": "execute_result",
          "data": {
            "text/plain": [
              "5840"
            ]
          },
          "metadata": {
            "tags": []
          },
          "execution_count": 132
        }
      ]
    },
    {
      "cell_type": "code",
      "metadata": {
        "id": "uDWbKdyCXBHX"
      },
      "source": [
        "#reviews_brewerysumm.head()"
      ],
      "execution_count": 133,
      "outputs": []
    },
    {
      "cell_type": "markdown",
      "metadata": {
        "id": "2o8bsGbEXIAC"
      },
      "source": [
        "#### Brewery Summary (Brewery Dataset)"
      ]
    },
    {
      "cell_type": "markdown",
      "metadata": {
        "id": "n1-dZXn_YYmc"
      },
      "source": [
        "Reduce the Brewery dataset to only contain brewery_id and brewery_name. This dataset still contains 50,347 breweries."
      ]
    },
    {
      "cell_type": "code",
      "metadata": {
        "colab": {
          "base_uri": "https://localhost:8080/"
        },
        "id": "VtI1WRIwXTog",
        "outputId": "377dc124-957d-4271-9892-03bf21c0f21f"
      },
      "source": [
        "breweries.brewery_id.count()"
      ],
      "execution_count": 134,
      "outputs": [
        {
          "output_type": "execute_result",
          "data": {
            "text/plain": [
              "50347"
            ]
          },
          "metadata": {
            "tags": []
          },
          "execution_count": 134
        }
      ]
    },
    {
      "cell_type": "code",
      "metadata": {
        "colab": {
          "base_uri": "https://localhost:8080/"
        },
        "id": "kz_C5I9QXZ8k",
        "outputId": "eca22916-c3ca-4314-ff60-22990e5681e5"
      },
      "source": [
        "breweries.brewery_id.nunique()"
      ],
      "execution_count": 135,
      "outputs": [
        {
          "output_type": "execute_result",
          "data": {
            "text/plain": [
              "50347"
            ]
          },
          "metadata": {
            "tags": []
          },
          "execution_count": 135
        }
      ]
    },
    {
      "cell_type": "code",
      "metadata": {
        "id": "yqb2HMRLXjRO"
      },
      "source": [
        "brewerysumm = breweries.drop(columns=['brewery_city', 'brewery_state', 'brewery_country', 'brewery_notes', 'brewery_bar', 'brewery_beertogo', 'brewery_brewery', 'brewery_eatery', 'brewery_homebrew', 'brewery_store'])"
      ],
      "execution_count": 136,
      "outputs": []
    },
    {
      "cell_type": "code",
      "metadata": {
        "id": "KTUsYKlkYJ3-"
      },
      "source": [
        "#brewerysumm.head()"
      ],
      "execution_count": 137,
      "outputs": []
    },
    {
      "cell_type": "markdown",
      "metadata": {
        "id": "5C-CNAZ5Zf7s"
      },
      "source": [
        "### Identify Matching Breweries"
      ]
    },
    {
      "cell_type": "markdown",
      "metadata": {
        "id": "XxWkFk_-Zm1-"
      },
      "source": [
        "#### Merge Summary Data"
      ]
    },
    {
      "cell_type": "markdown",
      "metadata": {
        "id": "movPG02Hd1jR"
      },
      "source": [
        "Merge together the two brewery-level datasets to allow to analyze missing and mismatched data."
      ]
    },
    {
      "cell_type": "code",
      "metadata": {
        "id": "RMk-uuuBZriF"
      },
      "source": [
        "brewerysumm_merge = pd.merge(reviews_brewerysumm, brewerysumm, how='left', on=['brewery_id'])"
      ],
      "execution_count": 138,
      "outputs": []
    },
    {
      "cell_type": "code",
      "metadata": {
        "id": "eF1SohtSbNxT"
      },
      "source": [
        "#brewerysumm_merge.head()"
      ],
      "execution_count": 139,
      "outputs": []
    },
    {
      "cell_type": "markdown",
      "metadata": {
        "id": "xDEeXS5KbRQG"
      },
      "source": [
        "#### How many missing values?"
      ]
    },
    {
      "cell_type": "markdown",
      "metadata": {
        "id": "s_1_VxiZeECS"
      },
      "source": [
        "Calculating nulls as % of total rows shows that only 15 breweries (or less than 1%) in reviews dataset were not in brewery dataset."
      ]
    },
    {
      "cell_type": "code",
      "metadata": {
        "colab": {
          "base_uri": "https://localhost:8080/"
        },
        "id": "_I5JAZMaeelJ",
        "outputId": "3b3a358c-a11d-4e8c-8e88-ec4986d62dae"
      },
      "source": [
        "nulls = brewerysumm_merge.brewery_name_y.isnull().sum()\r\n",
        "total_rows = brewerysumm_merge.brewery_id.count()\r\n",
        "\r\n",
        "print('Name null values: ', nulls)\r\n",
        "print('% of data: ', round(((nulls / total_rows) * 100), 2))"
      ],
      "execution_count": 140,
      "outputs": [
        {
          "output_type": "stream",
          "text": [
            "Name null values:  15\n",
            "% of data:  0.26\n"
          ],
          "name": "stdout"
        }
      ]
    },
    {
      "cell_type": "markdown",
      "metadata": {
        "id": "By1LtB0nfLXa"
      },
      "source": [
        "#### How many mismatched breweries?"
      ]
    },
    {
      "cell_type": "markdown",
      "metadata": {
        "id": "6jsNdYpNeaiq"
      },
      "source": [
        "When we look to see how many brewery names match between datasets, we see that the there 478 breweries (or 8.2%) that do not have an exact match."
      ]
    },
    {
      "cell_type": "code",
      "metadata": {
        "colab": {
          "base_uri": "https://localhost:8080/"
        },
        "id": "QjEBUMuofgy6",
        "outputId": "27731bf2-5b16-41fb-d1a7-19c8bd92f3e3"
      },
      "source": [
        "mismatch = brewerysumm_merge[brewerysumm_merge.brewery_name_x != brewerysumm_merge.brewery_name_y]['brewery_id'].count()\r\n",
        "\r\n",
        "print('Mismatch Rows: ', mismatch)\r\n",
        "print('% of data: ', round(((mismatch / total_rows) * 100), 2))"
      ],
      "execution_count": 141,
      "outputs": [
        {
          "output_type": "stream",
          "text": [
            "Mismatch Rows:  478\n",
            "% of data:  8.18\n"
          ],
          "name": "stdout"
        }
      ]
    },
    {
      "cell_type": "markdown",
      "metadata": {
        "id": "gWdDOjoBfxW2"
      },
      "source": [
        "#### Using Record Linkage to find pairs "
      ]
    },
    {
      "cell_type": "markdown",
      "metadata": {
        "id": "84GuDyTAepVp"
      },
      "source": [
        "While breweries may not have an exact name match, this could be due to slight variations in how name is spelt between datasets. To capture names that are close but not exact matches, we apply the record linkage method to both datasets to see what brewereies have:\r\n",
        "* Exact match on brewery_id\r\n",
        "* 80% match on brewery_name \r\n",
        "\r\n",
        "Using this shows us, that 367 breweries (or 6.7%) have no match between datasets. We will now use the breweries that do match and look to merge their additional information into our main review-level dataset."
      ]
    },
    {
      "cell_type": "code",
      "metadata": {
        "id": "D5Vo4Z1JgFqg"
      },
      "source": [
        "# Create indexing object\r\n",
        "indexer = recordlinkage.Index()\r\n",
        "\r\n",
        "# Generate pairs blocked on id\r\n",
        "indexer.block('brewery_id')\r\n",
        "pairs = indexer.index(reviews_brewerysumm, brewerysumm)\r\n",
        "\r\n",
        "# Generate the pairs\r\n",
        "pairs = indexer.index(reviews_brewerysumm, brewerysumm)\r\n",
        "\r\n",
        "# Create a Compare object\r\n",
        "compare_cl = recordlinkage.Compare()\r\n",
        "\r\n",
        "# Find exact matches for pairs of id\r\n",
        "compare_cl.exact('brewery_id', 'brewery_id', label='brewery_id')\r\n",
        "\r\n",
        "# Find similar matches for pairs of brewery_name using string similarity\r\n",
        "compare_cl.string('brewery_name', 'brewery_name', threshold=0.8, label='brewery_name')\r\n",
        "\r\n",
        "# Find matches\r\n",
        "potential_matches = compare_cl.compute(pairs, reviews_brewerysumm, brewerysumm)"
      ],
      "execution_count": 142,
      "outputs": []
    },
    {
      "cell_type": "code",
      "metadata": {
        "id": "0CuO0cFkhGdn"
      },
      "source": [
        "#potential_matches[potential_matches.sum(axis = 1) >= 2]"
      ],
      "execution_count": 143,
      "outputs": []
    },
    {
      "cell_type": "code",
      "metadata": {
        "colab": {
          "base_uri": "https://localhost:8080/"
        },
        "id": "AMkeEYhVg1Vd",
        "outputId": "765d68eb-5176-41dd-84a5-5693e18390ef"
      },
      "source": [
        "match_rows = potential_matches[potential_matches.sum(axis = 1) >= 2]['brewery_id'].count()\r\n",
        "\r\n",
        "print('Potential Match Rows: ', match_rows)\r\n",
        "print('No Brewery Match: ', total_rows - match_rows)\r\n",
        "print('% of data: ', round(((match_rows / total_rows) * 100), 2))"
      ],
      "execution_count": 144,
      "outputs": [
        {
          "output_type": "stream",
          "text": [
            "Potential Match Rows:  5473\n",
            "No Brewery Match:  367\n",
            "% of data:  93.72\n"
          ],
          "name": "stdout"
        }
      ]
    },
    {
      "cell_type": "code",
      "metadata": {
        "id": "BSfRBnsBiRTy"
      },
      "source": [
        "matches = potential_matches[potential_matches.sum(axis = 1) >= 2]\r\n",
        "match_index = matches.index.get_level_values(1)\r\n",
        "\r\n",
        "breweries_new = breweries[breweries.index.isin(match_index)]\r\n",
        "#breweries_new.head()"
      ],
      "execution_count": 145,
      "outputs": []
    },
    {
      "cell_type": "code",
      "metadata": {
        "colab": {
          "base_uri": "https://localhost:8080/"
        },
        "id": "2d1GeYUUienR",
        "outputId": "98eaf43c-ddba-4c48-87c8-02abd0a3821d"
      },
      "source": [
        "breweries_new.shape"
      ],
      "execution_count": 146,
      "outputs": [
        {
          "output_type": "execute_result",
          "data": {
            "text/plain": [
              "(5473, 12)"
            ]
          },
          "metadata": {
            "tags": []
          },
          "execution_count": 146
        }
      ]
    },
    {
      "cell_type": "markdown",
      "metadata": {
        "id": "7h85rmUtjB89"
      },
      "source": [
        "### Bring it together"
      ]
    },
    {
      "cell_type": "markdown",
      "metadata": {
        "id": "aMfDlsPajwPe"
      },
      "source": [
        "Merging the brewery data into our main dataset (including reviews and beer data) shows that their are 213,761 rows where there is not match and the new columns are nulls."
      ]
    },
    {
      "cell_type": "code",
      "metadata": {
        "id": "2-iD6fV6jGBE"
      },
      "source": [
        "df = pd.merge(df, breweries_new, how='left', on='brewery_id')"
      ],
      "execution_count": 147,
      "outputs": []
    },
    {
      "cell_type": "code",
      "metadata": {
        "id": "-NfR9LDYjU5P"
      },
      "source": [
        "#for x in df:\r\n",
        "#  print(x, ': ', df[x].isnull().sum())"
      ],
      "execution_count": 148,
      "outputs": []
    },
    {
      "cell_type": "markdown",
      "metadata": {
        "id": "vQSd_MbwkI7R"
      },
      "source": [
        "### Tidying Up"
      ]
    },
    {
      "cell_type": "markdown",
      "metadata": {
        "id": "BD2iyDY4_KX1"
      },
      "source": [
        "#### Brewery Name"
      ]
    },
    {
      "cell_type": "markdown",
      "metadata": {
        "id": "UYtCUE5H_PA1"
      },
      "source": [
        "There are two brewery name columns in the dataset so we will drop the one which was associated with the Brewery dataset and contains null values."
      ]
    },
    {
      "cell_type": "code",
      "metadata": {
        "id": "ko7R02nW_OM2"
      },
      "source": [
        "df.drop(columns='brewery_name_y', inplace=True)\r\n",
        "df.rename(columns={'brewery_name_x':'brewery_name'}, inplace=True)\r\n",
        "#df.head()"
      ],
      "execution_count": 149,
      "outputs": []
    },
    {
      "cell_type": "markdown",
      "metadata": {
        "id": "w-DvuOfZAucm"
      },
      "source": [
        "#### Brewery City, State & Country"
      ]
    },
    {
      "cell_type": "markdown",
      "metadata": {
        "id": "Owuwu8IOAy6u"
      },
      "source": [
        "There are 213,761 rows that did not match between the reviews and the breweries datasets which means we do not have information on the location of these breweries.\r\n",
        "\r\n",
        "For now, we will put these missing values as 'n/a' in the dataset and can look to impute data at later stage (during EDA) if required."
      ]
    },
    {
      "cell_type": "code",
      "metadata": {
        "id": "sZ0yRpCyBdr1"
      },
      "source": [
        "df.brewery_city.fillna('n/a', inplace=True)\r\n",
        "df.brewery_state.fillna('n/a', inplace=True)\r\n",
        "df.brewery_country.fillna('n/a', inplace=True)"
      ],
      "execution_count": 150,
      "outputs": []
    },
    {
      "cell_type": "markdown",
      "metadata": {
        "id": "2GRClGwRpIpz"
      },
      "source": [
        "#### Brewery Type"
      ]
    },
    {
      "cell_type": "markdown",
      "metadata": {
        "id": "e1DVXjsvpL6v"
      },
      "source": [
        "Earlier we split the brewery_type field into 6 seperate boolean columns. Now, when merging we see that 213,761 rows that we couldn't match on will now need to have brewery_type associated with them. \r\n",
        "\r\n",
        "Because we do not know what type of breweries these are, I added in an additional boolean field to say if brewery type wasn't available - brewery_na set to 1 for null value rows and 0 for rows with values."
      ]
    },
    {
      "cell_type": "code",
      "metadata": {
        "id": "r5RJ9pa7lBX4"
      },
      "source": [
        "df['brewery_na'] = 0\r\n",
        "df['brewery_na'] = np.where((df.brewery_bar.isnull()), 1 ,df.brewery_na)"
      ],
      "execution_count": 151,
      "outputs": []
    },
    {
      "cell_type": "code",
      "metadata": {
        "id": "qYPMKXtKoi9_"
      },
      "source": [
        "df['brewery_bar'] = np.where((df.brewery_bar.isnull()), 0 ,df.brewery_bar)\r\n",
        "df['brewery_beertogo'] = np.where((df.brewery_beertogo.isnull()), 0 ,df.brewery_beertogo)\r\n",
        "df['brewery_brewery'] = np.where((df.brewery_brewery.isnull()), 0 ,df.brewery_brewery)\r\n",
        "df['brewery_eatery'] = np.where((df.brewery_eatery.isnull()), 0 ,df.brewery_eatery)\r\n",
        "df['brewery_homebrew'] = np.where((df.brewery_homebrew.isnull()), 0 ,df.brewery_homebrew)\r\n",
        "df['brewery_store'] = np.where((df.brewery_store.isnull()), 0 ,df.brewery_store)"
      ],
      "execution_count": 152,
      "outputs": []
    },
    {
      "cell_type": "code",
      "metadata": {
        "id": "-stQzWaNAKmW"
      },
      "source": [
        "df['brewery_bar'] = df.brewery_bar.astype('int')\r\n",
        "df['brewery_beertogo'] = df.brewery_beertogo.astype('int')\r\n",
        "df['brewery_brewery'] = df.brewery_brewery.astype('int')\r\n",
        "df['brewery_eatery'] = df.brewery_eatery.astype('int')\r\n",
        "df['brewery_homebrew'] = df.brewery_homebrew.astype('int')\r\n",
        "df['brewery_store'] = df.brewery_store.astype('int')"
      ],
      "execution_count": 153,
      "outputs": []
    },
    {
      "cell_type": "code",
      "metadata": {
        "id": "N39wX2vfAFig"
      },
      "source": [
        "#df.dtypes"
      ],
      "execution_count": 154,
      "outputs": []
    },
    {
      "cell_type": "markdown",
      "metadata": {
        "id": "EEWHvkce-S7K"
      },
      "source": [
        "#### Brewery Notes"
      ]
    },
    {
      "cell_type": "markdown",
      "metadata": {
        "id": "5qYizzTC-vJw"
      },
      "source": [
        "Similar to beer notes, the brewery notes contains a lot text that could be beneficial but may take a bit of time to investigate and tidy.  \r\n",
        "\r\n",
        "Based on this, I will remove this column from the dataset."
      ]
    },
    {
      "cell_type": "code",
      "metadata": {
        "colab": {
          "base_uri": "https://localhost:8080/"
        },
        "id": "NGpwcdeo-Vn3",
        "outputId": "58afe2bb-1f9f-4f0a-ed27-d1e0c9cf10e3"
      },
      "source": [
        "df.brewery_notes.nunique()"
      ],
      "execution_count": 155,
      "outputs": [
        {
          "output_type": "execute_result",
          "data": {
            "text/plain": [
              "759"
            ]
          },
          "metadata": {
            "tags": []
          },
          "execution_count": 155
        }
      ]
    },
    {
      "cell_type": "code",
      "metadata": {
        "colab": {
          "base_uri": "https://localhost:8080/"
        },
        "id": "iz3buzXU-Zfy",
        "outputId": "c468a1a8-8618-4354-a7d5-cd412f101cb0"
      },
      "source": [
        "df.brewery_notes.value_counts()"
      ],
      "execution_count": 156,
      "outputs": [
        {
          "output_type": "execute_result",
          "data": {
            "text/plain": [
              "no notes at this time                                                                                                                                                                                                   785958\n",
              "location of their r d facility where they also brew limited batches for the boston market  tours are also available                                                                                                      39444\n",
              "stone brewing world bistro   gardens website   hours                                                                                                                                                                     33066\n",
              "on site brewpub                                                                                                                                                                                                          24083\n",
              "owned by anheuser busch inbev                                                                                                                                                                                            21190\n",
              "                                                                                                                                                                                                                         ...  \n",
              "formerly hobden s wessex brewery                                                                                                                                                                                             1\n",
              "contract brewed beer owned by the turtle distributing company of south florida                                                                                                                                               1\n",
              "beers brewed by rhyton                                                                                                                                                                                                       1\n",
              "paulaner brauhaus  pulana pijiu fang   offers a munich style microbrewery and authentic german cuisine in a festive setting  located at the kempinski hotel                                                                  1\n",
              "known as sapporo tezukuri bakushu  hand made beer  or taiken kobo  hands on experience workshop  or canadian brewery  in reference to the origin of the second hand equipment and the brewers  training in vancouver         1\n",
              "Name: brewery_notes, Length: 759, dtype: int64"
            ]
          },
          "metadata": {
            "tags": []
          },
          "execution_count": 156
        }
      ]
    },
    {
      "cell_type": "code",
      "metadata": {
        "id": "Q0rcU13w-94d"
      },
      "source": [
        "df.drop(columns='brewery_notes', inplace=True)"
      ],
      "execution_count": 157,
      "outputs": []
    },
    {
      "cell_type": "markdown",
      "metadata": {
        "id": "iZK8bpgtB2Vx"
      },
      "source": [
        "## Final Recap"
      ]
    },
    {
      "cell_type": "code",
      "metadata": {
        "colab": {
          "base_uri": "https://localhost:8080/"
        },
        "id": "4aLVCCONpDfd",
        "outputId": "f51e7768-96f4-41d5-9921-37dae262d119"
      },
      "source": [
        "for x in df:\r\n",
        "  print(x, ': ', df[x].isnull().sum())"
      ],
      "execution_count": 158,
      "outputs": [
        {
          "output_type": "stream",
          "text": [
            "brewery_id :  0\n",
            "brewery_name :  0\n",
            "review_time :  0\n",
            "review_overall :  0\n",
            "review_aroma :  0\n",
            "review_appearance :  0\n",
            "review_profilename :  0\n",
            "beer_style :  0\n",
            "review_palate :  0\n",
            "review_taste :  0\n",
            "beer_name :  0\n",
            "beer_abv :  0\n",
            "beer_id :  0\n",
            "beer_availability :  0\n",
            "beer_retired :  0\n",
            "brewery_city :  0\n",
            "brewery_state :  0\n",
            "brewery_country :  0\n",
            "brewery_bar :  0\n",
            "brewery_beertogo :  0\n",
            "brewery_brewery :  0\n",
            "brewery_eatery :  0\n",
            "brewery_homebrew :  0\n",
            "brewery_store :  0\n",
            "brewery_na :  0\n"
          ],
          "name": "stdout"
        }
      ]
    },
    {
      "cell_type": "code",
      "metadata": {
        "colab": {
          "base_uri": "https://localhost:8080/"
        },
        "id": "9TVSttTnby0P",
        "outputId": "ea05ab51-5317-427d-871c-2226be0aff81"
      },
      "source": [
        "df.dtypes"
      ],
      "execution_count": 159,
      "outputs": [
        {
          "output_type": "execute_result",
          "data": {
            "text/plain": [
              "brewery_id                     int64\n",
              "brewery_name                  object\n",
              "review_time           datetime64[ns]\n",
              "review_overall               float64\n",
              "review_aroma                 float64\n",
              "review_appearance            float64\n",
              "review_profilename            object\n",
              "beer_style                    object\n",
              "review_palate                float64\n",
              "review_taste                 float64\n",
              "beer_name                     object\n",
              "beer_abv                     float64\n",
              "beer_id                        int64\n",
              "beer_availability             object\n",
              "beer_retired                  object\n",
              "brewery_city                  object\n",
              "brewery_state                 object\n",
              "brewery_country               object\n",
              "brewery_bar                    int64\n",
              "brewery_beertogo               int64\n",
              "brewery_brewery                int64\n",
              "brewery_eatery                 int64\n",
              "brewery_homebrew               int64\n",
              "brewery_store                  int64\n",
              "brewery_na                     int64\n",
              "dtype: object"
            ]
          },
          "metadata": {
            "tags": []
          },
          "execution_count": 159
        }
      ]
    },
    {
      "cell_type": "code",
      "metadata": {
        "id": "pM9MS1MmcDow"
      },
      "source": [
        "df['brewery_name'] = df.brewery_name.str.title()\r\n",
        "df['beer_name'] = df.beer_name.str.title()\r\n",
        "df['beer_style'] = df.beer_style.str.title()\r\n",
        "df['brewery_city'] = df.brewery_city.str.title()\r\n",
        "df['brewery_state'] = df.brewery_state.str.upper()\r\n",
        "df['brewery_country'] = df.brewery_country.str.upper()\r\n",
        "df['beer_availability'] = df.beer_availability.str.title()\r\n",
        "df['beer_retired'] = df.beer_retired.str.capitalize()"
      ],
      "execution_count": 160,
      "outputs": []
    },
    {
      "cell_type": "code",
      "metadata": {
        "id": "59UdZgM3HIAJ"
      },
      "source": [
        "column_order = ['review_time', 'review_profilename', 'brewery_name', 'beer_name', 'beer_style', 'beer_abv', 'review_overall', 'review_appearance', 'review_aroma', 'review_palate', 'review_taste', 'brewery_city', 'brewery_state', 'brewery_country', 'beer_availability', 'beer_retired', 'brewery_beertogo', 'brewery_brewery', 'brewery_eatery', 'brewery_homebrew', 'brewery_store', 'brewery_na']\r\n",
        "\r\n",
        "df = df[column_order]"
      ],
      "execution_count": 161,
      "outputs": []
    },
    {
      "cell_type": "markdown",
      "metadata": {
        "id": "3XbxYfylKbAP"
      },
      "source": [
        "## Final Datasets"
      ]
    },
    {
      "cell_type": "markdown",
      "metadata": {
        "id": "H80fDGXrY020"
      },
      "source": [
        "### Review-Level Dataset"
      ]
    },
    {
      "cell_type": "markdown",
      "metadata": {
        "id": "zAVYI3LUY5RK"
      },
      "source": [
        "The dataset that we pulled together so far is at review-level, meaning it has every review and score associated with that review (as well as the additional information related to beers and breweries we added to it).\r\n",
        "\r\n",
        "This leaves us with 1.59 million rows and 22 dimensions."
      ]
    },
    {
      "cell_type": "code",
      "metadata": {
        "colab": {
          "base_uri": "https://localhost:8080/",
          "height": 0
        },
        "id": "y85_p1TJOKF_",
        "outputId": "81fc9999-649b-4e8f-92f4-08f514637664"
      },
      "source": [
        "df.head()"
      ],
      "execution_count": 162,
      "outputs": [
        {
          "output_type": "execute_result",
          "data": {
            "text/html": [
              "<div>\n",
              "<style scoped>\n",
              "    .dataframe tbody tr th:only-of-type {\n",
              "        vertical-align: middle;\n",
              "    }\n",
              "\n",
              "    .dataframe tbody tr th {\n",
              "        vertical-align: top;\n",
              "    }\n",
              "\n",
              "    .dataframe thead th {\n",
              "        text-align: right;\n",
              "    }\n",
              "</style>\n",
              "<table border=\"1\" class=\"dataframe\">\n",
              "  <thead>\n",
              "    <tr style=\"text-align: right;\">\n",
              "      <th></th>\n",
              "      <th>review_time</th>\n",
              "      <th>review_profilename</th>\n",
              "      <th>brewery_name</th>\n",
              "      <th>beer_name</th>\n",
              "      <th>beer_style</th>\n",
              "      <th>beer_abv</th>\n",
              "      <th>review_overall</th>\n",
              "      <th>review_appearance</th>\n",
              "      <th>review_aroma</th>\n",
              "      <th>review_palate</th>\n",
              "      <th>review_taste</th>\n",
              "      <th>brewery_city</th>\n",
              "      <th>brewery_state</th>\n",
              "      <th>brewery_country</th>\n",
              "      <th>beer_availability</th>\n",
              "      <th>beer_retired</th>\n",
              "      <th>brewery_beertogo</th>\n",
              "      <th>brewery_brewery</th>\n",
              "      <th>brewery_eatery</th>\n",
              "      <th>brewery_homebrew</th>\n",
              "      <th>brewery_store</th>\n",
              "      <th>brewery_na</th>\n",
              "    </tr>\n",
              "  </thead>\n",
              "  <tbody>\n",
              "    <tr>\n",
              "      <th>0</th>\n",
              "      <td>2009-02-16 20:57:03</td>\n",
              "      <td>stcules</td>\n",
              "      <td>Vecchio Birraio</td>\n",
              "      <td>Sausa Weizen</td>\n",
              "      <td>Hefeweizen</td>\n",
              "      <td>5.0</td>\n",
              "      <td>1.5</td>\n",
              "      <td>2.5</td>\n",
              "      <td>2.0</td>\n",
              "      <td>1.5</td>\n",
              "      <td>1.5</td>\n",
              "      <td>Marsango Di Campo San Martino (Pd)</td>\n",
              "      <td>IT0</td>\n",
              "      <td>IT</td>\n",
              "      <td>Year Round</td>\n",
              "      <td>F</td>\n",
              "      <td>0</td>\n",
              "      <td>1</td>\n",
              "      <td>1</td>\n",
              "      <td>0</td>\n",
              "      <td>0</td>\n",
              "      <td>0</td>\n",
              "    </tr>\n",
              "    <tr>\n",
              "      <th>1</th>\n",
              "      <td>2009-03-01 13:44:57</td>\n",
              "      <td>stcules</td>\n",
              "      <td>Vecchio Birraio</td>\n",
              "      <td>Red Moon</td>\n",
              "      <td>English Strong Ale</td>\n",
              "      <td>6.2</td>\n",
              "      <td>3.0</td>\n",
              "      <td>3.0</td>\n",
              "      <td>2.5</td>\n",
              "      <td>3.0</td>\n",
              "      <td>3.0</td>\n",
              "      <td>Marsango Di Campo San Martino (Pd)</td>\n",
              "      <td>IT0</td>\n",
              "      <td>IT</td>\n",
              "      <td>Year Round</td>\n",
              "      <td>F</td>\n",
              "      <td>0</td>\n",
              "      <td>1</td>\n",
              "      <td>1</td>\n",
              "      <td>0</td>\n",
              "      <td>0</td>\n",
              "      <td>0</td>\n",
              "    </tr>\n",
              "    <tr>\n",
              "      <th>2</th>\n",
              "      <td>2009-03-01 14:10:04</td>\n",
              "      <td>stcules</td>\n",
              "      <td>Vecchio Birraio</td>\n",
              "      <td>Black Horse Black Beer</td>\n",
              "      <td>Foreign   Export Stout</td>\n",
              "      <td>6.5</td>\n",
              "      <td>3.0</td>\n",
              "      <td>3.0</td>\n",
              "      <td>2.5</td>\n",
              "      <td>3.0</td>\n",
              "      <td>3.0</td>\n",
              "      <td>Marsango Di Campo San Martino (Pd)</td>\n",
              "      <td>IT0</td>\n",
              "      <td>IT</td>\n",
              "      <td>Year Round</td>\n",
              "      <td>F</td>\n",
              "      <td>0</td>\n",
              "      <td>1</td>\n",
              "      <td>1</td>\n",
              "      <td>0</td>\n",
              "      <td>0</td>\n",
              "      <td>0</td>\n",
              "    </tr>\n",
              "    <tr>\n",
              "      <th>3</th>\n",
              "      <td>2009-02-15 19:12:25</td>\n",
              "      <td>stcules</td>\n",
              "      <td>Vecchio Birraio</td>\n",
              "      <td>Sausa Pils</td>\n",
              "      <td>German Pilsener</td>\n",
              "      <td>5.0</td>\n",
              "      <td>3.0</td>\n",
              "      <td>3.5</td>\n",
              "      <td>3.0</td>\n",
              "      <td>2.5</td>\n",
              "      <td>3.0</td>\n",
              "      <td>Marsango Di Campo San Martino (Pd)</td>\n",
              "      <td>IT0</td>\n",
              "      <td>IT</td>\n",
              "      <td>Year Round</td>\n",
              "      <td>F</td>\n",
              "      <td>0</td>\n",
              "      <td>1</td>\n",
              "      <td>1</td>\n",
              "      <td>0</td>\n",
              "      <td>0</td>\n",
              "      <td>0</td>\n",
              "    </tr>\n",
              "    <tr>\n",
              "      <th>4</th>\n",
              "      <td>2010-12-30 18:53:26</td>\n",
              "      <td>johnmichaelsen</td>\n",
              "      <td>Caldera Brewing Company</td>\n",
              "      <td>Cauldron Dipa</td>\n",
              "      <td>American Double   Imperial Ipa</td>\n",
              "      <td>7.7</td>\n",
              "      <td>4.0</td>\n",
              "      <td>4.0</td>\n",
              "      <td>4.5</td>\n",
              "      <td>4.0</td>\n",
              "      <td>4.5</td>\n",
              "      <td>Ashland</td>\n",
              "      <td>OR</td>\n",
              "      <td>US</td>\n",
              "      <td>N/A</td>\n",
              "      <td>N/a</td>\n",
              "      <td>0</td>\n",
              "      <td>1</td>\n",
              "      <td>1</td>\n",
              "      <td>0</td>\n",
              "      <td>0</td>\n",
              "      <td>0</td>\n",
              "    </tr>\n",
              "  </tbody>\n",
              "</table>\n",
              "</div>"
            ],
            "text/plain": [
              "          review_time review_profilename  ... brewery_store brewery_na\n",
              "0 2009-02-16 20:57:03            stcules  ...             0          0\n",
              "1 2009-03-01 13:44:57            stcules  ...             0          0\n",
              "2 2009-03-01 14:10:04            stcules  ...             0          0\n",
              "3 2009-02-15 19:12:25            stcules  ...             0          0\n",
              "4 2010-12-30 18:53:26     johnmichaelsen  ...             0          0\n",
              "\n",
              "[5 rows x 22 columns]"
            ]
          },
          "metadata": {
            "tags": []
          },
          "execution_count": 162
        }
      ]
    },
    {
      "cell_type": "code",
      "metadata": {
        "colab": {
          "base_uri": "https://localhost:8080/"
        },
        "id": "V6ugxhppZUBJ",
        "outputId": "d5d2ba3f-c9ed-4873-8ef1-982be9bb3691"
      },
      "source": [
        "df.shape"
      ],
      "execution_count": 163,
      "outputs": [
        {
          "output_type": "execute_result",
          "data": {
            "text/plain": [
              "(1586614, 22)"
            ]
          },
          "metadata": {
            "tags": []
          },
          "execution_count": 163
        }
      ]
    },
    {
      "cell_type": "markdown",
      "metadata": {
        "id": "EQu9yry2gI26"
      },
      "source": [
        "### Beer-Level Dataset"
      ]
    },
    {
      "cell_type": "markdown",
      "metadata": {
        "id": "5UxuUUCUgRms"
      },
      "source": [
        "Focus of our study is on understanding which beer is the most popular to support our decision on new beer to produce. With this in mind, we will also create a dataset that is grouped at beer-level.\r\n",
        "\r\n",
        "For this, we will group across all the beer and brewery categories that we have in our main dataset and then get information on:\r\n",
        "* Number of reviews for each beer\r\n",
        "* Mean for each score (i.e. overall, appearance, aroma, palate, taste), for each beer\r\n",
        "* Standard Deviation for each score, for each beer\r\n",
        "* Lowest/min for each score, for each beer \r\n",
        "* Highest/max for each score, for each beer \r\n",
        "\r\n",
        "For Standard Deviation, there 23,672 that become null values due to there only being 1 review to calculate this from. For time-being, this has been inputed as 0.\r\n",
        "\r\n",
        "Further review of this dataset will take place in the EDA section next."
      ]
    },
    {
      "cell_type": "code",
      "metadata": {
        "id": "8h3TV5GgONUw"
      },
      "source": [
        "beerlevel_groupby = ['brewery_name', 'beer_name', 'beer_style', 'beer_abv', 'brewery_city', 'brewery_state', 'brewery_country', 'beer_availability', 'beer_retired', 'brewery_beertogo', 'brewery_brewery', 'brewery_eatery', 'brewery_homebrew', 'brewery_store', 'brewery_na']\r\n",
        "\r\n",
        "df_beer = df.groupby(by=beerlevel_groupby, as_index=False).agg(['mean', 'count', 'max', 'min', 'std']).reset_index()"
      ],
      "execution_count": 164,
      "outputs": []
    },
    {
      "cell_type": "code",
      "metadata": {
        "id": "v5P2mIMoQy07"
      },
      "source": [
        "new_columns = ['brewery_name', 'beer_name', 'beer_style', 'beer_abv', 'brewery_city', 'brewery_state', 'brewery_country', 'beer_availability', \r\n",
        "               'beer_retired', 'brewery_beertogo', 'brewery_brewery', 'brewery_eatery', 'brewery_homebrew', 'brewery_store', 'brewery_na',\r\n",
        "               'review_overall_mean', 'review_overall_count', 'review_overall_max', 'review_overall_min', 'review_overall_std',\r\n",
        "               'review_appearance_mean', 'review_appearance_count', 'review_appearance_max', 'review_appearance_min', 'review_appearance_std',\r\n",
        "               'review_aroma_mean', 'review_aroma_count', 'review_aroma_max', 'review_aroma_min', 'review_aroma_std',\r\n",
        "               'review_palate_mean', 'review_palate_count', 'review_palate_max', 'review_palate_min', 'review_palate_std',\r\n",
        "               'review_taste_mean', 'review_taste_count', 'review_taste_max', 'review_taste_min', 'review_taste_std']\r\n",
        "\r\n",
        "df_beer.columns = new_columns"
      ],
      "execution_count": 165,
      "outputs": []
    },
    {
      "cell_type": "code",
      "metadata": {
        "id": "9IENq8FBSOIR"
      },
      "source": [
        "#df_beer.head()"
      ],
      "execution_count": 166,
      "outputs": []
    },
    {
      "cell_type": "code",
      "metadata": {
        "id": "cz0dErI-T4f5"
      },
      "source": [
        "df_beer.drop(columns=['review_appearance_count', 'review_aroma_count', 'review_palate_count', 'review_taste_count'], inplace=True)\r\n",
        "df_beer.rename(columns={'review_overall_count':'beer_reviews'}, inplace=True)\r\n",
        "#df_beer.head()"
      ],
      "execution_count": 167,
      "outputs": []
    },
    {
      "cell_type": "code",
      "metadata": {
        "id": "pG8dyDQDUy75"
      },
      "source": [
        "#df_beer['review_overall_range'] = df_beer.review_overall_max - df_beer.review_overall_min\r\n",
        "#df_beer['review_appearance_range'] = df_beer.review_appearance_max - df_beer.review_appearance_min\r\n",
        "#df_beer['review_aroma_range'] = df_beer.review_aroma_max - df_beer.review_aroma_min\r\n",
        "#df_beer['review_palate_range'] = df_beer.review_palate_max - df_beer.review_palate_min\r\n",
        "#df_beer['review_taste_range'] = df_beer.review_taste_max - df_beer.review_taste_min"
      ],
      "execution_count": 168,
      "outputs": []
    },
    {
      "cell_type": "code",
      "metadata": {
        "id": "Cv80QDtCXTvA"
      },
      "source": [
        "column_order = ['brewery_name', 'beer_name', 'beer_style', 'beer_abv', 'brewery_city', 'brewery_state', 'brewery_country', 'beer_availability', \r\n",
        "               'beer_retired', 'brewery_beertogo', 'brewery_brewery', 'brewery_eatery', 'brewery_homebrew', 'brewery_store', 'brewery_na',\r\n",
        "                'beer_reviews', 'review_overall_mean', 'review_appearance_mean', 'review_aroma_mean', 'review_palate_mean', 'review_taste_mean', \r\n",
        "                'review_overall_std', 'review_appearance_std', 'review_aroma_std', 'review_palate_std', 'review_taste_std', \r\n",
        "                'review_overall_min', 'review_appearance_min', 'review_aroma_min', 'review_palate_min', 'review_taste_min',\r\n",
        "                'review_overall_max', 'review_appearance_max', 'review_aroma_max', 'review_palate_max', 'review_taste_max']\r\n",
        "\r\n",
        "df_beer = df_beer[column_order]"
      ],
      "execution_count": 169,
      "outputs": []
    },
    {
      "cell_type": "code",
      "metadata": {
        "colab": {
          "base_uri": "https://localhost:8080/"
        },
        "id": "N2gZVgj_f6hB",
        "outputId": "8c0c2ce1-30aa-4621-8e20-aaabc7bf0eff"
      },
      "source": [
        "df_beer.shape"
      ],
      "execution_count": 170,
      "outputs": [
        {
          "output_type": "execute_result",
          "data": {
            "text/plain": [
              "(66045, 36)"
            ]
          },
          "metadata": {
            "tags": []
          },
          "execution_count": 170
        }
      ]
    },
    {
      "cell_type": "code",
      "metadata": {
        "id": "vcb0kIpGYYMq"
      },
      "source": [
        "#for x in df_beer:\r\n",
        "#  print(x, ': ', df_beer[x].isnull().sum())"
      ],
      "execution_count": 171,
      "outputs": []
    },
    {
      "cell_type": "code",
      "metadata": {
        "id": "LIpZuC8efzqW"
      },
      "source": [
        "df_beer.review_overall_std.fillna(0, inplace=True)\r\n",
        "df_beer.review_appearance_std.fillna(0, inplace=True)\r\n",
        "df_beer.review_aroma_std.fillna(0, inplace=True)\r\n",
        "df_beer.review_palate_std.fillna(0, inplace=True)\r\n",
        "df_beer.review_taste_std.fillna(0, inplace=True)"
      ],
      "execution_count": 172,
      "outputs": []
    },
    {
      "cell_type": "code",
      "metadata": {
        "id": "dz-oGOwFi5SI"
      },
      "source": [
        "#for x in df_beer:\r\n",
        "#  print(x, ': ', df_beer[x].isnull().sum())"
      ],
      "execution_count": 173,
      "outputs": []
    },
    {
      "cell_type": "markdown",
      "metadata": {
        "id": "sMOcAycVjgnj"
      },
      "source": [
        "## Output Data Files"
      ]
    },
    {
      "cell_type": "code",
      "metadata": {
        "id": "67a9eEcEjjXc"
      },
      "source": [
        "df.to_csv('beer_reviews_cleaned.csv')\r\n",
        "df_beer.to_csv('beers_cleaned.csv')"
      ],
      "execution_count": 174,
      "outputs": []
    }
  ]
}
