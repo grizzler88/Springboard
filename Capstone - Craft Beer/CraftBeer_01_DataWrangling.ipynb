{
  "nbformat": 4,
  "nbformat_minor": 0,
  "metadata": {
    "colab": {
      "name": "CraftBeer_01_DataWrangling.ipynb",
      "provenance": [],
      "toc_visible": true,
      "authorship_tag": "ABX9TyOT3BzfvYsQVLIBMEyX8QSa",
      "include_colab_link": true
    },
    "kernelspec": {
      "name": "python3",
      "display_name": "Python 3"
    }
  },
  "cells": [
    {
      "cell_type": "markdown",
      "metadata": {
        "id": "view-in-github",
        "colab_type": "text"
      },
      "source": [
        "<a href=\"https://colab.research.google.com/github/grizzler88/Springboard/blob/master/Capstone%20-%20Craft%20Beer/CraftBeer_01_DataWrangling.ipynb\" target=\"_parent\"><img src=\"https://colab.research.google.com/assets/colab-badge.svg\" alt=\"Open In Colab\"/></a>"
      ]
    },
    {
      "cell_type": "markdown",
      "metadata": {
        "id": "PSjspQHb3d6F"
      },
      "source": [
        "# Capstone 3: Craft Beer Recommendation \n",
        "\n",
        "#Data Wrangling (Part 1) "
      ]
    },
    {
      "cell_type": "markdown",
      "metadata": {
        "id": "NSwMKgayBQjb"
      },
      "source": [
        "## Import packages and load data"
      ]
    },
    {
      "cell_type": "code",
      "metadata": {
        "id": "nl5-9zqv4CP-"
      },
      "source": [
        "import pandas as pd\n",
        "import numpy as np\n",
        "import matplotlib.pyplot as plt\n",
        "import seaborn as sns\n",
        "import datetime as dt"
      ],
      "execution_count": 1,
      "outputs": []
    },
    {
      "cell_type": "code",
      "metadata": {
        "id": "xSRTzAN764dJ"
      },
      "source": [
        "reviews = pd.read_csv('beer_reviews.csv')\n",
        "beers = pd.read_csv('beers.csv')\n",
        "breweries = pd.read_csv('breweries.csv')"
      ],
      "execution_count": 2,
      "outputs": []
    },
    {
      "cell_type": "markdown",
      "metadata": {
        "id": "cWOVjOBRLlBM"
      },
      "source": [
        "## Review Datasets"
      ]
    },
    {
      "cell_type": "markdown",
      "metadata": {
        "id": "H8W5A9cxBU7V"
      },
      "source": [
        "### Reviews Dataset"
      ]
    },
    {
      "cell_type": "markdown",
      "metadata": {
        "id": "LeYSlHDeBt2x"
      },
      "source": [
        "Reviews dataset has the main information we are looking for on how customers rate each beer across a number of categoreis including:\n",
        "* Overall\n",
        "* Aroma\n",
        "* Appearance\n",
        "* Palate\n",
        "* Taste\n",
        "\n",
        "This also includes the time of the review and the user's profile name.\n",
        "\n",
        "The dataset also includes some information about the beer and brewery including:\n",
        "* Beer Name\n",
        "* Beer Style\n",
        "* Beer ABV (Alcohol by Volume)\n",
        "* Brewery Name"
      ]
    },
    {
      "cell_type": "code",
      "metadata": {
        "colab": {
          "base_uri": "https://localhost:8080/"
        },
        "id": "V_Wpxnos8BxA",
        "outputId": "5f6c1f77-ae68-41e7-ca6c-0cfa0dae43b7"
      },
      "source": [
        "print('Reviews: ', reviews.shape)"
      ],
      "execution_count": 3,
      "outputs": [
        {
          "output_type": "stream",
          "text": [
            "Reviews:  (1586614, 13)\n"
          ],
          "name": "stdout"
        }
      ]
    },
    {
      "cell_type": "code",
      "metadata": {
        "id": "EoyZP2gF8Drg"
      },
      "source": [
        "#reviews.head()"
      ],
      "execution_count": 4,
      "outputs": []
    },
    {
      "cell_type": "code",
      "metadata": {
        "id": "GOBn11q6FxXf"
      },
      "source": [
        "#reviews.describe()"
      ],
      "execution_count": 5,
      "outputs": []
    },
    {
      "cell_type": "code",
      "metadata": {
        "id": "YRYWCusYVQKb"
      },
      "source": [
        "#reviews.dtypes"
      ],
      "execution_count": 6,
      "outputs": []
    },
    {
      "cell_type": "markdown",
      "metadata": {
        "id": "RRdiuvCLVeFy"
      },
      "source": [
        "#### Change Column Names"
      ]
    },
    {
      "cell_type": "markdown",
      "metadata": {
        "id": "SDsAoOPLVzxm"
      },
      "source": [
        "Update to Beer ID column to make cleaner."
      ]
    },
    {
      "cell_type": "code",
      "metadata": {
        "id": "PsWXTMU_VnFD"
      },
      "source": [
        "reviews.rename(columns={'beer_beerid':'beer_id'}, inplace=True)"
      ],
      "execution_count": 7,
      "outputs": []
    },
    {
      "cell_type": "markdown",
      "metadata": {
        "id": "9IpdYIUEUiNz"
      },
      "source": [
        "#### Format 'review_time' column"
      ]
    },
    {
      "cell_type": "markdown",
      "metadata": {
        "id": "zXcPwrgoUt9U"
      },
      "source": [
        "Date field appears to be in UNIX format which I will to convert to datetime object.\n",
        "\n",
        "Below Stack Overflow article was used to identify solution\n",
        "\n",
        "https://stackoverflow.com/questions/19231871/convert-unix-time-to-readable-date-in-pandas-dataframe "
      ]
    },
    {
      "cell_type": "code",
      "metadata": {
        "id": "yDaXxEF5UgYk"
      },
      "source": [
        "reviews['review_time'] = pd.to_datetime(reviews['review_time'], unit='s')"
      ],
      "execution_count": 8,
      "outputs": []
    },
    {
      "cell_type": "code",
      "metadata": {
        "colab": {
          "base_uri": "https://localhost:8080/"
        },
        "id": "JS6pPBGBUw7A",
        "outputId": "4503c963-12ad-4cdc-eedb-e421919edd8a"
      },
      "source": [
        "reviews.head()\n",
        "reviews.dtypes"
      ],
      "execution_count": 9,
      "outputs": [
        {
          "output_type": "execute_result",
          "data": {
            "text/plain": [
              "brewery_id                     int64\n",
              "brewery_name                  object\n",
              "review_time           datetime64[ns]\n",
              "review_overall               float64\n",
              "review_aroma                 float64\n",
              "review_appearance            float64\n",
              "review_profilename            object\n",
              "beer_style                    object\n",
              "review_palate                float64\n",
              "review_taste                 float64\n",
              "beer_name                     object\n",
              "beer_abv                     float64\n",
              "beer_id                        int64\n",
              "dtype: object"
            ]
          },
          "metadata": {
            "tags": []
          },
          "execution_count": 9
        }
      ]
    },
    {
      "cell_type": "markdown",
      "metadata": {
        "id": "3PcnDAKGU8xy"
      },
      "source": [
        "#### Missing Values"
      ]
    },
    {
      "cell_type": "markdown",
      "metadata": {
        "id": "B8Cevc2GWKwh"
      },
      "source": [
        "Three columns have missing values associated with them - brewery_name, review_profilename, and beer_abv. \n",
        "\n",
        "We know we have additional information in the brewery and beer datasets that might be able to support with missing brewery and beer information and therefore concentrated on review_profilenames for now. For this column, we simply repalced missing values with 'n/a' to designate they were not avaialable."
      ]
    },
    {
      "cell_type": "code",
      "metadata": {
        "colab": {
          "base_uri": "https://localhost:8080/"
        },
        "id": "DhuUObyDT5iJ",
        "outputId": "8e38471c-46e5-4f3b-a3d4-379186e1f06d"
      },
      "source": [
        "for x in reviews:\n",
        "  print(x, ': ', reviews[x].isnull().sum())"
      ],
      "execution_count": 10,
      "outputs": [
        {
          "output_type": "stream",
          "text": [
            "brewery_id :  0\n",
            "brewery_name :  15\n",
            "review_time :  0\n",
            "review_overall :  0\n",
            "review_aroma :  0\n",
            "review_appearance :  0\n",
            "review_profilename :  348\n",
            "beer_style :  0\n",
            "review_palate :  0\n",
            "review_taste :  0\n",
            "beer_name :  0\n",
            "beer_abv :  67785\n",
            "beer_id :  0\n"
          ],
          "name": "stdout"
        }
      ]
    },
    {
      "cell_type": "code",
      "metadata": {
        "id": "ftflH7k5XKlF"
      },
      "source": [
        "reviews.review_profilename.fillna('n/a', inplace=True)"
      ],
      "execution_count": 11,
      "outputs": []
    },
    {
      "cell_type": "code",
      "metadata": {
        "id": "Rb9AxNgjXjvp"
      },
      "source": [
        "#reviews.beer_abv.fillna(-999, inplace=True)"
      ],
      "execution_count": 12,
      "outputs": []
    },
    {
      "cell_type": "code",
      "metadata": {
        "id": "mWvKjDOZXt8y"
      },
      "source": [
        "reviews.brewery_name.fillna('n/a', inplace=True)"
      ],
      "execution_count": 13,
      "outputs": []
    },
    {
      "cell_type": "code",
      "metadata": {
        "colab": {
          "base_uri": "https://localhost:8080/"
        },
        "id": "szPu5gLSXWvz",
        "outputId": "36ff63f2-ed78-483c-933f-2665ca6be1ed"
      },
      "source": [
        "for x in reviews:\n",
        "  print(x, ': ', reviews[x].isnull().sum())"
      ],
      "execution_count": 14,
      "outputs": [
        {
          "output_type": "stream",
          "text": [
            "brewery_id :  0\n",
            "brewery_name :  0\n",
            "review_time :  0\n",
            "review_overall :  0\n",
            "review_aroma :  0\n",
            "review_appearance :  0\n",
            "review_profilename :  0\n",
            "beer_style :  0\n",
            "review_palate :  0\n",
            "review_taste :  0\n",
            "beer_name :  0\n",
            "beer_abv :  67785\n",
            "beer_id :  0\n"
          ],
          "name": "stdout"
        }
      ]
    },
    {
      "cell_type": "markdown",
      "metadata": {
        "id": "dYrbMTHree1P"
      },
      "source": [
        "#### Tidy Text Columns"
      ]
    },
    {
      "cell_type": "markdown",
      "metadata": {
        "id": "6kazcyrNfLYv"
      },
      "source": [
        "I will look to tidy the text columns by:\n",
        "* Replacing all non-letter characters with a space\n",
        "* Putting all text into lower case\n",
        "\n",
        "Doing this will help when looking to merge datasets later and reduce chance of inability to link being due to formatting."
      ]
    },
    {
      "cell_type": "code",
      "metadata": {
        "id": "xtm-wIUteinY"
      },
      "source": [
        "reviews.beer_name = reviews.beer_name.str.replace('[^a-zA-Z0-9]', ' ').str.lower().str.strip()\n",
        "reviews.brewery_name = reviews.brewery_name.str.replace('[^a-zA-Z0-9]', ' ').str.lower().str.strip()\n",
        "reviews.review_profilename = reviews.review_profilename.str.replace('[^a-zA-Z0-9]', ' ').str.lower().str.strip()\n",
        "reviews.beer_style = reviews.beer_style.str.replace('[^a-zA-Z0-9]', ' ').str.lower().str.strip()"
      ],
      "execution_count": 15,
      "outputs": []
    },
    {
      "cell_type": "code",
      "metadata": {
        "id": "1hXj6A4fUKSE"
      },
      "source": [
        "#reviews[reviews['beer_name'].str.contains('[0-9]') == True].sample(10)"
      ],
      "execution_count": 16,
      "outputs": []
    },
    {
      "cell_type": "code",
      "metadata": {
        "id": "YOElngiJfHcc"
      },
      "source": [
        "#reviews.head()"
      ],
      "execution_count": 17,
      "outputs": []
    },
    {
      "cell_type": "markdown",
      "metadata": {
        "id": "PqyRehMFF_tV"
      },
      "source": [
        "### Beer Dataset"
      ]
    },
    {
      "cell_type": "markdown",
      "metadata": {
        "id": "7q66771lFUr0"
      },
      "source": [
        "The Beers dataset appears to give us some more information that is not included in the reveiws dataset regarding each beer including:\n",
        "* Availability\n",
        "* Retired\n",
        "* Additional Notes"
      ]
    },
    {
      "cell_type": "code",
      "metadata": {
        "colab": {
          "base_uri": "https://localhost:8080/"
        },
        "id": "NcZmhBlZXo-3",
        "outputId": "90aede95-a5a7-43d3-855f-9c236fff120b"
      },
      "source": [
        "print('Beers: ', beers.shape)"
      ],
      "execution_count": 18,
      "outputs": [
        {
          "output_type": "stream",
          "text": [
            "Beers:  (358873, 10)\n"
          ],
          "name": "stdout"
        }
      ]
    },
    {
      "cell_type": "code",
      "metadata": {
        "id": "zjv9vvSGBGJn"
      },
      "source": [
        "#beers.head()"
      ],
      "execution_count": 19,
      "outputs": []
    },
    {
      "cell_type": "code",
      "metadata": {
        "id": "Ng8N9W-CX2jF"
      },
      "source": [
        "#beers.describe()"
      ],
      "execution_count": 20,
      "outputs": []
    },
    {
      "cell_type": "code",
      "metadata": {
        "id": "PBUBatycXyw6"
      },
      "source": [
        "#beers.dtypes"
      ],
      "execution_count": 21,
      "outputs": []
    },
    {
      "cell_type": "markdown",
      "metadata": {
        "id": "Y7pAEKrXYY9m"
      },
      "source": [
        "#### Drop Brewery-related columns"
      ]
    },
    {
      "cell_type": "markdown",
      "metadata": {
        "id": "x4rY3WSvYoKx"
      },
      "source": [
        "We will drop columns related to the brewery as we know have 'brewery_id' in the reviews dataset and brewery dataset to link this in with."
      ]
    },
    {
      "cell_type": "code",
      "metadata": {
        "id": "Oi0x9KwpYfMj"
      },
      "source": [
        "beers.drop(columns=['brewery_id', 'state', 'country'], inplace=True)"
      ],
      "execution_count": 22,
      "outputs": []
    },
    {
      "cell_type": "markdown",
      "metadata": {
        "id": "e3VR3MnmYDUP"
      },
      "source": [
        "#### Change Column Names"
      ]
    },
    {
      "cell_type": "markdown",
      "metadata": {
        "id": "7sBL5eH2ZY2G"
      },
      "source": [
        "I will update the column names to clear state they relate to beers - this is mainly for later stages to avoid potential confusion when we start merging data."
      ]
    },
    {
      "cell_type": "code",
      "metadata": {
        "id": "16RrewH1YCnR"
      },
      "source": [
        "beers.columns = ['beer_id', 'beer_name', 'beer_style', 'beer_availability', 'beer_abv', 'beer_notes', 'beer_retired']\n",
        "#beers.head()"
      ],
      "execution_count": 23,
      "outputs": []
    },
    {
      "cell_type": "markdown",
      "metadata": {
        "id": "KlyW9f6SZpZ_"
      },
      "source": [
        "#### Missing Data"
      ]
    },
    {
      "cell_type": "markdown",
      "metadata": {
        "id": "eJJGP77GaKBR"
      },
      "source": [
        "Three columns are missing data - beer_style, beer_abv, and beer_notes.\n",
        "\n",
        "* **beer_style:** Replaced the 1 missing value with 'n/a'.\n",
        "* **beer_notes:** Replaced the missing values with 'No notes at this time.' as this is the most common value for this field.\n",
        "* **beer_abv:** There is again a large number of missing values. I will wait to replace these untiil I merge this dataset with the Reviews dataset to see if this can help reduce the number. \n"
      ]
    },
    {
      "cell_type": "code",
      "metadata": {
        "colab": {
          "base_uri": "https://localhost:8080/"
        },
        "id": "AMr6eW7NZ2gV",
        "outputId": "425c02c3-a483-4f71-e78a-d546a31a97c1"
      },
      "source": [
        "for x in beers:\n",
        "  print(x, ': ', beers[x].isnull().sum())"
      ],
      "execution_count": 24,
      "outputs": [
        {
          "output_type": "stream",
          "text": [
            "beer_id :  0\n",
            "beer_name :  0\n",
            "beer_style :  1\n",
            "beer_availability :  0\n",
            "beer_abv :  38797\n",
            "beer_notes :  46\n",
            "beer_retired :  0\n"
          ],
          "name": "stdout"
        }
      ]
    },
    {
      "cell_type": "code",
      "metadata": {
        "id": "3kPUoOV_abFG"
      },
      "source": [
        "beers.beer_style.unique()\n",
        "beers.beer_style.fillna('n/a', inplace=True)"
      ],
      "execution_count": 25,
      "outputs": []
    },
    {
      "cell_type": "code",
      "metadata": {
        "id": "DLL2AWfya9HR"
      },
      "source": [
        "beers.beer_notes.value_counts()\n",
        "beers.beer_notes.fillna('No notes at this time.', inplace=True)"
      ],
      "execution_count": 26,
      "outputs": []
    },
    {
      "cell_type": "code",
      "metadata": {
        "id": "QtZWTOpJa9av"
      },
      "source": [
        "#beers.beer_abv.fillna(-999, inplace=True)"
      ],
      "execution_count": 27,
      "outputs": []
    },
    {
      "cell_type": "code",
      "metadata": {
        "colab": {
          "base_uri": "https://localhost:8080/"
        },
        "id": "NjAaqLkacyRm",
        "outputId": "a04ee04c-0881-427a-a0d6-7a6bc240f2d6"
      },
      "source": [
        "for x in beers:\n",
        "  print(x, ': ', beers[x].isnull().sum())"
      ],
      "execution_count": 28,
      "outputs": [
        {
          "output_type": "stream",
          "text": [
            "beer_id :  0\n",
            "beer_name :  0\n",
            "beer_style :  0\n",
            "beer_availability :  0\n",
            "beer_abv :  38797\n",
            "beer_notes :  0\n",
            "beer_retired :  0\n"
          ],
          "name": "stdout"
        }
      ]
    },
    {
      "cell_type": "markdown",
      "metadata": {
        "id": "_Tc5ASJQdXht"
      },
      "source": [
        "#### Tidy Text Columns"
      ]
    },
    {
      "cell_type": "markdown",
      "metadata": {
        "id": "G0YdBhmOf8FV"
      },
      "source": [
        "Again, I tidied the text columns by:\n",
        "* Replacing all non-letter characters with a space\n",
        "* Putting all text into lower case\n",
        "\n",
        "Doing this will help when looking to merge datasets later and reduce chance of inability to link being due to formatting."
      ]
    },
    {
      "cell_type": "code",
      "metadata": {
        "id": "KVVxiaa-dnUg"
      },
      "source": [
        "beers.beer_name = beers.beer_name.str.replace('[^a-zA-Z0-9]', ' ').str.lower().str.strip()\n",
        "beers.beer_style = beers.beer_style.str.replace('[^a-zA-Z0-9]', ' ').str.lower().str.strip()\n",
        "beers.beer_notes = beers.beer_notes.str.replace('[^a-zA-Z0-9]', ' ').str.lower().str.strip()\n",
        "beers.beer_availability = beers.beer_availability.str.replace('[^a-zA-Z0-9]', ' ').str.lower().str.strip()"
      ],
      "execution_count": 29,
      "outputs": []
    },
    {
      "cell_type": "code",
      "metadata": {
        "id": "0gBgXPuFeKgq"
      },
      "source": [
        "#beers.head()"
      ],
      "execution_count": 30,
      "outputs": []
    },
    {
      "cell_type": "code",
      "metadata": {
        "id": "taG5mR5_eQde"
      },
      "source": [
        "#beers.beer_notes.value_counts()"
      ],
      "execution_count": 31,
      "outputs": []
    },
    {
      "cell_type": "markdown",
      "metadata": {
        "id": "nG48KjucGCl9"
      },
      "source": [
        "### Brewery Dataset"
      ]
    },
    {
      "cell_type": "markdown",
      "metadata": {
        "id": "BNTfUwbkFeZB"
      },
      "source": [
        "The Brewery dataset gives us more information on the brewery:\n",
        "* City\n",
        "* State\n",
        "* Country\n",
        "* Brewery Type\n",
        "* Additional Notes"
      ]
    },
    {
      "cell_type": "code",
      "metadata": {
        "colab": {
          "base_uri": "https://localhost:8080/"
        },
        "id": "8RAx3sBqgPYb",
        "outputId": "2e1fd39f-405a-4b56-c2dd-50c14d975453"
      },
      "source": [
        "print('Breweries: ', breweries.shape)"
      ],
      "execution_count": 32,
      "outputs": [
        {
          "output_type": "stream",
          "text": [
            "Breweries:  (50347, 7)\n"
          ],
          "name": "stdout"
        }
      ]
    },
    {
      "cell_type": "code",
      "metadata": {
        "id": "iKqL7eWXBKvq"
      },
      "source": [
        "#breweries.head()"
      ],
      "execution_count": 33,
      "outputs": []
    },
    {
      "cell_type": "code",
      "metadata": {
        "id": "ZkbnaRq6gfKn"
      },
      "source": [
        "#breweries.describe()\n",
        "#breweries.dtypes"
      ],
      "execution_count": 34,
      "outputs": []
    },
    {
      "cell_type": "markdown",
      "metadata": {
        "id": "Vsi3JhhUgrOF"
      },
      "source": [
        "#### Change Column Names"
      ]
    },
    {
      "cell_type": "markdown",
      "metadata": {
        "id": "_UTMr2E_hBIn"
      },
      "source": [
        "I'll update the column names os that they reflect that they relate to brewery information to avoid confusion later when looking to merge datasets."
      ]
    },
    {
      "cell_type": "code",
      "metadata": {
        "colab": {
          "base_uri": "https://localhost:8080/",
          "height": 0
        },
        "id": "fVTXvXLmgukS",
        "outputId": "184d1914-621b-4240-968d-d3bbed9c9b2c"
      },
      "source": [
        "breweries.columns = ['brewery_id', 'brewery_name', 'brewery_city', 'brewery_state', 'brewery_country', 'brewery_notes', 'brewery_types']\n",
        "breweries.head()"
      ],
      "execution_count": 35,
      "outputs": [
        {
          "output_type": "execute_result",
          "data": {
            "text/html": [
              "<div>\n",
              "<style scoped>\n",
              "    .dataframe tbody tr th:only-of-type {\n",
              "        vertical-align: middle;\n",
              "    }\n",
              "\n",
              "    .dataframe tbody tr th {\n",
              "        vertical-align: top;\n",
              "    }\n",
              "\n",
              "    .dataframe thead th {\n",
              "        text-align: right;\n",
              "    }\n",
              "</style>\n",
              "<table border=\"1\" class=\"dataframe\">\n",
              "  <thead>\n",
              "    <tr style=\"text-align: right;\">\n",
              "      <th></th>\n",
              "      <th>brewery_id</th>\n",
              "      <th>brewery_name</th>\n",
              "      <th>brewery_city</th>\n",
              "      <th>brewery_state</th>\n",
              "      <th>brewery_country</th>\n",
              "      <th>brewery_notes</th>\n",
              "      <th>brewery_types</th>\n",
              "    </tr>\n",
              "  </thead>\n",
              "  <tbody>\n",
              "    <tr>\n",
              "      <th>0</th>\n",
              "      <td>19730</td>\n",
              "      <td>Brouwerij Danny</td>\n",
              "      <td>Erpe-Mere</td>\n",
              "      <td>NaN</td>\n",
              "      <td>BE</td>\n",
              "      <td>No notes at this time.</td>\n",
              "      <td>Brewery</td>\n",
              "    </tr>\n",
              "    <tr>\n",
              "      <th>1</th>\n",
              "      <td>32541</td>\n",
              "      <td>Coachella Valley Brewing Co</td>\n",
              "      <td>Thousand Palms</td>\n",
              "      <td>CA</td>\n",
              "      <td>US</td>\n",
              "      <td>No notes at this time.</td>\n",
              "      <td>Brewery, Bar, Beer-to-go</td>\n",
              "    </tr>\n",
              "    <tr>\n",
              "      <th>2</th>\n",
              "      <td>44736</td>\n",
              "      <td>Beef 'O' Brady's</td>\n",
              "      <td>Plant City</td>\n",
              "      <td>FL</td>\n",
              "      <td>US</td>\n",
              "      <td>No notes at this time.</td>\n",
              "      <td>Bar, Eatery</td>\n",
              "    </tr>\n",
              "    <tr>\n",
              "      <th>3</th>\n",
              "      <td>23372</td>\n",
              "      <td>Broadway Wine Merchant</td>\n",
              "      <td>Oklahoma City</td>\n",
              "      <td>OK</td>\n",
              "      <td>US</td>\n",
              "      <td>No notes at this time.</td>\n",
              "      <td>Store</td>\n",
              "    </tr>\n",
              "    <tr>\n",
              "      <th>4</th>\n",
              "      <td>35328</td>\n",
              "      <td>Brighton Beer Dispensary (DUPLICATE)</td>\n",
              "      <td>Brighton</td>\n",
              "      <td>GB2</td>\n",
              "      <td>GB</td>\n",
              "      <td>Duplicate of https://www.beeradvocate.com/beer...</td>\n",
              "      <td>Bar, Eatery</td>\n",
              "    </tr>\n",
              "  </tbody>\n",
              "</table>\n",
              "</div>"
            ],
            "text/plain": [
              "   brewery_id  ...             brewery_types\n",
              "0       19730  ...                   Brewery\n",
              "1       32541  ...  Brewery, Bar, Beer-to-go\n",
              "2       44736  ...               Bar, Eatery\n",
              "3       23372  ...                     Store\n",
              "4       35328  ...               Bar, Eatery\n",
              "\n",
              "[5 rows x 7 columns]"
            ]
          },
          "metadata": {
            "tags": []
          },
          "execution_count": 35
        }
      ]
    },
    {
      "cell_type": "markdown",
      "metadata": {
        "id": "FrIKfpquhPhE"
      },
      "source": [
        "#### Missing Data"
      ]
    },
    {
      "cell_type": "code",
      "metadata": {
        "colab": {
          "base_uri": "https://localhost:8080/"
        },
        "id": "JyPnxiG9hSFz",
        "outputId": "7edd96c7-e9cc-4236-8ecf-90a2de5bfc2a"
      },
      "source": [
        "for x in breweries:\n",
        "  print(x, ': ', breweries[x].isnull().sum())"
      ],
      "execution_count": 36,
      "outputs": [
        {
          "output_type": "stream",
          "text": [
            "brewery_id :  0\n",
            "brewery_name :  0\n",
            "brewery_city :  58\n",
            "brewery_state :  11271\n",
            "brewery_country :  6\n",
            "brewery_notes :  85\n",
            "brewery_types :  0\n"
          ],
          "name": "stdout"
        }
      ]
    },
    {
      "cell_type": "markdown",
      "metadata": {
        "id": "UVUeHQfPNj2v"
      },
      "source": [
        "##### Brewery Country"
      ]
    },
    {
      "cell_type": "markdown",
      "metadata": {
        "id": "FBJOAfsoNnuH"
      },
      "source": [
        "Looked at 6 rows with null values on country name to see if possible to impute from information available.\n",
        "* Four rows related to Namibian ciites of Windhoek and Swakopmund so updated country to reflect this\n",
        "* Did Google search on names of other two breweries to imput information on their location"
      ]
    },
    {
      "cell_type": "code",
      "metadata": {
        "colab": {
          "base_uri": "https://localhost:8080/",
          "height": 0
        },
        "id": "1-nvlLWYhjtW",
        "outputId": "3d65e66b-8eef-436c-eab7-c65db9e03bf8"
      },
      "source": [
        "breweries[breweries.brewery_country.isnull()]"
      ],
      "execution_count": 37,
      "outputs": [
        {
          "output_type": "execute_result",
          "data": {
            "text/html": [
              "<div>\n",
              "<style scoped>\n",
              "    .dataframe tbody tr th:only-of-type {\n",
              "        vertical-align: middle;\n",
              "    }\n",
              "\n",
              "    .dataframe tbody tr th {\n",
              "        vertical-align: top;\n",
              "    }\n",
              "\n",
              "    .dataframe thead th {\n",
              "        text-align: right;\n",
              "    }\n",
              "</style>\n",
              "<table border=\"1\" class=\"dataframe\">\n",
              "  <thead>\n",
              "    <tr style=\"text-align: right;\">\n",
              "      <th></th>\n",
              "      <th>brewery_id</th>\n",
              "      <th>brewery_name</th>\n",
              "      <th>brewery_city</th>\n",
              "      <th>brewery_state</th>\n",
              "      <th>brewery_country</th>\n",
              "      <th>brewery_notes</th>\n",
              "      <th>brewery_types</th>\n",
              "    </tr>\n",
              "  </thead>\n",
              "  <tbody>\n",
              "    <tr>\n",
              "      <th>9915</th>\n",
              "      <td>1722</td>\n",
              "      <td>Namibia Breweries Limited</td>\n",
              "      <td>Windhoek</td>\n",
              "      <td>NaN</td>\n",
              "      <td>NaN</td>\n",
              "      <td>No notes at this time.</td>\n",
              "      <td>Brewery</td>\n",
              "    </tr>\n",
              "    <tr>\n",
              "      <th>29270</th>\n",
              "      <td>41084</td>\n",
              "      <td>Brew Craft Namibia / Das Brücken Haus</td>\n",
              "      <td>Windhoek</td>\n",
              "      <td>NaN</td>\n",
              "      <td>NaN</td>\n",
              "      <td>No notes at this time.</td>\n",
              "      <td>Brewery, Bar, Homebrew, Beer-to-go</td>\n",
              "    </tr>\n",
              "    <tr>\n",
              "      <th>30314</th>\n",
              "      <td>11016</td>\n",
              "      <td>Privatbrauerei Josef / Trumer Brauerei</td>\n",
              "      <td>NaN</td>\n",
              "      <td>NaN</td>\n",
              "      <td>NaN</td>\n",
              "      <td>No notes at this time.</td>\n",
              "      <td>Brewery</td>\n",
              "    </tr>\n",
              "    <tr>\n",
              "      <th>31869</th>\n",
              "      <td>1723</td>\n",
              "      <td>Hansa Brauerei / Namibia Breweries</td>\n",
              "      <td>Swakopmund</td>\n",
              "      <td>NaN</td>\n",
              "      <td>NaN</td>\n",
              "      <td>At least some of the beer is contract brewed b...</td>\n",
              "      <td>Brewery</td>\n",
              "    </tr>\n",
              "    <tr>\n",
              "      <th>38980</th>\n",
              "      <td>20786</td>\n",
              "      <td>Camelthorn Brewing Company Ltd</td>\n",
              "      <td>Windhoek</td>\n",
              "      <td>NaN</td>\n",
              "      <td>NaN</td>\n",
              "      <td>No notes at this time.</td>\n",
              "      <td>Brewery</td>\n",
              "    </tr>\n",
              "    <tr>\n",
              "      <th>45345</th>\n",
              "      <td>18989</td>\n",
              "      <td>Barley's Brewing Company</td>\n",
              "      <td>NaN</td>\n",
              "      <td>NaN</td>\n",
              "      <td>NaN</td>\n",
              "      <td>No notes at this time.</td>\n",
              "      <td>Brewery</td>\n",
              "    </tr>\n",
              "  </tbody>\n",
              "</table>\n",
              "</div>"
            ],
            "text/plain": [
              "       brewery_id  ...                       brewery_types\n",
              "9915         1722  ...                             Brewery\n",
              "29270       41084  ...  Brewery, Bar, Homebrew, Beer-to-go\n",
              "30314       11016  ...                             Brewery\n",
              "31869        1723  ...                             Brewery\n",
              "38980       20786  ...                             Brewery\n",
              "45345       18989  ...                             Brewery\n",
              "\n",
              "[6 rows x 7 columns]"
            ]
          },
          "metadata": {
            "tags": []
          },
          "execution_count": 37
        }
      ]
    },
    {
      "cell_type": "code",
      "metadata": {
        "id": "8gMFHkPAh-JX"
      },
      "source": [
        "breweries['brewery_country'] = np.where((breweries.brewery_city == 'Windhoek'),'NA',breweries.brewery_country)\n",
        "breweries['brewery_country'] = np.where((breweries.brewery_city == 'Swakopmund'),'NA',breweries.brewery_country)\n",
        "\n",
        "breweries['brewery_city'] = np.where((breweries.brewery_name == \"Barley's Brewing Company\"), \"Columbus\" ,breweries.brewery_city)\n",
        "breweries['brewery_state'] = np.where((breweries.brewery_name == \"Barley's Brewing Company\"), \"OH\" ,breweries.brewery_state)\n",
        "breweries['brewery_country'] = np.where((breweries.brewery_name == \"Barley's Brewing Company\"), \"US\" ,breweries.brewery_country)\n",
        "\n",
        "breweries['brewery_city'] = np.where((breweries.brewery_name == \"Privatbrauerei Josef / Trumer Brauerei\"), \"Salzburg\" ,breweries.brewery_city)\n",
        "breweries['brewery_country'] = np.where((breweries.brewery_name == \"Privatbrauerei Josef / Trumer Brauerei\"), \"AT\" ,breweries.brewery_country)"
      ],
      "execution_count": 38,
      "outputs": []
    },
    {
      "cell_type": "code",
      "metadata": {
        "id": "OlgbPhbtHy3t"
      },
      "source": [
        "#breweries[breweries.brewery_country.isnull()]"
      ],
      "execution_count": 39,
      "outputs": []
    },
    {
      "cell_type": "code",
      "metadata": {
        "id": "WZWOlgLiH4sJ"
      },
      "source": [
        "#breweries[breweries.brewery_country == 'NA']"
      ],
      "execution_count": 40,
      "outputs": []
    },
    {
      "cell_type": "code",
      "metadata": {
        "id": "4wGGYEx9LpL6"
      },
      "source": [
        "#breweries[breweries.brewery_name == \"Barley's Brewing Company\"]"
      ],
      "execution_count": 41,
      "outputs": []
    },
    {
      "cell_type": "code",
      "metadata": {
        "id": "c8iPzFXPMEOw"
      },
      "source": [
        "#breweries[breweries.brewery_name == \"Privatbrauerei Josef / Trumer Brauerei\"]"
      ],
      "execution_count": 42,
      "outputs": []
    },
    {
      "cell_type": "markdown",
      "metadata": {
        "id": "PDL27KBhOM7d"
      },
      "source": [
        "##### Brewery City"
      ]
    },
    {
      "cell_type": "markdown",
      "metadata": {
        "id": "lM1BLkq3BSR4"
      },
      "source": [
        "For brewery_city column, I went through the list of 58 null values to see if these could be identified through searching the brewery name. For US breweries, I inputted the brewery_state also."
      ]
    },
    {
      "cell_type": "code",
      "metadata": {
        "id": "FYBUL34BR67C"
      },
      "source": [
        "#breweries[breweries.brewery_city.isnull()]"
      ],
      "execution_count": 43,
      "outputs": []
    },
    {
      "cell_type": "code",
      "metadata": {
        "id": "QBuE353APJrR"
      },
      "source": [
        "breweries['brewery_city'] = np.where((breweries.brewery_name == \"Hops! La Fabbrica della Birra\"), \"Reggio Emilia\" ,breweries.brewery_city)\n",
        "\n",
        "breweries['brewery_city'] = np.where((breweries.brewery_name == \"Big Buck Brewery & Steakhouse\"), \"Gaylord\" ,breweries.brewery_city)\n",
        "breweries['brewery_state'] = np.where((breweries.brewery_name == \"Big Buck Brewery & Steakhouse\"), \"MI\" ,breweries.brewery_state)\n",
        "\n",
        "breweries['brewery_city'] = np.where((breweries.brewery_name == \"Tooheys Brewing\"), \"Sydney\" ,breweries.brewery_city)\n",
        "\n",
        "breweries['brewery_city'] = np.where((breweries.brewery_name == \"New Zealand Breweries Limited\"), \"Auckland\" ,breweries.brewery_city)\n",
        "\n",
        "breweries['brewery_city'] = np.where((breweries.brewery_name == \"Sebago Brewing Company\"), \"Scarborough\" ,breweries.brewery_city)\n",
        "breweries['brewery_state'] = np.where((breweries.brewery_name == \"Sebago Brewing Company\"), \"ME\" ,breweries.brewery_state)\n",
        "\n",
        "breweries['brewery_city'] = np.where((breweries.brewery_name == \"Weeping Radish Brewery & Bavarian Restaurant\"), \"Grandy\" ,breweries.brewery_city)\n",
        "breweries['brewery_state'] = np.where((breweries.brewery_name == \"Weeping Radish Brewery & Bavarian Restaurant\"), \"NC\" ,breweries.brewery_state)\n",
        "\n",
        "breweries['brewery_city'] = np.where((breweries.brewery_name == \"Frog Pubs\"), \"Paris\" ,breweries.brewery_city)\n",
        "\n",
        "breweries['brewery_city'] = np.where((breweries.brewery_name == \"3er Tiempo Tienda De Cervezas\"), \"Santander\" ,breweries.brewery_city)"
      ],
      "execution_count": 44,
      "outputs": []
    },
    {
      "cell_type": "code",
      "metadata": {
        "id": "VQL4RoK3TzbB"
      },
      "source": [
        "breweries['brewery_city'] = np.where((breweries.brewery_name == \"Shipyard Brewing Co.\"), \"Portland\" ,breweries.brewery_city)\n",
        "breweries['brewery_state'] = np.where((breweries.brewery_name == \"Shipyard Brewing Co.\"), \"ME\" ,breweries.brewery_state)\n",
        "\n",
        "breweries['brewery_city'] = np.where((breweries.brewery_name == \"Tinkoff Brewery\"), \"St. Petersburg\" ,breweries.brewery_city)\n",
        "\n",
        "breweries['brewery_city'] = np.where((breweries.brewery_name == \"Tied House Cafe & Brewery\"), \"Mountain View\" ,breweries.brewery_city)\n",
        "breweries['brewery_state'] = np.where((breweries.brewery_name == \"Tied House Cafe & Brewery\"), \"CA\" ,breweries.brewery_state)\n",
        "\n",
        "breweries['brewery_city'] = np.where((breweries.brewery_name == \"Cerveza De Cuba\"), \"Havana\" ,breweries.brewery_city)\n",
        "\n",
        "breweries['brewery_city'] = np.where((breweries.brewery_name == \"Steelhead Brewing Co.\"), \"Eugene\" ,breweries.brewery_city)\n",
        "breweries['brewery_state'] = np.where((breweries.brewery_name == \"Steelhead Brewing Co.\"), \"OR\" ,breweries.brewery_state)\n",
        "\n",
        "breweries['brewery_city'] = np.where((breweries.brewery_name == \"Hops Grillhouse & Brewery\"), \"Alexandria\" ,breweries.brewery_city)\n",
        "breweries['brewery_state'] = np.where((breweries.brewery_name == \"Hops Grillhouse & Brewery\"), \"VA\" ,breweries.brewery_state)\n",
        "\n",
        "breweries['brewery_city'] = np.where((breweries.brewery_name == \"Lübeck Cerveja\"), \"Sao Paulo\" ,breweries.brewery_city)\n",
        "\n",
        "breweries['brewery_city'] = np.where((breweries.brewery_name == \"Iron Hill Brewery & Restaurant\"), \"Exton\" ,breweries.brewery_city)\n",
        "breweries['brewery_state'] = np.where((breweries.brewery_name == \"Iron Hill Brewery & Restaurant\"), \"PA\" ,breweries.brewery_state)\n",
        "\n",
        "breweries['brewery_city'] = np.where((breweries.brewery_name == \"Brewlander & Co.\"), \"Singapore\" ,breweries.brewery_city)"
      ],
      "execution_count": 45,
      "outputs": []
    },
    {
      "cell_type": "code",
      "metadata": {
        "id": "EotmqktiYvD3"
      },
      "source": [
        "breweries['brewery_city'] = np.where((breweries.brewery_name == \"Triumph Brewing\"), \"Princeton\" ,breweries.brewery_city)\n",
        "breweries['brewery_state'] = np.where((breweries.brewery_name == \"Triumph Brewing\"), \"NJ\" ,breweries.brewery_state)\n",
        "\n",
        "breweries['brewery_city'] = np.where((breweries.brewery_name == \"Stingray Brewery\"), \"Grand Cayman\" ,breweries.brewery_city)\n",
        "\n",
        "breweries['brewery_city'] = np.where((breweries.brewery_name == \"Ram International / Humperdinks Restaurant and Big Horn Brewing\"), \"Lakewood\" ,breweries.brewery_city)\n",
        "breweries['brewery_state'] = np.where((breweries.brewery_name == \"Ram International / Humperdinks Restaurant and Big Horn Brewing\"), \"WA\" ,breweries.brewery_state)\n",
        "\n",
        "breweries['brewery_city'] = np.where((breweries.brewery_name == \"Liberty Steakhouse Brewery\"), \"Myrtle Beach\" ,breweries.brewery_city)\n",
        "breweries['brewery_state'] = np.where((breweries.brewery_name == \"Liberty Steakhouse Brewery\"), \"SC\" ,breweries.brewery_state)\n",
        "\n",
        "breweries['brewery_city'] = np.where((breweries.brewery_name == \"K&L Italian Beers Manufacturing\"), \"Veneto\" ,breweries.brewery_city)\n",
        "\n",
        "breweries['brewery_city'] = np.where((breweries.brewery_name == \"Barley's Smokehouse and Brewpub\"), \"Columbus\" ,breweries.brewery_city)\n",
        "breweries['brewery_state'] = np.where((breweries.brewery_name == \"Barley's Smokehouse and Brewpub\"), \"OH\" ,breweries.brewery_state)\n",
        "\n",
        "breweries['brewery_city'] = np.where((breweries.brewery_name == \"Granite City Food & Brewery\"), \"Minnetonka\" ,breweries.brewery_city)\n",
        "breweries['brewery_state'] = np.where((breweries.brewery_name == \"Granite City Food & Brewery\"), \"MN\" ,breweries.brewery_state)\n",
        "\n",
        "breweries['brewery_city'] = np.where((breweries.brewery_name == \"Hereford & Hops Restaurant & Brewpub\"), \"Escanaba\" ,breweries.brewery_city)\n",
        "breweries['brewery_state'] = np.where((breweries.brewery_name == \"Hereford & Hops Restaurant & Brewpub\"), \"MI\" ,breweries.brewery_state)\n",
        "\n",
        "breweries['brewery_city'] = np.where((breweries.brewery_name == \"Jacob Leinenkugel Brewing Co.\"), \"Chippewa Falls\" ,breweries.brewery_city)\n",
        "breweries['brewery_state'] = np.where((breweries.brewery_name == \"Jacob Leinenkugel Brewing Co.\"), \"WI\" ,breweries.brewery_state)\n",
        "\n",
        "breweries['brewery_city'] = np.where((breweries.brewery_name == \"Verhovinska Pivovarnya\"), \"Verkhovyna\" ,breweries.brewery_city)\n",
        "\n",
        "breweries['brewery_city'] = np.where((breweries.brewery_name == \"Empire Brewing Company\"), \"Syracuse\" ,breweries.brewery_city)\n",
        "breweries['brewery_state'] = np.where((breweries.brewery_name == \"Empire Brewing Company\"), \"NY\" ,breweries.brewery_state)\n",
        "\n",
        "breweries['brewery_city'] = np.where((breweries.brewery_name == \"Two Rows Breweries & Grills\"), \"Allen\" ,breweries.brewery_city)\n",
        "breweries['brewery_state'] = np.where((breweries.brewery_name == \"Two Rows Breweries & Grills\"), \"TX\" ,breweries.brewery_state)"
      ],
      "execution_count": 46,
      "outputs": []
    },
    {
      "cell_type": "code",
      "metadata": {
        "id": "kSayhct4yzLF"
      },
      "source": [
        "breweries['brewery_city'] = np.where((breweries.brewery_name == \"Fat Sparrow\"), \"Liérganes\" ,breweries.brewery_city)\n",
        "\n",
        "breweries['brewery_city'] = np.where((breweries.brewery_name == \"La Arboleda Cervecería Artesanal\"), \"San José\" ,breweries.brewery_city)\n",
        "\n",
        "breweries['brewery_city'] = np.where((breweries.brewery_name == \"Full Sail Brewing Company\"), \"Hood River\" ,breweries.brewery_city)\n",
        "breweries['brewery_state'] = np.where((breweries.brewery_name == \"Full Sail Brewing Company\"), \"OR\" ,breweries.brewery_state)\n",
        "\n",
        "breweries['brewery_city'] = np.where((breweries.brewery_name == \"Mac's Brewery\"), \"Wellington\" ,breweries.brewery_city)\n",
        "\n",
        "breweries['brewery_city'] = np.where((breweries.brewery_name == \"Utah Brewers Cooperative\"), \"Salt Lake City\" ,breweries.brewery_city)\n",
        "\n",
        "breweries['brewery_city'] = np.where((breweries.brewery_name == \"E & O Trading Company\"), \"San Francisco\" ,breweries.brewery_city)\n",
        "breweries['brewery_state'] = np.where((breweries.brewery_name == \"E & O Trading Company\"), \"CA\" ,breweries.brewery_state)\n",
        "\n",
        "breweries['brewery_city'] = np.where((breweries.brewery_name == \"Capitol City Brewing Company\"), \"Washington DC\" ,breweries.brewery_city)\n",
        "breweries['brewery_state'] = np.where((breweries.brewery_name == \"Capitol City Brewing Company\"), \"DC\" ,breweries.brewery_state)\n",
        "\n",
        "breweries['brewery_city'] = np.where((breweries.brewery_name == \"Il Vicino Wood Oven Pizza and Brewery\"), \"Wichita\" ,breweries.brewery_city)\n",
        "breweries['brewery_state'] = np.where((breweries.brewery_name == \"Il Vicino Wood Oven Pizza and Brewery\"), \"KS\" ,breweries.brewery_state)\n",
        "\n",
        "breweries['brewery_city'] = np.where((breweries.brewery_name == \"Cliff Top Brewing Company\"), \"Bocholt\" ,breweries.brewery_city)\n",
        "\n",
        "breweries['brewery_city'] = np.where((breweries.brewery_name == \"Brew Moon Restaurant & Microbrewery\"), \"Honolulu\" ,breweries.brewery_city)\n",
        "breweries['brewery_state'] = np.where((breweries.brewery_name == \"Brew Moon Restaurant & Microbrewery\"), \"HI\" ,breweries.brewery_state)\n",
        "\n",
        "breweries['brewery_city'] = np.where((breweries.brewery_name == \"Prague Breweries Group\"), \"Prague\" ,breweries.brewery_city)\n",
        "\n",
        "breweries['brewery_city'] = np.where((breweries.brewery_name == \"Blue Corn Cafe and Brewery\"), \"Santa Fe\" ,breweries.brewery_city)\n",
        "breweries['brewery_state'] = np.where((breweries.brewery_name == \"Blue Corn Cafe and Brewery\"), \"NM\" ,breweries.brewery_state)\n",
        "\n",
        "breweries['brewery_city'] = np.where((breweries.brewery_name == \"Buckhead Brewery and Grill\"), \"Stockbridge\" ,breweries.brewery_city)\n",
        "breweries['brewery_state'] = np.where((breweries.brewery_name == \"Buckhead Brewery and Grill\"), \"GA\" ,breweries.brewery_state)"
      ],
      "execution_count": 47,
      "outputs": []
    },
    {
      "cell_type": "code",
      "metadata": {
        "id": "Yd_HSu1P64Ck"
      },
      "source": [
        "breweries['brewery_city'] = np.where((breweries.brewery_name == \"Paulista Brewery\"), \"Sao Paulo\" ,breweries.brewery_city)\n",
        "\n",
        "breweries['brewery_city'] = np.where((breweries.brewery_name == \"Mendocino Brewing Company\"), \"Ukiah\" ,breweries.brewery_city)\n",
        "breweries['brewery_state'] = np.where((breweries.brewery_name == \"Mendocino Brewing Company\"), \"CA\" ,breweries.brewery_state)\n",
        "\n",
        "breweries['brewery_city'] = np.where((breweries.brewery_name == \"Rock Bottom Restaurant & Brewery\"), \"San Jose\" ,breweries.brewery_city)\n",
        "breweries['brewery_state'] = np.where((breweries.brewery_name == \"Rock Bottom Restaurant & Brewery\"), \"CA\" ,breweries.brewery_state)\n",
        "\n",
        "breweries['brewery_city'] = np.where((breweries.brewery_name == \"Bokkereyder\"), \"Hasselt\" ,breweries.brewery_city)\n",
        "\n",
        "breweries['brewery_city'] = np.where((breweries.brewery_name == \"Bedele Brewery\"), \"Addis Ababa\" ,breweries.brewery_city)\n",
        "\n",
        "breweries['brewery_city'] = np.where((breweries.brewery_name == \"Snake River Brewing\"), \"Jackson\" ,breweries.brewery_city)\n",
        "breweries['brewery_state'] = np.where((breweries.brewery_name == \"Snake River Brewing\"), \"WY\" ,breweries.brewery_state)\n",
        "\n",
        "breweries['brewery_city'] = np.where((breweries.brewery_name == \"McMenamins\"), \"Portland\" ,breweries.brewery_city)\n",
        "breweries['brewery_state'] = np.where((breweries.brewery_name == \"McMenamins\"), \"OR\" ,breweries.brewery_state)\n",
        "\n",
        "breweries['brewery_city'] = np.where((breweries.brewery_name == \"Gordon Biersch Brewery Restaurant\"), \"Las Vegas\" ,breweries.brewery_city)\n",
        "breweries['brewery_state'] = np.where((breweries.brewery_name == \"Gordon Biersch Brewery Restaurant\"), \"NV\" ,breweries.brewery_state)\n",
        "\n",
        "breweries['brewery_city'] = np.where((breweries.brewery_name == \"BJ's Chicago Pizza & Brewery Inc.\"), \"Huntington Beach\" ,breweries.brewery_city)\n",
        "breweries['brewery_state'] = np.where((breweries.brewery_name == \"BJ's Chicago Pizza & Brewery Inc.\"), \"CA\" ,breweries.brewery_state)\n",
        "\n",
        "breweries['brewery_city'] = np.where((breweries.brewery_name == \"Sonora Brewing Company\"), \"Sonora\" ,breweries.brewery_city)\n",
        "breweries['brewery_state'] = np.where((breweries.brewery_name == \"Sonora Brewing Company\"), \"CA\" ,breweries.brewery_state)\n",
        "\n",
        "breweries['brewery_city'] = np.where((breweries.brewery_name == \"Thirsty Dog Brewing Company\"), \"Akron\" ,breweries.brewery_city)\n",
        "breweries['brewery_state'] = np.where((breweries.brewery_name == \"Thirsty Dog Brewing Company\"), \"OH\" ,breweries.brewery_state)\n",
        "\n",
        "breweries['brewery_city'] = np.where((breweries.brewery_name == \"Bennett's Bar & Lounge\"), \"Ardcath\" ,breweries.brewery_city)\n",
        "\n",
        "breweries['brewery_city'] = np.where((breweries.brewery_name == \"Utenos Alus\"), \"Utena\" ,breweries.brewery_city)\n",
        "\n",
        "breweries['brewery_city'] = np.where((breweries.brewery_name == \"Sea Dog Brewing Company\"), \"Bangor\" ,breweries.brewery_city)\n",
        "breweries['brewery_state'] = np.where((breweries.brewery_name == \"Sea Dog Brewing Company\"), \"ME\" ,breweries.brewery_state)"
      ],
      "execution_count": 48,
      "outputs": []
    },
    {
      "cell_type": "code",
      "metadata": {
        "id": "NALZpynwORDL"
      },
      "source": [
        "#breweries[breweries.brewery_city.isnull()]"
      ],
      "execution_count": 49,
      "outputs": []
    },
    {
      "cell_type": "code",
      "metadata": {
        "id": "7boNa4KraDoW"
      },
      "source": [
        "#print(np.array(breweries[breweries.brewery_id == 3079]['brewery_name']))"
      ],
      "execution_count": 50,
      "outputs": []
    },
    {
      "cell_type": "markdown",
      "metadata": {
        "id": "RA6WzLjLBwpv"
      },
      "source": [
        "##### Brewery State"
      ]
    },
    {
      "cell_type": "markdown",
      "metadata": {
        "id": "4aqRMgdHK_AC"
      },
      "source": [
        "brewery_state has a large number of missing values (11, 236). After closer inspection, this shows that these missing values all relate to countries outside of the US, Canada and GB where this information must not have been available. There are were two options to deal with this:\n",
        "1. Put as 'n/a'\n",
        "2. Put as country code (with 0 at end to avoid overlap with US or CA states)\n",
        "\n",
        "For potential that it is better to analyse data at state-level (with country as proxy when state not available), I've decided to go with second approach."
      ]
    },
    {
      "cell_type": "code",
      "metadata": {
        "colab": {
          "base_uri": "https://localhost:8080/"
        },
        "id": "mKogQwJVB0Xj",
        "outputId": "37b4f1f4-eff4-4627-82b2-69a9689c459e"
      },
      "source": [
        "print('Brewery State Nulls (Overall): ', breweries['brewery_state'].isnull().sum())\n",
        "print('Brewery State Nulls (US): ',   breweries[breweries['brewery_country'] == 'US']['brewery_state'].isnull().sum())\n",
        "print('Brewery State Nulls (Canada): ',   breweries[breweries['brewery_country'] == 'CA']['brewery_state'].isnull().sum())\n",
        "print('Brewery State Nulls (GB): ',   breweries[breweries['brewery_country'] == 'GB']['brewery_state'].isnull().sum())\n",
        "print('Brewery State Nulls (Outside US, Canada, and GB): ', breweries.loc[(breweries.brewery_country != 'US') & (breweries.brewery_country != 'CA') & (breweries.brewery_country != 'GB')]['brewery_state'].isnull().sum())"
      ],
      "execution_count": 51,
      "outputs": [
        {
          "output_type": "stream",
          "text": [
            "Brewery State Nulls (Overall):  11237\n",
            "Brewery State Nulls (US):  0\n",
            "Brewery State Nulls (Canada):  0\n",
            "Brewery State Nulls (GB):  0\n",
            "Brewery State Nulls (Outside US, Canada, and GB):  11237\n"
          ],
          "name": "stdout"
        }
      ]
    },
    {
      "cell_type": "code",
      "metadata": {
        "id": "XDCTLhJoDZJc"
      },
      "source": [
        "#breweries[breweries['brewery_country'] != 'US']['brewery_state'].value_counts()"
      ],
      "execution_count": 52,
      "outputs": []
    },
    {
      "cell_type": "code",
      "metadata": {
        "id": "6_2CL7LxKgba"
      },
      "source": [
        "breweries.brewery_state.fillna(breweries.brewery_country+'0', inplace=True)"
      ],
      "execution_count": 53,
      "outputs": []
    },
    {
      "cell_type": "markdown",
      "metadata": {
        "id": "31c9-qUUSYTH"
      },
      "source": [
        "##### Brewery Notes"
      ]
    },
    {
      "cell_type": "code",
      "metadata": {
        "id": "MyzYq6F8SXtd"
      },
      "source": [
        "breweries.brewery_notes.value_counts()\n",
        "breweries.brewery_notes.fillna('No notes at this time.', inplace=True)"
      ],
      "execution_count": 54,
      "outputs": []
    },
    {
      "cell_type": "code",
      "metadata": {
        "colab": {
          "base_uri": "https://localhost:8080/"
        },
        "id": "dvz5oSTwS8aF",
        "outputId": "fe1d15f9-62cd-4326-8c2a-cfa5b39f65c2"
      },
      "source": [
        "breweries.brewery_notes.value_counts()"
      ],
      "execution_count": 55,
      "outputs": [
        {
          "output_type": "execute_result",
          "data": {
            "text/plain": [
              "No notes at this time.                                                                                                                                                                  46560\n",
              "Hours:                                                                                                                                                                                    136\n",
              " No notes at this time.                                                                                                                                                                    74\n",
              "Hours:                                                                                                                                                                                     68\n",
              "OWNED BY ANHEUSER-BUSCH INBEV                                                                                                                                                              18\n",
              "                                                                                                                                                                                        ...  \n",
              "Located in Tarpon Springs, Saint Somewhere Brewing Company is a brewer of traditional Belgian style ales. We are a small batch brewery, using only the finest ingredients available.        1\n",
              "Contract brewed by De Proefbrouwerij                                                                                                                                                        1\n",
              "Craft beer tasting every Friday from 5PM to 8PM.                                                                                                                                            1\n",
              "Sunday-Friday: 4pm - 2am                                                                                                                                                                    1\n",
              "Brewed at Crazy Mountain Brewery in Denver, CO.                                                                                                                                             1\n",
              "Name: brewery_notes, Length: 3270, dtype: int64"
            ]
          },
          "metadata": {
            "tags": []
          },
          "execution_count": 55
        }
      ]
    },
    {
      "cell_type": "code",
      "metadata": {
        "id": "KY8AF043MlrT"
      },
      "source": [
        "breweries['brewery_notes'] = breweries.brewery_notes.str.strip()"
      ],
      "execution_count": 56,
      "outputs": []
    },
    {
      "cell_type": "markdown",
      "metadata": {
        "id": "InEown7LMQNJ"
      },
      "source": [
        "##### Final Check"
      ]
    },
    {
      "cell_type": "markdown",
      "metadata": {
        "id": "E1PNTzNwMW8Q"
      },
      "source": [
        "There are no null values in breweries dataset."
      ]
    },
    {
      "cell_type": "code",
      "metadata": {
        "colab": {
          "base_uri": "https://localhost:8080/"
        },
        "id": "6w7P4muaMTL9",
        "outputId": "7f22bd23-3973-44c1-d414-9049c9609761"
      },
      "source": [
        "for x in breweries:\n",
        "  print(x, ': ', breweries[x].isnull().sum())"
      ],
      "execution_count": 57,
      "outputs": [
        {
          "output_type": "stream",
          "text": [
            "brewery_id :  0\n",
            "brewery_name :  0\n",
            "brewery_city :  0\n",
            "brewery_state :  0\n",
            "brewery_country :  0\n",
            "brewery_notes :  0\n",
            "brewery_types :  0\n"
          ],
          "name": "stdout"
        }
      ]
    },
    {
      "cell_type": "markdown",
      "metadata": {
        "id": "mzBIMEuJN2hq"
      },
      "source": [
        "#### Brewery Type"
      ]
    },
    {
      "cell_type": "markdown",
      "metadata": {
        "id": "WN9qlq0nBGxe"
      },
      "source": [
        "From review of brewery_types column, there seems to be six unique types of breweries (each which can be some combination of the below types):\n",
        "* Bar\n",
        "* Eatery\n",
        "* Brewery\n",
        "* Beer-to-go\n",
        "* Store\n",
        "* Homebrew\n",
        "\n",
        "To make this data easier to analyse going forward, I will create boolean columns for each of these brewery types and then delete the brewery_type column."
      ]
    },
    {
      "cell_type": "code",
      "metadata": {
        "id": "QQOn3fhoN6eN"
      },
      "source": [
        "#breweries.brewery_types.value_counts()"
      ],
      "execution_count": 58,
      "outputs": []
    },
    {
      "cell_type": "code",
      "metadata": {
        "colab": {
          "base_uri": "https://localhost:8080/"
        },
        "id": "5XpdE-3b6pui",
        "outputId": "710399c4-7f84-4acd-bd00-ac6d493d60bc"
      },
      "source": [
        "breweries.brewery_types = breweries.brewery_types.str.replace('-', '').str.lower()\n",
        "\n",
        "from sklearn.feature_extraction.text import CountVectorizer\n",
        "cv = CountVectorizer(min_df=0, max_df=0.999)\n",
        "\n",
        "cv.fit(breweries['brewery_types'])\n",
        "cv_transformed = cv.transform(breweries['brewery_types'])\n",
        "\n",
        "cv_df = pd.DataFrame(cv_transformed.toarray(), columns=cv.get_feature_names()).add_prefix('brewery_')\n",
        "print(cv_df.head())\n",
        "print(cv_df.columns)"
      ],
      "execution_count": 59,
      "outputs": [
        {
          "output_type": "stream",
          "text": [
            "   brewery_bar  brewery_beertogo  ...  brewery_homebrew  brewery_store\n",
            "0            0                 0  ...                 0              0\n",
            "1            1                 1  ...                 0              0\n",
            "2            1                 0  ...                 0              0\n",
            "3            0                 0  ...                 0              1\n",
            "4            1                 0  ...                 0              0\n",
            "\n",
            "[5 rows x 6 columns]\n",
            "Index(['brewery_bar', 'brewery_beertogo', 'brewery_brewery', 'brewery_eatery',\n",
            "       'brewery_homebrew', 'brewery_store'],\n",
            "      dtype='object')\n"
          ],
          "name": "stdout"
        }
      ]
    },
    {
      "cell_type": "code",
      "metadata": {
        "id": "C5VLJSnIEIiY"
      },
      "source": [
        "breweries = pd.concat([breweries, cv_df], axis=1, sort=False)"
      ],
      "execution_count": 60,
      "outputs": []
    },
    {
      "cell_type": "code",
      "metadata": {
        "id": "fv8I6PjK94qE"
      },
      "source": [
        "#breweries['brewery_bar'] = breweries.brewery_types.str.contains('Bar')\n",
        "#breweries['brewery_eatery'] = breweries.brewery_types.str.contains('Eatery')\n",
        "#breweries['brewery_brewery'] = breweries.brewery_types.str.contains('Brewery')\n",
        "#breweries['brewery_beertogo'] = breweries.brewery_types.str.contains('Beer-to-go')\n",
        "#breweries['brewery_store'] = breweries.brewery_types.str.contains('Store')\n",
        "#breweries['brewery_homebrew'] = breweries.brewery_types.str.contains('Homebrew')"
      ],
      "execution_count": 61,
      "outputs": []
    },
    {
      "cell_type": "code",
      "metadata": {
        "colab": {
          "base_uri": "https://localhost:8080/",
          "height": 0
        },
        "id": "ifuNreUi_3SZ",
        "outputId": "66cb1661-7213-4a8a-bac7-6d3a57c01294"
      },
      "source": [
        "breweries.sample(10)"
      ],
      "execution_count": 62,
      "outputs": [
        {
          "output_type": "execute_result",
          "data": {
            "text/html": [
              "<div>\n",
              "<style scoped>\n",
              "    .dataframe tbody tr th:only-of-type {\n",
              "        vertical-align: middle;\n",
              "    }\n",
              "\n",
              "    .dataframe tbody tr th {\n",
              "        vertical-align: top;\n",
              "    }\n",
              "\n",
              "    .dataframe thead th {\n",
              "        text-align: right;\n",
              "    }\n",
              "</style>\n",
              "<table border=\"1\" class=\"dataframe\">\n",
              "  <thead>\n",
              "    <tr style=\"text-align: right;\">\n",
              "      <th></th>\n",
              "      <th>brewery_id</th>\n",
              "      <th>brewery_name</th>\n",
              "      <th>brewery_city</th>\n",
              "      <th>brewery_state</th>\n",
              "      <th>brewery_country</th>\n",
              "      <th>brewery_notes</th>\n",
              "      <th>brewery_types</th>\n",
              "      <th>brewery_bar</th>\n",
              "      <th>brewery_beertogo</th>\n",
              "      <th>brewery_brewery</th>\n",
              "      <th>brewery_eatery</th>\n",
              "      <th>brewery_homebrew</th>\n",
              "      <th>brewery_store</th>\n",
              "    </tr>\n",
              "  </thead>\n",
              "  <tbody>\n",
              "    <tr>\n",
              "      <th>31134</th>\n",
              "      <td>31789</td>\n",
              "      <td>The Brewery at Abigaile</td>\n",
              "      <td>Hermosa Beach</td>\n",
              "      <td>CA</td>\n",
              "      <td>US</td>\n",
              "      <td>No notes at this time.</td>\n",
              "      <td>brewery, bar, eatery, beertogo</td>\n",
              "      <td>1</td>\n",
              "      <td>1</td>\n",
              "      <td>1</td>\n",
              "      <td>1</td>\n",
              "      <td>0</td>\n",
              "      <td>0</td>\n",
              "    </tr>\n",
              "    <tr>\n",
              "      <th>34074</th>\n",
              "      <td>176</td>\n",
              "      <td>Würzburger Hofbräu AG</td>\n",
              "      <td>Würzburg</td>\n",
              "      <td>DE0</td>\n",
              "      <td>DE</td>\n",
              "      <td>No notes at this time.</td>\n",
              "      <td>brewery, bar</td>\n",
              "      <td>1</td>\n",
              "      <td>0</td>\n",
              "      <td>1</td>\n",
              "      <td>0</td>\n",
              "      <td>0</td>\n",
              "      <td>0</td>\n",
              "    </tr>\n",
              "    <tr>\n",
              "      <th>2172</th>\n",
              "      <td>121</td>\n",
              "      <td>Panorama Brewing Company</td>\n",
              "      <td>Nevada City</td>\n",
              "      <td>CA</td>\n",
              "      <td>US</td>\n",
              "      <td>No notes at this time.</td>\n",
              "      <td>brewery</td>\n",
              "      <td>0</td>\n",
              "      <td>0</td>\n",
              "      <td>1</td>\n",
              "      <td>0</td>\n",
              "      <td>0</td>\n",
              "      <td>0</td>\n",
              "    </tr>\n",
              "    <tr>\n",
              "      <th>13607</th>\n",
              "      <td>46787</td>\n",
              "      <td>Broken Symmetry Gastro Brewery</td>\n",
              "      <td>Bethel</td>\n",
              "      <td>CT</td>\n",
              "      <td>US</td>\n",
              "      <td>No notes at this time.</td>\n",
              "      <td>brewery, bar, eatery, beertogo</td>\n",
              "      <td>1</td>\n",
              "      <td>1</td>\n",
              "      <td>1</td>\n",
              "      <td>1</td>\n",
              "      <td>0</td>\n",
              "      <td>0</td>\n",
              "    </tr>\n",
              "    <tr>\n",
              "      <th>17047</th>\n",
              "      <td>9757</td>\n",
              "      <td>Hannah Flanagan's Irish Pub</td>\n",
              "      <td>Asheville</td>\n",
              "      <td>NC</td>\n",
              "      <td>US</td>\n",
              "      <td>No notes at this time.</td>\n",
              "      <td>bar, eatery</td>\n",
              "      <td>1</td>\n",
              "      <td>0</td>\n",
              "      <td>0</td>\n",
              "      <td>1</td>\n",
              "      <td>0</td>\n",
              "      <td>0</td>\n",
              "    </tr>\n",
              "    <tr>\n",
              "      <th>41321</th>\n",
              "      <td>34242</td>\n",
              "      <td>21st Amendment - The Brewer's Bar</td>\n",
              "      <td>Saint Louis</td>\n",
              "      <td>MO</td>\n",
              "      <td>US</td>\n",
              "      <td>No notes at this time.</td>\n",
              "      <td>bar, beertogo</td>\n",
              "      <td>1</td>\n",
              "      <td>1</td>\n",
              "      <td>0</td>\n",
              "      <td>0</td>\n",
              "      <td>0</td>\n",
              "      <td>0</td>\n",
              "    </tr>\n",
              "    <tr>\n",
              "      <th>22091</th>\n",
              "      <td>53264</td>\n",
              "      <td>Giant Eagle</td>\n",
              "      <td>Grove City</td>\n",
              "      <td>OH</td>\n",
              "      <td>US</td>\n",
              "      <td>No notes at this time.</td>\n",
              "      <td>store</td>\n",
              "      <td>0</td>\n",
              "      <td>0</td>\n",
              "      <td>0</td>\n",
              "      <td>0</td>\n",
              "      <td>0</td>\n",
              "      <td>1</td>\n",
              "    </tr>\n",
              "    <tr>\n",
              "      <th>680</th>\n",
              "      <td>7882</td>\n",
              "      <td>North End Superette</td>\n",
              "      <td>Manchester</td>\n",
              "      <td>NH</td>\n",
              "      <td>US</td>\n",
              "      <td>No notes at this time.</td>\n",
              "      <td>store</td>\n",
              "      <td>0</td>\n",
              "      <td>0</td>\n",
              "      <td>0</td>\n",
              "      <td>0</td>\n",
              "      <td>0</td>\n",
              "      <td>1</td>\n",
              "    </tr>\n",
              "    <tr>\n",
              "      <th>32882</th>\n",
              "      <td>5944</td>\n",
              "      <td>Brauerei Mühlbauer</td>\n",
              "      <td>Arnschwang</td>\n",
              "      <td>DE0</td>\n",
              "      <td>DE</td>\n",
              "      <td>No notes at this time.</td>\n",
              "      <td>brewery</td>\n",
              "      <td>0</td>\n",
              "      <td>0</td>\n",
              "      <td>1</td>\n",
              "      <td>0</td>\n",
              "      <td>0</td>\n",
              "      <td>0</td>\n",
              "    </tr>\n",
              "    <tr>\n",
              "      <th>48643</th>\n",
              "      <td>44676</td>\n",
              "      <td>Muddy Waters Wine &amp; Spirits</td>\n",
              "      <td>Etowah</td>\n",
              "      <td>TN</td>\n",
              "      <td>US</td>\n",
              "      <td>No notes at this time.</td>\n",
              "      <td>store</td>\n",
              "      <td>0</td>\n",
              "      <td>0</td>\n",
              "      <td>0</td>\n",
              "      <td>0</td>\n",
              "      <td>0</td>\n",
              "      <td>1</td>\n",
              "    </tr>\n",
              "  </tbody>\n",
              "</table>\n",
              "</div>"
            ],
            "text/plain": [
              "       brewery_id  ... brewery_store\n",
              "31134       31789  ...             0\n",
              "34074         176  ...             0\n",
              "2172          121  ...             0\n",
              "13607       46787  ...             0\n",
              "17047        9757  ...             0\n",
              "41321       34242  ...             0\n",
              "22091       53264  ...             1\n",
              "680          7882  ...             1\n",
              "32882        5944  ...             0\n",
              "48643       44676  ...             1\n",
              "\n",
              "[10 rows x 13 columns]"
            ]
          },
          "metadata": {
            "tags": []
          },
          "execution_count": 62
        }
      ]
    },
    {
      "cell_type": "code",
      "metadata": {
        "id": "0MfwwL7fCJB7"
      },
      "source": [
        "breweries.drop(columns='brewery_types', inplace=True)"
      ],
      "execution_count": 63,
      "outputs": []
    },
    {
      "cell_type": "markdown",
      "metadata": {
        "id": "xLyQrnhbMkYM"
      },
      "source": [
        "#### Tidy Text Column"
      ]
    },
    {
      "cell_type": "code",
      "metadata": {
        "id": "5kTK5R1hMio9"
      },
      "source": [
        "breweries.brewery_name = breweries.brewery_name.str.replace('[^a-zA-Z0-9]', ' ').str.lower().str.strip()\n",
        "#breweries.brewery_city = breweries.brewery_city.str.replace('[^a-zA-Z0-9]', ' ').str.lower().str.strip()\n",
        "#breweries.brewery_state = breweries.brewery_state.str.replace('[^a-zA-Z0-9]', ' ').str.lower().str.strip()\n",
        "#breweries.brewery_country = breweries.brewery_country.str.replace('[^a-zA-Z0-9]', ' ').str.lower().str.strip()\n",
        "breweries.brewery_notes = breweries.brewery_notes.str.replace('[^a-zA-Z0-9]', ' ').str.lower().str.strip()\n",
        "#breweries.brewery_types = breweries.brewery_types.str.replace('[^a-zA-Z0-9]', ' ').str.lower().str.strip()"
      ],
      "execution_count": 64,
      "outputs": []
    },
    {
      "cell_type": "code",
      "metadata": {
        "id": "XX6Y2Y5wNcYW"
      },
      "source": [
        "#breweries.head()"
      ],
      "execution_count": 65,
      "outputs": []
    },
    {
      "cell_type": "markdown",
      "metadata": {
        "id": "BC1NEgHcxQrN"
      },
      "source": [
        "### Recap"
      ]
    },
    {
      "cell_type": "code",
      "metadata": {
        "colab": {
          "base_uri": "https://localhost:8080/"
        },
        "id": "HuquToV_Vp2b",
        "outputId": "e62be96c-68c0-48bc-b584-7b1b18396226"
      },
      "source": [
        "reviews.head()\n",
        "reviews.dtypes\n",
        "\n",
        "for x in reviews:\n",
        "  print(x, ': ', reviews[x].isnull().sum())"
      ],
      "execution_count": 66,
      "outputs": [
        {
          "output_type": "stream",
          "text": [
            "brewery_id :  0\n",
            "brewery_name :  0\n",
            "review_time :  0\n",
            "review_overall :  0\n",
            "review_aroma :  0\n",
            "review_appearance :  0\n",
            "review_profilename :  0\n",
            "beer_style :  0\n",
            "review_palate :  0\n",
            "review_taste :  0\n",
            "beer_name :  0\n",
            "beer_abv :  67785\n",
            "beer_id :  0\n"
          ],
          "name": "stdout"
        }
      ]
    },
    {
      "cell_type": "code",
      "metadata": {
        "colab": {
          "base_uri": "https://localhost:8080/"
        },
        "id": "6yjYVguNV0E6",
        "outputId": "62c9ae2f-04dc-4423-b9bd-410ac8e5d031"
      },
      "source": [
        "beers.head()\n",
        "beers.dtypes\n",
        "\n",
        "for x in beers:\n",
        "  print(x, ': ', beers[x].isnull().sum())"
      ],
      "execution_count": 67,
      "outputs": [
        {
          "output_type": "stream",
          "text": [
            "beer_id :  0\n",
            "beer_name :  0\n",
            "beer_style :  0\n",
            "beer_availability :  0\n",
            "beer_abv :  38797\n",
            "beer_notes :  0\n",
            "beer_retired :  0\n"
          ],
          "name": "stdout"
        }
      ]
    },
    {
      "cell_type": "code",
      "metadata": {
        "colab": {
          "base_uri": "https://localhost:8080/"
        },
        "id": "bJ7USyHgV5PQ",
        "outputId": "f6cee1a6-accf-41f6-be49-86d24a680f0e"
      },
      "source": [
        "breweries.head()\n",
        "breweries.dtypes\n",
        "\n",
        "for x in breweries:\n",
        "  print(x, ': ', breweries[x].isnull().sum())"
      ],
      "execution_count": 68,
      "outputs": [
        {
          "output_type": "stream",
          "text": [
            "brewery_id :  0\n",
            "brewery_name :  0\n",
            "brewery_city :  0\n",
            "brewery_state :  0\n",
            "brewery_country :  0\n",
            "brewery_notes :  0\n",
            "brewery_bar :  0\n",
            "brewery_beertogo :  0\n",
            "brewery_brewery :  0\n",
            "brewery_eatery :  0\n",
            "brewery_homebrew :  0\n",
            "brewery_store :  0\n"
          ],
          "name": "stdout"
        }
      ]
    },
    {
      "cell_type": "markdown",
      "metadata": {
        "id": "foDDe21G6A6y"
      },
      "source": [
        "## Beers Analysis"
      ]
    },
    {
      "cell_type": "markdown",
      "metadata": {
        "id": "O6kkCCor6P03"
      },
      "source": [
        "Ahead of merging the Beers dataset with our Reviews data, I want to compare the beer information in both datasets to see if this matches correctly.\n",
        "\n",
        "To do this, I will look at three columns that are commom across the two datasets. This includes:\n",
        "* Beer ID\n",
        "* Beer Name\n",
        "* Beer Sytle\n",
        "\n",
        "Although Beer ABV is in both datasets, I will not look to use this as a matching criteria due the number of null values present in both the reviews and beers datasets.\n",
        "\n",
        "I will then look to match the data across all four areas to see if this works. If not, I will investigate to see the root cause."
      ]
    },
    {
      "cell_type": "markdown",
      "metadata": {
        "id": "wXY913exz-eR"
      },
      "source": [
        "### Create Beer Summary Files"
      ]
    },
    {
      "cell_type": "markdown",
      "metadata": {
        "id": "evb9hjix7lA5"
      },
      "source": [
        "#### Beer Summary (Reviews Data)"
      ]
    },
    {
      "cell_type": "markdown",
      "metadata": {
        "id": "gfABwgv9YE4r"
      },
      "source": [
        "First, I will summarise the Reviews dataset to beer-level using the grouby function.\n",
        "\n",
        "This shows that there are 66,055 different beers mentioned in the reviews dataset."
      ]
    },
    {
      "cell_type": "code",
      "metadata": {
        "id": "DvTKcqq0xP-S"
      },
      "source": [
        "reviews_beersumm = reviews.groupby(by=['beer_id', 'beer_name', 'beer_style'], as_index=False)['review_overall'].agg(['mean', 'count']).reset_index()"
      ],
      "execution_count": 69,
      "outputs": []
    },
    {
      "cell_type": "code",
      "metadata": {
        "id": "-lpchTGN3EAj"
      },
      "source": [
        "reviews_beersumm.drop(columns=['mean', 'count'], inplace=True)"
      ],
      "execution_count": 70,
      "outputs": []
    },
    {
      "cell_type": "code",
      "metadata": {
        "id": "47IsrYEx1u0W",
        "colab": {
          "base_uri": "https://localhost:8080/"
        },
        "outputId": "9a9a9de6-49f7-41d3-cc07-bfb5d22b4126"
      },
      "source": [
        "reviews_beersumm.beer_id.count()"
      ],
      "execution_count": 71,
      "outputs": [
        {
          "output_type": "execute_result",
          "data": {
            "text/plain": [
              "66055"
            ]
          },
          "metadata": {
            "tags": []
          },
          "execution_count": 71
        }
      ]
    },
    {
      "cell_type": "code",
      "metadata": {
        "colab": {
          "base_uri": "https://localhost:8080/"
        },
        "id": "eLO4Bby7i0LF",
        "outputId": "38a7ef62-02d1-4085-de86-e3217add2e34"
      },
      "source": [
        "reviews.beer_id.nunique()\n",
        "#reviews.beer_name.nunique()"
      ],
      "execution_count": 72,
      "outputs": [
        {
          "output_type": "execute_result",
          "data": {
            "text/plain": [
              "66055"
            ]
          },
          "metadata": {
            "tags": []
          },
          "execution_count": 72
        }
      ]
    },
    {
      "cell_type": "code",
      "metadata": {
        "id": "Wi4ixrJS3RI3"
      },
      "source": [
        "#reviews_beersumm.dtypes\n",
        "#reviews_beersumm.head()"
      ],
      "execution_count": 73,
      "outputs": []
    },
    {
      "cell_type": "markdown",
      "metadata": {
        "id": "YwELvuRyZiN0"
      },
      "source": [
        "#### Beer Summary (Beer Dataset)"
      ]
    },
    {
      "cell_type": "markdown",
      "metadata": {
        "id": "etEERNSSkU7b"
      },
      "source": [
        "Next, I look to check that beers dataset only contains rows for the number of unique beer_id - which it does (358,873). \n",
        "\n",
        "Following this, I reduced dataset to only the three columsn for our comparison."
      ]
    },
    {
      "cell_type": "code",
      "metadata": {
        "colab": {
          "base_uri": "https://localhost:8080/"
        },
        "id": "2apZpLEnj9AC",
        "outputId": "59ba0c30-6ec7-41ca-a225-7849cc4ee220"
      },
      "source": [
        "beers.beer_id.count()"
      ],
      "execution_count": 74,
      "outputs": [
        {
          "output_type": "execute_result",
          "data": {
            "text/plain": [
              "358873"
            ]
          },
          "metadata": {
            "tags": []
          },
          "execution_count": 74
        }
      ]
    },
    {
      "cell_type": "code",
      "metadata": {
        "colab": {
          "base_uri": "https://localhost:8080/"
        },
        "id": "11SGJ2FfkB1W",
        "outputId": "43fcf0d0-1653-4795-f9db-c4603e126d85"
      },
      "source": [
        "beers.beer_id.nunique()"
      ],
      "execution_count": 75,
      "outputs": [
        {
          "output_type": "execute_result",
          "data": {
            "text/plain": [
              "358873"
            ]
          },
          "metadata": {
            "tags": []
          },
          "execution_count": 75
        }
      ]
    },
    {
      "cell_type": "code",
      "metadata": {
        "id": "Mbztml6V32Ay"
      },
      "source": [
        "beersumm = beers.drop(columns=['beer_abv', 'beer_availability', 'beer_notes', 'beer_retired'])"
      ],
      "execution_count": 76,
      "outputs": []
    },
    {
      "cell_type": "code",
      "metadata": {
        "id": "OyPRte7Y2JBL"
      },
      "source": [
        "#beersumm.dtypes\n",
        "#beersumm.head()"
      ],
      "execution_count": 77,
      "outputs": []
    },
    {
      "cell_type": "markdown",
      "metadata": {
        "id": "IfVx6Q790PSl"
      },
      "source": [
        "### Identify Matching Beers"
      ]
    },
    {
      "cell_type": "markdown",
      "metadata": {
        "id": "buwQz-aJ7pPf"
      },
      "source": [
        "#### Merge Summary Data"
      ]
    },
    {
      "cell_type": "markdown",
      "metadata": {
        "id": "fWT5fmoJYxNS"
      },
      "source": [
        "Now, I'll merge the two datasets together to allow for comparing values across them.\n",
        "\n",
        "The 66,055 beers is the number we wanted to see here given we did a left join on the beers from review dataset."
      ]
    },
    {
      "cell_type": "code",
      "metadata": {
        "id": "AONtgZu07r4d"
      },
      "source": [
        "beersumm_merge = pd.merge(reviews_beersumm, beersumm, how='left', on=['beer_id'])"
      ],
      "execution_count": 78,
      "outputs": []
    },
    {
      "cell_type": "code",
      "metadata": {
        "id": "FPujJPRf-Ewr"
      },
      "source": [
        "#beersumm_merge.head()"
      ],
      "execution_count": 79,
      "outputs": []
    },
    {
      "cell_type": "code",
      "metadata": {
        "colab": {
          "base_uri": "https://localhost:8080/"
        },
        "id": "0r_PD6eIbEr5",
        "outputId": "e572efe9-4fb4-47be-8705-4dd6afc154d9"
      },
      "source": [
        "beersumm_merge.beer_id.count()"
      ],
      "execution_count": 80,
      "outputs": [
        {
          "output_type": "execute_result",
          "data": {
            "text/plain": [
              "66055"
            ]
          },
          "metadata": {
            "tags": []
          },
          "execution_count": 80
        }
      ]
    },
    {
      "cell_type": "markdown",
      "metadata": {
        "id": "3WkTz-PgAjib"
      },
      "source": [
        "#### How many missing values?"
      ]
    },
    {
      "cell_type": "markdown",
      "metadata": {
        "id": "E9Q_E-LQ-pz7"
      },
      "source": [
        "The first comparison I will do is to see how many null values are in this comparison dataset - this will indicate if a beer is in the review dataset, but not in the beers dataset). \n",
        "\n",
        "Doing this, shows that 464 beers (or less than 1%) are in the Reviews dataset are not in the Beers dataset."
      ]
    },
    {
      "cell_type": "code",
      "metadata": {
        "id": "HlW9zNJw9Ub2",
        "colab": {
          "base_uri": "https://localhost:8080/"
        },
        "outputId": "0bc78035-4fa9-4f53-88bb-e8f31798160f"
      },
      "source": [
        "nulls = beersumm_merge.beer_name_y.isnull().sum()\n",
        "total_rows = beersumm_merge.beer_id.count()\n",
        "\n",
        "print('Name null values: ', nulls)\n",
        "print('% of data: ', round(((nulls / total_rows) * 100), 2))"
      ],
      "execution_count": 81,
      "outputs": [
        {
          "output_type": "stream",
          "text": [
            "Name null values:  564\n",
            "% of data:  0.85\n"
          ],
          "name": "stdout"
        }
      ]
    },
    {
      "cell_type": "code",
      "metadata": {
        "id": "q26MAGia9xfp",
        "colab": {
          "base_uri": "https://localhost:8080/"
        },
        "outputId": "a3aaf4b5-055f-46d1-b6f5-1d13a147f895"
      },
      "source": [
        "nulls = beersumm_merge.beer_style_y.isnull().sum()\n",
        "total_rows = beersumm_merge.beer_id.count()\n",
        "\n",
        "print('Name null values: ', nulls)\n",
        "print('% of data: ', round(((nulls / total_rows) * 100), 2))"
      ],
      "execution_count": 82,
      "outputs": [
        {
          "output_type": "stream",
          "text": [
            "Name null values:  564\n",
            "% of data:  0.85\n"
          ],
          "name": "stdout"
        }
      ]
    },
    {
      "cell_type": "markdown",
      "metadata": {
        "id": "o6eKQ-c9AoWR"
      },
      "source": [
        "#### How many mismatched beers?"
      ]
    },
    {
      "cell_type": "markdown",
      "metadata": {
        "id": "FUEzpXPDZihf"
      },
      "source": [
        "Next, I looked at whether the other columns across the datasets matched. The question here is that - even though the unique ID matched - do the beer names and beer styles match across datasets? \n",
        "\n",
        "Unfortunately, this brings up a few concerns as there are a large number of mismatched rows between the datasest - beer names (10.3%) and beer style (47.5%).\n",
        "\n",
        "However, from review of the mistach columns, a lot of the names and styles were entered in slightly different but represented the same thing. Examples of this include:\n",
        "* Beer Styles\n",
        "  * English Old Ale vs Old Ale\n",
        "  * Belgian Witbier vs Witbier\n",
        "* Beer Names\n",
        "  * George Killian's Irish Red vs Killian's Irish Red\n",
        "  * Nemesis 2009 vs Founders Nemesis 2009\n",
        "\n",
        "In the next section, we look at how we use link the datasets to take account of these close but not exact records."
      ]
    },
    {
      "cell_type": "code",
      "metadata": {
        "id": "zCskMW0-Av4R",
        "colab": {
          "base_uri": "https://localhost:8080/"
        },
        "outputId": "fc6205d6-f858-436c-d9c6-89a2f7f86f34"
      },
      "source": [
        "mismatch = beersumm_merge[beersumm_merge.beer_name_x != beersumm_merge.beer_name_y]['beer_id'].count()\n",
        "\n",
        "print('Mismatch Rows: ', mismatch)\n",
        "print('% of data: ', round(((mismatch / total_rows) * 100), 2))"
      ],
      "execution_count": 83,
      "outputs": [
        {
          "output_type": "stream",
          "text": [
            "Mismatch Rows:  6818\n",
            "% of data:  10.32\n"
          ],
          "name": "stdout"
        }
      ]
    },
    {
      "cell_type": "code",
      "metadata": {
        "id": "4eupMYz8Bfyf",
        "colab": {
          "base_uri": "https://localhost:8080/"
        },
        "outputId": "a125903e-e173-45a2-bd30-ad3f0a0fa685"
      },
      "source": [
        "mismatch = beersumm_merge[beersumm_merge.beer_style_x != beersumm_merge.beer_style_y]['beer_id'].count()\n",
        "\n",
        "print('Mismatch Rows: ', mismatch)\n",
        "print('% of data: ', round(((mismatch / total_rows) * 100), 2))"
      ],
      "execution_count": 84,
      "outputs": [
        {
          "output_type": "stream",
          "text": [
            "Mismatch Rows:  31389\n",
            "% of data:  47.52\n"
          ],
          "name": "stdout"
        }
      ]
    },
    {
      "cell_type": "code",
      "metadata": {
        "id": "raUexi_HBvYW"
      },
      "source": [
        "#beersumm_merge[beersumm_merge.beer_name_x != beersumm_merge.beer_name_y][['beer_name_x', 'beer_name_y']].sample(5)"
      ],
      "execution_count": 85,
      "outputs": []
    },
    {
      "cell_type": "code",
      "metadata": {
        "id": "amPB1ytyawRf"
      },
      "source": [
        "#beersumm_merge[beersumm_merge.beer_style_x != beersumm_merge.beer_style_y][['beer_style_x', 'beer_style_y']].sample(5)"
      ],
      "execution_count": 86,
      "outputs": []
    },
    {
      "cell_type": "markdown",
      "metadata": {
        "id": "fiR67GhjLYkl"
      },
      "source": [
        "#### Using Record Linkage to find pairs"
      ]
    },
    {
      "cell_type": "markdown",
      "metadata": {
        "id": "PKTGzJnWndPr"
      },
      "source": [
        "As we don't want to loss all the data related to the beers where there is not an exact match, I look to apply the recordlinkage package to the dataset to identify the beers from the beers dataset that pair well (but not exactly) with the reviews dataset. \n",
        "\n",
        "To do this, I apply the following criteria and state that two of these must be met to match the beer dataset to the reviews:\n",
        "*   Exact match on beer_id\n",
        "*   Match on beer_name at 0.9 threshold\n",
        "*   Match on beer_style at 0.9 threshold\n",
        "\n",
        "This leaves us with 63,080 of the review beers matching (or 95.5%). These are saved in a new dataset called beers_new that we will use to merge to the reviews dataset next."
      ]
    },
    {
      "cell_type": "code",
      "metadata": {
        "id": "3YhV9QYpNctN",
        "colab": {
          "base_uri": "https://localhost:8080/"
        },
        "outputId": "d7528454-761b-41fb-a2fa-26457d72d9ba"
      },
      "source": [
        "! pip install recordlinkage"
      ],
      "execution_count": 87,
      "outputs": [
        {
          "output_type": "stream",
          "text": [
            "Collecting recordlinkage\n",
            "\u001b[?25l  Downloading https://files.pythonhosted.org/packages/db/26/babbca39d74824e8bc17428a8eb04951a1d63318af7d02beeb2106a1ec26/recordlinkage-0.14-py3-none-any.whl (944kB)\n",
            "\u001b[K     |████████████████████████████████| 952kB 11.5MB/s \n",
            "\u001b[?25hRequirement already satisfied: numpy>=1.13.0 in /usr/local/lib/python3.7/dist-packages (from recordlinkage) (1.19.5)\n",
            "Collecting jellyfish>=0.5.4\n",
            "\u001b[?25l  Downloading https://files.pythonhosted.org/packages/30/a6/4d039bc827a102f62ce7a7910713e38fdfd7c7a40aa39c72fb14938a1473/jellyfish-0.8.2-cp37-cp37m-manylinux2014_x86_64.whl (90kB)\n",
            "\u001b[K     |████████████████████████████████| 92kB 5.4MB/s \n",
            "\u001b[?25hRequirement already satisfied: scikit-learn>=0.19.0 in /usr/local/lib/python3.7/dist-packages (from recordlinkage) (0.22.2.post1)\n",
            "Requirement already satisfied: scipy>=1 in /usr/local/lib/python3.7/dist-packages (from recordlinkage) (1.4.1)\n",
            "Requirement already satisfied: pandas>=0.23 in /usr/local/lib/python3.7/dist-packages (from recordlinkage) (1.1.5)\n",
            "Requirement already satisfied: joblib in /usr/local/lib/python3.7/dist-packages (from recordlinkage) (1.0.1)\n",
            "Requirement already satisfied: pytz>=2017.2 in /usr/local/lib/python3.7/dist-packages (from pandas>=0.23->recordlinkage) (2018.9)\n",
            "Requirement already satisfied: python-dateutil>=2.7.3 in /usr/local/lib/python3.7/dist-packages (from pandas>=0.23->recordlinkage) (2.8.1)\n",
            "Requirement already satisfied: six>=1.5 in /usr/local/lib/python3.7/dist-packages (from python-dateutil>=2.7.3->pandas>=0.23->recordlinkage) (1.15.0)\n",
            "Installing collected packages: jellyfish, recordlinkage\n",
            "Successfully installed jellyfish-0.8.2 recordlinkage-0.14\n"
          ],
          "name": "stdout"
        }
      ]
    },
    {
      "cell_type": "code",
      "metadata": {
        "id": "4_voWqdxLbgP"
      },
      "source": [
        "# Import recordlinkage\n",
        "import recordlinkage\n",
        "\n",
        "# Create indexing object\n",
        "indexer = recordlinkage.Index()\n",
        "\n",
        "# Generate pairs blocked on id\n",
        "indexer.block('beer_id')\n",
        "pairs = indexer.index(reviews_beersumm, beersumm)\n",
        "\n",
        "# Generate the pairs\n",
        "pairs = indexer.index(reviews_beersumm, beersumm)\n",
        "\n",
        "# Create a Compare object\n",
        "compare_cl = recordlinkage.Compare()\n",
        "\n",
        "# Find exact matches for pairs of id and abv\n",
        "compare_cl.exact('beer_id', 'beer_id', label='beer_id')\n",
        "#compare_cl.exact('beer_abv', 'beer_abv', label='beer_abv')\n",
        "\n",
        "# Find similar matches for pairs of beer_name and beer_style using string similarity\n",
        "compare_cl.string('beer_name', 'beer_name', threshold=0.8, label='beer_name')\n",
        "compare_cl.string('beer_style', 'beer_style', threshold=0.8, label='beer_style')\n",
        "\n",
        "# Find matches\n",
        "potential_matches = compare_cl.compute(pairs, reviews_beersumm, beersumm)"
      ],
      "execution_count": 88,
      "outputs": []
    },
    {
      "cell_type": "code",
      "metadata": {
        "id": "bZviAuMdNtuh"
      },
      "source": [
        "#potential_matches\n",
        "#potential_matches[potential_matches.sum(axis = 1) >= 2]"
      ],
      "execution_count": 89,
      "outputs": []
    },
    {
      "cell_type": "code",
      "metadata": {
        "id": "_GFndqm7O3rh",
        "colab": {
          "base_uri": "https://localhost:8080/"
        },
        "outputId": "81ee8877-ee1a-4a8e-8f9a-27bb4eaa62fe"
      },
      "source": [
        "potential_matches['beer_id'].count()\n",
        "match_rows = potential_matches[potential_matches.sum(axis = 1) >= 2]['beer_id'].count()\n",
        "\n",
        "print('Potential Match Rows: ', match_rows)\n",
        "print('No Beer Match: ', total_rows - match_rows)\n",
        "print('% of data: ', round(((match_rows / total_rows) * 100), 2))"
      ],
      "execution_count": 90,
      "outputs": [
        {
          "output_type": "stream",
          "text": [
            "Potential Match Rows:  63080\n",
            "No Beer Match:  2975\n",
            "% of data:  95.5\n"
          ],
          "name": "stdout"
        }
      ]
    },
    {
      "cell_type": "code",
      "metadata": {
        "id": "raFt2F8rb02y"
      },
      "source": [
        "#potential_matches['beer_name'].sum()\n",
        "#potential_matches['beer_style'].sum()"
      ],
      "execution_count": 91,
      "outputs": []
    },
    {
      "cell_type": "code",
      "metadata": {
        "id": "VHKnTQ63Uijd"
      },
      "source": [
        "matches = potential_matches[potential_matches.sum(axis = 1) >= 2]\n",
        "match_index = matches.index.get_level_values(1)\n",
        "beers_new = beers[beers.index.isin(match_index)]\n",
        "#beers_new.head()"
      ],
      "execution_count": 92,
      "outputs": []
    },
    {
      "cell_type": "markdown",
      "metadata": {
        "id": "2tmVrCM30-UD"
      },
      "source": [
        "### Bringing it all together"
      ]
    },
    {
      "cell_type": "code",
      "metadata": {
        "id": "VqD6w8YQ-the"
      },
      "source": [
        "df = pd.merge(reviews, beers_new, how='left', on='beer_id')"
      ],
      "execution_count": 93,
      "outputs": []
    },
    {
      "cell_type": "code",
      "metadata": {
        "id": "O0WEzjzy_sP7"
      },
      "source": [
        "#for x in df:\n",
        "#  print(x, ': ', df[x].isnull().sum())"
      ],
      "execution_count": 94,
      "outputs": []
    },
    {
      "cell_type": "markdown",
      "metadata": {
        "id": "vNax5d7nCE56"
      },
      "source": [
        "### Tidying Up"
      ]
    },
    {
      "cell_type": "markdown",
      "metadata": {
        "id": "NNrVKmkHyx00"
      },
      "source": [
        "#### ABV Missing Values"
      ]
    },
    {
      "cell_type": "markdown",
      "metadata": {
        "id": "9sa098Guy4_x"
      },
      "source": [
        "First, I look to replace any missing values in the initial Reviews ABV column with ABV values from the Beers dataset - this reduces the number of missing values from 67,785 to 50,431."
      ]
    },
    {
      "cell_type": "code",
      "metadata": {
        "id": "xDs2wZuZCtsL"
      },
      "source": [
        "df.beer_abv_x.fillna(df.beer_abv_y, inplace=True)"
      ],
      "execution_count": 95,
      "outputs": []
    },
    {
      "cell_type": "code",
      "metadata": {
        "id": "t0MzypukDqcL"
      },
      "source": [
        "#for x in df:\n",
        "#  print(x, ': ', df[x].isnull().sum())"
      ],
      "execution_count": 96,
      "outputs": []
    },
    {
      "cell_type": "markdown",
      "metadata": {
        "id": "dZV9tXvgoIBb"
      },
      "source": [
        "#### ABV Difference"
      ]
    },
    {
      "cell_type": "markdown",
      "metadata": {
        "id": "6NleA1bvorXU"
      },
      "source": [
        "I looked at the difference in ABV between the two datasets. \n",
        "\n",
        "Initially, there looks like there is a large number rows with ABV discrepencies that we will have to account for (424,679). However, looking in more detail shows that over half these (218,058) are related to null values for ABV in either the Beers or Reviews dataset. \n",
        "\n",
        "The remaining discrepencies (206,621) are then plotted on a histogram to see the distribution of differences. This shows are a normal distribution around 0. The change in ABV could be related to different variations of the beer having slightly higher or lower ABV but should not impact on the addtional information provided for the dataset. \n",
        "\n",
        "With this in mind, we will keep the ABV in the Reviews dataset but maintain the additional information included from the Beers dataset as I believe this is still valid and useful to the analysis."
      ]
    },
    {
      "cell_type": "code",
      "metadata": {
        "id": "s8kirGYfDCm4"
      },
      "source": [
        "df['abv_diff'] = df.beer_abv_x - df.beer_abv_y"
      ],
      "execution_count": 97,
      "outputs": []
    },
    {
      "cell_type": "code",
      "metadata": {
        "colab": {
          "base_uri": "https://localhost:8080/"
        },
        "id": "rQ-05to2r_qO",
        "outputId": "6d9ce0c5-7e29-46c9-da4c-7a8f1ac52955"
      },
      "source": [
        "print('Total Rows ABV not matching: ', df.loc[(df.abv_diff != 0)]['beer_id'].count())\n",
        "\n",
        "print('Not matching due to null in Beer dataset: ', df.loc[(df.abv_diff != 0) & (df.beer_abv_x.notnull()) & (df.beer_abv_y.isnull())]['beer_id'].count())\n",
        "print('Not matching due to null in Review dataset: ', df.loc[(df.abv_diff != 0) & (df.beer_abv_x.isnull()) & (df.beer_abv_y.notnull())]['beer_id'].count())\n",
        "print('Not matching due to nulls in both datasets: ', df.loc[(df.abv_diff != 0) & (df.beer_abv_x.isnull()) & (df.beer_abv_y.isnull())]['beer_id'].count())\n",
        "print('Not matching due to difference in ABV levels: ', df.loc[(df.abv_diff != 0) & (df.beer_abv_x.notnull()) & (df.beer_abv_y.notnull())]['beer_id'].count())"
      ],
      "execution_count": 98,
      "outputs": [
        {
          "output_type": "stream",
          "text": [
            "Total Rows ABV not matching:  424529\n",
            "Not matching due to null in Beer dataset:  167474\n",
            "Not matching due to null in Review dataset:  0\n",
            "Not matching due to nulls in both datasets:  50431\n",
            "Not matching due to difference in ABV levels:  206624\n"
          ],
          "name": "stdout"
        }
      ]
    },
    {
      "cell_type": "code",
      "metadata": {
        "id": "1Osf7Xz9iJiY"
      },
      "source": [
        "#df.loc[(df.abv_diff != 0) & (df.beer_abv_y.notnull())]\n",
        "#df.loc[(df.abv_diff != 0)].sample(10)"
      ],
      "execution_count": 99,
      "outputs": []
    },
    {
      "cell_type": "code",
      "metadata": {
        "colab": {
          "base_uri": "https://localhost:8080/",
          "height": 0
        },
        "id": "osBuADCuFRn1",
        "outputId": "b56410ea-1483-4cf2-f52c-a55a0d3cc792"
      },
      "source": [
        "_ = plt.figure(figsize=(12,8))\n",
        "_ = sns.histplot(data=df.loc[(df.abv_diff != 0) & (df.beer_abv_x.notnull()) & (df.beer_abv_y.notnull())], x='abv_diff', bins=50)\n",
        "\n",
        "plt.show()"
      ],
      "execution_count": 100,
      "outputs": [
        {
          "output_type": "display_data",
          "data": {
            "image/png": "[encoded data removed]",
            "text/plain": [
              "<Figure size 864x576 with 1 Axes>"
            ]
          },
          "metadata": {
            "tags": [],
            "needs_background": "light"
          }
        }
      ]
    },
    {
      "cell_type": "code",
      "metadata": {
        "colab": {
          "base_uri": "https://localhost:8080/"
        },
        "id": "3rQyloB8v6eX",
        "outputId": "23dcdc77-6e8a-44a7-f9a3-cab7d59d1ce1"
      },
      "source": [
        "from scipy import stats\n",
        "\n",
        "k2, p = stats.normaltest(df.loc[(df.abv_diff != 0) & (df.beer_abv_x.notnull()) & (df.beer_abv_y.notnull())]['abv_diff'])\n",
        "alpha = 0.05\n",
        "\n",
        "print(\"p = {:g}\".format(p))\n",
        "\n",
        "if p < alpha:  # null hypothesis: x comes from a normal distribution\n",
        "    print(\"The null hypothesis can be rejected\")\n",
        "else:\n",
        "    print(\"The null hypothesis cannot be rejected\")\n"
      ],
      "execution_count": 101,
      "outputs": [
        {
          "output_type": "stream",
          "text": [
            "p = 0\n",
            "The null hypothesis can be rejected\n"
          ],
          "name": "stdout"
        }
      ]
    },
    {
      "cell_type": "markdown",
      "metadata": {
        "id": "rc5TrQJw3YlS"
      },
      "source": [
        "#### Drop duplicate columns"
      ]
    },
    {
      "cell_type": "code",
      "metadata": {
        "id": "kuGzlGOm17We"
      },
      "source": [
        "df.drop(columns=['beer_name_y', 'beer_style_y', 'beer_abv_y', 'abv_diff'], inplace=True)"
      ],
      "execution_count": 102,
      "outputs": []
    },
    {
      "cell_type": "code",
      "metadata": {
        "id": "6X_It7RW4uoz"
      },
      "source": [
        "df.rename(columns={'beer_name_x':'beer_name', 'beer_style_x':'beer_style', 'beer_abv_x':'beer_abv'}, inplace=True)"
      ],
      "execution_count": 103,
      "outputs": []
    },
    {
      "cell_type": "code",
      "metadata": {
        "id": "W05_3S_Q4Isj"
      },
      "source": [
        "#df.head()"
      ],
      "execution_count": 104,
      "outputs": []
    },
    {
      "cell_type": "code",
      "metadata": {
        "id": "nudAcKlJ4Uye"
      },
      "source": [
        "#for x in df:\n",
        "#  print(x, ': ', df[x].isnull().sum())"
      ],
      "execution_count": 105,
      "outputs": []
    },
    {
      "cell_type": "markdown",
      "metadata": {
        "id": "01taisteCkqq"
      },
      "source": [
        "#### ABV Missing Values (Part 2)"
      ]
    },
    {
      "cell_type": "markdown",
      "metadata": {
        "id": "iMbnxHEjCvTP"
      },
      "source": [
        "There are still 50,431 missing values that need to be accounted for.\n",
        "\n",
        "Unlike some of the categorical columns, it is not as easy to input a 'n/a'. We could:\n",
        "* Input a 0 value - but this has the meaning that beer contains no alcohol which likely is not the case\n",
        "* Input a -99 - but this number may skew the analyis when it comes to modelling\n",
        "* Input the average - will not be exact but give us a best guess estimate for what the ABV might be\n",
        "\n",
        "Based on the choices, the decision was to go with the average ABV for the beer style of the beer with the missing ABV value - this gives the best estimate of this value given the information available to us. Doing this, means we no longer have any null values for the ABV column."
      ]
    },
    {
      "cell_type": "code",
      "metadata": {
        "id": "plkXJt82C2Tw"
      },
      "source": [
        "abv_by_beerstyle = df.groupby(by='beer_style')['beer_abv'].mean().reset_index()\n",
        "\n",
        "#abv_by_beerstyle.head()"
      ],
      "execution_count": 106,
      "outputs": []
    },
    {
      "cell_type": "code",
      "metadata": {
        "colab": {
          "base_uri": "https://localhost:8080/"
        },
        "id": "k2VD4ru8EBeM",
        "outputId": "0e80d2fc-6d11-4be0-805a-013f3758c919"
      },
      "source": [
        "abv_by_beerstyle.shape"
      ],
      "execution_count": 107,
      "outputs": [
        {
          "output_type": "execute_result",
          "data": {
            "text/plain": [
              "(104, 2)"
            ]
          },
          "metadata": {
            "tags": []
          },
          "execution_count": 107
        }
      ]
    },
    {
      "cell_type": "code",
      "metadata": {
        "id": "26S-P3C6Dmm3"
      },
      "source": [
        "df = pd.merge(df, abv_by_beerstyle, on='beer_style', how='left')"
      ],
      "execution_count": 108,
      "outputs": []
    },
    {
      "cell_type": "code",
      "metadata": {
        "id": "O46-hBZmEcMV"
      },
      "source": [
        "df.beer_abv_x.fillna(df.beer_abv_y, inplace=True)"
      ],
      "execution_count": 109,
      "outputs": []
    },
    {
      "cell_type": "code",
      "metadata": {
        "colab": {
          "base_uri": "https://localhost:8080/"
        },
        "id": "Kk4Vn6b0E08O",
        "outputId": "90ee1e49-a743-45f7-bf98-2bb45e309059"
      },
      "source": [
        "df.beer_abv_x.isnull().sum()"
      ],
      "execution_count": 110,
      "outputs": [
        {
          "output_type": "execute_result",
          "data": {
            "text/plain": [
              "0"
            ]
          },
          "metadata": {
            "tags": []
          },
          "execution_count": 110
        }
      ]
    },
    {
      "cell_type": "code",
      "metadata": {
        "id": "JCqHyfPRGoov"
      },
      "source": [
        "df.drop(columns='beer_abv_y', inplace=True)"
      ],
      "execution_count": 111,
      "outputs": []
    },
    {
      "cell_type": "code",
      "metadata": {
        "id": "xm200C4DJ6HR"
      },
      "source": [
        "df.rename(columns={'beer_abv_x':'beer_abv'}, inplace=True)"
      ],
      "execution_count": 112,
      "outputs": []
    },
    {
      "cell_type": "markdown",
      "metadata": {
        "id": "7pBVZtz35ohC"
      },
      "source": [
        "#### Beer Availability"
      ]
    },
    {
      "cell_type": "markdown",
      "metadata": {
        "id": "nEEAi1X78Y3B"
      },
      "source": [
        "Look to tidy this column. \n",
        "\n",
        "* First, I reduce the number of unique variables by removing the whitespace in the text.\n",
        "* Second, I replace null values with 'n/a' to show these are not available. During EDA stage we can see if this is appropriate category to continue with."
      ]
    },
    {
      "cell_type": "code",
      "metadata": {
        "colab": {
          "base_uri": "https://localhost:8080/"
        },
        "id": "78HBuSW95n0_",
        "outputId": "b2357c2d-08d0-438c-a81b-71fe9646084b"
      },
      "source": [
        "df.beer_availability.nunique()"
      ],
      "execution_count": 113,
      "outputs": [
        {
          "output_type": "execute_result",
          "data": {
            "text/plain": [
              "7"
            ]
          },
          "metadata": {
            "tags": []
          },
          "execution_count": 113
        }
      ]
    },
    {
      "cell_type": "code",
      "metadata": {
        "id": "DlGY41Y851Vn"
      },
      "source": [
        "#df.beer_availability.value_counts()"
      ],
      "execution_count": 114,
      "outputs": []
    },
    {
      "cell_type": "code",
      "metadata": {
        "id": "EDXQcCMJ6KN_"
      },
      "source": [
        "df['beer_availability'] = df.beer_availability.str.strip()"
      ],
      "execution_count": 115,
      "outputs": []
    },
    {
      "cell_type": "code",
      "metadata": {
        "colab": {
          "base_uri": "https://localhost:8080/"
        },
        "id": "LIg6hCzW6aes",
        "outputId": "7e43f3ea-1268-4032-cd1d-791fb5714847"
      },
      "source": [
        "df.beer_availability.nunique()"
      ],
      "execution_count": 116,
      "outputs": [
        {
          "output_type": "execute_result",
          "data": {
            "text/plain": [
              "7"
            ]
          },
          "metadata": {
            "tags": []
          },
          "execution_count": 116
        }
      ]
    },
    {
      "cell_type": "code",
      "metadata": {
        "id": "tAZJYWKO6dXg"
      },
      "source": [
        "#df.beer_availability.value_counts()"
      ],
      "execution_count": 117,
      "outputs": []
    },
    {
      "cell_type": "code",
      "metadata": {
        "id": "bcqoIWcD6kR_"
      },
      "source": [
        "df.beer_availability.fillna('n/a', inplace=True)"
      ],
      "execution_count": 118,
      "outputs": []
    },
    {
      "cell_type": "code",
      "metadata": {
        "colab": {
          "base_uri": "https://localhost:8080/"
        },
        "id": "coehxQul6rHT",
        "outputId": "1af16e15-4685-4a06-d589-c64ec6970a59"
      },
      "source": [
        "df.beer_availability.value_counts()"
      ],
      "execution_count": 119,
      "outputs": [
        {
          "output_type": "execute_result",
          "data": {
            "text/plain": [
              "year round              793580\n",
              "rotating                244155\n",
              "n/a                     170772\n",
              "winter                  118788\n",
              "limited  brewed once    113449\n",
              "fall                     65559\n",
              "summer                   41023\n",
              "spring                   39288\n",
              "Name: beer_availability, dtype: int64"
            ]
          },
          "metadata": {
            "tags": []
          },
          "execution_count": 119
        }
      ]
    },
    {
      "cell_type": "markdown",
      "metadata": {
        "id": "Q8Y7et374Zzo"
      },
      "source": [
        "#### Beer Notes"
      ]
    },
    {
      "cell_type": "markdown",
      "metadata": {
        "id": "h_RacSb768f3"
      },
      "source": [
        "The beer notes contains a lot text that could be beneficial but may take a bit of time to investigate and tidy. Also, the top 3 notes don't provide that much additional:\n",
        "* no notes at this time\n",
        "* ibu\n",
        "* ingredients\n",
        "\n",
        "Based on this, I will remove this column from the dataset.\n",
        "\n",
        "\n"
      ]
    },
    {
      "cell_type": "code",
      "metadata": {
        "colab": {
          "base_uri": "https://localhost:8080/"
        },
        "id": "vmjvMbae4ceZ",
        "outputId": "9b73e2f9-dd16-469b-8158-8ac3eaf1356c"
      },
      "source": [
        "df.beer_notes.value_counts()\n",
        "df.beer_notes.nunique()"
      ],
      "execution_count": 120,
      "outputs": [
        {
          "output_type": "execute_result",
          "data": {
            "text/plain": [
              "9300"
            ]
          },
          "metadata": {
            "tags": []
          },
          "execution_count": 120
        }
      ]
    },
    {
      "cell_type": "code",
      "metadata": {
        "id": "McA-nMT07GGz"
      },
      "source": [
        "#reviews.beer_notes.value_counts()"
      ],
      "execution_count": 121,
      "outputs": []
    },
    {
      "cell_type": "code",
      "metadata": {
        "id": "USy93E1M7MWQ"
      },
      "source": [
        "df['beer_notes'] = df.beer_notes.str.strip()"
      ],
      "execution_count": 122,
      "outputs": []
    },
    {
      "cell_type": "code",
      "metadata": {
        "colab": {
          "base_uri": "https://localhost:8080/"
        },
        "id": "wa5MBcc47Tbw",
        "outputId": "bbd55d6b-a69d-401d-ce90-d320afb02395"
      },
      "source": [
        "df.beer_notes.nunique()"
      ],
      "execution_count": 123,
      "outputs": [
        {
          "output_type": "execute_result",
          "data": {
            "text/plain": [
              "9300"
            ]
          },
          "metadata": {
            "tags": []
          },
          "execution_count": 123
        }
      ]
    },
    {
      "cell_type": "code",
      "metadata": {
        "colab": {
          "base_uri": "https://localhost:8080/"
        },
        "id": "kiy-G8f17Wbr",
        "outputId": "e65298cd-22d3-43e2-ea23-389a5d34d899"
      },
      "source": [
        "df.beer_notes.value_counts()"
      ],
      "execution_count": 124,
      "outputs": [
        {
          "output_type": "execute_result",
          "data": {
            "text/plain": [
              "no notes at this time                                                                                                                                                                                                                                                                                                                                                                                                                                                                                         705917\n",
              "esquire magazine calls our 90 minute ipa  perhaps the best ipa in america   an imperial ipa best savored from a snifter  90 minute has a great malt backbone that stands up to the extreme hopping rate                                                                                                                                                                                                                                                                                                         3290\n",
              "produced in the tradition of 18th century english brewers who supplied the court of russia s catherine the great  old rasputin seems to develop a cult following wherever it goes  it s a rich  intense brew with big complex flavors and a warming finish                                                                                                                                                                                                                                                      3111\n",
              "fresh hop ale  no spices                                                                                                                                                                                                                                                                                                                                                                                                                                                                                        3000\n",
              "brewed with 100  centennial hops from the pacific northwest and named after the two hearted river in michigan s upper peninsula  this ipa is bursting with hop aromas ranging from pine to grapefruit from massive hop additions in both the kettle and the fermenter                                                                                                                                                                                                                                           2728\n",
              "                                                                                                                                                                                                                                                                                                                                                                                                                                                                                                               ...  \n",
              "one of our most popular seasonal brews  this recipe was created by our beloved former brewmaster  andy hines  tilt one of thse rich  malty brews in celebration of friends near and far  here and gone                                                                                                                                                                                                                                                                                                             1\n",
              "our pumpkin porter goes back to the tradition of taking a porter recipe and adding 200 pounds of roasted pumpkin drizzled in molasses and dusted with spices  36 pounds of honey and orange peel added to turn it into a beer perfect for sipping during the holidays                                                                                                                                                                                                                                              1\n",
              "brewed once  as a special fundraiser for democratic us senate candidate steve novick s campaign  released spring 2008                                                                                                                                                                                                                                                                                                                                                                                              1\n",
              "when it s time to brew something that s over the line  why not brew a beer inspired by the dude s favorite cocktail  the white russian  for our experiment  we brewed an old school  unfiltered german ale called a gr tzer  but the german is not the issue here  we upped it s alcohol  left a little residual sugar in it  and switched out the gr tzer s smoked malts for a coffee roasted by our friends at bicycle coffee roasters  that coffee s interesting  man  it really ties the brew together         1\n",
              "this beer is light bodied with significant hop presence  we use nugget and cascade hops which give the beer a refreshing grapefruit flavor  a great treat for these warm months                                                                                                                                                                                                                                                                                                                                    1\n",
              "Name: beer_notes, Length: 9300, dtype: int64"
            ]
          },
          "metadata": {
            "tags": []
          },
          "execution_count": 124
        }
      ]
    },
    {
      "cell_type": "code",
      "metadata": {
        "id": "VgYHwjo-95a3"
      },
      "source": [
        "df.drop(columns='beer_notes', inplace=True)"
      ],
      "execution_count": 125,
      "outputs": []
    },
    {
      "cell_type": "markdown",
      "metadata": {
        "id": "di-Blajb5iNs"
      },
      "source": [
        "#### Beers Retired"
      ]
    },
    {
      "cell_type": "markdown",
      "metadata": {
        "id": "IAYc5Fd_9SzK"
      },
      "source": [
        "Replace null values with 'n/a' to show these are not available. During EDA stage we can see if this is appropriate category to continue with."
      ]
    },
    {
      "cell_type": "code",
      "metadata": {
        "id": "ahL8GGfi5LOM"
      },
      "source": [
        "df.beer_retired.fillna('n/a', inplace=True)"
      ],
      "execution_count": 126,
      "outputs": []
    },
    {
      "cell_type": "code",
      "metadata": {
        "colab": {
          "base_uri": "https://localhost:8080/"
        },
        "id": "gqe0MPzJ42vP",
        "outputId": "dcdb35a5-3d6d-412d-bb57-0064f84549b4"
      },
      "source": [
        "df.beer_retired.nunique()"
      ],
      "execution_count": 127,
      "outputs": [
        {
          "output_type": "execute_result",
          "data": {
            "text/plain": [
              "3"
            ]
          },
          "metadata": {
            "tags": []
          },
          "execution_count": 127
        }
      ]
    },
    {
      "cell_type": "code",
      "metadata": {
        "colab": {
          "base_uri": "https://localhost:8080/"
        },
        "id": "SW7ta5iA5DG5",
        "outputId": "5da7c783-9bcb-409b-c487-9c98c117f114"
      },
      "source": [
        "df.beer_retired.value_counts()"
      ],
      "execution_count": 128,
      "outputs": [
        {
          "output_type": "execute_result",
          "data": {
            "text/plain": [
              "f      1093810\n",
              "t       322032\n",
              "n/a     170772\n",
              "Name: beer_retired, dtype: int64"
            ]
          },
          "metadata": {
            "tags": []
          },
          "execution_count": 128
        }
      ]
    },
    {
      "cell_type": "markdown",
      "metadata": {
        "id": "_KlRYkd_9i8b"
      },
      "source": [
        "#### Final Recap"
      ]
    },
    {
      "cell_type": "code",
      "metadata": {
        "id": "52iWOvJ09kr_"
      },
      "source": [
        "#df.head()"
      ],
      "execution_count": 129,
      "outputs": []
    },
    {
      "cell_type": "code",
      "metadata": {
        "id": "ckTKWHBW9qg3"
      },
      "source": [
        "#for x in df:\n",
        "#  print(x, ': ', df[x].isnull().sum())"
      ],
      "execution_count": 130,
      "outputs": []
    },
    {
      "cell_type": "markdown",
      "metadata": {
        "id": "2vAXZGdm4Zfo"
      },
      "source": [
        "## Brewery Analysis"
      ]
    },
    {
      "cell_type": "markdown",
      "metadata": {
        "id": "7R_L7RkaWRMy"
      },
      "source": [
        "### Create Brewery Summary Files"
      ]
    },
    {
      "cell_type": "markdown",
      "metadata": {
        "id": "5xmQ9aorWak3"
      },
      "source": [
        "#### Brewery Summary (Reviews Data)"
      ]
    },
    {
      "cell_type": "markdown",
      "metadata": {
        "id": "V2u1ZjgaYt31"
      },
      "source": [
        "Look to summarise the reviews dataset to see how many unique breweries it contains - this shows us that there are 5,840 breweries in the dataset. "
      ]
    },
    {
      "cell_type": "code",
      "metadata": {
        "id": "LIC_FRCn4qNA"
      },
      "source": [
        "reviews_brewerysumm = reviews.groupby(by=['brewery_id', 'brewery_name'], as_index=False)['review_overall'].agg(['mean', 'count']).reset_index()\n",
        "reviews_brewerysumm.drop(columns=['mean', 'count'], inplace=True)"
      ],
      "execution_count": 131,
      "outputs": []
    },
    {
      "cell_type": "code",
      "metadata": {
        "colab": {
          "base_uri": "https://localhost:8080/"
        },
        "id": "XQQhkRd_W9M2",
        "outputId": "369ba21d-152b-40d1-9e5a-4c58387facca"
      },
      "source": [
        "reviews_brewerysumm.brewery_id.count()"
      ],
      "execution_count": 132,
      "outputs": [
        {
          "output_type": "execute_result",
          "data": {
            "text/plain": [
              "5840"
            ]
          },
          "metadata": {
            "tags": []
          },
          "execution_count": 132
        }
      ]
    },
    {
      "cell_type": "code",
      "metadata": {
        "id": "uDWbKdyCXBHX"
      },
      "source": [
        "#reviews_brewerysumm.head()"
      ],
      "execution_count": 133,
      "outputs": []
    },
    {
      "cell_type": "markdown",
      "metadata": {
        "id": "2o8bsGbEXIAC"
      },
      "source": [
        "#### Brewery Summary (Brewery Dataset)"
      ]
    },
    {
      "cell_type": "markdown",
      "metadata": {
        "id": "n1-dZXn_YYmc"
      },
      "source": [
        "Reduce the Brewery dataset to only contain brewery_id and brewery_name. This dataset still contains 50,347 breweries."
      ]
    },
    {
      "cell_type": "code",
      "metadata": {
        "colab": {
          "base_uri": "https://localhost:8080/"
        },
        "id": "VtI1WRIwXTog",
        "outputId": "96f7fac5-d6e9-44ca-f746-19bf0e7d0e48"
      },
      "source": [
        "breweries.brewery_id.count()"
      ],
      "execution_count": 134,
      "outputs": [
        {
          "output_type": "execute_result",
          "data": {
            "text/plain": [
              "50347"
            ]
          },
          "metadata": {
            "tags": []
          },
          "execution_count": 134
        }
      ]
    },
    {
      "cell_type": "code",
      "metadata": {
        "colab": {
          "base_uri": "https://localhost:8080/"
        },
        "id": "kz_C5I9QXZ8k",
        "outputId": "675d5183-b99c-4ab5-cffe-525c684bb02a"
      },
      "source": [
        "breweries.brewery_id.nunique()"
      ],
      "execution_count": 135,
      "outputs": [
        {
          "output_type": "execute_result",
          "data": {
            "text/plain": [
              "50347"
            ]
          },
          "metadata": {
            "tags": []
          },
          "execution_count": 135
        }
      ]
    },
    {
      "cell_type": "code",
      "metadata": {
        "id": "yqb2HMRLXjRO"
      },
      "source": [
        "brewerysumm = breweries.drop(columns=['brewery_city', 'brewery_state', 'brewery_country', 'brewery_notes', 'brewery_bar', 'brewery_beertogo', 'brewery_brewery', 'brewery_eatery', 'brewery_homebrew', 'brewery_store'])"
      ],
      "execution_count": 136,
      "outputs": []
    },
    {
      "cell_type": "code",
      "metadata": {
        "id": "KTUsYKlkYJ3-"
      },
      "source": [
        "#brewerysumm.head()"
      ],
      "execution_count": 137,
      "outputs": []
    },
    {
      "cell_type": "markdown",
      "metadata": {
        "id": "5C-CNAZ5Zf7s"
      },
      "source": [
        "### Identify Matching Breweries"
      ]
    },
    {
      "cell_type": "markdown",
      "metadata": {
        "id": "XxWkFk_-Zm1-"
      },
      "source": [
        "#### Merge Summary Data"
      ]
    },
    {
      "cell_type": "markdown",
      "metadata": {
        "id": "movPG02Hd1jR"
      },
      "source": [
        "Merge together the two brewery-level datasets to allow to analyze missing and mismatched data."
      ]
    },
    {
      "cell_type": "code",
      "metadata": {
        "id": "RMk-uuuBZriF"
      },
      "source": [
        "brewerysumm_merge = pd.merge(reviews_brewerysumm, brewerysumm, how='left', on=['brewery_id'])"
      ],
      "execution_count": 138,
      "outputs": []
    },
    {
      "cell_type": "code",
      "metadata": {
        "id": "eF1SohtSbNxT"
      },
      "source": [
        "#brewerysumm_merge.head()"
      ],
      "execution_count": 139,
      "outputs": []
    },
    {
      "cell_type": "markdown",
      "metadata": {
        "id": "xDEeXS5KbRQG"
      },
      "source": [
        "#### How many missing values?"
      ]
    },
    {
      "cell_type": "markdown",
      "metadata": {
        "id": "s_1_VxiZeECS"
      },
      "source": [
        "Calculating nulls as % of total rows shows that only 15 breweries (or less than 1%) in reviews dataset were not in brewery dataset."
      ]
    },
    {
      "cell_type": "code",
      "metadata": {
        "colab": {
          "base_uri": "https://localhost:8080/"
        },
        "id": "_I5JAZMaeelJ",
        "outputId": "4daae495-3a53-4264-95fb-7425d352bcb2"
      },
      "source": [
        "nulls = brewerysumm_merge.brewery_name_y.isnull().sum()\n",
        "total_rows = brewerysumm_merge.brewery_id.count()\n",
        "\n",
        "print('Name null values: ', nulls)\n",
        "print('% of data: ', round(((nulls / total_rows) * 100), 2))"
      ],
      "execution_count": 140,
      "outputs": [
        {
          "output_type": "stream",
          "text": [
            "Name null values:  15\n",
            "% of data:  0.26\n"
          ],
          "name": "stdout"
        }
      ]
    },
    {
      "cell_type": "markdown",
      "metadata": {
        "id": "By1LtB0nfLXa"
      },
      "source": [
        "#### How many mismatched breweries?"
      ]
    },
    {
      "cell_type": "markdown",
      "metadata": {
        "id": "6jsNdYpNeaiq"
      },
      "source": [
        "When we look to see how many brewery names match between datasets, we see that the there 478 breweries (or 8.2%) that do not have an exact match."
      ]
    },
    {
      "cell_type": "code",
      "metadata": {
        "colab": {
          "base_uri": "https://localhost:8080/"
        },
        "id": "QjEBUMuofgy6",
        "outputId": "3558e679-0e88-44e3-c8d4-6446fcaa3100"
      },
      "source": [
        "mismatch = brewerysumm_merge[brewerysumm_merge.brewery_name_x != brewerysumm_merge.brewery_name_y]['brewery_id'].count()\n",
        "\n",
        "print('Mismatch Rows: ', mismatch)\n",
        "print('% of data: ', round(((mismatch / total_rows) * 100), 2))"
      ],
      "execution_count": 141,
      "outputs": [
        {
          "output_type": "stream",
          "text": [
            "Mismatch Rows:  478\n",
            "% of data:  8.18\n"
          ],
          "name": "stdout"
        }
      ]
    },
    {
      "cell_type": "markdown",
      "metadata": {
        "id": "gWdDOjoBfxW2"
      },
      "source": [
        "#### Using Record Linkage to find pairs "
      ]
    },
    {
      "cell_type": "markdown",
      "metadata": {
        "id": "84GuDyTAepVp"
      },
      "source": [
        "While breweries may not have an exact name match, this could be due to slight variations in how name is spelt between datasets. To capture names that are close but not exact matches, we apply the record linkage method to both datasets to see what brewereies have:\n",
        "* Exact match on brewery_id\n",
        "* 80% match on brewery_name \n",
        "\n",
        "Using this shows us, that 367 breweries (or 6.7%) have no match between datasets. We will now use the breweries that do match and look to merge their additional information into our main review-level dataset."
      ]
    },
    {
      "cell_type": "code",
      "metadata": {
        "id": "D5Vo4Z1JgFqg"
      },
      "source": [
        "# Create indexing object\n",
        "indexer = recordlinkage.Index()\n",
        "\n",
        "# Generate pairs blocked on id\n",
        "indexer.block('brewery_id')\n",
        "pairs = indexer.index(reviews_brewerysumm, brewerysumm)\n",
        "\n",
        "# Generate the pairs\n",
        "pairs = indexer.index(reviews_brewerysumm, brewerysumm)\n",
        "\n",
        "# Create a Compare object\n",
        "compare_cl = recordlinkage.Compare()\n",
        "\n",
        "# Find exact matches for pairs of id\n",
        "compare_cl.exact('brewery_id', 'brewery_id', label='brewery_id')\n",
        "\n",
        "# Find similar matches for pairs of brewery_name using string similarity\n",
        "compare_cl.string('brewery_name', 'brewery_name', threshold=0.8, label='brewery_name')\n",
        "\n",
        "# Find matches\n",
        "potential_matches = compare_cl.compute(pairs, reviews_brewerysumm, brewerysumm)"
      ],
      "execution_count": 142,
      "outputs": []
    },
    {
      "cell_type": "code",
      "metadata": {
        "id": "0CuO0cFkhGdn"
      },
      "source": [
        "#potential_matches[potential_matches.sum(axis = 1) >= 2]"
      ],
      "execution_count": 143,
      "outputs": []
    },
    {
      "cell_type": "code",
      "metadata": {
        "colab": {
          "base_uri": "https://localhost:8080/"
        },
        "id": "AMkeEYhVg1Vd",
        "outputId": "3643b4bc-904a-475b-d0ef-9172e4dbc3c8"
      },
      "source": [
        "match_rows = potential_matches[potential_matches.sum(axis = 1) >= 2]['brewery_id'].count()\n",
        "\n",
        "print('Potential Match Rows: ', match_rows)\n",
        "print('No Brewery Match: ', total_rows - match_rows)\n",
        "print('% of data: ', round(((match_rows / total_rows) * 100), 2))"
      ],
      "execution_count": 144,
      "outputs": [
        {
          "output_type": "stream",
          "text": [
            "Potential Match Rows:  5473\n",
            "No Brewery Match:  367\n",
            "% of data:  93.72\n"
          ],
          "name": "stdout"
        }
      ]
    },
    {
      "cell_type": "code",
      "metadata": {
        "id": "BSfRBnsBiRTy"
      },
      "source": [
        "matches = potential_matches[potential_matches.sum(axis = 1) >= 2]\n",
        "match_index = matches.index.get_level_values(1)\n",
        "\n",
        "breweries_new = breweries[breweries.index.isin(match_index)]\n",
        "#breweries_new.head()"
      ],
      "execution_count": 145,
      "outputs": []
    },
    {
      "cell_type": "code",
      "metadata": {
        "colab": {
          "base_uri": "https://localhost:8080/"
        },
        "id": "2d1GeYUUienR",
        "outputId": "61017ba5-1a39-48ec-f7fc-047b0320f961"
      },
      "source": [
        "breweries_new.shape"
      ],
      "execution_count": 146,
      "outputs": [
        {
          "output_type": "execute_result",
          "data": {
            "text/plain": [
              "(5473, 12)"
            ]
          },
          "metadata": {
            "tags": []
          },
          "execution_count": 146
        }
      ]
    },
    {
      "cell_type": "markdown",
      "metadata": {
        "id": "7h85rmUtjB89"
      },
      "source": [
        "### Bring it together"
      ]
    },
    {
      "cell_type": "markdown",
      "metadata": {
        "id": "aMfDlsPajwPe"
      },
      "source": [
        "Merging the brewery data into our main dataset (including reviews and beer data) shows that their are 213,761 rows where there is not match and the new columns are nulls."
      ]
    },
    {
      "cell_type": "code",
      "metadata": {
        "id": "2-iD6fV6jGBE"
      },
      "source": [
        "df = pd.merge(df, breweries_new, how='left', on='brewery_id')"
      ],
      "execution_count": 147,
      "outputs": []
    },
    {
      "cell_type": "code",
      "metadata": {
        "id": "-NfR9LDYjU5P"
      },
      "source": [
        "#for x in df:\n",
        "#  print(x, ': ', df[x].isnull().sum())"
      ],
      "execution_count": 148,
      "outputs": []
    },
    {
      "cell_type": "markdown",
      "metadata": {
        "id": "vQSd_MbwkI7R"
      },
      "source": [
        "### Tidying Up"
      ]
    },
    {
      "cell_type": "markdown",
      "metadata": {
        "id": "BD2iyDY4_KX1"
      },
      "source": [
        "#### Brewery Name"
      ]
    },
    {
      "cell_type": "markdown",
      "metadata": {
        "id": "UYtCUE5H_PA1"
      },
      "source": [
        "There are two brewery name columns in the dataset so we will drop the one which was associated with the Brewery dataset and contains null values."
      ]
    },
    {
      "cell_type": "code",
      "metadata": {
        "id": "ko7R02nW_OM2"
      },
      "source": [
        "df.drop(columns='brewery_name_y', inplace=True)\n",
        "df.rename(columns={'brewery_name_x':'brewery_name'}, inplace=True)\n",
        "#df.head()"
      ],
      "execution_count": 149,
      "outputs": []
    },
    {
      "cell_type": "markdown",
      "metadata": {
        "id": "w-DvuOfZAucm"
      },
      "source": [
        "#### Brewery City, State & Country"
      ]
    },
    {
      "cell_type": "markdown",
      "metadata": {
        "id": "Owuwu8IOAy6u"
      },
      "source": [
        "There are 213,761 rows that did not match between the reviews and the breweries datasets which means we do not have information on the location of these breweries.\n",
        "\n",
        "For now, we will put these missing values as 'n/a' in the dataset and can look to impute data at later stage (during EDA) if required."
      ]
    },
    {
      "cell_type": "code",
      "metadata": {
        "id": "sZ0yRpCyBdr1"
      },
      "source": [
        "df.brewery_city.fillna('n/a', inplace=True)\n",
        "df.brewery_state.fillna('n/a', inplace=True)\n",
        "df.brewery_country.fillna('n/a', inplace=True)"
      ],
      "execution_count": 150,
      "outputs": []
    },
    {
      "cell_type": "markdown",
      "metadata": {
        "id": "2GRClGwRpIpz"
      },
      "source": [
        "#### Brewery Type"
      ]
    },
    {
      "cell_type": "markdown",
      "metadata": {
        "id": "e1DVXjsvpL6v"
      },
      "source": [
        "Earlier we split the brewery_type field into 6 seperate boolean columns. Now, when merging we see that 213,761 rows that we couldn't match on will now need to have brewery_type associated with them. \n",
        "\n",
        "Because we do not know what type of breweries these are, I added in an additional boolean field to say if brewery type wasn't available - brewery_na set to 1 for null value rows and 0 for rows with values."
      ]
    },
    {
      "cell_type": "code",
      "metadata": {
        "id": "r5RJ9pa7lBX4"
      },
      "source": [
        "df['brewery_na'] = 0\n",
        "df['brewery_na'] = np.where((df.brewery_bar.isnull()), 1 ,df.brewery_na)"
      ],
      "execution_count": 151,
      "outputs": []
    },
    {
      "cell_type": "code",
      "metadata": {
        "id": "qYPMKXtKoi9_"
      },
      "source": [
        "df['brewery_bar'] = np.where((df.brewery_bar.isnull()), 0 ,df.brewery_bar)\n",
        "df['brewery_beertogo'] = np.where((df.brewery_beertogo.isnull()), 0 ,df.brewery_beertogo)\n",
        "df['brewery_brewery'] = np.where((df.brewery_brewery.isnull()), 0 ,df.brewery_brewery)\n",
        "df['brewery_eatery'] = np.where((df.brewery_eatery.isnull()), 0 ,df.brewery_eatery)\n",
        "df['brewery_homebrew'] = np.where((df.brewery_homebrew.isnull()), 0 ,df.brewery_homebrew)\n",
        "df['brewery_store'] = np.where((df.brewery_store.isnull()), 0 ,df.brewery_store)"
      ],
      "execution_count": 152,
      "outputs": []
    },
    {
      "cell_type": "code",
      "metadata": {
        "id": "-stQzWaNAKmW"
      },
      "source": [
        "df['brewery_bar'] = df.brewery_bar.astype('int')\n",
        "df['brewery_beertogo'] = df.brewery_beertogo.astype('int')\n",
        "df['brewery_brewery'] = df.brewery_brewery.astype('int')\n",
        "df['brewery_eatery'] = df.brewery_eatery.astype('int')\n",
        "df['brewery_homebrew'] = df.brewery_homebrew.astype('int')\n",
        "df['brewery_store'] = df.brewery_store.astype('int')"
      ],
      "execution_count": 153,
      "outputs": []
    },
    {
      "cell_type": "code",
      "metadata": {
        "id": "N39wX2vfAFig"
      },
      "source": [
        "#df.dtypes"
      ],
      "execution_count": 154,
      "outputs": []
    },
    {
      "cell_type": "markdown",
      "metadata": {
        "id": "EEWHvkce-S7K"
      },
      "source": [
        "#### Brewery Notes"
      ]
    },
    {
      "cell_type": "markdown",
      "metadata": {
        "id": "5qYizzTC-vJw"
      },
      "source": [
        "Similar to beer notes, the brewery notes contains a lot text that could be beneficial but may take a bit of time to investigate and tidy.  \n",
        "\n",
        "Based on this, I will remove this column from the dataset."
      ]
    },
    {
      "cell_type": "code",
      "metadata": {
        "colab": {
          "base_uri": "https://localhost:8080/"
        },
        "id": "NGpwcdeo-Vn3",
        "outputId": "6aee32a3-b77e-4f6e-d7ff-af3baf9441a1"
      },
      "source": [
        "df.brewery_notes.nunique()"
      ],
      "execution_count": 155,
      "outputs": [
        {
          "output_type": "execute_result",
          "data": {
            "text/plain": [
              "759"
            ]
          },
          "metadata": {
            "tags": []
          },
          "execution_count": 155
        }
      ]
    },
    {
      "cell_type": "code",
      "metadata": {
        "colab": {
          "base_uri": "https://localhost:8080/"
        },
        "id": "iz3buzXU-Zfy",
        "outputId": "fcb4685f-c3c4-4241-abd4-cf99a46a43eb"
      },
      "source": [
        "df.brewery_notes.value_counts()"
      ],
      "execution_count": 156,
      "outputs": [
        {
          "output_type": "execute_result",
          "data": {
            "text/plain": [
              "no notes at this time                                                                                                                                                                785958\n",
              "location of their r d facility where they also brew limited batches for the boston market  tours are also available                                                                   39444\n",
              "stone brewing world bistro   gardens website   hours                                                                                                                                  33066\n",
              "on site brewpub                                                                                                                                                                       24083\n",
              "owned by anheuser busch inbev                                                                                                                                                         21190\n",
              "                                                                                                                                                                                      ...  \n",
              "welcome to the library sports grille and brewery  southeast wyoming s original brewpub  we are located in laramie  wyoming   just south of the university of wyoming dorm complex         1\n",
              "located in the california tower  7th floor                                                                                                                                                1\n",
              "brewing operations moved to acopon brewing company                                                                                                                                        1\n",
              "set up by richard heptinstall and started brewing on a 5 barrel plant in early 2001  known for creating beers with higher than usual abv s based on victorian styles   recipes            1\n",
              "located in the glenpark hotel  http   www glenparkhotel com                                                                                                                               1\n",
              "Name: brewery_notes, Length: 759, dtype: int64"
            ]
          },
          "metadata": {
            "tags": []
          },
          "execution_count": 156
        }
      ]
    },
    {
      "cell_type": "code",
      "metadata": {
        "id": "Q0rcU13w-94d"
      },
      "source": [
        "df.drop(columns='brewery_notes', inplace=True)"
      ],
      "execution_count": 157,
      "outputs": []
    },
    {
      "cell_type": "markdown",
      "metadata": {
        "id": "iZK8bpgtB2Vx"
      },
      "source": [
        "## Final Recap"
      ]
    },
    {
      "cell_type": "code",
      "metadata": {
        "colab": {
          "base_uri": "https://localhost:8080/"
        },
        "id": "4aLVCCONpDfd",
        "outputId": "f8451a08-ba0d-4c35-da3c-f45a063ff9c3"
      },
      "source": [
        "for x in df:\n",
        "  print(x, ': ', df[x].isnull().sum())"
      ],
      "execution_count": 158,
      "outputs": [
        {
          "output_type": "stream",
          "text": [
            "brewery_id :  0\n",
            "brewery_name :  0\n",
            "review_time :  0\n",
            "review_overall :  0\n",
            "review_aroma :  0\n",
            "review_appearance :  0\n",
            "review_profilename :  0\n",
            "beer_style :  0\n",
            "review_palate :  0\n",
            "review_taste :  0\n",
            "beer_name :  0\n",
            "beer_abv :  0\n",
            "beer_id :  0\n",
            "beer_availability :  0\n",
            "beer_retired :  0\n",
            "brewery_city :  0\n",
            "brewery_state :  0\n",
            "brewery_country :  0\n",
            "brewery_bar :  0\n",
            "brewery_beertogo :  0\n",
            "brewery_brewery :  0\n",
            "brewery_eatery :  0\n",
            "brewery_homebrew :  0\n",
            "brewery_store :  0\n",
            "brewery_na :  0\n"
          ],
          "name": "stdout"
        }
      ]
    },
    {
      "cell_type": "code",
      "metadata": {
        "colab": {
          "base_uri": "https://localhost:8080/"
        },
        "id": "9TVSttTnby0P",
        "outputId": "f44855d1-478f-44dc-bec2-fd0abe4fc4bc"
      },
      "source": [
        "df.dtypes"
      ],
      "execution_count": 159,
      "outputs": [
        {
          "output_type": "execute_result",
          "data": {
            "text/plain": [
              "brewery_id                     int64\n",
              "brewery_name                  object\n",
              "review_time           datetime64[ns]\n",
              "review_overall               float64\n",
              "review_aroma                 float64\n",
              "review_appearance            float64\n",
              "review_profilename            object\n",
              "beer_style                    object\n",
              "review_palate                float64\n",
              "review_taste                 float64\n",
              "beer_name                     object\n",
              "beer_abv                     float64\n",
              "beer_id                        int64\n",
              "beer_availability             object\n",
              "beer_retired                  object\n",
              "brewery_city                  object\n",
              "brewery_state                 object\n",
              "brewery_country               object\n",
              "brewery_bar                    int64\n",
              "brewery_beertogo               int64\n",
              "brewery_brewery                int64\n",
              "brewery_eatery                 int64\n",
              "brewery_homebrew               int64\n",
              "brewery_store                  int64\n",
              "brewery_na                     int64\n",
              "dtype: object"
            ]
          },
          "metadata": {
            "tags": []
          },
          "execution_count": 159
        }
      ]
    },
    {
      "cell_type": "code",
      "metadata": {
        "id": "pM9MS1MmcDow"
      },
      "source": [
        "df['brewery_name'] = df.brewery_name.str.title()\n",
        "df['beer_name'] = df.beer_name.str.title()\n",
        "df['beer_style'] = df.beer_style.str.title()\n",
        "df['brewery_city'] = df.brewery_city.str.title()\n",
        "df['brewery_state'] = df.brewery_state.str.upper()\n",
        "df['brewery_country'] = df.brewery_country.str.upper()\n",
        "df['beer_availability'] = df.beer_availability.str.title()\n",
        "df['beer_retired'] = df.beer_retired.str.capitalize()"
      ],
      "execution_count": 160,
      "outputs": []
    },
    {
      "cell_type": "code",
      "metadata": {
        "id": "59UdZgM3HIAJ"
      },
      "source": [
        "column_order = ['review_time', 'review_profilename','brewery_id', 'brewery_name', 'beer_id', 'beer_name', 'beer_style', 'beer_abv', 'review_overall', 'review_appearance', 'review_aroma', 'review_palate', 'review_taste', 'brewery_city', 'brewery_state', 'brewery_country', 'beer_availability', 'beer_retired', 'brewery_bar', 'brewery_beertogo', 'brewery_brewery', 'brewery_eatery', 'brewery_homebrew', 'brewery_store', 'brewery_na']\n",
        "\n",
        "df = df[column_order]"
      ],
      "execution_count": 161,
      "outputs": []
    },
    {
      "cell_type": "markdown",
      "metadata": {
        "id": "3XbxYfylKbAP"
      },
      "source": [
        "## Final Datasets"
      ]
    },
    {
      "cell_type": "markdown",
      "metadata": {
        "id": "H80fDGXrY020"
      },
      "source": [
        "### Review-Level Dataset"
      ]
    },
    {
      "cell_type": "markdown",
      "metadata": {
        "id": "zAVYI3LUY5RK"
      },
      "source": [
        "The dataset that we pulled together so far is at review-level, meaning it has every review and score associated with that review (as well as the additional information related to beers and breweries we added to it).\n",
        "\n",
        "This leaves us with 1.59 million rows and 22 dimensions."
      ]
    },
    {
      "cell_type": "code",
      "metadata": {
        "colab": {
          "base_uri": "https://localhost:8080/",
          "height": 0
        },
        "id": "y85_p1TJOKF_",
        "outputId": "804ee6b3-d411-4bc8-afa4-5d985c4a8f3e"
      },
      "source": [
        "df.head()"
      ],
      "execution_count": 162,
      "outputs": [
        {
          "output_type": "execute_result",
          "data": {
            "text/html": [
              "<div>\n",
              "<style scoped>\n",
              "    .dataframe tbody tr th:only-of-type {\n",
              "        vertical-align: middle;\n",
              "    }\n",
              "\n",
              "    .dataframe tbody tr th {\n",
              "        vertical-align: top;\n",
              "    }\n",
              "\n",
              "    .dataframe thead th {\n",
              "        text-align: right;\n",
              "    }\n",
              "</style>\n",
              "<table border=\"1\" class=\"dataframe\">\n",
              "  <thead>\n",
              "    <tr style=\"text-align: right;\">\n",
              "      <th></th>\n",
              "      <th>review_time</th>\n",
              "      <th>review_profilename</th>\n",
              "      <th>brewery_id</th>\n",
              "      <th>brewery_name</th>\n",
              "      <th>beer_id</th>\n",
              "      <th>beer_name</th>\n",
              "      <th>beer_style</th>\n",
              "      <th>beer_abv</th>\n",
              "      <th>review_overall</th>\n",
              "      <th>review_appearance</th>\n",
              "      <th>review_aroma</th>\n",
              "      <th>review_palate</th>\n",
              "      <th>review_taste</th>\n",
              "      <th>brewery_city</th>\n",
              "      <th>brewery_state</th>\n",
              "      <th>brewery_country</th>\n",
              "      <th>beer_availability</th>\n",
              "      <th>beer_retired</th>\n",
              "      <th>brewery_bar</th>\n",
              "      <th>brewery_beertogo</th>\n",
              "      <th>brewery_brewery</th>\n",
              "      <th>brewery_eatery</th>\n",
              "      <th>brewery_homebrew</th>\n",
              "      <th>brewery_store</th>\n",
              "      <th>brewery_na</th>\n",
              "    </tr>\n",
              "  </thead>\n",
              "  <tbody>\n",
              "    <tr>\n",
              "      <th>0</th>\n",
              "      <td>2009-02-16 20:57:03</td>\n",
              "      <td>stcules</td>\n",
              "      <td>10325</td>\n",
              "      <td>Vecchio Birraio</td>\n",
              "      <td>47986</td>\n",
              "      <td>Sausa Weizen</td>\n",
              "      <td>Hefeweizen</td>\n",
              "      <td>5.0</td>\n",
              "      <td>1.5</td>\n",
              "      <td>2.5</td>\n",
              "      <td>2.0</td>\n",
              "      <td>1.5</td>\n",
              "      <td>1.5</td>\n",
              "      <td>Marsango Di Campo San Martino (Pd)</td>\n",
              "      <td>IT0</td>\n",
              "      <td>IT</td>\n",
              "      <td>Year Round</td>\n",
              "      <td>F</td>\n",
              "      <td>0</td>\n",
              "      <td>0</td>\n",
              "      <td>1</td>\n",
              "      <td>1</td>\n",
              "      <td>0</td>\n",
              "      <td>0</td>\n",
              "      <td>0</td>\n",
              "    </tr>\n",
              "    <tr>\n",
              "      <th>1</th>\n",
              "      <td>2009-03-01 13:44:57</td>\n",
              "      <td>stcules</td>\n",
              "      <td>10325</td>\n",
              "      <td>Vecchio Birraio</td>\n",
              "      <td>48213</td>\n",
              "      <td>Red Moon</td>\n",
              "      <td>English Strong Ale</td>\n",
              "      <td>6.2</td>\n",
              "      <td>3.0</td>\n",
              "      <td>3.0</td>\n",
              "      <td>2.5</td>\n",
              "      <td>3.0</td>\n",
              "      <td>3.0</td>\n",
              "      <td>Marsango Di Campo San Martino (Pd)</td>\n",
              "      <td>IT0</td>\n",
              "      <td>IT</td>\n",
              "      <td>Year Round</td>\n",
              "      <td>F</td>\n",
              "      <td>0</td>\n",
              "      <td>0</td>\n",
              "      <td>1</td>\n",
              "      <td>1</td>\n",
              "      <td>0</td>\n",
              "      <td>0</td>\n",
              "      <td>0</td>\n",
              "    </tr>\n",
              "    <tr>\n",
              "      <th>2</th>\n",
              "      <td>2009-03-01 14:10:04</td>\n",
              "      <td>stcules</td>\n",
              "      <td>10325</td>\n",
              "      <td>Vecchio Birraio</td>\n",
              "      <td>48215</td>\n",
              "      <td>Black Horse Black Beer</td>\n",
              "      <td>Foreign   Export Stout</td>\n",
              "      <td>6.5</td>\n",
              "      <td>3.0</td>\n",
              "      <td>3.0</td>\n",
              "      <td>2.5</td>\n",
              "      <td>3.0</td>\n",
              "      <td>3.0</td>\n",
              "      <td>Marsango Di Campo San Martino (Pd)</td>\n",
              "      <td>IT0</td>\n",
              "      <td>IT</td>\n",
              "      <td>Year Round</td>\n",
              "      <td>F</td>\n",
              "      <td>0</td>\n",
              "      <td>0</td>\n",
              "      <td>1</td>\n",
              "      <td>1</td>\n",
              "      <td>0</td>\n",
              "      <td>0</td>\n",
              "      <td>0</td>\n",
              "    </tr>\n",
              "    <tr>\n",
              "      <th>3</th>\n",
              "      <td>2009-02-15 19:12:25</td>\n",
              "      <td>stcules</td>\n",
              "      <td>10325</td>\n",
              "      <td>Vecchio Birraio</td>\n",
              "      <td>47969</td>\n",
              "      <td>Sausa Pils</td>\n",
              "      <td>German Pilsener</td>\n",
              "      <td>5.0</td>\n",
              "      <td>3.0</td>\n",
              "      <td>3.5</td>\n",
              "      <td>3.0</td>\n",
              "      <td>2.5</td>\n",
              "      <td>3.0</td>\n",
              "      <td>Marsango Di Campo San Martino (Pd)</td>\n",
              "      <td>IT0</td>\n",
              "      <td>IT</td>\n",
              "      <td>Year Round</td>\n",
              "      <td>F</td>\n",
              "      <td>0</td>\n",
              "      <td>0</td>\n",
              "      <td>1</td>\n",
              "      <td>1</td>\n",
              "      <td>0</td>\n",
              "      <td>0</td>\n",
              "      <td>0</td>\n",
              "    </tr>\n",
              "    <tr>\n",
              "      <th>4</th>\n",
              "      <td>2010-12-30 18:53:26</td>\n",
              "      <td>johnmichaelsen</td>\n",
              "      <td>1075</td>\n",
              "      <td>Caldera Brewing Company</td>\n",
              "      <td>64883</td>\n",
              "      <td>Cauldron Dipa</td>\n",
              "      <td>American Double   Imperial Ipa</td>\n",
              "      <td>7.7</td>\n",
              "      <td>4.0</td>\n",
              "      <td>4.0</td>\n",
              "      <td>4.5</td>\n",
              "      <td>4.0</td>\n",
              "      <td>4.5</td>\n",
              "      <td>Ashland</td>\n",
              "      <td>OR</td>\n",
              "      <td>US</td>\n",
              "      <td>N/A</td>\n",
              "      <td>N/a</td>\n",
              "      <td>1</td>\n",
              "      <td>0</td>\n",
              "      <td>1</td>\n",
              "      <td>1</td>\n",
              "      <td>0</td>\n",
              "      <td>0</td>\n",
              "      <td>0</td>\n",
              "    </tr>\n",
              "  </tbody>\n",
              "</table>\n",
              "</div>"
            ],
            "text/plain": [
              "          review_time review_profilename  ...  brewery_store brewery_na\n",
              "0 2009-02-16 20:57:03            stcules  ...              0          0\n",
              "1 2009-03-01 13:44:57            stcules  ...              0          0\n",
              "2 2009-03-01 14:10:04            stcules  ...              0          0\n",
              "3 2009-02-15 19:12:25            stcules  ...              0          0\n",
              "4 2010-12-30 18:53:26     johnmichaelsen  ...              0          0\n",
              "\n",
              "[5 rows x 25 columns]"
            ]
          },
          "metadata": {
            "tags": []
          },
          "execution_count": 162
        }
      ]
    },
    {
      "cell_type": "code",
      "metadata": {
        "colab": {
          "base_uri": "https://localhost:8080/"
        },
        "id": "V6ugxhppZUBJ",
        "outputId": "8d4b655f-219a-45d8-9fcb-eb5c86bfe183"
      },
      "source": [
        "df.shape"
      ],
      "execution_count": 163,
      "outputs": [
        {
          "output_type": "execute_result",
          "data": {
            "text/plain": [
              "(1586614, 25)"
            ]
          },
          "metadata": {
            "tags": []
          },
          "execution_count": 163
        }
      ]
    },
    {
      "cell_type": "markdown",
      "metadata": {
        "id": "sMOcAycVjgnj"
      },
      "source": [
        "## Output Data Files"
      ]
    },
    {
      "cell_type": "code",
      "metadata": {
        "id": "67a9eEcEjjXc"
      },
      "source": [
        "df.to_csv('beer_reviews_cleaned.csv')"
      ],
      "execution_count": 164,
      "outputs": []
    }
  ]
}