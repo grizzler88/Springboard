{
  "nbformat": 4,
  "nbformat_minor": 0,
  "metadata": {
    "colab": {
      "name": "CraftBeer_01_DataWrangling.ipynb",
      "provenance": [],
      "toc_visible": true,
      "authorship_tag": "ABX9TyO9jNASSngCHCcN2u1X4koI",
      "include_colab_link": true
    },
    "kernelspec": {
      "name": "python3",
      "display_name": "Python 3"
    }
  },
  "cells": [
    {
      "cell_type": "markdown",
      "metadata": {
        "id": "view-in-github",
        "colab_type": "text"
      },
      "source": [
        "<a href=\"https://colab.research.google.com/github/grizzler88/Springboard/blob/master/Capstone%20-%20Craft%20Beer/CraftBeer_01_DataWrangling.ipynb\" target=\"_parent\"><img src=\"https://colab.research.google.com/assets/colab-badge.svg\" alt=\"Open In Colab\"/></a>"
      ]
    },
    {
      "cell_type": "markdown",
      "metadata": {
        "id": "PSjspQHb3d6F"
      },
      "source": [
        "# Capstone 3: Craft Beer Recommendation \r\n",
        "\r\n",
        "#Data Wrangling (Part 1) "
      ]
    },
    {
      "cell_type": "markdown",
      "metadata": {
        "id": "NSwMKgayBQjb"
      },
      "source": [
        "## Import packages and load data"
      ]
    },
    {
      "cell_type": "code",
      "metadata": {
        "id": "nl5-9zqv4CP-"
      },
      "source": [
        "import pandas as pd\r\n",
        "import numpy as np\r\n",
        "import matplotlib.pyplot as plt\r\n",
        "import seaborn as sns\r\n",
        "import datetime as dt"
      ],
      "execution_count": 1,
      "outputs": []
    },
    {
      "cell_type": "code",
      "metadata": {
        "id": "xSRTzAN764dJ"
      },
      "source": [
        "reviews = pd.read_csv('beer_reviews.csv')\r\n",
        "beers = pd.read_csv('beers.csv')\r\n",
        "breweries = pd.read_csv('breweries.csv')"
      ],
      "execution_count": 2,
      "outputs": []
    },
    {
      "cell_type": "markdown",
      "metadata": {
        "id": "cWOVjOBRLlBM"
      },
      "source": [
        "## Review Datasets"
      ]
    },
    {
      "cell_type": "markdown",
      "metadata": {
        "id": "H8W5A9cxBU7V"
      },
      "source": [
        "### Reviews Dataset"
      ]
    },
    {
      "cell_type": "markdown",
      "metadata": {
        "id": "LeYSlHDeBt2x"
      },
      "source": [
        "Reviews dataset has the main information we are looking for on how customers rate each beer across a number of categoreis including:\r\n",
        "* Overall\r\n",
        "* Aroma\r\n",
        "* Appearance\r\n",
        "* Palate\r\n",
        "* Taste\r\n",
        "\r\n",
        "This also includes the time of the review and the user's profile name.\r\n",
        "\r\n",
        "The dataset also includes some information about the beer and brewery including:\r\n",
        "* Beer Name\r\n",
        "* Beer Style\r\n",
        "* Beer ABV (Alcohol by Volume)\r\n",
        "* Brewery Name"
      ]
    },
    {
      "cell_type": "code",
      "metadata": {
        "colab": {
          "base_uri": "https://localhost:8080/"
        },
        "id": "V_Wpxnos8BxA",
        "outputId": "907572c1-d9bd-46e1-f0a5-67f65480eb9f"
      },
      "source": [
        "print('Reviews: ', reviews.shape)"
      ],
      "execution_count": 3,
      "outputs": [
        {
          "output_type": "stream",
          "text": [
            "Reviews:  (1586614, 13)\n"
          ],
          "name": "stdout"
        }
      ]
    },
    {
      "cell_type": "code",
      "metadata": {
        "id": "EoyZP2gF8Drg"
      },
      "source": [
        "#reviews.head()"
      ],
      "execution_count": 4,
      "outputs": []
    },
    {
      "cell_type": "code",
      "metadata": {
        "id": "GOBn11q6FxXf"
      },
      "source": [
        "#reviews.describe()"
      ],
      "execution_count": 5,
      "outputs": []
    },
    {
      "cell_type": "code",
      "metadata": {
        "id": "YRYWCusYVQKb"
      },
      "source": [
        "#reviews.dtypes"
      ],
      "execution_count": 6,
      "outputs": []
    },
    {
      "cell_type": "markdown",
      "metadata": {
        "id": "RRdiuvCLVeFy"
      },
      "source": [
        "#### Change Column Names"
      ]
    },
    {
      "cell_type": "markdown",
      "metadata": {
        "id": "SDsAoOPLVzxm"
      },
      "source": [
        "Update to Beer ID column to make cleaner."
      ]
    },
    {
      "cell_type": "code",
      "metadata": {
        "id": "PsWXTMU_VnFD"
      },
      "source": [
        "reviews.rename(columns={'beer_beerid':'beer_id'}, inplace=True)"
      ],
      "execution_count": 7,
      "outputs": []
    },
    {
      "cell_type": "markdown",
      "metadata": {
        "id": "9IpdYIUEUiNz"
      },
      "source": [
        "#### Format 'review_time' column"
      ]
    },
    {
      "cell_type": "markdown",
      "metadata": {
        "id": "zXcPwrgoUt9U"
      },
      "source": [
        "Date field appears to be in UNIX format which I will to convert to datetime object.\r\n",
        "\r\n",
        "Below Stack Overflow article was used to identify solution\r\n",
        "\r\n",
        "https://stackoverflow.com/questions/19231871/convert-unix-time-to-readable-date-in-pandas-dataframe "
      ]
    },
    {
      "cell_type": "code",
      "metadata": {
        "id": "yDaXxEF5UgYk"
      },
      "source": [
        "reviews['review_time'] = pd.to_datetime(reviews['review_time'], unit='s')"
      ],
      "execution_count": 8,
      "outputs": []
    },
    {
      "cell_type": "code",
      "metadata": {
        "colab": {
          "base_uri": "https://localhost:8080/"
        },
        "id": "JS6pPBGBUw7A",
        "outputId": "52f56bdb-8e86-4dfa-9f4a-638077e9a833"
      },
      "source": [
        "reviews.head()\r\n",
        "reviews.dtypes"
      ],
      "execution_count": 9,
      "outputs": [
        {
          "output_type": "execute_result",
          "data": {
            "text/plain": [
              "brewery_id                     int64\n",
              "brewery_name                  object\n",
              "review_time           datetime64[ns]\n",
              "review_overall               float64\n",
              "review_aroma                 float64\n",
              "review_appearance            float64\n",
              "review_profilename            object\n",
              "beer_style                    object\n",
              "review_palate                float64\n",
              "review_taste                 float64\n",
              "beer_name                     object\n",
              "beer_abv                     float64\n",
              "beer_id                        int64\n",
              "dtype: object"
            ]
          },
          "metadata": {
            "tags": []
          },
          "execution_count": 9
        }
      ]
    },
    {
      "cell_type": "markdown",
      "metadata": {
        "id": "3PcnDAKGU8xy"
      },
      "source": [
        "#### Missing Values"
      ]
    },
    {
      "cell_type": "markdown",
      "metadata": {
        "id": "B8Cevc2GWKwh"
      },
      "source": [
        "Three columns have missing values associated with them - brewery_name, review_profilename, and beer_abv. \r\n",
        "\r\n",
        "We know we have additional information in the brewery and beer datasets that might be able to support with missing brewery and beer information and therefore concentrated on review_profilenames for now. For this column, we simply repalced missing values with 'n/a' to designate they were not avaialable."
      ]
    },
    {
      "cell_type": "code",
      "metadata": {
        "colab": {
          "base_uri": "https://localhost:8080/"
        },
        "id": "DhuUObyDT5iJ",
        "outputId": "e7e271f8-b5bf-4cab-eb4f-1eb5ddcd08b8"
      },
      "source": [
        "for x in reviews:\r\n",
        "  print(x, ': ', reviews[x].isnull().sum())"
      ],
      "execution_count": 10,
      "outputs": [
        {
          "output_type": "stream",
          "text": [
            "brewery_id :  0\n",
            "brewery_name :  15\n",
            "review_time :  0\n",
            "review_overall :  0\n",
            "review_aroma :  0\n",
            "review_appearance :  0\n",
            "review_profilename :  348\n",
            "beer_style :  0\n",
            "review_palate :  0\n",
            "review_taste :  0\n",
            "beer_name :  0\n",
            "beer_abv :  67785\n",
            "beer_id :  0\n"
          ],
          "name": "stdout"
        }
      ]
    },
    {
      "cell_type": "code",
      "metadata": {
        "id": "ftflH7k5XKlF"
      },
      "source": [
        "reviews.review_profilename.fillna('n/a', inplace=True)"
      ],
      "execution_count": 11,
      "outputs": []
    },
    {
      "cell_type": "code",
      "metadata": {
        "id": "Rb9AxNgjXjvp"
      },
      "source": [
        "#reviews.beer_abv.fillna(-999, inplace=True)"
      ],
      "execution_count": 12,
      "outputs": []
    },
    {
      "cell_type": "code",
      "metadata": {
        "id": "mWvKjDOZXt8y"
      },
      "source": [
        "reviews.brewery_name.fillna('n/a', inplace=True)"
      ],
      "execution_count": 13,
      "outputs": []
    },
    {
      "cell_type": "code",
      "metadata": {
        "colab": {
          "base_uri": "https://localhost:8080/"
        },
        "id": "szPu5gLSXWvz",
        "outputId": "8a8a5f02-1339-4c50-f16b-bf3c27254649"
      },
      "source": [
        "for x in reviews:\r\n",
        "  print(x, ': ', reviews[x].isnull().sum())"
      ],
      "execution_count": 14,
      "outputs": [
        {
          "output_type": "stream",
          "text": [
            "brewery_id :  0\n",
            "brewery_name :  0\n",
            "review_time :  0\n",
            "review_overall :  0\n",
            "review_aroma :  0\n",
            "review_appearance :  0\n",
            "review_profilename :  0\n",
            "beer_style :  0\n",
            "review_palate :  0\n",
            "review_taste :  0\n",
            "beer_name :  0\n",
            "beer_abv :  67785\n",
            "beer_id :  0\n"
          ],
          "name": "stdout"
        }
      ]
    },
    {
      "cell_type": "markdown",
      "metadata": {
        "id": "dYrbMTHree1P"
      },
      "source": [
        "#### Tidy Text Columns"
      ]
    },
    {
      "cell_type": "markdown",
      "metadata": {
        "id": "6kazcyrNfLYv"
      },
      "source": [
        "I will look to tidy the text columns by:\r\n",
        "* Replacing all non-letter characters with a space\r\n",
        "* Putting all text into lower case\r\n",
        "\r\n",
        "Doing this will help when looking to merge datasets later and reduce chance of inability to link being due to formatting."
      ]
    },
    {
      "cell_type": "code",
      "metadata": {
        "id": "xtm-wIUteinY"
      },
      "source": [
        "reviews.beer_name = reviews.beer_name.str.replace('[^a-zA-Z]', ' ').str.lower()\r\n",
        "reviews.brewery_name = reviews.brewery_name.str.replace('[^a-zA-Z]', ' ').str.lower()\r\n",
        "reviews.review_profilename = reviews.review_profilename.str.replace('[^a-zA-Z]', ' ').str.lower()\r\n",
        "reviews.beer_style = reviews.beer_style.str.replace('[^a-zA-Z]', ' ').str.lower()"
      ],
      "execution_count": 15,
      "outputs": []
    },
    {
      "cell_type": "code",
      "metadata": {
        "id": "YOElngiJfHcc"
      },
      "source": [
        "#reviews.head()"
      ],
      "execution_count": 16,
      "outputs": []
    },
    {
      "cell_type": "markdown",
      "metadata": {
        "id": "PqyRehMFF_tV"
      },
      "source": [
        "### Beer Dataset"
      ]
    },
    {
      "cell_type": "markdown",
      "metadata": {
        "id": "7q66771lFUr0"
      },
      "source": [
        "The Beers dataset appears to give us some more information that is not included in the reveiws dataset regarding each beer including:\r\n",
        "* Availability\r\n",
        "* Retired\r\n",
        "* Additional Notes"
      ]
    },
    {
      "cell_type": "code",
      "metadata": {
        "colab": {
          "base_uri": "https://localhost:8080/"
        },
        "id": "NcZmhBlZXo-3",
        "outputId": "03794923-88f1-41a8-f67c-5f370108875c"
      },
      "source": [
        "print('Beers: ', beers.shape)"
      ],
      "execution_count": 17,
      "outputs": [
        {
          "output_type": "stream",
          "text": [
            "Beers:  (358873, 10)\n"
          ],
          "name": "stdout"
        }
      ]
    },
    {
      "cell_type": "code",
      "metadata": {
        "id": "zjv9vvSGBGJn"
      },
      "source": [
        "#beers.head()"
      ],
      "execution_count": 18,
      "outputs": []
    },
    {
      "cell_type": "code",
      "metadata": {
        "id": "Ng8N9W-CX2jF"
      },
      "source": [
        "#beers.describe()"
      ],
      "execution_count": 19,
      "outputs": []
    },
    {
      "cell_type": "code",
      "metadata": {
        "id": "PBUBatycXyw6"
      },
      "source": [
        "#beers.dtypes"
      ],
      "execution_count": 20,
      "outputs": []
    },
    {
      "cell_type": "markdown",
      "metadata": {
        "id": "Y7pAEKrXYY9m"
      },
      "source": [
        "#### Drop Brewery-related columns"
      ]
    },
    {
      "cell_type": "markdown",
      "metadata": {
        "id": "x4rY3WSvYoKx"
      },
      "source": [
        "We will drop columns related to the brewery as we know have 'brewery_id' in the reviews dataset and brewery dataset to link this in with."
      ]
    },
    {
      "cell_type": "code",
      "metadata": {
        "id": "Oi0x9KwpYfMj"
      },
      "source": [
        "beers.drop(columns=['brewery_id', 'state', 'country'], inplace=True)"
      ],
      "execution_count": 21,
      "outputs": []
    },
    {
      "cell_type": "markdown",
      "metadata": {
        "id": "e3VR3MnmYDUP"
      },
      "source": [
        "#### Change Column Names"
      ]
    },
    {
      "cell_type": "markdown",
      "metadata": {
        "id": "7sBL5eH2ZY2G"
      },
      "source": [
        "I will update the column names to clear state they relate to beers - this is mainly for later stages to avoid potential confusion when we start merging data."
      ]
    },
    {
      "cell_type": "code",
      "metadata": {
        "colab": {
          "base_uri": "https://localhost:8080/",
          "height": 0
        },
        "id": "16RrewH1YCnR",
        "outputId": "f1a195c9-4f5d-4d0f-fcfe-b97d77760576"
      },
      "source": [
        "beers.columns = ['beer_id', 'beer_name', 'beer_style', 'beer_availability', 'beer_abv', 'beer_notes', 'beer_retired']\r\n",
        "beers.head()"
      ],
      "execution_count": 22,
      "outputs": [
        {
          "output_type": "execute_result",
          "data": {
            "text/html": [
              "<div>\n",
              "<style scoped>\n",
              "    .dataframe tbody tr th:only-of-type {\n",
              "        vertical-align: middle;\n",
              "    }\n",
              "\n",
              "    .dataframe tbody tr th {\n",
              "        vertical-align: top;\n",
              "    }\n",
              "\n",
              "    .dataframe thead th {\n",
              "        text-align: right;\n",
              "    }\n",
              "</style>\n",
              "<table border=\"1\" class=\"dataframe\">\n",
              "  <thead>\n",
              "    <tr style=\"text-align: right;\">\n",
              "      <th></th>\n",
              "      <th>beer_id</th>\n",
              "      <th>beer_name</th>\n",
              "      <th>beer_style</th>\n",
              "      <th>beer_availability</th>\n",
              "      <th>beer_abv</th>\n",
              "      <th>beer_notes</th>\n",
              "      <th>beer_retired</th>\n",
              "    </tr>\n",
              "  </thead>\n",
              "  <tbody>\n",
              "    <tr>\n",
              "      <th>0</th>\n",
              "      <td>202522</td>\n",
              "      <td>Olde Cogitator</td>\n",
              "      <td>English Oatmeal Stout</td>\n",
              "      <td>Rotating</td>\n",
              "      <td>7.3</td>\n",
              "      <td>No notes at this time.</td>\n",
              "      <td>f</td>\n",
              "    </tr>\n",
              "    <tr>\n",
              "      <th>1</th>\n",
              "      <td>82352</td>\n",
              "      <td>Konrads Stout Russian Imperial Stout</td>\n",
              "      <td>Russian Imperial Stout</td>\n",
              "      <td>Rotating</td>\n",
              "      <td>10.4</td>\n",
              "      <td>No notes at this time.</td>\n",
              "      <td>f</td>\n",
              "    </tr>\n",
              "    <tr>\n",
              "      <th>2</th>\n",
              "      <td>214879</td>\n",
              "      <td>Scottish Right</td>\n",
              "      <td>Scottish Ale</td>\n",
              "      <td>Year-round</td>\n",
              "      <td>4.0</td>\n",
              "      <td>No notes at this time.</td>\n",
              "      <td>t</td>\n",
              "    </tr>\n",
              "    <tr>\n",
              "      <th>3</th>\n",
              "      <td>320009</td>\n",
              "      <td>MegaMeow Imperial Stout</td>\n",
              "      <td>American Imperial Stout</td>\n",
              "      <td>Winter</td>\n",
              "      <td>8.7</td>\n",
              "      <td>Every time this year</td>\n",
              "      <td>f</td>\n",
              "    </tr>\n",
              "    <tr>\n",
              "      <th>4</th>\n",
              "      <td>246438</td>\n",
              "      <td>Peaches-N-Cream</td>\n",
              "      <td>American Cream Ale</td>\n",
              "      <td>Rotating</td>\n",
              "      <td>5.1</td>\n",
              "      <td>No notes at this time.</td>\n",
              "      <td>f</td>\n",
              "    </tr>\n",
              "  </tbody>\n",
              "</table>\n",
              "</div>"
            ],
            "text/plain": [
              "   beer_id  ... beer_retired\n",
              "0   202522  ...            f\n",
              "1    82352  ...            f\n",
              "2   214879  ...            t\n",
              "3   320009  ...            f\n",
              "4   246438  ...            f\n",
              "\n",
              "[5 rows x 7 columns]"
            ]
          },
          "metadata": {
            "tags": []
          },
          "execution_count": 22
        }
      ]
    },
    {
      "cell_type": "markdown",
      "metadata": {
        "id": "KlyW9f6SZpZ_"
      },
      "source": [
        "#### Missing Data"
      ]
    },
    {
      "cell_type": "markdown",
      "metadata": {
        "id": "eJJGP77GaKBR"
      },
      "source": [
        "Three columns are missing data - beer_style, beer_abv, and beer_notes.\r\n",
        "\r\n",
        "* **beer_style:** Replaced the 1 missing value with 'n/a'.\r\n",
        "* **beer_notes:** Replaced the missing values with 'No notes at this time.' as this is the most common value for this field.\r\n",
        "* **beer_abv:** There is again a large number of missing values. To indicate these are missing in a numerical format, I have replaced missing values with -999 (similar to review dataset). When it comes to merging datasets, this will allow them to match but we will still have to figure out a way to deal with these values later if large number still remain."
      ]
    },
    {
      "cell_type": "code",
      "metadata": {
        "colab": {
          "base_uri": "https://localhost:8080/"
        },
        "id": "AMr6eW7NZ2gV",
        "outputId": "d86fc431-f9eb-42f2-ea02-d51f8911a003"
      },
      "source": [
        "for x in beers:\r\n",
        "  print(x, ': ', beers[x].isnull().sum())"
      ],
      "execution_count": 23,
      "outputs": [
        {
          "output_type": "stream",
          "text": [
            "beer_id :  0\n",
            "beer_name :  0\n",
            "beer_style :  1\n",
            "beer_availability :  0\n",
            "beer_abv :  38797\n",
            "beer_notes :  46\n",
            "beer_retired :  0\n"
          ],
          "name": "stdout"
        }
      ]
    },
    {
      "cell_type": "code",
      "metadata": {
        "id": "3kPUoOV_abFG"
      },
      "source": [
        "beers.beer_style.unique()\r\n",
        "beers.beer_style.fillna('n/a', inplace=True)"
      ],
      "execution_count": 24,
      "outputs": []
    },
    {
      "cell_type": "code",
      "metadata": {
        "id": "DLL2AWfya9HR"
      },
      "source": [
        "beers.beer_notes.value_counts()\r\n",
        "beers.beer_notes.fillna('No notes at this time.', inplace=True)"
      ],
      "execution_count": 25,
      "outputs": []
    },
    {
      "cell_type": "code",
      "metadata": {
        "id": "QtZWTOpJa9av"
      },
      "source": [
        "#beers.beer_abv.fillna(-999, inplace=True)"
      ],
      "execution_count": 26,
      "outputs": []
    },
    {
      "cell_type": "code",
      "metadata": {
        "colab": {
          "base_uri": "https://localhost:8080/"
        },
        "id": "NjAaqLkacyRm",
        "outputId": "63712a93-c2a1-4a3d-ed04-3ce61ff81197"
      },
      "source": [
        "for x in beers:\r\n",
        "  print(x, ': ', beers[x].isnull().sum())"
      ],
      "execution_count": 27,
      "outputs": [
        {
          "output_type": "stream",
          "text": [
            "beer_id :  0\n",
            "beer_name :  0\n",
            "beer_style :  0\n",
            "beer_availability :  0\n",
            "beer_abv :  38797\n",
            "beer_notes :  0\n",
            "beer_retired :  0\n"
          ],
          "name": "stdout"
        }
      ]
    },
    {
      "cell_type": "markdown",
      "metadata": {
        "id": "_Tc5ASJQdXht"
      },
      "source": [
        "#### Tidy Text Columns"
      ]
    },
    {
      "cell_type": "markdown",
      "metadata": {
        "id": "G0YdBhmOf8FV"
      },
      "source": [
        "Again, I tidied the text columns by:\r\n",
        "* Replacing all non-letter characters with a space\r\n",
        "* Putting all text into lower case\r\n",
        "\r\n",
        "Doing this will help when looking to merge datasets later and reduce chance of inability to link being due to formatting."
      ]
    },
    {
      "cell_type": "code",
      "metadata": {
        "id": "KVVxiaa-dnUg"
      },
      "source": [
        "beers.beer_name = beers.beer_name.str.replace('[^a-zA-Z]', ' ').str.lower()\r\n",
        "beers.beer_style = beers.beer_style.str.replace('[^a-zA-Z]', ' ').str.lower()\r\n",
        "beers.beer_notes = beers.beer_notes.str.replace('[^a-zA-Z]', ' ').str.lower()\r\n",
        "beers.beer_availability = beers.beer_availability.str.replace('[^a-zA-Z]', ' ').str.lower()"
      ],
      "execution_count": 28,
      "outputs": []
    },
    {
      "cell_type": "code",
      "metadata": {
        "colab": {
          "base_uri": "https://localhost:8080/",
          "height": 0
        },
        "id": "0gBgXPuFeKgq",
        "outputId": "c7ba75d4-5cf6-407f-9da0-8a888bc88ca2"
      },
      "source": [
        "beers.head()"
      ],
      "execution_count": 29,
      "outputs": [
        {
          "output_type": "execute_result",
          "data": {
            "text/html": [
              "<div>\n",
              "<style scoped>\n",
              "    .dataframe tbody tr th:only-of-type {\n",
              "        vertical-align: middle;\n",
              "    }\n",
              "\n",
              "    .dataframe tbody tr th {\n",
              "        vertical-align: top;\n",
              "    }\n",
              "\n",
              "    .dataframe thead th {\n",
              "        text-align: right;\n",
              "    }\n",
              "</style>\n",
              "<table border=\"1\" class=\"dataframe\">\n",
              "  <thead>\n",
              "    <tr style=\"text-align: right;\">\n",
              "      <th></th>\n",
              "      <th>beer_id</th>\n",
              "      <th>beer_name</th>\n",
              "      <th>beer_style</th>\n",
              "      <th>beer_availability</th>\n",
              "      <th>beer_abv</th>\n",
              "      <th>beer_notes</th>\n",
              "      <th>beer_retired</th>\n",
              "    </tr>\n",
              "  </thead>\n",
              "  <tbody>\n",
              "    <tr>\n",
              "      <th>0</th>\n",
              "      <td>202522</td>\n",
              "      <td>olde cogitator</td>\n",
              "      <td>english oatmeal stout</td>\n",
              "      <td>rotating</td>\n",
              "      <td>7.3</td>\n",
              "      <td>no notes at this time</td>\n",
              "      <td>f</td>\n",
              "    </tr>\n",
              "    <tr>\n",
              "      <th>1</th>\n",
              "      <td>82352</td>\n",
              "      <td>konrads stout russian imperial stout</td>\n",
              "      <td>russian imperial stout</td>\n",
              "      <td>rotating</td>\n",
              "      <td>10.4</td>\n",
              "      <td>no notes at this time</td>\n",
              "      <td>f</td>\n",
              "    </tr>\n",
              "    <tr>\n",
              "      <th>2</th>\n",
              "      <td>214879</td>\n",
              "      <td>scottish right</td>\n",
              "      <td>scottish ale</td>\n",
              "      <td>year round</td>\n",
              "      <td>4.0</td>\n",
              "      <td>no notes at this time</td>\n",
              "      <td>t</td>\n",
              "    </tr>\n",
              "    <tr>\n",
              "      <th>3</th>\n",
              "      <td>320009</td>\n",
              "      <td>megameow imperial stout</td>\n",
              "      <td>american imperial stout</td>\n",
              "      <td>winter</td>\n",
              "      <td>8.7</td>\n",
              "      <td>every time this year</td>\n",
              "      <td>f</td>\n",
              "    </tr>\n",
              "    <tr>\n",
              "      <th>4</th>\n",
              "      <td>246438</td>\n",
              "      <td>peaches n cream</td>\n",
              "      <td>american cream ale</td>\n",
              "      <td>rotating</td>\n",
              "      <td>5.1</td>\n",
              "      <td>no notes at this time</td>\n",
              "      <td>f</td>\n",
              "    </tr>\n",
              "  </tbody>\n",
              "</table>\n",
              "</div>"
            ],
            "text/plain": [
              "   beer_id  ... beer_retired\n",
              "0   202522  ...            f\n",
              "1    82352  ...            f\n",
              "2   214879  ...            t\n",
              "3   320009  ...            f\n",
              "4   246438  ...            f\n",
              "\n",
              "[5 rows x 7 columns]"
            ]
          },
          "metadata": {
            "tags": []
          },
          "execution_count": 29
        }
      ]
    },
    {
      "cell_type": "code",
      "metadata": {
        "id": "taG5mR5_eQde"
      },
      "source": [
        "#beers.beer_notes.value_counts()"
      ],
      "execution_count": 30,
      "outputs": []
    },
    {
      "cell_type": "markdown",
      "metadata": {
        "id": "nG48KjucGCl9"
      },
      "source": [
        "### Brewery Dataset"
      ]
    },
    {
      "cell_type": "markdown",
      "metadata": {
        "id": "BNTfUwbkFeZB"
      },
      "source": [
        "The Brewery dataset gives us more information on the brewery:\r\n",
        "* City\r\n",
        "* State\r\n",
        "* Country\r\n",
        "* Brewery Type\r\n",
        "* Additional Notes"
      ]
    },
    {
      "cell_type": "code",
      "metadata": {
        "colab": {
          "base_uri": "https://localhost:8080/"
        },
        "id": "8RAx3sBqgPYb",
        "outputId": "cb46d564-0960-4cf5-e849-b5dad5f81e70"
      },
      "source": [
        "print('Breweries: ', breweries.shape)"
      ],
      "execution_count": 31,
      "outputs": [
        {
          "output_type": "stream",
          "text": [
            "Breweries:  (50347, 7)\n"
          ],
          "name": "stdout"
        }
      ]
    },
    {
      "cell_type": "code",
      "metadata": {
        "id": "iKqL7eWXBKvq"
      },
      "source": [
        "#breweries.head()"
      ],
      "execution_count": 32,
      "outputs": []
    },
    {
      "cell_type": "code",
      "metadata": {
        "id": "ZkbnaRq6gfKn"
      },
      "source": [
        "#breweries.describe()\r\n",
        "#breweries.dtypes"
      ],
      "execution_count": 33,
      "outputs": []
    },
    {
      "cell_type": "markdown",
      "metadata": {
        "id": "Vsi3JhhUgrOF"
      },
      "source": [
        "#### Change Column Names"
      ]
    },
    {
      "cell_type": "markdown",
      "metadata": {
        "id": "_UTMr2E_hBIn"
      },
      "source": [
        "I'll update the column names os that they reflect that they relate to brewery information to avoid confusion later when looking to merge datasets."
      ]
    },
    {
      "cell_type": "code",
      "metadata": {
        "colab": {
          "base_uri": "https://localhost:8080/",
          "height": 0
        },
        "id": "fVTXvXLmgukS",
        "outputId": "e22ec763-0b05-442e-9723-3dd6eea3379a"
      },
      "source": [
        "breweries.columns = ['brewery_id', 'brewery_name', 'brewery_city', 'brewery_state', 'brewery_country', 'brewery_notes', 'brewery_types']\r\n",
        "breweries.head()"
      ],
      "execution_count": 34,
      "outputs": [
        {
          "output_type": "execute_result",
          "data": {
            "text/html": [
              "<div>\n",
              "<style scoped>\n",
              "    .dataframe tbody tr th:only-of-type {\n",
              "        vertical-align: middle;\n",
              "    }\n",
              "\n",
              "    .dataframe tbody tr th {\n",
              "        vertical-align: top;\n",
              "    }\n",
              "\n",
              "    .dataframe thead th {\n",
              "        text-align: right;\n",
              "    }\n",
              "</style>\n",
              "<table border=\"1\" class=\"dataframe\">\n",
              "  <thead>\n",
              "    <tr style=\"text-align: right;\">\n",
              "      <th></th>\n",
              "      <th>brewery_id</th>\n",
              "      <th>brewery_name</th>\n",
              "      <th>brewery_city</th>\n",
              "      <th>brewery_state</th>\n",
              "      <th>brewery_country</th>\n",
              "      <th>brewery_notes</th>\n",
              "      <th>brewery_types</th>\n",
              "    </tr>\n",
              "  </thead>\n",
              "  <tbody>\n",
              "    <tr>\n",
              "      <th>0</th>\n",
              "      <td>19730</td>\n",
              "      <td>Brouwerij Danny</td>\n",
              "      <td>Erpe-Mere</td>\n",
              "      <td>NaN</td>\n",
              "      <td>BE</td>\n",
              "      <td>No notes at this time.</td>\n",
              "      <td>Brewery</td>\n",
              "    </tr>\n",
              "    <tr>\n",
              "      <th>1</th>\n",
              "      <td>32541</td>\n",
              "      <td>Coachella Valley Brewing Co</td>\n",
              "      <td>Thousand Palms</td>\n",
              "      <td>CA</td>\n",
              "      <td>US</td>\n",
              "      <td>No notes at this time.</td>\n",
              "      <td>Brewery, Bar, Beer-to-go</td>\n",
              "    </tr>\n",
              "    <tr>\n",
              "      <th>2</th>\n",
              "      <td>44736</td>\n",
              "      <td>Beef 'O' Brady's</td>\n",
              "      <td>Plant City</td>\n",
              "      <td>FL</td>\n",
              "      <td>US</td>\n",
              "      <td>No notes at this time.</td>\n",
              "      <td>Bar, Eatery</td>\n",
              "    </tr>\n",
              "    <tr>\n",
              "      <th>3</th>\n",
              "      <td>23372</td>\n",
              "      <td>Broadway Wine Merchant</td>\n",
              "      <td>Oklahoma City</td>\n",
              "      <td>OK</td>\n",
              "      <td>US</td>\n",
              "      <td>No notes at this time.</td>\n",
              "      <td>Store</td>\n",
              "    </tr>\n",
              "    <tr>\n",
              "      <th>4</th>\n",
              "      <td>35328</td>\n",
              "      <td>Brighton Beer Dispensary (DUPLICATE)</td>\n",
              "      <td>Brighton</td>\n",
              "      <td>GB2</td>\n",
              "      <td>GB</td>\n",
              "      <td>Duplicate of https://www.beeradvocate.com/beer...</td>\n",
              "      <td>Bar, Eatery</td>\n",
              "    </tr>\n",
              "  </tbody>\n",
              "</table>\n",
              "</div>"
            ],
            "text/plain": [
              "   brewery_id  ...             brewery_types\n",
              "0       19730  ...                   Brewery\n",
              "1       32541  ...  Brewery, Bar, Beer-to-go\n",
              "2       44736  ...               Bar, Eatery\n",
              "3       23372  ...                     Store\n",
              "4       35328  ...               Bar, Eatery\n",
              "\n",
              "[5 rows x 7 columns]"
            ]
          },
          "metadata": {
            "tags": []
          },
          "execution_count": 34
        }
      ]
    },
    {
      "cell_type": "markdown",
      "metadata": {
        "id": "FrIKfpquhPhE"
      },
      "source": [
        "#### Missing Data"
      ]
    },
    {
      "cell_type": "code",
      "metadata": {
        "colab": {
          "base_uri": "https://localhost:8080/"
        },
        "id": "JyPnxiG9hSFz",
        "outputId": "4bfff4c1-a9c4-42b4-f83c-1a594d5e44ee"
      },
      "source": [
        "for x in breweries:\r\n",
        "  print(x, ': ', breweries[x].isnull().sum())"
      ],
      "execution_count": 35,
      "outputs": [
        {
          "output_type": "stream",
          "text": [
            "brewery_id :  0\n",
            "brewery_name :  0\n",
            "brewery_city :  58\n",
            "brewery_state :  11271\n",
            "brewery_country :  6\n",
            "brewery_notes :  85\n",
            "brewery_types :  0\n"
          ],
          "name": "stdout"
        }
      ]
    },
    {
      "cell_type": "markdown",
      "metadata": {
        "id": "UVUeHQfPNj2v"
      },
      "source": [
        "##### Brewery Country"
      ]
    },
    {
      "cell_type": "markdown",
      "metadata": {
        "id": "FBJOAfsoNnuH"
      },
      "source": [
        "Looked at 6 rows with null values on country name to see if possible to impute from information available.\r\n",
        "* Four rows related to Namibian ciites of Windhoek and Swakopmund so updated country to reflect this\r\n",
        "* Did Google search on names of other two breweries to imput information on their location"
      ]
    },
    {
      "cell_type": "code",
      "metadata": {
        "colab": {
          "base_uri": "https://localhost:8080/",
          "height": 0
        },
        "id": "1-nvlLWYhjtW",
        "outputId": "89ee9b43-ebd7-4976-c468-963eb6dafd40"
      },
      "source": [
        "breweries[breweries.brewery_country.isnull()]"
      ],
      "execution_count": 36,
      "outputs": [
        {
          "output_type": "execute_result",
          "data": {
            "text/html": [
              "<div>\n",
              "<style scoped>\n",
              "    .dataframe tbody tr th:only-of-type {\n",
              "        vertical-align: middle;\n",
              "    }\n",
              "\n",
              "    .dataframe tbody tr th {\n",
              "        vertical-align: top;\n",
              "    }\n",
              "\n",
              "    .dataframe thead th {\n",
              "        text-align: right;\n",
              "    }\n",
              "</style>\n",
              "<table border=\"1\" class=\"dataframe\">\n",
              "  <thead>\n",
              "    <tr style=\"text-align: right;\">\n",
              "      <th></th>\n",
              "      <th>brewery_id</th>\n",
              "      <th>brewery_name</th>\n",
              "      <th>brewery_city</th>\n",
              "      <th>brewery_state</th>\n",
              "      <th>brewery_country</th>\n",
              "      <th>brewery_notes</th>\n",
              "      <th>brewery_types</th>\n",
              "    </tr>\n",
              "  </thead>\n",
              "  <tbody>\n",
              "    <tr>\n",
              "      <th>9915</th>\n",
              "      <td>1722</td>\n",
              "      <td>Namibia Breweries Limited</td>\n",
              "      <td>Windhoek</td>\n",
              "      <td>NaN</td>\n",
              "      <td>NaN</td>\n",
              "      <td>No notes at this time.</td>\n",
              "      <td>Brewery</td>\n",
              "    </tr>\n",
              "    <tr>\n",
              "      <th>29270</th>\n",
              "      <td>41084</td>\n",
              "      <td>Brew Craft Namibia / Das Brücken Haus</td>\n",
              "      <td>Windhoek</td>\n",
              "      <td>NaN</td>\n",
              "      <td>NaN</td>\n",
              "      <td>No notes at this time.</td>\n",
              "      <td>Brewery, Bar, Homebrew, Beer-to-go</td>\n",
              "    </tr>\n",
              "    <tr>\n",
              "      <th>30314</th>\n",
              "      <td>11016</td>\n",
              "      <td>Privatbrauerei Josef / Trumer Brauerei</td>\n",
              "      <td>NaN</td>\n",
              "      <td>NaN</td>\n",
              "      <td>NaN</td>\n",
              "      <td>No notes at this time.</td>\n",
              "      <td>Brewery</td>\n",
              "    </tr>\n",
              "    <tr>\n",
              "      <th>31869</th>\n",
              "      <td>1723</td>\n",
              "      <td>Hansa Brauerei / Namibia Breweries</td>\n",
              "      <td>Swakopmund</td>\n",
              "      <td>NaN</td>\n",
              "      <td>NaN</td>\n",
              "      <td>At least some of the beer is contract brewed b...</td>\n",
              "      <td>Brewery</td>\n",
              "    </tr>\n",
              "    <tr>\n",
              "      <th>38980</th>\n",
              "      <td>20786</td>\n",
              "      <td>Camelthorn Brewing Company Ltd</td>\n",
              "      <td>Windhoek</td>\n",
              "      <td>NaN</td>\n",
              "      <td>NaN</td>\n",
              "      <td>No notes at this time.</td>\n",
              "      <td>Brewery</td>\n",
              "    </tr>\n",
              "    <tr>\n",
              "      <th>45345</th>\n",
              "      <td>18989</td>\n",
              "      <td>Barley's Brewing Company</td>\n",
              "      <td>NaN</td>\n",
              "      <td>NaN</td>\n",
              "      <td>NaN</td>\n",
              "      <td>No notes at this time.</td>\n",
              "      <td>Brewery</td>\n",
              "    </tr>\n",
              "  </tbody>\n",
              "</table>\n",
              "</div>"
            ],
            "text/plain": [
              "       brewery_id  ...                       brewery_types\n",
              "9915         1722  ...                             Brewery\n",
              "29270       41084  ...  Brewery, Bar, Homebrew, Beer-to-go\n",
              "30314       11016  ...                             Brewery\n",
              "31869        1723  ...                             Brewery\n",
              "38980       20786  ...                             Brewery\n",
              "45345       18989  ...                             Brewery\n",
              "\n",
              "[6 rows x 7 columns]"
            ]
          },
          "metadata": {
            "tags": []
          },
          "execution_count": 36
        }
      ]
    },
    {
      "cell_type": "code",
      "metadata": {
        "id": "8gMFHkPAh-JX"
      },
      "source": [
        "breweries['brewery_country'] = np.where((breweries.brewery_city == 'Windhoek'),'NA',breweries.brewery_country)\r\n",
        "breweries['brewery_country'] = np.where((breweries.brewery_city == 'Swakopmund'),'NA',breweries.brewery_country)\r\n",
        "\r\n",
        "breweries['brewery_city'] = np.where((breweries.brewery_name == \"Barley's Brewing Company\"), \"Columbus\" ,breweries.brewery_city)\r\n",
        "breweries['brewery_state'] = np.where((breweries.brewery_name == \"Barley's Brewing Company\"), \"OH\" ,breweries.brewery_state)\r\n",
        "breweries['brewery_country'] = np.where((breweries.brewery_name == \"Barley's Brewing Company\"), \"US\" ,breweries.brewery_country)\r\n",
        "\r\n",
        "breweries['brewery_city'] = np.where((breweries.brewery_name == \"Privatbrauerei Josef / Trumer Brauerei\"), \"Salzburg\" ,breweries.brewery_city)\r\n",
        "breweries['brewery_country'] = np.where((breweries.brewery_name == \"Privatbrauerei Josef / Trumer Brauerei\"), \"AT\" ,breweries.brewery_country)"
      ],
      "execution_count": 37,
      "outputs": []
    },
    {
      "cell_type": "code",
      "metadata": {
        "id": "OlgbPhbtHy3t"
      },
      "source": [
        "#breweries[breweries.brewery_country.isnull()]"
      ],
      "execution_count": 38,
      "outputs": []
    },
    {
      "cell_type": "code",
      "metadata": {
        "id": "WZWOlgLiH4sJ"
      },
      "source": [
        "#breweries[breweries.brewery_country == 'NA']"
      ],
      "execution_count": 39,
      "outputs": []
    },
    {
      "cell_type": "code",
      "metadata": {
        "id": "4wGGYEx9LpL6"
      },
      "source": [
        "#breweries[breweries.brewery_name == \"Barley's Brewing Company\"]"
      ],
      "execution_count": 40,
      "outputs": []
    },
    {
      "cell_type": "code",
      "metadata": {
        "id": "c8iPzFXPMEOw"
      },
      "source": [
        "#breweries[breweries.brewery_name == \"Privatbrauerei Josef / Trumer Brauerei\"]"
      ],
      "execution_count": 41,
      "outputs": []
    },
    {
      "cell_type": "markdown",
      "metadata": {
        "id": "PDL27KBhOM7d"
      },
      "source": [
        "##### Brewery City"
      ]
    },
    {
      "cell_type": "markdown",
      "metadata": {
        "id": "lM1BLkq3BSR4"
      },
      "source": [
        "For brewery_city column, I went through the list of 58 null values to see if these could be identified through searching the brewery name. For US breweries, I inputted the brewery_state also."
      ]
    },
    {
      "cell_type": "code",
      "metadata": {
        "id": "FYBUL34BR67C"
      },
      "source": [
        "#breweries[breweries.brewery_city.isnull()]"
      ],
      "execution_count": 42,
      "outputs": []
    },
    {
      "cell_type": "code",
      "metadata": {
        "id": "QBuE353APJrR"
      },
      "source": [
        "breweries['brewery_city'] = np.where((breweries.brewery_name == \"Hops! La Fabbrica della Birra\"), \"Reggio Emilia\" ,breweries.brewery_city)\r\n",
        "\r\n",
        "breweries['brewery_city'] = np.where((breweries.brewery_name == \"Big Buck Brewery & Steakhouse\"), \"Gaylord\" ,breweries.brewery_city)\r\n",
        "breweries['brewery_state'] = np.where((breweries.brewery_name == \"Big Buck Brewery & Steakhouse\"), \"MI\" ,breweries.brewery_state)\r\n",
        "\r\n",
        "breweries['brewery_city'] = np.where((breweries.brewery_name == \"Tooheys Brewing\"), \"Sydney\" ,breweries.brewery_city)\r\n",
        "\r\n",
        "breweries['brewery_city'] = np.where((breweries.brewery_name == \"New Zealand Breweries Limited\"), \"Auckland\" ,breweries.brewery_city)\r\n",
        "\r\n",
        "breweries['brewery_city'] = np.where((breweries.brewery_name == \"Sebago Brewing Company\"), \"Scarborough\" ,breweries.brewery_city)\r\n",
        "breweries['brewery_state'] = np.where((breweries.brewery_name == \"Sebago Brewing Company\"), \"ME\" ,breweries.brewery_state)\r\n",
        "\r\n",
        "breweries['brewery_city'] = np.where((breweries.brewery_name == \"Weeping Radish Brewery & Bavarian Restaurant\"), \"Grandy\" ,breweries.brewery_city)\r\n",
        "breweries['brewery_state'] = np.where((breweries.brewery_name == \"Weeping Radish Brewery & Bavarian Restaurant\"), \"NC\" ,breweries.brewery_state)\r\n",
        "\r\n",
        "breweries['brewery_city'] = np.where((breweries.brewery_name == \"Frog Pubs\"), \"Paris\" ,breweries.brewery_city)\r\n",
        "\r\n",
        "breweries['brewery_city'] = np.where((breweries.brewery_name == \"3er Tiempo Tienda De Cervezas\"), \"Santander\" ,breweries.brewery_city)"
      ],
      "execution_count": 43,
      "outputs": []
    },
    {
      "cell_type": "code",
      "metadata": {
        "id": "VQL4RoK3TzbB"
      },
      "source": [
        "breweries['brewery_city'] = np.where((breweries.brewery_name == \"Shipyard Brewing Co.\"), \"Portland\" ,breweries.brewery_city)\r\n",
        "breweries['brewery_state'] = np.where((breweries.brewery_name == \"Shipyard Brewing Co.\"), \"ME\" ,breweries.brewery_state)\r\n",
        "\r\n",
        "breweries['brewery_city'] = np.where((breweries.brewery_name == \"Tinkoff Brewery\"), \"St. Petersburg\" ,breweries.brewery_city)\r\n",
        "\r\n",
        "breweries['brewery_city'] = np.where((breweries.brewery_name == \"Tied House Cafe & Brewery\"), \"Mountain View\" ,breweries.brewery_city)\r\n",
        "breweries['brewery_state'] = np.where((breweries.brewery_name == \"Tied House Cafe & Brewery\"), \"CA\" ,breweries.brewery_state)\r\n",
        "\r\n",
        "breweries['brewery_city'] = np.where((breweries.brewery_name == \"Cerveza De Cuba\"), \"Havana\" ,breweries.brewery_city)\r\n",
        "\r\n",
        "breweries['brewery_city'] = np.where((breweries.brewery_name == \"Steelhead Brewing Co.\"), \"Eugene\" ,breweries.brewery_city)\r\n",
        "breweries['brewery_state'] = np.where((breweries.brewery_name == \"Steelhead Brewing Co.\"), \"OR\" ,breweries.brewery_state)\r\n",
        "\r\n",
        "breweries['brewery_city'] = np.where((breweries.brewery_name == \"Hops Grillhouse & Brewery\"), \"Alexandria\" ,breweries.brewery_city)\r\n",
        "breweries['brewery_state'] = np.where((breweries.brewery_name == \"Hops Grillhouse & Brewery\"), \"VA\" ,breweries.brewery_state)\r\n",
        "\r\n",
        "breweries['brewery_city'] = np.where((breweries.brewery_name == \"Lübeck Cerveja\"), \"Sao Paulo\" ,breweries.brewery_city)\r\n",
        "\r\n",
        "breweries['brewery_city'] = np.where((breweries.brewery_name == \"Iron Hill Brewery & Restaurant\"), \"Exton\" ,breweries.brewery_city)\r\n",
        "breweries['brewery_state'] = np.where((breweries.brewery_name == \"Iron Hill Brewery & Restaurant\"), \"PA\" ,breweries.brewery_state)\r\n",
        "\r\n",
        "breweries['brewery_city'] = np.where((breweries.brewery_name == \"Brewlander & Co.\"), \"Singapore\" ,breweries.brewery_city)"
      ],
      "execution_count": 44,
      "outputs": []
    },
    {
      "cell_type": "code",
      "metadata": {
        "id": "EotmqktiYvD3"
      },
      "source": [
        "breweries['brewery_city'] = np.where((breweries.brewery_name == \"Triumph Brewing\"), \"Princeton\" ,breweries.brewery_city)\r\n",
        "breweries['brewery_state'] = np.where((breweries.brewery_name == \"Triumph Brewing\"), \"NJ\" ,breweries.brewery_state)\r\n",
        "\r\n",
        "breweries['brewery_city'] = np.where((breweries.brewery_name == \"Stingray Brewery\"), \"Grand Cayman\" ,breweries.brewery_city)\r\n",
        "\r\n",
        "breweries['brewery_city'] = np.where((breweries.brewery_name == \"Ram International / Humperdinks Restaurant and Big Horn Brewing\"), \"Lakewood\" ,breweries.brewery_city)\r\n",
        "breweries['brewery_state'] = np.where((breweries.brewery_name == \"Ram International / Humperdinks Restaurant and Big Horn Brewing\"), \"WA\" ,breweries.brewery_state)\r\n",
        "\r\n",
        "breweries['brewery_city'] = np.where((breweries.brewery_name == \"Liberty Steakhouse Brewery\"), \"Myrtle Beach\" ,breweries.brewery_city)\r\n",
        "breweries['brewery_state'] = np.where((breweries.brewery_name == \"Liberty Steakhouse Brewery\"), \"SC\" ,breweries.brewery_state)\r\n",
        "\r\n",
        "breweries['brewery_city'] = np.where((breweries.brewery_name == \"K&L Italian Beers Manufacturing\"), \"Veneto\" ,breweries.brewery_city)\r\n",
        "\r\n",
        "breweries['brewery_city'] = np.where((breweries.brewery_name == \"Barley's Smokehouse and Brewpub\"), \"Columbus\" ,breweries.brewery_city)\r\n",
        "breweries['brewery_state'] = np.where((breweries.brewery_name == \"Barley's Smokehouse and Brewpub\"), \"OH\" ,breweries.brewery_state)\r\n",
        "\r\n",
        "breweries['brewery_city'] = np.where((breweries.brewery_name == \"Granite City Food & Brewery\"), \"Minnetonka\" ,breweries.brewery_city)\r\n",
        "breweries['brewery_state'] = np.where((breweries.brewery_name == \"Granite City Food & Brewery\"), \"MN\" ,breweries.brewery_state)\r\n",
        "\r\n",
        "breweries['brewery_city'] = np.where((breweries.brewery_name == \"Hereford & Hops Restaurant & Brewpub\"), \"Escanaba\" ,breweries.brewery_city)\r\n",
        "breweries['brewery_state'] = np.where((breweries.brewery_name == \"Hereford & Hops Restaurant & Brewpub\"), \"MI\" ,breweries.brewery_state)\r\n",
        "\r\n",
        "breweries['brewery_city'] = np.where((breweries.brewery_name == \"Jacob Leinenkugel Brewing Co.\"), \"Chippewa Falls\" ,breweries.brewery_city)\r\n",
        "breweries['brewery_state'] = np.where((breweries.brewery_name == \"Jacob Leinenkugel Brewing Co.\"), \"WI\" ,breweries.brewery_state)\r\n",
        "\r\n",
        "breweries['brewery_city'] = np.where((breweries.brewery_name == \"Verhovinska Pivovarnya\"), \"Verkhovyna\" ,breweries.brewery_city)\r\n",
        "\r\n",
        "breweries['brewery_city'] = np.where((breweries.brewery_name == \"Empire Brewing Company\"), \"Syracuse\" ,breweries.brewery_city)\r\n",
        "breweries['brewery_state'] = np.where((breweries.brewery_name == \"Empire Brewing Company\"), \"NY\" ,breweries.brewery_state)\r\n",
        "\r\n",
        "breweries['brewery_city'] = np.where((breweries.brewery_name == \"Two Rows Breweries & Grills\"), \"Allen\" ,breweries.brewery_city)\r\n",
        "breweries['brewery_state'] = np.where((breweries.brewery_name == \"Two Rows Breweries & Grills\"), \"TX\" ,breweries.brewery_state)"
      ],
      "execution_count": 45,
      "outputs": []
    },
    {
      "cell_type": "code",
      "metadata": {
        "id": "kSayhct4yzLF"
      },
      "source": [
        "breweries['brewery_city'] = np.where((breweries.brewery_name == \"Fat Sparrow\"), \"Liérganes\" ,breweries.brewery_city)\r\n",
        "\r\n",
        "breweries['brewery_city'] = np.where((breweries.brewery_name == \"La Arboleda Cervecería Artesanal\"), \"San José\" ,breweries.brewery_city)\r\n",
        "\r\n",
        "breweries['brewery_city'] = np.where((breweries.brewery_name == \"Full Sail Brewing Company\"), \"Hood River\" ,breweries.brewery_city)\r\n",
        "breweries['brewery_state'] = np.where((breweries.brewery_name == \"Full Sail Brewing Company\"), \"OR\" ,breweries.brewery_state)\r\n",
        "\r\n",
        "breweries['brewery_city'] = np.where((breweries.brewery_name == \"Mac's Brewery\"), \"Wellington\" ,breweries.brewery_city)\r\n",
        "\r\n",
        "breweries['brewery_city'] = np.where((breweries.brewery_name == \"Utah Brewers Cooperative\"), \"Salt Lake City\" ,breweries.brewery_city)\r\n",
        "\r\n",
        "breweries['brewery_city'] = np.where((breweries.brewery_name == \"E & O Trading Company\"), \"San Francisco\" ,breweries.brewery_city)\r\n",
        "breweries['brewery_state'] = np.where((breweries.brewery_name == \"E & O Trading Company\"), \"CA\" ,breweries.brewery_state)\r\n",
        "\r\n",
        "breweries['brewery_city'] = np.where((breweries.brewery_name == \"Capitol City Brewing Company\"), \"Washington DC\" ,breweries.brewery_city)\r\n",
        "breweries['brewery_state'] = np.where((breweries.brewery_name == \"Capitol City Brewing Company\"), \"DC\" ,breweries.brewery_state)\r\n",
        "\r\n",
        "breweries['brewery_city'] = np.where((breweries.brewery_name == \"Il Vicino Wood Oven Pizza and Brewery\"), \"Wichita\" ,breweries.brewery_city)\r\n",
        "breweries['brewery_state'] = np.where((breweries.brewery_name == \"Il Vicino Wood Oven Pizza and Brewery\"), \"KS\" ,breweries.brewery_state)\r\n",
        "\r\n",
        "breweries['brewery_city'] = np.where((breweries.brewery_name == \"Cliff Top Brewing Company\"), \"Bocholt\" ,breweries.brewery_city)\r\n",
        "\r\n",
        "breweries['brewery_city'] = np.where((breweries.brewery_name == \"Brew Moon Restaurant & Microbrewery\"), \"Honolulu\" ,breweries.brewery_city)\r\n",
        "breweries['brewery_state'] = np.where((breweries.brewery_name == \"Brew Moon Restaurant & Microbrewery\"), \"HI\" ,breweries.brewery_state)\r\n",
        "\r\n",
        "breweries['brewery_city'] = np.where((breweries.brewery_name == \"Prague Breweries Group\"), \"Prague\" ,breweries.brewery_city)\r\n",
        "\r\n",
        "breweries['brewery_city'] = np.where((breweries.brewery_name == \"Blue Corn Cafe and Brewery\"), \"Santa Fe\" ,breweries.brewery_city)\r\n",
        "breweries['brewery_state'] = np.where((breweries.brewery_name == \"Blue Corn Cafe and Brewery\"), \"NM\" ,breweries.brewery_state)\r\n",
        "\r\n",
        "breweries['brewery_city'] = np.where((breweries.brewery_name == \"Buckhead Brewery and Grill\"), \"Stockbridge\" ,breweries.brewery_city)\r\n",
        "breweries['brewery_state'] = np.where((breweries.brewery_name == \"Buckhead Brewery and Grill\"), \"GA\" ,breweries.brewery_state)"
      ],
      "execution_count": 46,
      "outputs": []
    },
    {
      "cell_type": "code",
      "metadata": {
        "id": "Yd_HSu1P64Ck"
      },
      "source": [
        "breweries['brewery_city'] = np.where((breweries.brewery_name == \"Paulista Brewery\"), \"Sao Paulo\" ,breweries.brewery_city)\r\n",
        "\r\n",
        "breweries['brewery_city'] = np.where((breweries.brewery_name == \"Mendocino Brewing Company\"), \"Ukiah\" ,breweries.brewery_city)\r\n",
        "breweries['brewery_state'] = np.where((breweries.brewery_name == \"Mendocino Brewing Company\"), \"CA\" ,breweries.brewery_state)\r\n",
        "\r\n",
        "breweries['brewery_city'] = np.where((breweries.brewery_name == \"Rock Bottom Restaurant & Brewery\"), \"San Jose\" ,breweries.brewery_city)\r\n",
        "breweries['brewery_state'] = np.where((breweries.brewery_name == \"Rock Bottom Restaurant & Brewery\"), \"CA\" ,breweries.brewery_state)\r\n",
        "\r\n",
        "breweries['brewery_city'] = np.where((breweries.brewery_name == \"Bokkereyder\"), \"Hasselt\" ,breweries.brewery_city)\r\n",
        "\r\n",
        "breweries['brewery_city'] = np.where((breweries.brewery_name == \"Bedele Brewery\"), \"Addis Ababa\" ,breweries.brewery_city)\r\n",
        "\r\n",
        "breweries['brewery_city'] = np.where((breweries.brewery_name == \"Snake River Brewing\"), \"Jackson\" ,breweries.brewery_city)\r\n",
        "breweries['brewery_state'] = np.where((breweries.brewery_name == \"Snake River Brewing\"), \"WY\" ,breweries.brewery_state)\r\n",
        "\r\n",
        "breweries['brewery_city'] = np.where((breweries.brewery_name == \"McMenamins\"), \"Portland\" ,breweries.brewery_city)\r\n",
        "breweries['brewery_state'] = np.where((breweries.brewery_name == \"McMenamins\"), \"OR\" ,breweries.brewery_state)\r\n",
        "\r\n",
        "breweries['brewery_city'] = np.where((breweries.brewery_name == \"Gordon Biersch Brewery Restaurant\"), \"Las Vegas\" ,breweries.brewery_city)\r\n",
        "breweries['brewery_state'] = np.where((breweries.brewery_name == \"Gordon Biersch Brewery Restaurant\"), \"NV\" ,breweries.brewery_state)\r\n",
        "\r\n",
        "breweries['brewery_city'] = np.where((breweries.brewery_name == \"BJ's Chicago Pizza & Brewery Inc.\"), \"Huntington Beach\" ,breweries.brewery_city)\r\n",
        "breweries['brewery_state'] = np.where((breweries.brewery_name == \"BJ's Chicago Pizza & Brewery Inc.\"), \"CA\" ,breweries.brewery_state)\r\n",
        "\r\n",
        "breweries['brewery_city'] = np.where((breweries.brewery_name == \"Sonora Brewing Company\"), \"Sonora\" ,breweries.brewery_city)\r\n",
        "breweries['brewery_state'] = np.where((breweries.brewery_name == \"Sonora Brewing Company\"), \"CA\" ,breweries.brewery_state)\r\n",
        "\r\n",
        "breweries['brewery_city'] = np.where((breweries.brewery_name == \"Thirsty Dog Brewing Company\"), \"Akron\" ,breweries.brewery_city)\r\n",
        "breweries['brewery_state'] = np.where((breweries.brewery_name == \"Thirsty Dog Brewing Company\"), \"OH\" ,breweries.brewery_state)\r\n",
        "\r\n",
        "breweries['brewery_city'] = np.where((breweries.brewery_name == \"Bennett's Bar & Lounge\"), \"Ardcath\" ,breweries.brewery_city)\r\n",
        "\r\n",
        "breweries['brewery_city'] = np.where((breweries.brewery_name == \"Utenos Alus\"), \"Utena\" ,breweries.brewery_city)\r\n",
        "\r\n",
        "breweries['brewery_city'] = np.where((breweries.brewery_name == \"Sea Dog Brewing Company\"), \"Bangor\" ,breweries.brewery_city)\r\n",
        "breweries['brewery_state'] = np.where((breweries.brewery_name == \"Sea Dog Brewing Company\"), \"ME\" ,breweries.brewery_state)"
      ],
      "execution_count": 47,
      "outputs": []
    },
    {
      "cell_type": "code",
      "metadata": {
        "id": "NALZpynwORDL"
      },
      "source": [
        "#breweries[breweries.brewery_city.isnull()]"
      ],
      "execution_count": 48,
      "outputs": []
    },
    {
      "cell_type": "code",
      "metadata": {
        "id": "7boNa4KraDoW"
      },
      "source": [
        "#print(np.array(breweries[breweries.brewery_id == 3079]['brewery_name']))"
      ],
      "execution_count": 49,
      "outputs": []
    },
    {
      "cell_type": "markdown",
      "metadata": {
        "id": "RA6WzLjLBwpv"
      },
      "source": [
        "##### Brewery State"
      ]
    },
    {
      "cell_type": "markdown",
      "metadata": {
        "id": "4aqRMgdHK_AC"
      },
      "source": [
        "brewery_state has a large number of missing values (11, 236). After closer inspection, this shows that these missing values all relate to countries outside of the US, Canada and GB where this information must not have been available. There are were two options to deal with this:\r\n",
        "1. Put as 'n/a'\r\n",
        "2. Put as country code (with 0 at end to avoid overlap with US or CA states)\r\n",
        "\r\n",
        "For potential that it is better to analyse data at state-level (with country as proxy when state not available), I've decided to go with second approach."
      ]
    },
    {
      "cell_type": "code",
      "metadata": {
        "colab": {
          "base_uri": "https://localhost:8080/"
        },
        "id": "mKogQwJVB0Xj",
        "outputId": "c4f988ea-9ee3-48d8-b099-1c575799f25a"
      },
      "source": [
        "print('Brewery State Nulls (Overall): ', breweries['brewery_state'].isnull().sum())\r\n",
        "print('Brewery State Nulls (US): ',   breweries[breweries['brewery_country'] == 'US']['brewery_state'].isnull().sum())\r\n",
        "print('Brewery State Nulls (Canada): ',   breweries[breweries['brewery_country'] == 'CA']['brewery_state'].isnull().sum())\r\n",
        "print('Brewery State Nulls (GB): ',   breweries[breweries['brewery_country'] == 'GB']['brewery_state'].isnull().sum())\r\n",
        "print('Brewery State Nulls (Outside US, Canada, and GB): ', breweries.loc[(breweries.brewery_country != 'US') & (breweries.brewery_country != 'CA') & (breweries.brewery_country != 'GB')]['brewery_state'].isnull().sum())"
      ],
      "execution_count": 50,
      "outputs": [
        {
          "output_type": "stream",
          "text": [
            "Brewery State Nulls (Overall):  11237\n",
            "Brewery State Nulls (US):  0\n",
            "Brewery State Nulls (Canada):  0\n",
            "Brewery State Nulls (GB):  0\n",
            "Brewery State Nulls (Outside US, Canada, and GB):  11237\n"
          ],
          "name": "stdout"
        }
      ]
    },
    {
      "cell_type": "code",
      "metadata": {
        "id": "XDCTLhJoDZJc"
      },
      "source": [
        "#breweries[breweries['brewery_country'] != 'US']['brewery_state'].value_counts()"
      ],
      "execution_count": 51,
      "outputs": []
    },
    {
      "cell_type": "code",
      "metadata": {
        "id": "6_2CL7LxKgba"
      },
      "source": [
        "breweries.brewery_state.fillna(breweries.brewery_country+'0', inplace=True)"
      ],
      "execution_count": 52,
      "outputs": []
    },
    {
      "cell_type": "markdown",
      "metadata": {
        "id": "31c9-qUUSYTH"
      },
      "source": [
        "##### Brewery Notes"
      ]
    },
    {
      "cell_type": "code",
      "metadata": {
        "id": "MyzYq6F8SXtd"
      },
      "source": [
        "breweries.brewery_notes.value_counts()\r\n",
        "breweries.brewery_notes.fillna('No notes at this time.', inplace=True)"
      ],
      "execution_count": 53,
      "outputs": []
    },
    {
      "cell_type": "code",
      "metadata": {
        "colab": {
          "base_uri": "https://localhost:8080/"
        },
        "id": "dvz5oSTwS8aF",
        "outputId": "1cf1518f-d34a-444e-f660-d69a4e03773b"
      },
      "source": [
        "breweries.brewery_notes.value_counts()"
      ],
      "execution_count": 54,
      "outputs": [
        {
          "output_type": "execute_result",
          "data": {
            "text/plain": [
              "No notes at this time.                                                                                                                                                                                                                                                                                                                                                                              46560\n",
              "Hours:                                                                                                                                                                                                                                                                                                                                                                                                136\n",
              " No notes at this time.                                                                                                                                                                                                                                                                                                                                                                                74\n",
              "Hours:                                                                                                                                                                                                                                                                                                                                                                                                 68\n",
              "OWNED BY ANHEUSER-BUSCH INBEV                                                                                                                                                                                                                                                                                                                                                                          18\n",
              "                                                                                                                                                                                                                                                                                                                                                                                                    ...  \n",
              "Formerly Granite City Brews                                                                                                                                                                                                                                                                                                                                                                             1\n",
              "http://www.mydemoulas.net/locations/new-hampshire/londonderry-market-basket/                                                                                                                                                                                                                                                                                                                            1\n",
              "Closed in 2009                                                                                                                                                                                                                                                                                                                                                                                          1\n",
              "Cerebral Brewing is a neighborhood brewery in the Bluebird District of Denver, Colorado. We focus on crafting beers that span the spectrum from traditional to creative while utilizing the scientific method to ensure quality and consistency.                                                                                                                                                        1\n",
              "As with all German bars, restaurants, and hotels, they serve one brewery's Bier and do it well. A vast biergarten in the back is the largest in the area and a good refuge from the many tourists in Rothenburg's Altstadt. The menu is based on the potato,as well as other Franconian/Bavarian specialties. Located just outside the famed Rödertor, one of the entrances to this walled city.        1\n",
              "Name: brewery_notes, Length: 3270, dtype: int64"
            ]
          },
          "metadata": {
            "tags": []
          },
          "execution_count": 54
        }
      ]
    },
    {
      "cell_type": "code",
      "metadata": {
        "id": "KY8AF043MlrT"
      },
      "source": [
        "breweries['brewery_notes'] = breweries.brewery_notes.str.strip()"
      ],
      "execution_count": 55,
      "outputs": []
    },
    {
      "cell_type": "markdown",
      "metadata": {
        "id": "InEown7LMQNJ"
      },
      "source": [
        "##### Final Check"
      ]
    },
    {
      "cell_type": "markdown",
      "metadata": {
        "id": "E1PNTzNwMW8Q"
      },
      "source": [
        "There are no null values in breweries dataset."
      ]
    },
    {
      "cell_type": "code",
      "metadata": {
        "colab": {
          "base_uri": "https://localhost:8080/"
        },
        "id": "6w7P4muaMTL9",
        "outputId": "e0ab1bd0-8633-42f4-d71d-5cec46743a62"
      },
      "source": [
        "for x in breweries:\r\n",
        "  print(x, ': ', breweries[x].isnull().sum())"
      ],
      "execution_count": 56,
      "outputs": [
        {
          "output_type": "stream",
          "text": [
            "brewery_id :  0\n",
            "brewery_name :  0\n",
            "brewery_city :  0\n",
            "brewery_state :  0\n",
            "brewery_country :  0\n",
            "brewery_notes :  0\n",
            "brewery_types :  0\n"
          ],
          "name": "stdout"
        }
      ]
    },
    {
      "cell_type": "markdown",
      "metadata": {
        "id": "mzBIMEuJN2hq"
      },
      "source": [
        "#### Brewery Type"
      ]
    },
    {
      "cell_type": "markdown",
      "metadata": {
        "id": "WN9qlq0nBGxe"
      },
      "source": [
        "From review of brewery_types column, there seems to be six unique types of breweries (each which can be some combination of the below types):\r\n",
        "* Bar\r\n",
        "* Eatery\r\n",
        "* Brewery\r\n",
        "* Beer-to-go\r\n",
        "* Store\r\n",
        "* Homebrew\r\n",
        "\r\n",
        "To make this data easier to analyse going forward, I will create boolean columns for each of these brewery types and then delete the brewery_type column."
      ]
    },
    {
      "cell_type": "code",
      "metadata": {
        "id": "QQOn3fhoN6eN"
      },
      "source": [
        "#breweries.brewery_types.value_counts()"
      ],
      "execution_count": 57,
      "outputs": []
    },
    {
      "cell_type": "code",
      "metadata": {
        "colab": {
          "base_uri": "https://localhost:8080/"
        },
        "id": "5XpdE-3b6pui",
        "outputId": "61d73014-91af-472c-d47c-c437fbb866a5"
      },
      "source": [
        "breweries.brewery_types = breweries.brewery_types.str.replace('-', '').str.lower()\r\n",
        "\r\n",
        "from sklearn.feature_extraction.text import CountVectorizer\r\n",
        "cv = CountVectorizer(min_df=0, max_df=0.999)\r\n",
        "\r\n",
        "cv.fit(breweries['brewery_types'])\r\n",
        "cv_transformed = cv.transform(breweries['brewery_types'])\r\n",
        "\r\n",
        "cv_df = pd.DataFrame(cv_transformed.toarray(), columns=cv.get_feature_names()).add_prefix('brewery_')\r\n",
        "print(cv_df.head())\r\n",
        "print(cv_df.columns)"
      ],
      "execution_count": 58,
      "outputs": [
        {
          "output_type": "stream",
          "text": [
            "   brewery_bar  brewery_beertogo  ...  brewery_homebrew  brewery_store\n",
            "0            0                 0  ...                 0              0\n",
            "1            1                 1  ...                 0              0\n",
            "2            1                 0  ...                 0              0\n",
            "3            0                 0  ...                 0              1\n",
            "4            1                 0  ...                 0              0\n",
            "\n",
            "[5 rows x 6 columns]\n",
            "Index(['brewery_bar', 'brewery_beertogo', 'brewery_brewery', 'brewery_eatery',\n",
            "       'brewery_homebrew', 'brewery_store'],\n",
            "      dtype='object')\n"
          ],
          "name": "stdout"
        }
      ]
    },
    {
      "cell_type": "code",
      "metadata": {
        "id": "C5VLJSnIEIiY"
      },
      "source": [
        "breweries = pd.concat([breweries, cv_df], axis=1, sort=False)"
      ],
      "execution_count": 59,
      "outputs": []
    },
    {
      "cell_type": "code",
      "metadata": {
        "id": "fv8I6PjK94qE"
      },
      "source": [
        "#breweries['brewery_bar'] = breweries.brewery_types.str.contains('Bar')\r\n",
        "#breweries['brewery_eatery'] = breweries.brewery_types.str.contains('Eatery')\r\n",
        "#breweries['brewery_brewery'] = breweries.brewery_types.str.contains('Brewery')\r\n",
        "#breweries['brewery_beertogo'] = breweries.brewery_types.str.contains('Beer-to-go')\r\n",
        "#breweries['brewery_store'] = breweries.brewery_types.str.contains('Store')\r\n",
        "#breweries['brewery_homebrew'] = breweries.brewery_types.str.contains('Homebrew')"
      ],
      "execution_count": 60,
      "outputs": []
    },
    {
      "cell_type": "code",
      "metadata": {
        "colab": {
          "base_uri": "https://localhost:8080/",
          "height": 0
        },
        "id": "ifuNreUi_3SZ",
        "outputId": "7ffe7dc6-763a-4220-e6de-a2619e80ea17"
      },
      "source": [
        "breweries.sample(10)"
      ],
      "execution_count": 61,
      "outputs": [
        {
          "output_type": "execute_result",
          "data": {
            "text/html": [
              "<div>\n",
              "<style scoped>\n",
              "    .dataframe tbody tr th:only-of-type {\n",
              "        vertical-align: middle;\n",
              "    }\n",
              "\n",
              "    .dataframe tbody tr th {\n",
              "        vertical-align: top;\n",
              "    }\n",
              "\n",
              "    .dataframe thead th {\n",
              "        text-align: right;\n",
              "    }\n",
              "</style>\n",
              "<table border=\"1\" class=\"dataframe\">\n",
              "  <thead>\n",
              "    <tr style=\"text-align: right;\">\n",
              "      <th></th>\n",
              "      <th>brewery_id</th>\n",
              "      <th>brewery_name</th>\n",
              "      <th>brewery_city</th>\n",
              "      <th>brewery_state</th>\n",
              "      <th>brewery_country</th>\n",
              "      <th>brewery_notes</th>\n",
              "      <th>brewery_types</th>\n",
              "      <th>brewery_bar</th>\n",
              "      <th>brewery_beertogo</th>\n",
              "      <th>brewery_brewery</th>\n",
              "      <th>brewery_eatery</th>\n",
              "      <th>brewery_homebrew</th>\n",
              "      <th>brewery_store</th>\n",
              "    </tr>\n",
              "  </thead>\n",
              "  <tbody>\n",
              "    <tr>\n",
              "      <th>24980</th>\n",
              "      <td>3614</td>\n",
              "      <td>Riverhead Brewery Limited</td>\n",
              "      <td>Marsden, Huddersfield</td>\n",
              "      <td>GB2</td>\n",
              "      <td>GB</td>\n",
              "      <td>No notes at this time.</td>\n",
              "      <td>brewery, bar, eatery</td>\n",
              "      <td>1</td>\n",
              "      <td>0</td>\n",
              "      <td>1</td>\n",
              "      <td>1</td>\n",
              "      <td>0</td>\n",
              "      <td>0</td>\n",
              "    </tr>\n",
              "    <tr>\n",
              "      <th>11818</th>\n",
              "      <td>36154</td>\n",
              "      <td>Harvest Country Store</td>\n",
              "      <td>West Hartford</td>\n",
              "      <td>CT</td>\n",
              "      <td>US</td>\n",
              "      <td>No notes at this time.</td>\n",
              "      <td>store</td>\n",
              "      <td>0</td>\n",
              "      <td>0</td>\n",
              "      <td>0</td>\n",
              "      <td>0</td>\n",
              "      <td>0</td>\n",
              "      <td>1</td>\n",
              "    </tr>\n",
              "    <tr>\n",
              "      <th>12240</th>\n",
              "      <td>26935</td>\n",
              "      <td>Yard House</td>\n",
              "      <td>Palmdale</td>\n",
              "      <td>CA</td>\n",
              "      <td>US</td>\n",
              "      <td>No notes at this time.</td>\n",
              "      <td>bar, eatery</td>\n",
              "      <td>1</td>\n",
              "      <td>0</td>\n",
              "      <td>0</td>\n",
              "      <td>1</td>\n",
              "      <td>0</td>\n",
              "      <td>0</td>\n",
              "    </tr>\n",
              "    <tr>\n",
              "      <th>19675</th>\n",
              "      <td>23446</td>\n",
              "      <td>Cook's Discount Liquors</td>\n",
              "      <td>Pennsauken</td>\n",
              "      <td>NJ</td>\n",
              "      <td>US</td>\n",
              "      <td>No notes at this time.</td>\n",
              "      <td>store</td>\n",
              "      <td>0</td>\n",
              "      <td>0</td>\n",
              "      <td>0</td>\n",
              "      <td>0</td>\n",
              "      <td>0</td>\n",
              "      <td>1</td>\n",
              "    </tr>\n",
              "    <tr>\n",
              "      <th>32822</th>\n",
              "      <td>37846</td>\n",
              "      <td>Home Republic</td>\n",
              "      <td>Virginia Beach</td>\n",
              "      <td>VA</td>\n",
              "      <td>US</td>\n",
              "      <td>No notes at this time.</td>\n",
              "      <td>brewery, bar, eatery</td>\n",
              "      <td>1</td>\n",
              "      <td>0</td>\n",
              "      <td>1</td>\n",
              "      <td>1</td>\n",
              "      <td>0</td>\n",
              "      <td>0</td>\n",
              "    </tr>\n",
              "    <tr>\n",
              "      <th>30263</th>\n",
              "      <td>43378</td>\n",
              "      <td>Crane Brewing Company</td>\n",
              "      <td>Raytown</td>\n",
              "      <td>MO</td>\n",
              "      <td>US</td>\n",
              "      <td>No notes at this time.</td>\n",
              "      <td>brewery, bar</td>\n",
              "      <td>1</td>\n",
              "      <td>0</td>\n",
              "      <td>1</td>\n",
              "      <td>0</td>\n",
              "      <td>0</td>\n",
              "      <td>0</td>\n",
              "    </tr>\n",
              "    <tr>\n",
              "      <th>26060</th>\n",
              "      <td>32859</td>\n",
              "      <td>Cervejaria Dortmund</td>\n",
              "      <td>Serra Negra</td>\n",
              "      <td>BR0</td>\n",
              "      <td>BR</td>\n",
              "      <td>No notes at this time.</td>\n",
              "      <td>brewery</td>\n",
              "      <td>0</td>\n",
              "      <td>0</td>\n",
              "      <td>1</td>\n",
              "      <td>0</td>\n",
              "      <td>0</td>\n",
              "      <td>0</td>\n",
              "    </tr>\n",
              "    <tr>\n",
              "      <th>1341</th>\n",
              "      <td>37905</td>\n",
              "      <td>Bamfield General Store</td>\n",
              "      <td>Bamfield</td>\n",
              "      <td>BC</td>\n",
              "      <td>CA</td>\n",
              "      <td>No notes at this time.</td>\n",
              "      <td>store</td>\n",
              "      <td>0</td>\n",
              "      <td>0</td>\n",
              "      <td>0</td>\n",
              "      <td>0</td>\n",
              "      <td>0</td>\n",
              "      <td>1</td>\n",
              "    </tr>\n",
              "    <tr>\n",
              "      <th>1480</th>\n",
              "      <td>43727</td>\n",
              "      <td>Cerveza Gastro</td>\n",
              "      <td>Cuenca</td>\n",
              "      <td>ES0</td>\n",
              "      <td>ES</td>\n",
              "      <td>Cerveza Artesana de Autor</td>\n",
              "      <td>brewery</td>\n",
              "      <td>0</td>\n",
              "      <td>0</td>\n",
              "      <td>1</td>\n",
              "      <td>0</td>\n",
              "      <td>0</td>\n",
              "      <td>0</td>\n",
              "    </tr>\n",
              "    <tr>\n",
              "      <th>14652</th>\n",
              "      <td>17070</td>\n",
              "      <td>Belmont Beverage - Lima Road</td>\n",
              "      <td>Fort Wayne</td>\n",
              "      <td>IN</td>\n",
              "      <td>US</td>\n",
              "      <td>No notes at this time.</td>\n",
              "      <td>store</td>\n",
              "      <td>0</td>\n",
              "      <td>0</td>\n",
              "      <td>0</td>\n",
              "      <td>0</td>\n",
              "      <td>0</td>\n",
              "      <td>1</td>\n",
              "    </tr>\n",
              "  </tbody>\n",
              "</table>\n",
              "</div>"
            ],
            "text/plain": [
              "       brewery_id  ... brewery_store\n",
              "24980        3614  ...             0\n",
              "11818       36154  ...             1\n",
              "12240       26935  ...             0\n",
              "19675       23446  ...             1\n",
              "32822       37846  ...             0\n",
              "30263       43378  ...             0\n",
              "26060       32859  ...             0\n",
              "1341        37905  ...             1\n",
              "1480        43727  ...             0\n",
              "14652       17070  ...             1\n",
              "\n",
              "[10 rows x 13 columns]"
            ]
          },
          "metadata": {
            "tags": []
          },
          "execution_count": 61
        }
      ]
    },
    {
      "cell_type": "code",
      "metadata": {
        "id": "0MfwwL7fCJB7"
      },
      "source": [
        "breweries.drop(columns='brewery_types', inplace=True)"
      ],
      "execution_count": 62,
      "outputs": []
    },
    {
      "cell_type": "markdown",
      "metadata": {
        "id": "xLyQrnhbMkYM"
      },
      "source": [
        "#### Tidy Text Column"
      ]
    },
    {
      "cell_type": "code",
      "metadata": {
        "id": "5kTK5R1hMio9"
      },
      "source": [
        "breweries.brewery_name = breweries.brewery_name.str.replace('[^a-zA-Z]', ' ').str.lower()\r\n",
        "#breweries.brewery_city = breweries.brewery_city.str.replace('[^a-zA-Z]', ' ').str.lower()\r\n",
        "#breweries.brewery_state = breweries.brewery_state.str.replace('[^a-zA-Z]', ' ').str.lower()\r\n",
        "#breweries.brewery_country = breweries.brewery_country.str.replace('[^a-zA-Z]', ' ').str.lower()\r\n",
        "breweries.brewery_notes = breweries.brewery_notes.str.replace('[^a-zA-Z]', ' ').str.lower().str.strip()\r\n",
        "#breweries.brewery_types = breweries.brewery_types.str.replace('[^a-zA-Z]', ' ').str.lower()"
      ],
      "execution_count": 63,
      "outputs": []
    },
    {
      "cell_type": "code",
      "metadata": {
        "id": "XX6Y2Y5wNcYW"
      },
      "source": [
        "#breweries.head()"
      ],
      "execution_count": 64,
      "outputs": []
    },
    {
      "cell_type": "markdown",
      "metadata": {
        "id": "BC1NEgHcxQrN"
      },
      "source": [
        "### Recap"
      ]
    },
    {
      "cell_type": "code",
      "metadata": {
        "colab": {
          "base_uri": "https://localhost:8080/"
        },
        "id": "HuquToV_Vp2b",
        "outputId": "1fa5e688-ffb0-4036-8ac3-00bee42c6483"
      },
      "source": [
        "reviews.head()\r\n",
        "reviews.dtypes\r\n",
        "\r\n",
        "for x in reviews:\r\n",
        "  print(x, ': ', reviews[x].isnull().sum())"
      ],
      "execution_count": 65,
      "outputs": [
        {
          "output_type": "stream",
          "text": [
            "brewery_id :  0\n",
            "brewery_name :  0\n",
            "review_time :  0\n",
            "review_overall :  0\n",
            "review_aroma :  0\n",
            "review_appearance :  0\n",
            "review_profilename :  0\n",
            "beer_style :  0\n",
            "review_palate :  0\n",
            "review_taste :  0\n",
            "beer_name :  0\n",
            "beer_abv :  67785\n",
            "beer_id :  0\n"
          ],
          "name": "stdout"
        }
      ]
    },
    {
      "cell_type": "code",
      "metadata": {
        "colab": {
          "base_uri": "https://localhost:8080/"
        },
        "id": "6yjYVguNV0E6",
        "outputId": "9076ffee-647a-42d4-bfe5-3541838f6292"
      },
      "source": [
        "beers.head()\r\n",
        "beers.dtypes\r\n",
        "\r\n",
        "for x in beers:\r\n",
        "  print(x, ': ', beers[x].isnull().sum())"
      ],
      "execution_count": 66,
      "outputs": [
        {
          "output_type": "stream",
          "text": [
            "beer_id :  0\n",
            "beer_name :  0\n",
            "beer_style :  0\n",
            "beer_availability :  0\n",
            "beer_abv :  38797\n",
            "beer_notes :  0\n",
            "beer_retired :  0\n"
          ],
          "name": "stdout"
        }
      ]
    },
    {
      "cell_type": "code",
      "metadata": {
        "colab": {
          "base_uri": "https://localhost:8080/"
        },
        "id": "bJ7USyHgV5PQ",
        "outputId": "34252bff-d472-4899-c965-b83d342a8c8b"
      },
      "source": [
        "breweries.head()\r\n",
        "breweries.dtypes\r\n",
        "\r\n",
        "for x in breweries:\r\n",
        "  print(x, ': ', breweries[x].isnull().sum())"
      ],
      "execution_count": 67,
      "outputs": [
        {
          "output_type": "stream",
          "text": [
            "brewery_id :  0\n",
            "brewery_name :  0\n",
            "brewery_city :  0\n",
            "brewery_state :  0\n",
            "brewery_country :  0\n",
            "brewery_notes :  0\n",
            "brewery_bar :  0\n",
            "brewery_beertogo :  0\n",
            "brewery_brewery :  0\n",
            "brewery_eatery :  0\n",
            "brewery_homebrew :  0\n",
            "brewery_store :  0\n"
          ],
          "name": "stdout"
        }
      ]
    },
    {
      "cell_type": "markdown",
      "metadata": {
        "id": "foDDe21G6A6y"
      },
      "source": [
        "## Beers Analysis"
      ]
    },
    {
      "cell_type": "markdown",
      "metadata": {
        "id": "O6kkCCor6P03"
      },
      "source": [
        "Ahead of merging the Beers dataset with our Reviews data, I want to compare the beer information in both datasets to see if this matches correctly.\r\n",
        "\r\n",
        "To do this, I will look at three columns that are commom across the two datasets. This includes:\r\n",
        "* Beer ID\r\n",
        "* Beer Name\r\n",
        "* Beer Sytle\r\n",
        "\r\n",
        "Although Beer ABV is in both datasets, I will not look to use this as a matching criteria due the number of null values present in both the reviews and beers datasets.\r\n",
        "\r\n",
        "I will then look to match the data across all four areas to see if this works. If not, I will investigate to see the root cause."
      ]
    },
    {
      "cell_type": "markdown",
      "metadata": {
        "id": "wXY913exz-eR"
      },
      "source": [
        "### Create Beer Summary Files"
      ]
    },
    {
      "cell_type": "markdown",
      "metadata": {
        "id": "evb9hjix7lA5"
      },
      "source": [
        "#### Beer Summary (Reviews Data)"
      ]
    },
    {
      "cell_type": "markdown",
      "metadata": {
        "id": "gfABwgv9YE4r"
      },
      "source": [
        "First, I will summarise the Reviews dataset to beer-level using the grouby function.\r\n",
        "\r\n",
        "This shows that there are 66,055 different beers mentioned in the reviews dataset."
      ]
    },
    {
      "cell_type": "code",
      "metadata": {
        "id": "DvTKcqq0xP-S"
      },
      "source": [
        "reviews_beersumm = reviews.groupby(by=['beer_id', 'beer_name', 'beer_style'], as_index=False)['review_overall'].agg(['mean', 'count']).reset_index()"
      ],
      "execution_count": 68,
      "outputs": []
    },
    {
      "cell_type": "code",
      "metadata": {
        "id": "-lpchTGN3EAj"
      },
      "source": [
        "reviews_beersumm.drop(columns=['mean', 'count'], inplace=True)"
      ],
      "execution_count": 69,
      "outputs": []
    },
    {
      "cell_type": "code",
      "metadata": {
        "id": "47IsrYEx1u0W",
        "colab": {
          "base_uri": "https://localhost:8080/"
        },
        "outputId": "2af056ab-11d5-4b47-a48a-37ae85006da9"
      },
      "source": [
        "reviews_beersumm.beer_id.count()"
      ],
      "execution_count": 70,
      "outputs": [
        {
          "output_type": "execute_result",
          "data": {
            "text/plain": [
              "66055"
            ]
          },
          "metadata": {
            "tags": []
          },
          "execution_count": 70
        }
      ]
    },
    {
      "cell_type": "code",
      "metadata": {
        "colab": {
          "base_uri": "https://localhost:8080/"
        },
        "id": "eLO4Bby7i0LF",
        "outputId": "6c3f2e5d-707b-4158-ae6f-31e9efb07824"
      },
      "source": [
        "reviews.beer_id.nunique()\r\n",
        "#reviews.beer_name.nunique()"
      ],
      "execution_count": 71,
      "outputs": [
        {
          "output_type": "execute_result",
          "data": {
            "text/plain": [
              "66055"
            ]
          },
          "metadata": {
            "tags": []
          },
          "execution_count": 71
        }
      ]
    },
    {
      "cell_type": "code",
      "metadata": {
        "id": "Wi4ixrJS3RI3",
        "colab": {
          "base_uri": "https://localhost:8080/",
          "height": 0
        },
        "outputId": "bbfcd522-9250-4727-bfe3-9e7e504b268e"
      },
      "source": [
        "#reviews_beersumm.dtypes\r\n",
        "reviews_beersumm.head()"
      ],
      "execution_count": 72,
      "outputs": [
        {
          "output_type": "execute_result",
          "data": {
            "text/html": [
              "<div>\n",
              "<style scoped>\n",
              "    .dataframe tbody tr th:only-of-type {\n",
              "        vertical-align: middle;\n",
              "    }\n",
              "\n",
              "    .dataframe tbody tr th {\n",
              "        vertical-align: top;\n",
              "    }\n",
              "\n",
              "    .dataframe thead th {\n",
              "        text-align: right;\n",
              "    }\n",
              "</style>\n",
              "<table border=\"1\" class=\"dataframe\">\n",
              "  <thead>\n",
              "    <tr style=\"text-align: right;\">\n",
              "      <th></th>\n",
              "      <th>beer_id</th>\n",
              "      <th>beer_name</th>\n",
              "      <th>beer_style</th>\n",
              "    </tr>\n",
              "  </thead>\n",
              "  <tbody>\n",
              "    <tr>\n",
              "      <th>0</th>\n",
              "      <td>3</td>\n",
              "      <td>cactus queen ipa</td>\n",
              "      <td>american ipa</td>\n",
              "    </tr>\n",
              "    <tr>\n",
              "      <th>1</th>\n",
              "      <td>4</td>\n",
              "      <td>wildcatter s crude stout</td>\n",
              "      <td>american stout</td>\n",
              "    </tr>\n",
              "    <tr>\n",
              "      <th>2</th>\n",
              "      <td>5</td>\n",
              "      <td>amber</td>\n",
              "      <td>vienna lager</td>\n",
              "    </tr>\n",
              "    <tr>\n",
              "      <th>3</th>\n",
              "      <td>6</td>\n",
              "      <td>turbodog</td>\n",
              "      <td>english brown ale</td>\n",
              "    </tr>\n",
              "    <tr>\n",
              "      <th>4</th>\n",
              "      <td>7</td>\n",
              "      <td>purple haze</td>\n",
              "      <td>fruit   vegetable beer</td>\n",
              "    </tr>\n",
              "  </tbody>\n",
              "</table>\n",
              "</div>"
            ],
            "text/plain": [
              "   beer_id                 beer_name              beer_style\n",
              "0        3          cactus queen ipa            american ipa\n",
              "1        4  wildcatter s crude stout          american stout\n",
              "2        5                     amber            vienna lager\n",
              "3        6                  turbodog       english brown ale\n",
              "4        7               purple haze  fruit   vegetable beer"
            ]
          },
          "metadata": {
            "tags": []
          },
          "execution_count": 72
        }
      ]
    },
    {
      "cell_type": "markdown",
      "metadata": {
        "id": "YwELvuRyZiN0"
      },
      "source": [
        "#### Beer Summary (Beer Dataset)"
      ]
    },
    {
      "cell_type": "markdown",
      "metadata": {
        "id": "etEERNSSkU7b"
      },
      "source": [
        "Next, I look to check that beers dataset only contains rows for the number of unique beer_id - which it does (358,873). \r\n",
        "\r\n",
        "Following this, I reduced dataset to only the three columsn for our comparison."
      ]
    },
    {
      "cell_type": "code",
      "metadata": {
        "colab": {
          "base_uri": "https://localhost:8080/"
        },
        "id": "2apZpLEnj9AC",
        "outputId": "db3b0db8-97fb-4730-b677-e4a6ea724f63"
      },
      "source": [
        "beers.beer_id.count()"
      ],
      "execution_count": 73,
      "outputs": [
        {
          "output_type": "execute_result",
          "data": {
            "text/plain": [
              "358873"
            ]
          },
          "metadata": {
            "tags": []
          },
          "execution_count": 73
        }
      ]
    },
    {
      "cell_type": "code",
      "metadata": {
        "colab": {
          "base_uri": "https://localhost:8080/"
        },
        "id": "11SGJ2FfkB1W",
        "outputId": "267903e3-af70-44ca-f79a-03e4182a53c7"
      },
      "source": [
        "beers.beer_id.nunique()"
      ],
      "execution_count": 74,
      "outputs": [
        {
          "output_type": "execute_result",
          "data": {
            "text/plain": [
              "358873"
            ]
          },
          "metadata": {
            "tags": []
          },
          "execution_count": 74
        }
      ]
    },
    {
      "cell_type": "code",
      "metadata": {
        "id": "Mbztml6V32Ay"
      },
      "source": [
        "beersumm = beers.drop(columns=['beer_abv', 'beer_availability', 'beer_notes', 'beer_retired'])"
      ],
      "execution_count": 75,
      "outputs": []
    },
    {
      "cell_type": "code",
      "metadata": {
        "id": "OyPRte7Y2JBL",
        "colab": {
          "base_uri": "https://localhost:8080/",
          "height": 0
        },
        "outputId": "d50e905a-6d0b-42e7-873c-1a83ae6050d4"
      },
      "source": [
        "#beersumm.dtypes\r\n",
        "beersumm.head()"
      ],
      "execution_count": 76,
      "outputs": [
        {
          "output_type": "execute_result",
          "data": {
            "text/html": [
              "<div>\n",
              "<style scoped>\n",
              "    .dataframe tbody tr th:only-of-type {\n",
              "        vertical-align: middle;\n",
              "    }\n",
              "\n",
              "    .dataframe tbody tr th {\n",
              "        vertical-align: top;\n",
              "    }\n",
              "\n",
              "    .dataframe thead th {\n",
              "        text-align: right;\n",
              "    }\n",
              "</style>\n",
              "<table border=\"1\" class=\"dataframe\">\n",
              "  <thead>\n",
              "    <tr style=\"text-align: right;\">\n",
              "      <th></th>\n",
              "      <th>beer_id</th>\n",
              "      <th>beer_name</th>\n",
              "      <th>beer_style</th>\n",
              "    </tr>\n",
              "  </thead>\n",
              "  <tbody>\n",
              "    <tr>\n",
              "      <th>0</th>\n",
              "      <td>202522</td>\n",
              "      <td>olde cogitator</td>\n",
              "      <td>english oatmeal stout</td>\n",
              "    </tr>\n",
              "    <tr>\n",
              "      <th>1</th>\n",
              "      <td>82352</td>\n",
              "      <td>konrads stout russian imperial stout</td>\n",
              "      <td>russian imperial stout</td>\n",
              "    </tr>\n",
              "    <tr>\n",
              "      <th>2</th>\n",
              "      <td>214879</td>\n",
              "      <td>scottish right</td>\n",
              "      <td>scottish ale</td>\n",
              "    </tr>\n",
              "    <tr>\n",
              "      <th>3</th>\n",
              "      <td>320009</td>\n",
              "      <td>megameow imperial stout</td>\n",
              "      <td>american imperial stout</td>\n",
              "    </tr>\n",
              "    <tr>\n",
              "      <th>4</th>\n",
              "      <td>246438</td>\n",
              "      <td>peaches n cream</td>\n",
              "      <td>american cream ale</td>\n",
              "    </tr>\n",
              "  </tbody>\n",
              "</table>\n",
              "</div>"
            ],
            "text/plain": [
              "   beer_id                             beer_name               beer_style\n",
              "0   202522                        olde cogitator    english oatmeal stout\n",
              "1    82352  konrads stout russian imperial stout   russian imperial stout\n",
              "2   214879                        scottish right             scottish ale\n",
              "3   320009               megameow imperial stout  american imperial stout\n",
              "4   246438                       peaches n cream       american cream ale"
            ]
          },
          "metadata": {
            "tags": []
          },
          "execution_count": 76
        }
      ]
    },
    {
      "cell_type": "markdown",
      "metadata": {
        "id": "IfVx6Q790PSl"
      },
      "source": [
        "### Identify Matching Beers"
      ]
    },
    {
      "cell_type": "markdown",
      "metadata": {
        "id": "buwQz-aJ7pPf"
      },
      "source": [
        "#### Merge Summary Data"
      ]
    },
    {
      "cell_type": "markdown",
      "metadata": {
        "id": "fWT5fmoJYxNS"
      },
      "source": [
        "Now, I'll merge the two datasets together to allow for comparing values across them.\r\n",
        "\r\n",
        "The 66,055 beers is the number we wanted to see here given we did a left join on the beers from review dataset."
      ]
    },
    {
      "cell_type": "code",
      "metadata": {
        "id": "AONtgZu07r4d"
      },
      "source": [
        "beersumm_merge = pd.merge(reviews_beersumm, beersumm, how='left', on=['beer_id'])"
      ],
      "execution_count": 77,
      "outputs": []
    },
    {
      "cell_type": "code",
      "metadata": {
        "id": "FPujJPRf-Ewr",
        "colab": {
          "base_uri": "https://localhost:8080/",
          "height": 0
        },
        "outputId": "7858835a-e18d-4aa5-a131-92185aae8093"
      },
      "source": [
        "beersumm_merge.head()"
      ],
      "execution_count": 78,
      "outputs": [
        {
          "output_type": "execute_result",
          "data": {
            "text/html": [
              "<div>\n",
              "<style scoped>\n",
              "    .dataframe tbody tr th:only-of-type {\n",
              "        vertical-align: middle;\n",
              "    }\n",
              "\n",
              "    .dataframe tbody tr th {\n",
              "        vertical-align: top;\n",
              "    }\n",
              "\n",
              "    .dataframe thead th {\n",
              "        text-align: right;\n",
              "    }\n",
              "</style>\n",
              "<table border=\"1\" class=\"dataframe\">\n",
              "  <thead>\n",
              "    <tr style=\"text-align: right;\">\n",
              "      <th></th>\n",
              "      <th>beer_id</th>\n",
              "      <th>beer_name_x</th>\n",
              "      <th>beer_style_x</th>\n",
              "      <th>beer_name_y</th>\n",
              "      <th>beer_style_y</th>\n",
              "    </tr>\n",
              "  </thead>\n",
              "  <tbody>\n",
              "    <tr>\n",
              "      <th>0</th>\n",
              "      <td>3</td>\n",
              "      <td>cactus queen ipa</td>\n",
              "      <td>american ipa</td>\n",
              "      <td>cactus queen ipa</td>\n",
              "      <td>american ipa</td>\n",
              "    </tr>\n",
              "    <tr>\n",
              "      <th>1</th>\n",
              "      <td>4</td>\n",
              "      <td>wildcatter s crude stout</td>\n",
              "      <td>american stout</td>\n",
              "      <td>wildcatter s crude stout</td>\n",
              "      <td>american stout</td>\n",
              "    </tr>\n",
              "    <tr>\n",
              "      <th>2</th>\n",
              "      <td>5</td>\n",
              "      <td>amber</td>\n",
              "      <td>vienna lager</td>\n",
              "      <td>amber</td>\n",
              "      <td>vienna lager</td>\n",
              "    </tr>\n",
              "    <tr>\n",
              "      <th>3</th>\n",
              "      <td>6</td>\n",
              "      <td>turbodog</td>\n",
              "      <td>english brown ale</td>\n",
              "      <td>turbodog</td>\n",
              "      <td>english brown ale</td>\n",
              "    </tr>\n",
              "    <tr>\n",
              "      <th>4</th>\n",
              "      <td>7</td>\n",
              "      <td>purple haze</td>\n",
              "      <td>fruit   vegetable beer</td>\n",
              "      <td>purple haze</td>\n",
              "      <td>fruit and field beer</td>\n",
              "    </tr>\n",
              "  </tbody>\n",
              "</table>\n",
              "</div>"
            ],
            "text/plain": [
              "   beer_id  ...          beer_style_y\n",
              "0        3  ...          american ipa\n",
              "1        4  ...        american stout\n",
              "2        5  ...          vienna lager\n",
              "3        6  ...     english brown ale\n",
              "4        7  ...  fruit and field beer\n",
              "\n",
              "[5 rows x 5 columns]"
            ]
          },
          "metadata": {
            "tags": []
          },
          "execution_count": 78
        }
      ]
    },
    {
      "cell_type": "code",
      "metadata": {
        "colab": {
          "base_uri": "https://localhost:8080/"
        },
        "id": "0r_PD6eIbEr5",
        "outputId": "d529f313-906c-4e60-e624-ea1c930cf055"
      },
      "source": [
        "beersumm_merge.beer_id.count()"
      ],
      "execution_count": 79,
      "outputs": [
        {
          "output_type": "execute_result",
          "data": {
            "text/plain": [
              "66055"
            ]
          },
          "metadata": {
            "tags": []
          },
          "execution_count": 79
        }
      ]
    },
    {
      "cell_type": "markdown",
      "metadata": {
        "id": "3WkTz-PgAjib"
      },
      "source": [
        "#### How many missing values?"
      ]
    },
    {
      "cell_type": "markdown",
      "metadata": {
        "id": "E9Q_E-LQ-pz7"
      },
      "source": [
        "The first comparison I will do is to see how many null values are in this comparison dataset - this will indicate if a beer is in the review dataset, but not in the beers dataset). \r\n",
        "\r\n",
        "Doing this, shows that 564 beers (or less than 1%) are in the Reviews dataset are not in the Beers dataset."
      ]
    },
    {
      "cell_type": "code",
      "metadata": {
        "id": "HlW9zNJw9Ub2",
        "colab": {
          "base_uri": "https://localhost:8080/"
        },
        "outputId": "3f8194fb-c874-4936-a69e-0d4adbf07785"
      },
      "source": [
        "nulls = beersumm_merge.beer_name_y.isnull().sum()\r\n",
        "total_rows = beersumm_merge.beer_id.count()\r\n",
        "\r\n",
        "print('Name null values: ', nulls)\r\n",
        "print('% of data: ', round(((nulls / total_rows) * 100), 2))"
      ],
      "execution_count": 80,
      "outputs": [
        {
          "output_type": "stream",
          "text": [
            "Name null values:  564\n",
            "% of data:  0.85\n"
          ],
          "name": "stdout"
        }
      ]
    },
    {
      "cell_type": "code",
      "metadata": {
        "id": "q26MAGia9xfp",
        "colab": {
          "base_uri": "https://localhost:8080/"
        },
        "outputId": "46369cac-db2f-4f8d-dce3-dc5114f805a9"
      },
      "source": [
        "nulls = beersumm_merge.beer_style_y.isnull().sum()\r\n",
        "total_rows = beersumm_merge.beer_id.count()\r\n",
        "\r\n",
        "print('Name null values: ', nulls)\r\n",
        "print('% of data: ', round(((nulls / total_rows) * 100), 2))"
      ],
      "execution_count": 81,
      "outputs": [
        {
          "output_type": "stream",
          "text": [
            "Name null values:  564\n",
            "% of data:  0.85\n"
          ],
          "name": "stdout"
        }
      ]
    },
    {
      "cell_type": "markdown",
      "metadata": {
        "id": "o6eKQ-c9AoWR"
      },
      "source": [
        "#### How many mismatched beers?"
      ]
    },
    {
      "cell_type": "markdown",
      "metadata": {
        "id": "FUEzpXPDZihf"
      },
      "source": [
        "Next, I looked at whether the other columns across the datasets matched. The question here is that - even though the unique ID matched - do the beer names and beer styles match across datasets? \r\n",
        "\r\n",
        "Unfortunately, this brings up a few concerns as there are a large number of mismatched rows between the datasest - beer names (10.3%) and beer style (47.5%).\r\n",
        "\r\n",
        "However, from review of the mistach columns, a lot of the names and styles were entered in slightly different but represented the same thing. Examples of this include:\r\n",
        "* Beer Styles\r\n",
        "  * English Old Ale vs Old Ale\r\n",
        "  * Belgian Witbier vs Witbier\r\n",
        "* Beer Names\r\n",
        "  * George Killian's Irish Red vs Killian's Irish Red\r\n",
        "  * Nemesis 2009 vs Founders Nemesis 2009\r\n",
        "\r\n",
        "In the next section, we look at how we use link the datasets to take account of these close but not exact records."
      ]
    },
    {
      "cell_type": "code",
      "metadata": {
        "id": "zCskMW0-Av4R",
        "colab": {
          "base_uri": "https://localhost:8080/"
        },
        "outputId": "12ca4e71-834b-49ee-ae14-97a18b1ed2ed"
      },
      "source": [
        "mismatch = beersumm_merge[beersumm_merge.beer_name_x != beersumm_merge.beer_name_y]['beer_id'].count()\r\n",
        "\r\n",
        "print('Mismatch Rows: ', mismatch)\r\n",
        "print('% of data: ', round(((mismatch / total_rows) * 100), 2))"
      ],
      "execution_count": 82,
      "outputs": [
        {
          "output_type": "stream",
          "text": [
            "Mismatch Rows:  6830\n",
            "% of data:  10.34\n"
          ],
          "name": "stdout"
        }
      ]
    },
    {
      "cell_type": "code",
      "metadata": {
        "id": "4eupMYz8Bfyf",
        "colab": {
          "base_uri": "https://localhost:8080/"
        },
        "outputId": "24f33bc2-5d02-479a-9a34-133114f2f783"
      },
      "source": [
        "mismatch = beersumm_merge[beersumm_merge.beer_style_x != beersumm_merge.beer_style_y]['beer_id'].count()\r\n",
        "\r\n",
        "print('Mismatch Rows: ', mismatch)\r\n",
        "print('% of data: ', round(((mismatch / total_rows) * 100), 2))"
      ],
      "execution_count": 83,
      "outputs": [
        {
          "output_type": "stream",
          "text": [
            "Mismatch Rows:  31389\n",
            "% of data:  47.52\n"
          ],
          "name": "stdout"
        }
      ]
    },
    {
      "cell_type": "code",
      "metadata": {
        "id": "raUexi_HBvYW",
        "colab": {
          "base_uri": "https://localhost:8080/",
          "height": 0
        },
        "outputId": "fe8f0410-1dbe-42f9-b7dc-a2921db7121c"
      },
      "source": [
        "beersumm_merge[beersumm_merge.beer_name_x != beersumm_merge.beer_name_y][['beer_name_x', 'beer_name_y']].sample(5)"
      ],
      "execution_count": 84,
      "outputs": [
        {
          "output_type": "execute_result",
          "data": {
            "text/html": [
              "<div>\n",
              "<style scoped>\n",
              "    .dataframe tbody tr th:only-of-type {\n",
              "        vertical-align: middle;\n",
              "    }\n",
              "\n",
              "    .dataframe tbody tr th {\n",
              "        vertical-align: top;\n",
              "    }\n",
              "\n",
              "    .dataframe thead th {\n",
              "        text-align: right;\n",
              "    }\n",
              "</style>\n",
              "<table border=\"1\" class=\"dataframe\">\n",
              "  <thead>\n",
              "    <tr style=\"text-align: right;\">\n",
              "      <th></th>\n",
              "      <th>beer_name_x</th>\n",
              "      <th>beer_name_y</th>\n",
              "    </tr>\n",
              "  </thead>\n",
              "  <tbody>\n",
              "    <tr>\n",
              "      <th>18040</th>\n",
              "      <td>india pale ale</td>\n",
              "      <td>roundhouse india pale ale</td>\n",
              "    </tr>\n",
              "    <tr>\n",
              "      <th>51456</th>\n",
              "      <td>idiot sauvin</td>\n",
              "      <td>savant</td>\n",
              "    </tr>\n",
              "    <tr>\n",
              "      <th>37647</th>\n",
              "      <td>matilda bay sebastian reserve</td>\n",
              "      <td>sebastian reserve</td>\n",
              "    </tr>\n",
              "    <tr>\n",
              "      <th>62323</th>\n",
              "      <td>belgian strong ale</td>\n",
              "      <td>brewer s reserve blackfoot river belgian stron...</td>\n",
              "    </tr>\n",
              "    <tr>\n",
              "      <th>9882</th>\n",
              "      <td>funk</td>\n",
              "      <td>NaN</td>\n",
              "    </tr>\n",
              "  </tbody>\n",
              "</table>\n",
              "</div>"
            ],
            "text/plain": [
              "                         beer_name_x                                        beer_name_y\n",
              "18040                 india pale ale                          roundhouse india pale ale\n",
              "51456                   idiot sauvin                                             savant\n",
              "37647  matilda bay sebastian reserve                                  sebastian reserve\n",
              "62323             belgian strong ale  brewer s reserve blackfoot river belgian stron...\n",
              "9882                            funk                                                NaN"
            ]
          },
          "metadata": {
            "tags": []
          },
          "execution_count": 84
        }
      ]
    },
    {
      "cell_type": "code",
      "metadata": {
        "id": "amPB1ytyawRf",
        "colab": {
          "base_uri": "https://localhost:8080/",
          "height": 0
        },
        "outputId": "78961321-d57a-4db9-9f57-bb2355b9801f"
      },
      "source": [
        "beersumm_merge[beersumm_merge.beer_style_x != beersumm_merge.beer_style_y][['beer_style_x', 'beer_style_y']].sample(5)"
      ],
      "execution_count": 85,
      "outputs": [
        {
          "output_type": "execute_result",
          "data": {
            "text/html": [
              "<div>\n",
              "<style scoped>\n",
              "    .dataframe tbody tr th:only-of-type {\n",
              "        vertical-align: middle;\n",
              "    }\n",
              "\n",
              "    .dataframe tbody tr th {\n",
              "        vertical-align: top;\n",
              "    }\n",
              "\n",
              "    .dataframe thead th {\n",
              "        text-align: right;\n",
              "    }\n",
              "</style>\n",
              "<table border=\"1\" class=\"dataframe\">\n",
              "  <thead>\n",
              "    <tr style=\"text-align: right;\">\n",
              "      <th></th>\n",
              "      <th>beer_style_x</th>\n",
              "      <th>beer_style_y</th>\n",
              "    </tr>\n",
              "  </thead>\n",
              "  <tbody>\n",
              "    <tr>\n",
              "      <th>16931</th>\n",
              "      <td>bock</td>\n",
              "      <td>german bock</td>\n",
              "    </tr>\n",
              "    <tr>\n",
              "      <th>16028</th>\n",
              "      <td>american pale lager</td>\n",
              "      <td>american lager</td>\n",
              "    </tr>\n",
              "    <tr>\n",
              "      <th>4590</th>\n",
              "      <td>smoked beer</td>\n",
              "      <td>smoke beer</td>\n",
              "    </tr>\n",
              "    <tr>\n",
              "      <th>24945</th>\n",
              "      <td>maibock   helles bock</td>\n",
              "      <td>german maibock</td>\n",
              "    </tr>\n",
              "    <tr>\n",
              "      <th>65497</th>\n",
              "      <td>saison   farmhouse ale</td>\n",
              "      <td>belgian saison</td>\n",
              "    </tr>\n",
              "  </tbody>\n",
              "</table>\n",
              "</div>"
            ],
            "text/plain": [
              "                 beer_style_x    beer_style_y\n",
              "16931                    bock     german bock\n",
              "16028     american pale lager  american lager\n",
              "4590              smoked beer      smoke beer\n",
              "24945   maibock   helles bock  german maibock\n",
              "65497  saison   farmhouse ale  belgian saison"
            ]
          },
          "metadata": {
            "tags": []
          },
          "execution_count": 85
        }
      ]
    },
    {
      "cell_type": "markdown",
      "metadata": {
        "id": "fiR67GhjLYkl"
      },
      "source": [
        "#### Using Record Linkage to find pairs"
      ]
    },
    {
      "cell_type": "markdown",
      "metadata": {
        "id": "PKTGzJnWndPr"
      },
      "source": [
        "As we don't want to loss all the data related to the beers where there is not an exact match, I look to apply the recordlinkage package to the dataset to identify the beers from the beers dataset that pair well (but not exactly) with the reviews dataset. \r\n",
        "\r\n",
        "To do this, I apply the following criteria and state that two of these must be met to match the beer dataset to the reviews:\r\n",
        "*   Exact match on beer_id\r\n",
        "*   Match on beer_name at 0.9 threshold\r\n",
        "*   Match on beer_style at 0.9 threshold\r\n",
        "\r\n",
        "This leaves us with 63,080 of the review beers matching (or 95.5%). These are saved in a new dataset called beers_new that we will use to merge to the reviews dataset next."
      ]
    },
    {
      "cell_type": "code",
      "metadata": {
        "id": "3YhV9QYpNctN",
        "colab": {
          "base_uri": "https://localhost:8080/"
        },
        "outputId": "86e317ed-dfc5-48b3-b41d-99112959c5e9"
      },
      "source": [
        "! pip install recordlinkage"
      ],
      "execution_count": 86,
      "outputs": [
        {
          "output_type": "stream",
          "text": [
            "Requirement already satisfied: recordlinkage in /usr/local/lib/python3.7/dist-packages (0.14)\n",
            "Requirement already satisfied: jellyfish>=0.5.4 in /usr/local/lib/python3.7/dist-packages (from recordlinkage) (0.8.2)\n",
            "Requirement already satisfied: joblib in /usr/local/lib/python3.7/dist-packages (from recordlinkage) (1.0.1)\n",
            "Requirement already satisfied: scikit-learn>=0.19.0 in /usr/local/lib/python3.7/dist-packages (from recordlinkage) (0.22.2.post1)\n",
            "Requirement already satisfied: scipy>=1 in /usr/local/lib/python3.7/dist-packages (from recordlinkage) (1.4.1)\n",
            "Requirement already satisfied: pandas>=0.23 in /usr/local/lib/python3.7/dist-packages (from recordlinkage) (1.1.5)\n",
            "Requirement already satisfied: numpy>=1.13.0 in /usr/local/lib/python3.7/dist-packages (from recordlinkage) (1.19.5)\n",
            "Requirement already satisfied: pytz>=2017.2 in /usr/local/lib/python3.7/dist-packages (from pandas>=0.23->recordlinkage) (2018.9)\n",
            "Requirement already satisfied: python-dateutil>=2.7.3 in /usr/local/lib/python3.7/dist-packages (from pandas>=0.23->recordlinkage) (2.8.1)\n",
            "Requirement already satisfied: six>=1.5 in /usr/local/lib/python3.7/dist-packages (from python-dateutil>=2.7.3->pandas>=0.23->recordlinkage) (1.15.0)\n"
          ],
          "name": "stdout"
        }
      ]
    },
    {
      "cell_type": "code",
      "metadata": {
        "id": "4_voWqdxLbgP"
      },
      "source": [
        "# Import recordlinkage\r\n",
        "import recordlinkage\r\n",
        "\r\n",
        "# Create indexing object\r\n",
        "indexer = recordlinkage.Index()\r\n",
        "\r\n",
        "# Generate pairs blocked on id\r\n",
        "indexer.block('beer_id')\r\n",
        "pairs = indexer.index(reviews_beersumm, beersumm)\r\n",
        "\r\n",
        "# Generate the pairs\r\n",
        "pairs = indexer.index(reviews_beersumm, beersumm)\r\n",
        "\r\n",
        "# Create a Compare object\r\n",
        "compare_cl = recordlinkage.Compare()\r\n",
        "\r\n",
        "# Find exact matches for pairs of id and abv\r\n",
        "compare_cl.exact('beer_id', 'beer_id', label='beer_id')\r\n",
        "#compare_cl.exact('beer_abv', 'beer_abv', label='beer_abv')\r\n",
        "\r\n",
        "# Find similar matches for pairs of beer_name and beer_style using string similarity\r\n",
        "compare_cl.string('beer_name', 'beer_name', threshold=0.8, label='beer_name')\r\n",
        "compare_cl.string('beer_style', 'beer_style', threshold=0.8, label='beer_style')\r\n",
        "\r\n",
        "# Find matches\r\n",
        "potential_matches = compare_cl.compute(pairs, reviews_beersumm, beersumm)"
      ],
      "execution_count": 87,
      "outputs": []
    },
    {
      "cell_type": "code",
      "metadata": {
        "id": "bZviAuMdNtuh",
        "colab": {
          "base_uri": "https://localhost:8080/",
          "height": 0
        },
        "outputId": "8a558b75-62a3-4648-8e43-1760a4408ce5"
      },
      "source": [
        "potential_matches\r\n",
        "potential_matches[potential_matches.sum(axis = 1) >= 2]"
      ],
      "execution_count": 88,
      "outputs": [
        {
          "output_type": "execute_result",
          "data": {
            "text/html": [
              "<div>\n",
              "<style scoped>\n",
              "    .dataframe tbody tr th:only-of-type {\n",
              "        vertical-align: middle;\n",
              "    }\n",
              "\n",
              "    .dataframe tbody tr th {\n",
              "        vertical-align: top;\n",
              "    }\n",
              "\n",
              "    .dataframe thead th {\n",
              "        text-align: right;\n",
              "    }\n",
              "</style>\n",
              "<table border=\"1\" class=\"dataframe\">\n",
              "  <thead>\n",
              "    <tr style=\"text-align: right;\">\n",
              "      <th></th>\n",
              "      <th></th>\n",
              "      <th>beer_id</th>\n",
              "      <th>beer_name</th>\n",
              "      <th>beer_style</th>\n",
              "    </tr>\n",
              "  </thead>\n",
              "  <tbody>\n",
              "    <tr>\n",
              "      <th>0</th>\n",
              "      <th>8752</th>\n",
              "      <td>1</td>\n",
              "      <td>1.0</td>\n",
              "      <td>1.0</td>\n",
              "    </tr>\n",
              "    <tr>\n",
              "      <th>1</th>\n",
              "      <th>8760</th>\n",
              "      <td>1</td>\n",
              "      <td>1.0</td>\n",
              "      <td>1.0</td>\n",
              "    </tr>\n",
              "    <tr>\n",
              "      <th>2</th>\n",
              "      <th>8817</th>\n",
              "      <td>1</td>\n",
              "      <td>1.0</td>\n",
              "      <td>1.0</td>\n",
              "    </tr>\n",
              "    <tr>\n",
              "      <th>3</th>\n",
              "      <th>8818</th>\n",
              "      <td>1</td>\n",
              "      <td>1.0</td>\n",
              "      <td>1.0</td>\n",
              "    </tr>\n",
              "    <tr>\n",
              "      <th>4</th>\n",
              "      <th>8819</th>\n",
              "      <td>1</td>\n",
              "      <td>1.0</td>\n",
              "      <td>0.0</td>\n",
              "    </tr>\n",
              "    <tr>\n",
              "      <th>...</th>\n",
              "      <th>...</th>\n",
              "      <td>...</td>\n",
              "      <td>...</td>\n",
              "      <td>...</td>\n",
              "    </tr>\n",
              "    <tr>\n",
              "      <th>66050</th>\n",
              "      <th>115051</th>\n",
              "      <td>1</td>\n",
              "      <td>1.0</td>\n",
              "      <td>1.0</td>\n",
              "    </tr>\n",
              "    <tr>\n",
              "      <th>66051</th>\n",
              "      <th>321177</th>\n",
              "      <td>1</td>\n",
              "      <td>1.0</td>\n",
              "      <td>1.0</td>\n",
              "    </tr>\n",
              "    <tr>\n",
              "      <th>66052</th>\n",
              "      <th>84528</th>\n",
              "      <td>1</td>\n",
              "      <td>1.0</td>\n",
              "      <td>0.0</td>\n",
              "    </tr>\n",
              "    <tr>\n",
              "      <th>66053</th>\n",
              "      <th>97999</th>\n",
              "      <td>1</td>\n",
              "      <td>1.0</td>\n",
              "      <td>1.0</td>\n",
              "    </tr>\n",
              "    <tr>\n",
              "      <th>66054</th>\n",
              "      <th>23356</th>\n",
              "      <td>1</td>\n",
              "      <td>1.0</td>\n",
              "      <td>0.0</td>\n",
              "    </tr>\n",
              "  </tbody>\n",
              "</table>\n",
              "<p>63080 rows × 3 columns</p>\n",
              "</div>"
            ],
            "text/plain": [
              "              beer_id  beer_name  beer_style\n",
              "0     8752          1        1.0         1.0\n",
              "1     8760          1        1.0         1.0\n",
              "2     8817          1        1.0         1.0\n",
              "3     8818          1        1.0         1.0\n",
              "4     8819          1        1.0         0.0\n",
              "...               ...        ...         ...\n",
              "66050 115051        1        1.0         1.0\n",
              "66051 321177        1        1.0         1.0\n",
              "66052 84528         1        1.0         0.0\n",
              "66053 97999         1        1.0         1.0\n",
              "66054 23356         1        1.0         0.0\n",
              "\n",
              "[63080 rows x 3 columns]"
            ]
          },
          "metadata": {
            "tags": []
          },
          "execution_count": 88
        }
      ]
    },
    {
      "cell_type": "code",
      "metadata": {
        "id": "_GFndqm7O3rh",
        "colab": {
          "base_uri": "https://localhost:8080/"
        },
        "outputId": "cd8d7c43-c0b8-441c-ce98-280fc8013a23"
      },
      "source": [
        "potential_matches['beer_id'].count()\r\n",
        "match_rows = potential_matches[potential_matches.sum(axis = 1) >= 2]['beer_id'].count()\r\n",
        "\r\n",
        "print('Potential Match Rows: ', match_rows)\r\n",
        "print('No Beer Match: ', total_rows - match_rows)\r\n",
        "print('% of data: ', round(((match_rows / total_rows) * 100), 2))"
      ],
      "execution_count": 89,
      "outputs": [
        {
          "output_type": "stream",
          "text": [
            "Potential Match Rows:  63080\n",
            "No Beer Match:  2975\n",
            "% of data:  95.5\n"
          ],
          "name": "stdout"
        }
      ]
    },
    {
      "cell_type": "code",
      "metadata": {
        "id": "raFt2F8rb02y"
      },
      "source": [
        "#potential_matches['beer_name'].sum()\r\n",
        "#potential_matches['beer_style'].sum()"
      ],
      "execution_count": 90,
      "outputs": []
    },
    {
      "cell_type": "code",
      "metadata": {
        "id": "VHKnTQ63Uijd",
        "colab": {
          "base_uri": "https://localhost:8080/",
          "height": 0
        },
        "outputId": "34d9b205-905e-4c74-debe-b02abfb5f9a7"
      },
      "source": [
        "matches = potential_matches[potential_matches.sum(axis = 1) >= 2]\r\n",
        "match_index = matches.index.get_level_values(1)\r\n",
        "beers_new = beers[beers.index.isin(match_index)]\r\n",
        "beers_new.head()"
      ],
      "execution_count": 91,
      "outputs": [
        {
          "output_type": "execute_result",
          "data": {
            "text/html": [
              "<div>\n",
              "<style scoped>\n",
              "    .dataframe tbody tr th:only-of-type {\n",
              "        vertical-align: middle;\n",
              "    }\n",
              "\n",
              "    .dataframe tbody tr th {\n",
              "        vertical-align: top;\n",
              "    }\n",
              "\n",
              "    .dataframe thead th {\n",
              "        text-align: right;\n",
              "    }\n",
              "</style>\n",
              "<table border=\"1\" class=\"dataframe\">\n",
              "  <thead>\n",
              "    <tr style=\"text-align: right;\">\n",
              "      <th></th>\n",
              "      <th>beer_id</th>\n",
              "      <th>beer_name</th>\n",
              "      <th>beer_style</th>\n",
              "      <th>beer_availability</th>\n",
              "      <th>beer_abv</th>\n",
              "      <th>beer_notes</th>\n",
              "      <th>beer_retired</th>\n",
              "    </tr>\n",
              "  </thead>\n",
              "  <tbody>\n",
              "    <tr>\n",
              "      <th>5</th>\n",
              "      <td>8036</td>\n",
              "      <td>world burp beer</td>\n",
              "      <td>japanese rice lager</td>\n",
              "      <td>limited  brewed once</td>\n",
              "      <td>5.5</td>\n",
              "      <td>no notes at this time</td>\n",
              "      <td>t</td>\n",
              "    </tr>\n",
              "    <tr>\n",
              "      <th>9</th>\n",
              "      <td>29556</td>\n",
              "      <td>warrior s bock</td>\n",
              "      <td>german bock</td>\n",
              "      <td>rotating</td>\n",
              "      <td>7.5</td>\n",
              "      <td>no notes at this time</td>\n",
              "      <td>t</td>\n",
              "    </tr>\n",
              "    <tr>\n",
              "      <th>12</th>\n",
              "      <td>15271</td>\n",
              "      <td>belgian style wit</td>\n",
              "      <td>belgian witbier</td>\n",
              "      <td>year round</td>\n",
              "      <td>4.5</td>\n",
              "      <td>no notes at this time</td>\n",
              "      <td>t</td>\n",
              "    </tr>\n",
              "    <tr>\n",
              "      <th>13</th>\n",
              "      <td>69212</td>\n",
              "      <td>r serve no</td>\n",
              "      <td>american strong ale</td>\n",
              "      <td>limited  brewed once</td>\n",
              "      <td>11.8</td>\n",
              "      <td>no notes at this time</td>\n",
              "      <td>t</td>\n",
              "    </tr>\n",
              "    <tr>\n",
              "      <th>21</th>\n",
              "      <td>15645</td>\n",
              "      <td>cerveza india</td>\n",
              "      <td>american adjunct lager</td>\n",
              "      <td>year round</td>\n",
              "      <td>NaN</td>\n",
              "      <td>no notes at this time</td>\n",
              "      <td>t</td>\n",
              "    </tr>\n",
              "  </tbody>\n",
              "</table>\n",
              "</div>"
            ],
            "text/plain": [
              "    beer_id             beer_name  ...              beer_notes beer_retired\n",
              "5      8036  world burp beer       ...  no notes at this time             t\n",
              "9     29556        warrior s bock  ...  no notes at this time             t\n",
              "12    15271     belgian style wit  ...  no notes at this time             t\n",
              "13    69212         r serve no     ...  no notes at this time             t\n",
              "21    15645         cerveza india  ...  no notes at this time             t\n",
              "\n",
              "[5 rows x 7 columns]"
            ]
          },
          "metadata": {
            "tags": []
          },
          "execution_count": 91
        }
      ]
    },
    {
      "cell_type": "markdown",
      "metadata": {
        "id": "2tmVrCM30-UD"
      },
      "source": [
        "### Bringing it all together"
      ]
    },
    {
      "cell_type": "code",
      "metadata": {
        "id": "VqD6w8YQ-the"
      },
      "source": [
        "df = pd.merge(reviews, beers_new, how='left', on='beer_id')"
      ],
      "execution_count": 92,
      "outputs": []
    },
    {
      "cell_type": "code",
      "metadata": {
        "colab": {
          "base_uri": "https://localhost:8080/"
        },
        "id": "O0WEzjzy_sP7",
        "outputId": "1ab29bdd-c0a7-4a3b-a63d-fe972c40b8e3"
      },
      "source": [
        "for x in df:\r\n",
        "  print(x, ': ', df[x].isnull().sum())"
      ],
      "execution_count": 93,
      "outputs": [
        {
          "output_type": "stream",
          "text": [
            "brewery_id :  0\n",
            "brewery_name :  0\n",
            "review_time :  0\n",
            "review_overall :  0\n",
            "review_aroma :  0\n",
            "review_appearance :  0\n",
            "review_profilename :  0\n",
            "beer_style_x :  0\n",
            "review_palate :  0\n",
            "review_taste :  0\n",
            "beer_name_x :  0\n",
            "beer_abv_x :  67785\n",
            "beer_id :  0\n",
            "beer_name_y :  170924\n",
            "beer_style_y :  170924\n",
            "beer_availability :  170924\n",
            "beer_abv_y :  218058\n",
            "beer_notes :  170924\n",
            "beer_retired :  170924\n"
          ],
          "name": "stdout"
        }
      ]
    },
    {
      "cell_type": "markdown",
      "metadata": {
        "id": "vNax5d7nCE56"
      },
      "source": [
        "### Tidying Up"
      ]
    },
    {
      "cell_type": "markdown",
      "metadata": {
        "id": "NNrVKmkHyx00"
      },
      "source": [
        "#### ABV Missing Values"
      ]
    },
    {
      "cell_type": "markdown",
      "metadata": {
        "id": "9sa098Guy4_x"
      },
      "source": [
        "First, I look to replace any missing values in the initial Reviews ABV column with ABV values from the Beers dataset - this reduces the number of missing values from 67,785 to 50,431."
      ]
    },
    {
      "cell_type": "code",
      "metadata": {
        "id": "xDs2wZuZCtsL"
      },
      "source": [
        "df.beer_abv_x.fillna(df.beer_abv_y, inplace=True)"
      ],
      "execution_count": 94,
      "outputs": []
    },
    {
      "cell_type": "code",
      "metadata": {
        "colab": {
          "base_uri": "https://localhost:8080/"
        },
        "id": "t0MzypukDqcL",
        "outputId": "22ed5988-4a24-49fa-be1e-e17bcd22bcdd"
      },
      "source": [
        "for x in df:\r\n",
        "  print(x, ': ', df[x].isnull().sum())"
      ],
      "execution_count": 95,
      "outputs": [
        {
          "output_type": "stream",
          "text": [
            "brewery_id :  0\n",
            "brewery_name :  0\n",
            "review_time :  0\n",
            "review_overall :  0\n",
            "review_aroma :  0\n",
            "review_appearance :  0\n",
            "review_profilename :  0\n",
            "beer_style_x :  0\n",
            "review_palate :  0\n",
            "review_taste :  0\n",
            "beer_name_x :  0\n",
            "beer_abv_x :  50431\n",
            "beer_id :  0\n",
            "beer_name_y :  170924\n",
            "beer_style_y :  170924\n",
            "beer_availability :  170924\n",
            "beer_abv_y :  218058\n",
            "beer_notes :  170924\n",
            "beer_retired :  170924\n"
          ],
          "name": "stdout"
        }
      ]
    },
    {
      "cell_type": "markdown",
      "metadata": {
        "id": "dZV9tXvgoIBb"
      },
      "source": [
        "#### ABV Difference"
      ]
    },
    {
      "cell_type": "markdown",
      "metadata": {
        "id": "6NleA1bvorXU"
      },
      "source": [
        "I looked at the difference in ABV between the two datasets. \r\n",
        "\r\n",
        "Initially, there looks like there is a large number rows with ABV discrepencies that we will have to account for (424,679). However, looking in more detail shows that over half these (218,058) are related to null values for ABV in either the Beers or Reviews dataset. \r\n",
        "\r\n",
        "The remaining discrepencies (206,621) are then plotted on a histogram to see the distribution of differences. This shows are a normal distribution around 0. The change in ABV could be related to different variations of the beer having slightly higher or lower ABV but should not impact on the addtional information provided for the dataset. \r\n",
        "\r\n",
        "With this in mind, we will keep the ABV in the Reviews dataset but maintain the additional information included from the Beers dataset as I believe this is still valid and useful to the analysis."
      ]
    },
    {
      "cell_type": "code",
      "metadata": {
        "id": "s8kirGYfDCm4"
      },
      "source": [
        "df['abv_diff'] = df.beer_abv_x - df.beer_abv_y"
      ],
      "execution_count": 96,
      "outputs": []
    },
    {
      "cell_type": "code",
      "metadata": {
        "colab": {
          "base_uri": "https://localhost:8080/"
        },
        "id": "rQ-05to2r_qO",
        "outputId": "746836f0-8f22-4b77-86a3-1725ce2089d6"
      },
      "source": [
        "print('Total Rows ABV not matching: ', df.loc[(df.abv_diff != 0)]['beer_id'].count())\r\n",
        "\r\n",
        "print('Not matching due to null in Beer dataset: ', df.loc[(df.abv_diff != 0) & (df.beer_abv_x.notnull()) & (df.beer_abv_y.isnull())]['beer_id'].count())\r\n",
        "print('Not matching due to null in Review dataset: ', df.loc[(df.abv_diff != 0) & (df.beer_abv_x.isnull()) & (df.beer_abv_y.notnull())]['beer_id'].count())\r\n",
        "print('Not matching due to nulls in both datasets: ', df.loc[(df.abv_diff != 0) & (df.beer_abv_x.isnull()) & (df.beer_abv_y.isnull())]['beer_id'].count())\r\n",
        "print('Not matching due to difference in ABV levels: ', df.loc[(df.abv_diff != 0) & (df.beer_abv_x.notnull()) & (df.beer_abv_y.notnull())]['beer_id'].count())"
      ],
      "execution_count": 97,
      "outputs": [
        {
          "output_type": "stream",
          "text": [
            "Total Rows ABV not matching:  424679\n",
            "Not matching due to null in Beer dataset:  167627\n",
            "Not matching due to null in Review dataset:  0\n",
            "Not matching due to nulls in both datasets:  50431\n",
            "Not matching due to difference in ABV levels:  206621\n"
          ],
          "name": "stdout"
        }
      ]
    },
    {
      "cell_type": "code",
      "metadata": {
        "id": "1Osf7Xz9iJiY"
      },
      "source": [
        "#df.loc[(df.abv_diff != 0) & (df.beer_abv_y.notnull())]\r\n",
        "#df.loc[(df.abv_diff != 0)].sample(10)"
      ],
      "execution_count": 98,
      "outputs": []
    },
    {
      "cell_type": "code",
      "metadata": {
        "colab": {
          "base_uri": "https://localhost:8080/",
          "height": 0
        },
        "id": "osBuADCuFRn1",
        "outputId": "539fee3f-2f1e-4f99-8964-cb6560b419b2"
      },
      "source": [
        "_ = plt.figure(figsize=(12,8))\r\n",
        "_ = sns.histplot(data=df.loc[(df.abv_diff != 0) & (df.beer_abv_x.notnull()) & (df.beer_abv_y.notnull())], x='abv_diff', bins=50)\r\n",
        "\r\n",
        "plt.show()"
      ],
      "execution_count": 99,
      "outputs": [
        {
          "output_type": "display_data",
          "data": {
            "image/png": "[encoded data removed]",
            "text/plain": [
              "<Figure size 864x576 with 1 Axes>"
            ]
          },
          "metadata": {
            "tags": [],
            "needs_background": "light"
          }
        }
      ]
    },
    {
      "cell_type": "code",
      "metadata": {
        "colab": {
          "base_uri": "https://localhost:8080/"
        },
        "id": "3rQyloB8v6eX",
        "outputId": "16b93510-67fa-4d47-8385-47fdcd059a41"
      },
      "source": [
        "from scipy import stats\r\n",
        "\r\n",
        "k2, p = stats.normaltest(df.loc[(df.abv_diff != 0) & (df.beer_abv_x.notnull()) & (df.beer_abv_y.notnull())]['abv_diff'])\r\n",
        "alpha = 0.05\r\n",
        "\r\n",
        "print(\"p = {:g}\".format(p))\r\n",
        "\r\n",
        "if p < alpha:  # null hypothesis: x comes from a normal distribution\r\n",
        "    print(\"The null hypothesis can be rejected\")\r\n",
        "else:\r\n",
        "    print(\"The null hypothesis cannot be rejected\")\r\n"
      ],
      "execution_count": 100,
      "outputs": [
        {
          "output_type": "stream",
          "text": [
            "p = 0\n",
            "The null hypothesis can be rejected\n"
          ],
          "name": "stdout"
        }
      ]
    },
    {
      "cell_type": "markdown",
      "metadata": {
        "id": "rc5TrQJw3YlS"
      },
      "source": [
        "#### Drop duplicate columns"
      ]
    },
    {
      "cell_type": "code",
      "metadata": {
        "id": "kuGzlGOm17We"
      },
      "source": [
        "df.drop(columns=['beer_name_y', 'beer_style_y', 'beer_abv_y', 'abv_diff'], inplace=True)"
      ],
      "execution_count": 101,
      "outputs": []
    },
    {
      "cell_type": "code",
      "metadata": {
        "id": "6X_It7RW4uoz"
      },
      "source": [
        "df.rename(columns={'beer_name_x':'beer_name', 'beer_style_x':'beer_style', 'beer_abv_x':'beer_abv'}, inplace=True)"
      ],
      "execution_count": 102,
      "outputs": []
    },
    {
      "cell_type": "code",
      "metadata": {
        "id": "W05_3S_Q4Isj"
      },
      "source": [
        "#df.head()"
      ],
      "execution_count": 103,
      "outputs": []
    },
    {
      "cell_type": "code",
      "metadata": {
        "colab": {
          "base_uri": "https://localhost:8080/"
        },
        "id": "nudAcKlJ4Uye",
        "outputId": "dacda3e1-a932-46de-b55d-c0470fb4cd63"
      },
      "source": [
        "for x in df:\r\n",
        "  print(x, ': ', df[x].isnull().sum())"
      ],
      "execution_count": 104,
      "outputs": [
        {
          "output_type": "stream",
          "text": [
            "brewery_id :  0\n",
            "brewery_name :  0\n",
            "review_time :  0\n",
            "review_overall :  0\n",
            "review_aroma :  0\n",
            "review_appearance :  0\n",
            "review_profilename :  0\n",
            "beer_style :  0\n",
            "review_palate :  0\n",
            "review_taste :  0\n",
            "beer_name :  0\n",
            "beer_abv :  50431\n",
            "beer_id :  0\n",
            "beer_availability :  170924\n",
            "beer_notes :  170924\n",
            "beer_retired :  170924\n"
          ],
          "name": "stdout"
        }
      ]
    },
    {
      "cell_type": "markdown",
      "metadata": {
        "id": "01taisteCkqq"
      },
      "source": [
        "#### ABV Missing Values (Part 2)"
      ]
    },
    {
      "cell_type": "markdown",
      "metadata": {
        "id": "iMbnxHEjCvTP"
      },
      "source": [
        "There are still 50,431 missing values that need to be accounted for.\r\n",
        "\r\n",
        "Unlike some of the categorical columns, it is not as easy to input a 'n/a'. We could:\r\n",
        "* Input a 0 value - but this has the meaning that beer contains no alcohol which likely is not the case\r\n",
        "* Input a -99 - but this number may skew the analyis when it comes to modelling\r\n",
        "* Input the average - will not be exact but give us a best guess estimate for what the ABV might be\r\n",
        "\r\n",
        "Based on the choices, the decision was to go with the average ABV for the beer style of the beer with the missing ABV value - this gives the best estimate of this value given the information available to us. Doing this, means we no longer have any null values for the ABV column."
      ]
    },
    {
      "cell_type": "code",
      "metadata": {
        "colab": {
          "base_uri": "https://localhost:8080/",
          "height": 0
        },
        "id": "plkXJt82C2Tw",
        "outputId": "37f058f7-9bcd-44e3-a620-d11c7e2255c3"
      },
      "source": [
        "abv_by_beerstyle = df.groupby(by='beer_style')['beer_abv'].mean().reset_index()\r\n",
        "\r\n",
        "abv_by_beerstyle.head()"
      ],
      "execution_count": 105,
      "outputs": [
        {
          "output_type": "execute_result",
          "data": {
            "text/html": [
              "<div>\n",
              "<style scoped>\n",
              "    .dataframe tbody tr th:only-of-type {\n",
              "        vertical-align: middle;\n",
              "    }\n",
              "\n",
              "    .dataframe tbody tr th {\n",
              "        vertical-align: top;\n",
              "    }\n",
              "\n",
              "    .dataframe thead th {\n",
              "        text-align: right;\n",
              "    }\n",
              "</style>\n",
              "<table border=\"1\" class=\"dataframe\">\n",
              "  <thead>\n",
              "    <tr style=\"text-align: right;\">\n",
              "      <th></th>\n",
              "      <th>beer_style</th>\n",
              "      <th>beer_abv</th>\n",
              "    </tr>\n",
              "  </thead>\n",
              "  <tbody>\n",
              "    <tr>\n",
              "      <th>0</th>\n",
              "      <td>altbier</td>\n",
              "      <td>5.822559</td>\n",
              "    </tr>\n",
              "    <tr>\n",
              "      <th>1</th>\n",
              "      <td>american adjunct lager</td>\n",
              "      <td>4.859886</td>\n",
              "    </tr>\n",
              "    <tr>\n",
              "      <th>2</th>\n",
              "      <td>american amber   red ale</td>\n",
              "      <td>6.009012</td>\n",
              "    </tr>\n",
              "    <tr>\n",
              "      <th>3</th>\n",
              "      <td>american amber   red lager</td>\n",
              "      <td>4.961354</td>\n",
              "    </tr>\n",
              "    <tr>\n",
              "      <th>4</th>\n",
              "      <td>american barleywine</td>\n",
              "      <td>10.703762</td>\n",
              "    </tr>\n",
              "  </tbody>\n",
              "</table>\n",
              "</div>"
            ],
            "text/plain": [
              "                   beer_style   beer_abv\n",
              "0                     altbier   5.822559\n",
              "1      american adjunct lager   4.859886\n",
              "2    american amber   red ale   6.009012\n",
              "3  american amber   red lager   4.961354\n",
              "4         american barleywine  10.703762"
            ]
          },
          "metadata": {
            "tags": []
          },
          "execution_count": 105
        }
      ]
    },
    {
      "cell_type": "code",
      "metadata": {
        "colab": {
          "base_uri": "https://localhost:8080/"
        },
        "id": "k2VD4ru8EBeM",
        "outputId": "d894a9c4-dad4-4964-ad9b-b6caaa421d73"
      },
      "source": [
        "abv_by_beerstyle.shape"
      ],
      "execution_count": 106,
      "outputs": [
        {
          "output_type": "execute_result",
          "data": {
            "text/plain": [
              "(104, 2)"
            ]
          },
          "metadata": {
            "tags": []
          },
          "execution_count": 106
        }
      ]
    },
    {
      "cell_type": "code",
      "metadata": {
        "id": "26S-P3C6Dmm3"
      },
      "source": [
        "df = pd.merge(df, abv_by_beerstyle, on='beer_style', how='left')"
      ],
      "execution_count": 107,
      "outputs": []
    },
    {
      "cell_type": "code",
      "metadata": {
        "id": "O46-hBZmEcMV"
      },
      "source": [
        "df.beer_abv_x.fillna(df.beer_abv_y, inplace=True)"
      ],
      "execution_count": 108,
      "outputs": []
    },
    {
      "cell_type": "code",
      "metadata": {
        "colab": {
          "base_uri": "https://localhost:8080/"
        },
        "id": "Kk4Vn6b0E08O",
        "outputId": "6b9a846f-32cf-43bd-84bb-f4828d9e8ef0"
      },
      "source": [
        "df.beer_abv_x.isnull().sum()"
      ],
      "execution_count": 109,
      "outputs": [
        {
          "output_type": "execute_result",
          "data": {
            "text/plain": [
              "0"
            ]
          },
          "metadata": {
            "tags": []
          },
          "execution_count": 109
        }
      ]
    },
    {
      "cell_type": "code",
      "metadata": {
        "id": "JCqHyfPRGoov"
      },
      "source": [
        "df.drop(columns='beer_abv_y', inplace=True)"
      ],
      "execution_count": 110,
      "outputs": []
    },
    {
      "cell_type": "code",
      "metadata": {
        "id": "xm200C4DJ6HR"
      },
      "source": [
        "df.rename(columns={'beer_abv_x':'beer_abv'}, inplace=True)"
      ],
      "execution_count": 111,
      "outputs": []
    },
    {
      "cell_type": "markdown",
      "metadata": {
        "id": "7pBVZtz35ohC"
      },
      "source": [
        "#### Beer Availability"
      ]
    },
    {
      "cell_type": "markdown",
      "metadata": {
        "id": "nEEAi1X78Y3B"
      },
      "source": [
        "Look to tidy this column. \r\n",
        "\r\n",
        "* First, I reduce the number of unique variables by removing the whitespace in the text.\r\n",
        "* Second, I replace null values with 'n/a' to show these are not available. During EDA stage we can see if this is appropriate category to continue with."
      ]
    },
    {
      "cell_type": "code",
      "metadata": {
        "colab": {
          "base_uri": "https://localhost:8080/"
        },
        "id": "78HBuSW95n0_",
        "outputId": "412185e8-ba23-47e7-dafc-911b87005efe"
      },
      "source": [
        "df.beer_availability.nunique()"
      ],
      "execution_count": 112,
      "outputs": [
        {
          "output_type": "execute_result",
          "data": {
            "text/plain": [
              "16"
            ]
          },
          "metadata": {
            "tags": []
          },
          "execution_count": 112
        }
      ]
    },
    {
      "cell_type": "code",
      "metadata": {
        "id": "DlGY41Y851Vn"
      },
      "source": [
        "#df.beer_availability.value_counts()"
      ],
      "execution_count": 113,
      "outputs": []
    },
    {
      "cell_type": "code",
      "metadata": {
        "id": "EDXQcCMJ6KN_"
      },
      "source": [
        "df['beer_availability'] = df.beer_availability.str.strip()"
      ],
      "execution_count": 114,
      "outputs": []
    },
    {
      "cell_type": "code",
      "metadata": {
        "colab": {
          "base_uri": "https://localhost:8080/"
        },
        "id": "LIg6hCzW6aes",
        "outputId": "e221221b-ab28-499b-a245-babe6268355e"
      },
      "source": [
        "df.beer_availability.nunique()"
      ],
      "execution_count": 115,
      "outputs": [
        {
          "output_type": "execute_result",
          "data": {
            "text/plain": [
              "7"
            ]
          },
          "metadata": {
            "tags": []
          },
          "execution_count": 115
        }
      ]
    },
    {
      "cell_type": "code",
      "metadata": {
        "id": "tAZJYWKO6dXg"
      },
      "source": [
        "#df.beer_availability.value_counts()"
      ],
      "execution_count": 116,
      "outputs": []
    },
    {
      "cell_type": "code",
      "metadata": {
        "id": "bcqoIWcD6kR_"
      },
      "source": [
        "df.beer_availability.fillna('n/a', inplace=True)"
      ],
      "execution_count": 117,
      "outputs": []
    },
    {
      "cell_type": "code",
      "metadata": {
        "colab": {
          "base_uri": "https://localhost:8080/"
        },
        "id": "coehxQul6rHT",
        "outputId": "c0232cb2-4b31-4fb1-853c-c5589f95748b"
      },
      "source": [
        "df.beer_availability.value_counts()"
      ],
      "execution_count": 118,
      "outputs": [
        {
          "output_type": "execute_result",
          "data": {
            "text/plain": [
              "year round              793449\n",
              "rotating                244149\n",
              "n/a                     170924\n",
              "winter                  118787\n",
              "limited  brewed once    113435\n",
              "fall                     65559\n",
              "summer                   41023\n",
              "spring                   39288\n",
              "Name: beer_availability, dtype: int64"
            ]
          },
          "metadata": {
            "tags": []
          },
          "execution_count": 118
        }
      ]
    },
    {
      "cell_type": "markdown",
      "metadata": {
        "id": "Q8Y7et374Zzo"
      },
      "source": [
        "#### Beer Notes"
      ]
    },
    {
      "cell_type": "markdown",
      "metadata": {
        "id": "h_RacSb768f3"
      },
      "source": [
        "The beer notes contains a lot text that could be beneficial but may take a bit of time to investigate and tidy. Also, the top 3 notes don't provide that much additional:\r\n",
        "* no notes at this time\r\n",
        "* ibu\r\n",
        "* ingredients\r\n",
        "\r\n",
        "Based on this, I will remove this column from the dataset.\r\n",
        "\r\n",
        "\r\n"
      ]
    },
    {
      "cell_type": "code",
      "metadata": {
        "colab": {
          "base_uri": "https://localhost:8080/"
        },
        "id": "vmjvMbae4ceZ",
        "outputId": "90c5c967-1cb4-43ec-c5a9-4444d39831c3"
      },
      "source": [
        "df.beer_notes.value_counts()\r\n",
        "df.beer_notes.nunique()"
      ],
      "execution_count": 119,
      "outputs": [
        {
          "output_type": "execute_result",
          "data": {
            "text/plain": [
              "9125"
            ]
          },
          "metadata": {
            "tags": []
          },
          "execution_count": 119
        }
      ]
    },
    {
      "cell_type": "code",
      "metadata": {
        "id": "McA-nMT07GGz"
      },
      "source": [
        "#reviews.beer_notes.value_counts()"
      ],
      "execution_count": 120,
      "outputs": []
    },
    {
      "cell_type": "code",
      "metadata": {
        "id": "USy93E1M7MWQ"
      },
      "source": [
        "df['beer_notes'] = df.beer_notes.str.strip()"
      ],
      "execution_count": 121,
      "outputs": []
    },
    {
      "cell_type": "code",
      "metadata": {
        "colab": {
          "base_uri": "https://localhost:8080/"
        },
        "id": "wa5MBcc47Tbw",
        "outputId": "0b510a97-c0db-4d9c-aa1a-2a9a26a6e134"
      },
      "source": [
        "df.beer_notes.nunique()"
      ],
      "execution_count": 122,
      "outputs": [
        {
          "output_type": "execute_result",
          "data": {
            "text/plain": [
              "9041"
            ]
          },
          "metadata": {
            "tags": []
          },
          "execution_count": 122
        }
      ]
    },
    {
      "cell_type": "code",
      "metadata": {
        "colab": {
          "base_uri": "https://localhost:8080/"
        },
        "id": "kiy-G8f17Wbr",
        "outputId": "7f6225e9-ed99-48b8-b8ee-5399f767661b"
      },
      "source": [
        "df.beer_notes.value_counts()"
      ],
      "execution_count": 123,
      "outputs": [
        {
          "output_type": "execute_result",
          "data": {
            "text/plain": [
              "no notes at this time                                                                                                                                                                                                                                                                                                                                                             705925\n",
              "ibu                                                                                                                                                                                                                                                                                                                                                                                15113\n",
              "ingredients                                                                                                                                                                                                                                                                                                                                                                         9478\n",
              "esquire magazine calls our    minute ipa  perhaps the best ipa in america   an imperial ipa best savored from a snifter     minute has a great malt backbone that stands up to the extreme hopping rate                                                                                                                                                                             3290\n",
              "produced in the tradition of   th century english brewers who supplied the court of russia s catherine the great  old rasputin seems to develop a cult following wherever it goes  it s a rich  intense brew with big complex flavors and a warming finish                                                                                                                          3111\n",
              "                                                                                                                                                                                                                                                                                                                                                                                   ...  \n",
              "a crisp and refreshing brew just right for summer refreshment  a pils lager yeast was used to ferment this beer and impart its unique flavor characteristics  hopped with german tettnang  and czech styrian golding hops to add a subtle bitterness and light spicy flavor  this brew is also dry hopped with whole styrian golding hop cones to add an extra layer of flavor         1\n",
              "as from       the kalasp sk l is a brown ale                                                                                                                                                                                                                                                                                                                                           1\n",
              "oro de calabaza   bam biere blended and barrel aged                                                                                                                                                                                                                                                                                                                                    1\n",
              "this brew pub exclusive is a strong brown ale brewed with brown sugar  and dark roasty grain  we created it by combining our indian brown ale  palo santo marron  and an experimental batch of     minute ipa brewed at the rehoboth beach brewpub by brewer bryan selders                                                                                                             1\n",
              "our most popular beer with teton valley locals  not your standard pale  more body and mouth feel than regular pales  with focus on a big malty profile  and more finishing hops than bittering  the result is great aroma and lots of hop flavor that s very dinkable for micro brew rookies and pro micro quaffers                                                                    1\n",
              "Name: beer_notes, Length: 9041, dtype: int64"
            ]
          },
          "metadata": {
            "tags": []
          },
          "execution_count": 123
        }
      ]
    },
    {
      "cell_type": "code",
      "metadata": {
        "id": "VgYHwjo-95a3"
      },
      "source": [
        "df.drop(columns='beer_notes', inplace=True)"
      ],
      "execution_count": 124,
      "outputs": []
    },
    {
      "cell_type": "markdown",
      "metadata": {
        "id": "di-Blajb5iNs"
      },
      "source": [
        "#### Beers Retired"
      ]
    },
    {
      "cell_type": "markdown",
      "metadata": {
        "id": "IAYc5Fd_9SzK"
      },
      "source": [
        "Replace null values with 'n/a' to show these are not available. During EDA stage we can see if this is appropriate category to continue with."
      ]
    },
    {
      "cell_type": "code",
      "metadata": {
        "id": "ahL8GGfi5LOM"
      },
      "source": [
        "df.beer_retired.fillna('n/a', inplace=True)"
      ],
      "execution_count": 125,
      "outputs": []
    },
    {
      "cell_type": "code",
      "metadata": {
        "colab": {
          "base_uri": "https://localhost:8080/"
        },
        "id": "gqe0MPzJ42vP",
        "outputId": "c09b14a8-fd5c-4177-844c-34fecc622da2"
      },
      "source": [
        "df.beer_retired.nunique()"
      ],
      "execution_count": 126,
      "outputs": [
        {
          "output_type": "execute_result",
          "data": {
            "text/plain": [
              "3"
            ]
          },
          "metadata": {
            "tags": []
          },
          "execution_count": 126
        }
      ]
    },
    {
      "cell_type": "code",
      "metadata": {
        "colab": {
          "base_uri": "https://localhost:8080/"
        },
        "id": "SW7ta5iA5DG5",
        "outputId": "d3405abd-3b86-4d2d-c98c-a3155c690099"
      },
      "source": [
        "df.beer_retired.value_counts()"
      ],
      "execution_count": 127,
      "outputs": [
        {
          "output_type": "execute_result",
          "data": {
            "text/plain": [
              "f      1093675\n",
              "t       322015\n",
              "n/a     170924\n",
              "Name: beer_retired, dtype: int64"
            ]
          },
          "metadata": {
            "tags": []
          },
          "execution_count": 127
        }
      ]
    },
    {
      "cell_type": "markdown",
      "metadata": {
        "id": "_KlRYkd_9i8b"
      },
      "source": [
        "#### Final Recap"
      ]
    },
    {
      "cell_type": "code",
      "metadata": {
        "id": "52iWOvJ09kr_"
      },
      "source": [
        "#df.head()"
      ],
      "execution_count": 128,
      "outputs": []
    },
    {
      "cell_type": "code",
      "metadata": {
        "colab": {
          "base_uri": "https://localhost:8080/"
        },
        "id": "ckTKWHBW9qg3",
        "outputId": "6186ccbc-3b9e-4243-9839-90eea24e1a45"
      },
      "source": [
        "for x in df:\r\n",
        "  print(x, ': ', df[x].isnull().sum())"
      ],
      "execution_count": 129,
      "outputs": [
        {
          "output_type": "stream",
          "text": [
            "brewery_id :  0\n",
            "brewery_name :  0\n",
            "review_time :  0\n",
            "review_overall :  0\n",
            "review_aroma :  0\n",
            "review_appearance :  0\n",
            "review_profilename :  0\n",
            "beer_style :  0\n",
            "review_palate :  0\n",
            "review_taste :  0\n",
            "beer_name :  0\n",
            "beer_abv :  0\n",
            "beer_id :  0\n",
            "beer_availability :  0\n",
            "beer_retired :  0\n"
          ],
          "name": "stdout"
        }
      ]
    },
    {
      "cell_type": "markdown",
      "metadata": {
        "id": "2vAXZGdm4Zfo"
      },
      "source": [
        "## Brewery Analysis"
      ]
    },
    {
      "cell_type": "markdown",
      "metadata": {
        "id": "7R_L7RkaWRMy"
      },
      "source": [
        "### Create Brewery Summary Files"
      ]
    },
    {
      "cell_type": "markdown",
      "metadata": {
        "id": "5xmQ9aorWak3"
      },
      "source": [
        "#### Brewery Summary (Reviews Data)"
      ]
    },
    {
      "cell_type": "markdown",
      "metadata": {
        "id": "V2u1ZjgaYt31"
      },
      "source": [
        "Look to summarise the reviews dataset to see how many unique breweries it contains - this shows us that there are 5,840 breweries in the dataset. "
      ]
    },
    {
      "cell_type": "code",
      "metadata": {
        "id": "LIC_FRCn4qNA"
      },
      "source": [
        "reviews_brewerysumm = reviews.groupby(by=['brewery_id', 'brewery_name'], as_index=False)['review_overall'].agg(['mean', 'count']).reset_index()\r\n",
        "reviews_brewerysumm.drop(columns=['mean', 'count'], inplace=True)"
      ],
      "execution_count": 130,
      "outputs": []
    },
    {
      "cell_type": "code",
      "metadata": {
        "colab": {
          "base_uri": "https://localhost:8080/"
        },
        "id": "XQQhkRd_W9M2",
        "outputId": "c8374abe-d241-454a-fb26-cb93c4eda313"
      },
      "source": [
        "reviews_brewerysumm.brewery_id.count()"
      ],
      "execution_count": 131,
      "outputs": [
        {
          "output_type": "execute_result",
          "data": {
            "text/plain": [
              "5840"
            ]
          },
          "metadata": {
            "tags": []
          },
          "execution_count": 131
        }
      ]
    },
    {
      "cell_type": "code",
      "metadata": {
        "colab": {
          "base_uri": "https://localhost:8080/",
          "height": 0
        },
        "id": "uDWbKdyCXBHX",
        "outputId": "cf54bd31-8f17-4cb6-d7cf-c8f5c7d04d7c"
      },
      "source": [
        "reviews_brewerysumm.head()"
      ],
      "execution_count": 132,
      "outputs": [
        {
          "output_type": "execute_result",
          "data": {
            "text/html": [
              "<div>\n",
              "<style scoped>\n",
              "    .dataframe tbody tr th:only-of-type {\n",
              "        vertical-align: middle;\n",
              "    }\n",
              "\n",
              "    .dataframe tbody tr th {\n",
              "        vertical-align: top;\n",
              "    }\n",
              "\n",
              "    .dataframe thead th {\n",
              "        text-align: right;\n",
              "    }\n",
              "</style>\n",
              "<table border=\"1\" class=\"dataframe\">\n",
              "  <thead>\n",
              "    <tr style=\"text-align: right;\">\n",
              "      <th></th>\n",
              "      <th>brewery_id</th>\n",
              "      <th>brewery_name</th>\n",
              "    </tr>\n",
              "  </thead>\n",
              "  <tbody>\n",
              "    <tr>\n",
              "      <th>0</th>\n",
              "      <td>1</td>\n",
              "      <td>plzensky prazdroj  a  s</td>\n",
              "    </tr>\n",
              "    <tr>\n",
              "      <th>1</th>\n",
              "      <td>2</td>\n",
              "      <td>yellow rose brewing company</td>\n",
              "    </tr>\n",
              "    <tr>\n",
              "      <th>2</th>\n",
              "      <td>3</td>\n",
              "      <td>abita brewing co</td>\n",
              "    </tr>\n",
              "    <tr>\n",
              "      <th>3</th>\n",
              "      <td>4</td>\n",
              "      <td>allagash brewing company</td>\n",
              "    </tr>\n",
              "    <tr>\n",
              "      <th>4</th>\n",
              "      <td>5</td>\n",
              "      <td>yakima brewing co    bert grant s ales</td>\n",
              "    </tr>\n",
              "  </tbody>\n",
              "</table>\n",
              "</div>"
            ],
            "text/plain": [
              "   brewery_id                            brewery_name\n",
              "0           1                plzensky prazdroj  a  s \n",
              "1           2             yellow rose brewing company\n",
              "2           3                       abita brewing co \n",
              "3           4                allagash brewing company\n",
              "4           5  yakima brewing co    bert grant s ales"
            ]
          },
          "metadata": {
            "tags": []
          },
          "execution_count": 132
        }
      ]
    },
    {
      "cell_type": "markdown",
      "metadata": {
        "id": "2o8bsGbEXIAC"
      },
      "source": [
        "#### Brewery Summary (Brewery Dataset)"
      ]
    },
    {
      "cell_type": "markdown",
      "metadata": {
        "id": "n1-dZXn_YYmc"
      },
      "source": [
        "Reduce the Brewery dataset to only contain brewery_id and brewery_name. This dataset still contains 50,347 breweries."
      ]
    },
    {
      "cell_type": "code",
      "metadata": {
        "colab": {
          "base_uri": "https://localhost:8080/"
        },
        "id": "VtI1WRIwXTog",
        "outputId": "84b31f69-8080-4c5d-9611-6c0d89de5b59"
      },
      "source": [
        "breweries.brewery_id.count()"
      ],
      "execution_count": 133,
      "outputs": [
        {
          "output_type": "execute_result",
          "data": {
            "text/plain": [
              "50347"
            ]
          },
          "metadata": {
            "tags": []
          },
          "execution_count": 133
        }
      ]
    },
    {
      "cell_type": "code",
      "metadata": {
        "colab": {
          "base_uri": "https://localhost:8080/"
        },
        "id": "kz_C5I9QXZ8k",
        "outputId": "0f1f99c0-0c96-400a-fc37-c185c725179a"
      },
      "source": [
        "breweries.brewery_id.nunique()"
      ],
      "execution_count": 134,
      "outputs": [
        {
          "output_type": "execute_result",
          "data": {
            "text/plain": [
              "50347"
            ]
          },
          "metadata": {
            "tags": []
          },
          "execution_count": 134
        }
      ]
    },
    {
      "cell_type": "code",
      "metadata": {
        "id": "yqb2HMRLXjRO"
      },
      "source": [
        "brewerysumm = breweries.drop(columns=['brewery_city', 'brewery_state', 'brewery_country', 'brewery_notes', 'brewery_bar', 'brewery_beertogo', 'brewery_brewery', 'brewery_eatery', 'brewery_homebrew', 'brewery_store'])"
      ],
      "execution_count": 135,
      "outputs": []
    },
    {
      "cell_type": "code",
      "metadata": {
        "colab": {
          "base_uri": "https://localhost:8080/",
          "height": 0
        },
        "id": "KTUsYKlkYJ3-",
        "outputId": "4f41e0bb-a2c0-4903-d28d-cf0a218a0286"
      },
      "source": [
        "brewerysumm.head()"
      ],
      "execution_count": 136,
      "outputs": [
        {
          "output_type": "execute_result",
          "data": {
            "text/html": [
              "<div>\n",
              "<style scoped>\n",
              "    .dataframe tbody tr th:only-of-type {\n",
              "        vertical-align: middle;\n",
              "    }\n",
              "\n",
              "    .dataframe tbody tr th {\n",
              "        vertical-align: top;\n",
              "    }\n",
              "\n",
              "    .dataframe thead th {\n",
              "        text-align: right;\n",
              "    }\n",
              "</style>\n",
              "<table border=\"1\" class=\"dataframe\">\n",
              "  <thead>\n",
              "    <tr style=\"text-align: right;\">\n",
              "      <th></th>\n",
              "      <th>brewery_id</th>\n",
              "      <th>brewery_name</th>\n",
              "    </tr>\n",
              "  </thead>\n",
              "  <tbody>\n",
              "    <tr>\n",
              "      <th>0</th>\n",
              "      <td>19730</td>\n",
              "      <td>brouwerij danny</td>\n",
              "    </tr>\n",
              "    <tr>\n",
              "      <th>1</th>\n",
              "      <td>32541</td>\n",
              "      <td>coachella valley brewing co</td>\n",
              "    </tr>\n",
              "    <tr>\n",
              "      <th>2</th>\n",
              "      <td>44736</td>\n",
              "      <td>beef  o  brady s</td>\n",
              "    </tr>\n",
              "    <tr>\n",
              "      <th>3</th>\n",
              "      <td>23372</td>\n",
              "      <td>broadway wine merchant</td>\n",
              "    </tr>\n",
              "    <tr>\n",
              "      <th>4</th>\n",
              "      <td>35328</td>\n",
              "      <td>brighton beer dispensary  duplicate</td>\n",
              "    </tr>\n",
              "  </tbody>\n",
              "</table>\n",
              "</div>"
            ],
            "text/plain": [
              "   brewery_id                          brewery_name\n",
              "0       19730                       brouwerij danny\n",
              "1       32541           coachella valley brewing co\n",
              "2       44736                      beef  o  brady s\n",
              "3       23372                broadway wine merchant\n",
              "4       35328  brighton beer dispensary  duplicate "
            ]
          },
          "metadata": {
            "tags": []
          },
          "execution_count": 136
        }
      ]
    },
    {
      "cell_type": "markdown",
      "metadata": {
        "id": "5C-CNAZ5Zf7s"
      },
      "source": [
        "### Identify Matching Breweries"
      ]
    },
    {
      "cell_type": "markdown",
      "metadata": {
        "id": "XxWkFk_-Zm1-"
      },
      "source": [
        "#### Merge Summary Data"
      ]
    },
    {
      "cell_type": "code",
      "metadata": {
        "id": "RMk-uuuBZriF"
      },
      "source": [
        "brewerysumm_merge = pd.merge(reviews_brewerysumm, brewerysumm, how='left', on=['brewery_id'])"
      ],
      "execution_count": 137,
      "outputs": []
    },
    {
      "cell_type": "code",
      "metadata": {
        "colab": {
          "base_uri": "https://localhost:8080/",
          "height": 0
        },
        "id": "eF1SohtSbNxT",
        "outputId": "06415cf1-2b5c-4d3e-d102-904b05995542"
      },
      "source": [
        "brewerysumm_merge.head()"
      ],
      "execution_count": 138,
      "outputs": [
        {
          "output_type": "execute_result",
          "data": {
            "text/html": [
              "<div>\n",
              "<style scoped>\n",
              "    .dataframe tbody tr th:only-of-type {\n",
              "        vertical-align: middle;\n",
              "    }\n",
              "\n",
              "    .dataframe tbody tr th {\n",
              "        vertical-align: top;\n",
              "    }\n",
              "\n",
              "    .dataframe thead th {\n",
              "        text-align: right;\n",
              "    }\n",
              "</style>\n",
              "<table border=\"1\" class=\"dataframe\">\n",
              "  <thead>\n",
              "    <tr style=\"text-align: right;\">\n",
              "      <th></th>\n",
              "      <th>brewery_id</th>\n",
              "      <th>brewery_name_x</th>\n",
              "      <th>brewery_name_y</th>\n",
              "    </tr>\n",
              "  </thead>\n",
              "  <tbody>\n",
              "    <tr>\n",
              "      <th>0</th>\n",
              "      <td>1</td>\n",
              "      <td>plzensky prazdroj  a  s</td>\n",
              "      <td>plze sk  prazdroj</td>\n",
              "    </tr>\n",
              "    <tr>\n",
              "      <th>1</th>\n",
              "      <td>2</td>\n",
              "      <td>yellow rose brewing company</td>\n",
              "      <td>yellow rose brewing company</td>\n",
              "    </tr>\n",
              "    <tr>\n",
              "      <th>2</th>\n",
              "      <td>3</td>\n",
              "      <td>abita brewing co</td>\n",
              "      <td>abita brewing co</td>\n",
              "    </tr>\n",
              "    <tr>\n",
              "      <th>3</th>\n",
              "      <td>4</td>\n",
              "      <td>allagash brewing company</td>\n",
              "      <td>allagash brewing company</td>\n",
              "    </tr>\n",
              "    <tr>\n",
              "      <th>4</th>\n",
              "      <td>5</td>\n",
              "      <td>yakima brewing co    bert grant s ales</td>\n",
              "      <td>yakima brewing co    bert grant s ales</td>\n",
              "    </tr>\n",
              "  </tbody>\n",
              "</table>\n",
              "</div>"
            ],
            "text/plain": [
              "   brewery_id  ...                          brewery_name_y\n",
              "0           1  ...                       plze sk  prazdroj\n",
              "1           2  ...             yellow rose brewing company\n",
              "2           3  ...                       abita brewing co \n",
              "3           4  ...                allagash brewing company\n",
              "4           5  ...  yakima brewing co    bert grant s ales\n",
              "\n",
              "[5 rows x 3 columns]"
            ]
          },
          "metadata": {
            "tags": []
          },
          "execution_count": 138
        }
      ]
    },
    {
      "cell_type": "markdown",
      "metadata": {
        "id": "xDEeXS5KbRQG"
      },
      "source": [
        "#### How many missing values?"
      ]
    },
    {
      "cell_type": "code",
      "metadata": {
        "colab": {
          "base_uri": "https://localhost:8080/"
        },
        "id": "_I5JAZMaeelJ",
        "outputId": "a77d4031-40c9-493d-df67-ba16555c82e9"
      },
      "source": [
        "nulls = brewerysumm_merge.brewery_name_y.isnull().sum()\r\n",
        "total_rows = brewerysumm_merge.brewery_id.count()\r\n",
        "\r\n",
        "print('Name null values: ', nulls)\r\n",
        "print('% of data: ', round(((nulls / total_rows) * 100), 2))"
      ],
      "execution_count": 139,
      "outputs": [
        {
          "output_type": "stream",
          "text": [
            "Name null values:  15\n",
            "% of data:  0.26\n"
          ],
          "name": "stdout"
        }
      ]
    },
    {
      "cell_type": "markdown",
      "metadata": {
        "id": "By1LtB0nfLXa"
      },
      "source": [
        "#### How many mismatched breweries?"
      ]
    },
    {
      "cell_type": "code",
      "metadata": {
        "colab": {
          "base_uri": "https://localhost:8080/"
        },
        "id": "QjEBUMuofgy6",
        "outputId": "81ab8777-b478-41b2-baf7-fa95033de71d"
      },
      "source": [
        "mismatch = brewerysumm_merge[brewerysumm_merge.brewery_name_x != brewerysumm_merge.brewery_name_y]['brewery_id'].count()\r\n",
        "\r\n",
        "print('Mismatch Rows: ', mismatch)\r\n",
        "print('% of data: ', round(((mismatch / total_rows) * 100), 2))"
      ],
      "execution_count": 140,
      "outputs": [
        {
          "output_type": "stream",
          "text": [
            "Mismatch Rows:  481\n",
            "% of data:  8.24\n"
          ],
          "name": "stdout"
        }
      ]
    },
    {
      "cell_type": "markdown",
      "metadata": {
        "id": "gWdDOjoBfxW2"
      },
      "source": [
        "#### Using Record Linkage to find pairs "
      ]
    },
    {
      "cell_type": "code",
      "metadata": {
        "id": "D5Vo4Z1JgFqg"
      },
      "source": [
        "# Create indexing object\r\n",
        "indexer = recordlinkage.Index()\r\n",
        "\r\n",
        "# Generate pairs blocked on id\r\n",
        "indexer.block('brewery_id')\r\n",
        "pairs = indexer.index(reviews_brewerysumm, brewerysumm)\r\n",
        "\r\n",
        "# Generate the pairs\r\n",
        "pairs = indexer.index(reviews_brewerysumm, brewerysumm)\r\n",
        "\r\n",
        "# Create a Compare object\r\n",
        "compare_cl = recordlinkage.Compare()\r\n",
        "\r\n",
        "# Find exact matches for pairs of id\r\n",
        "compare_cl.exact('brewery_id', 'brewery_id', label='brewery_id')\r\n",
        "\r\n",
        "# Find similar matches for pairs of brewery_name using string similarity\r\n",
        "compare_cl.string('brewery_name', 'brewery_name', threshold=0.8, label='brewery_name')\r\n",
        "\r\n",
        "# Find matches\r\n",
        "potential_matches = compare_cl.compute(pairs, reviews_brewerysumm, brewerysumm)"
      ],
      "execution_count": 141,
      "outputs": []
    },
    {
      "cell_type": "code",
      "metadata": {
        "colab": {
          "base_uri": "https://localhost:8080/",
          "height": 0
        },
        "id": "0CuO0cFkhGdn",
        "outputId": "0d2e9fce-8efb-41ba-cc8e-6d9639a23b01"
      },
      "source": [
        "potential_matches[potential_matches.sum(axis = 1) >= 2]"
      ],
      "execution_count": 142,
      "outputs": [
        {
          "output_type": "execute_result",
          "data": {
            "text/html": [
              "<div>\n",
              "<style scoped>\n",
              "    .dataframe tbody tr th:only-of-type {\n",
              "        vertical-align: middle;\n",
              "    }\n",
              "\n",
              "    .dataframe tbody tr th {\n",
              "        vertical-align: top;\n",
              "    }\n",
              "\n",
              "    .dataframe thead th {\n",
              "        text-align: right;\n",
              "    }\n",
              "</style>\n",
              "<table border=\"1\" class=\"dataframe\">\n",
              "  <thead>\n",
              "    <tr style=\"text-align: right;\">\n",
              "      <th></th>\n",
              "      <th></th>\n",
              "      <th>brewery_id</th>\n",
              "      <th>brewery_name</th>\n",
              "    </tr>\n",
              "  </thead>\n",
              "  <tbody>\n",
              "    <tr>\n",
              "      <th>1</th>\n",
              "      <th>16112</th>\n",
              "      <td>1</td>\n",
              "      <td>1.0</td>\n",
              "    </tr>\n",
              "    <tr>\n",
              "      <th>2</th>\n",
              "      <th>23348</th>\n",
              "      <td>1</td>\n",
              "      <td>1.0</td>\n",
              "    </tr>\n",
              "    <tr>\n",
              "      <th>3</th>\n",
              "      <th>38987</th>\n",
              "      <td>1</td>\n",
              "      <td>1.0</td>\n",
              "    </tr>\n",
              "    <tr>\n",
              "      <th>4</th>\n",
              "      <th>49940</th>\n",
              "      <td>1</td>\n",
              "      <td>1.0</td>\n",
              "    </tr>\n",
              "    <tr>\n",
              "      <th>5</th>\n",
              "      <th>18806</th>\n",
              "      <td>1</td>\n",
              "      <td>1.0</td>\n",
              "    </tr>\n",
              "    <tr>\n",
              "      <th>...</th>\n",
              "      <th>...</th>\n",
              "      <td>...</td>\n",
              "      <td>...</td>\n",
              "    </tr>\n",
              "    <tr>\n",
              "      <th>5835</th>\n",
              "      <th>23636</th>\n",
              "      <td>1</td>\n",
              "      <td>1.0</td>\n",
              "    </tr>\n",
              "    <tr>\n",
              "      <th>5836</th>\n",
              "      <th>11162</th>\n",
              "      <td>1</td>\n",
              "      <td>1.0</td>\n",
              "    </tr>\n",
              "    <tr>\n",
              "      <th>5837</th>\n",
              "      <th>40438</th>\n",
              "      <td>1</td>\n",
              "      <td>1.0</td>\n",
              "    </tr>\n",
              "    <tr>\n",
              "      <th>5838</th>\n",
              "      <th>27913</th>\n",
              "      <td>1</td>\n",
              "      <td>1.0</td>\n",
              "    </tr>\n",
              "    <tr>\n",
              "      <th>5839</th>\n",
              "      <th>8956</th>\n",
              "      <td>1</td>\n",
              "      <td>1.0</td>\n",
              "    </tr>\n",
              "  </tbody>\n",
              "</table>\n",
              "<p>5471 rows × 2 columns</p>\n",
              "</div>"
            ],
            "text/plain": [
              "            brewery_id  brewery_name\n",
              "1    16112           1           1.0\n",
              "2    23348           1           1.0\n",
              "3    38987           1           1.0\n",
              "4    49940           1           1.0\n",
              "5    18806           1           1.0\n",
              "...                ...           ...\n",
              "5835 23636           1           1.0\n",
              "5836 11162           1           1.0\n",
              "5837 40438           1           1.0\n",
              "5838 27913           1           1.0\n",
              "5839 8956            1           1.0\n",
              "\n",
              "[5471 rows x 2 columns]"
            ]
          },
          "metadata": {
            "tags": []
          },
          "execution_count": 142
        }
      ]
    },
    {
      "cell_type": "code",
      "metadata": {
        "colab": {
          "base_uri": "https://localhost:8080/"
        },
        "id": "AMkeEYhVg1Vd",
        "outputId": "4e1851e9-d83d-4a00-83de-89d3382193e6"
      },
      "source": [
        "match_rows = potential_matches[potential_matches.sum(axis = 1) >= 2]['brewery_id'].count()\r\n",
        "\r\n",
        "print('Potential Match Rows: ', match_rows)\r\n",
        "print('No Beer Match: ', total_rows - match_rows)\r\n",
        "print('% of data: ', round(((match_rows / total_rows) * 100), 2))"
      ],
      "execution_count": 143,
      "outputs": [
        {
          "output_type": "stream",
          "text": [
            "Potential Match Rows:  5471\n",
            "No Beer Match:  369\n",
            "% of data:  93.68\n"
          ],
          "name": "stdout"
        }
      ]
    },
    {
      "cell_type": "code",
      "metadata": {
        "colab": {
          "base_uri": "https://localhost:8080/",
          "height": 0
        },
        "id": "BSfRBnsBiRTy",
        "outputId": "72b83558-59cb-4a4c-f054-aec69fbc0d74"
      },
      "source": [
        "matches = potential_matches[potential_matches.sum(axis = 1) >= 2]\r\n",
        "match_index = matches.index.get_level_values(1)\r\n",
        "\r\n",
        "breweries_new = breweries[breweries.index.isin(match_index)]\r\n",
        "breweries_new.head()"
      ],
      "execution_count": 144,
      "outputs": [
        {
          "output_type": "execute_result",
          "data": {
            "text/html": [
              "<div>\n",
              "<style scoped>\n",
              "    .dataframe tbody tr th:only-of-type {\n",
              "        vertical-align: middle;\n",
              "    }\n",
              "\n",
              "    .dataframe tbody tr th {\n",
              "        vertical-align: top;\n",
              "    }\n",
              "\n",
              "    .dataframe thead th {\n",
              "        text-align: right;\n",
              "    }\n",
              "</style>\n",
              "<table border=\"1\" class=\"dataframe\">\n",
              "  <thead>\n",
              "    <tr style=\"text-align: right;\">\n",
              "      <th></th>\n",
              "      <th>brewery_id</th>\n",
              "      <th>brewery_name</th>\n",
              "      <th>brewery_city</th>\n",
              "      <th>brewery_state</th>\n",
              "      <th>brewery_country</th>\n",
              "      <th>brewery_notes</th>\n",
              "      <th>brewery_bar</th>\n",
              "      <th>brewery_beertogo</th>\n",
              "      <th>brewery_brewery</th>\n",
              "      <th>brewery_eatery</th>\n",
              "      <th>brewery_homebrew</th>\n",
              "      <th>brewery_store</th>\n",
              "    </tr>\n",
              "  </thead>\n",
              "  <tbody>\n",
              "    <tr>\n",
              "      <th>0</th>\n",
              "      <td>19730</td>\n",
              "      <td>brouwerij danny</td>\n",
              "      <td>Erpe-Mere</td>\n",
              "      <td>BE0</td>\n",
              "      <td>BE</td>\n",
              "      <td>no notes at this time</td>\n",
              "      <td>0</td>\n",
              "      <td>0</td>\n",
              "      <td>1</td>\n",
              "      <td>0</td>\n",
              "      <td>0</td>\n",
              "      <td>0</td>\n",
              "    </tr>\n",
              "    <tr>\n",
              "      <th>20</th>\n",
              "      <td>8590</td>\n",
              "      <td>wet planet beverage co</td>\n",
              "      <td>Utica</td>\n",
              "      <td>NY</td>\n",
              "      <td>US</td>\n",
              "      <td>no notes at this time</td>\n",
              "      <td>0</td>\n",
              "      <td>0</td>\n",
              "      <td>1</td>\n",
              "      <td>0</td>\n",
              "      <td>0</td>\n",
              "      <td>0</td>\n",
              "    </tr>\n",
              "    <tr>\n",
              "      <th>22</th>\n",
              "      <td>26695</td>\n",
              "      <td>cervesera tramuntana</td>\n",
              "      <td>Palma</td>\n",
              "      <td>ES0</td>\n",
              "      <td>ES</td>\n",
              "      <td>no notes at this time</td>\n",
              "      <td>1</td>\n",
              "      <td>0</td>\n",
              "      <td>1</td>\n",
              "      <td>1</td>\n",
              "      <td>0</td>\n",
              "      <td>0</td>\n",
              "    </tr>\n",
              "    <tr>\n",
              "      <th>60</th>\n",
              "      <td>24133</td>\n",
              "      <td>luckie ales</td>\n",
              "      <td>Moulin</td>\n",
              "      <td>GB6</td>\n",
              "      <td>GB</td>\n",
              "      <td>no notes at this time</td>\n",
              "      <td>0</td>\n",
              "      <td>0</td>\n",
              "      <td>1</td>\n",
              "      <td>0</td>\n",
              "      <td>0</td>\n",
              "      <td>0</td>\n",
              "    </tr>\n",
              "    <tr>\n",
              "      <th>64</th>\n",
              "      <td>24814</td>\n",
              "      <td>yellowhammer brewing</td>\n",
              "      <td>Huntsville</td>\n",
              "      <td>AL</td>\n",
              "      <td>US</td>\n",
              "      <td>no notes at this time</td>\n",
              "      <td>1</td>\n",
              "      <td>0</td>\n",
              "      <td>1</td>\n",
              "      <td>0</td>\n",
              "      <td>0</td>\n",
              "      <td>0</td>\n",
              "    </tr>\n",
              "  </tbody>\n",
              "</table>\n",
              "</div>"
            ],
            "text/plain": [
              "    brewery_id             brewery_name  ... brewery_homebrew brewery_store\n",
              "0        19730          brouwerij danny  ...                0             0\n",
              "20        8590  wet planet beverage co   ...                0             0\n",
              "22       26695     cervesera tramuntana  ...                0             0\n",
              "60       24133              luckie ales  ...                0             0\n",
              "64       24814     yellowhammer brewing  ...                0             0\n",
              "\n",
              "[5 rows x 12 columns]"
            ]
          },
          "metadata": {
            "tags": []
          },
          "execution_count": 144
        }
      ]
    },
    {
      "cell_type": "code",
      "metadata": {
        "colab": {
          "base_uri": "https://localhost:8080/"
        },
        "id": "2d1GeYUUienR",
        "outputId": "a0699ce0-cc7f-4be3-bf3c-5e6cc36c2948"
      },
      "source": [
        "breweries_new.shape"
      ],
      "execution_count": 145,
      "outputs": [
        {
          "output_type": "execute_result",
          "data": {
            "text/plain": [
              "(5471, 12)"
            ]
          },
          "metadata": {
            "tags": []
          },
          "execution_count": 145
        }
      ]
    },
    {
      "cell_type": "markdown",
      "metadata": {
        "id": "7h85rmUtjB89"
      },
      "source": [
        "### Bring it together"
      ]
    },
    {
      "cell_type": "markdown",
      "metadata": {
        "id": "aMfDlsPajwPe"
      },
      "source": [
        "Merging the brewery data into our main dataset (including reviews and beer data) shows that their are 251,996 rows where there is not match and the new columns are nulls."
      ]
    },
    {
      "cell_type": "code",
      "metadata": {
        "id": "2-iD6fV6jGBE"
      },
      "source": [
        "df = pd.merge(df, breweries_new, how='left', on='brewery_id')"
      ],
      "execution_count": 146,
      "outputs": []
    },
    {
      "cell_type": "code",
      "metadata": {
        "colab": {
          "base_uri": "https://localhost:8080/"
        },
        "id": "-NfR9LDYjU5P",
        "outputId": "e03d0d6a-726f-4541-ed6e-e0014989fb26"
      },
      "source": [
        "for x in df:\r\n",
        "  print(x, ': ', df[x].isnull().sum())"
      ],
      "execution_count": 147,
      "outputs": [
        {
          "output_type": "stream",
          "text": [
            "brewery_id :  0\n",
            "brewery_name_x :  0\n",
            "review_time :  0\n",
            "review_overall :  0\n",
            "review_aroma :  0\n",
            "review_appearance :  0\n",
            "review_profilename :  0\n",
            "beer_style :  0\n",
            "review_palate :  0\n",
            "review_taste :  0\n",
            "beer_name :  0\n",
            "beer_abv :  0\n",
            "beer_id :  0\n",
            "beer_availability :  0\n",
            "beer_retired :  0\n",
            "brewery_name_y :  251996\n",
            "brewery_city :  251996\n",
            "brewery_state :  251996\n",
            "brewery_country :  251996\n",
            "brewery_notes :  251996\n",
            "brewery_bar :  251996\n",
            "brewery_beertogo :  251996\n",
            "brewery_brewery :  251996\n",
            "brewery_eatery :  251996\n",
            "brewery_homebrew :  251996\n",
            "brewery_store :  251996\n"
          ],
          "name": "stdout"
        }
      ]
    },
    {
      "cell_type": "markdown",
      "metadata": {
        "id": "vQSd_MbwkI7R"
      },
      "source": [
        "### Tidying Up"
      ]
    },
    {
      "cell_type": "markdown",
      "metadata": {
        "id": "BD2iyDY4_KX1"
      },
      "source": [
        "#### Brewery Name"
      ]
    },
    {
      "cell_type": "markdown",
      "metadata": {
        "id": "UYtCUE5H_PA1"
      },
      "source": [
        "There are two brewery name columns in the dataset so we will drop the one which was associated with the Brewery dataset and contains null values."
      ]
    },
    {
      "cell_type": "code",
      "metadata": {
        "id": "ko7R02nW_OM2"
      },
      "source": [
        "df.drop(columns='brewery_name_y', inplace=True)\r\n",
        "df.rename(columns={'brewery_name_x':'brewery_name'}, inplace=True)\r\n",
        "#df.head()"
      ],
      "execution_count": 148,
      "outputs": []
    },
    {
      "cell_type": "markdown",
      "metadata": {
        "id": "w-DvuOfZAucm"
      },
      "source": [
        "#### Brewery City, State & Country"
      ]
    },
    {
      "cell_type": "markdown",
      "metadata": {
        "id": "Owuwu8IOAy6u"
      },
      "source": [
        "There are 251,996 rows that did not match between the reviews and the breweries datasets which means we do not have information on the location of these breweries.\r\n",
        "\r\n",
        "For now, we will put these missing values as 'n/a' in the dataset and can look to impute data at later stage (during EDA) if required."
      ]
    },
    {
      "cell_type": "code",
      "metadata": {
        "id": "sZ0yRpCyBdr1"
      },
      "source": [
        "df.brewery_city.fillna('n/a', inplace=True)\r\n",
        "df.brewery_state.fillna('n/a', inplace=True)\r\n",
        "df.brewery_country.fillna('n/a', inplace=True)"
      ],
      "execution_count": 149,
      "outputs": []
    },
    {
      "cell_type": "markdown",
      "metadata": {
        "id": "2GRClGwRpIpz"
      },
      "source": [
        "#### Brewery Type"
      ]
    },
    {
      "cell_type": "markdown",
      "metadata": {
        "id": "e1DVXjsvpL6v"
      },
      "source": [
        "Earlier we split the brewery_type field into 6 seperate boolean columns. Now, when merging we see that 251,996 rows that we couldn't match on will now need to have brewery_type associated with them. \r\n",
        "\r\n",
        "Because we do not know what type of breweries these are, I added in an additional boolean field to say if brewery type wasn't available - brewery_na set to 1 for null value rows and 0 for rows with values."
      ]
    },
    {
      "cell_type": "code",
      "metadata": {
        "id": "r5RJ9pa7lBX4"
      },
      "source": [
        "df['brewery_na'] = 0\r\n",
        "df['brewery_na'] = np.where((df.brewery_bar.isnull()), 1 ,df.brewery_na)"
      ],
      "execution_count": 150,
      "outputs": []
    },
    {
      "cell_type": "code",
      "metadata": {
        "id": "qYPMKXtKoi9_"
      },
      "source": [
        "df['brewery_bar'] = np.where((df.brewery_bar.isnull()), 0 ,df.brewery_bar)\r\n",
        "df['brewery_beertogo'] = np.where((df.brewery_beertogo.isnull()), 0 ,df.brewery_beertogo)\r\n",
        "df['brewery_brewery'] = np.where((df.brewery_brewery.isnull()), 0 ,df.brewery_brewery)\r\n",
        "df['brewery_eatery'] = np.where((df.brewery_eatery.isnull()), 0 ,df.brewery_eatery)\r\n",
        "df['brewery_homebrew'] = np.where((df.brewery_homebrew.isnull()), 0 ,df.brewery_homebrew)\r\n",
        "df['brewery_store'] = np.where((df.brewery_store.isnull()), 0 ,df.brewery_store)"
      ],
      "execution_count": 151,
      "outputs": []
    },
    {
      "cell_type": "code",
      "metadata": {
        "id": "-stQzWaNAKmW"
      },
      "source": [
        "df['brewery_bar'] = df.brewery_bar.astype('int')\r\n",
        "df['brewery_beertogo'] = df.brewery_beertogo.astype('int')\r\n",
        "df['brewery_brewery'] = df.brewery_brewery.astype('int')\r\n",
        "df['brewery_eatery'] = df.brewery_eatery.astype('int')\r\n",
        "df['brewery_homebrew'] = df.brewery_homebrew.astype('int')\r\n",
        "df['brewery_store'] = df.brewery_store.astype('int')"
      ],
      "execution_count": 152,
      "outputs": []
    },
    {
      "cell_type": "code",
      "metadata": {
        "id": "N39wX2vfAFig"
      },
      "source": [
        "#df.dtypes"
      ],
      "execution_count": 153,
      "outputs": []
    },
    {
      "cell_type": "markdown",
      "metadata": {
        "id": "EEWHvkce-S7K"
      },
      "source": [
        "#### Brewery Notes"
      ]
    },
    {
      "cell_type": "markdown",
      "metadata": {
        "id": "5qYizzTC-vJw"
      },
      "source": [
        "Similar to beer notes, the brewery notes contains a lot text that could be beneficial but may take a bit of time to investigate and tidy.  \r\n",
        "\r\n",
        "Based on this, I will remove this column from the dataset."
      ]
    },
    {
      "cell_type": "code",
      "metadata": {
        "colab": {
          "base_uri": "https://localhost:8080/"
        },
        "id": "NGpwcdeo-Vn3",
        "outputId": "0af836f0-daa8-48be-84df-4e4fdf027c99"
      },
      "source": [
        "df.brewery_notes.nunique()"
      ],
      "execution_count": 154,
      "outputs": [
        {
          "output_type": "execute_result",
          "data": {
            "text/plain": [
              "743"
            ]
          },
          "metadata": {
            "tags": []
          },
          "execution_count": 154
        }
      ]
    },
    {
      "cell_type": "code",
      "metadata": {
        "colab": {
          "base_uri": "https://localhost:8080/"
        },
        "id": "iz3buzXU-Zfy",
        "outputId": "63ed8498-7433-4591-e6a2-d932324e8f2f"
      },
      "source": [
        "df.brewery_notes.value_counts()"
      ],
      "execution_count": 155,
      "outputs": [
        {
          "output_type": "execute_result",
          "data": {
            "text/plain": [
              "no notes at this time                                                                                                                                              780984\n",
              "location of their r d facility where they also brew limited batches for the boston market  tours are also available                                                 39444\n",
              "on site brewpub                                                                                                                                                     24083\n",
              "owned by anheuser busch inbev                                                                                                                                       21190\n",
              "mahou san miguel has a     ownership stake since                                                                                                                    20004\n",
              "                                                                                                                                                                    ...  \n",
              "the previous wessex craft brewers  this brewery also does bottling services for selected micro breweries                                                                1\n",
              "opened in      and situated at the white hart inn in doncaster as a brewpub  around     regular ales and     more seasonals specials  all cask conditioned ales         1\n",
              "no longer brewing beer  now a distillery                                                                                                                                1\n",
              "originally the brewer s den brew on premise  they have re branded  and now supply local pubs and clubs with their own beer                                              1\n",
              "a brazilian steakhouse grill and brewpub                                                                                                                                1\n",
              "Name: brewery_notes, Length: 743, dtype: int64"
            ]
          },
          "metadata": {
            "tags": []
          },
          "execution_count": 155
        }
      ]
    },
    {
      "cell_type": "code",
      "metadata": {
        "id": "Q0rcU13w-94d"
      },
      "source": [
        "df.drop(columns='brewery_notes', inplace=True)"
      ],
      "execution_count": 156,
      "outputs": []
    },
    {
      "cell_type": "markdown",
      "metadata": {
        "id": "iZK8bpgtB2Vx"
      },
      "source": [
        "#### Final Recap"
      ]
    },
    {
      "cell_type": "code",
      "metadata": {
        "colab": {
          "base_uri": "https://localhost:8080/"
        },
        "id": "4aLVCCONpDfd",
        "outputId": "4298f142-48ec-456f-a238-7d6a3ba19b7b"
      },
      "source": [
        "for x in df:\r\n",
        "  print(x, ': ', df[x].isnull().sum())"
      ],
      "execution_count": 157,
      "outputs": [
        {
          "output_type": "stream",
          "text": [
            "brewery_id :  0\n",
            "brewery_name :  0\n",
            "review_time :  0\n",
            "review_overall :  0\n",
            "review_aroma :  0\n",
            "review_appearance :  0\n",
            "review_profilename :  0\n",
            "beer_style :  0\n",
            "review_palate :  0\n",
            "review_taste :  0\n",
            "beer_name :  0\n",
            "beer_abv :  0\n",
            "beer_id :  0\n",
            "beer_availability :  0\n",
            "beer_retired :  0\n",
            "brewery_city :  0\n",
            "brewery_state :  0\n",
            "brewery_country :  0\n",
            "brewery_bar :  0\n",
            "brewery_beertogo :  0\n",
            "brewery_brewery :  0\n",
            "brewery_eatery :  0\n",
            "brewery_homebrew :  0\n",
            "brewery_store :  0\n",
            "brewery_na :  0\n"
          ],
          "name": "stdout"
        }
      ]
    },
    {
      "cell_type": "code",
      "metadata": {
        "id": "59UdZgM3HIAJ"
      },
      "source": [
        "column_order = ['review_time', 'review_profilename', 'brewery_name', 'beer_name', 'beer_style', 'beer_abv', 'review_overall', 'review_appearance', 'review_aroma', 'review_palate', 'review_taste', 'brewery_city', 'brewery_state', 'brewery_country', 'beer_availability', 'beer_retired', 'brewery_beertogo', 'brewery_brewery', 'brewery_eatery', 'brewery_homebrew', 'brewery_store', 'brewery_na']\r\n",
        "\r\n",
        "df = df[column_order]"
      ],
      "execution_count": 158,
      "outputs": []
    },
    {
      "cell_type": "markdown",
      "metadata": {
        "id": "3XbxYfylKbAP"
      },
      "source": [
        "## Final Datasets"
      ]
    },
    {
      "cell_type": "markdown",
      "metadata": {
        "id": "H80fDGXrY020"
      },
      "source": [
        "### Review-Level Dataset"
      ]
    },
    {
      "cell_type": "markdown",
      "metadata": {
        "id": "zAVYI3LUY5RK"
      },
      "source": [
        "The dataset that we pulled together so far is at review-level, meaning it has every review and score associated with that review (as well as the additional information related to beers and breweries we added to it).\r\n",
        "\r\n",
        "This leaves us with 1.59 million rows and 22 dimensions."
      ]
    },
    {
      "cell_type": "code",
      "metadata": {
        "id": "y85_p1TJOKF_"
      },
      "source": [
        "#df.head()"
      ],
      "execution_count": 159,
      "outputs": []
    },
    {
      "cell_type": "code",
      "metadata": {
        "colab": {
          "base_uri": "https://localhost:8080/"
        },
        "id": "V6ugxhppZUBJ",
        "outputId": "3304ccd1-cfdf-4c8f-b490-d73947827093"
      },
      "source": [
        "df.shape"
      ],
      "execution_count": 160,
      "outputs": [
        {
          "output_type": "execute_result",
          "data": {
            "text/plain": [
              "(1586614, 22)"
            ]
          },
          "metadata": {
            "tags": []
          },
          "execution_count": 160
        }
      ]
    },
    {
      "cell_type": "markdown",
      "metadata": {
        "id": "EQu9yry2gI26"
      },
      "source": [
        "### Beer-Level Dataset"
      ]
    },
    {
      "cell_type": "markdown",
      "metadata": {
        "id": "5UxuUUCUgRms"
      },
      "source": [
        "Focus of our study is on understanding which beer is the most popular to support our decision on new beer to produce. With this in mind, we will also create a dataset that is grouped at beer-level.\r\n",
        "\r\n",
        "For this, we will group across all the beer and brewery categories that we have in our main dataset and then get information on:\r\n",
        "* Number of reviews for each beer\r\n",
        "* Mean for each score (i.e. overall, appearance, aroma, palate, taste), for each beer\r\n",
        "* Standard Deviation for each score, for each beer\r\n",
        "* Lowest/min for each score, for each beer \r\n",
        "* Highest/max for each score, for each beer \r\n",
        "\r\n",
        "For Standard Deviation, there 23,672 that become null values due to there only being 1 review to calculate this from. For time-being, this has been inputed as 0.\r\n",
        "\r\n",
        "Further review of this dataset will take place in the EDA section next."
      ]
    },
    {
      "cell_type": "code",
      "metadata": {
        "id": "8h3TV5GgONUw"
      },
      "source": [
        "beerlevel_groupby = ['brewery_name', 'beer_name', 'beer_style', 'beer_abv', 'brewery_city', 'brewery_state', 'brewery_country', 'beer_availability', 'beer_retired', 'brewery_beertogo', 'brewery_brewery', 'brewery_eatery', 'brewery_homebrew', 'brewery_store', 'brewery_na']\r\n",
        "\r\n",
        "df_beer = df.groupby(by=beerlevel_groupby, as_index=False).agg(['mean', 'count', 'max', 'min', 'std']).reset_index()"
      ],
      "execution_count": 161,
      "outputs": []
    },
    {
      "cell_type": "code",
      "metadata": {
        "id": "v5P2mIMoQy07"
      },
      "source": [
        "new_columns = ['brewery_name', 'beer_name', 'beer_style', 'beer_abv', 'brewery_city', 'brewery_state', 'brewery_country', 'beer_availability', \r\n",
        "               'beer_retired', 'brewery_beertogo', 'brewery_brewery', 'brewery_eatery', 'brewery_homebrew', 'brewery_store', 'brewery_na',\r\n",
        "               'review_overall_mean', 'review_overall_count', 'review_overall_max', 'review_overall_min', 'review_overall_std',\r\n",
        "               'review_appearance_mean', 'review_appearance_count', 'review_appearance_max', 'review_appearance_min', 'review_appearance_std',\r\n",
        "               'review_aroma_mean', 'review_aroma_count', 'review_aroma_max', 'review_aroma_min', 'review_aroma_std',\r\n",
        "               'review_palate_mean', 'review_palate_count', 'review_palate_max', 'review_palate_min', 'review_palate_std',\r\n",
        "               'review_taste_mean', 'review_taste_count', 'review_taste_max', 'review_taste_min', 'review_taste_std']\r\n",
        "\r\n",
        "df_beer.columns = new_columns"
      ],
      "execution_count": 162,
      "outputs": []
    },
    {
      "cell_type": "code",
      "metadata": {
        "id": "9IENq8FBSOIR"
      },
      "source": [
        "#df_beer.head()"
      ],
      "execution_count": 163,
      "outputs": []
    },
    {
      "cell_type": "code",
      "metadata": {
        "id": "cz0dErI-T4f5"
      },
      "source": [
        "df_beer.drop(columns=['review_appearance_count', 'review_aroma_count', 'review_palate_count', 'review_taste_count'], inplace=True)\r\n",
        "df_beer.rename(columns={'review_overall_count':'beer_reviews'}, inplace=True)\r\n",
        "#df_beer.head()"
      ],
      "execution_count": 164,
      "outputs": []
    },
    {
      "cell_type": "code",
      "metadata": {
        "id": "pG8dyDQDUy75"
      },
      "source": [
        "#df_beer['review_overall_range'] = df_beer.review_overall_max - df_beer.review_overall_min\r\n",
        "#df_beer['review_appearance_range'] = df_beer.review_appearance_max - df_beer.review_appearance_min\r\n",
        "#df_beer['review_aroma_range'] = df_beer.review_aroma_max - df_beer.review_aroma_min\r\n",
        "#df_beer['review_palate_range'] = df_beer.review_palate_max - df_beer.review_palate_min\r\n",
        "#df_beer['review_taste_range'] = df_beer.review_taste_max - df_beer.review_taste_min"
      ],
      "execution_count": 165,
      "outputs": []
    },
    {
      "cell_type": "code",
      "metadata": {
        "id": "Cv80QDtCXTvA"
      },
      "source": [
        "column_order = ['brewery_name', 'beer_name', 'beer_style', 'beer_abv', 'brewery_city', 'brewery_state', 'brewery_country', 'beer_availability', \r\n",
        "               'beer_retired', 'brewery_beertogo', 'brewery_brewery', 'brewery_eatery', 'brewery_homebrew', 'brewery_store', 'brewery_na',\r\n",
        "                'beer_reviews', 'review_overall_mean', 'review_appearance_mean', 'review_aroma_mean', 'review_palate_mean', 'review_taste_mean', \r\n",
        "                'review_overall_std', 'review_appearance_std', 'review_aroma_std', 'review_palate_std', 'review_taste_std', \r\n",
        "                'review_overall_min', 'review_appearance_min', 'review_aroma_min', 'review_palate_min', 'review_taste_min',\r\n",
        "                'review_overall_max', 'review_appearance_max', 'review_aroma_max', 'review_palate_max', 'review_taste_max']\r\n",
        "\r\n",
        "df_beer = df_beer[column_order]"
      ],
      "execution_count": 166,
      "outputs": []
    },
    {
      "cell_type": "code",
      "metadata": {
        "colab": {
          "base_uri": "https://localhost:8080/"
        },
        "id": "N2gZVgj_f6hB",
        "outputId": "c47fabba-4e88-4c60-a306-db89563ac580"
      },
      "source": [
        "df_beer.shape"
      ],
      "execution_count": 167,
      "outputs": [
        {
          "output_type": "execute_result",
          "data": {
            "text/plain": [
              "(65841, 36)"
            ]
          },
          "metadata": {
            "tags": []
          },
          "execution_count": 167
        }
      ]
    },
    {
      "cell_type": "code",
      "metadata": {
        "id": "vcb0kIpGYYMq"
      },
      "source": [
        "#for x in df_beer:\r\n",
        "#  print(x, ': ', df_beer[x].isnull().sum())"
      ],
      "execution_count": 168,
      "outputs": []
    },
    {
      "cell_type": "code",
      "metadata": {
        "id": "LIpZuC8efzqW"
      },
      "source": [
        "df_beer.review_overall_std.fillna(0, inplace=True)\r\n",
        "df_beer.review_appearance_std.fillna(0, inplace=True)\r\n",
        "df_beer.review_aroma_std.fillna(0, inplace=True)\r\n",
        "df_beer.review_palate_std.fillna(0, inplace=True)\r\n",
        "df_beer.review_taste_std.fillna(0, inplace=True)"
      ],
      "execution_count": 169,
      "outputs": []
    },
    {
      "cell_type": "code",
      "metadata": {
        "id": "dz-oGOwFi5SI"
      },
      "source": [
        "#for x in df_beer:\r\n",
        "#  print(x, ': ', df_beer[x].isnull().sum())"
      ],
      "execution_count": 170,
      "outputs": []
    },
    {
      "cell_type": "markdown",
      "metadata": {
        "id": "sMOcAycVjgnj"
      },
      "source": [
        "## Output Data Files"
      ]
    },
    {
      "cell_type": "code",
      "metadata": {
        "id": "67a9eEcEjjXc"
      },
      "source": [
        "df.to_csv('beer_reviews_cleaned.csv')\r\n",
        "df_beer.to_csv('beers_cleaned.csv')"
      ],
      "execution_count": 171,
      "outputs": []
    }
  ]
}