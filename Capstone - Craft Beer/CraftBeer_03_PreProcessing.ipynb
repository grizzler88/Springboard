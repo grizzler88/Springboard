{
  "nbformat": 4,
  "nbformat_minor": 0,
  "metadata": {
    "colab": {
      "name": "CraftBeer_03_PreProcessing.ipynb",
      "provenance": [],
      "toc_visible": true,
      "authorship_tag": "ABX9TyPd7910jSBqNzdmq3MtX9OT",
      "include_colab_link": true
    },
    "kernelspec": {
      "name": "python3",
      "display_name": "Python 3"
    },
    "language_info": {
      "name": "python"
    }
  },
  "cells": [
    {
      "cell_type": "markdown",
      "metadata": {
        "id": "view-in-github",
        "colab_type": "text"
      },
      "source": [
        "<a href=\"https://colab.research.google.com/github/grizzler88/Springboard/blob/master/Capstone%20-%20Craft%20Beer/CraftBeer_03_PreProcessing.ipynb\" target=\"_parent\"><img src=\"https://colab.research.google.com/assets/colab-badge.svg\" alt=\"Open In Colab\"/></a>"
      ]
    },
    {
      "cell_type": "markdown",
      "metadata": {
        "id": "B8vrTlPMoj05"
      },
      "source": [
        "# Capstone 3: Craft Beer Recommendation \n",
        "\n",
        "#Pre-processing and Training (Part 3) "
      ]
    },
    {
      "cell_type": "markdown",
      "metadata": {
        "id": "PotXbiDwovmR"
      },
      "source": [
        "## Import Packages and Load Data"
      ]
    },
    {
      "cell_type": "code",
      "metadata": {
        "id": "Zzb359beo6sZ"
      },
      "source": [
        "import pandas as pd\n",
        "import numpy as np\n",
        "import matplotlib.pyplot as plt\n",
        "import seaborn as sns\n",
        "import datetime as dt"
      ],
      "execution_count": 1,
      "outputs": []
    },
    {
      "cell_type": "code",
      "metadata": {
        "id": "lsNTMIvao7lb"
      },
      "source": [
        "df = pd.read_csv('beers_eda.csv', keep_default_na=False)"
      ],
      "execution_count": 2,
      "outputs": []
    },
    {
      "cell_type": "code",
      "metadata": {
        "id": "G4piS_scpBFq"
      },
      "source": [
        "df.drop(columns='Unnamed: 0', inplace=True)"
      ],
      "execution_count": 3,
      "outputs": []
    },
    {
      "cell_type": "code",
      "metadata": {
        "id": "eurkdqrZRZnl"
      },
      "source": [
        "#df.head()"
      ],
      "execution_count": 4,
      "outputs": []
    },
    {
      "cell_type": "markdown",
      "metadata": {
        "id": "0iScCgNhcNBT"
      },
      "source": [
        "## Removing Missing Values"
      ]
    },
    {
      "cell_type": "markdown",
      "metadata": {
        "id": "IFlNMXpPcRws"
      },
      "source": [
        "Throughout our analysis, we've known that certaion fields have contained 'N/A' values - mainly in relation to Brewery Location, Brewery Type and Beer Availability data.\n",
        "\n",
        "We wanted to our analyse first to see if it added any insight before making a decision to either drop the rows (and keep the columns) or drop the columns (and keep the rows). Our analysis has shown that a number of columns that contain 'N/A' also look to be worth including in our final modeling, including:\n",
        "* brewery_region\n",
        "* brewery_area\n",
        "* brewery_bar\n",
        "* beer_availability\n",
        "\n",
        "To continue to include these as features in our models we will first have to drop the rows which contain null values. This is done below."
      ]
    },
    {
      "cell_type": "code",
      "metadata": {
        "id": "wiS2kEJrUTtz",
        "colab": {
          "base_uri": "https://localhost:8080/"
        },
        "outputId": "c69c5629-b165-49f0-f129-5e63f3985310"
      },
      "source": [
        "print('Number of n/a in Beer Avaialability: ', df[df.beer_availability == 'N/A']['beer_availability'].count())\n",
        "print('Number of n/a in Brewery Type: ', df[df.brewery_na == 1]['brewery_na'].count())\n",
        "print('Number of n/a in Brewery Region: ', df[df.brewery_region == 'N/A']['brewery_region'].count())"
      ],
      "execution_count": 5,
      "outputs": [
        {
          "output_type": "stream",
          "text": [
            "Number of n/a in Beer Avaialability:  2975\n",
            "Number of n/a in Brewery Type:  6363\n",
            "Number of n/a in Brewery Region:  6363\n"
          ],
          "name": "stdout"
        }
      ]
    },
    {
      "cell_type": "code",
      "metadata": {
        "id": "LBfoHaCYXFS_"
      },
      "source": [
        "missing_data = df.loc[ (df.beer_availability == 'N/A') | (df.brewery_na == 1) | (df.brewery_region == 'N/A') ]"
      ],
      "execution_count": 6,
      "outputs": []
    },
    {
      "cell_type": "code",
      "metadata": {
        "id": "BBVYciDJayjW",
        "colab": {
          "base_uri": "https://localhost:8080/"
        },
        "outputId": "7aebb410-801d-4ea9-d715-58b84ff6e8e1"
      },
      "source": [
        "missing_data.shape"
      ],
      "execution_count": 7,
      "outputs": [
        {
          "output_type": "execute_result",
          "data": {
            "text/plain": [
              "(8874, 26)"
            ]
          },
          "metadata": {
            "tags": []
          },
          "execution_count": 7
        }
      ]
    },
    {
      "cell_type": "code",
      "metadata": {
        "id": "88coUY4eV0PK",
        "colab": {
          "base_uri": "https://localhost:8080/"
        },
        "outputId": "6758f1b2-8ada-4ce8-d9bb-2ad0d0997c2d"
      },
      "source": [
        "missing_data['cluster_target'].value_counts(normalize=True)"
      ],
      "execution_count": 8,
      "outputs": [
        {
          "output_type": "execute_result",
          "data": {
            "text/plain": [
              "0    0.920216\n",
              "1    0.079784\n",
              "Name: cluster_target, dtype: float64"
            ]
          },
          "metadata": {
            "tags": []
          },
          "execution_count": 8
        }
      ]
    },
    {
      "cell_type": "code",
      "metadata": {
        "id": "hsWO0-ckaN3h"
      },
      "source": [
        "df = df.loc[ (df.beer_availability != 'N/A') & (df.brewery_na != 1) & (df.brewery_region != 'N/A') ]"
      ],
      "execution_count": 9,
      "outputs": []
    },
    {
      "cell_type": "code",
      "metadata": {
        "id": "mGWuR5vqa58P",
        "colab": {
          "base_uri": "https://localhost:8080/"
        },
        "outputId": "3149d811-78a8-4571-abea-8849c22897a9"
      },
      "source": [
        "df.shape"
      ],
      "execution_count": 10,
      "outputs": [
        {
          "output_type": "execute_result",
          "data": {
            "text/plain": [
              "(57171, 26)"
            ]
          },
          "metadata": {
            "tags": []
          },
          "execution_count": 10
        }
      ]
    },
    {
      "cell_type": "code",
      "metadata": {
        "colab": {
          "base_uri": "https://localhost:8080/"
        },
        "id": "t8Eg2rulSyM7",
        "outputId": "4478c9a6-f3c6-4f52-a5e7-58b828f96b19"
      },
      "source": [
        "df.cluster_target.value_counts(normalize=True)"
      ],
      "execution_count": 11,
      "outputs": [
        {
          "output_type": "execute_result",
          "data": {
            "text/plain": [
              "0    0.945025\n",
              "1    0.054975\n",
              "Name: cluster_target, dtype: float64"
            ]
          },
          "metadata": {
            "tags": []
          },
          "execution_count": 11
        }
      ]
    },
    {
      "cell_type": "code",
      "metadata": {
        "id": "dhuGPQxPbFOp",
        "colab": {
          "base_uri": "https://localhost:8080/"
        },
        "outputId": "df650b15-abb0-4cff-c848-28f3d70672f2"
      },
      "source": [
        "df.cluster_target.value_counts()"
      ],
      "execution_count": 12,
      "outputs": [
        {
          "output_type": "execute_result",
          "data": {
            "text/plain": [
              "0    54028\n",
              "1     3143\n",
              "Name: cluster_target, dtype: int64"
            ]
          },
          "metadata": {
            "tags": []
          },
          "execution_count": 12
        }
      ]
    },
    {
      "cell_type": "markdown",
      "metadata": {
        "id": "LB19ABhd3YNF"
      },
      "source": [
        "## Dataset for Comparison Later"
      ]
    },
    {
      "cell_type": "markdown",
      "metadata": {
        "id": "NGEfS7F139NW"
      },
      "source": [
        "We will want to compare are model vs real result later on (i.e. average scores and number of reviews) so we will create a copy of the dataset while it still contains these data points."
      ]
    },
    {
      "cell_type": "code",
      "metadata": {
        "id": "T9gxYCUX33ja"
      },
      "source": [
        "df_compare = df"
      ],
      "execution_count": 13,
      "outputs": []
    },
    {
      "cell_type": "markdown",
      "metadata": {
        "id": "A774q4Hmdo65"
      },
      "source": [
        "## Dropping Columns"
      ]
    },
    {
      "cell_type": "markdown",
      "metadata": {
        "id": "OY51WwWhdwAY"
      },
      "source": [
        "Throughout the analysis, we have looked through the various different columns in the data to gather whether we beleive they will add value to our modelling. Based on the EDA to date, we believe it makes sense to delete the following columns (with reason in brackets):\n",
        "\n",
        "* beer_name (too many dimensions)\n",
        "* brewery_name (too many dimensions)\n",
        "* beer_style_detail (captured by beer_type and beer_style)\n",
        "* beer_retired (not actionable)\n",
        "* brewery_city (captured by beer_region and beer_area)\n",
        "* brewery_state (captured by beer_region and beer_area)\n",
        "* brewery_country (captured by beer_region and beer_area)\n",
        "* brewery_beertogo (highly correlated with brewery_bar)\n",
        "* brewery_eatery (highly correlated with brewery_bar)\n",
        "* brewery_brewery (not significatn in analysis)\n",
        "* brewery_homebrew (not significatn in analysis)\n",
        "* brewery_store (not significatn in analysis)\n",
        "* brewery_na (null values)\n",
        "* cluster (captured in target variable)\n",
        "* number_reviews (captured in target variable)\n",
        "* mean_score (captured in target variable)\n",
        "* std_score (captured in target variable)\n",
        "* review_recency (captured in target variable)\n",
        "\n",
        "Below we have looked to remove these."
      ]
    },
    {
      "cell_type": "code",
      "metadata": {
        "id": "WbxnsKDtfz36"
      },
      "source": [
        "#df.columns"
      ],
      "execution_count": 14,
      "outputs": []
    },
    {
      "cell_type": "code",
      "metadata": {
        "id": "FIuO7Kz2doI7"
      },
      "source": [
        "drop_list = ['brewery_name', 'beer_name', 'beer_style_detail', \n",
        "       'brewery_city', 'brewery_state', 'brewery_country', \n",
        "       'beer_retired', 'brewery_beertogo', 'brewery_brewery',\n",
        "       'brewery_eatery', 'brewery_homebrew', 'brewery_store', 'brewery_na',\n",
        "       'number_reviews', 'mean_score', 'std_score', 'recency_review',\n",
        "       'cluster']"
      ],
      "execution_count": 15,
      "outputs": []
    },
    {
      "cell_type": "code",
      "metadata": {
        "id": "1K6TV2Tngt3t"
      },
      "source": [
        "df.drop(columns=drop_list, inplace=True)"
      ],
      "execution_count": 16,
      "outputs": []
    },
    {
      "cell_type": "code",
      "metadata": {
        "id": "z_ug1f0PhCYZ"
      },
      "source": [
        "#df.head()"
      ],
      "execution_count": 17,
      "outputs": []
    },
    {
      "cell_type": "markdown",
      "metadata": {
        "id": "eB_nLvvH8tIg"
      },
      "source": [
        "## Creating Dummy Values"
      ]
    },
    {
      "cell_type": "markdown",
      "metadata": {
        "id": "NCILRf0Z9IPG"
      },
      "source": [
        "Lastly, we will turn our remaining categorical variables into dummy variable to allow them be used in our modelling."
      ]
    },
    {
      "cell_type": "code",
      "metadata": {
        "id": "mY0M_xDPQvDX"
      },
      "source": [
        "dummy_beer_type = pd.get_dummies(df.beer_type, prefix='type', drop_first=True)\n",
        "dummy_beer_style = pd.get_dummies(df.beer_style, prefix='style', drop_first=True)\n",
        "dummy_brewery_region = pd.get_dummies(df.brewery_region, prefix='region', drop_first=True)\n",
        "dummy_brewery_area = pd.get_dummies(df.brewery_area, prefix='area', drop_first=True)\n",
        "dummy_beer_availability = pd.get_dummies(df.beer_availability, prefix='availability', drop_first=True)"
      ],
      "execution_count": 18,
      "outputs": []
    },
    {
      "cell_type": "code",
      "metadata": {
        "id": "F4dABQiQRMhy"
      },
      "source": [
        "df = pd.concat([df, dummy_beer_type, dummy_beer_style, dummy_beer_availability, dummy_brewery_region, dummy_brewery_area], axis=1).drop(columns=['beer_type', 'beer_style', 'brewery_region', 'brewery_area', 'beer_availability'])"
      ],
      "execution_count": 19,
      "outputs": []
    },
    {
      "cell_type": "code",
      "metadata": {
        "id": "MhgD2UMM8LOK",
        "colab": {
          "base_uri": "https://localhost:8080/",
          "height": 0
        },
        "outputId": "aa845ee7-ae5e-42d1-c4b1-d863c56ae327"
      },
      "source": [
        "df.sample(10)"
      ],
      "execution_count": 20,
      "outputs": [
        {
          "output_type": "execute_result",
          "data": {
            "text/html": [
              "<div>\n",
              "<style scoped>\n",
              "    .dataframe tbody tr th:only-of-type {\n",
              "        vertical-align: middle;\n",
              "    }\n",
              "\n",
              "    .dataframe tbody tr th {\n",
              "        vertical-align: top;\n",
              "    }\n",
              "\n",
              "    .dataframe thead th {\n",
              "        text-align: right;\n",
              "    }\n",
              "</style>\n",
              "<table border=\"1\" class=\"dataframe\">\n",
              "  <thead>\n",
              "    <tr style=\"text-align: right;\">\n",
              "      <th></th>\n",
              "      <th>beer_abv</th>\n",
              "      <th>brewery_bar</th>\n",
              "      <th>cluster_target</th>\n",
              "      <th>type_Lager</th>\n",
              "      <th>style_Brown Ale</th>\n",
              "      <th>style_Dark Ale</th>\n",
              "      <th>style_Dark Lager</th>\n",
              "      <th>style_Hybrid Beer</th>\n",
              "      <th>style_IPA</th>\n",
              "      <th>style_Pale Ale</th>\n",
              "      <th>style_Pale Lager</th>\n",
              "      <th>style_Porter</th>\n",
              "      <th>style_Speciality Beer</th>\n",
              "      <th>style_Stout</th>\n",
              "      <th>style_Strong Ale</th>\n",
              "      <th>style_Wheat Beer</th>\n",
              "      <th>style_Wild / Sour Beer</th>\n",
              "      <th>availability_Rotational</th>\n",
              "      <th>availability_Year Round</th>\n",
              "      <th>region_Europe</th>\n",
              "      <th>region_ROW</th>\n",
              "      <th>region_USA</th>\n",
              "      <th>area_California</th>\n",
              "      <th>area_Canada</th>\n",
              "      <th>area_Colorado</th>\n",
              "      <th>area_Europe</th>\n",
              "      <th>area_Germany</th>\n",
              "      <th>area_Massachusetts</th>\n",
              "      <th>area_Michigan</th>\n",
              "      <th>area_New York</th>\n",
              "      <th>area_Oregon</th>\n",
              "      <th>area_Pennsylvania</th>\n",
              "      <th>area_ROW</th>\n",
              "      <th>area_USA</th>\n",
              "      <th>area_United Kingdom</th>\n",
              "      <th>area_Wisconsin</th>\n",
              "    </tr>\n",
              "  </thead>\n",
              "  <tbody>\n",
              "    <tr>\n",
              "      <th>19339</th>\n",
              "      <td>5.000000</td>\n",
              "      <td>0</td>\n",
              "      <td>0</td>\n",
              "      <td>1</td>\n",
              "      <td>0</td>\n",
              "      <td>0</td>\n",
              "      <td>0</td>\n",
              "      <td>0</td>\n",
              "      <td>0</td>\n",
              "      <td>0</td>\n",
              "      <td>1</td>\n",
              "      <td>0</td>\n",
              "      <td>0</td>\n",
              "      <td>0</td>\n",
              "      <td>0</td>\n",
              "      <td>0</td>\n",
              "      <td>0</td>\n",
              "      <td>0</td>\n",
              "      <td>1</td>\n",
              "      <td>0</td>\n",
              "      <td>0</td>\n",
              "      <td>0</td>\n",
              "      <td>0</td>\n",
              "      <td>1</td>\n",
              "      <td>0</td>\n",
              "      <td>0</td>\n",
              "      <td>0</td>\n",
              "      <td>0</td>\n",
              "      <td>0</td>\n",
              "      <td>0</td>\n",
              "      <td>0</td>\n",
              "      <td>0</td>\n",
              "      <td>0</td>\n",
              "      <td>0</td>\n",
              "      <td>0</td>\n",
              "      <td>0</td>\n",
              "    </tr>\n",
              "    <tr>\n",
              "      <th>36019</th>\n",
              "      <td>8.100000</td>\n",
              "      <td>1</td>\n",
              "      <td>1</td>\n",
              "      <td>1</td>\n",
              "      <td>0</td>\n",
              "      <td>0</td>\n",
              "      <td>0</td>\n",
              "      <td>0</td>\n",
              "      <td>0</td>\n",
              "      <td>0</td>\n",
              "      <td>0</td>\n",
              "      <td>0</td>\n",
              "      <td>0</td>\n",
              "      <td>0</td>\n",
              "      <td>0</td>\n",
              "      <td>0</td>\n",
              "      <td>0</td>\n",
              "      <td>0</td>\n",
              "      <td>0</td>\n",
              "      <td>0</td>\n",
              "      <td>0</td>\n",
              "      <td>1</td>\n",
              "      <td>0</td>\n",
              "      <td>0</td>\n",
              "      <td>1</td>\n",
              "      <td>0</td>\n",
              "      <td>0</td>\n",
              "      <td>0</td>\n",
              "      <td>0</td>\n",
              "      <td>0</td>\n",
              "      <td>0</td>\n",
              "      <td>0</td>\n",
              "      <td>0</td>\n",
              "      <td>0</td>\n",
              "      <td>0</td>\n",
              "      <td>0</td>\n",
              "    </tr>\n",
              "    <tr>\n",
              "      <th>3391</th>\n",
              "      <td>4.100000</td>\n",
              "      <td>0</td>\n",
              "      <td>0</td>\n",
              "      <td>1</td>\n",
              "      <td>0</td>\n",
              "      <td>0</td>\n",
              "      <td>0</td>\n",
              "      <td>0</td>\n",
              "      <td>0</td>\n",
              "      <td>0</td>\n",
              "      <td>1</td>\n",
              "      <td>0</td>\n",
              "      <td>0</td>\n",
              "      <td>0</td>\n",
              "      <td>0</td>\n",
              "      <td>0</td>\n",
              "      <td>0</td>\n",
              "      <td>0</td>\n",
              "      <td>1</td>\n",
              "      <td>1</td>\n",
              "      <td>0</td>\n",
              "      <td>0</td>\n",
              "      <td>0</td>\n",
              "      <td>0</td>\n",
              "      <td>0</td>\n",
              "      <td>1</td>\n",
              "      <td>0</td>\n",
              "      <td>0</td>\n",
              "      <td>0</td>\n",
              "      <td>0</td>\n",
              "      <td>0</td>\n",
              "      <td>0</td>\n",
              "      <td>0</td>\n",
              "      <td>0</td>\n",
              "      <td>0</td>\n",
              "      <td>0</td>\n",
              "    </tr>\n",
              "    <tr>\n",
              "      <th>2346</th>\n",
              "      <td>6.100000</td>\n",
              "      <td>1</td>\n",
              "      <td>0</td>\n",
              "      <td>1</td>\n",
              "      <td>0</td>\n",
              "      <td>0</td>\n",
              "      <td>0</td>\n",
              "      <td>0</td>\n",
              "      <td>0</td>\n",
              "      <td>0</td>\n",
              "      <td>0</td>\n",
              "      <td>0</td>\n",
              "      <td>0</td>\n",
              "      <td>0</td>\n",
              "      <td>0</td>\n",
              "      <td>0</td>\n",
              "      <td>0</td>\n",
              "      <td>1</td>\n",
              "      <td>0</td>\n",
              "      <td>0</td>\n",
              "      <td>0</td>\n",
              "      <td>1</td>\n",
              "      <td>0</td>\n",
              "      <td>0</td>\n",
              "      <td>0</td>\n",
              "      <td>0</td>\n",
              "      <td>0</td>\n",
              "      <td>0</td>\n",
              "      <td>0</td>\n",
              "      <td>0</td>\n",
              "      <td>0</td>\n",
              "      <td>0</td>\n",
              "      <td>0</td>\n",
              "      <td>1</td>\n",
              "      <td>0</td>\n",
              "      <td>0</td>\n",
              "    </tr>\n",
              "    <tr>\n",
              "      <th>8733</th>\n",
              "      <td>4.500000</td>\n",
              "      <td>0</td>\n",
              "      <td>0</td>\n",
              "      <td>1</td>\n",
              "      <td>0</td>\n",
              "      <td>0</td>\n",
              "      <td>0</td>\n",
              "      <td>0</td>\n",
              "      <td>0</td>\n",
              "      <td>0</td>\n",
              "      <td>0</td>\n",
              "      <td>0</td>\n",
              "      <td>0</td>\n",
              "      <td>0</td>\n",
              "      <td>0</td>\n",
              "      <td>1</td>\n",
              "      <td>0</td>\n",
              "      <td>0</td>\n",
              "      <td>1</td>\n",
              "      <td>1</td>\n",
              "      <td>0</td>\n",
              "      <td>0</td>\n",
              "      <td>0</td>\n",
              "      <td>0</td>\n",
              "      <td>0</td>\n",
              "      <td>1</td>\n",
              "      <td>0</td>\n",
              "      <td>0</td>\n",
              "      <td>0</td>\n",
              "      <td>0</td>\n",
              "      <td>0</td>\n",
              "      <td>0</td>\n",
              "      <td>0</td>\n",
              "      <td>0</td>\n",
              "      <td>0</td>\n",
              "      <td>0</td>\n",
              "    </tr>\n",
              "    <tr>\n",
              "      <th>37430</th>\n",
              "      <td>5.000000</td>\n",
              "      <td>1</td>\n",
              "      <td>0</td>\n",
              "      <td>0</td>\n",
              "      <td>0</td>\n",
              "      <td>0</td>\n",
              "      <td>0</td>\n",
              "      <td>0</td>\n",
              "      <td>0</td>\n",
              "      <td>1</td>\n",
              "      <td>0</td>\n",
              "      <td>0</td>\n",
              "      <td>0</td>\n",
              "      <td>0</td>\n",
              "      <td>0</td>\n",
              "      <td>0</td>\n",
              "      <td>0</td>\n",
              "      <td>1</td>\n",
              "      <td>0</td>\n",
              "      <td>0</td>\n",
              "      <td>0</td>\n",
              "      <td>1</td>\n",
              "      <td>0</td>\n",
              "      <td>0</td>\n",
              "      <td>0</td>\n",
              "      <td>0</td>\n",
              "      <td>0</td>\n",
              "      <td>0</td>\n",
              "      <td>0</td>\n",
              "      <td>0</td>\n",
              "      <td>0</td>\n",
              "      <td>0</td>\n",
              "      <td>0</td>\n",
              "      <td>1</td>\n",
              "      <td>0</td>\n",
              "      <td>0</td>\n",
              "    </tr>\n",
              "    <tr>\n",
              "      <th>32407</th>\n",
              "      <td>3.500000</td>\n",
              "      <td>1</td>\n",
              "      <td>0</td>\n",
              "      <td>0</td>\n",
              "      <td>0</td>\n",
              "      <td>0</td>\n",
              "      <td>0</td>\n",
              "      <td>0</td>\n",
              "      <td>1</td>\n",
              "      <td>0</td>\n",
              "      <td>0</td>\n",
              "      <td>0</td>\n",
              "      <td>0</td>\n",
              "      <td>0</td>\n",
              "      <td>0</td>\n",
              "      <td>0</td>\n",
              "      <td>0</td>\n",
              "      <td>1</td>\n",
              "      <td>0</td>\n",
              "      <td>0</td>\n",
              "      <td>0</td>\n",
              "      <td>1</td>\n",
              "      <td>0</td>\n",
              "      <td>0</td>\n",
              "      <td>0</td>\n",
              "      <td>0</td>\n",
              "      <td>0</td>\n",
              "      <td>0</td>\n",
              "      <td>0</td>\n",
              "      <td>0</td>\n",
              "      <td>0</td>\n",
              "      <td>0</td>\n",
              "      <td>0</td>\n",
              "      <td>1</td>\n",
              "      <td>0</td>\n",
              "      <td>0</td>\n",
              "    </tr>\n",
              "    <tr>\n",
              "      <th>35364</th>\n",
              "      <td>5.000000</td>\n",
              "      <td>1</td>\n",
              "      <td>0</td>\n",
              "      <td>0</td>\n",
              "      <td>0</td>\n",
              "      <td>0</td>\n",
              "      <td>0</td>\n",
              "      <td>0</td>\n",
              "      <td>0</td>\n",
              "      <td>0</td>\n",
              "      <td>0</td>\n",
              "      <td>0</td>\n",
              "      <td>0</td>\n",
              "      <td>1</td>\n",
              "      <td>0</td>\n",
              "      <td>0</td>\n",
              "      <td>0</td>\n",
              "      <td>0</td>\n",
              "      <td>1</td>\n",
              "      <td>0</td>\n",
              "      <td>0</td>\n",
              "      <td>1</td>\n",
              "      <td>0</td>\n",
              "      <td>0</td>\n",
              "      <td>0</td>\n",
              "      <td>0</td>\n",
              "      <td>0</td>\n",
              "      <td>0</td>\n",
              "      <td>0</td>\n",
              "      <td>0</td>\n",
              "      <td>0</td>\n",
              "      <td>0</td>\n",
              "      <td>0</td>\n",
              "      <td>0</td>\n",
              "      <td>0</td>\n",
              "      <td>1</td>\n",
              "    </tr>\n",
              "    <tr>\n",
              "      <th>54315</th>\n",
              "      <td>5.000000</td>\n",
              "      <td>1</td>\n",
              "      <td>0</td>\n",
              "      <td>0</td>\n",
              "      <td>0</td>\n",
              "      <td>0</td>\n",
              "      <td>0</td>\n",
              "      <td>0</td>\n",
              "      <td>0</td>\n",
              "      <td>1</td>\n",
              "      <td>0</td>\n",
              "      <td>0</td>\n",
              "      <td>0</td>\n",
              "      <td>0</td>\n",
              "      <td>0</td>\n",
              "      <td>0</td>\n",
              "      <td>0</td>\n",
              "      <td>0</td>\n",
              "      <td>0</td>\n",
              "      <td>0</td>\n",
              "      <td>0</td>\n",
              "      <td>1</td>\n",
              "      <td>0</td>\n",
              "      <td>0</td>\n",
              "      <td>0</td>\n",
              "      <td>0</td>\n",
              "      <td>0</td>\n",
              "      <td>0</td>\n",
              "      <td>0</td>\n",
              "      <td>0</td>\n",
              "      <td>0</td>\n",
              "      <td>1</td>\n",
              "      <td>0</td>\n",
              "      <td>0</td>\n",
              "      <td>0</td>\n",
              "      <td>0</td>\n",
              "    </tr>\n",
              "    <tr>\n",
              "      <th>50647</th>\n",
              "      <td>5.465622</td>\n",
              "      <td>0</td>\n",
              "      <td>0</td>\n",
              "      <td>0</td>\n",
              "      <td>0</td>\n",
              "      <td>0</td>\n",
              "      <td>0</td>\n",
              "      <td>0</td>\n",
              "      <td>0</td>\n",
              "      <td>1</td>\n",
              "      <td>0</td>\n",
              "      <td>0</td>\n",
              "      <td>0</td>\n",
              "      <td>0</td>\n",
              "      <td>0</td>\n",
              "      <td>0</td>\n",
              "      <td>0</td>\n",
              "      <td>0</td>\n",
              "      <td>1</td>\n",
              "      <td>0</td>\n",
              "      <td>0</td>\n",
              "      <td>1</td>\n",
              "      <td>1</td>\n",
              "      <td>0</td>\n",
              "      <td>0</td>\n",
              "      <td>0</td>\n",
              "      <td>0</td>\n",
              "      <td>0</td>\n",
              "      <td>0</td>\n",
              "      <td>0</td>\n",
              "      <td>0</td>\n",
              "      <td>0</td>\n",
              "      <td>0</td>\n",
              "      <td>0</td>\n",
              "      <td>0</td>\n",
              "      <td>0</td>\n",
              "    </tr>\n",
              "  </tbody>\n",
              "</table>\n",
              "</div>"
            ],
            "text/plain": [
              "       beer_abv  brewery_bar  ...  area_United Kingdom  area_Wisconsin\n",
              "19339  5.000000            0  ...                    0               0\n",
              "36019  8.100000            1  ...                    0               0\n",
              "3391   4.100000            0  ...                    0               0\n",
              "2346   6.100000            1  ...                    0               0\n",
              "8733   4.500000            0  ...                    0               0\n",
              "37430  5.000000            1  ...                    0               0\n",
              "32407  3.500000            1  ...                    0               0\n",
              "35364  5.000000            1  ...                    0               1\n",
              "54315  5.000000            1  ...                    0               0\n",
              "50647  5.465622            0  ...                    0               0\n",
              "\n",
              "[10 rows x 36 columns]"
            ]
          },
          "metadata": {
            "tags": []
          },
          "execution_count": 20
        }
      ]
    },
    {
      "cell_type": "code",
      "metadata": {
        "id": "yByYfrT-8Qfm",
        "colab": {
          "base_uri": "https://localhost:8080/"
        },
        "outputId": "eef7446d-3760-4412-df40-6d4e016397aa"
      },
      "source": [
        "df.shape"
      ],
      "execution_count": 21,
      "outputs": [
        {
          "output_type": "execute_result",
          "data": {
            "text/plain": [
              "(57171, 36)"
            ]
          },
          "metadata": {
            "tags": []
          },
          "execution_count": 21
        }
      ]
    },
    {
      "cell_type": "markdown",
      "metadata": {
        "id": "O84ZvDasqJLr"
      },
      "source": [
        "## Train / Test Split"
      ]
    },
    {
      "cell_type": "code",
      "metadata": {
        "id": "aYGcx_2YGYoJ"
      },
      "source": [
        "from sklearn.model_selection import train_test_split"
      ],
      "execution_count": 22,
      "outputs": []
    },
    {
      "cell_type": "code",
      "metadata": {
        "id": "AzeSZUBSGc72"
      },
      "source": [
        "X = df.drop(['cluster_target'], axis=1)\n",
        "y = df['cluster_target']"
      ],
      "execution_count": 23,
      "outputs": []
    },
    {
      "cell_type": "code",
      "metadata": {
        "id": "33NXQ7chGm1H"
      },
      "source": [
        "X_train, X_test, y_train, y_test = train_test_split(X, y, test_size=.25, random_state=293)"
      ],
      "execution_count": 24,
      "outputs": []
    },
    {
      "cell_type": "markdown",
      "metadata": {
        "id": "7upZGt_hqULo"
      },
      "source": [
        "## Scaling Data"
      ]
    },
    {
      "cell_type": "code",
      "metadata": {
        "id": "4toGSKt9PfEj"
      },
      "source": [
        "X_train_dummy = X_train.drop(columns='beer_abv')\n",
        "X_test_dummy = X_test.drop(columns='beer_abv')"
      ],
      "execution_count": 25,
      "outputs": []
    },
    {
      "cell_type": "code",
      "metadata": {
        "id": "wFEf-VhILqVt"
      },
      "source": [
        "from sklearn.preprocessing import StandardScaler\n",
        "\n",
        "scaler = StandardScaler()\n",
        "scaler.fit(X_train)\n",
        "X_train_scaled = scaler.transform(X_train)\n",
        "X_test_scaled = scaler.transform(X_test)"
      ],
      "execution_count": 26,
      "outputs": []
    },
    {
      "cell_type": "code",
      "metadata": {
        "id": "TXtBZm84QkPa"
      },
      "source": [
        "X_train_scaled = pd.DataFrame(X_train_scaled, columns=list(X_train.columns))\n",
        "X_test_scaled = pd.DataFrame(X_test_scaled, columns=list(X_test.columns))"
      ],
      "execution_count": 27,
      "outputs": []
    },
    {
      "cell_type": "code",
      "metadata": {
        "id": "yUwQszW2Qy39"
      },
      "source": [
        "X_train = pd.concat([X_train_scaled['beer_abv'], X_train_dummy.reset_index().drop(columns='index')], axis=1)\n",
        "X_test = pd.concat([X_test_scaled['beer_abv'], X_test_dummy.reset_index().drop(columns='index')], axis=1)"
      ],
      "execution_count": 28,
      "outputs": []
    },
    {
      "cell_type": "code",
      "metadata": {
        "colab": {
          "base_uri": "https://localhost:8080/"
        },
        "id": "3v9VzXNkP_QF",
        "outputId": "c479d189-9b3f-4a46-faa9-13a47837c72a"
      },
      "source": [
        "print(X_train.shape)\n",
        "print(X_test.shape)"
      ],
      "execution_count": 29,
      "outputs": [
        {
          "output_type": "stream",
          "text": [
            "(42878, 35)\n",
            "(14293, 35)\n"
          ],
          "name": "stdout"
        }
      ]
    },
    {
      "cell_type": "markdown",
      "metadata": {
        "id": "a4cnw9t0Rgkc"
      },
      "source": [
        "## Rebalancing the Data"
      ]
    },
    {
      "cell_type": "markdown",
      "metadata": {
        "id": "Muu2ZbvESQZn"
      },
      "source": [
        "As we saw earlier, our target class is imbalanced with 3,143 (1) to 54,028 (0). This imblance can impact on the learning phase and the subsequent prediction of machine learning algorithms we look to apply. In general the greater the imbalanced ratio, the decision function will favor the class with the larger number of samples (referred as the majority class).\n",
        "\n",
        "To avoid this issue impacting on our modelling we will look to rebalance our dataset using random sampling. This is process where we look to balance our training dataset by either randomly reducing our majority class samples (Under Sampling) or randomly increasing our minority class samples (Over Sampling). For our data, we will focus on Over Sampling.  \n",
        "\n",
        "The simplest way to do this is to generate new samples by randomly sampling with replacement the current available samples. This can done using imbalanced learn (imblearn) RandomOverSampler function. Another approach to this is using either the SMOTE and ADASYN function in imblearn's package which generate new samples by interpolation. \n",
        "\n",
        "For the purposes of this project, we will using the SMOTE fucntion.\n",
        "\n",
        "https://imbalanced-learn.org/stable/introduction.html \n",
        "\n",
        "https://imbalanced-learn.org/stable/over_sampling.html\n",
        "\n",
        "https://imbalanced-learn.org/stable/common_pitfalls.html"
      ]
    },
    {
      "cell_type": "code",
      "metadata": {
        "colab": {
          "base_uri": "https://localhost:8080/"
        },
        "id": "Honhf_yxRwVh",
        "outputId": "a805ce80-b874-46f3-97ca-9adf56a18f4e"
      },
      "source": [
        "from imblearn.over_sampling import SMOTE\n",
        "\n",
        "sm = SMOTE(random_state=354)\n",
        "\n",
        "X_train_resampled, y_train_resampled = sm.fit_resample(X_train, y_train)"
      ],
      "execution_count": 30,
      "outputs": [
        {
          "output_type": "stream",
          "text": [
            "/usr/local/lib/python3.7/dist-packages/sklearn/externals/six.py:31: FutureWarning: The module is deprecated in version 0.21 and will be removed in version 0.23 since we've dropped support for Python 2.7. Please rely on the official version of six (https://pypi.org/project/six/).\n",
            "  \"(https://pypi.org/project/six/).\", FutureWarning)\n",
            "/usr/local/lib/python3.7/dist-packages/sklearn/utils/deprecation.py:144: FutureWarning: The sklearn.neighbors.base module is  deprecated in version 0.22 and will be removed in version 0.24. The corresponding classes / functions should instead be imported from sklearn.neighbors. Anything that cannot be imported from sklearn.neighbors is now part of the private API.\n",
            "  warnings.warn(message, FutureWarning)\n",
            "/usr/local/lib/python3.7/dist-packages/sklearn/utils/deprecation.py:87: FutureWarning: Function safe_indexing is deprecated; safe_indexing is deprecated in version 0.22 and will be removed in version 0.24.\n",
            "  warnings.warn(msg, category=FutureWarning)\n"
          ],
          "name": "stderr"
        }
      ]
    },
    {
      "cell_type": "code",
      "metadata": {
        "id": "aVMRJ5tm2qnV"
      },
      "source": [
        "X_train_resampled = pd.DataFrame(X_train_resampled, columns=list(X_train.columns))"
      ],
      "execution_count": 31,
      "outputs": []
    },
    {
      "cell_type": "code",
      "metadata": {
        "colab": {
          "base_uri": "https://localhost:8080/"
        },
        "id": "D64y9ugNYui3",
        "outputId": "b1762dac-b01a-4bbd-e3e2-ba0036cf87c8"
      },
      "source": [
        "X_train_resampled.shape"
      ],
      "execution_count": 32,
      "outputs": [
        {
          "output_type": "execute_result",
          "data": {
            "text/plain": [
              "(81064, 35)"
            ]
          },
          "metadata": {
            "tags": []
          },
          "execution_count": 32
        }
      ]
    },
    {
      "cell_type": "code",
      "metadata": {
        "colab": {
          "base_uri": "https://localhost:8080/"
        },
        "id": "C0YDqi5zZSBn",
        "outputId": "55e4590b-d4cd-4633-e4c6-7110eb26c85e"
      },
      "source": [
        "y_train_resampled.shape"
      ],
      "execution_count": 33,
      "outputs": [
        {
          "output_type": "execute_result",
          "data": {
            "text/plain": [
              "(81064,)"
            ]
          },
          "metadata": {
            "tags": []
          },
          "execution_count": 33
        }
      ]
    },
    {
      "cell_type": "markdown",
      "metadata": {
        "id": "NT0AQLSeanPX"
      },
      "source": [
        "## Recursive Feature Engineering"
      ]
    },
    {
      "cell_type": "markdown",
      "metadata": {
        "id": "RAibcOpc83N6"
      },
      "source": [
        "Lastly, we want to see if we can reduce the number of features in our dataset before applying it to our models.\n",
        "\n",
        "To do this, we will apply Recursive Feature Engineering model that identifies the optimal number of features by repeately running a model to measure performance and rank features and dropping the least important feature until it runs out features. This will then suggest the optimal number of features based on the performance\n",
        "\n",
        "\n",
        "To do this, we will apply Recursive Feature Engineering model that identifies the optimal number of features by recursively considering smaller and smaller sets of features. Intially, the model is estimated on all featues and the importance of each is ranked - with the lowest being dropped. This process continues until there is no more features remaing. The optimal number of features is then decided by the model which performs best - in our cases this is accuracy.\n",
        "\n",
        "The results of the model suggest 29 features is the optimatl with 7 features being dropped:\n",
        "* area_Canada \n",
        "* area_United Kingdom \n",
        "* style_Wheat Beer\n",
        "* region_USA\n",
        "* style_Strong Ale \n",
        "* area_Germany"
      ]
    },
    {
      "cell_type": "code",
      "metadata": {
        "colab": {
          "base_uri": "https://localhost:8080/"
        },
        "id": "TrnnlYWdamrq",
        "outputId": "c9fdbb0c-08e6-49d5-a175-dd6e3d94867c"
      },
      "source": [
        "from sklearn.feature_selection import RFECV\n",
        "from sklearn.ensemble import GradientBoostingClassifier\n",
        "from sklearn.model_selection import StratifiedKFold\n",
        "\n",
        "estimator = GradientBoostingClassifier(random_state=41)\n",
        "cv = StratifiedKFold(n_splits=3, random_state=368)\n",
        "rfecv = RFECV(estimator, step=1, scoring='accuracy', cv=cv)\n",
        "rfecv.fit(X_train_resampled, y_train_resampled)"
      ],
      "execution_count": 34,
      "outputs": [
        {
          "output_type": "stream",
          "text": [
            "/usr/local/lib/python3.7/dist-packages/sklearn/model_selection/_split.py:296: FutureWarning: Setting a random_state has no effect since shuffle is False. This will raise an error in 0.24. You should leave random_state to its default (None), or set shuffle=True.\n",
            "  FutureWarning\n"
          ],
          "name": "stderr"
        },
        {
          "output_type": "execute_result",
          "data": {
            "text/plain": [
              "RFECV(cv=StratifiedKFold(n_splits=3, random_state=368, shuffle=False),\n",
              "      estimator=GradientBoostingClassifier(ccp_alpha=0.0,\n",
              "                                           criterion='friedman_mse', init=None,\n",
              "                                           learning_rate=0.1, loss='deviance',\n",
              "                                           max_depth=3, max_features=None,\n",
              "                                           max_leaf_nodes=None,\n",
              "                                           min_impurity_decrease=0.0,\n",
              "                                           min_impurity_split=None,\n",
              "                                           min_samples_leaf=1,\n",
              "                                           min_samples_split=2,\n",
              "                                           min_weight_fraction_leaf=0.0,\n",
              "                                           n_estimators=100,\n",
              "                                           n_iter_no_change=None,\n",
              "                                           presort='deprecated',\n",
              "                                           random_state=41, subsample=1.0,\n",
              "                                           tol=0.0001, validation_fraction=0.1,\n",
              "                                           verbose=0, warm_start=False),\n",
              "      min_features_to_select=1, n_jobs=None, scoring='accuracy', step=1,\n",
              "      verbose=0)"
            ]
          },
          "metadata": {
            "tags": []
          },
          "execution_count": 34
        }
      ]
    },
    {
      "cell_type": "code",
      "metadata": {
        "colab": {
          "base_uri": "https://localhost:8080/"
        },
        "id": "ANvuEuRw0nsZ",
        "outputId": "304463bd-dfdb-48d2-9f68-f8ef9352c035"
      },
      "source": [
        "cols = rfecv.get_support(indices=True)\n",
        "\n",
        "X_rfecv = X_train_resampled.iloc[:,cols]\n",
        "\n",
        "X_rfecv.head()\n",
        "X_rfecv.shape\n",
        "#X_rfecv.columns"
      ],
      "execution_count": 35,
      "outputs": [
        {
          "output_type": "execute_result",
          "data": {
            "text/plain": [
              "(81064, 29)"
            ]
          },
          "metadata": {
            "tags": []
          },
          "execution_count": 35
        }
      ]
    },
    {
      "cell_type": "code",
      "metadata": {
        "colab": {
          "base_uri": "https://localhost:8080/",
          "height": 624
        },
        "id": "SE3dluBC22MK",
        "outputId": "984c2d62-a7ce-486a-9f5b-8075b99dcddd"
      },
      "source": [
        "plt.figure(figsize=(16, 9))\n",
        "plt.title('Recursive Feature Elimination with Cross-Validation', fontsize=18, fontweight='bold', pad=20)\n",
        "plt.xlabel('Number of features selected', fontsize=14, labelpad=20)\n",
        "plt.ylabel('% Mean Squared Error', fontsize=14, labelpad=20)\n",
        "plt.plot(range(1, len(rfecv.grid_scores_) + 1), rfecv.grid_scores_, color='#303F9F', linewidth=3)\n",
        "\n",
        "plt.show()\n",
        "\n",
        "print(\"Optimal number of features : %d\" % rfecv.n_features_)"
      ],
      "execution_count": 36,
      "outputs": [
        {
          "output_type": "display_data",
          "data": {
            "image/png": "[encoded data removed]",
            "text/plain": [
              "<Figure size 1152x648 with 1 Axes>"
            ]
          },
          "metadata": {
            "tags": [],
            "needs_background": "light"
          }
        },
        {
          "output_type": "stream",
          "text": [
            "Optimal number of features : 29\n"
          ],
          "name": "stdout"
        }
      ]
    },
    {
      "cell_type": "code",
      "metadata": {
        "colab": {
          "base_uri": "https://localhost:8080/",
          "height": 878
        },
        "id": "LoAuvLEq2-bN",
        "outputId": "8c65ced9-8c98-4a7a-ef5a-e25bd0cb795a"
      },
      "source": [
        "dset = pd.DataFrame()\n",
        "dset['attr'] = X_rfecv.columns\n",
        "dset['importance'] = np.absolute(rfecv.estimator_.feature_importances_)\n",
        "\n",
        "dset = dset.sort_values(by='importance', ascending=True)\n",
        "\n",
        "plt.figure(figsize=(16, 14))\n",
        "plt.barh(y=dset['attr'], width=dset['importance'], color='#1976D2')\n",
        "plt.title('RFECV - Feature Importances', fontsize=20, fontweight='bold', pad=20)\n",
        "plt.xlabel('Importance', fontsize=14, labelpad=20)\n",
        "plt.show()"
      ],
      "execution_count": 37,
      "outputs": [
        {
          "output_type": "display_data",
          "data": {
            "image/png": "[encoded data removed]",
            "text/plain": [
              "<Figure size 1152x1008 with 1 Axes>"
            ]
          },
          "metadata": {
            "tags": [],
            "needs_background": "light"
          }
        }
      ]
    },
    {
      "cell_type": "code",
      "metadata": {
        "id": "BeJBdNJt4hBz"
      },
      "source": [
        "#rfecv.support_\n",
        "#rfecv.ranking_"
      ],
      "execution_count": 38,
      "outputs": []
    },
    {
      "cell_type": "code",
      "metadata": {
        "colab": {
          "base_uri": "https://localhost:8080/"
        },
        "id": "msg5CSWo7t0_",
        "outputId": "d27f6280-d80c-499e-f422-f54c3d6d591d"
      },
      "source": [
        "drop_cols = list(set(X_train_resampled.columns).difference(X_rfecv.columns))\n",
        "print(drop_cols)"
      ],
      "execution_count": 39,
      "outputs": [
        {
          "output_type": "stream",
          "text": [
            "['area_United Kingdom', 'style_Strong Ale', 'region_USA', 'area_Germany', 'style_Wheat Beer', 'area_Canada']\n"
          ],
          "name": "stdout"
        }
      ]
    },
    {
      "cell_type": "markdown",
      "metadata": {
        "id": "DKrSQk9dBlNZ"
      },
      "source": [
        "## Final Data for Modelling"
      ]
    },
    {
      "cell_type": "code",
      "metadata": {
        "id": "65oQqEgKBNns"
      },
      "source": [
        "X_train = rfecv.transform(X_train_resampled)\n",
        "X_test = rfecv.transform(X_test)"
      ],
      "execution_count": 40,
      "outputs": []
    },
    {
      "cell_type": "code",
      "metadata": {
        "id": "LjsCf_JOBhAp"
      },
      "source": [
        "y_train = y_train_resampled"
      ],
      "execution_count": 41,
      "outputs": []
    }
  ]
}